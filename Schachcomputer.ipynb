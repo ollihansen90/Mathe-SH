{
  "nbformat": 4,
  "nbformat_minor": 0,
  "metadata": {
    "colab": {
      "provenance": [],
      "authorship_tag": "ABX9TyNt46mbHnzz7lsVkDeJV+IB",
      "include_colab_link": true
    },
    "kernelspec": {
      "name": "python3",
      "display_name": "Python 3"
    },
    "language_info": {
      "name": "python"
    }
  },
  "cells": [
    {
      "cell_type": "markdown",
      "metadata": {
        "id": "view-in-github",
        "colab_type": "text"
      },
      "source": [
        "<a href=\"https://colab.research.google.com/github/ollihansen90/Mathe-SH/blob/main/Schachcomputer.ipynb\" target=\"_parent\"><img src=\"https://colab.research.google.com/assets/colab-badge.svg\" alt=\"Open In Colab\"/></a>"
      ]
    },
    {
      "cell_type": "code",
      "execution_count": 42,
      "metadata": {
        "colab": {
          "base_uri": "https://localhost:8080/"
        },
        "id": "0jfTY-sPGz7b",
        "outputId": "92aabfbb-f9e2-459f-e203-661c4116000e"
      },
      "outputs": [
        {
          "output_type": "stream",
          "name": "stdout",
          "text": [
            "[[-4, -2, -3, -5, -6, -3, -2, -4], [-1, -1, -1, -1, -1, -1, -1, -1], [0, 0, 0, 0, 0, 0, 0, 0], [0, 0, 0, 0, 0, 0, 0, 0], [0, 0, 0, 0, 0, 0, 0, 0], [0, 0, 0, 0, 0, 0, 0, 0], [1, 1, 1, 1, 1, 1, 1, 1], [4, 2, 3, 5, 6, 3, 2, 4]]\n",
            "leer \u001b[97m♙\u001b[30m\n",
            "bauer ♟\n",
            "springer ♞\n",
            "laeufer ♝\n",
            "turm ♜\n",
            "dame ♛\n",
            "koenig ♚\n",
            "\u001b[107m\u001b[8m♜\u001b[47m\u001b[8m♞\u001b[107m\u001b[8m♝\u001b[47m\u001b[8m♛\u001b[107m\u001b[8m♚\u001b[47m\u001b[8m♝\u001b[107m\u001b[8m♞\u001b[47m\u001b[8m♜\n",
            "\u001b[47m\u001b[8m♟\u001b[107m\u001b[8m♟\u001b[47m\u001b[8m♟\u001b[107m\u001b[8m♟\u001b[47m\u001b[8m♟\u001b[107m\u001b[8m♟\u001b[47m\u001b[8m♟\u001b[107m\u001b[8m♟\n",
            "\u001b[107m\u001b[8m\u001b[97m♙\u001b[30m\u001b[47m\u001b[8m\u001b[97m♙\u001b[30m\u001b[107m\u001b[8m\u001b[97m♙\u001b[30m\u001b[47m\u001b[8m\u001b[97m♙\u001b[30m\u001b[107m\u001b[8m\u001b[97m♙\u001b[30m\u001b[47m\u001b[8m\u001b[97m♙\u001b[30m\u001b[107m\u001b[8m\u001b[97m♙\u001b[30m\u001b[47m\u001b[8m\u001b[97m♙\u001b[30m\n",
            "\u001b[47m\u001b[8m\u001b[97m♙\u001b[30m\u001b[107m\u001b[8m\u001b[97m♙\u001b[30m\u001b[47m\u001b[8m\u001b[97m♙\u001b[30m\u001b[107m\u001b[8m\u001b[97m♙\u001b[30m\u001b[47m\u001b[8m\u001b[97m♙\u001b[30m\u001b[107m\u001b[8m\u001b[97m♙\u001b[30m\u001b[47m\u001b[8m\u001b[97m♙\u001b[30m\u001b[107m\u001b[8m\u001b[97m♙\u001b[30m\n",
            "\u001b[107m\u001b[8m\u001b[97m♙\u001b[30m\u001b[47m\u001b[8m\u001b[97m♙\u001b[30m\u001b[107m\u001b[8m\u001b[97m♙\u001b[30m\u001b[47m\u001b[8m\u001b[97m♙\u001b[30m\u001b[107m\u001b[8m\u001b[97m♙\u001b[30m\u001b[47m\u001b[8m\u001b[97m♙\u001b[30m\u001b[107m\u001b[8m\u001b[97m♙\u001b[30m\u001b[47m\u001b[8m\u001b[97m♙\u001b[30m\n",
            "\u001b[47m\u001b[8m\u001b[97m♙\u001b[30m\u001b[107m\u001b[8m\u001b[97m♙\u001b[30m\u001b[47m\u001b[8m\u001b[97m♙\u001b[30m\u001b[107m\u001b[8m\u001b[97m♙\u001b[30m\u001b[47m\u001b[8m\u001b[97m♙\u001b[30m\u001b[107m\u001b[8m\u001b[97m♙\u001b[30m\u001b[47m\u001b[8m\u001b[97m♙\u001b[30m\u001b[107m\u001b[8m\u001b[97m♙\u001b[30m\n",
            "\u001b[107m\u001b[8m♙\u001b[47m\u001b[8m♙\u001b[107m\u001b[8m♙\u001b[47m\u001b[8m♙\u001b[107m\u001b[8m♙\u001b[47m\u001b[8m♙\u001b[107m\u001b[8m♙\u001b[47m\u001b[8m♙\n",
            "\u001b[47m\u001b[8m♖\u001b[107m\u001b[8m♘\u001b[47m\u001b[8m♗\u001b[107m\u001b[8m♕\u001b[47m\u001b[8m♔\u001b[107m\u001b[8m♗\u001b[47m\u001b[8m♘\u001b[107m\u001b[8m♖\n",
            "\n"
          ]
        }
      ],
      "source": [
        "bauer = 1 # 1\n",
        "springer = 2 # 3\n",
        "laeufer = 3 # 3\n",
        "turm = 4 # 5\n",
        "dame = 5 # 9\n",
        "koenig = 6 # 100\n",
        "leer = 0\n",
        "\n",
        "schachbrett = [\n",
        "    [-turm, -springer, -laeufer, -dame, -koenig, -laeufer, -springer, -turm],\n",
        "    [-bauer, -bauer, -bauer, -bauer, -bauer, -bauer, -bauer, -bauer],\n",
        "    [leer, leer, leer, leer, leer, leer, leer, leer],\n",
        "    [leer, leer, leer, leer, leer, leer, leer, leer],\n",
        "    [leer, leer, leer, leer, leer, leer, leer, leer],\n",
        "    [leer, leer, leer, leer, leer, leer, leer, leer],\n",
        "    [bauer, bauer, bauer, bauer, bauer, bauer, bauer, bauer],\n",
        "    [turm, springer, laeufer, dame, koenig, laeufer, springer, turm]\n",
        "]\n",
        "\n",
        "print(schachbrett)\n",
        "figuren = [\"\\x1b[97m\\u2659\\x1b[30m\", \"\\u2659\",\"\\u2658\",\"\\u2657\",\"\\u2656\",\"\\u2655\",\"\\u2654\",\"\\u265A\",\"\\u265B\",\"\\u265C\",\"\\u265D\",\"\\u265E\",\"\\u265F\"]\n",
        "print(\"leer\" ,figuren[-leer])\n",
        "print(\"bauer\" ,figuren[-bauer])\n",
        "print(\"springer\" ,figuren[-springer])\n",
        "print(\"laeufer\" ,figuren[-laeufer])\n",
        "print(\"turm\" ,figuren[-turm])\n",
        "print(\"dame\" ,figuren[-dame])\n",
        "print(\"koenig\" ,figuren[-koenig])\n",
        "\n",
        "def print_brett(schachbrett):\n",
        "    output = ''\n",
        "    bg = [\"\\x1b[47m\", \"\\x1b[107m\"]\n",
        "    counter = 0\n",
        "    for reihe in schachbrett:\n",
        "        counter += 1\n",
        "        for feld in reihe:\n",
        "            output += bg[counter%2]+\"\\x1b[8m\"+figuren[feld]\n",
        "            counter += 1\n",
        "        output += '\\n'\n",
        "    print(output)\n",
        "\n",
        "print_brett(schachbrett)\n"
      ]
    },
    {
      "cell_type": "code",
      "source": [
        "schachbrett_fig = [[figuren[fig] for fig in lis] for lis in schachbrett]\n",
        "print(*schachbrett_fig, sep=\"\\n\")"
      ],
      "metadata": {
        "colab": {
          "base_uri": "https://localhost:8080/"
        },
        "id": "Fiz_re82OGEY",
        "outputId": "9484b193-3781-452c-89e3-d397c565af6f"
      },
      "execution_count": 26,
      "outputs": [
        {
          "output_type": "stream",
          "name": "stdout",
          "text": [
            "['♜', '♞', '♝', '♛', '♚', '♝', '♞', '♜']\n",
            "['♟', '♟', '♟', '♟', '♟', '♟', '♟', '♟']\n",
            "['  ', '  ', '  ', '  ', '  ', '  ', '  ', '  ']\n",
            "['  ', '  ', '  ', '  ', '  ', '  ', '  ', '  ']\n",
            "['  ', '  ', '  ', '  ', '  ', '  ', '  ', '  ']\n",
            "['  ', '  ', '  ', '  ', '  ', '  ', '  ', '  ']\n",
            "['♙', '♙', '♙', '♙', '♙', '♙', '♙', '♙']\n",
            "['♖', '♘', '♗', '♕', '♔', '♗', '♘', '♖']\n"
          ]
        }
      ]
    },
    {
      "cell_type": "code",
      "source": [
        "!python3 --version"
      ],
      "metadata": {
        "colab": {
          "base_uri": "https://localhost:8080/"
        },
        "id": "RVO0ooGWR5bA",
        "outputId": "299480f1-8095-4861-8d25-4e5108e25167"
      },
      "execution_count": 44,
      "outputs": [
        {
          "output_type": "stream",
          "name": "stdout",
          "text": [
            "Python 3.10.12\n"
          ]
        }
      ]
    }
  ]
}