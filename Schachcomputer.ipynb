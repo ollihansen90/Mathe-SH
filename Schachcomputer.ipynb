{
  "nbformat": 4,
  "nbformat_minor": 0,
  "metadata": {
    "colab": {
      "provenance": [],
      "authorship_tag": "ABX9TyN0oyfAcuz2JWbN2384BDCT",
      "include_colab_link": true
    },
    "kernelspec": {
      "name": "python3",
      "display_name": "Python 3"
    },
    "language_info": {
      "name": "python"
    }
  },
  "cells": [
    {
      "cell_type": "markdown",
      "metadata": {
        "id": "view-in-github",
        "colab_type": "text"
      },
      "source": [
        "<a href=\"https://colab.research.google.com/github/ollihansen90/Mathe-SH/blob/main/Schachcomputer.ipynb\" target=\"_parent\"><img src=\"https://colab.research.google.com/assets/colab-badge.svg\" alt=\"Open In Colab\"/></a>"
      ]
    },
    {
      "cell_type": "markdown",
      "source": [
        "# Schachcomputer\n"
      ],
      "metadata": {
        "id": "3Zzk1Q5JeAiW"
      }
    },
    {
      "cell_type": "markdown",
      "source": [
        "## Klassen"
      ],
      "metadata": {
        "id": "8ocqtpXXeKqy"
      }
    },
    {
      "cell_type": "code",
      "execution_count": null,
      "metadata": {
        "id": "0jfTY-sPGz7b"
      },
      "outputs": [],
      "source": [
        "#https://raw.githubusercontent.com/prateeksan/chesspi/development/sample_data/Kasparov.pgn\n",
        "# TODO: Patt, (Rochade), En Passant, (Bauernumwandlung)\n",
        "!wget -nc https://raw.githubusercontent.com/ollihansen90/Mathe-SH/refs/heads/main/utils/schach_utils.py\n",
        "\n",
        "if False:\n",
        "    schachbrett.reset()\n",
        "    schachbrett[\"E2\"] = leer\n",
        "    schachbrett.male()\n",
        "    moegliche_zuege = get_alle_bewegungen(schachbrett)\n",
        "    print(moegliche_zuege)\n",
        "    print(moegliche_zuege[randint(0,len(moegliche_zuege)-1)])\n",
        "\n",
        "    schachbrett = Spielfeld()\n",
        "    schachbrett2 = Spielfeld()\n",
        "    schachbrett.male()\n",
        "\n",
        "    schachbrett[\"E2\"] = leer\n",
        "    schachbrett[\"E3\"] = bauer\n",
        "    schachbrett.male()"
      ]
    },
    {
      "cell_type": "markdown",
      "source": [
        "## Züge"
      ],
      "metadata": {
        "id": "XtbsFdSjeOKD"
      }
    },
    {
      "cell_type": "markdown",
      "source": [
        "# Bewertungsfunktion"
      ],
      "metadata": {
        "id": "dgDUSv9SeRLm"
      }
    },
    {
      "cell_type": "code",
      "source": [
        "leer = 0\n",
        "bauer = 1\n",
        "\n",
        "schachbrett = Spielfeld()\n",
        "schachbrett.reset()\n",
        "schachbrett[\"H7\"] = leer\n",
        "schachbrett[\"C2\"] = leer\n",
        "schachbrett[\"E2\"] = leer\n",
        "schachbrett[\"G2\"] = leer\n",
        "schachbrett[\"D2\"] = leer\n",
        "schachbrett[\"D4\"] = bauer\n",
        "schachbrett[\"F3\"] = bauer\n",
        "schachbrett.male()\n",
        "print(berechne_wert(schachbrett))\n",
        "schachbrett.male()"
      ],
      "metadata": {
        "id": "dn457214iq8i"
      },
      "execution_count": null,
      "outputs": []
    },
    {
      "cell_type": "code",
      "source": [
        "import copy\n",
        "from random import randint\n",
        "\n",
        "def argsort(l):\n",
        "    liste = l[:]\n",
        "    output = []\n",
        "    kleinster_wert = -1000000000000000000\n",
        "    for _ in range(len(liste)):\n",
        "        kleinster = 100000000000000000000000\n",
        "        kleinstes_i = 0\n",
        "        for i in range(len(liste)):\n",
        "            if liste[i]<kleinster and liste[i]>=kleinster_wert:\n",
        "                #print(liste[i], kleinster)\n",
        "                kleinster = liste[i]\n",
        "                kleinstes_i = i\n",
        "        kleinster_wert = kleinster\n",
        "        output.append(kleinstes_i)\n",
        "        liste[kleinstes_i] = 100000000\n",
        "    return output\n",
        "\n",
        "def waehle_zufall(scores):\n",
        "    #print(scores)\n",
        "    scores = [(eintrag-min(scores)+1)**2 for eintrag in scores]\n",
        "    #print(scores)\n",
        "    z = randint(0,int(2*sum(scores)))\n",
        "    for i in range(len(scores)):\n",
        "        eintrag = scores[i]\n",
        "        z -= 2*eintrag\n",
        "        if z<1:\n",
        "            return i\n",
        "\n",
        "def ki_zug(schachbrett):\n",
        "    zuege = get_alle_bewegungen(schachbrett)\n",
        "    hilfsbrett = Spielfeld()\n",
        "    werte = []\n",
        "    for z in zuege:\n",
        "        # hilfsbrett.feld = schachbrett.feld\n",
        "        hilfsbrett.feld = copy.deepcopy(schachbrett.feld)\n",
        "        zug(hilfsbrett, z)\n",
        "        werte.append(berechne_wert(hilfsbrett))\n",
        "    #print(zuege)\n",
        "    #print(werte)\n",
        "    #hilfsbrett.male()\n",
        "    zuege = [zuege[i] for i in argsort(werte)][::-1]\n",
        "    #print(sorted(werte))\n",
        "    next_zug = zuege[waehle_zufall(sorted(werte, reverse=True)[:len(werte)//3])]\n",
        "    return next_zug\n",
        "\n",
        "def ki_zug_det(schachbrett):\n",
        "    zuege = get_alle_bewegungen(schachbrett)\n",
        "    hilfsbrett = Spielfeld()\n",
        "    werte = []\n",
        "    for z in zuege:\n",
        "        hilfsbrett.feld = copy.deepcopy(schachbrett.feld)\n",
        "        zug(hilfsbrett, z)\n",
        "        werte.append(berechne_wert(hilfsbrett))\n",
        "    zuege = [zuege[i] for i in argsort(werte)][::-1]\n",
        "    #print(list(zip(zuege, sorted(werte)[::-1])))\n",
        "    next_zug = zuege[0]\n",
        "    return next_zug\n",
        "\n",
        "def ki_minimax(schachbrett):\n",
        "    zuege = get_alle_bewegungen(schachbrett)\n",
        "    hilfsbrett = Spielfeld()\n",
        "    werte = []\n",
        "    for z in zuege:\n",
        "        #print(z, end=\" \")\n",
        "        hilfsbrett.feld = copy.deepcopy(schachbrett.feld)\n",
        "        zug(hilfsbrett, z)\n",
        "        hilfsbrett.invertiere()\n",
        "        zug(hilfsbrett, ki_zug_det(hilfsbrett))\n",
        "        hilfsbrett.invertiere()\n",
        "        wert = berechne_wert(hilfsbrett)\n",
        "        werte.append(wert)\n",
        "    zuege = [zuege[i] for i in argsort(werte)][::-1]\n",
        "    next_zug = zuege[0]\n",
        "    return next_zug\n",
        "\n",
        "\n",
        "schachbrett = Spielfeld()\n",
        "schachbrett.reset()\n",
        "schachbrett.male()\n",
        "z = ki_minimax(schachbrett)\n",
        "zug(schachbrett, z)\n",
        "schachbrett.male()\n",
        "berechne_wert(schachbrett)"
      ],
      "metadata": {
        "id": "NhLzEFIVLXzz"
      },
      "execution_count": null,
      "outputs": []
    },
    {
      "cell_type": "code",
      "source": [
        "liste1 = [40,7,5,6,20,40,0,1,25,8]\n",
        "    #    [ 0,1,2,3, 4, 5,6,7, 8,9]\n",
        "#print(sorted(liste1))\n",
        "gesucht = [0,1,5,6,4,8,7,2,3]\n",
        "def argsort(l):\n",
        "    liste = l[:]\n",
        "    output = []\n",
        "    kleinster_wert = -1000000000000000000\n",
        "    for _ in range(len(liste)):\n",
        "        kleinster = 100000000000000000000000\n",
        "        kleinstes_i = 0\n",
        "        for i in range(len(liste)):\n",
        "            if liste[i]<kleinster and liste[i]>=kleinster_wert:\n",
        "                #print(liste[i], kleinster)\n",
        "                kleinster = liste[i]\n",
        "                kleinstes_i = i\n",
        "        kleinster_wert = kleinster\n",
        "        output.append(kleinstes_i)\n",
        "        liste[kleinstes_i] = 100000000\n",
        "    return output\n",
        "srt_idc = argsort(liste1)\n",
        "print(liste1)\n",
        "print(srt_idc)\n",
        "print([liste1[i] for i in srt_idc])\n",
        "print(sorted(list(range(len(liste1))), key=lambda x: liste1[x]))"
      ],
      "metadata": {
        "id": "mezOTjzJH5UV"
      },
      "execution_count": null,
      "outputs": []
    },
    {
      "cell_type": "code",
      "source": [
        "schachbrett = Spielfeld()\n",
        "schachbrett.reset()\n",
        "schachbrett.male()\n",
        "\n",
        "while True:\n",
        "    # Zug Weiß\n",
        "    print(get_alle_bewegungen(schachbrett))\n",
        "    print(berechne_wert(schachbrett))\n",
        "    z = input(\"Weiß gibt einen Zug ein: \")\n",
        "    while True:\n",
        "        if zug(schachbrett, z) == None:\n",
        "            break\n",
        "        z = input(\"Weiß gibt einen Zug ein: \")\n",
        "    schachbrett.male()\n",
        "\n",
        "    # Zug Schwarz\n",
        "    schachbrett.invertiere()\n",
        "    if False:\n",
        "        z = input(\"Schwarz gibt einen Zug ein: \")\n",
        "        z = flip_pos(z)\n",
        "        while True:\n",
        "            if zug(schachbrett, z) == None:\n",
        "                break\n",
        "            z = input(\"Schwarz gibt einen Zug ein: \")\n",
        "            z = flip_pos(z)\n",
        "\n",
        "    z = ki_minimax(schachbrett)\n",
        "    zug(schachbrett, z)\n",
        "    schachbrett.invertiere()\n",
        "    schachbrett.male()\n",
        "\n",
        "    # König weg?\n",
        "    schwarzer_koenig = False\n",
        "    weisser_koenig = False\n",
        "    for i in range(8):\n",
        "        for j in range(8):\n",
        "            if abs(schachbrett.feld[i][j])==koenig:\n",
        "                if schachbrett.feld[i][j]>0:\n",
        "                    weisser_koenig = True\n",
        "                else:\n",
        "                    schwarzer_koenig = True\n",
        "    if weisser_koenig and not schwarzer_koenig:\n",
        "        print(\"Weiß hat gewonnen!\")\n",
        "        break\n",
        "    elif schwarzer_koenig and not weisser_koenig:\n",
        "        print(\"Schwarz hat gewonnen!\")\n",
        "        break\n"
      ],
      "metadata": {
        "id": "TgYKPH02da5R"
      },
      "execution_count": null,
      "outputs": []
    },
    {
      "cell_type": "code",
      "source": [
        "test = [-3,-2,-1,0,1,2,3,2,6,43,2,5,4,2,1,2,7,8,9,7,5]\n",
        "n = len(test)//2\n",
        "test = sorted(test, reverse=True)[:n]\n",
        "\n",
        "def waehle_zufall(scores):\n",
        "    #print(scores)\n",
        "    scores = [eintrag-min(scores)+1 for eintrag in scores]\n",
        "    #print(scores)\n",
        "    z = randint(0,sum(scores))\n",
        "    for i in range(len(scores)):\n",
        "        eintrag = scores[i]\n",
        "        z -= eintrag\n",
        "        if z<1:\n",
        "            return i\n",
        "\n",
        "liste = 10*[0]\n",
        "for i in range(1000):\n",
        "    liste[waehle_zufall(test)] += 1\n",
        "\n",
        "print([i/max(test) for i in test])\n",
        "print([i/max(liste) for i in liste])\n",
        "print(liste)"
      ],
      "metadata": {
        "id": "gaCGbEW4TBmT"
      },
      "execution_count": null,
      "outputs": []
    },
    {
      "cell_type": "code",
      "source": [
        "!wget https://raw.githubusercontent.com/prateeksan/chesspi/development/sample_data/Kasparov.pgn -O \"Kasparov.txt\""
      ],
      "metadata": {
        "id": "j3B8gyvWV6kV"
      },
      "execution_count": null,
      "outputs": []
    },
    {
      "cell_type": "code",
      "source": [
        "with open(\"Kasparov.txt\", \"rb\") as file:\n",
        "    zeilen = file.readlines()\n"
      ],
      "metadata": {
        "id": "1oiBxR9NWNNZ"
      },
      "execution_count": null,
      "outputs": []
    },
    {
      "cell_type": "code",
      "source": [
        "spiele = (\"\\n\".join([z.decode('ascii').strip() for z in zeilen[:34000]])).split(\"\\n\\n\")[1::2]\n",
        "print(len(spiele))\n"
      ],
      "metadata": {
        "id": "yuNUqbbLhy1Y"
      },
      "execution_count": null,
      "outputs": []
    },
    {
      "cell_type": "code",
      "source": [
        "print(spiele[0])"
      ],
      "metadata": {
        "id": "64tiIAItYV4n"
      },
      "execution_count": null,
      "outputs": []
    },
    {
      "cell_type": "code",
      "source": [
        "spielliste = []\n",
        "\n",
        "for spiel in spiele:\n",
        "    spiel = spiel.replace(\"\\n\", \" \")\n",
        "    spiel_ohne_ergebnis = spiel.split(\"  \")[0]+\"  \"\n",
        "    zugliste = [z.split(\" \")[:2] for z in spiel_ohne_ergebnis.split(\".\")[1:]]\n",
        "    spielliste.append(zugliste)"
      ],
      "metadata": {
        "id": "LbciQEf0ZVf4"
      },
      "execution_count": null,
      "outputs": []
    },
    {
      "cell_type": "code",
      "source": [
        "print(*spielliste[0], sep=\"\\n\")"
      ],
      "metadata": {
        "id": "NfQw4LazX6ZQ"
      },
      "execution_count": null,
      "outputs": []
    },
    {
      "cell_type": "code",
      "source": [
        "import numpy as np\n",
        "import matplotlib.pyplot as plt\n",
        "\n",
        "feld = np.zeros([8,8])\n",
        "pos = get_index(\"B1\")\n",
        "feld[pos[0], pos[1]] += 1\n",
        "pos = get_index(\"G1\")\n",
        "feld[pos[0], pos[1]] += 1\n",
        "pos = get_index(\"B8\")\n",
        "feld[pos[0], pos[1]] += 1\n",
        "pos = get_index(\"G8\")\n",
        "feld[pos[0], pos[1]] += 1\n",
        "\n",
        "print(feld)\n",
        "for zugliste in spielliste:\n",
        "    for zug in zugliste:\n",
        "        for z in zug:\n",
        "            z = z.replace(\"+\", \"\")\n",
        "            if len(z)>0 and z[0]==\"K\":\n",
        "                pos = get_index(z[-2:])\n",
        "                feld[pos[0], pos[1]] += 1\n",
        "\n",
        "plt.figure()\n",
        "plt.imshow(feld)\n",
        "plt.colorbar()\n",
        "plt.show()\n"
      ],
      "metadata": {
        "id": "Uf7ktpQbYxza"
      },
      "execution_count": null,
      "outputs": []
    }
  ]
}