{
  "nbformat": 4,
  "nbformat_minor": 0,
  "metadata": {
    "colab": {
      "provenance": [],
      "authorship_tag": "ABX9TyMXLsE0/EQ6RxQvwsnQRK46",
      "include_colab_link": true
    },
    "kernelspec": {
      "name": "python3",
      "display_name": "Python 3"
    },
    "language_info": {
      "name": "python"
    }
  },
  "cells": [
    {
      "cell_type": "markdown",
      "metadata": {
        "id": "view-in-github",
        "colab_type": "text"
      },
      "source": [
        "<a href=\"https://colab.research.google.com/github/ollihansen90/Mathe-SH/blob/main/Schachcomputer.ipynb\" target=\"_parent\"><img src=\"https://colab.research.google.com/assets/colab-badge.svg\" alt=\"Open In Colab\"/></a>"
      ]
    },
    {
      "cell_type": "code",
      "execution_count": null,
      "metadata": {
        "colab": {
          "base_uri": "https://localhost:8080/"
        },
        "id": "0jfTY-sPGz7b",
        "outputId": "f4468f6a-1b30-4fda-9887-4b41ecd4b5ac"
      },
      "outputs": [
        {
          "output_type": "stream",
          "name": "stdout",
          "text": [
            "[[-4, -2, -3, -5, -6, -3, -2, -4], [-1, -1, -1, -1, -1, -1, -1, -1], [0, 0, 0, 0, 0, 0, 0, 0], [0, 0, 0, 0, 0, 0, 0, 0], [0, 0, 0, 0, 0, 0, 0, 0], [0, 0, 0, 0, 0, 0, 0, 0], [1, 1, 1, 1, 1, 1, 1, 1], [4, 2, 3, 5, 6, 3, 2, 4]]\n",
            "leer ♙\n",
            "bauer ♟\n",
            "springer ♞\n",
            "laeufer ♝\n",
            "turm ♜\n",
            "dame ♛\n",
            "koenig ♚\n",
            "\u001b[107m\u001b[30m♜\u001b[47m\u001b[30m♞\u001b[107m\u001b[30m♝\u001b[47m\u001b[30m♛\u001b[107m\u001b[30m♚\u001b[47m\u001b[30m♝\u001b[107m\u001b[30m♞\u001b[47m\u001b[30m♜\n",
            "\u001b[47m\u001b[30m♟\u001b[107m\u001b[30m♟\u001b[47m\u001b[30m♟\u001b[107m\u001b[30m♟\u001b[47m\u001b[30m♟\u001b[107m\u001b[30m♟\u001b[47m\u001b[30m♟\u001b[107m\u001b[30m♟\n",
            "\u001b[107m\u001b[97m♙\u001b[47m\u001b[37m♙\u001b[107m\u001b[97m♙\u001b[47m\u001b[37m♙\u001b[107m\u001b[97m♙\u001b[47m\u001b[37m♙\u001b[107m\u001b[97m♙\u001b[47m\u001b[37m♙\n",
            "\u001b[47m\u001b[37m♙\u001b[107m\u001b[97m♙\u001b[47m\u001b[37m♙\u001b[107m\u001b[97m♙\u001b[47m\u001b[37m♙\u001b[107m\u001b[97m♙\u001b[47m\u001b[37m♙\u001b[107m\u001b[97m♙\n",
            "\u001b[107m\u001b[97m♙\u001b[47m\u001b[37m♙\u001b[107m\u001b[97m♙\u001b[47m\u001b[37m♙\u001b[107m\u001b[97m♙\u001b[47m\u001b[37m♙\u001b[107m\u001b[97m♙\u001b[47m\u001b[37m♙\n",
            "\u001b[47m\u001b[37m♙\u001b[107m\u001b[97m♙\u001b[47m\u001b[37m♙\u001b[107m\u001b[97m♙\u001b[47m\u001b[37m♙\u001b[107m\u001b[97m♙\u001b[47m\u001b[37m♙\u001b[107m\u001b[97m♙\n",
            "\u001b[107m\u001b[30m♙\u001b[47m\u001b[30m♙\u001b[107m\u001b[30m♙\u001b[47m\u001b[30m♙\u001b[107m\u001b[30m♙\u001b[47m\u001b[30m♙\u001b[107m\u001b[30m♙\u001b[47m\u001b[30m♙\n",
            "\u001b[47m\u001b[30m♖\u001b[107m\u001b[30m♘\u001b[47m\u001b[30m♗\u001b[107m\u001b[30m♕\u001b[47m\u001b[30m♔\u001b[107m\u001b[30m♗\u001b[47m\u001b[30m♘\u001b[107m\u001b[30m♖\n",
            "\u001b[0m\n"
          ]
        }
      ],
      "source": [
        "bauer = 1 # 1\n",
        "springer = 2 # 3\n",
        "laeufer = 3 # 3\n",
        "turm = 4 # 5\n",
        "dame = 5 # 9\n",
        "koenig = 6 # 100\n",
        "leer = 0\n",
        "def reset_schachbrett():\n",
        "    schachbrett = [\n",
        "        [-turm, -springer, -laeufer, -dame, -koenig, -laeufer, -springer, -turm],\n",
        "        [-bauer, -bauer, -bauer, -bauer, -bauer, -bauer, -bauer, -bauer],\n",
        "        [leer, leer, leer, leer, leer, leer, leer, leer],\n",
        "        [leer, leer, leer, leer, leer, leer, leer, leer],\n",
        "        [leer, leer, leer, leer, leer, leer, leer, leer],\n",
        "        [leer, leer, leer, leer, leer, leer, leer, leer],\n",
        "        [bauer, bauer, bauer, bauer, bauer, bauer, bauer, bauer],\n",
        "        [turm, springer, laeufer, dame, koenig, laeufer, springer, turm]\n",
        "    ]\n",
        "    return schachbrett\n",
        "schachbrett = reset_schachbrett()\n",
        "\n",
        "print(schachbrett)\n",
        "figuren = [\"\\u2659\", \"\\u2659\",\"\\u2658\",\"\\u2657\",\"\\u2656\",\"\\u2655\",\"\\u2654\",\"\\u265A\",\"\\u265B\",\"\\u265C\",\"\\u265D\",\"\\u265E\",\"\\u265F\"]\n",
        "\n",
        "print(\"leer\" ,figuren[-leer])\n",
        "print(\"bauer\" ,figuren[-bauer])\n",
        "print(\"springer\" ,figuren[-springer])\n",
        "print(\"laeufer\" ,figuren[-laeufer])\n",
        "print(\"turm\" ,figuren[-turm])\n",
        "print(\"dame\" ,figuren[-dame])\n",
        "print(\"koenig\" ,figuren[-koenig])\n",
        "\n",
        "def print_brett(schachbrett):\n",
        "    output = ''\n",
        "    bg = [\"\\x1b[47m\", \"\\x1b[107m\"]\n",
        "    leer_farbe = [\"\\x1b[37m\", \"\\x1b[97m\"]\n",
        "    counter = 0\n",
        "    for reihe in schachbrett:\n",
        "        counter += 1\n",
        "        for feld in reihe:\n",
        "            if feld == 0:\n",
        "                output += bg[counter%2]+leer_farbe[counter%2]+figuren[feld]\n",
        "            else:\n",
        "                output += bg[counter%2]+\"\\x1b[30m\"+figuren[feld]\n",
        "            counter += 1\n",
        "        output += '\\n'\n",
        "    output += \"\\x1b[0m\"\n",
        "    print(output)\n",
        "\n",
        "print_brett(schachbrett)"
      ]
    },
    {
      "cell_type": "code",
      "source": [
        "def bewege_bauer(schachbrett, pos):\n",
        "    # Checkliste: Ist da Bauer? Kann er sich bewegen?\n",
        "    pos = get_index(pos)\n",
        "    print(pos)\n",
        "    assert abs(schachbrett[pos[0]][pos[1]])==bauer, \"Hier steht kein Bauer.\"\n",
        "\n",
        "    schachbrett[pos[0]][pos[1]] = leer\n",
        "    schachbrett[pos[0]-1][pos[1]] = bauer\n",
        "\n",
        "    return schachbrett\n",
        "\n",
        "def get_index(pos):\n",
        "    pos = pos.upper()\n",
        "    # erhält z. B. \"D4\" und gibt Liste [4,3] zurück\n",
        "    assert pos[0] in \"ABCDEFGH\" and pos[1] in \"12345678\", pos+\" ist keine gültige Position.\"\n",
        "\n",
        "    counter = 0\n",
        "    for buchstabe in \"ABCDEFGH\":\n",
        "        if buchstabe==pos[0]:\n",
        "            break\n",
        "        counter += 1\n",
        "\n",
        "    liste = [8-int(pos[1]), counter]\n",
        "    return liste\n",
        "\n",
        "schachbrett = reset_schachbrett()\n",
        "print_brett(schachbrett)\n",
        "schachbrett = bewege_bauer(schachbrett, \"B2\")\n",
        "print_brett(schachbrett)\n",
        "schachbrett = bewege_bauer(schachbrett, \"B3\")\n",
        "print_brett(schachbrett)\n",
        "schachbrett = bewege_bauer(schachbrett, \"B4\")\n",
        "print_brett(schachbrett)"
      ],
      "metadata": {
        "colab": {
          "base_uri": "https://localhost:8080/"
        },
        "id": "ZwXWSukQKgCi",
        "outputId": "f37d6acb-d838-4aaf-f1a4-af56be18f25a"
      },
      "execution_count": null,
      "outputs": [
        {
          "output_type": "stream",
          "name": "stdout",
          "text": [
            "\u001b[107m\u001b[30m♜\u001b[47m\u001b[30m♞\u001b[107m\u001b[30m♝\u001b[47m\u001b[30m♛\u001b[107m\u001b[30m♚\u001b[47m\u001b[30m♝\u001b[107m\u001b[30m♞\u001b[47m\u001b[30m♜\n",
            "\u001b[47m\u001b[30m♟\u001b[107m\u001b[30m♟\u001b[47m\u001b[30m♟\u001b[107m\u001b[30m♟\u001b[47m\u001b[30m♟\u001b[107m\u001b[30m♟\u001b[47m\u001b[30m♟\u001b[107m\u001b[30m♟\n",
            "\u001b[107m\u001b[97m♙\u001b[47m\u001b[37m♙\u001b[107m\u001b[97m♙\u001b[47m\u001b[37m♙\u001b[107m\u001b[97m♙\u001b[47m\u001b[37m♙\u001b[107m\u001b[97m♙\u001b[47m\u001b[37m♙\n",
            "\u001b[47m\u001b[37m♙\u001b[107m\u001b[97m♙\u001b[47m\u001b[37m♙\u001b[107m\u001b[97m♙\u001b[47m\u001b[37m♙\u001b[107m\u001b[97m♙\u001b[47m\u001b[37m♙\u001b[107m\u001b[97m♙\n",
            "\u001b[107m\u001b[97m♙\u001b[47m\u001b[37m♙\u001b[107m\u001b[97m♙\u001b[47m\u001b[37m♙\u001b[107m\u001b[97m♙\u001b[47m\u001b[37m♙\u001b[107m\u001b[97m♙\u001b[47m\u001b[37m♙\n",
            "\u001b[47m\u001b[37m♙\u001b[107m\u001b[97m♙\u001b[47m\u001b[37m♙\u001b[107m\u001b[97m♙\u001b[47m\u001b[37m♙\u001b[107m\u001b[97m♙\u001b[47m\u001b[37m♙\u001b[107m\u001b[97m♙\n",
            "\u001b[107m\u001b[30m♙\u001b[47m\u001b[30m♙\u001b[107m\u001b[30m♙\u001b[47m\u001b[30m♙\u001b[107m\u001b[30m♙\u001b[47m\u001b[30m♙\u001b[107m\u001b[30m♙\u001b[47m\u001b[30m♙\n",
            "\u001b[47m\u001b[30m♖\u001b[107m\u001b[30m♘\u001b[47m\u001b[30m♗\u001b[107m\u001b[30m♕\u001b[47m\u001b[30m♔\u001b[107m\u001b[30m♗\u001b[47m\u001b[30m♘\u001b[107m\u001b[30m♖\n",
            "\u001b[0m\n",
            "[6, 1]\n",
            "\u001b[107m\u001b[30m♜\u001b[47m\u001b[30m♞\u001b[107m\u001b[30m♝\u001b[47m\u001b[30m♛\u001b[107m\u001b[30m♚\u001b[47m\u001b[30m♝\u001b[107m\u001b[30m♞\u001b[47m\u001b[30m♜\n",
            "\u001b[47m\u001b[30m♟\u001b[107m\u001b[30m♟\u001b[47m\u001b[30m♟\u001b[107m\u001b[30m♟\u001b[47m\u001b[30m♟\u001b[107m\u001b[30m♟\u001b[47m\u001b[30m♟\u001b[107m\u001b[30m♟\n",
            "\u001b[107m\u001b[97m♙\u001b[47m\u001b[37m♙\u001b[107m\u001b[97m♙\u001b[47m\u001b[37m♙\u001b[107m\u001b[97m♙\u001b[47m\u001b[37m♙\u001b[107m\u001b[97m♙\u001b[47m\u001b[37m♙\n",
            "\u001b[47m\u001b[37m♙\u001b[107m\u001b[97m♙\u001b[47m\u001b[37m♙\u001b[107m\u001b[97m♙\u001b[47m\u001b[37m♙\u001b[107m\u001b[97m♙\u001b[47m\u001b[37m♙\u001b[107m\u001b[97m♙\n",
            "\u001b[107m\u001b[97m♙\u001b[47m\u001b[37m♙\u001b[107m\u001b[97m♙\u001b[47m\u001b[37m♙\u001b[107m\u001b[97m♙\u001b[47m\u001b[37m♙\u001b[107m\u001b[97m♙\u001b[47m\u001b[37m♙\n",
            "\u001b[47m\u001b[37m♙\u001b[107m\u001b[30m♙\u001b[47m\u001b[37m♙\u001b[107m\u001b[97m♙\u001b[47m\u001b[37m♙\u001b[107m\u001b[97m♙\u001b[47m\u001b[37m♙\u001b[107m\u001b[97m♙\n",
            "\u001b[107m\u001b[30m♙\u001b[47m\u001b[37m♙\u001b[107m\u001b[30m♙\u001b[47m\u001b[30m♙\u001b[107m\u001b[30m♙\u001b[47m\u001b[30m♙\u001b[107m\u001b[30m♙\u001b[47m\u001b[30m♙\n",
            "\u001b[47m\u001b[30m♖\u001b[107m\u001b[30m♘\u001b[47m\u001b[30m♗\u001b[107m\u001b[30m♕\u001b[47m\u001b[30m♔\u001b[107m\u001b[30m♗\u001b[47m\u001b[30m♘\u001b[107m\u001b[30m♖\n",
            "\u001b[0m\n",
            "[5, 1]\n",
            "\u001b[107m\u001b[30m♜\u001b[47m\u001b[30m♞\u001b[107m\u001b[30m♝\u001b[47m\u001b[30m♛\u001b[107m\u001b[30m♚\u001b[47m\u001b[30m♝\u001b[107m\u001b[30m♞\u001b[47m\u001b[30m♜\n",
            "\u001b[47m\u001b[30m♟\u001b[107m\u001b[30m♟\u001b[47m\u001b[30m♟\u001b[107m\u001b[30m♟\u001b[47m\u001b[30m♟\u001b[107m\u001b[30m♟\u001b[47m\u001b[30m♟\u001b[107m\u001b[30m♟\n",
            "\u001b[107m\u001b[97m♙\u001b[47m\u001b[37m♙\u001b[107m\u001b[97m♙\u001b[47m\u001b[37m♙\u001b[107m\u001b[97m♙\u001b[47m\u001b[37m♙\u001b[107m\u001b[97m♙\u001b[47m\u001b[37m♙\n",
            "\u001b[47m\u001b[37m♙\u001b[107m\u001b[97m♙\u001b[47m\u001b[37m♙\u001b[107m\u001b[97m♙\u001b[47m\u001b[37m♙\u001b[107m\u001b[97m♙\u001b[47m\u001b[37m♙\u001b[107m\u001b[97m♙\n",
            "\u001b[107m\u001b[97m♙\u001b[47m\u001b[30m♙\u001b[107m\u001b[97m♙\u001b[47m\u001b[37m♙\u001b[107m\u001b[97m♙\u001b[47m\u001b[37m♙\u001b[107m\u001b[97m♙\u001b[47m\u001b[37m♙\n",
            "\u001b[47m\u001b[37m♙\u001b[107m\u001b[97m♙\u001b[47m\u001b[37m♙\u001b[107m\u001b[97m♙\u001b[47m\u001b[37m♙\u001b[107m\u001b[97m♙\u001b[47m\u001b[37m♙\u001b[107m\u001b[97m♙\n",
            "\u001b[107m\u001b[30m♙\u001b[47m\u001b[37m♙\u001b[107m\u001b[30m♙\u001b[47m\u001b[30m♙\u001b[107m\u001b[30m♙\u001b[47m\u001b[30m♙\u001b[107m\u001b[30m♙\u001b[47m\u001b[30m♙\n",
            "\u001b[47m\u001b[30m♖\u001b[107m\u001b[30m♘\u001b[47m\u001b[30m♗\u001b[107m\u001b[30m♕\u001b[47m\u001b[30m♔\u001b[107m\u001b[30m♗\u001b[47m\u001b[30m♘\u001b[107m\u001b[30m♖\n",
            "\u001b[0m\n",
            "[4, 1]\n",
            "\u001b[107m\u001b[30m♜\u001b[47m\u001b[30m♞\u001b[107m\u001b[30m♝\u001b[47m\u001b[30m♛\u001b[107m\u001b[30m♚\u001b[47m\u001b[30m♝\u001b[107m\u001b[30m♞\u001b[47m\u001b[30m♜\n",
            "\u001b[47m\u001b[30m♟\u001b[107m\u001b[30m♟\u001b[47m\u001b[30m♟\u001b[107m\u001b[30m♟\u001b[47m\u001b[30m♟\u001b[107m\u001b[30m♟\u001b[47m\u001b[30m♟\u001b[107m\u001b[30m♟\n",
            "\u001b[107m\u001b[97m♙\u001b[47m\u001b[37m♙\u001b[107m\u001b[97m♙\u001b[47m\u001b[37m♙\u001b[107m\u001b[97m♙\u001b[47m\u001b[37m♙\u001b[107m\u001b[97m♙\u001b[47m\u001b[37m♙\n",
            "\u001b[47m\u001b[37m♙\u001b[107m\u001b[30m♙\u001b[47m\u001b[37m♙\u001b[107m\u001b[97m♙\u001b[47m\u001b[37m♙\u001b[107m\u001b[97m♙\u001b[47m\u001b[37m♙\u001b[107m\u001b[97m♙\n",
            "\u001b[107m\u001b[97m♙\u001b[47m\u001b[37m♙\u001b[107m\u001b[97m♙\u001b[47m\u001b[37m♙\u001b[107m\u001b[97m♙\u001b[47m\u001b[37m♙\u001b[107m\u001b[97m♙\u001b[47m\u001b[37m♙\n",
            "\u001b[47m\u001b[37m♙\u001b[107m\u001b[97m♙\u001b[47m\u001b[37m♙\u001b[107m\u001b[97m♙\u001b[47m\u001b[37m♙\u001b[107m\u001b[97m♙\u001b[47m\u001b[37m♙\u001b[107m\u001b[97m♙\n",
            "\u001b[107m\u001b[30m♙\u001b[47m\u001b[37m♙\u001b[107m\u001b[30m♙\u001b[47m\u001b[30m♙\u001b[107m\u001b[30m♙\u001b[47m\u001b[30m♙\u001b[107m\u001b[30m♙\u001b[47m\u001b[30m♙\n",
            "\u001b[47m\u001b[30m♖\u001b[107m\u001b[30m♘\u001b[47m\u001b[30m♗\u001b[107m\u001b[30m♕\u001b[47m\u001b[30m♔\u001b[107m\u001b[30m♗\u001b[47m\u001b[30m♘\u001b[107m\u001b[30m♖\n",
            "\u001b[0m\n"
          ]
        }
      ]
    },
    {
      "cell_type": "code",
      "source": [
        "schachbrett_fig = [[figuren[fig] for fig in lis] for lis in schachbrett]\n",
        "print(*schachbrett_fig, sep=\"\\n\")"
      ],
      "metadata": {
        "colab": {
          "base_uri": "https://localhost:8080/"
        },
        "id": "Fiz_re82OGEY",
        "outputId": "9484b193-3781-452c-89e3-d397c565af6f"
      },
      "execution_count": null,
      "outputs": [
        {
          "output_type": "stream",
          "name": "stdout",
          "text": [
            "['♜', '♞', '♝', '♛', '♚', '♝', '♞', '♜']\n",
            "['♟', '♟', '♟', '♟', '♟', '♟', '♟', '♟']\n",
            "['  ', '  ', '  ', '  ', '  ', '  ', '  ', '  ']\n",
            "['  ', '  ', '  ', '  ', '  ', '  ', '  ', '  ']\n",
            "['  ', '  ', '  ', '  ', '  ', '  ', '  ', '  ']\n",
            "['  ', '  ', '  ', '  ', '  ', '  ', '  ', '  ']\n",
            "['♙', '♙', '♙', '♙', '♙', '♙', '♙', '♙']\n",
            "['♖', '♘', '♗', '♕', '♔', '♗', '♘', '♖']\n"
          ]
        }
      ]
    },
    {
      "cell_type": "code",
      "source": [
        "!python3 --version"
      ],
      "metadata": {
        "colab": {
          "base_uri": "https://localhost:8080/"
        },
        "id": "RVO0ooGWR5bA",
        "outputId": "299480f1-8095-4861-8d25-4e5108e25167"
      },
      "execution_count": null,
      "outputs": [
        {
          "output_type": "stream",
          "name": "stdout",
          "text": [
            "Python 3.10.12\n"
          ]
        }
      ]
    }
  ]
}