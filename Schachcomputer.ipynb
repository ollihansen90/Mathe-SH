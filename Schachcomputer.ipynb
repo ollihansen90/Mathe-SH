{
  "nbformat": 4,
  "nbformat_minor": 0,
  "metadata": {
    "colab": {
      "provenance": [],
      "authorship_tag": "ABX9TyOSgslwfcgGGLEAtbBUgnlP",
      "include_colab_link": true
    },
    "kernelspec": {
      "name": "python3",
      "display_name": "Python 3"
    },
    "language_info": {
      "name": "python"
    }
  },
  "cells": [
    {
      "cell_type": "markdown",
      "metadata": {
        "id": "view-in-github",
        "colab_type": "text"
      },
      "source": [
        "<a href=\"https://colab.research.google.com/github/ollihansen90/Mathe-SH/blob/main/Schachcomputer.ipynb\" target=\"_parent\"><img src=\"https://colab.research.google.com/assets/colab-badge.svg\" alt=\"Open In Colab\"/></a>"
      ]
    },
    {
      "cell_type": "markdown",
      "source": [
        "# Schachcomputer\n"
      ],
      "metadata": {
        "id": "3Zzk1Q5JeAiW"
      }
    },
    {
      "cell_type": "markdown",
      "source": [
        "## Klassen"
      ],
      "metadata": {
        "id": "8ocqtpXXeKqy"
      }
    },
    {
      "cell_type": "markdown",
      "source": [
        "## Züge"
      ],
      "metadata": {
        "id": "XtbsFdSjeOKD"
      }
    },
    {
      "cell_type": "markdown",
      "source": [
        "# Bewertungsfunktion"
      ],
      "metadata": {
        "id": "dgDUSv9SeRLm"
      }
    },
    {
      "cell_type": "code",
      "source": [
        "#global bauer\n",
        "from schach_utils import Spielfeld, berechne_wert\n",
        "leer = 0\n",
        "bauer = 1\n",
        "\n",
        "schachbrett = Spielfeld()\n",
        "schachbrett.reset()\n",
        "schachbrett[\"H7\"] = leer\n",
        "schachbrett[\"C2\"] = leer\n",
        "schachbrett[\"E2\"] = leer\n",
        "schachbrett[\"G2\"] = leer\n",
        "schachbrett[\"D2\"] = leer\n",
        "schachbrett[\"D4\"] = bauer\n",
        "schachbrett[\"F3\"] = bauer\n",
        "schachbrett.male()\n",
        "print(berechne_wert(schachbrett))\n",
        "schachbrett.male()"
      ],
      "metadata": {
        "id": "dn457214iq8i",
        "colab": {
          "base_uri": "https://localhost:8080/"
        },
        "outputId": "3f551ab9-d88e-48d9-ba35-c49231f77197"
      },
      "execution_count": null,
      "outputs": [
        {
          "output_type": "stream",
          "name": "stdout",
          "text": [
            "\u001b[107m\u001b[30m♜\u001b[47m\u001b[30m♞\u001b[107m\u001b[30m♝\u001b[47m\u001b[30m♛\u001b[107m\u001b[30m♚\u001b[47m\u001b[30m♝\u001b[107m\u001b[30m♞\u001b[47m\u001b[30m♜\n",
            "\u001b[47m\u001b[30m♟\u001b[107m\u001b[30m♟\u001b[47m\u001b[30m♟\u001b[107m\u001b[30m♟\u001b[47m\u001b[30m♟\u001b[107m\u001b[30m♟\u001b[47m\u001b[30m♟\u001b[107m\u001b[97m♙\n",
            "\u001b[107m\u001b[97m♙\u001b[47m\u001b[37m♙\u001b[107m\u001b[97m♙\u001b[47m\u001b[37m♙\u001b[107m\u001b[97m♙\u001b[47m\u001b[37m♙\u001b[107m\u001b[97m♙\u001b[47m\u001b[37m♙\n",
            "\u001b[47m\u001b[37m♙\u001b[107m\u001b[97m♙\u001b[47m\u001b[37m♙\u001b[107m\u001b[97m♙\u001b[47m\u001b[37m♙\u001b[107m\u001b[97m♙\u001b[47m\u001b[37m♙\u001b[107m\u001b[97m♙\n",
            "\u001b[107m\u001b[97m♙\u001b[47m\u001b[37m♙\u001b[107m\u001b[97m♙\u001b[47m\u001b[30m♙\u001b[107m\u001b[97m♙\u001b[47m\u001b[37m♙\u001b[107m\u001b[97m♙\u001b[47m\u001b[37m♙\n",
            "\u001b[47m\u001b[37m♙\u001b[107m\u001b[97m♙\u001b[47m\u001b[37m♙\u001b[107m\u001b[97m♙\u001b[47m\u001b[37m♙\u001b[107m\u001b[30m♙\u001b[47m\u001b[37m♙\u001b[107m\u001b[97m♙\n",
            "\u001b[107m\u001b[30m♙\u001b[47m\u001b[30m♙\u001b[107m\u001b[97m♙\u001b[47m\u001b[37m♙\u001b[107m\u001b[97m♙\u001b[47m\u001b[30m♙\u001b[107m\u001b[97m♙\u001b[47m\u001b[30m♙\n",
            "\u001b[47m\u001b[30m♖\u001b[107m\u001b[30m♘\u001b[47m\u001b[30m♗\u001b[107m\u001b[30m♕\u001b[47m\u001b[30m♔\u001b[107m\u001b[30m♗\u001b[47m\u001b[30m♘\u001b[107m\u001b[30m♖\n",
            "\u001b[0m\n",
            "3.0\n",
            "\u001b[107m\u001b[30m♜\u001b[47m\u001b[30m♞\u001b[107m\u001b[30m♝\u001b[47m\u001b[30m♛\u001b[107m\u001b[30m♚\u001b[47m\u001b[30m♝\u001b[107m\u001b[30m♞\u001b[47m\u001b[30m♜\n",
            "\u001b[47m\u001b[30m♟\u001b[107m\u001b[30m♟\u001b[47m\u001b[30m♟\u001b[107m\u001b[30m♟\u001b[47m\u001b[30m♟\u001b[107m\u001b[30m♟\u001b[47m\u001b[30m♟\u001b[107m\u001b[97m♙\n",
            "\u001b[107m\u001b[97m♙\u001b[47m\u001b[37m♙\u001b[107m\u001b[97m♙\u001b[47m\u001b[37m♙\u001b[107m\u001b[97m♙\u001b[47m\u001b[37m♙\u001b[107m\u001b[97m♙\u001b[47m\u001b[37m♙\n",
            "\u001b[47m\u001b[37m♙\u001b[107m\u001b[97m♙\u001b[47m\u001b[37m♙\u001b[107m\u001b[97m♙\u001b[47m\u001b[37m♙\u001b[107m\u001b[97m♙\u001b[47m\u001b[37m♙\u001b[107m\u001b[97m♙\n",
            "\u001b[107m\u001b[97m♙\u001b[47m\u001b[37m♙\u001b[107m\u001b[97m♙\u001b[47m\u001b[30m♙\u001b[107m\u001b[97m♙\u001b[47m\u001b[37m♙\u001b[107m\u001b[97m♙\u001b[47m\u001b[37m♙\n",
            "\u001b[47m\u001b[37m♙\u001b[107m\u001b[97m♙\u001b[47m\u001b[37m♙\u001b[107m\u001b[97m♙\u001b[47m\u001b[37m♙\u001b[107m\u001b[30m♙\u001b[47m\u001b[37m♙\u001b[107m\u001b[97m♙\n",
            "\u001b[107m\u001b[30m♙\u001b[47m\u001b[30m♙\u001b[107m\u001b[97m♙\u001b[47m\u001b[37m♙\u001b[107m\u001b[97m♙\u001b[47m\u001b[30m♙\u001b[107m\u001b[97m♙\u001b[47m\u001b[30m♙\n",
            "\u001b[47m\u001b[30m♖\u001b[107m\u001b[30m♘\u001b[47m\u001b[30m♗\u001b[107m\u001b[30m♕\u001b[47m\u001b[30m♔\u001b[107m\u001b[30m♗\u001b[47m\u001b[30m♘\u001b[107m\u001b[30m♖\n",
            "\u001b[0m\n"
          ]
        }
      ]
    },
    {
      "cell_type": "code",
      "source": [
        "import copy\n",
        "from random import randint\n",
        "from schach_utils import get_alle_bewegungen, zug\n",
        "\n",
        "def argsort(l):\n",
        "    liste = l[:]\n",
        "    output = []\n",
        "    kleinster_wert = -float(\"inf\")\n",
        "    for _ in range(len(liste)):\n",
        "        kleinster = float(\"inf\")\n",
        "        kleinstes_i = 0\n",
        "        for i in range(len(liste)):\n",
        "            if liste[i]<kleinster and liste[i]>=kleinster_wert:\n",
        "                #print(liste[i], kleinster)\n",
        "                kleinster = liste[i]\n",
        "                kleinstes_i = i\n",
        "        kleinster_wert = kleinster\n",
        "        output.append(kleinstes_i)\n",
        "        liste[kleinstes_i] = float(\"inf\")\n",
        "    return output\n",
        "\n",
        "def waehle_zufall(scores):\n",
        "    scores = [(eintrag-min(scores)+1)**2 for eintrag in scores]\n",
        "    z = randint(0,int(2*sum(scores)))\n",
        "    for i in range(len(scores)):\n",
        "        eintrag = scores[i]\n",
        "        z -= 2*eintrag\n",
        "        if z<1:\n",
        "            return i\n",
        "\n",
        "def ki_zug(schachbrett):\n",
        "    zuege = get_alle_bewegungen(schachbrett)\n",
        "    hilfsbrett = Spielfeld()\n",
        "    werte = []\n",
        "    for z in zuege:\n",
        "        hilfsbrett.feld = copy.deepcopy(schachbrett.feld)\n",
        "        zug(hilfsbrett, z)\n",
        "        werte.append(berechne_wert(hilfsbrett))\n",
        "    zuege = [zuege[i] for i in argsort(werte)][::-1]\n",
        "    next_zug = zuege[waehle_zufall(sorted(werte, reverse=True)[:len(werte)//3])]\n",
        "    return next_zug\n",
        "\n",
        "def ki_zug_det(schachbrett):\n",
        "    zuege = get_alle_bewegungen(schachbrett)\n",
        "    hilfsbrett = Spielfeld()\n",
        "    werte = []\n",
        "    for z in zuege:\n",
        "        hilfsbrett.feld = copy.deepcopy(schachbrett.feld)\n",
        "        zug(hilfsbrett, z)\n",
        "        werte.append(berechne_wert(hilfsbrett))\n",
        "    zuege = [zuege[i] for i in argsort(werte)][::-1]\n",
        "    next_zug = zuege[0]\n",
        "    return next_zug\n",
        "\n",
        "def ki_minimax(schachbrett):\n",
        "    zuege = get_alle_bewegungen(schachbrett)\n",
        "    hilfsbrett = Spielfeld()\n",
        "    werte = []\n",
        "    for z in zuege:\n",
        "        #print(z, end=\" \")\n",
        "        hilfsbrett.feld = copy.deepcopy(schachbrett.feld)\n",
        "        zug(hilfsbrett, z)\n",
        "        hilfsbrett.invertiere()\n",
        "        zug(hilfsbrett, ki_zug_det(hilfsbrett))\n",
        "        hilfsbrett.invertiere()\n",
        "        wert = berechne_wert(hilfsbrett)\n",
        "        werte.append(wert)\n",
        "    zuege = [zuege[i] for i in argsort(werte)][::-1]\n",
        "    next_zug = zuege[0]\n",
        "    return next_zug\n",
        "\n",
        "\n",
        "schachbrett = Spielfeld()\n",
        "schachbrett.reset()\n",
        "schachbrett.male()\n",
        "z = ki_minimax(schachbrett)\n",
        "zug(schachbrett, z)\n",
        "schachbrett.male()\n",
        "berechne_wert(schachbrett)"
      ],
      "metadata": {
        "id": "NhLzEFIVLXzz",
        "colab": {
          "base_uri": "https://localhost:8080/"
        },
        "outputId": "b28ed819-00d9-4d4e-b63b-5fec6626e795"
      },
      "execution_count": null,
      "outputs": [
        {
          "output_type": "stream",
          "name": "stdout",
          "text": [
            "\u001b[107m\u001b[30m♜\u001b[47m\u001b[30m♞\u001b[107m\u001b[30m♝\u001b[47m\u001b[30m♛\u001b[107m\u001b[30m♚\u001b[47m\u001b[30m♝\u001b[107m\u001b[30m♞\u001b[47m\u001b[30m♜\n",
            "\u001b[47m\u001b[30m♟\u001b[107m\u001b[30m♟\u001b[47m\u001b[30m♟\u001b[107m\u001b[30m♟\u001b[47m\u001b[30m♟\u001b[107m\u001b[30m♟\u001b[47m\u001b[30m♟\u001b[107m\u001b[30m♟\n",
            "\u001b[107m\u001b[97m♙\u001b[47m\u001b[37m♙\u001b[107m\u001b[97m♙\u001b[47m\u001b[37m♙\u001b[107m\u001b[97m♙\u001b[47m\u001b[37m♙\u001b[107m\u001b[97m♙\u001b[47m\u001b[37m♙\n",
            "\u001b[47m\u001b[37m♙\u001b[107m\u001b[97m♙\u001b[47m\u001b[37m♙\u001b[107m\u001b[97m♙\u001b[47m\u001b[37m♙\u001b[107m\u001b[97m♙\u001b[47m\u001b[37m♙\u001b[107m\u001b[97m♙\n",
            "\u001b[107m\u001b[97m♙\u001b[47m\u001b[37m♙\u001b[107m\u001b[97m♙\u001b[47m\u001b[37m♙\u001b[107m\u001b[97m♙\u001b[47m\u001b[37m♙\u001b[107m\u001b[97m♙\u001b[47m\u001b[37m♙\n",
            "\u001b[47m\u001b[37m♙\u001b[107m\u001b[97m♙\u001b[47m\u001b[37m♙\u001b[107m\u001b[97m♙\u001b[47m\u001b[37m♙\u001b[107m\u001b[97m♙\u001b[47m\u001b[37m♙\u001b[107m\u001b[97m♙\n",
            "\u001b[107m\u001b[30m♙\u001b[47m\u001b[30m♙\u001b[107m\u001b[30m♙\u001b[47m\u001b[30m♙\u001b[107m\u001b[30m♙\u001b[47m\u001b[30m♙\u001b[107m\u001b[30m♙\u001b[47m\u001b[30m♙\n",
            "\u001b[47m\u001b[30m♖\u001b[107m\u001b[30m♘\u001b[47m\u001b[30m♗\u001b[107m\u001b[30m♕\u001b[47m\u001b[30m♔\u001b[107m\u001b[30m♗\u001b[47m\u001b[30m♘\u001b[107m\u001b[30m♖\n",
            "\u001b[0m\n",
            "\u001b[107m\u001b[30m♜\u001b[47m\u001b[30m♞\u001b[107m\u001b[30m♝\u001b[47m\u001b[30m♛\u001b[107m\u001b[30m♚\u001b[47m\u001b[30m♝\u001b[107m\u001b[30m♞\u001b[47m\u001b[30m♜\n",
            "\u001b[47m\u001b[30m♟\u001b[107m\u001b[30m♟\u001b[47m\u001b[30m♟\u001b[107m\u001b[30m♟\u001b[47m\u001b[30m♟\u001b[107m\u001b[30m♟\u001b[47m\u001b[30m♟\u001b[107m\u001b[30m♟\n",
            "\u001b[107m\u001b[97m♙\u001b[47m\u001b[37m♙\u001b[107m\u001b[97m♙\u001b[47m\u001b[37m♙\u001b[107m\u001b[97m♙\u001b[47m\u001b[37m♙\u001b[107m\u001b[97m♙\u001b[47m\u001b[37m♙\n",
            "\u001b[47m\u001b[37m♙\u001b[107m\u001b[97m♙\u001b[47m\u001b[37m♙\u001b[107m\u001b[97m♙\u001b[47m\u001b[37m♙\u001b[107m\u001b[97m♙\u001b[47m\u001b[37m♙\u001b[107m\u001b[97m♙\n",
            "\u001b[107m\u001b[97m♙\u001b[47m\u001b[37m♙\u001b[107m\u001b[97m♙\u001b[47m\u001b[37m♙\u001b[107m\u001b[97m♙\u001b[47m\u001b[37m♙\u001b[107m\u001b[97m♙\u001b[47m\u001b[37m♙\n",
            "\u001b[47m\u001b[37m♙\u001b[107m\u001b[97m♙\u001b[47m\u001b[37m♙\u001b[107m\u001b[97m♙\u001b[47m\u001b[37m♙\u001b[107m\u001b[97m♙\u001b[47m\u001b[37m♙\u001b[107m\u001b[97m♙\n",
            "\u001b[107m\u001b[30m♙\u001b[47m\u001b[30m♙\u001b[107m\u001b[30m♙\u001b[47m\u001b[37m♙\u001b[107m\u001b[30m♙\u001b[47m\u001b[30m♙\u001b[107m\u001b[30m♙\u001b[47m\u001b[30m♙\n",
            "\u001b[47m\u001b[30m♖\u001b[107m\u001b[30m♘\u001b[47m\u001b[30m♗\u001b[107m\u001b[30m♕\u001b[47m\u001b[30m♔\u001b[107m\u001b[30m♗\u001b[47m\u001b[30m♘\u001b[107m\u001b[30m♖\n",
            "\u001b[0m\n"
          ]
        },
        {
          "output_type": "execute_result",
          "data": {
            "text/plain": [
              "4.5"
            ]
          },
          "metadata": {},
          "execution_count": 7
        }
      ]
    },
    {
      "cell_type": "code",
      "source": [
        "liste1 = [40,7,5,6,20,40,0,1,25,8]\n",
        "    #    [ 0,1,2,3, 4, 5,6,7, 8,9]\n",
        "#print(sorted(liste1))\n",
        "gesucht = [0,1,5,6,4,8,7,2,3]\n",
        "def argsort(l):\n",
        "    liste = l[:]\n",
        "    output = []\n",
        "    kleinster_wert = -float(\"inf\")\n",
        "    for _ in range(len(liste)):\n",
        "        kleinster = float(\"inf\")\n",
        "        kleinstes_i = 0\n",
        "        for i in range(len(liste)):\n",
        "            if liste[i]<kleinster and liste[i]>=kleinster_wert:\n",
        "                #print(liste[i], kleinster)\n",
        "                kleinster = liste[i]\n",
        "                kleinstes_i = i\n",
        "        kleinster_wert = kleinster\n",
        "        output.append(kleinstes_i)\n",
        "        liste[kleinstes_i] = 100000000\n",
        "    return output\n",
        "srt_idc = argsort(liste1)\n",
        "print(liste1)\n",
        "print(srt_idc)\n",
        "print([liste1[i] for i in srt_idc])\n",
        "print(sorted(list(range(len(liste1))), key=lambda x: liste1[x]))"
      ],
      "metadata": {
        "id": "mezOTjzJH5UV",
        "colab": {
          "base_uri": "https://localhost:8080/"
        },
        "outputId": "d73adee7-78c6-48b5-a4a6-34a945eee77b"
      },
      "execution_count": null,
      "outputs": [
        {
          "output_type": "stream",
          "name": "stdout",
          "text": [
            "[40, 7, 5, 6, 20, 40, 0, 1, 25, 8]\n",
            "[6, 7, 2, 3, 1, 9, 4, 8, 0, 5]\n",
            "[0, 1, 5, 6, 7, 8, 20, 25, 40, 40]\n",
            "[6, 7, 2, 3, 1, 9, 4, 8, 0, 5]\n"
          ]
        }
      ]
    },
    {
      "cell_type": "code",
      "source": [
        "from schach_utils import koenig\n",
        "\n",
        "schachbrett = Spielfeld()\n",
        "schachbrett.reset()\n",
        "schachbrett.feld[0] = [0,0,0,0,0,0,0,0]\n",
        "schachbrett.feld[1] = [0,0,1,0,0,0,-1,0]\n",
        "schachbrett.feld[3] = [0,0,0,0,0,-6,0,-1]\n",
        "schachbrett.feld[4] = [4,0,0,0,0,0,0,0]\n",
        "schachbrett.feld[6] = [1,1,0,0,0,0,1,1]\n",
        "schachbrett.feld[7] = [4,2,3,0,0,0,6,0]\n",
        "schachbrett.male()\n",
        "schachbrett.male()\n",
        "\n",
        "while True:\n",
        "    # Zug Weiß\n",
        "    print(get_alle_bewegungen(schachbrett))\n",
        "    print(berechne_wert(schachbrett))\n",
        "    z = input(\"Weiß gibt einen Zug ein: \")\n",
        "    while True:\n",
        "        if zug(schachbrett, z) == None:\n",
        "            break\n",
        "        z = input(\"Weiß gibt einen Zug ein: \")\n",
        "    schachbrett.male()\n",
        "\n",
        "    # Zug Schwarz\n",
        "    schachbrett.invertiere()\n",
        "    if False:\n",
        "        z = input(\"Schwarz gibt einen Zug ein: \")\n",
        "        z = flip_pos(z)\n",
        "        while True:\n",
        "            if zug(schachbrett, z) == None:\n",
        "                break\n",
        "            z = input(\"Schwarz gibt einen Zug ein: \")\n",
        "            z = flip_pos(z)\n",
        "\n",
        "    z = ki_minimax(schachbrett)\n",
        "    zug(schachbrett, z)\n",
        "    schachbrett.invertiere()\n",
        "    schachbrett.male()\n",
        "\n",
        "    # König weg?\n",
        "    schwarzer_koenig = False\n",
        "    weisser_koenig = False\n",
        "    for i in range(8):\n",
        "        for j in range(8):\n",
        "            if abs(schachbrett.feld[i][j])==koenig:\n",
        "                if schachbrett.feld[i][j]>0:\n",
        "                    weisser_koenig = True\n",
        "                else:\n",
        "                    schwarzer_koenig = True\n",
        "    if weisser_koenig and not schwarzer_koenig:\n",
        "        print(\"Weiß hat gewonnen!\")\n",
        "        break\n",
        "    elif schwarzer_koenig and not weisser_koenig:\n",
        "        print(\"Schwarz hat gewonnen!\")\n",
        "        break\n"
      ],
      "metadata": {
        "id": "TgYKPH02da5R",
        "colab": {
          "base_uri": "https://localhost:8080/",
          "height": 1000
        },
        "outputId": "1084442a-638a-4889-cb1e-f42cbdb2d1e9"
      },
      "execution_count": null,
      "outputs": [
        {
          "output_type": "stream",
          "name": "stdout",
          "text": [
            "\u001b[107m\u001b[97m♙\u001b[47m\u001b[37m♙\u001b[107m\u001b[97m♙\u001b[47m\u001b[37m♙\u001b[107m\u001b[97m♙\u001b[47m\u001b[37m♙\u001b[107m\u001b[97m♙\u001b[47m\u001b[37m♙\n",
            "\u001b[47m\u001b[37m♙\u001b[107m\u001b[97m♙\u001b[47m\u001b[30m♙\u001b[107m\u001b[97m♙\u001b[47m\u001b[37m♙\u001b[107m\u001b[97m♙\u001b[47m\u001b[30m♟\u001b[107m\u001b[97m♙\n",
            "\u001b[107m\u001b[97m♙\u001b[47m\u001b[37m♙\u001b[107m\u001b[97m♙\u001b[47m\u001b[37m♙\u001b[107m\u001b[97m♙\u001b[47m\u001b[37m♙\u001b[107m\u001b[97m♙\u001b[47m\u001b[37m♙\n",
            "\u001b[47m\u001b[37m♙\u001b[107m\u001b[97m♙\u001b[47m\u001b[37m♙\u001b[107m\u001b[97m♙\u001b[47m\u001b[37m♙\u001b[107m\u001b[30m♚\u001b[47m\u001b[37m♙\u001b[107m\u001b[30m♟\n",
            "\u001b[107m\u001b[30m♖\u001b[47m\u001b[37m♙\u001b[107m\u001b[97m♙\u001b[47m\u001b[37m♙\u001b[107m\u001b[97m♙\u001b[47m\u001b[37m♙\u001b[107m\u001b[97m♙\u001b[47m\u001b[37m♙\n",
            "\u001b[47m\u001b[37m♙\u001b[107m\u001b[97m♙\u001b[47m\u001b[37m♙\u001b[107m\u001b[97m♙\u001b[47m\u001b[37m♙\u001b[107m\u001b[97m♙\u001b[47m\u001b[37m♙\u001b[107m\u001b[97m♙\n",
            "\u001b[107m\u001b[30m♙\u001b[47m\u001b[30m♙\u001b[107m\u001b[97m♙\u001b[47m\u001b[37m♙\u001b[107m\u001b[97m♙\u001b[47m\u001b[37m♙\u001b[107m\u001b[30m♙\u001b[47m\u001b[30m♙\n",
            "\u001b[47m\u001b[30m♖\u001b[107m\u001b[30m♘\u001b[47m\u001b[30m♗\u001b[107m\u001b[97m♙\u001b[47m\u001b[37m♙\u001b[107m\u001b[97m♙\u001b[47m\u001b[30m♔\u001b[107m\u001b[97m♙\n",
            "\u001b[0m\n",
            "\u001b[107m\u001b[97m♙\u001b[47m\u001b[37m♙\u001b[107m\u001b[97m♙\u001b[47m\u001b[37m♙\u001b[107m\u001b[97m♙\u001b[47m\u001b[37m♙\u001b[107m\u001b[97m♙\u001b[47m\u001b[37m♙\n",
            "\u001b[47m\u001b[37m♙\u001b[107m\u001b[97m♙\u001b[47m\u001b[30m♙\u001b[107m\u001b[97m♙\u001b[47m\u001b[37m♙\u001b[107m\u001b[97m♙\u001b[47m\u001b[30m♟\u001b[107m\u001b[97m♙\n",
            "\u001b[107m\u001b[97m♙\u001b[47m\u001b[37m♙\u001b[107m\u001b[97m♙\u001b[47m\u001b[37m♙\u001b[107m\u001b[97m♙\u001b[47m\u001b[37m♙\u001b[107m\u001b[97m♙\u001b[47m\u001b[37m♙\n",
            "\u001b[47m\u001b[37m♙\u001b[107m\u001b[97m♙\u001b[47m\u001b[37m♙\u001b[107m\u001b[97m♙\u001b[47m\u001b[37m♙\u001b[107m\u001b[30m♚\u001b[47m\u001b[37m♙\u001b[107m\u001b[30m♟\n",
            "\u001b[107m\u001b[30m♖\u001b[47m\u001b[37m♙\u001b[107m\u001b[97m♙\u001b[47m\u001b[37m♙\u001b[107m\u001b[97m♙\u001b[47m\u001b[37m♙\u001b[107m\u001b[97m♙\u001b[47m\u001b[37m♙\n",
            "\u001b[47m\u001b[37m♙\u001b[107m\u001b[97m♙\u001b[47m\u001b[37m♙\u001b[107m\u001b[97m♙\u001b[47m\u001b[37m♙\u001b[107m\u001b[97m♙\u001b[47m\u001b[37m♙\u001b[107m\u001b[97m♙\n",
            "\u001b[107m\u001b[30m♙\u001b[47m\u001b[30m♙\u001b[107m\u001b[97m♙\u001b[47m\u001b[37m♙\u001b[107m\u001b[97m♙\u001b[47m\u001b[37m♙\u001b[107m\u001b[30m♙\u001b[47m\u001b[30m♙\n",
            "\u001b[47m\u001b[30m♖\u001b[107m\u001b[30m♘\u001b[47m\u001b[30m♗\u001b[107m\u001b[97m♙\u001b[47m\u001b[37m♙\u001b[107m\u001b[97m♙\u001b[47m\u001b[30m♔\u001b[107m\u001b[97m♙\n",
            "\u001b[0m\n",
            "['c8', 'c8=r', 'c8=n', 'c8=b', 'c8=q', 'Ra5', 'Ra6', 'Ra7', 'Ra8', 'Rb4', 'Rc4', 'Rd4', 'Re4', 'Rf4', 'Rg4', 'Rh4', 'Ra3', 'a3', 'b3', 'b4', 'g3', 'g4', 'h3', 'h4', 'Nc3', 'Na3', 'Nd2', 'Bd2', 'Be3', 'Bf4', 'Bg5', 'Bh6', 'Kf2', 'Kh1', 'Kf1']\n",
            "31.0\n",
            "Weiß gibt einen Zug ein: c8\n",
            "\u001b[107m\u001b[97m♙\u001b[47m\u001b[37m♙\u001b[107m\u001b[30m♕\u001b[47m\u001b[37m♙\u001b[107m\u001b[97m♙\u001b[47m\u001b[37m♙\u001b[107m\u001b[97m♙\u001b[47m\u001b[37m♙\n",
            "\u001b[47m\u001b[37m♙\u001b[107m\u001b[97m♙\u001b[47m\u001b[37m♙\u001b[107m\u001b[97m♙\u001b[47m\u001b[37m♙\u001b[107m\u001b[97m♙\u001b[47m\u001b[30m♟\u001b[107m\u001b[97m♙\n",
            "\u001b[107m\u001b[97m♙\u001b[47m\u001b[37m♙\u001b[107m\u001b[97m♙\u001b[47m\u001b[37m♙\u001b[107m\u001b[97m♙\u001b[47m\u001b[37m♙\u001b[107m\u001b[97m♙\u001b[47m\u001b[37m♙\n",
            "\u001b[47m\u001b[37m♙\u001b[107m\u001b[97m♙\u001b[47m\u001b[37m♙\u001b[107m\u001b[97m♙\u001b[47m\u001b[37m♙\u001b[107m\u001b[30m♚\u001b[47m\u001b[37m♙\u001b[107m\u001b[30m♟\n",
            "\u001b[107m\u001b[30m♖\u001b[47m\u001b[37m♙\u001b[107m\u001b[97m♙\u001b[47m\u001b[37m♙\u001b[107m\u001b[97m♙\u001b[47m\u001b[37m♙\u001b[107m\u001b[97m♙\u001b[47m\u001b[37m♙\n",
            "\u001b[47m\u001b[37m♙\u001b[107m\u001b[97m♙\u001b[47m\u001b[37m♙\u001b[107m\u001b[97m♙\u001b[47m\u001b[37m♙\u001b[107m\u001b[97m♙\u001b[47m\u001b[37m♙\u001b[107m\u001b[97m♙\n",
            "\u001b[107m\u001b[30m♙\u001b[47m\u001b[30m♙\u001b[107m\u001b[97m♙\u001b[47m\u001b[37m♙\u001b[107m\u001b[97m♙\u001b[47m\u001b[37m♙\u001b[107m\u001b[30m♙\u001b[47m\u001b[30m♙\n",
            "\u001b[47m\u001b[30m♖\u001b[107m\u001b[30m♘\u001b[47m\u001b[30m♗\u001b[107m\u001b[97m♙\u001b[47m\u001b[37m♙\u001b[107m\u001b[97m♙\u001b[47m\u001b[30m♔\u001b[107m\u001b[97m♙\n",
            "\u001b[0m\n",
            "\u001b[107m\u001b[97m♙\u001b[47m\u001b[37m♙\u001b[107m\u001b[30m♕\u001b[47m\u001b[37m♙\u001b[107m\u001b[97m♙\u001b[47m\u001b[37m♙\u001b[107m\u001b[97m♙\u001b[47m\u001b[37m♙\n",
            "\u001b[47m\u001b[37m♙\u001b[107m\u001b[97m♙\u001b[47m\u001b[37m♙\u001b[107m\u001b[97m♙\u001b[47m\u001b[37m♙\u001b[107m\u001b[97m♙\u001b[47m\u001b[30m♟\u001b[107m\u001b[97m♙\n",
            "\u001b[107m\u001b[97m♙\u001b[47m\u001b[37m♙\u001b[107m\u001b[97m♙\u001b[47m\u001b[37m♙\u001b[107m\u001b[97m♙\u001b[47m\u001b[37m♙\u001b[107m\u001b[97m♙\u001b[47m\u001b[37m♙\n",
            "\u001b[47m\u001b[37m♙\u001b[107m\u001b[97m♙\u001b[47m\u001b[37m♙\u001b[107m\u001b[97m♙\u001b[47m\u001b[30m♚\u001b[107m\u001b[97m♙\u001b[47m\u001b[37m♙\u001b[107m\u001b[30m♟\n",
            "\u001b[107m\u001b[30m♖\u001b[47m\u001b[37m♙\u001b[107m\u001b[97m♙\u001b[47m\u001b[37m♙\u001b[107m\u001b[97m♙\u001b[47m\u001b[37m♙\u001b[107m\u001b[97m♙\u001b[47m\u001b[37m♙\n",
            "\u001b[47m\u001b[37m♙\u001b[107m\u001b[97m♙\u001b[47m\u001b[37m♙\u001b[107m\u001b[97m♙\u001b[47m\u001b[37m♙\u001b[107m\u001b[97m♙\u001b[47m\u001b[37m♙\u001b[107m\u001b[97m♙\n",
            "\u001b[107m\u001b[30m♙\u001b[47m\u001b[30m♙\u001b[107m\u001b[97m♙\u001b[47m\u001b[37m♙\u001b[107m\u001b[97m♙\u001b[47m\u001b[37m♙\u001b[107m\u001b[30m♙\u001b[47m\u001b[30m♙\n",
            "\u001b[47m\u001b[30m♖\u001b[107m\u001b[30m♘\u001b[47m\u001b[30m♗\u001b[107m\u001b[97m♙\u001b[47m\u001b[37m♙\u001b[107m\u001b[97m♙\u001b[47m\u001b[30m♔\u001b[107m\u001b[97m♙\n",
            "\u001b[0m\n",
            "['Qb7', 'Qa6', 'Qd7', 'Qe6', 'Qf5', 'Qg4', 'Qh3', 'Qb8', 'Qa8', 'Qd8', 'Qe8', 'Qf8', 'Qg8', 'Qh8', 'Qc7', 'Qc6', 'Qc5', 'Qc4', 'Qc3', 'Qc2', 'Ra5', 'Ra6', 'Ra7', 'Ra8', 'Rb4', 'Rc4', 'Rd4', 'Re4', 'Rf4', 'Rg4', 'Rh4', 'Ra3', 'a3', 'b3', 'b4', 'g3', 'g4', 'h3', 'h4', 'Nc3', 'Na3', 'Nd2', 'Bd2', 'Be3', 'Bf4', 'Bg5', 'Bh6', 'Kf2', 'Kh1', 'Kf1']\n",
            "46.5\n",
            "Weiß gibt einen Zug ein: Bf4\n",
            "\u001b[107m\u001b[97m♙\u001b[47m\u001b[37m♙\u001b[107m\u001b[30m♕\u001b[47m\u001b[37m♙\u001b[107m\u001b[97m♙\u001b[47m\u001b[37m♙\u001b[107m\u001b[97m♙\u001b[47m\u001b[37m♙\n",
            "\u001b[47m\u001b[37m♙\u001b[107m\u001b[97m♙\u001b[47m\u001b[37m♙\u001b[107m\u001b[97m♙\u001b[47m\u001b[37m♙\u001b[107m\u001b[97m♙\u001b[47m\u001b[30m♟\u001b[107m\u001b[97m♙\n",
            "\u001b[107m\u001b[97m♙\u001b[47m\u001b[37m♙\u001b[107m\u001b[97m♙\u001b[47m\u001b[37m♙\u001b[107m\u001b[97m♙\u001b[47m\u001b[37m♙\u001b[107m\u001b[97m♙\u001b[47m\u001b[37m♙\n",
            "\u001b[47m\u001b[37m♙\u001b[107m\u001b[97m♙\u001b[47m\u001b[37m♙\u001b[107m\u001b[97m♙\u001b[47m\u001b[30m♚\u001b[107m\u001b[97m♙\u001b[47m\u001b[37m♙\u001b[107m\u001b[30m♟\n",
            "\u001b[107m\u001b[30m♖\u001b[47m\u001b[37m♙\u001b[107m\u001b[97m♙\u001b[47m\u001b[37m♙\u001b[107m\u001b[97m♙\u001b[47m\u001b[30m♗\u001b[107m\u001b[97m♙\u001b[47m\u001b[37m♙\n",
            "\u001b[47m\u001b[37m♙\u001b[107m\u001b[97m♙\u001b[47m\u001b[37m♙\u001b[107m\u001b[97m♙\u001b[47m\u001b[37m♙\u001b[107m\u001b[97m♙\u001b[47m\u001b[37m♙\u001b[107m\u001b[97m♙\n",
            "\u001b[107m\u001b[30m♙\u001b[47m\u001b[30m♙\u001b[107m\u001b[97m♙\u001b[47m\u001b[37m♙\u001b[107m\u001b[97m♙\u001b[47m\u001b[37m♙\u001b[107m\u001b[30m♙\u001b[47m\u001b[30m♙\n",
            "\u001b[47m\u001b[30m♖\u001b[107m\u001b[30m♘\u001b[47m\u001b[37m♙\u001b[107m\u001b[97m♙\u001b[47m\u001b[37m♙\u001b[107m\u001b[97m♙\u001b[47m\u001b[30m♔\u001b[107m\u001b[97m♙\n",
            "\u001b[0m\n",
            "\u001b[107m\u001b[97m♙\u001b[47m\u001b[37m♙\u001b[107m\u001b[30m♕\u001b[47m\u001b[37m♙\u001b[107m\u001b[97m♙\u001b[47m\u001b[37m♙\u001b[107m\u001b[97m♙\u001b[47m\u001b[37m♙\n",
            "\u001b[47m\u001b[37m♙\u001b[107m\u001b[97m♙\u001b[47m\u001b[37m♙\u001b[107m\u001b[97m♙\u001b[47m\u001b[37m♙\u001b[107m\u001b[97m♙\u001b[47m\u001b[30m♟\u001b[107m\u001b[97m♙\n",
            "\u001b[107m\u001b[97m♙\u001b[47m\u001b[37m♙\u001b[107m\u001b[97m♙\u001b[47m\u001b[37m♙\u001b[107m\u001b[97m♙\u001b[47m\u001b[37m♙\u001b[107m\u001b[97m♙\u001b[47m\u001b[37m♙\n",
            "\u001b[47m\u001b[37m♙\u001b[107m\u001b[97m♙\u001b[47m\u001b[37m♙\u001b[107m\u001b[30m♚\u001b[47m\u001b[37m♙\u001b[107m\u001b[97m♙\u001b[47m\u001b[37m♙\u001b[107m\u001b[30m♟\n",
            "\u001b[107m\u001b[30m♖\u001b[47m\u001b[37m♙\u001b[107m\u001b[97m♙\u001b[47m\u001b[37m♙\u001b[107m\u001b[97m♙\u001b[47m\u001b[30m♗\u001b[107m\u001b[97m♙\u001b[47m\u001b[37m♙\n",
            "\u001b[47m\u001b[37m♙\u001b[107m\u001b[97m♙\u001b[47m\u001b[37m♙\u001b[107m\u001b[97m♙\u001b[47m\u001b[37m♙\u001b[107m\u001b[97m♙\u001b[47m\u001b[37m♙\u001b[107m\u001b[97m♙\n",
            "\u001b[107m\u001b[30m♙\u001b[47m\u001b[30m♙\u001b[107m\u001b[97m♙\u001b[47m\u001b[37m♙\u001b[107m\u001b[97m♙\u001b[47m\u001b[37m♙\u001b[107m\u001b[30m♙\u001b[47m\u001b[30m♙\n",
            "\u001b[47m\u001b[30m♖\u001b[107m\u001b[30m♘\u001b[47m\u001b[37m♙\u001b[107m\u001b[97m♙\u001b[47m\u001b[37m♙\u001b[107m\u001b[97m♙\u001b[47m\u001b[30m♔\u001b[107m\u001b[97m♙\n",
            "\u001b[0m\n",
            "['Qb7', 'Qa6', 'Qd7', 'Qe6', 'Qf5', 'Qg4', 'Qh3', 'Qb8', 'Qa8', 'Qd8', 'Qe8', 'Qf8', 'Qg8', 'Qh8', 'Qc7', 'Qc6', 'Qc5', 'Qc4', 'Qc3', 'Qc2', 'Qc1', 'Ra5', 'Ra6', 'Ra7', 'Ra8', 'Rb4', 'Rc4', 'Rd4', 'Re4', 'Ra3', 'Bg5', 'Bh6', 'Be5', 'Bd6', 'Bc7', 'Bb8', 'Be3', 'Bd2', 'Bc1', 'Bg3', 'a3', 'b3', 'b4', 'g3', 'g4', 'h3', 'h4', 'Nc3', 'Na3', 'Nd2', 'Kf2', 'Kh1', 'Kf1']\n",
            "48.0\n",
            "Weiß gibt einen Zug ein: qa8\n",
            "Ungültiger Zug.\n",
            "Weiß gibt einen Zug ein: Qa8\n",
            "\u001b[107m\u001b[30m♕\u001b[47m\u001b[37m♙\u001b[107m\u001b[97m♙\u001b[47m\u001b[37m♙\u001b[107m\u001b[97m♙\u001b[47m\u001b[37m♙\u001b[107m\u001b[97m♙\u001b[47m\u001b[37m♙\n",
            "\u001b[47m\u001b[37m♙\u001b[107m\u001b[97m♙\u001b[47m\u001b[37m♙\u001b[107m\u001b[97m♙\u001b[47m\u001b[37m♙\u001b[107m\u001b[97m♙\u001b[47m\u001b[30m♟\u001b[107m\u001b[97m♙\n",
            "\u001b[107m\u001b[97m♙\u001b[47m\u001b[37m♙\u001b[107m\u001b[97m♙\u001b[47m\u001b[37m♙\u001b[107m\u001b[97m♙\u001b[47m\u001b[37m♙\u001b[107m\u001b[97m♙\u001b[47m\u001b[37m♙\n",
            "\u001b[47m\u001b[37m♙\u001b[107m\u001b[97m♙\u001b[47m\u001b[37m♙\u001b[107m\u001b[30m♚\u001b[47m\u001b[37m♙\u001b[107m\u001b[97m♙\u001b[47m\u001b[37m♙\u001b[107m\u001b[30m♟\n",
            "\u001b[107m\u001b[30m♖\u001b[47m\u001b[37m♙\u001b[107m\u001b[97m♙\u001b[47m\u001b[37m♙\u001b[107m\u001b[97m♙\u001b[47m\u001b[30m♗\u001b[107m\u001b[97m♙\u001b[47m\u001b[37m♙\n",
            "\u001b[47m\u001b[37m♙\u001b[107m\u001b[97m♙\u001b[47m\u001b[37m♙\u001b[107m\u001b[97m♙\u001b[47m\u001b[37m♙\u001b[107m\u001b[97m♙\u001b[47m\u001b[37m♙\u001b[107m\u001b[97m♙\n",
            "\u001b[107m\u001b[30m♙\u001b[47m\u001b[30m♙\u001b[107m\u001b[97m♙\u001b[47m\u001b[37m♙\u001b[107m\u001b[97m♙\u001b[47m\u001b[37m♙\u001b[107m\u001b[30m♙\u001b[47m\u001b[30m♙\n",
            "\u001b[47m\u001b[30m♖\u001b[107m\u001b[30m♘\u001b[47m\u001b[37m♙\u001b[107m\u001b[97m♙\u001b[47m\u001b[37m♙\u001b[107m\u001b[97m♙\u001b[47m\u001b[30m♔\u001b[107m\u001b[97m♙\n",
            "\u001b[0m\n",
            "\u001b[107m\u001b[30m♕\u001b[47m\u001b[37m♙\u001b[107m\u001b[97m♙\u001b[47m\u001b[37m♙\u001b[107m\u001b[97m♙\u001b[47m\u001b[37m♙\u001b[107m\u001b[97m♙\u001b[47m\u001b[37m♙\n",
            "\u001b[47m\u001b[37m♙\u001b[107m\u001b[97m♙\u001b[47m\u001b[37m♙\u001b[107m\u001b[97m♙\u001b[47m\u001b[37m♙\u001b[107m\u001b[97m♙\u001b[47m\u001b[30m♟\u001b[107m\u001b[97m♙\n",
            "\u001b[107m\u001b[97m♙\u001b[47m\u001b[37m♙\u001b[107m\u001b[97m♙\u001b[47m\u001b[37m♙\u001b[107m\u001b[97m♙\u001b[47m\u001b[37m♙\u001b[107m\u001b[97m♙\u001b[47m\u001b[37m♙\n",
            "\u001b[47m\u001b[37m♙\u001b[107m\u001b[97m♙\u001b[47m\u001b[30m♚\u001b[107m\u001b[97m♙\u001b[47m\u001b[37m♙\u001b[107m\u001b[97m♙\u001b[47m\u001b[37m♙\u001b[107m\u001b[30m♟\n",
            "\u001b[107m\u001b[30m♖\u001b[47m\u001b[37m♙\u001b[107m\u001b[97m♙\u001b[47m\u001b[37m♙\u001b[107m\u001b[97m♙\u001b[47m\u001b[30m♗\u001b[107m\u001b[97m♙\u001b[47m\u001b[37m♙\n",
            "\u001b[47m\u001b[37m♙\u001b[107m\u001b[97m♙\u001b[47m\u001b[37m♙\u001b[107m\u001b[97m♙\u001b[47m\u001b[37m♙\u001b[107m\u001b[97m♙\u001b[47m\u001b[37m♙\u001b[107m\u001b[97m♙\n",
            "\u001b[107m\u001b[30m♙\u001b[47m\u001b[30m♙\u001b[107m\u001b[97m♙\u001b[47m\u001b[37m♙\u001b[107m\u001b[97m♙\u001b[47m\u001b[37m♙\u001b[107m\u001b[30m♙\u001b[47m\u001b[30m♙\n",
            "\u001b[47m\u001b[30m♖\u001b[107m\u001b[30m♘\u001b[47m\u001b[37m♙\u001b[107m\u001b[97m♙\u001b[47m\u001b[37m♙\u001b[107m\u001b[97m♙\u001b[47m\u001b[30m♔\u001b[107m\u001b[97m♙\n",
            "\u001b[0m\n",
            "['Qb7', 'Qc6', 'Qd5', 'Qe4', 'Qf3', 'Qb8', 'Qc8', 'Qd8', 'Qe8', 'Qf8', 'Qg8', 'Qh8', 'Qa7', 'Qa6', 'Qa5', 'Ra5', 'Ra6', 'Ra7', 'Rb4', 'Rc4', 'Rd4', 'Re4', 'Ra3', 'Bg5', 'Bh6', 'Be5', 'Bd6', 'Bc7', 'Bb8', 'Be3', 'Bd2', 'Bc1', 'Bg3', 'a3', 'b3', 'b4', 'g3', 'g4', 'h3', 'h4', 'Nc3', 'Na3', 'Nd2', 'Kf2', 'Kh1', 'Kf1']\n",
            "44.5\n",
            "Weiß gibt einen Zug ein: Qb8\n",
            "\u001b[107m\u001b[97m♙\u001b[47m\u001b[30m♕\u001b[107m\u001b[97m♙\u001b[47m\u001b[37m♙\u001b[107m\u001b[97m♙\u001b[47m\u001b[37m♙\u001b[107m\u001b[97m♙\u001b[47m\u001b[37m♙\n",
            "\u001b[47m\u001b[37m♙\u001b[107m\u001b[97m♙\u001b[47m\u001b[37m♙\u001b[107m\u001b[97m♙\u001b[47m\u001b[37m♙\u001b[107m\u001b[97m♙\u001b[47m\u001b[30m♟\u001b[107m\u001b[97m♙\n",
            "\u001b[107m\u001b[97m♙\u001b[47m\u001b[37m♙\u001b[107m\u001b[97m♙\u001b[47m\u001b[37m♙\u001b[107m\u001b[97m♙\u001b[47m\u001b[37m♙\u001b[107m\u001b[97m♙\u001b[47m\u001b[37m♙\n",
            "\u001b[47m\u001b[37m♙\u001b[107m\u001b[97m♙\u001b[47m\u001b[30m♚\u001b[107m\u001b[97m♙\u001b[47m\u001b[37m♙\u001b[107m\u001b[97m♙\u001b[47m\u001b[37m♙\u001b[107m\u001b[30m♟\n",
            "\u001b[107m\u001b[30m♖\u001b[47m\u001b[37m♙\u001b[107m\u001b[97m♙\u001b[47m\u001b[37m♙\u001b[107m\u001b[97m♙\u001b[47m\u001b[30m♗\u001b[107m\u001b[97m♙\u001b[47m\u001b[37m♙\n",
            "\u001b[47m\u001b[37m♙\u001b[107m\u001b[97m♙\u001b[47m\u001b[37m♙\u001b[107m\u001b[97m♙\u001b[47m\u001b[37m♙\u001b[107m\u001b[97m♙\u001b[47m\u001b[37m♙\u001b[107m\u001b[97m♙\n",
            "\u001b[107m\u001b[30m♙\u001b[47m\u001b[30m♙\u001b[107m\u001b[97m♙\u001b[47m\u001b[37m♙\u001b[107m\u001b[97m♙\u001b[47m\u001b[37m♙\u001b[107m\u001b[30m♙\u001b[47m\u001b[30m♙\n",
            "\u001b[47m\u001b[30m♖\u001b[107m\u001b[30m♘\u001b[47m\u001b[37m♙\u001b[107m\u001b[97m♙\u001b[47m\u001b[37m♙\u001b[107m\u001b[97m♙\u001b[47m\u001b[30m♔\u001b[107m\u001b[97m♙\n",
            "\u001b[0m\n",
            "\u001b[107m\u001b[97m♙\u001b[47m\u001b[30m♕\u001b[107m\u001b[97m♙\u001b[47m\u001b[37m♙\u001b[107m\u001b[97m♙\u001b[47m\u001b[37m♙\u001b[107m\u001b[97m♙\u001b[47m\u001b[37m♙\n",
            "\u001b[47m\u001b[37m♙\u001b[107m\u001b[97m♙\u001b[47m\u001b[37m♙\u001b[107m\u001b[97m♙\u001b[47m\u001b[37m♙\u001b[107m\u001b[97m♙\u001b[47m\u001b[30m♟\u001b[107m\u001b[97m♙\n",
            "\u001b[107m\u001b[97m♙\u001b[47m\u001b[37m♙\u001b[107m\u001b[30m♚\u001b[47m\u001b[37m♙\u001b[107m\u001b[97m♙\u001b[47m\u001b[37m♙\u001b[107m\u001b[97m♙\u001b[47m\u001b[37m♙\n",
            "\u001b[47m\u001b[37m♙\u001b[107m\u001b[97m♙\u001b[47m\u001b[37m♙\u001b[107m\u001b[97m♙\u001b[47m\u001b[37m♙\u001b[107m\u001b[97m♙\u001b[47m\u001b[37m♙\u001b[107m\u001b[30m♟\n",
            "\u001b[107m\u001b[30m♖\u001b[47m\u001b[37m♙\u001b[107m\u001b[97m♙\u001b[47m\u001b[37m♙\u001b[107m\u001b[97m♙\u001b[47m\u001b[30m♗\u001b[107m\u001b[97m♙\u001b[47m\u001b[37m♙\n",
            "\u001b[47m\u001b[37m♙\u001b[107m\u001b[97m♙\u001b[47m\u001b[37m♙\u001b[107m\u001b[97m♙\u001b[47m\u001b[37m♙\u001b[107m\u001b[97m♙\u001b[47m\u001b[37m♙\u001b[107m\u001b[97m♙\n",
            "\u001b[107m\u001b[30m♙\u001b[47m\u001b[30m♙\u001b[107m\u001b[97m♙\u001b[47m\u001b[37m♙\u001b[107m\u001b[97m♙\u001b[47m\u001b[37m♙\u001b[107m\u001b[30m♙\u001b[47m\u001b[30m♙\n",
            "\u001b[47m\u001b[30m♖\u001b[107m\u001b[30m♘\u001b[47m\u001b[37m♙\u001b[107m\u001b[97m♙\u001b[47m\u001b[37m♙\u001b[107m\u001b[97m♙\u001b[47m\u001b[30m♔\u001b[107m\u001b[97m♙\n",
            "\u001b[0m\n",
            "['Qa7', 'Qc7', 'Qd6', 'Qe5', 'Qa8', 'Qc8', 'Qd8', 'Qe8', 'Qf8', 'Qg8', 'Qh8', 'Qb7', 'Qb6', 'Qb5', 'Qb4', 'Qb3', 'Ra5', 'Ra6', 'Ra7', 'Ra8', 'Rb4', 'Rc4', 'Rd4', 'Re4', 'Ra3', 'Bg5', 'Bh6', 'Be5', 'Bd6', 'Bc7', 'Be3', 'Bd2', 'Bc1', 'Bg3', 'a3', 'b3', 'b4', 'g3', 'g4', 'h3', 'h4', 'Nc3', 'Na3', 'Nd2', 'Kf2', 'Kh1', 'Kf1']\n",
            "45.0\n",
            "Weiß gibt einen Zug ein: Ra5\n",
            "\u001b[107m\u001b[97m♙\u001b[47m\u001b[30m♕\u001b[107m\u001b[97m♙\u001b[47m\u001b[37m♙\u001b[107m\u001b[97m♙\u001b[47m\u001b[37m♙\u001b[107m\u001b[97m♙\u001b[47m\u001b[37m♙\n",
            "\u001b[47m\u001b[37m♙\u001b[107m\u001b[97m♙\u001b[47m\u001b[37m♙\u001b[107m\u001b[97m♙\u001b[47m\u001b[37m♙\u001b[107m\u001b[97m♙\u001b[47m\u001b[30m♟\u001b[107m\u001b[97m♙\n",
            "\u001b[107m\u001b[97m♙\u001b[47m\u001b[37m♙\u001b[107m\u001b[30m♚\u001b[47m\u001b[37m♙\u001b[107m\u001b[97m♙\u001b[47m\u001b[37m♙\u001b[107m\u001b[97m♙\u001b[47m\u001b[37m♙\n",
            "\u001b[47m\u001b[30m♖\u001b[107m\u001b[97m♙\u001b[47m\u001b[37m♙\u001b[107m\u001b[97m♙\u001b[47m\u001b[37m♙\u001b[107m\u001b[97m♙\u001b[47m\u001b[37m♙\u001b[107m\u001b[30m♟\n",
            "\u001b[107m\u001b[97m♙\u001b[47m\u001b[37m♙\u001b[107m\u001b[97m♙\u001b[47m\u001b[37m♙\u001b[107m\u001b[97m♙\u001b[47m\u001b[30m♗\u001b[107m\u001b[97m♙\u001b[47m\u001b[37m♙\n",
            "\u001b[47m\u001b[37m♙\u001b[107m\u001b[97m♙\u001b[47m\u001b[37m♙\u001b[107m\u001b[97m♙\u001b[47m\u001b[37m♙\u001b[107m\u001b[97m♙\u001b[47m\u001b[37m♙\u001b[107m\u001b[97m♙\n",
            "\u001b[107m\u001b[30m♙\u001b[47m\u001b[30m♙\u001b[107m\u001b[97m♙\u001b[47m\u001b[37m♙\u001b[107m\u001b[97m♙\u001b[47m\u001b[37m♙\u001b[107m\u001b[30m♙\u001b[47m\u001b[30m♙\n",
            "\u001b[47m\u001b[30m♖\u001b[107m\u001b[30m♘\u001b[47m\u001b[37m♙\u001b[107m\u001b[97m♙\u001b[47m\u001b[37m♙\u001b[107m\u001b[97m♙\u001b[47m\u001b[30m♔\u001b[107m\u001b[97m♙\n",
            "\u001b[0m\n",
            "\u001b[107m\u001b[97m♙\u001b[47m\u001b[30m♕\u001b[107m\u001b[97m♙\u001b[47m\u001b[37m♙\u001b[107m\u001b[97m♙\u001b[47m\u001b[37m♙\u001b[107m\u001b[97m♙\u001b[47m\u001b[37m♙\n",
            "\u001b[47m\u001b[37m♙\u001b[107m\u001b[97m♙\u001b[47m\u001b[37m♙\u001b[107m\u001b[30m♚\u001b[47m\u001b[37m♙\u001b[107m\u001b[97m♙\u001b[47m\u001b[30m♟\u001b[107m\u001b[97m♙\n",
            "\u001b[107m\u001b[97m♙\u001b[47m\u001b[37m♙\u001b[107m\u001b[97m♙\u001b[47m\u001b[37m♙\u001b[107m\u001b[97m♙\u001b[47m\u001b[37m♙\u001b[107m\u001b[97m♙\u001b[47m\u001b[37m♙\n",
            "\u001b[47m\u001b[30m♖\u001b[107m\u001b[97m♙\u001b[47m\u001b[37m♙\u001b[107m\u001b[97m♙\u001b[47m\u001b[37m♙\u001b[107m\u001b[97m♙\u001b[47m\u001b[37m♙\u001b[107m\u001b[30m♟\n",
            "\u001b[107m\u001b[97m♙\u001b[47m\u001b[37m♙\u001b[107m\u001b[97m♙\u001b[47m\u001b[37m♙\u001b[107m\u001b[97m♙\u001b[47m\u001b[30m♗\u001b[107m\u001b[97m♙\u001b[47m\u001b[37m♙\n",
            "\u001b[47m\u001b[37m♙\u001b[107m\u001b[97m♙\u001b[47m\u001b[37m♙\u001b[107m\u001b[97m♙\u001b[47m\u001b[37m♙\u001b[107m\u001b[97m♙\u001b[47m\u001b[37m♙\u001b[107m\u001b[97m♙\n",
            "\u001b[107m\u001b[30m♙\u001b[47m\u001b[30m♙\u001b[107m\u001b[97m♙\u001b[47m\u001b[37m♙\u001b[107m\u001b[97m♙\u001b[47m\u001b[37m♙\u001b[107m\u001b[30m♙\u001b[47m\u001b[30m♙\n",
            "\u001b[47m\u001b[30m♖\u001b[107m\u001b[30m♘\u001b[47m\u001b[37m♙\u001b[107m\u001b[97m♙\u001b[47m\u001b[37m♙\u001b[107m\u001b[97m♙\u001b[47m\u001b[30m♔\u001b[107m\u001b[97m♙\n",
            "\u001b[0m\n",
            "['Qa7', 'Qc7', 'Qd6', 'Qe5', 'Qa8', 'Qc8', 'Qd8', 'Qe8', 'Qf8', 'Qg8', 'Qh8', 'Qb7', 'Qb6', 'Qb5', 'Qb4', 'Qb3', 'Ra6', 'Ra7', 'Ra8', 'Rb5', 'Rc5', 'Rd5', 'Re5', 'Rf5', 'Rg5', 'Rh5', 'Ra4', 'Ra3', 'Bg5', 'Bh6', 'Be5', 'Bd6', 'Bc7', 'Be3', 'Bd2', 'Bc1', 'Bg3', 'a3', 'a4', 'b3', 'b4', 'g3', 'g4', 'h3', 'h4', 'Nc3', 'Na3', 'Nd2', 'Kf2', 'Kh1', 'Kf1']\n",
            "47.0\n",
            "Weiß gibt einen Zug ein: Rc5\n",
            "\u001b[107m\u001b[97m♙\u001b[47m\u001b[30m♕\u001b[107m\u001b[97m♙\u001b[47m\u001b[37m♙\u001b[107m\u001b[97m♙\u001b[47m\u001b[37m♙\u001b[107m\u001b[97m♙\u001b[47m\u001b[37m♙\n",
            "\u001b[47m\u001b[37m♙\u001b[107m\u001b[97m♙\u001b[47m\u001b[37m♙\u001b[107m\u001b[30m♚\u001b[47m\u001b[37m♙\u001b[107m\u001b[97m♙\u001b[47m\u001b[30m♟\u001b[107m\u001b[97m♙\n",
            "\u001b[107m\u001b[97m♙\u001b[47m\u001b[37m♙\u001b[107m\u001b[97m♙\u001b[47m\u001b[37m♙\u001b[107m\u001b[97m♙\u001b[47m\u001b[37m♙\u001b[107m\u001b[97m♙\u001b[47m\u001b[37m♙\n",
            "\u001b[47m\u001b[37m♙\u001b[107m\u001b[97m♙\u001b[47m\u001b[30m♖\u001b[107m\u001b[97m♙\u001b[47m\u001b[37m♙\u001b[107m\u001b[97m♙\u001b[47m\u001b[37m♙\u001b[107m\u001b[30m♟\n",
            "\u001b[107m\u001b[97m♙\u001b[47m\u001b[37m♙\u001b[107m\u001b[97m♙\u001b[47m\u001b[37m♙\u001b[107m\u001b[97m♙\u001b[47m\u001b[30m♗\u001b[107m\u001b[97m♙\u001b[47m\u001b[37m♙\n",
            "\u001b[47m\u001b[37m♙\u001b[107m\u001b[97m♙\u001b[47m\u001b[37m♙\u001b[107m\u001b[97m♙\u001b[47m\u001b[37m♙\u001b[107m\u001b[97m♙\u001b[47m\u001b[37m♙\u001b[107m\u001b[97m♙\n",
            "\u001b[107m\u001b[30m♙\u001b[47m\u001b[30m♙\u001b[107m\u001b[97m♙\u001b[47m\u001b[37m♙\u001b[107m\u001b[97m♙\u001b[47m\u001b[37m♙\u001b[107m\u001b[30m♙\u001b[47m\u001b[30m♙\n",
            "\u001b[47m\u001b[30m♖\u001b[107m\u001b[30m♘\u001b[47m\u001b[37m♙\u001b[107m\u001b[97m♙\u001b[47m\u001b[37m♙\u001b[107m\u001b[97m♙\u001b[47m\u001b[30m♔\u001b[107m\u001b[97m♙\n",
            "\u001b[0m\n",
            "\u001b[107m\u001b[97m♙\u001b[47m\u001b[30m♕\u001b[107m\u001b[97m♙\u001b[47m\u001b[37m♙\u001b[107m\u001b[97m♙\u001b[47m\u001b[37m♙\u001b[107m\u001b[97m♙\u001b[47m\u001b[37m♙\n",
            "\u001b[47m\u001b[37m♙\u001b[107m\u001b[97m♙\u001b[47m\u001b[37m♙\u001b[107m\u001b[97m♙\u001b[47m\u001b[30m♚\u001b[107m\u001b[97m♙\u001b[47m\u001b[30m♟\u001b[107m\u001b[97m♙\n",
            "\u001b[107m\u001b[97m♙\u001b[47m\u001b[37m♙\u001b[107m\u001b[97m♙\u001b[47m\u001b[37m♙\u001b[107m\u001b[97m♙\u001b[47m\u001b[37m♙\u001b[107m\u001b[97m♙\u001b[47m\u001b[37m♙\n",
            "\u001b[47m\u001b[37m♙\u001b[107m\u001b[97m♙\u001b[47m\u001b[30m♖\u001b[107m\u001b[97m♙\u001b[47m\u001b[37m♙\u001b[107m\u001b[97m♙\u001b[47m\u001b[37m♙\u001b[107m\u001b[30m♟\n",
            "\u001b[107m\u001b[97m♙\u001b[47m\u001b[37m♙\u001b[107m\u001b[97m♙\u001b[47m\u001b[37m♙\u001b[107m\u001b[97m♙\u001b[47m\u001b[30m♗\u001b[107m\u001b[97m♙\u001b[47m\u001b[37m♙\n",
            "\u001b[47m\u001b[37m♙\u001b[107m\u001b[97m♙\u001b[47m\u001b[37m♙\u001b[107m\u001b[97m♙\u001b[47m\u001b[37m♙\u001b[107m\u001b[97m♙\u001b[47m\u001b[37m♙\u001b[107m\u001b[97m♙\n",
            "\u001b[107m\u001b[30m♙\u001b[47m\u001b[30m♙\u001b[107m\u001b[97m♙\u001b[47m\u001b[37m♙\u001b[107m\u001b[97m♙\u001b[47m\u001b[37m♙\u001b[107m\u001b[30m♙\u001b[47m\u001b[30m♙\n",
            "\u001b[47m\u001b[30m♖\u001b[107m\u001b[30m♘\u001b[47m\u001b[37m♙\u001b[107m\u001b[97m♙\u001b[47m\u001b[37m♙\u001b[107m\u001b[97m♙\u001b[47m\u001b[30m♔\u001b[107m\u001b[97m♙\n",
            "\u001b[0m\n",
            "['Qa7', 'Qc7', 'Qd6', 'Qe5', 'Qa8', 'Qc8', 'Qd8', 'Qe8', 'Qf8', 'Qg8', 'Qh8', 'Qb7', 'Qb6', 'Qb5', 'Qb4', 'Qb3', 'Rc6', 'Rc7', 'Rc8', 'Rb5', 'Ra5', 'Rd5', 'Re5', 'Rf5', 'Rg5', 'Rh5', 'Rc4', 'Rc3', 'Rc2', 'Rc1', 'Bg5', 'Bh6', 'Be5', 'Bd6', 'Bc7', 'Be3', 'Bd2', 'Bc1', 'Bg3', 'a3', 'a4', 'b3', 'b4', 'g3', 'g4', 'h3', 'h4', 'Nc3', 'Na3', 'Nd2', 'Kf2', 'Kh1', 'Kf1']\n",
            "48.0\n",
            "Weiß gibt einen Zug ein: Qd8\n",
            "\u001b[107m\u001b[97m♙\u001b[47m\u001b[37m♙\u001b[107m\u001b[97m♙\u001b[47m\u001b[30m♕\u001b[107m\u001b[97m♙\u001b[47m\u001b[37m♙\u001b[107m\u001b[97m♙\u001b[47m\u001b[37m♙\n",
            "\u001b[47m\u001b[37m♙\u001b[107m\u001b[97m♙\u001b[47m\u001b[37m♙\u001b[107m\u001b[97m♙\u001b[47m\u001b[30m♚\u001b[107m\u001b[97m♙\u001b[47m\u001b[30m♟\u001b[107m\u001b[97m♙\n",
            "\u001b[107m\u001b[97m♙\u001b[47m\u001b[37m♙\u001b[107m\u001b[97m♙\u001b[47m\u001b[37m♙\u001b[107m\u001b[97m♙\u001b[47m\u001b[37m♙\u001b[107m\u001b[97m♙\u001b[47m\u001b[37m♙\n",
            "\u001b[47m\u001b[37m♙\u001b[107m\u001b[97m♙\u001b[47m\u001b[30m♖\u001b[107m\u001b[97m♙\u001b[47m\u001b[37m♙\u001b[107m\u001b[97m♙\u001b[47m\u001b[37m♙\u001b[107m\u001b[30m♟\n",
            "\u001b[107m\u001b[97m♙\u001b[47m\u001b[37m♙\u001b[107m\u001b[97m♙\u001b[47m\u001b[37m♙\u001b[107m\u001b[97m♙\u001b[47m\u001b[30m♗\u001b[107m\u001b[97m♙\u001b[47m\u001b[37m♙\n",
            "\u001b[47m\u001b[37m♙\u001b[107m\u001b[97m♙\u001b[47m\u001b[37m♙\u001b[107m\u001b[97m♙\u001b[47m\u001b[37m♙\u001b[107m\u001b[97m♙\u001b[47m\u001b[37m♙\u001b[107m\u001b[97m♙\n",
            "\u001b[107m\u001b[30m♙\u001b[47m\u001b[30m♙\u001b[107m\u001b[97m♙\u001b[47m\u001b[37m♙\u001b[107m\u001b[97m♙\u001b[47m\u001b[37m♙\u001b[107m\u001b[30m♙\u001b[47m\u001b[30m♙\n",
            "\u001b[47m\u001b[30m♖\u001b[107m\u001b[30m♘\u001b[47m\u001b[37m♙\u001b[107m\u001b[97m♙\u001b[47m\u001b[37m♙\u001b[107m\u001b[97m♙\u001b[47m\u001b[30m♔\u001b[107m\u001b[97m♙\n",
            "\u001b[0m\n",
            "\u001b[107m\u001b[97m♙\u001b[47m\u001b[37m♙\u001b[107m\u001b[97m♙\u001b[47m\u001b[30m♚\u001b[107m\u001b[97m♙\u001b[47m\u001b[37m♙\u001b[107m\u001b[97m♙\u001b[47m\u001b[37m♙\n",
            "\u001b[47m\u001b[37m♙\u001b[107m\u001b[97m♙\u001b[47m\u001b[37m♙\u001b[107m\u001b[97m♙\u001b[47m\u001b[37m♙\u001b[107m\u001b[97m♙\u001b[47m\u001b[30m♟\u001b[107m\u001b[97m♙\n",
            "\u001b[107m\u001b[97m♙\u001b[47m\u001b[37m♙\u001b[107m\u001b[97m♙\u001b[47m\u001b[37m♙\u001b[107m\u001b[97m♙\u001b[47m\u001b[37m♙\u001b[107m\u001b[97m♙\u001b[47m\u001b[37m♙\n",
            "\u001b[47m\u001b[37m♙\u001b[107m\u001b[97m♙\u001b[47m\u001b[30m♖\u001b[107m\u001b[97m♙\u001b[47m\u001b[37m♙\u001b[107m\u001b[97m♙\u001b[47m\u001b[37m♙\u001b[107m\u001b[30m♟\n",
            "\u001b[107m\u001b[97m♙\u001b[47m\u001b[37m♙\u001b[107m\u001b[97m♙\u001b[47m\u001b[37m♙\u001b[107m\u001b[97m♙\u001b[47m\u001b[30m♗\u001b[107m\u001b[97m♙\u001b[47m\u001b[37m♙\n",
            "\u001b[47m\u001b[37m♙\u001b[107m\u001b[97m♙\u001b[47m\u001b[37m♙\u001b[107m\u001b[97m♙\u001b[47m\u001b[37m♙\u001b[107m\u001b[97m♙\u001b[47m\u001b[37m♙\u001b[107m\u001b[97m♙\n",
            "\u001b[107m\u001b[30m♙\u001b[47m\u001b[30m♙\u001b[107m\u001b[97m♙\u001b[47m\u001b[37m♙\u001b[107m\u001b[97m♙\u001b[47m\u001b[37m♙\u001b[107m\u001b[30m♙\u001b[47m\u001b[30m♙\n",
            "\u001b[47m\u001b[30m♖\u001b[107m\u001b[30m♘\u001b[47m\u001b[37m♙\u001b[107m\u001b[97m♙\u001b[47m\u001b[37m♙\u001b[107m\u001b[97m♙\u001b[47m\u001b[30m♔\u001b[107m\u001b[97m♙\n",
            "\u001b[0m\n",
            "['Rc6', 'Rc7', 'Rc8', 'Rb5', 'Ra5', 'Rd5', 'Re5', 'Rf5', 'Rg5', 'Rh5', 'Rc4', 'Rc3', 'Rc2', 'Rc1', 'Bg5', 'Bh6', 'Be5', 'Bd6', 'Bc7', 'Bb8', 'Be3', 'Bd2', 'Bc1', 'Bg3', 'a3', 'a4', 'b3', 'b4', 'g3', 'g4', 'h3', 'h4', 'Nc3', 'Na3', 'Nd2', 'Kf2', 'Kh1', 'Kf1']\n",
            "33.0\n"
          ]
        },
        {
          "output_type": "error",
          "ename": "KeyboardInterrupt",
          "evalue": "Interrupted by user",
          "traceback": [
            "\u001b[0;31m---------------------------------------------------------------------------\u001b[0m",
            "\u001b[0;31mKeyboardInterrupt\u001b[0m                         Traceback (most recent call last)",
            "\u001b[0;32m<ipython-input-6-d7fc15239806>\u001b[0m in \u001b[0;36m<cell line: 0>\u001b[0;34m()\u001b[0m\n\u001b[1;32m     16\u001b[0m     \u001b[0mprint\u001b[0m\u001b[0;34m(\u001b[0m\u001b[0mget_alle_bewegungen\u001b[0m\u001b[0;34m(\u001b[0m\u001b[0mschachbrett\u001b[0m\u001b[0;34m)\u001b[0m\u001b[0;34m)\u001b[0m\u001b[0;34m\u001b[0m\u001b[0;34m\u001b[0m\u001b[0m\n\u001b[1;32m     17\u001b[0m     \u001b[0mprint\u001b[0m\u001b[0;34m(\u001b[0m\u001b[0mberechne_wert\u001b[0m\u001b[0;34m(\u001b[0m\u001b[0mschachbrett\u001b[0m\u001b[0;34m)\u001b[0m\u001b[0;34m)\u001b[0m\u001b[0;34m\u001b[0m\u001b[0;34m\u001b[0m\u001b[0m\n\u001b[0;32m---> 18\u001b[0;31m     \u001b[0mz\u001b[0m \u001b[0;34m=\u001b[0m \u001b[0minput\u001b[0m\u001b[0;34m(\u001b[0m\u001b[0;34m\"Weiß gibt einen Zug ein: \"\u001b[0m\u001b[0;34m)\u001b[0m\u001b[0;34m\u001b[0m\u001b[0;34m\u001b[0m\u001b[0m\n\u001b[0m\u001b[1;32m     19\u001b[0m     \u001b[0;32mwhile\u001b[0m \u001b[0;32mTrue\u001b[0m\u001b[0;34m:\u001b[0m\u001b[0;34m\u001b[0m\u001b[0;34m\u001b[0m\u001b[0m\n\u001b[1;32m     20\u001b[0m         \u001b[0;32mif\u001b[0m \u001b[0mzug\u001b[0m\u001b[0;34m(\u001b[0m\u001b[0mschachbrett\u001b[0m\u001b[0;34m,\u001b[0m \u001b[0mz\u001b[0m\u001b[0;34m)\u001b[0m \u001b[0;34m==\u001b[0m \u001b[0;32mNone\u001b[0m\u001b[0;34m:\u001b[0m\u001b[0;34m\u001b[0m\u001b[0;34m\u001b[0m\u001b[0m\n",
            "\u001b[0;32m/usr/local/lib/python3.11/dist-packages/ipykernel/kernelbase.py\u001b[0m in \u001b[0;36mraw_input\u001b[0;34m(self, prompt)\u001b[0m\n\u001b[1;32m   1175\u001b[0m                 \u001b[0;34m\"raw_input was called, but this frontend does not support input requests.\"\u001b[0m\u001b[0;34m\u001b[0m\u001b[0;34m\u001b[0m\u001b[0m\n\u001b[1;32m   1176\u001b[0m             )\n\u001b[0;32m-> 1177\u001b[0;31m         return self._input_request(\n\u001b[0m\u001b[1;32m   1178\u001b[0m             \u001b[0mstr\u001b[0m\u001b[0;34m(\u001b[0m\u001b[0mprompt\u001b[0m\u001b[0;34m)\u001b[0m\u001b[0;34m,\u001b[0m\u001b[0;34m\u001b[0m\u001b[0;34m\u001b[0m\u001b[0m\n\u001b[1;32m   1179\u001b[0m             \u001b[0mself\u001b[0m\u001b[0;34m.\u001b[0m\u001b[0m_parent_ident\u001b[0m\u001b[0;34m[\u001b[0m\u001b[0;34m\"shell\"\u001b[0m\u001b[0;34m]\u001b[0m\u001b[0;34m,\u001b[0m\u001b[0;34m\u001b[0m\u001b[0;34m\u001b[0m\u001b[0m\n",
            "\u001b[0;32m/usr/local/lib/python3.11/dist-packages/ipykernel/kernelbase.py\u001b[0m in \u001b[0;36m_input_request\u001b[0;34m(self, prompt, ident, parent, password)\u001b[0m\n\u001b[1;32m   1217\u001b[0m             \u001b[0;32mexcept\u001b[0m \u001b[0mKeyboardInterrupt\u001b[0m\u001b[0;34m:\u001b[0m\u001b[0;34m\u001b[0m\u001b[0;34m\u001b[0m\u001b[0m\n\u001b[1;32m   1218\u001b[0m                 \u001b[0;31m# re-raise KeyboardInterrupt, to truncate traceback\u001b[0m\u001b[0;34m\u001b[0m\u001b[0;34m\u001b[0m\u001b[0m\n\u001b[0;32m-> 1219\u001b[0;31m                 \u001b[0;32mraise\u001b[0m \u001b[0mKeyboardInterrupt\u001b[0m\u001b[0;34m(\u001b[0m\u001b[0;34m\"Interrupted by user\"\u001b[0m\u001b[0;34m)\u001b[0m \u001b[0;32mfrom\u001b[0m \u001b[0;32mNone\u001b[0m\u001b[0;34m\u001b[0m\u001b[0;34m\u001b[0m\u001b[0m\n\u001b[0m\u001b[1;32m   1220\u001b[0m             \u001b[0;32mexcept\u001b[0m \u001b[0mException\u001b[0m\u001b[0;34m:\u001b[0m\u001b[0;34m\u001b[0m\u001b[0;34m\u001b[0m\u001b[0m\n\u001b[1;32m   1221\u001b[0m                 \u001b[0mself\u001b[0m\u001b[0;34m.\u001b[0m\u001b[0mlog\u001b[0m\u001b[0;34m.\u001b[0m\u001b[0mwarning\u001b[0m\u001b[0;34m(\u001b[0m\u001b[0;34m\"Invalid Message:\"\u001b[0m\u001b[0;34m,\u001b[0m \u001b[0mexc_info\u001b[0m\u001b[0;34m=\u001b[0m\u001b[0;32mTrue\u001b[0m\u001b[0;34m)\u001b[0m\u001b[0;34m\u001b[0m\u001b[0;34m\u001b[0m\u001b[0m\n",
            "\u001b[0;31mKeyboardInterrupt\u001b[0m: Interrupted by user"
          ]
        }
      ]
    },
    {
      "cell_type": "code",
      "source": [
        "test = [-3,-2,-1,0,1,2,3,2,6,43,2,5,4,2,1,2,7,8,9,7,5]\n",
        "n = len(test)//2\n",
        "test = sorted(test, reverse=True)[:n]\n",
        "\n",
        "def waehle_zufall(scores):\n",
        "    #print(scores)\n",
        "    scores = [eintrag-min(scores)+1 for eintrag in scores]\n",
        "    #print(scores)\n",
        "    z = randint(0,sum(scores))\n",
        "    for i in range(len(scores)):\n",
        "        eintrag = scores[i]\n",
        "        z -= eintrag\n",
        "        if z<1:\n",
        "            return i\n",
        "\n",
        "liste = 10*[0]\n",
        "for i in range(1000):\n",
        "    liste[waehle_zufall(test)] += 1\n",
        "\n",
        "print([i/max(test) for i in test])\n",
        "print([i/max(liste) for i in liste])\n",
        "print(liste)"
      ],
      "metadata": {
        "id": "gaCGbEW4TBmT"
      },
      "execution_count": null,
      "outputs": []
    },
    {
      "cell_type": "code",
      "source": [
        "!wget https://raw.githubusercontent.com/prateeksan/chesspi/development/sample_data/Kasparov.pgn -O \"Kasparov.txt\""
      ],
      "metadata": {
        "id": "j3B8gyvWV6kV"
      },
      "execution_count": null,
      "outputs": []
    },
    {
      "cell_type": "code",
      "source": [
        "with open(\"Kasparov.txt\", \"rb\") as file:\n",
        "    zeilen = file.readlines()\n"
      ],
      "metadata": {
        "id": "1oiBxR9NWNNZ"
      },
      "execution_count": null,
      "outputs": []
    },
    {
      "cell_type": "code",
      "source": [
        "spiele = (\"\\n\".join([z.decode('ascii').strip() for z in zeilen[:34000]])).split(\"\\n\\n\")[1::2]\n",
        "print(len(spiele))\n"
      ],
      "metadata": {
        "id": "yuNUqbbLhy1Y"
      },
      "execution_count": null,
      "outputs": []
    },
    {
      "cell_type": "code",
      "source": [
        "print(spiele[0])"
      ],
      "metadata": {
        "id": "64tiIAItYV4n"
      },
      "execution_count": null,
      "outputs": []
    },
    {
      "cell_type": "code",
      "source": [
        "spielliste = []\n",
        "\n",
        "for spiel in spiele:\n",
        "    spiel = spiel.replace(\"\\n\", \" \")\n",
        "    spiel_ohne_ergebnis = spiel.split(\"  \")[0]+\"  \"\n",
        "    zugliste = [z.split(\" \")[:2] for z in spiel_ohne_ergebnis.split(\".\")[1:]]\n",
        "    spielliste.append(zugliste)"
      ],
      "metadata": {
        "id": "LbciQEf0ZVf4"
      },
      "execution_count": null,
      "outputs": []
    },
    {
      "cell_type": "code",
      "source": [
        "print(*spielliste[0], sep=\"\\n\")"
      ],
      "metadata": {
        "id": "NfQw4LazX6ZQ"
      },
      "execution_count": null,
      "outputs": []
    },
    {
      "cell_type": "code",
      "source": [
        "import numpy as np\n",
        "import matplotlib.pyplot as plt\n",
        "\n",
        "feld = np.zeros([8,8])\n",
        "pos = get_index(\"B1\")\n",
        "feld[pos[0], pos[1]] += 1\n",
        "pos = get_index(\"G1\")\n",
        "feld[pos[0], pos[1]] += 1\n",
        "pos = get_index(\"B8\")\n",
        "feld[pos[0], pos[1]] += 1\n",
        "pos = get_index(\"G8\")\n",
        "feld[pos[0], pos[1]] += 1\n",
        "\n",
        "print(feld)\n",
        "for zugliste in spielliste:\n",
        "    for zug in zugliste:\n",
        "        for z in zug:\n",
        "            z = z.replace(\"+\", \"\")\n",
        "            if len(z)>0 and z[0]==\"K\":\n",
        "                pos = get_index(z[-2:])\n",
        "                feld[pos[0], pos[1]] += 1\n",
        "\n",
        "plt.figure()\n",
        "plt.imshow(feld)\n",
        "plt.colorbar()\n",
        "plt.show()\n"
      ],
      "metadata": {
        "id": "Uf7ktpQbYxza"
      },
      "execution_count": null,
      "outputs": []
    }
  ]
}