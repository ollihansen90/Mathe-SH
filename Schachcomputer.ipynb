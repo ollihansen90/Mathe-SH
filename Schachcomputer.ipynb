{
  "nbformat": 4,
  "nbformat_minor": 0,
  "metadata": {
    "colab": {
      "provenance": [],
      "authorship_tag": "ABX9TyOIz4kjOFzTynNyoHt/xCvt",
      "include_colab_link": true
    },
    "kernelspec": {
      "name": "python3",
      "display_name": "Python 3"
    },
    "language_info": {
      "name": "python"
    }
  },
  "cells": [
    {
      "cell_type": "markdown",
      "metadata": {
        "id": "view-in-github",
        "colab_type": "text"
      },
      "source": [
        "<a href=\"https://colab.research.google.com/github/ollihansen90/Mathe-SH/blob/main/Schachcomputer.ipynb\" target=\"_parent\"><img src=\"https://colab.research.google.com/assets/colab-badge.svg\" alt=\"Open In Colab\"/></a>"
      ]
    },
    {
      "cell_type": "code",
      "execution_count": 1,
      "metadata": {
        "colab": {
          "base_uri": "https://localhost:8080/"
        },
        "id": "0jfTY-sPGz7b",
        "outputId": "f0a477b2-c3a3-4970-a403-76f3b239f28c"
      },
      "outputs": [
        {
          "output_type": "stream",
          "name": "stdout",
          "text": [
            "\u001b[107m\u001b[30m♜\u001b[47m\u001b[30m♞\u001b[107m\u001b[30m♝\u001b[47m\u001b[30m♛\u001b[107m\u001b[30m♚\u001b[47m\u001b[30m♝\u001b[107m\u001b[30m♞\u001b[47m\u001b[30m♜\n",
            "\u001b[47m\u001b[30m♟\u001b[107m\u001b[30m♟\u001b[47m\u001b[30m♟\u001b[107m\u001b[30m♟\u001b[47m\u001b[30m♟\u001b[107m\u001b[30m♟\u001b[47m\u001b[30m♟\u001b[107m\u001b[30m♟\n",
            "\u001b[107m\u001b[97m♙\u001b[47m\u001b[37m♙\u001b[107m\u001b[97m♙\u001b[47m\u001b[37m♙\u001b[107m\u001b[97m♙\u001b[47m\u001b[37m♙\u001b[107m\u001b[97m♙\u001b[47m\u001b[37m♙\n",
            "\u001b[47m\u001b[37m♙\u001b[107m\u001b[97m♙\u001b[47m\u001b[37m♙\u001b[107m\u001b[97m♙\u001b[47m\u001b[37m♙\u001b[107m\u001b[97m♙\u001b[47m\u001b[37m♙\u001b[107m\u001b[97m♙\n",
            "\u001b[107m\u001b[97m♙\u001b[47m\u001b[37m♙\u001b[107m\u001b[97m♙\u001b[47m\u001b[37m♙\u001b[107m\u001b[97m♙\u001b[47m\u001b[37m♙\u001b[107m\u001b[97m♙\u001b[47m\u001b[37m♙\n",
            "\u001b[47m\u001b[37m♙\u001b[107m\u001b[97m♙\u001b[47m\u001b[37m♙\u001b[107m\u001b[97m♙\u001b[47m\u001b[37m♙\u001b[107m\u001b[97m♙\u001b[47m\u001b[37m♙\u001b[107m\u001b[97m♙\n",
            "\u001b[107m\u001b[30m♙\u001b[47m\u001b[30m♙\u001b[107m\u001b[30m♙\u001b[47m\u001b[30m♙\u001b[107m\u001b[30m♙\u001b[47m\u001b[30m♙\u001b[107m\u001b[30m♙\u001b[47m\u001b[30m♙\n",
            "\u001b[47m\u001b[30m♖\u001b[107m\u001b[30m♘\u001b[47m\u001b[30m♗\u001b[107m\u001b[30m♕\u001b[47m\u001b[30m♔\u001b[107m\u001b[30m♗\u001b[47m\u001b[30m♘\u001b[107m\u001b[30m♖\n",
            "\u001b[0m\n",
            "\u001b[107m\u001b[30m♜\u001b[47m\u001b[30m♞\u001b[107m\u001b[30m♝\u001b[47m\u001b[30m♛\u001b[107m\u001b[30m♚\u001b[47m\u001b[30m♝\u001b[107m\u001b[30m♞\u001b[47m\u001b[30m♜\n",
            "\u001b[47m\u001b[30m♟\u001b[107m\u001b[30m♟\u001b[47m\u001b[30m♟\u001b[107m\u001b[30m♟\u001b[47m\u001b[30m♟\u001b[107m\u001b[30m♟\u001b[47m\u001b[30m♟\u001b[107m\u001b[30m♟\n",
            "\u001b[107m\u001b[97m♙\u001b[47m\u001b[37m♙\u001b[107m\u001b[97m♙\u001b[47m\u001b[37m♙\u001b[107m\u001b[97m♙\u001b[47m\u001b[37m♙\u001b[107m\u001b[97m♙\u001b[47m\u001b[37m♙\n",
            "\u001b[47m\u001b[37m♙\u001b[107m\u001b[97m♙\u001b[47m\u001b[37m♙\u001b[107m\u001b[97m♙\u001b[47m\u001b[37m♙\u001b[107m\u001b[97m♙\u001b[47m\u001b[37m♙\u001b[107m\u001b[97m♙\n",
            "\u001b[107m\u001b[97m♙\u001b[47m\u001b[37m♙\u001b[107m\u001b[97m♙\u001b[47m\u001b[37m♙\u001b[107m\u001b[97m♙\u001b[47m\u001b[37m♙\u001b[107m\u001b[97m♙\u001b[47m\u001b[37m♙\n",
            "\u001b[47m\u001b[37m♙\u001b[107m\u001b[97m♙\u001b[47m\u001b[37m♙\u001b[107m\u001b[97m♙\u001b[47m\u001b[30m♙\u001b[107m\u001b[97m♙\u001b[47m\u001b[37m♙\u001b[107m\u001b[97m♙\n",
            "\u001b[107m\u001b[30m♙\u001b[47m\u001b[30m♙\u001b[107m\u001b[30m♙\u001b[47m\u001b[30m♙\u001b[107m\u001b[97m♙\u001b[47m\u001b[30m♙\u001b[107m\u001b[30m♙\u001b[47m\u001b[30m♙\n",
            "\u001b[47m\u001b[30m♖\u001b[107m\u001b[30m♘\u001b[47m\u001b[30m♗\u001b[107m\u001b[30m♕\u001b[47m\u001b[30m♔\u001b[107m\u001b[30m♗\u001b[47m\u001b[30m♘\u001b[107m\u001b[30m♖\n",
            "\u001b[0m\n"
          ]
        }
      ],
      "source": [
        "bauer = 1 # 1\n",
        "springer = 2 # 3\n",
        "laeufer = 3 # 3\n",
        "turm = 4 # 5\n",
        "dame = 5 # 9\n",
        "koenig = 6 # 100\n",
        "leer = 0\n",
        "figuren = [\"\\u2659\", \"\\u2659\",\"\\u2658\",\"\\u2657\",\"\\u2656\",\"\\u2655\",\"\\u2654\",\"\\u265A\",\"\\u265B\",\"\\u265C\",\"\\u265D\",\"\\u265E\",\"\\u265F\"]\n",
        "\n",
        "def get_index(pos):\n",
        "    pos = pos.upper()\n",
        "    # erhält z. B. \"D4\" und gibt Liste [4,3] zurück\n",
        "    assert pos[0] in \"ABCDEFGH\" and pos[1] in \"12345678\", pos+\" ist keine gültige Position.\"\n",
        "\n",
        "    counter = 0\n",
        "    for buchstabe in \"ABCDEFGH\":\n",
        "        if buchstabe==pos[0]:\n",
        "            break\n",
        "        counter += 1\n",
        "\n",
        "    liste = [8-int(pos[1]), counter]\n",
        "    return liste\n",
        "\n",
        "class Spielfeld():\n",
        "    def __init__(self):\n",
        "        #self.feld = None\n",
        "        self.reset()\n",
        "\n",
        "    def reset(self):\n",
        "        self.feld = [\n",
        "            [-turm, -springer, -laeufer, -dame, -koenig, -laeufer, -springer, -turm],\n",
        "            [-bauer, -bauer, -bauer, -bauer, -bauer, -bauer, -bauer, -bauer],\n",
        "            [leer, leer, leer, leer, leer, leer, leer, leer],\n",
        "            [leer, leer, leer, leer, leer, leer, leer, leer],\n",
        "            [leer, leer, leer, leer, leer, leer, leer, leer],\n",
        "            [leer, leer, leer, leer, leer, leer, leer, leer],\n",
        "            [bauer, bauer, bauer, bauer, bauer, bauer, bauer, bauer],\n",
        "            [turm, springer, laeufer, dame, koenig, laeufer, springer, turm]\n",
        "        ]\n",
        "\n",
        "    def male(self):\n",
        "        output = ''\n",
        "        bg = [\"\\x1b[47m\", \"\\x1b[107m\"]\n",
        "        leer_farbe = [\"\\x1b[37m\", \"\\x1b[97m\"]\n",
        "        counter = 0\n",
        "        for reihe in self.feld:\n",
        "            counter += 1\n",
        "            for feld in reihe:\n",
        "                if feld == 0:\n",
        "                    output += bg[counter%2]+leer_farbe[counter%2]+figuren[feld]\n",
        "                else:\n",
        "                    output += bg[counter%2]+\"\\x1b[30m\"+figuren[feld]\n",
        "                counter += 1\n",
        "            output += '\\n'\n",
        "        output += \"\\x1b[0m\"\n",
        "        print(output)\n",
        "\n",
        "    def __getitem__(self, pos):\n",
        "        liste = get_index(pos)\n",
        "        return self.feld[liste[0]][liste[1]]\n",
        "\n",
        "    def __setitem__(self, pos, value):\n",
        "        liste = get_index(pos)\n",
        "        self.feld[liste[0]][liste[1]] = value\n",
        "\n",
        "schachbrett = Spielfeld()\n",
        "schachbrett2 = Spielfeld()\n",
        "schachbrett.male()\n",
        "\n",
        "schachbrett[\"E2\"] = leer\n",
        "schachbrett[\"E3\"] = bauer\n",
        "schachbrett.male()"
      ]
    },
    {
      "cell_type": "code",
      "source": [
        "def bewege_bauer(schachbrett, pos):\n",
        "    # Checkliste: Ist da Bauer? Kann er sich bewegen?\n",
        "    assert abs(schachbrett[pos])==bauer, \"Hier steht kein Bauer.\"\n",
        "\n",
        "    schachbrett[pos] = leer\n",
        "    pos_neu = get_bewegung(schachbrett, pos)[0]\n",
        "    schachbrett[pos_neu] = bauer\n",
        "\n",
        "def get_bewegung(schachbrett, pos):\n",
        "    output = []\n",
        "    figur = schachbrett[pos]\n",
        "    # Springe 1 nach vorne\n",
        "    if schachbrett[pos[0]+str(int(pos[1])+1)]==leer:\n",
        "        output.append(pos[0]+str(int(pos[1])+1))\n",
        "    # Springe 2 nach vorne, falls du dich noch nicht bewegt hast\n",
        "    if pos[1]==\"2\" and schachbrett[pos[0]+\"3\"]==leer and schachbrett[pos[0]+\"4\"]==leer:\n",
        "        output.append(pos[0]+\"4\")\n",
        "    # Springe 1 diagonal nach vorne, falls da ein Gegner sitzt\n",
        "    # Oben rechts von B2 ist C3\n",
        "    diag_rechts = chr(ord(pos[0])+1)+str(int(pos[1])+1)\n",
        "    if schachbrett[diag_rechts]<0:\n",
        "        output.append(diag_rechts)\n",
        "    diag_links = chr(ord(pos[0])-1)+str(int(pos[1])+1)\n",
        "    if schachbrett[diag_links]<0:\n",
        "        output.append(diag_links)\n",
        "\n",
        "    return output\n",
        "\n",
        "schachbrett.reset()\n",
        "schachbrett[\"A3\"] = -bauer\n",
        "schachbrett[\"C3\"] = -bauer\n",
        "print(get_bewegung(schachbrett, \"B2\"))\n",
        "schachbrett.male()\n",
        "bewege_bauer(schachbrett, \"B2\")\n",
        "schachbrett.male()\n"
      ],
      "metadata": {
        "colab": {
          "base_uri": "https://localhost:8080/"
        },
        "id": "ZwXWSukQKgCi",
        "outputId": "d82e8781-9cf2-44cb-a197-e57af42e2f6a"
      },
      "execution_count": 3,
      "outputs": [
        {
          "output_type": "stream",
          "name": "stdout",
          "text": [
            "['B3', 'B4', 'C3', 'A3']\n",
            "\u001b[107m\u001b[30m♜\u001b[47m\u001b[30m♞\u001b[107m\u001b[30m♝\u001b[47m\u001b[30m♛\u001b[107m\u001b[30m♚\u001b[47m\u001b[30m♝\u001b[107m\u001b[30m♞\u001b[47m\u001b[30m♜\n",
            "\u001b[47m\u001b[30m♟\u001b[107m\u001b[30m♟\u001b[47m\u001b[30m♟\u001b[107m\u001b[30m♟\u001b[47m\u001b[30m♟\u001b[107m\u001b[30m♟\u001b[47m\u001b[30m♟\u001b[107m\u001b[30m♟\n",
            "\u001b[107m\u001b[97m♙\u001b[47m\u001b[37m♙\u001b[107m\u001b[97m♙\u001b[47m\u001b[37m♙\u001b[107m\u001b[97m♙\u001b[47m\u001b[37m♙\u001b[107m\u001b[97m♙\u001b[47m\u001b[37m♙\n",
            "\u001b[47m\u001b[37m♙\u001b[107m\u001b[97m♙\u001b[47m\u001b[37m♙\u001b[107m\u001b[97m♙\u001b[47m\u001b[37m♙\u001b[107m\u001b[97m♙\u001b[47m\u001b[37m♙\u001b[107m\u001b[97m♙\n",
            "\u001b[107m\u001b[97m♙\u001b[47m\u001b[37m♙\u001b[107m\u001b[97m♙\u001b[47m\u001b[37m♙\u001b[107m\u001b[97m♙\u001b[47m\u001b[37m♙\u001b[107m\u001b[97m♙\u001b[47m\u001b[37m♙\n",
            "\u001b[47m\u001b[30m♟\u001b[107m\u001b[97m♙\u001b[47m\u001b[30m♟\u001b[107m\u001b[97m♙\u001b[47m\u001b[37m♙\u001b[107m\u001b[97m♙\u001b[47m\u001b[37m♙\u001b[107m\u001b[97m♙\n",
            "\u001b[107m\u001b[30m♙\u001b[47m\u001b[30m♙\u001b[107m\u001b[30m♙\u001b[47m\u001b[30m♙\u001b[107m\u001b[30m♙\u001b[47m\u001b[30m♙\u001b[107m\u001b[30m♙\u001b[47m\u001b[30m♙\n",
            "\u001b[47m\u001b[30m♖\u001b[107m\u001b[30m♘\u001b[47m\u001b[30m♗\u001b[107m\u001b[30m♕\u001b[47m\u001b[30m♔\u001b[107m\u001b[30m♗\u001b[47m\u001b[30m♘\u001b[107m\u001b[30m♖\n",
            "\u001b[0m\n",
            "\u001b[107m\u001b[30m♜\u001b[47m\u001b[30m♞\u001b[107m\u001b[30m♝\u001b[47m\u001b[30m♛\u001b[107m\u001b[30m♚\u001b[47m\u001b[30m♝\u001b[107m\u001b[30m♞\u001b[47m\u001b[30m♜\n",
            "\u001b[47m\u001b[30m♟\u001b[107m\u001b[30m♟\u001b[47m\u001b[30m♟\u001b[107m\u001b[30m♟\u001b[47m\u001b[30m♟\u001b[107m\u001b[30m♟\u001b[47m\u001b[30m♟\u001b[107m\u001b[30m♟\n",
            "\u001b[107m\u001b[97m♙\u001b[47m\u001b[37m♙\u001b[107m\u001b[97m♙\u001b[47m\u001b[37m♙\u001b[107m\u001b[97m♙\u001b[47m\u001b[37m♙\u001b[107m\u001b[97m♙\u001b[47m\u001b[37m♙\n",
            "\u001b[47m\u001b[37m♙\u001b[107m\u001b[97m♙\u001b[47m\u001b[37m♙\u001b[107m\u001b[97m♙\u001b[47m\u001b[37m♙\u001b[107m\u001b[97m♙\u001b[47m\u001b[37m♙\u001b[107m\u001b[97m♙\n",
            "\u001b[107m\u001b[97m♙\u001b[47m\u001b[37m♙\u001b[107m\u001b[97m♙\u001b[47m\u001b[37m♙\u001b[107m\u001b[97m♙\u001b[47m\u001b[37m♙\u001b[107m\u001b[97m♙\u001b[47m\u001b[37m♙\n",
            "\u001b[47m\u001b[30m♟\u001b[107m\u001b[30m♙\u001b[47m\u001b[30m♟\u001b[107m\u001b[97m♙\u001b[47m\u001b[37m♙\u001b[107m\u001b[97m♙\u001b[47m\u001b[37m♙\u001b[107m\u001b[97m♙\n",
            "\u001b[107m\u001b[30m♙\u001b[47m\u001b[37m♙\u001b[107m\u001b[30m♙\u001b[47m\u001b[30m♙\u001b[107m\u001b[30m♙\u001b[47m\u001b[30m♙\u001b[107m\u001b[30m♙\u001b[47m\u001b[30m♙\n",
            "\u001b[47m\u001b[30m♖\u001b[107m\u001b[30m♘\u001b[47m\u001b[30m♗\u001b[107m\u001b[30m♕\u001b[47m\u001b[30m♔\u001b[107m\u001b[30m♗\u001b[47m\u001b[30m♘\u001b[107m\u001b[30m♖\n",
            "\u001b[0m\n"
          ]
        }
      ]
    },
    {
      "cell_type": "code",
      "source": [
        "print(chr(ord(\"B\")+1))"
      ],
      "metadata": {
        "colab": {
          "base_uri": "https://localhost:8080/"
        },
        "id": "N_Pv3V-dWDoA",
        "outputId": "a5d65d08-baf7-44ea-a1f5-469abf6fc256"
      },
      "execution_count": 35,
      "outputs": [
        {
          "output_type": "stream",
          "name": "stdout",
          "text": [
            "C\n"
          ]
        }
      ]
    },
    {
      "cell_type": "code",
      "source": [
        "schachbrett_fig = [[figuren[fig] for fig in lis] for lis in schachbrett]\n",
        "print(*schachbrett_fig, sep=\"\\n\")"
      ],
      "metadata": {
        "colab": {
          "base_uri": "https://localhost:8080/"
        },
        "id": "Fiz_re82OGEY",
        "outputId": "9484b193-3781-452c-89e3-d397c565af6f"
      },
      "execution_count": null,
      "outputs": [
        {
          "output_type": "stream",
          "name": "stdout",
          "text": [
            "['♜', '♞', '♝', '♛', '♚', '♝', '♞', '♜']\n",
            "['♟', '♟', '♟', '♟', '♟', '♟', '♟', '♟']\n",
            "['  ', '  ', '  ', '  ', '  ', '  ', '  ', '  ']\n",
            "['  ', '  ', '  ', '  ', '  ', '  ', '  ', '  ']\n",
            "['  ', '  ', '  ', '  ', '  ', '  ', '  ', '  ']\n",
            "['  ', '  ', '  ', '  ', '  ', '  ', '  ', '  ']\n",
            "['♙', '♙', '♙', '♙', '♙', '♙', '♙', '♙']\n",
            "['♖', '♘', '♗', '♕', '♔', '♗', '♘', '♖']\n"
          ]
        }
      ]
    },
    {
      "cell_type": "code",
      "source": [
        "!python3 --version"
      ],
      "metadata": {
        "colab": {
          "base_uri": "https://localhost:8080/"
        },
        "id": "RVO0ooGWR5bA",
        "outputId": "299480f1-8095-4861-8d25-4e5108e25167"
      },
      "execution_count": null,
      "outputs": [
        {
          "output_type": "stream",
          "name": "stdout",
          "text": [
            "Python 3.10.12\n"
          ]
        }
      ]
    }
  ]
}