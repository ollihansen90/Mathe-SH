{
  "nbformat": 4,
  "nbformat_minor": 0,
  "metadata": {
    "colab": {
      "provenance": [],
      "include_colab_link": true
    },
    "kernelspec": {
      "name": "python3",
      "display_name": "Python 3"
    },
    "language_info": {
      "name": "python"
    }
  },
  "cells": [
    {
      "cell_type": "markdown",
      "metadata": {
        "id": "view-in-github",
        "colab_type": "text"
      },
      "source": [
        "<a href=\"https://colab.research.google.com/github/ollihansen90/Mathe-SH/blob/main/Klausur_2024.ipynb\" target=\"_parent\"><img src=\"https://colab.research.google.com/assets/colab-badge.svg\" alt=\"Open In Colab\"/></a>"
      ]
    },
    {
      "cell_type": "markdown",
      "source": [
        "# 🥳 Python-Klausur - 26.06.2024 🥳\n",
        "\n",
        "## Fragen?\n",
        "Solltet ihr Fragen zu den Aufgaben oder Probleme mit Colab haben, schickt uns gerne eine Mail:\n",
        "\n",
        "*   h.hansen@uni-luebeck.de\n",
        "*   friederike.meissner@student.uni-luebeck.de\n",
        "*   dustin.haschke@student.uni-luebeck.de\n",
        "\n",
        "**Weitere Hilfen**\n",
        "\n",
        " Dokumentation: https://docs.python.org\n",
        "\n",
        "alte Notebooks: https://github.com/ollihansen90/Mathe-SH/"
      ],
      "metadata": {
        "id": "5OVTFnNOm6w6"
      }
    },
    {
      "cell_type": "markdown",
      "source": [
        "## Teil 0\n",
        "\n",
        "Gib deinen Namen auf der Konsole aus. Dieser Name wird hinterher auch auf deiner Urkunde stehen!"
      ],
      "metadata": {
        "id": "0uhXpZnfnEef"
      }
    },
    {
      "cell_type": "code",
      "execution_count": null,
      "metadata": {
        "id": "3X4VW8BQmufg"
      },
      "outputs": [],
      "source": [
        "# Hier kommt dein Code rein\n",
        "\n"
      ]
    },
    {
      "cell_type": "markdown",
      "source": [
        "## Teil 1 (Abgabe am 26.6.)\n",
        "\n",
        "Schicke diesen Teil bitte am **26.6.** bis **19.15 Uhr** (am besten als .ipynb, siehe \"Datei\" > \"Herunterladen\") an dustin.haschke@student.uni-luebeck.de."
      ],
      "metadata": {
        "id": "34Q6ChnBnHiD"
      }
    },
    {
      "cell_type": "markdown",
      "source": [
        "### 🤔 Aufgabe 1 (Quizfragen) 🤔\n",
        "\n",
        "Entscheide bei den folgenden Aussagen jeweils, ob sie richtig oder falsch sind. Ist eine Aussage falsch, begründe dies bitte oder korrigiere sie."
      ],
      "metadata": {
        "id": "aur66Y9lnPzv"
      }
    },
    {
      "cell_type": "markdown",
      "source": [
        "Aussage 1: Der Variablenname `testFunktion` entspricht der Camel-Case-Konvention."
      ],
      "metadata": {
        "id": "cqgeP_oRhW5Y"
      }
    },
    {
      "cell_type": "code",
      "source": [
        "# Antwort:"
      ],
      "metadata": {
        "id": "NoYYcGmWnUZw"
      },
      "execution_count": null,
      "outputs": []
    },
    {
      "cell_type": "markdown",
      "source": [
        "Aussage 2:`liste = {1,2,3,4,5,6,7,8,9,10}` erstellt eine Liste der Einträge von 1 bis 10.\n",
        "\n",
        "\n"
      ],
      "metadata": {
        "id": "JIaNzutihcaj"
      }
    },
    {
      "cell_type": "code",
      "source": [
        "# Antwort:"
      ],
      "metadata": {
        "id": "4RzZmo47jLpq"
      },
      "execution_count": null,
      "outputs": []
    },
    {
      "cell_type": "markdown",
      "source": [
        "Aussage 3: `dict == {Montag: 12; Dienstag: 15}` legt ein funktionierendes Dictionary an. Benenne ggf. alles, was falsch ist."
      ],
      "metadata": {
        "id": "tGrE8_H3jLee"
      }
    },
    {
      "cell_type": "code",
      "source": [
        "# Antwort:"
      ],
      "metadata": {
        "id": "-TyUdbgWmAhT"
      },
      "execution_count": null,
      "outputs": []
    },
    {
      "cell_type": "markdown",
      "source": [
        "Aussage 4: Die folgenden Signaturen einer `for`- und `while`-Schleife sind äquivalent.\n",
        "\n",
        "\n",
        "```\n",
        "for x in range(a, b):\n",
        "```\n",
        "```\n",
        "while x >= a and x < b:\n",
        "```\n",
        "\n"
      ],
      "metadata": {
        "id": "hVya2cSG2_Pf"
      }
    },
    {
      "cell_type": "code",
      "source": [
        "# Antwort:"
      ],
      "metadata": {
        "id": "hKEq9Nc7mHKh"
      },
      "execution_count": null,
      "outputs": []
    },
    {
      "cell_type": "markdown",
      "source": [
        "Aussage 5: Wird der Variable `zahl` mithilfe der `input()`-Funktion der Wert **1** zugewiesen, ist der Datentyp von `zahl` ein Integer (Ganzzahl).  "
      ],
      "metadata": {
        "id": "IOKA3P8rzYUE"
      }
    },
    {
      "cell_type": "code",
      "source": [
        "# Antwort:"
      ],
      "metadata": {
        "id": "BzrfcGLZmH9k"
      },
      "execution_count": null,
      "outputs": []
    },
    {
      "cell_type": "markdown",
      "source": [
        "## 🕖 Teil 2 (Abgabe am 03.07.) 🕖\n",
        "\n",
        "Schicke diesen Teil bitte bis spätestens **03.07.** um **18.15 Uhr** (am besten als .ipynb, siehe \"Datei\" > \"Herunterladen\") an dustin.haschke@student.uni-luebeck.de."
      ],
      "metadata": {
        "id": "eBeKt00unU61"
      }
    },
    {
      "cell_type": "markdown",
      "source": [
        "### 😎 Aufgabe 2 (leichteste Programmieraufgabe) 😎\n",
        "\n",
        "Implementiere eine Funktion namens `finde_min_argmin`, die das kleinste Element und den Index dieses Elements in einer gegebenen Liste von Zahlen zurückgibt.\n",
        "\n",
        "Beispielsweise sollte `finde_min_argmin([3, 0, 7, 2, 5])` das Minimum 0 und den Index 1 zurückgeben.\n",
        "\n",
        "Verwende dabei keine bereits definierten Funktionen wie z.B. `np.argmin()`, `min()` oder `sorted()`."
      ],
      "metadata": {
        "id": "6fJQFnbsvc-U"
      }
    },
    {
      "cell_type": "code",
      "source": [
        "# Hier kommt dein Code rein\n",
        "\n"
      ],
      "metadata": {
        "id": "r2Y0ZpjlmLDf"
      },
      "execution_count": null,
      "outputs": []
    },
    {
      "cell_type": "markdown",
      "source": [
        "### 😐 Aufgabe 3 (leichtere Programmieraufgabe) 😐\n",
        "\n",
        "### Eigene Shuffle-Funktion\n",
        "Eine Shuffle-Funktion ist eine Funktion, die eine gegebene Liste durchmischen kann, ähnlich wie beim Kartenmischen. Ziel ist es, eine zufällige Permutation einer Liste zu erstellen. \"Permutation\" bedeutet, dass jedes Objekt den Platz wechselt und hinterher nicht doppelt vorkommt. `[4,1,2,0,3]` wäre beispielsweise eine Permutation von `[0,1,2,3,4]`. `[1,1,4,2,3]` ist keine Permutation von `[0,1,2,3,4]`, da die `1` doppelt vorkommt und die `0` gar nicht. Kartenmischen ist hier ein guter Vergleich: Beim Mischen kommen keine neuen Karten hinzu.\n",
        "\n",
        "Offensichtlich gibt es bereits Funktionen in Python, die diese Aufgabe übernehmen, wir wollen heute aber selbst eine Implementieren! Gegeben ist hierfür nur ein Random Number Generator (RNG) `randint`, der eine zufällige ganze Zahl ausgibt. In Zeile 2 steht ein Beispiel, wie `randint` benutzt werden kann.\n",
        "\n",
        "Überlege dir eine eigene Funktion, die eine gegebene Liste permutiert zurückgibt.\n",
        "\n",
        "Falls du überhaupt keine Idee haben solltest: Lege eine neue Liste an, in die du schrittweise zufällige Elemente der gegebenen Liste hinzufügst. Achte dabei darauf, dass die Elemente nicht doppelt in die neue Liste gesetzt werden!"
      ],
      "metadata": {
        "id": "Ln0dUsb4vd-H"
      }
    },
    {
      "cell_type": "code",
      "source": [
        "from random import randint\n",
        "print(randint(0,10))\n",
        "\n",
        "liste = [\"Friederike\", \"Dustin\", \"Kira\", \"Maren\", \"Olli\"]\n",
        "#liste = list(range(10))\n",
        "\n",
        "def shuffle(liste):\n",
        "    output = []\n",
        "    # Hier kommt dein Code rein\n",
        "\n",
        "    return output\n",
        "\n",
        "print(shuffle(liste))"
      ],
      "metadata": {
        "id": "k6JBDIcDmM8D",
        "colab": {
          "base_uri": "https://localhost:8080/"
        },
        "outputId": "383c0400-804a-4231-c34c-ab0e4889a699"
      },
      "execution_count": null,
      "outputs": [
        {
          "output_type": "stream",
          "name": "stdout",
          "text": [
            "0\n",
            "[]\n"
          ]
        }
      ]
    },
    {
      "cell_type": "markdown",
      "source": [
        "### 😬 Aufgabe 4 (schwierigere Programmieraufgabe) 😬\n",
        "###Caesar-Verschlüsselung\n",
        "\n",
        "Mit der Caesar-Verschlüsselung wurden schon in Rom Nachrichten verschlüsselt, sodass sie kein Außenstehender, aber dafür Eingeweihte lesen konnten.\n",
        "\n",
        "Bei dieser Verschlüsselung wird jeder Buchstabe des Alphabets einem neuen zugeordnet. Dies kann entweder durch eine zufällige neue Zuordnung entstehen, wie z.B.\n",
        "\n",
        "A = Z\n",
        "\n",
        "B = Q\n",
        "\n",
        "C = F\n",
        "\n",
        "D = M\n",
        "\n",
        "E = I, wodurch \"BADE\" durch \"QZMI\" verschlüsselt wird,\n",
        "\n",
        "oder aber durch ein *Verschieben* der Buchstaben um einen bestimmten Wert wie hier **2** nach vorne.\n",
        "\n",
        "A = C\n",
        "\n",
        "B = D\n",
        "\n",
        "C = E\n",
        "\n",
        "D = F, wodurch \"BAD\" = \"DCF\" ist.\n",
        "\n",
        "Implementiere nun eine solche Caesarverschlüsselung, die deine `input()`-Eingabe um den Wert von 10 nach vorne verschiebt also A = K, B = L usw.; fange nach der Zuordnung auf \"Z\" einfach wieder bei \"A\" an.\n",
        "\n",
        "Implementiere danach deine Caesarverschlüsselung nochmal mit einer komplett zufälligen Zuordnung der Buchstaben wie im Beispiel.\n",
        "Nutze dafür gerne deine Shuffle-Funktion aus Aufgabe 2.\n",
        "\n",
        "Tipps:\n",
        "Eine Liste aller Buchstaben des Alphabets sowie die `index()`-Funktion können nützlich sein.\n",
        "\n"
      ],
      "metadata": {
        "id": "0ZaQrKTkvhcs"
      }
    },
    {
      "cell_type": "code",
      "source": [
        "# Hier kommt dein Code rein\n",
        "\n"
      ],
      "metadata": {
        "id": "rpGO8taBvj01"
      },
      "execution_count": null,
      "outputs": []
    },
    {
      "cell_type": "markdown",
      "source": [
        "### 🥵 Aufgabe 5 (schwierigste Programmieraufgabe) 🥵\n",
        "\n",
        "### Klassen\n",
        "Olli möchte gerne eine Schulklasse modellieren mit Schülern und Lehrern. Die Klassen `Schueler` und `Lehrer` sollen hierbei beide von der Klasse `Person` erben. Leider sind ihm ein paar Fehler bei der Implementierung unterlaufen! Hilf ihm die Fehler auszubessern.\n",
        "\n",
        "Erweitere die Klasse `Lehrer` um eine Methe `vorstellung`, genau wie es bei der Klasse `Schueler` umgesetzt wird.\n",
        "\n",
        "Zum Schluss möchte Olli, dass bei der Addition zweier Personen das gemeinsame Alter ausgegeben wird. Wenn man zwei Personen subtrahiert, soll gesagt werden, wer von beiden älter und wie groß der Altersunterschied ist.\n",
        "\n",
        "Beispiel:\n",
        "```\n",
        "olli = Schueler(\"Olli\", 12, \"Mathe\")\n",
        "friederike = Lehrer(\"Friederike\", 34, \"Englisch\")\n",
        "olli + friederike\n",
        "```\n",
        "gibt `Olli und Friederike sind zusammen 46 Jahre alt` aus.\n",
        "```\n",
        "olli = Schueler(\"Olli\", 12, \"Mathe\")\n",
        "friederike = Lehrer(\"Friederike\", 34, \"Englisch\")\n",
        "olli - friederike\n",
        "```\n",
        "gibt `Friederike ist 22 Jahre älter als Olli` aus.\n",
        "\n",
        "Sollten beide Personen gleich alt sein, so soll `Olli und Friederike sind gleich alt` ausgegeben werden.\n"
      ],
      "metadata": {
        "id": "Qa5Qw8TYvnJV"
      }
    },
    {
      "cell_type": "code",
      "source": [
        "class Person():\n",
        "    def __init__(self, name, alter):\n",
        "        self.name = name\n",
        "        self.alter = alter\n",
        "\n",
        "    def vorstellung(self):\n",
        "        print(f\"Ich bin {self.name} und bin {self.alter} Jahre alt.\")\n",
        "\n",
        "    def __add__(self, other):\n",
        "        print(\"Muss noch implementiert werden\")\n",
        "\n",
        "class Schueler(Person):\n",
        "    def __init__(self, name, alter, lieblingsfach):\n",
        "        super().__init__(name, alter)\n",
        "        self.lieblingsfach = lieblingsfach\n",
        "\n",
        "    def vorstellung(self):\n",
        "        print(f\"Ich bin {self.name} und bin {self.alter} Jahre alt. Mein Lieblingsfach ist {self.lieblingsfach}.\")\n",
        "\n",
        "class Lehrer(Personen):\n",
        "    def __init__(self, name, alter, fach):\n",
        "        self.fach = fach\n",
        "\n",
        "olli = Schueler(\"Olli\", 12, \"Mathe\")\n",
        "friederike = Lehrer(\"Friederike\", 34, \"Englisch\")\n",
        "dustin = Schueler(\"Dustin\", 14, \"Latein\")\n",
        "\n",
        "olli.vorstellung()\n",
        "friederike.vorstellung()\n",
        "dustin.vorstellung()\n",
        "\n",
        "olli + friederike\n",
        "olli - friederike"
      ],
      "metadata": {
        "id": "thmGc7HV03jV"
      },
      "execution_count": null,
      "outputs": []
    },
    {
      "cell_type": "markdown",
      "source": [
        "## 💪 Bonusaufgabe 💪\n",
        "\n",
        "### Caesar-Dekodierung\n",
        "\n",
        "Im Folgenden findest du einen Text, der nach dem Vorbild von Aufgabe 4 mit dem Verschiebungsalgorithmus kodiert wurde.\n",
        "\n",
        "Ermittle zunächst die Häufigkeit der einzelnen Buchstaben.\n",
        "Der dritthäufigste Buchstabe ist ein \"r\".\n",
        "\n",
        "Rekonstruiere dadurch den Verschiebungswert der Verschlüsselung und entschlüssle den Text vollständig. Was thematisiert der Text?"
      ],
      "metadata": {
        "id": "z-7wUk-8wnKV"
      }
    },
    {
      "cell_type": "code",
      "source": [
        "text = \"QNF EBRZVFPUR ERVPU, RVARF QRE TEBRFFGRA HAQ RVASYHFFERVPUFGRA VZCREVRA QRE TRFPUVPUGR, REFGERPXGR FVPU IBA FVRORAHAQMJNAMVT I. PUE. OVF IVREUHAQREGFRPUFHAQFVROMVT A. PUE. HAQ UVAGREYVRFF RVA HANHFYBRFPUYVPURF REOR VA QRE JRFGYVPURA MVIVYVFNGVBA. TRTEHRAQRG QHEPU NHTHFGHF, QRA REFGRA XNVFRE EBZF, ANPU QRZ RAQR QRE EBRZVFPURA ERCHOYVX, RKCNAQVREGR QNF ERVPU QHEPU ZVYVGNREVFPUR REBOREHATRA, QVCYBZNGVFPUR NYYVNAMRA HAQ RSSRXGVIR IREJNYGHAT. QVR UNHCGFGNQG EBZ JNE QNF UREM QRF ERVPURF, OREHRUZG SHRE VUER ORRVAQEHPXRAQR NEPUVGRXGHE, QNEHAGRE QNF XBYBFFRHZ, QNF SBEHZ EBZNAHZ HAQ QNF CNAGURBA. QNF EBRZVFPUR ERPUG, QVR TEHAQYNTR IVRYRE ZBQREARE ERPUGFFLFGRZR, FBJVR QVR YNGRVAVFPUR FCENPUR, QVR HEFCEHAT QRE EBZNAVFPURA FCENPURA VFG, MRHTRA IBA EBZF ANPUUNYGVTRZ RVASYHFF. QNF ERVPU JNE VA MJRV UNHCGCUNFRA HAGREGRVYG: QVR EBRZVFPUR ERCHOYVX HAQ QNF EBRZVFPUR XNVFREERVPU. JNRUERAQ QRE ERCHOYVX ERTVREGRA TRJNRUYGR XBAFHYA HAQ QRE FRANG, JBUVATRTRA QNF XNVFREERVPU IBA ZNRPUGVTRA XNVFREA QBZVAVREG JHEQR. OREHRUZGR XNVFRE JVR NHTHFGHF, AREB HAQ XBAFGNAGVA QRE TEBFFR CENRTGRA QVR TRFPUVPUGR RAGFPURVQRAQ. QVR EBRZVFPUR TRFRYYFPUNSG JNE FGERAT UVRENEPUVFPU, ZVG FXYNIRA NA QRE ONFVF HAQ QRE NEVFGBXENGVR NA QRE FCVGMR. QVR JVEGFPUNSG ONFVREGR NHS YNAQJVEGFPUNSG, UNAQRY HAQ GEVOHG NHF QRA CEBIVAMRA. GEBGM FRVARE TEBRFFR HAQ ZNPUG MRESVRY QNF ERVPU FPUYVRFFYVPU HAGRE QRZ QEHPX IBA VAARERA XBASYVXGRA, JVEGFPUNSGYVPURE VAFGNOVYVGNRG HAQ ONEONEVFPURA VAINFVBARA. QRAABPU OYRVOG QNF EBRZVFPUR ERVPU RVA SNFMVAVRERAQRF ORVFCVRY SHRE XHYGHERYYRA HAQ CBYVGVFPURA RVASYHFF, QRFFRA REOR OVF URHGR FCHREONE VFG.\"\n",
        "\n",
        "# Hier folgt deine Lösung:\n",
        "\n"
      ],
      "metadata": {
        "id": "ehuuOphxWcBj"
      },
      "execution_count": null,
      "outputs": []
    }
  ]
}