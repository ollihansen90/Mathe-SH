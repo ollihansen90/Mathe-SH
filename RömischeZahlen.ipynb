{
  "nbformat": 4,
  "nbformat_minor": 0,
  "metadata": {
    "colab": {
      "provenance": [],
      "collapsed_sections": [
        "q8JBAKFWw2c3",
        "GQKFuUCKz_sN",
        "pJUT_Yox0o1W",
        "SC9pPHsy67qS",
        "WmXwgf3s_9ME",
        "lKTu3W5-JBX7",
        "CmO0z00UJMc9",
        "qEJvEG_Itk47",
        "WmOpjXz6qH__",
        "mPfFZNbbKNRd"
      ],
      "include_colab_link": true
    },
    "kernelspec": {
      "name": "python3",
      "display_name": "Python 3"
    },
    "language_info": {
      "name": "python"
    }
  },
  "cells": [
    {
      "cell_type": "markdown",
      "metadata": {
        "id": "view-in-github",
        "colab_type": "text"
      },
      "source": [
        "<a href=\"https://colab.research.google.com/github/ollihansen90/Mathe-SH/blob/main/R%C3%B6mischeZahlen.ipynb\" target=\"_parent\"><img src=\"https://colab.research.google.com/assets/colab-badge.svg\" alt=\"Open In Colab\"/></a>"
      ]
    },
    {
      "cell_type": "markdown",
      "source": [
        "# Umwandlung von Zahlen: Arabisch - Römisch, Römisch - Arabisch"
      ],
      "metadata": {
        "id": "q8JBAKFWw2c3"
      }
    },
    {
      "cell_type": "markdown",
      "source": [
        "# Fragen?\n",
        "Solltet ihr Fragen zum Code oder Probleme mit Colab haben, schickt uns gerne eine Mail:\n",
        "\n",
        "*   hohansen@inb.uni-luebeck.de\n",
        "*   maren.wieder@student.uni-luebeck.de\n",
        "*   friederike.meissner@student.uni-luebeck.de\n",
        "*   dustin.haschke@student.uni-luebeck.de"
      ],
      "metadata": {
        "id": "d75phsAKwx8Y"
      }
    },
    {
      "cell_type": "markdown",
      "source": [
        "## Regeln der römischen Darstellung"
      ],
      "metadata": {
        "id": "ljAn5Oug43Lk"
      }
    },
    {
      "cell_type": "markdown",
      "source": [
        "####I. ***Buchstabenwerte***"
      ],
      "metadata": {
        "id": "GQKFuUCKz_sN"
      }
    },
    {
      "cell_type": "markdown",
      "source": [
        "Die römische Darstellung setzt sich aus den folgenden lateinischen Buchstaben mit zugehörigen Zahlenwerten zusammen:\n",
        "\n",
        "`I ≙ 1`\n",
        "\n",
        "`V ≙ 5`\n",
        "\n",
        "`X ≙ 10`\n",
        "\n",
        "`L ≙ 50`\n",
        "\n",
        "`C ≙ 100`\n",
        "\n",
        "`D ≙ 500`\n",
        "\n",
        "`M ≙ 1000`"
      ],
      "metadata": {
        "id": "ajPUtGfpi8L5"
      }
    },
    {
      "cell_type": "markdown",
      "source": [
        "#### II.1 ***Summe der Buchstabenwerte***"
      ],
      "metadata": {
        "id": "pJUT_Yox0o1W"
      }
    },
    {
      "cell_type": "markdown",
      "source": [
        "Grundsätzlich erhält man den Zahlenwert der römischen Schreibweise, indem man die Werte der einzelnen Buchstaben addiert.\n",
        "\n",
        "Also gilt `XX ≙ 10 + 10 =  20`\n",
        "\n",
        "und `CXX ≙ 100 + 10 + 10 = 120`\n",
        "\n",
        "Aber **Achtung: XC ≙ 90 ≠ 10 + 100 (als Ausnahme siehe Regeln III.)!**"
      ],
      "metadata": {
        "id": "OO08AMKQ0s6Z"
      }
    },
    {
      "cell_type": "markdown",
      "source": [
        "#### II.2 ***Abnehmende Werte***\n"
      ],
      "metadata": {
        "id": "rnmX9PVz1g7V"
      }
    },
    {
      "cell_type": "markdown",
      "source": [
        "Hintereinander geschriebene, addierte Werte werden immer abfallend notiert, d.h. der linke Wert ist grundsätzlich größer als der rechte.\n",
        "\n",
        "`CX ≙ 100 + 10 = 110`\n",
        "\n",
        "sowie\n",
        "\n",
        "`1705 = 1000 + 500 + 200 + 5 ≙ MDCCV`\n",
        "\n",
        "und **nicht**: 1705 = 500 + 200 + 1000 + 5 ≠ DCCMV."
      ],
      "metadata": {
        "id": "bYhORkyqBDH8"
      }
    },
    {
      "cell_type": "markdown",
      "source": [
        "####III.1 ***Die Rechts-größer-Links-Subtraktion***"
      ],
      "metadata": {
        "id": "qfgsntOB20xh"
      }
    },
    {
      "cell_type": "markdown",
      "source": [
        "Wird Regel II.2 gebrochen, ist also ein Buchstabenwert plötzlich kleiner als sein rechter Nachfolger, so wird diese Zahl nicht addiert sondern subtrahiert.\n",
        "\n",
        "So ist `IV ≙ - 1 + 5 = 4` und `IX ≙ - 1 + 10 = 9`."
      ],
      "metadata": {
        "id": "ESZ4pZG-3AWE"
      }
    },
    {
      "cell_type": "markdown",
      "source": [
        "####III.2 ***Die Eins-Minus-Fünf/Zehn-Regel***"
      ],
      "metadata": {
        "id": "SC9pPHsy67qS"
      }
    },
    {
      "cell_type": "markdown",
      "source": [
        "Nur die ersten drei Buchstabenwerte, die als arabische Ziffer mit einer Eins beginnen, können von ihrem Fünffachen oder Zehnfachen abgezogen werden, also\n",
        "\n",
        "***I von V oder X*** durch `IV ≙ - 1 + 5 = 4` oder `IX ≙ - 1 + 10 = 9`\n",
        "\n",
        "***X von L oder C*** durch `XL ≙ - 10 + 50 = 40` oder `XC ≙ - 10 + 100 = 90` und\n",
        "\n",
        "***C von D oder M*** durch `CD ≙ - 100 + 500 = 400` oder `CM ≙ - 100 + 1000 = 900`\n",
        "\n",
        "\n",
        "Hier ein komplexeres Beispiel:\n",
        "\n",
        "`CDLXXXIX ≙ -100+500+50+10+10+10-1+10 = 489`\n",
        "\n",
        "Sowas wie\n",
        "IXD ≠ - 1 - 10 + 500 = 489 funktioniert also nicht.\n",
        "\n",
        "Somit dürfen die Kombinationen `IL, IC, ID, IM, XD, XM` in **keiner** Zahl verwendet werden."
      ],
      "metadata": {
        "id": "A414cXWQC3F3"
      }
    },
    {
      "cell_type": "markdown",
      "source": [
        "#### III.3 ***Keine Subtraktion von Gruppen***"
      ],
      "metadata": {
        "id": "WmXwgf3s_9ME"
      }
    },
    {
      "cell_type": "markdown",
      "source": [
        "\n",
        "Verwirrend wird es jedoch, wenn mehrere kleine Werte voranstehen, wie bei\n",
        "\n",
        "`IXC ≠ - 1 - 10 + 100 = 89`.\n",
        "\n",
        "Dies ist schlicht verboten, da bereits reduzierte Zahlenwerte (wie IX=9) nicht abgezogen werden dürfen.\n",
        "\n",
        "Stattdessen gilt `LXXXIX ≙ 50 + 10 + 10 + 10 -1 + 10 = 89`."
      ],
      "metadata": {
        "id": "kZVruznkI8M9"
      }
    },
    {
      "cell_type": "markdown",
      "source": [
        "####IV.1 ***Dreimal-Eins-Regel***"
      ],
      "metadata": {
        "id": "lKTu3W5-JBX7"
      }
    },
    {
      "cell_type": "markdown",
      "source": [
        "Die arabischen mit Eins beginnenden Werte **I, X, C, M**, also 1, 10, 100, 1000, **dürfen** in einer Zahl jeweils maximal ***dreimal*** hintereinander stehen.\n",
        "\n",
        " Falsch ist z.B.: `XXXX ≠ 10 + 10 + 10 + 10 = 40`,\n",
        "\n",
        "stattdessen gilt: `XL = - 10 + 50 = 40`.\n",
        "\n"
      ],
      "metadata": {
        "id": "-ymXAQrqJnai"
      }
    },
    {
      "cell_type": "markdown",
      "source": [
        "####IV.2 ***Einmal-Fünf-Regel***"
      ],
      "metadata": {
        "id": "CmO0z00UJMc9"
      }
    },
    {
      "cell_type": "markdown",
      "source": [
        "Die arabischen mit Fünf beginnenden Werte **V, L, D**, also 5, 50, 500, **dürfen** nur jeweils ***einmal*** verwendet werden (und werden i.d.R. addiert, nicht subtrahiert):\n",
        "\n",
        "Falsch ist z.B. `XXXVX ≠  35`,\n",
        "\n",
        "stattdessen gilt `XXXV ≙ 35`\n",
        "\n",
        "oder auch `VV ≠ 10`, stattdessen ist `X ≙ 10`."
      ],
      "metadata": {
        "id": "MwUrMXHcOWqx"
      }
    },
    {
      "cell_type": "markdown",
      "source": [
        "####IV.3 ***Anmerkung***\n"
      ],
      "metadata": {
        "id": "ZAvu9Vi7NGNs"
      }
    },
    {
      "cell_type": "markdown",
      "source": [
        "\n",
        "Somit sind nur Zahlen von `1` bis `3999 ≙ MMMCMXCIX ≙ 3*1000 - 100 + 1000 - 10 + 100 - 1 + 10`  darstellbar.\n",
        "\n",
        "Allerdings haben sich die Römer teils mit kursiven und verschnörkelten Formen des D's beholfen, wenn mal eine \"größere Rechnung\" anstand, die wir hier nicht weiter behandeln wollen"
      ],
      "metadata": {
        "id": "TrTMJc5joIGr"
      }
    },
    {
      "cell_type": "markdown",
      "source": [
        "## Von Arabien nach Rom\n",
        "\n",
        "Stell dir vor, du hast dich als arabischer Kaufmann oder arabische Kauffrau nach Rom verirrt und brauchst jetzt die römischen Zahlen, um deinem Tagewerk nachgehen zu können.\n",
        "\n",
        "Glücklicherweise hast du in Griechenland den [***Mechanismus von Antikythera***](https://de.wikipedia.org/wiki/Mechanismus_von_Antikythera) günstig erworben, wodurch dir ein antiker programmierbarer Computer zur Verfügung steht. :)"
      ],
      "metadata": {
        "id": "UYyw9GNIO0Ih"
      }
    },
    {
      "cell_type": "markdown",
      "source": [
        "### **Aufgabe 1 - Fehlersuche**"
      ],
      "metadata": {
        "id": "9h5oPYT7QqBz"
      }
    },
    {
      "cell_type": "markdown",
      "source": [
        "Programmiere deinen mechanischen Computer nun so, dass er erkennt, wenn du eine falsche Darstellung einer römischen Zahl eingibst.\n",
        "\n",
        "Erstelle dafür (auch teils kombinierte) Funktionen für die Regeln von I bis IV.2, die zu einer eingegebenen römischen Zahl die Einhaltung der jeweiligen Regel(n) überprüft.\n",
        "\n",
        "Lasse dabei Regel II.1 und Regel III.1 aus, da sie allgemeiner Natur sind.\n",
        "\n",
        "Gib immer einen Hinweis auf die Regel aus, die verletzt wurde (z.B. falscher Buchstabe für ein \"K\").\n",
        "\n"
      ],
      "metadata": {
        "id": "vkKvdAw_PeY0"
      }
    },
    {
      "cell_type": "code",
      "source": [
        "# Hier könnte deine Lösung stehen :-)\n",
        "def erlaubt(zahl):\n",
        "    erlaubt_buchstaben = ['M', 'D', 'C', 'L', 'X', 'V', 'I']\n",
        "    for buchstabe in zahl:\n",
        "        if buchstabe not in erlaubt_buchstaben:\n",
        "            return False\n",
        "\n",
        "    # Token\n",
        "    erlaubt_buchstaben = ['M', \"J\", 'D', \"T\", 'C', \"O\", 'L', \"F\", 'X', \"R\", 'V', \"A\", 'I']\n",
        "    zahl = zahl.replace(\"CM\", \"J\") # 900\n",
        "    zahl = zahl.replace(\"CD\", \"T\") # 400\n",
        "    zahl = zahl.replace(\"XC\", \"O\") # 90\n",
        "    zahl = zahl.replace(\"XL\", \"F\") # 40\n",
        "    zahl = zahl.replace(\"IX\", \"R\") # 9\n",
        "    zahl = zahl.replace(\"IV\", \"A\") # 4\n",
        "    \n",
        "    if \"J\" in zahl and \"C\" in zahl:\n",
        "        return False\n",
        "    if \"T\" in zahl and \"C\" in zahl:\n",
        "        return False\n",
        "    if \"O\" in zahl and \"X\" in zahl:\n",
        "        return False\n",
        "    if \"F\" in zahl and \"X\" in zahl:\n",
        "        return False\n",
        "    if \"R\" in zahl and \"I\" in zahl:\n",
        "        return False\n",
        "    if \"A\" in zahl and \"I\" in zahl:\n",
        "        return False\n",
        "\n",
        "    # Reihenfolge\n",
        "    pointer = 0\n",
        "    for buchstabe in zahl:\n",
        "        for b in erlaubt_buchstaben[pointer:]:\n",
        "            #print(b, buchstabe, pointer)\n",
        "            if not b==buchstabe:\n",
        "                pointer += 1\n",
        "                if pointer>=len(erlaubt_buchstaben):\n",
        "                    return False\n",
        "            else:\n",
        "                break\n",
        "\n",
        "    # TODO: Nicht mehr als 3 I, X, C, M, nicht mehr als 1 J, T, O, F, R, A, D, L, V\n",
        "    return True, zahl\n",
        "\n",
        "\n",
        "zahl = \"XV\"\n",
        "print(erlaubt(zahl))\n",
        "z = erlaubt(zahl)[1]\n",
        "\n",
        "def rom_zu_arab(zahl):\n",
        "    werte = {\"M\": 1000, \"J\": 900, \"D\": 500, \"T\": 400, \"C\": 100, \"O\": 90, \"L\": 50, \"F\": 40, \"X\": 10, \"R\": 9, \"V\": 5, \"A\": 4, \"I\": 1}\n",
        "    summe = 0\n",
        "    for b in zahl:\n",
        "        summe = summe+werte[b]\n",
        "    return summe\n",
        "\n",
        "print(rom_zu_arab(z))"
      ],
      "metadata": {
        "id": "dylyijAMzNuy",
        "colab": {
          "base_uri": "https://localhost:8080/"
        },
        "outputId": "24194abc-d192-4f86-8c5e-d2bae6183a2e"
      },
      "execution_count": 29,
      "outputs": [
        {
          "output_type": "stream",
          "name": "stdout",
          "text": [
            "(True, 'XV')\n",
            "15\n"
          ]
        }
      ]
    },
    {
      "cell_type": "markdown",
      "source": [
        "#### Lösungsvorschlag:"
      ],
      "metadata": {
        "id": "qEJvEG_Itk47"
      }
    },
    {
      "cell_type": "code",
      "source": [
        "# I) zulässige Buchstaben\n",
        "def correctletters(rom):\n",
        "    for letter in rom:\n",
        "        if letter not in \"IVXLCDM\":\n",
        "            print(\"Unzulässiger Buchstabe:\", letter)\n",
        "            break\n",
        "    else:\n",
        "        print(\"Zulässige Römische Zahl\")\n",
        "correctletters(\"XXE\")\n",
        "\n",
        "#III.2 Die Eins-Minus-Fünf/Zehn-Regel\n",
        "def wrong_combi(rom):\n",
        "    for i in range(len(rom)-1):\n",
        "        if rom[i]+rom[i+1] in [\"IL\", \"IC\", \"ID\", \"IM\", \"XD\", \"XM\"]:\n",
        "            print(\"unzulässige Kombination (Regel III.2)\")\n",
        "        else:\n",
        "            print(\"Regel III.2 zutreffend\")\n",
        "wrong_combi(\"IXD\")\n",
        "\n",
        "#III.3 keine Gruppen abziehen\n",
        "def group_subtraction(rom):\n",
        "    steigend = ['I','V','X','L','C','D','M']\n",
        "    for i in range(len(rom)-2):\n",
        "        if steigend.index(rom[i]) < steigend.index(rom[i+1]) and steigend.index(rom[i+1]) < steigend.index(rom[i+2]):\n",
        "            print(\"Regel III.3 verletzt: Eine Gruppe wurde abgezogen!\")\n",
        "        else:\n",
        "            print(\"Regel III.3 wird erfüllt\")\n",
        "group_subtraction(\"IVX\")\n",
        "\n",
        "# IV.1) max. 3 identische aufeinanderfolgende Buchstaben\n",
        "def max3(rom):\n",
        "    for letter in \"IXCM\":\n",
        "        counter = rom.count(letter)\n",
        "        if counter > 3 and counter*letter in rom:\n",
        "            print(letter, \"wurde\", counter, \"-mal hintereinander verwendet, unzulässige Römische Darstellung!\")\n",
        "            break\n",
        "    else:\n",
        "        print(\"Zulässige Römische Zahl\")\n",
        "max3(\"IIII\")\n",
        "\n",
        "# IV.2) max. einmal V, L oder D\n",
        "def max1(rom):\n",
        "    for letter in \"VLD\":\n",
        "        if rom.count(letter) > 1:\n",
        "            print(letter, \"wurde mehrfach verwendet, unzulässige Römische Darstellung!\")\n",
        "            break\n",
        "    else:\n",
        "        print(\"Zulässige Römische Zahl\")\n",
        "max1(\"VVI\")"
      ],
      "metadata": {
        "colab": {
          "base_uri": "https://localhost:8080/"
        },
        "id": "nJ0KEukQGzvT",
        "outputId": "83b89e68-3193-4188-e0fe-7072621509e7"
      },
      "execution_count": null,
      "outputs": [
        {
          "output_type": "stream",
          "name": "stdout",
          "text": [
            "Unzulässiger Buchstabe: E\n",
            "Regel III.2 zutreffend\n",
            "unzulässige Kombination (Regel III.2)\n",
            "Regel III.3 verletzt: Eine Gruppe wurde abgezogen!\n",
            "I wurde 4 -mal hintereinander verwendet, unzulässige Römische Darstellung!\n",
            "V wurde mehrfach verwendet, unzulässige Römische Darstellung!\n"
          ]
        }
      ]
    },
    {
      "cell_type": "markdown",
      "source": [
        "## **Den Römer zum Araber machen**"
      ],
      "metadata": {
        "id": "iRkt_iix-Mz9"
      }
    },
    {
      "cell_type": "markdown",
      "source": [
        "Nun bist du auf einem römischen Markt unterwegs und möchtest einige Waren kaufen. Um jedoch einschätzen zu können, ob die jeweiligen Preise angemessen ist, musst du zuerst **römische Zahlen in arabische umwandeln**.\n",
        "\n",
        "Angenommen, der römische Preis erfüllt alle oben genannten formalen Vorgaben, wollen wir ihn nun in das arabische Äquivalent überführen.\n",
        "\n",
        "Beachte dabei unbedingt die ***Rechts-größer-Links-Subtraktion***, d.h. prüfe z.B. für jeden Buchstaben, ob er tatsächlich größer als sein Nachfolger ist.\n",
        "\n",
        "Tipp: Speichere die Buchstabenwerte in einem geeigneten Format, um einfach darauf zugreifen zu können."
      ],
      "metadata": {
        "id": "de__vniELnMc"
      }
    },
    {
      "cell_type": "code",
      "source": [
        "# Hier könnte deine Lösung stehen :-)\n",
        "\n"
      ],
      "metadata": {
        "id": "EHhjlvU8zcbg"
      },
      "execution_count": null,
      "outputs": []
    },
    {
      "cell_type": "markdown",
      "source": [
        "#### Lösungsvorschlag"
      ],
      "metadata": {
        "id": "WmOpjXz6qH__"
      }
    },
    {
      "cell_type": "code",
      "source": [
        "def romtoarab(rom):\n",
        "    rom = rom.upper() # nur Großbuchstaben\n",
        "\n",
        "    # Dictionary mit Buchstabenwerten\n",
        "    roman = {\"I\": 1,\n",
        "         \"V\": 5,\n",
        "         \"X\": 10,\n",
        "         \"L\": 50,\n",
        "         \"C\": 100,\n",
        "         \"D\": 500,\n",
        "         \"M\": 1000}\n",
        "\n",
        "    arab = 0\n",
        "    for i in range(len(rom)-1):\n",
        "        val1 = roman[rom[i]] # Wert des ersten betrachteten Buchstabens\n",
        "        val2 = roman[rom[i+1]] # Wert des folgenden Buchstabens\n",
        "        if val1 < val2: # Rechts-größer-Links-Subtraktion\n",
        "            arab -= val1\n",
        "\n",
        "        else:\n",
        "            arab += val1\n",
        "    arab += roman[rom[-1]]\n",
        "    return arab\n",
        "\n",
        "romtoarab(\"CDLXXXIX\")"
      ],
      "metadata": {
        "id": "2H7DAHcMJqFD",
        "colab": {
          "base_uri": "https://localhost:8080/"
        },
        "outputId": "2e5ea278-acc5-4c24-a5a5-fb176c30cbdb"
      },
      "execution_count": null,
      "outputs": [
        {
          "output_type": "execute_result",
          "data": {
            "text/plain": [
              "489"
            ]
          },
          "metadata": {},
          "execution_count": 10
        }
      ]
    },
    {
      "cell_type": "markdown",
      "source": [
        "## **Von Arabien gen Rom**"
      ],
      "metadata": {
        "id": "Kbc3aWT7R5li"
      }
    },
    {
      "cell_type": "markdown",
      "source": [
        "Nachdem du deine Einkaufsliste erfolgreich abhaken konntest, möchtest du jetzt deine orientalischen Waren an die römische Bevölkerung verkaufen. Dafür musst du natürlich deine **arabischen Preise in die entsprechenden römischen umwandeln**.\n",
        "\n",
        "Versuche also ein Programm zu schreiben, welches arabische Zahlen in römische übersetzt.\n",
        "\n",
        "Es kann helfen, zunächst auf die IV.1 ***Dreimal-Eins-Regel*** zu verzichten.\n",
        "\n",
        "Benutze hierbei z.B. das Teilen mit Abrunden (`1523 // 1000 = 1`), den Modulo-Operator für Reste (`1523 % 1000 = 523` verbleiben) und if-Abfragen für jeden Wert eines Buchstabenzeichens."
      ],
      "metadata": {
        "id": "HBN_McSEKL6t"
      }
    },
    {
      "cell_type": "code",
      "source": [
        "# Hier könnte deine Lösung stehen :-)\n",
        "\n"
      ],
      "metadata": {
        "id": "_0if1ZbwzeS1"
      },
      "execution_count": null,
      "outputs": []
    },
    {
      "cell_type": "markdown",
      "source": [
        "#### Lösungsvorschlag:"
      ],
      "metadata": {
        "id": "mPfFZNbbKNRd"
      }
    },
    {
      "cell_type": "code",
      "execution_count": null,
      "metadata": {
        "id": "8FEAxyE5wmrs",
        "colab": {
          "base_uri": "https://localhost:8080/"
        },
        "outputId": "79d9e02b-c29f-4a3f-c208-11b8023028c6"
      },
      "outputs": [
        {
          "output_type": "stream",
          "name": "stdout",
          "text": [
            "Arabische Zahl: 401\n",
            "Römische Zahl (unkorrigiert):  CCCCI\n",
            "Römische Zahl (korrigiert):  CDI\n"
          ]
        }
      ],
      "source": [
        "# Idee, berücksichtigt max. 3 Zeichen nicht! (z.B. 89=LXXXVIIII, also 4x \"I\")\n",
        "def arabtorom(num):\n",
        "    rom = \"\"\n",
        "\n",
        "    if num // 1000 >= 1:\n",
        "        rom += (num//1000)*\"M\"\n",
        "        num = num % 1000\n",
        "    \n",
        "    if num // 500 >= 1:\n",
        "        rom += (num//500)*\"D\"\n",
        "        num = num % 500\n",
        "    \n",
        "    if num // 100 >= 1:\n",
        "        rom += (num//100)*\"C\"\n",
        "        num = num % 100\n",
        "\n",
        "    if num // 50 >= 1:\n",
        "        rom += (num//50)*\"L\"\n",
        "        num = num % 50\n",
        "\n",
        "    if num // 10 >= 1:\n",
        "        rom += (num//10)*\"X\"\n",
        "        num = num % 10\n",
        "\n",
        "    if num // 5 >= 1:\n",
        "        rom += (num//5)*\"V\"\n",
        "        num = num % 5\n",
        "    \n",
        "    if num // 1 >= 1:\n",
        "        rom += (num//1)*\"I\"\n",
        "        num = num % 1\n",
        "\n",
        "    print(\"Römische Zahl (unkorrigiert): \", rom)\n",
        "    return rom\n",
        "\n",
        "# von oben kopiert:\n",
        "def max3(rom):\n",
        "    for letter in \"IXCM\":\n",
        "        counter = rom.count(letter)\n",
        "        if counter > 3 and counter*letter in rom:\n",
        "            return(letter)   #verändert!\n",
        "            break\n",
        "    else:\n",
        "        return(\"None\")\n",
        "max3(\"IIII\")\n",
        "\n",
        "# noch recht ungetestet:\n",
        "def arabtorom_kill4(number):\n",
        "    zahl = arabtorom(number)\n",
        "    string = \"\"\n",
        "    while max3(zahl)!=\"None\":\n",
        "        i = zahl.index(max3(zahl))    #Index liefert immer den ersten Eintrag zurück\n",
        "        if i == 0:\n",
        "            if zahl[0] == \"I\":\n",
        "                zahl = \"IV\"+zahl[4:]\n",
        "            if zahl[0] == \"X\":\n",
        "                zahl = \"XL\"+zahl[4:]\n",
        "            if zahl[0] == \"C\":\n",
        "                zahl = \"CD\"+zahl[4:]\n",
        "        else: \n",
        "            if zahl[i-1]+zahl[i] == \"VI\":\n",
        "                zahl = zahl[:i-1]+\"IX\"+zahl[i+4:]\n",
        "            if zahl[i-1]+zahl[i] == \"LX\":\n",
        "                zahl = zahl[:i-1]+\"XC\"+zahl[i+4:]\n",
        "            if zahl[i-1]+zahl[i] == \"DC\":\n",
        "                zahl = zahl[:i-1]+\"CM\"+zahl[i+4:]\n",
        "    print(\"Römische Zahl (korrigiert): \", zahl)\n",
        "\n",
        "zahl = int(input(\"Arabische Zahl: \"))\n",
        "arabtorom_kill4(zahl)"
      ]
    }
  ]
}