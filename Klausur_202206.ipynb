{
  "nbformat": 4,
  "nbformat_minor": 0,
  "metadata": {
    "colab": {
      "name": "Klausur_202206.ipynb",
      "provenance": [],
      "collapsed_sections": [],
      "include_colab_link": true
    },
    "kernelspec": {
      "name": "python3",
      "display_name": "Python 3"
    },
    "language_info": {
      "name": "python"
    }
  },
  "cells": [
    {
      "cell_type": "markdown",
      "metadata": {
        "id": "view-in-github",
        "colab_type": "text"
      },
      "source": [
        "<a href=\"https://colab.research.google.com/github/ollihansen90/Mathe-SH/blob/main/Klausur_202206.ipynb\" target=\"_parent\"><img src=\"https://colab.research.google.com/assets/colab-badge.svg\" alt=\"Open In Colab\"/></a>"
      ]
    },
    {
      "cell_type": "markdown",
      "source": [
        "# Python-Klausur\n",
        "\n",
        "# Fragen?\n",
        "Solltet ihr Fragen zu den Aufgaben oder Probleme mit Colab haben, schickt uns gerne eine Mail:\n",
        "\n",
        "*   hohansen@inb.uni-luebeck.de\n",
        "*   maren.wieder@student.uni-luebeck.de\n",
        "*   friederike.meissner@student.uni-luebeck.de\n",
        "*   dustin.haschke@student.uni-luebeck.de\n",
        "\n",
        "**weitere Hilfe**\n",
        "\n",
        " Dokumentation: https://docs.python.org\n",
        " \n",
        "alte Notebooks: https://github.com/ollihansen90/Mathe-SH/"
      ],
      "metadata": {
        "id": "WCrEGNbL6Wkq"
      }
    },
    {
      "cell_type": "markdown",
      "source": [
        "# Teil 0\n",
        "\n",
        "Gib deinen Namen auf der Konsole aus. Dieser Name wird hinterher auch auf deiner Urkunde stehen!"
      ],
      "metadata": {
        "id": "Nnad0qO03B0_"
      }
    },
    {
      "cell_type": "code",
      "source": [
        ""
      ],
      "metadata": {
        "id": "zovxshKu3CgO"
      },
      "execution_count": null,
      "outputs": []
    },
    {
      "cell_type": "markdown",
      "source": [
        "# Teil 1 (Abgabe am 29.06.)"
      ],
      "metadata": {
        "id": "P-GNmkPu6jGG"
      }
    },
    {
      "cell_type": "markdown",
      "source": [
        "## Aufgabe 1 (Quizfragen) TODO: Auswahl\n",
        "\n",
        "Schreibe bei den folgenden Aussagen jeweils, ob sie richtig oder falsch ist. Im Falle von falsch, begründe dies bitte oder korrigiere die Aussage.\n"
      ],
      "metadata": {
        "id": "CtSbIiOQ6on0"
      }
    },
    {
      "cell_type": "markdown",
      "source": [
        "Aussage 1: `kram.append(zeug)` fügt der Liste `kram` den Eintrag zeug hinzu"
      ],
      "metadata": {
        "id": "hVsgMzWf8UiW"
      }
    },
    {
      "cell_type": "code",
      "source": [
        "#"
      ],
      "metadata": {
        "id": "SyLlUzCYMYnO"
      },
      "execution_count": null,
      "outputs": []
    },
    {
      "cell_type": "markdown",
      "source": [
        "Aussage 2: `for i = (int i=0; i<5; i++):` ist der typische Kopf einer Schleife in Python."
      ],
      "metadata": {
        "id": "oWdcIUPdMZoS"
      }
    },
    {
      "cell_type": "code",
      "source": [
        "# "
      ],
      "metadata": {
        "id": "brv5RIHqMcSZ"
      },
      "execution_count": null,
      "outputs": []
    },
    {
      "cell_type": "markdown",
      "source": [
        "Aussage 3: Der Code `liste[5∷-0.5]` gibt jeden zweiten Wert der Liste liste rückwärts aus."
      ],
      "metadata": {
        "id": "nnuMs6YPMcp-"
      }
    },
    {
      "cell_type": "code",
      "source": [
        "# "
      ],
      "metadata": {
        "id": "u5HVw2vSMeSb"
      },
      "execution_count": null,
      "outputs": []
    },
    {
      "cell_type": "markdown",
      "source": [
        "Aussage 4: Verwenden wir eine Variable, die innerhalb einer Funktion definiert wurde, auch außerhalb der Funktion, wird ein `NameError` ausgegeben."
      ],
      "metadata": {
        "id": "SM_vIxyzMfAQ"
      }
    },
    {
      "cell_type": "code",
      "source": [
        "# "
      ],
      "metadata": {
        "id": "QrJle1wgMgYS"
      },
      "execution_count": null,
      "outputs": []
    },
    {
      "cell_type": "markdown",
      "source": [
        "Aussage 5: Über `from random import randint` wird die Funktion `randint` aus dem Package `random` importiert."
      ],
      "metadata": {
        "id": "FkifZqoxMgqE"
      }
    },
    {
      "cell_type": "code",
      "source": [
        "# "
      ],
      "metadata": {
        "id": "VmYwYyR8MiY-"
      },
      "execution_count": null,
      "outputs": []
    },
    {
      "cell_type": "markdown",
      "source": [
        "# Teil 2 (Abgabe am 06.07.)"
      ],
      "metadata": {
        "id": "vMeCeXaj8To_"
      }
    },
    {
      "cell_type": "markdown",
      "source": [
        "## Aufgabe 2 (leichte Programmieraufgabe)\n",
        "\n",
        "Schreibe eine Funktion ```zweiundvierzig```, welche mit einer Chance von 42% \"Gewonnen!\" und sonst \"Verloren!\" ausgibt, wenn aufgerufen.\n",
        "\n",
        "Rufe deine Funktion dreimal probeweise auf.\n",
        "\n"
      ],
      "metadata": {
        "id": "Hhqr1Hwn8Y_R"
      }
    },
    {
      "cell_type": "code",
      "execution_count": null,
      "metadata": {
        "id": "PLonZVHE6Hyg"
      },
      "outputs": [],
      "source": [
        ""
      ]
    },
    {
      "cell_type": "markdown",
      "source": [
        "## Aufgabe 3 (leichtere Programmieraufgabe)\n",
        "\n",
        "Schreibe eine Funktion ```reihe```, die die Summe der Brüche $\\frac{1}{i^2}$ für $i = 1, 2, ..., n$ ausgibt, wobei die Funktion $n$ als Parameter verlangt.\n",
        "\n",
        "Rufe die Funktion beispielhaft für $n = 100, 200, 400$ und $1000$ auf."
      ],
      "metadata": {
        "id": "XOhm2VBu8fXB"
      }
    },
    {
      "cell_type": "code",
      "source": [
        ""
      ],
      "metadata": {
        "id": "RvFz9qmu8gR9"
      },
      "execution_count": null,
      "outputs": []
    },
    {
      "cell_type": "markdown",
      "source": [
        "## Aufgabe 4 (schwierigere Programmieraufgabe)\n",
        "\n",
        "Definiere ein Dictionary, das den Steckbrief eines von dir gewählten Hundes enthält. Es sollte die folgenden Eigenschaften besitzen:\n",
        "\n",
        "- Name\n",
        "- Alter\n",
        "- Liste der Lieblingsspielzeuge\n",
        "- lieb (Boolean)\n",
        "- müde (Boolean)\n",
        "\n",
        "\n",
        "Füge nun die Rasse des Hundes zum Dictionary hinzu und gib anschließend alle enthaltenen Eigenschaften (ohne zugehörige Werte) per print auf der Konsole aus.\n",
        "\n",
        "Definiere eine Funktion spielen, die \"Wuff!\" ausgibt, falls der Hund nicht müde und lieb ist. Setze hiernach den Wert des Schlüssels müde auf True.\n",
        "\n",
        "Sollte das Haustier müde sein, so soll sie \"ZZzzz\" ausgeben. Ist das Haustier nicht müde, aber nicht lieb, so soll \"Grr\" ausgegeben werden und der Wert des Schlüssels lieb soll mit einer Chance von 10% auf True gesetzt werden.\n",
        "\n",
        "Füge durch einen Zugriff auf das Dictionary das weitere Lieblingsspielzeug Kauknochen hinzu."
      ],
      "metadata": {
        "id": "nEpOPDa_8iyc"
      }
    },
    {
      "cell_type": "code",
      "source": [
        ""
      ],
      "metadata": {
        "id": "RFngBpkiD7fC"
      },
      "execution_count": null,
      "outputs": []
    },
    {
      "cell_type": "markdown",
      "source": [
        "## Aufgabe 5 (schwierigste Programmieraufgabe)\n",
        "Erstelle zunächst eine Liste mit den Quadratzahlen von 0 bis 10 (also `[0, 1, 4, 9,..., 100]`) mit Hilfe einer `for`-Schleife. Ersetze danach die `for`-Schleife, indem du *List-Comprehension* nutzt.\n",
        "\n",
        "Erstelle danach mit Hilfe von *List-Comprehension* die Liste `[[0, 1, 2, 3, 4, 5, 6, 7, 8, 9], [0, 1, 4, 9, 16, 25, 36, 49, 64, 81], [0, 1, 8, 27, 64, 125, 216, 343, 512, 729], [0, 1, 16, 81, 256, 625, 1296, 2401, 4096, 6561]]` in nur einer Zeile und gib sie aus!\n",
        "\n",
        "*Hinweis*: Überlege zuerst, welche Formel hinter den inneren Listen steht."
      ],
      "metadata": {
        "id": "9YoKejZX8jvk"
      }
    },
    {
      "cell_type": "code",
      "source": [
        ""
      ],
      "metadata": {
        "id": "HQUDQ5_-8m5f"
      },
      "execution_count": null,
      "outputs": []
    },
    {
      "cell_type": "markdown",
      "source": [
        "## Bonusaufgabe\n",
        "\n",
        "Löse die Aufgabe 3 (Summenaufgabe) mittels einer rekursiven Funktion."
      ],
      "metadata": {
        "id": "P3SVCVyWqWwD"
      }
    },
    {
      "cell_type": "code",
      "source": [
        ""
      ],
      "metadata": {
        "id": "v4KzIeH7sQ7U"
      },
      "execution_count": null,
      "outputs": []
    }
  ]
}