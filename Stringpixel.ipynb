{
  "nbformat": 4,
  "nbformat_minor": 0,
  "metadata": {
    "colab": {
      "provenance": [],
      "authorship_tag": "ABX9TyNgB1aLLFEH69nZs828grZg",
      "include_colab_link": true
    },
    "kernelspec": {
      "name": "python3",
      "display_name": "Python 3"
    },
    "language_info": {
      "name": "python"
    }
  },
  "cells": [
    {
      "cell_type": "markdown",
      "metadata": {
        "id": "view-in-github",
        "colab_type": "text"
      },
      "source": [
        "<a href=\"https://colab.research.google.com/github/ollihansen90/Mathe-SH/blob/main/Stringpixel.ipynb\" target=\"_parent\"><img src=\"https://colab.research.google.com/assets/colab-badge.svg\" alt=\"Open In Colab\"/></a>"
      ]
    },
    {
      "cell_type": "markdown",
      "source": [
        "# Stringpixel\n",
        "Diese Woche möchten wir gerne Strings benutzen, um Bilder anzuzeigen. Die Idee ist, dass wir einfach Unicode-Charaktere in bestimmter Reihenfolge darstellen, sodass Bilder angezeigt werden können.\n",
        "\n",
        "Eine vollständige Liste der Unicode-Zeichen findet man beispielsweise auf Wikipedia: https://en.wikipedia.org/wiki/List_of_Unicode_characters.\n",
        "\n",
        "## Schritt 1: Schwarze und weiße Pixel\n",
        "Zum Anfang möchten wir Bilder darstellen, die nur aus schwarzen und weißen Pixeln bestehen. Ein \"Pixel\" ist ein \"Picture Element\", also sozusagen der Grundbaustein eines Bildes. Eine 10-Megapixel-Kamera produziert beispielsweise Bilder mit 10 Millionen Pixeln.\n",
        "\n",
        "**Achtung**: Am besten stellst du die Darstellung von Colab auf weißen Hintergrund! Andernfalls werden die Bilder \"invertiert\" dargestellt, das heißt Schwarz ist Weiß und Weiß ist Schwarz. Die Einstellung findet man über \"Tools\" -> \"Einstellungen\" -> \"Webseite\", wo man das \"Thema\" auf \"light\" stellen kann.\n",
        "\n",
        "Für schwarze Pixel benötigen wir ein Zeichen, bei dem *alle* Darstellungspixel auf Schwarz gestellt werden. Das Zeichen hat den Unicode-Wert ```2588```. Wie können wir am einfachsten ein weißes Pixel darstellen?\n",
        "\n",
        "*Anmerkung*: Unicode-Werte sind immer in Hexadezimaldarstellung, es gibt also die Ziffern 0 bis 9 und A bis F. Die größte vierstellige Hexadezimalzahl lautet \"FFFF\".\n",
        "\n",
        "### Aufgabe:\n",
        "\"Zeichne\" ein Schachbrett, einen Kreis, das Haus des Nikolaus und ein paar Buchstaben deiner Wahl! \n",
        "\n",
        "*Hinweis*: Einen Zeilenumbruch bekommst du mit dem String ```\\n```.\n",
        "\n",
        "*Bonus*: Zeichne ein Labyrinth auf ein karriertes Blatt und übertrage es in ein Stringbild."
      ],
      "metadata": {
        "id": "I5W17v-PLFZ6"
      }
    },
    {
      "cell_type": "code",
      "source": [
        "schwarz = \"\\u2588\"\n",
        "weiß = \"?\"\n",
        "zeilenumbruch = \"\\n\"\n",
        "\n",
        "print(schwarz+weiß+schwarz+weiß+zeilenumbruch+schwarz+weiß+schwarz+weiß)"
      ],
      "metadata": {
        "id": "PqGQ4ylDOCyZ"
      },
      "execution_count": null,
      "outputs": []
    },
    {
      "cell_type": "markdown",
      "source": [
        "## Schritt 2: Grauwerte\n",
        "\"Zwischen\" Schwarz und Weiß sind noch unterschiedliche Grauwerte möglich. Auch die Zwischenwerte finden wir bei Wikipedia: https://de.wikipedia.org/wiki/Unicodeblock_Blockelemente.\n",
        "\n",
        "### Aufgabe:\n",
        "Welche Blockelemente werden für die Grauwerte benötigt? Implementiere ein Bild mit Farbgradienten (also auf- oder absteigend in der Helligkeit) von Schwarz zu Weiß. Das Bild soll 10 \"Pixel\" hoch und 20 \"Pixel\" breit sein."
      ],
      "metadata": {
        "id": "HY4AHUF9CEpd"
      }
    },
    {
      "cell_type": "code",
      "source": [
        "# Hier kommt dein Code rein\n",
        "\n",
        "\n"
      ],
      "metadata": {
        "id": "xAUJl4WODWxU"
      },
      "execution_count": null,
      "outputs": []
    },
    {
      "cell_type": "markdown",
      "source": [
        "Diese Grauwerte können nun beispielsweise für Schattierungen oder Hintergrundelemente verwendet werden.\n",
        "\n",
        "### Aufgabe:\n",
        "\"Zeichne\" den Buchstaben ```F``` mit Schattierungen. \"Zeichne\" danach eine Skyline einer Stadt mit Hochhäusern, die im leichten Nebel liegt. Das bedeutet, dass Häuser im Vordergrund schwarz und im Hintergrund grau sind. In den schwarzen Hochhäusern könnten vielleicht sogar Fenster zu sehen sein."
      ],
      "metadata": {
        "id": "-HNLd2f1DW6D"
      }
    },
    {
      "cell_type": "code",
      "source": [
        "# Hier kommt dein Code rein\n",
        "\n",
        "\n"
      ],
      "metadata": {
        "id": "MinBMcswD9Bw"
      },
      "execution_count": null,
      "outputs": []
    },
    {
      "cell_type": "markdown",
      "source": [
        "## Echte Bilder in Stringpixel umwandeln\n",
        "Unten sind bereits ein paar Bilder zur Auswahl vorgegeben, sowie unterschiedliche Bildverarbeitungsmethoden, um sie zu verarbeiten. Suche dir aus dem Internet irgendwelche Bilder und lasse sie von dem Algorithmus \"zeichnen\"!"
      ],
      "metadata": {
        "id": "Db0RxWJnEB5p"
      }
    },
    {
      "cell_type": "code",
      "source": [
        "import numpy as np\n",
        "import matplotlib.pyplot as plt\n",
        "from skimage import io\n",
        "\n",
        "# --- Hier kannst du den Link einfügen -----------------------------------------\n",
        "#link = \"https://static.dw.com/image/45665028_605.jpg\"\n",
        "link = \"https://upload.wikimedia.org/wikipedia/commons/thumb/a/a9/Mona_Lisa_detail_face.jpg/800px-Mona_Lisa_detail_face.jpg\"\n",
        "#link = \"https://www.mathe-sh.de/wp-content/uploads/2021/03/cropped-Mathe_SH_logo.png\"\n",
        "\n",
        "# ------------------------------------------------------------------------------\n",
        "\n",
        "def pad_dat_boi(img, n=10):\n",
        "    h, w, c = img.shape\n",
        "    padded = np.zeros((h+2*n,w+2*n, c))\n",
        "    padded[n:h+n, n:w+n] = img\n",
        "    padded[:n,n:w+n] = img[:n][::-1]\n",
        "    padded[h+n:,n:w+n] = img[h-n:][::-1]\n",
        "    padded[:,:n] = padded[:,2*n:n:-1]\n",
        "    padded[:,n+w-1:] = padded[:,n+w-1:w-2:-1]\n",
        "    return padded\n",
        "\n",
        "def conv(img, kernel, stride=1):\n",
        "    h, w, c = img.shape\n",
        "    print(img.shape)\n",
        "    k = kernel.shape[0]\n",
        "    img_padded = pad_dat_boi(img, n=int(k/2))\n",
        "    out = np.zeros((h//stride, w//stride))\n",
        "\n",
        "    #for cc in range(c):\n",
        "    for xx in range(0, k):\n",
        "        for yy in range(0, k):\n",
        "            out += kernel[xx,yy]*img_padded[xx:h+xx, yy:w+yy].squeeze()\n",
        "    return out\n",
        "\n",
        "img = (io.imread(link)@np.array([0.299, 0.587, 0.114]))#[::10, ::10]#.astype(np.float32)#[::2,::2]\n",
        "while np.max(img.shape)>1024:\n",
        "    img = img[::2, ::2]\n",
        "img = img[:,:,None]\n",
        "base = np.linspace(-2,2,num=25)\n",
        "kernel = np.exp(-base**2)[:,None]*np.exp(-base**2)\n",
        "kernel = np.ones([15,15])\n",
        "kernel /= np.sum(np.abs(kernel))\n",
        "print(kernel.shape)\n",
        "img = conv(img, kernel, stride=1)\n",
        "\n",
        "img -= np.min(img)\n",
        "img /= np.max(img)\n",
        "img = img[::10, ::10]\n",
        "img *= 4\n",
        "img = np.round(img).astype(np.uint8)\n",
        "plt.figure()\n",
        "plt.imshow(img)\n",
        "plt.show()\n",
        "\n",
        "zeichen = [2*\"\\u2588\", 2*\"\\u2593\", 2*\"\\u2592\", 2*\"\\u2591\", 2*\" \"]\n",
        "text = \"\"\n",
        "for i in range(img.shape[0]):\n",
        "    for j in range(img.shape[1]):\n",
        "        text += zeichen[img[i,j]]\n",
        "    text += \"\\n\""
      ],
      "metadata": {
        "id": "jBF8SFmfvZXH"
      },
      "execution_count": null,
      "outputs": []
    },
    {
      "cell_type": "code",
      "source": [
        "with open(\"monalisa.txt\", \"w\") as file:\n",
        "    file.write(text)\n",
        "print(text)"
      ],
      "metadata": {
        "id": "yMVbq3_Zr8RW"
      },
      "execution_count": null,
      "outputs": []
    }
  ]
}