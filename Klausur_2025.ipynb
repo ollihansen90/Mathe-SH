{
  "nbformat": 4,
  "nbformat_minor": 0,
  "metadata": {
    "colab": {
      "provenance": [],
      "include_colab_link": true
    },
    "kernelspec": {
      "name": "python3",
      "display_name": "Python 3"
    },
    "language_info": {
      "name": "python"
    }
  },
  "cells": [
    {
      "cell_type": "markdown",
      "metadata": {
        "id": "view-in-github",
        "colab_type": "text"
      },
      "source": [
        "<a href=\"https://colab.research.google.com/github/ollihansen90/Mathe-SH/blob/main/Klausur_2025.ipynb\" target=\"_parent\"><img src=\"https://colab.research.google.com/assets/colab-badge.svg\" alt=\"Open In Colab\"/></a>"
      ]
    },
    {
      "cell_type": "markdown",
      "source": [
        "# 🥳 Python-Klausur - 16.07.2025 🥳\n",
        "\n",
        "## Fragen?\n",
        "Solltet ihr Fragen zu den Aufgaben oder Probleme mit Colab haben, schickt uns gerne eine Mail:\n",
        "\n",
        "*   h.hansen@uni-luebeck.de\n",
        "*   friederike.meissner@student.uni-luebeck.de\n",
        "*   dustin.haschke@student.uni-luebeck.de\n",
        "*   mika.kohlhammer@student.uni-luebeck.de\n",
        "\n",
        "**Weitere Hilfen**\n",
        "\n",
        " Dokumentation: https://docs.python.org\n",
        "\n",
        "alte Notebooks: https://github.com/ollihansen90/Mathe-SH/"
      ],
      "metadata": {
        "id": "5OVTFnNOm6w6"
      }
    },
    {
      "cell_type": "markdown",
      "source": [
        "## Teil 0\n",
        "\n",
        "Gib deinen Namen auf der Konsole aus. Dieser Name wird hinterher auch auf deiner Urkunde stehen!"
      ],
      "metadata": {
        "id": "0uhXpZnfnEef"
      }
    },
    {
      "cell_type": "code",
      "execution_count": null,
      "metadata": {
        "id": "3X4VW8BQmufg"
      },
      "outputs": [],
      "source": []
    },
    {
      "cell_type": "markdown",
      "source": [
        "## Teil 1 (Abgabe am 16.7.)\n",
        "\n",
        "Schicke diesen Teil bitte am **16.7.** bis **19.15 Uhr** (am besten als .ipynb, siehe \"Datei\" > \"Herunterladen\") an dustin.haschke@student.uni-luebeck.de."
      ],
      "metadata": {
        "id": "34Q6ChnBnHiD"
      }
    },
    {
      "cell_type": "markdown",
      "source": [
        "### 🤔 Aufgabe 1 (Quizfragen) 🤔\n",
        "\n",
        "Entscheide bei den folgenden Aussagen jeweils, ob sie richtig oder falsch sind. Ist eine Aussage falsch, begründe dies bitte oder korrigiere sie. Beachte, dass auch mehrere Teile der Aussage Fehler beinhalten können."
      ],
      "metadata": {
        "id": "aur66Y9lnPzv"
      }
    },
    {
      "cell_type": "markdown",
      "source": [
        "Aussage 1: Der Variablenname `testFunktion` entspricht der Camel-Case-Konvention."
      ],
      "metadata": {
        "id": "cqgeP_oRhW5Y"
      }
    },
    {
      "cell_type": "code",
      "source": [
        "# Antwort:"
      ],
      "metadata": {
        "id": "NoYYcGmWnUZw"
      },
      "execution_count": null,
      "outputs": []
    },
    {
      "cell_type": "markdown",
      "source": [
        "Aussage 2:`liste = {1,2,3,4,5,6,7,8,9,10}` erstellt eine Liste der Einträge von 1 bis 10.\n",
        "\n",
        "\n"
      ],
      "metadata": {
        "id": "JIaNzutihcaj"
      }
    },
    {
      "cell_type": "code",
      "source": [
        "# Antwort:"
      ],
      "metadata": {
        "id": "4RzZmo47jLpq"
      },
      "execution_count": null,
      "outputs": []
    },
    {
      "cell_type": "markdown",
      "source": [
        "Aussage 3: `dict == {Montag: 12; Dienstag: 15}` legt ein funktionierendes Dictionary an."
      ],
      "metadata": {
        "id": "tGrE8_H3jLee"
      }
    },
    {
      "cell_type": "code",
      "source": [
        "# Antwort:"
      ],
      "metadata": {
        "id": "-TyUdbgWmAhT"
      },
      "execution_count": null,
      "outputs": []
    },
    {
      "cell_type": "markdown",
      "source": [
        "Aussage 4: Die folgenden `for`- und `while`-Schleifen sind äquivalent.\n",
        "\n",
        "\n",
        "```\n",
        "for x in range(a, b):\n",
        "    print(x)\n",
        "```\n",
        "```\n",
        "x=a\n",
        "while x >= a and x < b:\n",
        "    x += 1\n",
        "    print(x)\n",
        "```\n",
        "\n"
      ],
      "metadata": {
        "id": "hVya2cSG2_Pf"
      }
    },
    {
      "cell_type": "code",
      "source": [
        "# Antwort:"
      ],
      "metadata": {
        "id": "hKEq9Nc7mHKh"
      },
      "execution_count": null,
      "outputs": []
    },
    {
      "cell_type": "markdown",
      "source": [
        "Aussage 5: Wird der Variable `zahl` mithilfe der `input()`-Funktion der Wert **1** zugewiesen, ist der Datentyp von `zahl` ein Integer (Ganzzahl).  "
      ],
      "metadata": {
        "id": "IOKA3P8rzYUE"
      }
    },
    {
      "cell_type": "code",
      "source": [
        "# Antwort:"
      ],
      "metadata": {
        "id": "BzrfcGLZmH9k"
      },
      "execution_count": null,
      "outputs": []
    },
    {
      "cell_type": "markdown",
      "source": [
        "## 🕖 Teil 2 (Abgabe am 23.7.) 🕖\n",
        "\n",
        "Schicke diesen Teil bitte bis spätestens **23.7.** um **18.15 Uhr** (am besten als .ipynb, siehe \"Datei\" > \"Herunterladen\") an dustin.haschke@student.uni-luebeck.de."
      ],
      "metadata": {
        "id": "eBeKt00unU61"
      }
    },
    {
      "cell_type": "markdown",
      "source": [
        "### 😎 Aufgabe 2 (leichteste Programmieraufgabe) 😎\n",
        "\n",
        "Implementiere eine Funktion namens `finde_min_argmin`, die das kleinste Element und den Index dieses Elements in einer gegebenen Liste von Zahlen zurückgibt.\n",
        "\n",
        "Beispielsweise sollte `finde_min_argmin([3, 0, 7, 2, 5])` das Minimum 0 und den Index 1 zurückgeben.\n",
        "\n",
        "Verwende dabei keine bereits definierten Funktionen wie z.B. `np.argmin()`, `min()` oder `sorted()`."
      ],
      "metadata": {
        "id": "6fJQFnbsvc-U"
      }
    },
    {
      "cell_type": "code",
      "source": [
        "# Lösung:\n"
      ],
      "metadata": {
        "id": "IejqLxa4jphE"
      },
      "execution_count": null,
      "outputs": []
    },
    {
      "cell_type": "markdown",
      "source": [
        "### 😐 Aufgabe 3 (leichtere Programmieraufgabe) 😐\n",
        "\n",
        "### Eigene Shuffle-Funktion\n",
        "Eine Shuffle-Funktion ist eine Funktion, die eine gegebene Liste durchmischen kann, ähnlich wie beim Kartenmischen. Ziel ist es, eine zufällige Permutation einer Liste zu erstellen. \"Permutation\" bedeutet, dass jedes Objekt den Platz wechselt und hinterher nicht doppelt vorkommt. `[4,1,2,0,3]` wäre beispielsweise eine Permutation von `[0,1,2,3,4]`. `[1,1,4,2,3]` ist keine Permutation von `[0,1,2,3,4]`, da die `1` doppelt vorkommt und die `0` gar nicht.\n",
        "\n",
        "Offensichtlich gibt es bereits Funktionen in Python, die diese Aufgabe übernehmen, wir wollen heute aber selbst eine implementieren! Gegeben ist hierfür nur ein Random Number Generator (RNG) `randint`, der eine zufällige ganze Zahl ausgibt. In Zeile 2 steht ein Beispiel, wie `randint` benutzt werden kann.\n",
        "\n",
        "Überlege dir eine eigene Funktion, die eine gegebene Liste permutiert zurückgibt.\n",
        "\n",
        "Falls du überhaupt keine Idee haben solltest: Lege eine neue Liste an, in die du schrittweise zufällige Elemente der gegebenen Liste hinzufügst. Achte dabei darauf, dass die Elemente nicht doppelt in die neue Liste gesetzt werden!"
      ],
      "metadata": {
        "id": "Ln0dUsb4vd-H"
      }
    },
    {
      "cell_type": "code",
      "source": [
        "from random import randint\n",
        "print(randint(0,10))\n",
        "\n",
        "liste = [\"Friederike\", \"Dustin\", \"Kira\", \"Maren\", \"Olli\"]\n",
        "#liste = list(range(10))\n",
        "\n",
        "def shuffle(liste):\n",
        "    output = []\n",
        "    # Hier kommt dein Code rein\n",
        "    #\n",
        "    #\n",
        "    #\n",
        "\n",
        "    return output\n",
        "\n",
        "print(shuffle(liste))"
      ],
      "metadata": {
        "id": "k6JBDIcDmM8D"
      },
      "execution_count": null,
      "outputs": []
    },
    {
      "cell_type": "markdown",
      "source": [
        "### 😬 Aufgabe 4 (schwierigere Programmieraufgabe) 😬\n",
        "###Caesar-Verschlüsselung\n",
        "\n",
        "Mit der Caesar-Verschlüsselung wurden schon in Rom Nachrichten verschlüsselt, sodass sie kein Außenstehender und nur Eingeweihte lesen konnten.\n",
        "\n",
        "Bei dieser Verschlüsselung wird jeder Buchstabe des Alphabets einem neuen zugeordnet. Dies kann z.B. durch ein *Verschieben* der Buchstaben um einen bestimmten Wert (hier **2**) nach vorne\n",
        "\n",
        "A = C\n",
        "\n",
        "B = D\n",
        "\n",
        "C = E\n",
        "\n",
        "D = F geschehen, wodurch \"BAD\" als \"DCF\" kodiert wird.\n",
        "\n",
        "Implementiere nun eine solche Caesar-Verschlüsselung, die deine `input()`-Eingabe um den Wert von **10** nach vorne verschiebt, also A = K, B = L usw.; fange nach der Zuordnung auf \"Z\" einfach wieder bei \"A\" an.\n",
        "\n",
        "Tipps:\n",
        "Eine Liste aller Buchstaben des Alphabets sowie die `index()`-Funktion können nützlich sein.\n",
        "\n"
      ],
      "metadata": {
        "id": "0ZaQrKTkvhcs"
      }
    },
    {
      "cell_type": "code",
      "source": [
        "# Beispiele:\n",
        "# Hallo\n",
        "# Ibmmp     Verschiebung um 1\n",
        "# Jcnnq     Verschiebung um 2\n",
        "\n",
        "\n",
        "# Zahl\n",
        "# Bcjn      Verschiebung um 2"
      ],
      "metadata": {
        "id": "rpGO8taBvj01"
      },
      "execution_count": null,
      "outputs": []
    },
    {
      "cell_type": "code",
      "source": [
        "# deine Lösung:\n",
        "\n"
      ],
      "metadata": {
        "id": "tpJWz5zK36dx"
      },
      "execution_count": null,
      "outputs": []
    },
    {
      "cell_type": "markdown",
      "source": [
        "### 🥵 Aufgabe 5 (schwierigste Programmieraufgabe) 🥵\n",
        "\n",
        "### Klassen\n",
        "Olli möchte gerne eine Schulklasse mit Schülern und Lehrern modellieren. Die Klassen `Schueler` und `Lehrer` sollen hierbei beide von der Klasse `Person` erben. Leider sind ihm ein paar Fehler bei der Implementierung unterlaufen! Hilf ihm die Fehler auszubessern.\n",
        "\n",
        "Erweitere die Klasse `Lehrer` um eine Methode `vorstellung`, genau wie es bei der Klasse `Schueler` umgesetzt wird.\n",
        "\n",
        "Zum Schluss möchte Olli, dass bei der Addition zweier Personen das gemeinsame Alter ausgegeben wird. Wenn man zwei Personen subtrahiert, soll gesagt werden, wer von beiden älter und wie groß der Altersunterschied ist.\n",
        "\n",
        "Beispiel:\n",
        "```\n",
        "olli = Schueler(\"Olli\", 12, \"Mathe\")\n",
        "friederike = Lehrer(\"Friederike\", 34, \"Englisch\")\n",
        "olli + friederike\n",
        "```\n",
        "gibt `Olli und Friederike sind zusammen 46 Jahre alt` aus.\n",
        "```\n",
        "olli = Schueler(\"Olli\", 12, \"Mathe\")\n",
        "friederike = Lehrer(\"Friederike\", 34, \"Englisch\")\n",
        "olli - friederike\n",
        "```\n",
        "gibt `Friederike ist 22 Jahre älter als Olli` aus.\n",
        "\n",
        "Sollten beide Personen gleich alt sein, so soll `Olli und Friederike sind gleich alt` ausgegeben werden.\n"
      ],
      "metadata": {
        "id": "Qa5Qw8TYvnJV"
      }
    },
    {
      "cell_type": "code",
      "source": [
        "class Person():\n",
        "    def __init__(self, name, alter):\n",
        "        self.name = name\n",
        "        self.alter = alter\n",
        "\n",
        "    def vorstellung(self):\n",
        "        print(f\"Ich bin {self.name} und bin {self.alter} Jahre alt.\")\n",
        "\n",
        "    def __add__(self, other):\n",
        "        print(\"Muss noch implementiert werden\")\n",
        "\n",
        "class Schueler(Person):\n",
        "    def __init__(self, name, alter, lieblingsfach):\n",
        "        super().__init__(name, alter)\n",
        "        self.lieblingsfach = lieblingsfach\n",
        "\n",
        "    def vorstellung(self):\n",
        "        print(f\"Ich bin {self.name} und bin {self.alter} Jahre alt. Mein Lieblingsfach ist {self.lieblingsfach}.\")\n",
        "\n",
        "class Lehrer(Personen):\n",
        "    def __init__(self, name, alter, fach):\n",
        "        self.fach = fach\n",
        "\n",
        "olli = Schueler(\"Olli\", 12, \"Mathe\")\n",
        "friederike = Lehrer(\"Friederike\", 34, \"Englisch\")\n",
        "dustin = Schueler(\"Dustin\", 14, \"Latein\")\n",
        "\n",
        "olli.vorstellung()\n",
        "friederike.vorstellung()\n",
        "dustin.vorstellung()\n",
        "\n",
        "olli + friederike\n",
        "olli - friederike"
      ],
      "metadata": {
        "id": "thmGc7HV03jV"
      },
      "execution_count": null,
      "outputs": []
    },
    {
      "cell_type": "code",
      "source": [
        "# Lösung:\n",
        "\n"
      ],
      "metadata": {
        "id": "fafJLTKa0G_Q"
      },
      "execution_count": null,
      "outputs": []
    },
    {
      "cell_type": "markdown",
      "source": [
        "## 💪 Bonusaufgabe 💪\n",
        "### Bäckerei . . .  *der elementweisen Vektoroperationen*\n",
        "\n",
        "Es sollen vier Kuchen, sieben Torten und vier Bleche Kekse aus Zutaten gebacken werden.\n",
        "\n",
        "Jeder Kuchen benötigt 6 Eier, 4 Häufchen Mehl und 3 Stück Butter, jede Torte benötigt 12 Eier, 7 Stück Butter und die Kekse benötigen 9 Eier, 10 Häufchen Mehl und 6 Stück Butter.\n",
        "\n",
        "Lege für die drei Backwaren drei Listen an, die diesen die entsprechende Menge an Zutaten in einer bestimmten Reihenfolge zuordnen, aber möglichst keine Null enthält.\n",
        "\n",
        "###1.) effektive Arbeitsschritte\n",
        "\n",
        "Da du zwei Bleche hast und dir bei der Verarbeitung der Zutaten Zeit sparen willst, überlegst du, ob du vielleicht einen Backgang mit zwei unterschiedlichen Waren ausfüllen kannst.\n",
        "\n",
        "Schreibe  eine Funktion, die erst testet, ob für genau zwei kombinierten Backwaren die genau gleichen Zutaten (in unterschiedlicher Menge zwar) benötigt werden und du dir so vielleicht Arbeitsschritte sparen kannst.\n",
        "\n",
        "Versuche hierfür in diesem Beispiel speziell auch die Länge der Liste zu überprüfen.\n",
        "\n",
        "###2.) Zutaten-Einkaufsliste\n",
        "Definiere nun die Liste(n) deiner Zutaten um und ergänze die Null, die du in anfangs ausgelassen hattest.\n",
        "\n",
        "Nun sollst du eine Funktion anlegen, die die Anzahl an Kuchen, Torten und Keksen übergibt, und dir die Menge an benötigten Zutaten zurückliefert.\n",
        "\n",
        "Teste die Funktion dafür mit den oben genannten anzufertigenden Backwaren.\n",
        "\n",
        "###3.) Kalorien zählen\n",
        "\n",
        "Ergänze deine Funktion aus 2.) um den Parameter der essenden Personen und berechne, wie viele Zutaten du durchschnittlich pro Kopf bei 5, 12 bzw. 20 Gästen, die die Speisen verzehren, benötigst.\n",
        "\n",
        "Gib auf der Konsole aus, wie viel eine Person an Kalorien aufgenommen hat, wenn ein Ei 80 kcal, ein Häufchen Mehl 100 kcal und ein Stück Butter 180 kcal enthält.\n",
        "\n",
        "Viel Spaß.\n",
        "Du backst das. :-)"
      ],
      "metadata": {
        "id": "w0y3n9lc_y1_"
      }
    },
    {
      "cell_type": "code",
      "source": [
        "# Lösung\n"
      ],
      "metadata": {
        "id": "Oi-bZEOF5UlK"
      },
      "execution_count": null,
      "outputs": []
    }
  ]
}