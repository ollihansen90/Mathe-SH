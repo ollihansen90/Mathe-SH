{
  "nbformat": 4,
  "nbformat_minor": 0,
  "metadata": {
    "colab": {
      "provenance": [],
      "collapsed_sections": [],
      "authorship_tag": "ABX9TyNCVqJ63RFzct5AUWDjhvbH",
      "include_colab_link": true
    },
    "kernelspec": {
      "name": "python3",
      "display_name": "Python 3"
    },
    "language_info": {
      "name": "python"
    }
  },
  "cells": [
    {
      "cell_type": "markdown",
      "metadata": {
        "id": "view-in-github",
        "colab_type": "text"
      },
      "source": [
        "<a href=\"https://colab.research.google.com/github/ollihansen90/Mathe-SH/blob/main/GeschriebeneZahlen_Ansatz.ipynb\" target=\"_parent\"><img src=\"https://colab.research.google.com/assets/colab-badge.svg\" alt=\"Open In Colab\"/></a>"
      ]
    },
    {
      "cell_type": "code",
      "execution_count": null,
      "metadata": {
        "colab": {
          "base_uri": "https://localhost:8080/"
        },
        "id": "eGc1fUwX9Yd3",
        "outputId": "68d7d48e-5f01-4686-cb6f-f626b60cbf5c"
      },
      "outputs": [
        {
          "output_type": "stream",
          "name": "stdout",
          "text": [
            "['null', 'eins', 'zwei', 'drei', 'vier', 'fünf', 'sechs', 'sieben', 'acht', 'neun']\n",
            "['zehn', 'zwanzig', 'dreißig', 'vierzig', 'fünfzig', 'sechzig', 'siebzig', 'achtzig', 'neunzig']\n"
          ]
        }
      ],
      "source": [
        "einer = \"\"\"null\n",
        "eins\n",
        "zwei\n",
        "drei\n",
        "vier\n",
        "fünf\n",
        "sechs\n",
        "sieben\n",
        "acht\n",
        "neun\"\"\"\n",
        "zehner = \"\"\"zehn\n",
        "zwanzig\n",
        "dreißig\n",
        "vierzig\n",
        "fünfzig\n",
        "sechzig\n",
        "siebzig\n",
        "achtzig\n",
        "neunzig\"\"\"\n",
        "\n",
        "print(einer.split(\"\\n\"))\n",
        "print(zehner.split(\"\\n\"))"
      ]
    },
    {
      "cell_type": "code",
      "source": [
        "einerliste = ['null', 'eins', 'zwei', 'drei', 'vier', 'fünf', 'sechs', 'sieben', 'acht', 'neun']\n",
        "zehnerliste = ['zehn', 'zwanzig', 'dreißig', 'vierzig', 'fünfzig', 'sechzig', 'siebzig', 'achtzig', 'neunzig', \"\"]\n",
        "grossezahlen = [\"\", \"tausend\", \"millionen\", \"milliarden\"]"
      ],
      "metadata": {
        "id": "EoNxC9ag-alm"
      },
      "execution_count": 42,
      "outputs": []
    },
    {
      "cell_type": "code",
      "source": [
        "def hunderter(zahl):\n",
        "    if zahl==0:\n",
        "        return \"\"\n",
        "    zahlstring = str(zahl)\n",
        "    ausgabe = \"\"\n",
        "    if len(zahlstring)==3:\n",
        "        ausgabe += einerliste[int(zahlstring[0])] + \"hundert\"\n",
        "        ausgabe = ausgabe.replace(\"eins\", \"ein\")\n",
        "    ausgabe = ausgabe + einerliste[int(zahlstring[-1])]\n",
        "\n",
        "    if len(zahlstring)<2:\n",
        "        return ausgabe\n",
        "\n",
        "    if zahlstring[-1]==\"1\" and zahlstring[-2]!=\"0\": # \"einundzwanzig statt einSundzwanzig\"\n",
        "        ausgabe = ausgabe[:-1]\n",
        "    if zahl<20 and zahlstring[-1]==\"6\": # \"sechzehn statt sechSzehn\"\n",
        "        ausgabe = ausgabe[:-1]\n",
        "    if zahl<20 and zahlstring[-1]==\"7\": # \"siebzehn statt siebENzehn\"\n",
        "        ausgabe = ausgabe[:-2]\n",
        "    if zahl%100>20 and not zahlstring[-2]==\"0\": # \"vierUNDzwanzig statt vierzwanzig\"\n",
        "        ausgabe += \"und\"\n",
        "    if zahlstring[-1]==\"0\" and len(zahlstring)==2: # TODO: Fehlerquelle\n",
        "        ausgabe = \"\"\n",
        "    ausgabe = ausgabe + zehnerliste[int(zahlstring[-2])-1]\n",
        "    \n",
        "    if zahlstring[-2:]==\"00\":\n",
        "        ausgabe = ausgabe.replace(\"null\", \"\")\n",
        "    ausgabe = ausgabe.replace(\"nullund\", \"\")\n",
        "    ausgabe = ausgabe.replace(\"einzehn\", \"elf\")\n",
        "    ausgabe = ausgabe.replace(\"einundzehn\", \"elf\")\n",
        "    ausgabe = ausgabe.replace(\"zweizehn\", \"zwölf\")\n",
        "    ausgabe = ausgabe.replace(\"zweiundzehn\", \"zwölf\")\n",
        "    return ausgabe\n",
        "\n",
        "def ausschreiben(zahl):\n",
        "    zahlstring = str(zahl)\n",
        "    ausgabe = \"\"\n",
        "    pointer = 0\n",
        "    while len(zahlstring)>0:\n",
        "        uebergabe = zahlstring[-3:]\n",
        "        if int(uebergabe)>0:\n",
        "            h = hunderter(int(uebergabe))\n",
        "            if int(uebergabe)==1 and pointer>1:\n",
        "                h = h[:-1]+\"e\"\n",
        "                g = grossezahlen[pointer][:-2+(pointer%2)]\n",
        "            else:\n",
        "                g = grossezahlen[pointer]\n",
        "            ausgabe = h+g+ausgabe\n",
        "        zahlstring = zahlstring[:-3]\n",
        "        pointer += 1\n",
        "    return ausgabe.capitalize()\n",
        "\n",
        "\n",
        "print(ausschreiben(123123123123123123123123))\n",
        "#for i in range(490, 515):\n",
        "#    print(ausschreiben(i))"
      ],
      "metadata": {
        "colab": {
          "base_uri": "https://localhost:8080/"
        },
        "id": "fr8MPlz1-lGt",
        "outputId": "895db967-cced-4ac8-9e0d-f54ca74ac07b"
      },
      "execution_count": 83,
      "outputs": [
        {
          "output_type": "stream",
          "name": "stdout",
          "text": [
            "Einhundertdreiundzwanzigtrilliardeneinhundertdreiundzwanzigtrillioneneinhundertdreiundzwanzigbilliardeneinhundertdreiundzwanzigbillioneneinhundertdreiundzwanzigmilliardeneinhundertdreiundzwanzigmillioneneinhundertdreiundzwanzigtausendeinhundertdreiundzwanzig\n"
          ]
        }
      ]
    }
  ]
}