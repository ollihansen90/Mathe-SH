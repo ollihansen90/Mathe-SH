{
  "nbformat": 4,
  "nbformat_minor": 0,
  "metadata": {
    "colab": {
      "provenance": [],
      "collapsed_sections": [],
      "authorship_tag": "ABX9TyOfnDr7WY8cAgv0W7Yp7M7U",
      "include_colab_link": true
    },
    "kernelspec": {
      "name": "python3",
      "display_name": "Python 3"
    },
    "language_info": {
      "name": "python"
    }
  },
  "cells": [
    {
      "cell_type": "markdown",
      "metadata": {
        "id": "view-in-github",
        "colab_type": "text"
      },
      "source": [
        "<a href=\"https://colab.research.google.com/github/ollihansen90/Mathe-SH/blob/main/GeschriebeneZahlen_Ansatz.ipynb\" target=\"_parent\"><img src=\"https://colab.research.google.com/assets/colab-badge.svg\" alt=\"Open In Colab\"/></a>"
      ]
    },
    {
      "cell_type": "code",
      "execution_count": 3,
      "metadata": {
        "colab": {
          "base_uri": "https://localhost:8080/"
        },
        "id": "eGc1fUwX9Yd3",
        "outputId": "99449c30-5d6d-457f-e12a-f920dd29ec2a"
      },
      "outputs": [
        {
          "output_type": "stream",
          "name": "stdout",
          "text": [
            "['null', 'eins', 'zwei', 'drei', 'vier', 'fünf', 'sechs', 'sieben', 'acht', 'neun']\n",
            "['zehn', 'zwanzig', 'dreißig', 'vierzig', 'fünfzig', 'sechzig', 'siebzig', 'achtzig', 'neunzig']\n"
          ]
        }
      ],
      "source": [
        "einer = \"\"\"null\n",
        "eins\n",
        "zwei\n",
        "drei\n",
        "vier\n",
        "fünf\n",
        "sechs\n",
        "sieben\n",
        "acht\n",
        "neun\"\"\"\n",
        "zehner = \"\"\"zehn\n",
        "zwanzig\n",
        "dreißig\n",
        "vierzig\n",
        "fünfzig\n",
        "sechzig\n",
        "siebzig\n",
        "achtzig\n",
        "neunzig\"\"\"\n",
        "\n",
        "print(einer.split(\"\\n\"))\n",
        "print(zehner.split(\"\\n\"))"
      ]
    },
    {
      "cell_type": "code",
      "source": [
        "einerliste = ['null', 'eins', 'zwei', 'drei', 'vier', 'fünf', 'sechs', 'sieben', 'acht', 'neun']\n",
        "zehnerliste = ['zehn', 'zwanzig', 'dreißig', 'vierzig', 'fünfzig', 'sechzig', 'siebzig', 'achtzig', 'neunzig', \"\"]"
      ],
      "metadata": {
        "id": "EoNxC9ag-alm"
      },
      "execution_count": 52,
      "outputs": []
    },
    {
      "cell_type": "code",
      "source": [
        "def ausschreiben(zahl):\n",
        "    zahlstring = str(zahl)\n",
        "    ausgabe = \"\"\n",
        "    if len(zahlstring)==3:\n",
        "        ausgabe += einerliste[int(zahlstring[0])] + \"hundert\"\n",
        "    ausgabe = ausgabe + einerliste[int(zahlstring[-1])]\n",
        "\n",
        "    if len(zahlstring)<2:\n",
        "        return ausgabe.capitalize()\n",
        "\n",
        "    if zahlstring[-1]==\"1\":\n",
        "        ausgabe = ausgabe[:-1]\n",
        "    if zahl<20 and zahlstring[-1]==\"6\":\n",
        "        ausgabe = ausgabe[:-1]\n",
        "    if zahl<20 and zahlstring[-1]==\"7\":\n",
        "        ausgabe = ausgabe[:-2]\n",
        "    if zahl>20 and not zahlstring[-2]==\"0\":\n",
        "        ausgabe += \"und\"\n",
        "    if zahlstring[-1]==\"0\" and len(zahlstring)==2: # TODO: Fehlerquelle\n",
        "        ausgabe = \"\"\n",
        "    ausgabe = ausgabe + zehnerliste[int(zahlstring[-2])-1]\n",
        "\n",
        "    if zahlstring[-2:]==\"00\":\n",
        "        ausgabe = ausgabe.replace(\"null\", \"\")\n",
        "    ausgabe = ausgabe.replace(\"einzehn\", \"elf\")\n",
        "    ausgabe = ausgabe.replace(\"einundzehn\", \"elf\")\n",
        "    ausgabe = ausgabe.replace(\"zweizehn\", \"zwölf\")\n",
        "    ausgabe = ausgabe.replace(\"zweiundzehn\", \"zwölf\")\n",
        "    return ausgabe.capitalize()\n",
        "\n",
        "for i in range(490, 515):\n",
        "    print(ausschreiben(i))"
      ],
      "metadata": {
        "colab": {
          "base_uri": "https://localhost:8080/"
        },
        "id": "fr8MPlz1-lGt",
        "outputId": "d75a75a8-0b5a-4bce-a5fa-ab9418e4da26"
      },
      "execution_count": 70,
      "outputs": [
        {
          "output_type": "stream",
          "name": "stdout",
          "text": [
            "Vierhundertnullundneunzig\n",
            "Vierhunderteinundneunzig\n",
            "Vierhundertzweiundneunzig\n",
            "Vierhundertdreiundneunzig\n",
            "Vierhundertvierundneunzig\n",
            "Vierhundertfünfundneunzig\n",
            "Vierhundertsechsundneunzig\n",
            "Vierhundertsiebenundneunzig\n",
            "Vierhundertachtundneunzig\n",
            "Vierhundertneunundneunzig\n",
            "Fünfhundert\n",
            "Fünfhundertein\n",
            "Fünfhundertzwei\n",
            "Fünfhundertdrei\n",
            "Fünfhundertvier\n",
            "Fünfhundertfünf\n",
            "Fünfhundertsechs\n",
            "Fünfhundertsieben\n",
            "Fünfhundertacht\n",
            "Fünfhundertneun\n",
            "Fünfhundertnullundzehn\n",
            "Fünfhundertelf\n",
            "Fünfhundertzwölf\n",
            "Fünfhundertdreiundzehn\n",
            "Fünfhundertvierundzehn\n"
          ]
        }
      ]
    },
    {
      "cell_type": "code",
      "source": [
        "print(*dir(str), sep=\"\\n\")"
      ],
      "metadata": {
        "colab": {
          "base_uri": "https://localhost:8080/"
        },
        "id": "OnDDYfIGAiMZ",
        "outputId": "bf1517a1-33b3-4b73-ca32-c77bfad134f7"
      },
      "execution_count": 26,
      "outputs": [
        {
          "output_type": "stream",
          "name": "stdout",
          "text": [
            "__add__\n",
            "__class__\n",
            "__contains__\n",
            "__delattr__\n",
            "__dir__\n",
            "__doc__\n",
            "__eq__\n",
            "__format__\n",
            "__ge__\n",
            "__getattribute__\n",
            "__getitem__\n",
            "__getnewargs__\n",
            "__gt__\n",
            "__hash__\n",
            "__init__\n",
            "__init_subclass__\n",
            "__iter__\n",
            "__le__\n",
            "__len__\n",
            "__lt__\n",
            "__mod__\n",
            "__mul__\n",
            "__ne__\n",
            "__new__\n",
            "__reduce__\n",
            "__reduce_ex__\n",
            "__repr__\n",
            "__rmod__\n",
            "__rmul__\n",
            "__setattr__\n",
            "__sizeof__\n",
            "__str__\n",
            "__subclasshook__\n",
            "capitalize\n",
            "casefold\n",
            "center\n",
            "count\n",
            "encode\n",
            "endswith\n",
            "expandtabs\n",
            "find\n",
            "format\n",
            "format_map\n",
            "index\n",
            "isalnum\n",
            "isalpha\n",
            "isascii\n",
            "isdecimal\n",
            "isdigit\n",
            "isidentifier\n",
            "islower\n",
            "isnumeric\n",
            "isprintable\n",
            "isspace\n",
            "istitle\n",
            "isupper\n",
            "join\n",
            "ljust\n",
            "lower\n",
            "lstrip\n",
            "maketrans\n",
            "partition\n",
            "replace\n",
            "rfind\n",
            "rindex\n",
            "rjust\n",
            "rpartition\n",
            "rsplit\n",
            "rstrip\n",
            "split\n",
            "splitlines\n",
            "startswith\n",
            "strip\n",
            "swapcase\n",
            "title\n",
            "translate\n",
            "upper\n",
            "zfill\n"
          ]
        }
      ]
    }
  ]
}