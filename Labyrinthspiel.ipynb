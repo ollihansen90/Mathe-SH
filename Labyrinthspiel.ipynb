{
  "nbformat": 4,
  "nbformat_minor": 0,
  "metadata": {
    "colab": {
      "provenance": [],
      "authorship_tag": "ABX9TyN0MaGCECU2htnW2RxHEFDc",
      "include_colab_link": true
    },
    "kernelspec": {
      "name": "python3",
      "display_name": "Python 3"
    },
    "language_info": {
      "name": "python"
    }
  },
  "cells": [
    {
      "cell_type": "markdown",
      "metadata": {
        "id": "view-in-github",
        "colab_type": "text"
      },
      "source": [
        "<a href=\"https://colab.research.google.com/github/ollihansen90/Mathe-SH/blob/main/Labyrinthspiel.ipynb\" target=\"_parent\"><img src=\"https://colab.research.google.com/assets/colab-badge.svg\" alt=\"Open In Colab\"/></a>"
      ]
    },
    {
      "cell_type": "code",
      "execution_count": null,
      "metadata": {
        "colab": {
          "base_uri": "https://localhost:8080/"
        },
        "id": "U0TDI6fcVxKm",
        "outputId": "672b0412-6f78-4bd9-a5fc-9960b83d6a96"
      },
      "outputs": [
        {
          "output_type": "stream",
          "name": "stdout",
          "text": [
            "██████████\n",
            "██      ██\n",
            "██        \n",
            "██      ██\n",
            "████  ████\n",
            "██████████\n",
            "██      ██\n",
            "          \n",
            "██      ██\n",
            "██████████\n",
            "██████████\n",
            "██      ██\n",
            "██        \n",
            "██      ██\n",
            "████  ████\n",
            "██████████\n",
            "██      ██\n",
            "██        \n",
            "██      ██\n",
            "████  ████\n",
            "██████████\n",
            "██      ██\n",
            "██        \n",
            "██      ██\n",
            "████  ████\n",
            "██████████\n",
            "██      ██\n",
            "          \n",
            "██      ██\n",
            "████  ████\n",
            "████  ████\n",
            "██      ██\n",
            "██        \n",
            "██      ██\n",
            "████  ████\n"
          ]
        }
      ],
      "source": [
        "import random\n",
        "\n",
        "class Raum():\n",
        "    def __init__(self, richtungen=[0.7,0.3,0.8,0.2]):\n",
        "        self.oben = richtungen[0]\n",
        "        self.links = richtungen[1]\n",
        "        self.unten = richtungen[2]\n",
        "        self.rechts = richtungen[3]\n",
        "        self.bild = self.male_raum()\n",
        "\n",
        "    def __str__(self):\n",
        "        return self.bild\n",
        "\n",
        "    def male_raum(self):\n",
        "        s = 2*\"\\u2588\"\n",
        "        w = 2*\" \"\n",
        "\n",
        "        if self.oben<0.5:\n",
        "            ersteZeile = 5*s\n",
        "        else:\n",
        "            ersteZeile = 2*s+w+2*s\n",
        "        zweiteZeile = vierteZeile = s+3*w+s\n",
        "\n",
        "        dritteZeile = 3*w\n",
        "        if self.links<0.5:\n",
        "            dritteZeile = s+dritteZeile\n",
        "        else:\n",
        "            dritteZeile = w+dritteZeile\n",
        "        \n",
        "        if self.rechts<0.5:\n",
        "            dritteZeile = dritteZeile+s\n",
        "        else:\n",
        "            dritteZeile = dritteZeile+w\n",
        "\n",
        "        if self.unten<0.5:\n",
        "            fuenfteZeile = 5*s\n",
        "        else:\n",
        "            fuenfteZeile = 2*s+w+2*s\n",
        "        return ersteZeile+\"\\n\"+zweiteZeile+\"\\n\"+dritteZeile+\"\\n\"+vierteZeile+\"\\n\"+fuenfteZeile\n",
        "\n",
        "\n",
        "class Karte():\n",
        "    def __init__(self, hoehe, breite):\n",
        "        self.raumliste = [Raum([random.random() for i in range(4)]) for i in range(hoehe)]\n",
        "\n",
        "r = [random.random() for i in range(4)]\n",
        "raum1 = Raum(r)\n",
        "#print(raum1)\n",
        "k = Karte(hoehe=7, breite=0)\n",
        "for raum in k.raumliste:\n",
        "    print(raum)"
      ]
    },
    {
      "cell_type": "code",
      "source": [
        "i = 10\n",
        "i()"
      ],
      "metadata": {
        "colab": {
          "base_uri": "https://localhost:8080/",
          "height": 183
        },
        "id": "sWZxI7GHdXI0",
        "outputId": "cb9d16b3-69b3-4684-f3ab-42d3dd72f3db"
      },
      "execution_count": null,
      "outputs": [
        {
          "output_type": "error",
          "ename": "TypeError",
          "evalue": "ignored",
          "traceback": [
            "\u001b[0;31m---------------------------------------------------------------------------\u001b[0m",
            "\u001b[0;31mTypeError\u001b[0m                                 Traceback (most recent call last)",
            "\u001b[0;32m<ipython-input-55-d855c2bf4481>\u001b[0m in \u001b[0;36m<module>\u001b[0;34m\u001b[0m\n\u001b[1;32m      1\u001b[0m \u001b[0mi\u001b[0m \u001b[0;34m=\u001b[0m \u001b[0;36m10\u001b[0m\u001b[0;34m\u001b[0m\u001b[0;34m\u001b[0m\u001b[0m\n\u001b[0;32m----> 2\u001b[0;31m \u001b[0mi\u001b[0m\u001b[0;34m(\u001b[0m\u001b[0;34m)\u001b[0m\u001b[0;34m\u001b[0m\u001b[0;34m\u001b[0m\u001b[0m\n\u001b[0m",
            "\u001b[0;31mTypeError\u001b[0m: 'int' object is not callable"
          ]
        }
      ]
    }
  ]
}