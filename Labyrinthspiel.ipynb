{
  "nbformat": 4,
  "nbformat_minor": 0,
  "metadata": {
    "colab": {
      "provenance": [],
      "authorship_tag": "ABX9TyPUFz2lG+B9wJ4i3/aKg1GM",
      "include_colab_link": true
    },
    "kernelspec": {
      "name": "python3",
      "display_name": "Python 3"
    },
    "language_info": {
      "name": "python"
    }
  },
  "cells": [
    {
      "cell_type": "markdown",
      "metadata": {
        "id": "view-in-github",
        "colab_type": "text"
      },
      "source": [
        "<a href=\"https://colab.research.google.com/github/ollihansen90/Mathe-SH/blob/main/Labyrinthspiel.ipynb\" target=\"_parent\"><img src=\"https://colab.research.google.com/assets/colab-badge.svg\" alt=\"Open In Colab\"/></a>"
      ]
    },
    {
      "cell_type": "code",
      "execution_count": 8,
      "metadata": {
        "colab": {
          "base_uri": "https://localhost:8080/"
        },
        "id": "U0TDI6fcVxKm",
        "outputId": "70e49375-8a14-4f0d-bf66-a56283608b51"
      },
      "outputs": [
        {
          "output_type": "stream",
          "name": "stdout",
          "text": [
            "██████████\n",
            "██      ██\n",
            "██        \n",
            "██      ██\n",
            "████  ████\n",
            "████  ████\n",
            "██      ██\n",
            "        ██\n",
            "██      ██\n",
            "████  ████\n",
            "██████████\n",
            "██      ██\n",
            "        ██\n",
            "██      ██\n",
            "████  ████\n",
            "██████████\n",
            "██      ██\n",
            "          \n",
            "██      ██\n",
            "██████████\n",
            "████  ████\n",
            "██      ██\n",
            "██        \n",
            "██      ██\n",
            "████  ████\n",
            "████  ████\n",
            "██      ██\n",
            "██        \n",
            "██      ██\n",
            "██████████\n",
            "████  ████\n",
            "██      ██\n",
            "          \n",
            "██      ██\n",
            "██████████\n"
          ]
        }
      ],
      "source": [
        "import random\n",
        "\n",
        "class Raum():\n",
        "    def __init__(self, richtungen=[0.7,0.3,0.8,0.2]):\n",
        "        self.oben = richtungen[0]\n",
        "        self.links = richtungen[1]\n",
        "        self.unten = richtungen[2]\n",
        "        self.rechts = richtungen[3]\n",
        "        self.bild = self.male_raum()\n",
        "\n",
        "    def __str__(self):\n",
        "        return self.bild\n",
        "\n",
        "    def male_raum(self):\n",
        "        s = 2*\"\\u2588\"\n",
        "        w = 2*\" \"\n",
        "\n",
        "        if self.oben<0.5:\n",
        "            ersteZeile = 5*s\n",
        "        else:\n",
        "            ersteZeile = 2*s+w+2*s\n",
        "        zweiteZeile = vierteZeile = s+3*w+s\n",
        "\n",
        "        dritteZeile = 3*w\n",
        "        if self.links<0.5:\n",
        "            dritteZeile = s+dritteZeile\n",
        "        else:\n",
        "            dritteZeile = w+dritteZeile\n",
        "        \n",
        "        if self.rechts<0.5:\n",
        "            dritteZeile = dritteZeile+s\n",
        "        else:\n",
        "            dritteZeile = dritteZeile+w\n",
        "\n",
        "        if self.unten<0.5:\n",
        "            fuenfteZeile = 5*s\n",
        "        else:\n",
        "            fuenfteZeile = 2*s+w+2*s\n",
        "        return ersteZeile+\"\\n\"+zweiteZeile+\"\\n\"+dritteZeile+\"\\n\"+vierteZeile+\"\\n\"+fuenfteZeile\n",
        "\n",
        "\n",
        "class Karte():\n",
        "    def __init__(self, hoehe, breite):\n",
        "        self.raumliste = [Raum([random.random() for i in range(4)]) for i in range(hoehe)]\n",
        "\n",
        "r = [random.random() for i in range(4)]\n",
        "raum1 = Raum(r)\n",
        "#print(raum1)\n",
        "k = Karte(hoehe=7, breite=0)\n",
        "for raum in k.raumliste:\n",
        "    print(raum)"
      ]
    },
    {
      "cell_type": "code",
      "source": [
        "text1 = \"Hallo\\nMein Name ist Olli\"\n",
        "text2 = \"Mir geht es heute gut.\\nWie geht es dir?\"\n",
        "\n",
        "def verschmelze(str1, str2):\n",
        "    output = \"\"\n",
        "    liste1 = str1.split(\"\\n\")\n",
        "    liste2 = str2.split(\"\\n\")\n",
        "    for i in range(len(liste1)):\n",
        "        output = output+liste1[i]+liste2[i]+\"\\n\"\n",
        "    return output\n",
        "\n",
        "#print(verschmelze(text1, text2))\n",
        "\n",
        "r = [random.random() for i in range(4)]\n",
        "raum1 = Raum(r)\n",
        "r = [random.random() for i in range(4)]\n",
        "raum2 = Raum(r)\n",
        "\n",
        "print(raum1.bild) \n",
        "print(raum2.bild)\n",
        "print(verschmelze(raum1.bild, raum2.bild))"
      ],
      "metadata": {
        "colab": {
          "base_uri": "https://localhost:8080/"
        },
        "id": "sWZxI7GHdXI0",
        "outputId": "e6702977-e4c9-4c11-b981-51082f6af1ef"
      },
      "execution_count": 13,
      "outputs": [
        {
          "output_type": "stream",
          "name": "stdout",
          "text": [
            "████  ████\n",
            "██      ██\n",
            "        ██\n",
            "██      ██\n",
            "████  ████\n",
            "████  ████\n",
            "██      ██\n",
            "██      ██\n",
            "██      ██\n",
            "████  ████\n",
            "████  ████████  ████\n",
            "██      ████      ██\n"
          ]
        }
      ]
    }
  ]
}