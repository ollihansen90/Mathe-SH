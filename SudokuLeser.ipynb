{
  "nbformat": 4,
  "nbformat_minor": 0,
  "metadata": {
    "colab": {
      "provenance": [],
      "authorship_tag": "ABX9TyNySqj7tDMvnDmNwX3fGExm",
      "include_colab_link": true
    },
    "kernelspec": {
      "name": "python3",
      "display_name": "Python 3"
    },
    "language_info": {
      "name": "python"
    }
  },
  "cells": [
    {
      "cell_type": "markdown",
      "metadata": {
        "id": "view-in-github",
        "colab_type": "text"
      },
      "source": [
        "<a href=\"https://colab.research.google.com/github/ollihansen90/Mathe-SH/blob/main/SudokuLeser.ipynb\" target=\"_parent\"><img src=\"https://colab.research.google.com/assets/colab-badge.svg\" alt=\"Open In Colab\"/></a>"
      ]
    },
    {
      "cell_type": "code",
      "execution_count": null,
      "metadata": {
        "id": "W7pIHPqG7Zzf"
      },
      "outputs": [],
      "source": [
        "!wget -nc -q https://github.com/ollihansen90/Mathe-SH/raw/main/data/model_sudokuleser.pt\n",
        "!wget -nc -q https://github.com/ollihansen90/Mathe-SH/raw/main/utils/utils_sudokuleser.py\n",
        "!wget -nc -q https://github.com/ollihansen90/Mathe-SH/raw/main/utils/utils_sudokusolver.py\n",
        "!wget -nc -q https://github.com/ollihansen90/Mathe-SH/raw/main/utils/utils_sudoku.py"
      ]
    },
    {
      "cell_type": "code",
      "source": [
        "import torch\n",
        "from utils_sudokuleser import CNN, classify\n",
        "from utils_sudokusolver import initialisiere, einlesen, plotte_solver, brute_force\n",
        "from utils_sudoku import plotte\n",
        "\n",
        "model = CNN()\n",
        "model.load_state_dict(torch.load(\"model_sudokuleser.pt\", map_location=\"cpu\"))\n",
        "model.eval()"
      ],
      "metadata": {
        "id": "_NmHfrzl7cMq"
      },
      "execution_count": null,
      "outputs": []
    },
    {
      "cell_type": "code",
      "source": [
        "from random import randint\n",
        "from skimage import io\n",
        "import matplotlib.pyplot as plt\n",
        "\n",
        "def loese_sudoku_puzzles(schwierigkeit, nummer=None):\n",
        "    if nummer==None:\n",
        "        nummer = randint(1,1000)\n",
        "    if schwierigkeit not in [\"easy\", \"medium\", \"hard\"]:\n",
        "        print(\"Die Schwierigkeit\",schwierigkeit,\"gibt es nicht.\")\n",
        "        return\n",
        "    if not 0<nummer<=1000:\n",
        "        print(\"Die Zahl muss zwischen 0 und 1000 liegen.\")\n",
        "        return\n",
        "    if type(nummer)!=int:\n",
        "        print(\"Die Zahl muss eine Ganzzahl sein.\")\n",
        "        return\n",
        "    url = \"https://sudoku-puzzles.net/wp-content/puzzles/sudoku/\"+schwierigkeit+\"/\"+str(int(nummer))+\".png\"\n",
        "    print(url)\n",
        "\n",
        "    img = io.imread(url)\n",
        "\n",
        "    plt.figure()\n",
        "    plt.imshow(img)\n",
        "    plt.axis(\"off\")\n",
        "    plt.show()\n",
        "\n",
        "    output = classify(url, model) # Liste von Zahlen\n",
        "    output = umwandeln(output) # Liste von Zeilen als Strings\n",
        "    solver = initialisiere()\n",
        "    output = einlesen(solver, output)\n",
        "    output = brute_force(output)\n",
        "    plotte_solver(output)\n",
        "\n",
        "loese_sudoku_puzzles(\"medium\")"
      ],
      "metadata": {
        "id": "hLSBL-c8aBZJ"
      },
      "execution_count": null,
      "outputs": []
    }
  ]
}