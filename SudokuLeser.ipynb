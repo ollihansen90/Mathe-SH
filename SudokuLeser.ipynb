{
  "nbformat": 4,
  "nbformat_minor": 0,
  "metadata": {
    "colab": {
      "provenance": [],
      "authorship_tag": "ABX9TyOFRyysiTYrrildUNXtb68P",
      "include_colab_link": true
    },
    "kernelspec": {
      "name": "python3",
      "display_name": "Python 3"
    },
    "language_info": {
      "name": "python"
    }
  },
  "cells": [
    {
      "cell_type": "markdown",
      "metadata": {
        "id": "view-in-github",
        "colab_type": "text"
      },
      "source": [
        "<a href=\"https://colab.research.google.com/github/ollihansen90/Mathe-SH/blob/main/SudokuLeser.ipynb\" target=\"_parent\"><img src=\"https://colab.research.google.com/assets/colab-badge.svg\" alt=\"Open In Colab\"/></a>"
      ]
    },
    {
      "cell_type": "code",
      "execution_count": 3,
      "metadata": {
        "id": "W7pIHPqG7Zzf"
      },
      "outputs": [],
      "source": [
        "!wget -nc -q https://github.com/ollihansen90/Mathe-SH/raw/main/data/model_sudokuleser.pt\n",
        "!wget -nc -q https://github.com/ollihansen90/Mathe-SH/raw/main/utils/utils_sudokuleser.py\n",
        "!wget -nc -q https://github.com/ollihansen90/Mathe-SH/raw/main/utils/utils_sudokusolver.py\n",
        "!wget -nc -q https://github.com/ollihansen90/Mathe-SH/raw/main/utils/utils_sudoku.py"
      ]
    },
    {
      "cell_type": "code",
      "source": [
        "import torch\n",
        "from utils_sudokuleser import CNN, classify\n",
        "from utils_sudokusolver import initialisiere\n",
        "\n",
        "model = CNN()\n",
        "model.load_state_dict(torch.load(\"model_sudokuleser.pt\", map_location=\"cpu\"))\n",
        "model.eval()"
      ],
      "metadata": {
        "id": "_NmHfrzl7cMq"
      },
      "execution_count": null,
      "outputs": []
    },
    {
      "cell_type": "code",
      "source": [
        "url = \"https://sudoku-puzzles.net/wp-content/puzzles/sudoku/easy/1.png\"\n",
        "\n",
        "output = classify(url, model)\n",
        "print(output)"
      ],
      "metadata": {
        "id": "-_iR3Jgn9djA"
      },
      "execution_count": null,
      "outputs": []
    }
  ]
}