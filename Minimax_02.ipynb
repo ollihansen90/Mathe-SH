{
  "nbformat": 4,
  "nbformat_minor": 0,
  "metadata": {
    "colab": {
      "provenance": [],
      "include_colab_link": true
    },
    "kernelspec": {
      "name": "python3",
      "display_name": "Python 3"
    },
    "language_info": {
      "name": "python"
    }
  },
  "cells": [
    {
      "cell_type": "markdown",
      "metadata": {
        "id": "view-in-github",
        "colab_type": "text"
      },
      "source": [
        "<a href=\"https://colab.research.google.com/github/ollihansen90/Mathe-SH/blob/main/Minimax_02.ipynb\" target=\"_parent\"><img src=\"https://colab.research.google.com/assets/colab-badge.svg\" alt=\"Open In Colab\"/></a>"
      ]
    },
    {
      "cell_type": "markdown",
      "metadata": {
        "id": "cgq0ON5768UB"
      },
      "source": [
        "# Minimax-Algorithmus ♟️🏆🌳"
      ]
    },
    {
      "cell_type": "markdown",
      "metadata": {
        "id": "A7ig8qUyW8bS"
      },
      "source": [
        "# Fragen?\n",
        "Solltet ihr Fragen zum Code oder Probleme mit Colab haben, schickt uns gerne eine Mail:\n",
        "\n",
        "*   h.hansen@uni-luebeck.de\n",
        "*   friederike.meissner@student.uni-luebeck.de\n",
        "*   dustin.haschke@student.uni-luebeck.de"
      ]
    },
    {
      "cell_type": "markdown",
      "source": [
        "## Hilfsfunktionen"
      ],
      "metadata": {
        "id": "tEMw5WaNUlxD"
      }
    },
    {
      "cell_type": "code",
      "source": [
        "import matplotlib.pyplot as plt\n",
        "import random\n",
        "\n",
        "def plot_tree(node, x, y, dx, dy, ax):\n",
        "    # Hilfsfunktion zum Darstellen des Baumes\n",
        "    if isinstance(node, list) and len(node)==1:\n",
        "        node = node[0]\n",
        "    if isinstance(node, int) or isinstance(node, float):\n",
        "        ax.text(x, y, str(node), ha=\"center\", va=\"center\", fontsize=12, bbox=dict(facecolor=\"lightblue\", edgecolor=\"black\", boxstyle=\"round,pad=0.3\"))\n",
        "        return\n",
        "    # Zeichne Kanten und gehe rekursiv weiter\n",
        "    left, right = node\n",
        "    ax.plot([x, x - dx], [y, y - dy], 'k-')  # Kante zum linken Knoten\n",
        "    ax.plot([x, x + dx], [y, y - dy], 'k-')  # Kante zum rechten Knoten\n",
        "    # Zeichne die Knoten rekursiv\n",
        "    plot_tree(left, x - dx, y - dy, dx / 2, dy, ax)\n",
        "    plot_tree(right, x + dx, y - dy, dx / 2, dy, ax)\n",
        "\n",
        "def visualize_tree(tree):\n",
        "    fig, ax = plt.subplots(figsize=(8,4))\n",
        "    ax.axis(\"off\")\n",
        "    plot_tree(tree, x=0, y=0, dx=4, dy=1, ax=ax)\n",
        "    plt.show()\n"
      ],
      "metadata": {
        "id": "KEeuTZgZUjQw"
      },
      "execution_count": 5,
      "outputs": []
    },
    {
      "cell_type": "markdown",
      "metadata": {
        "id": "4-Odv31eAYT1"
      },
      "source": [
        "## 🌟 Einleitung 💡\n",
        "In der Welt der künstlichen Intelligenz und des Spiels kommt oft die Frage auf: „Wie entscheidet ein Computer, was der beste nächste Zug ist?“ Der Minimax-Algorithmus ist eine der grundlegenden Strategien, die Computer verwenden, um in Spielen wie Schach, Tic-Tac-Toe oder Dame kluge Entscheidungen zu treffen. Ziel des Minimax-Algorithmus ist es, den bestmöglichen Zug zu finden, indem er alle möglichen Spielverläufe analysiert.\n",
        "\n",
        "Stellen wir uns vor, wir spielen gegen einen Gegner, der ebenfalls das Ziel hat zu gewinnen. Während wir versuchen, unseren Gewinn zu maximieren (Max), versucht unser Gegner, unseren Gewinn zu minimieren (Min). Der Minimax-Algorithmus baut auf dieser Idee auf: Er geht durch alle möglichen Züge und bewertet sie, indem er abwechselnd annimmt, dass wir und unser Gegner den besten Zug machen. So kann der Algorithmus berechnen, welcher Zug uns die besten Chancen auf den Sieg bringt.\n",
        "\n",
        "In diesem Notebook werden wir Schritt für Schritt den Minimax-Algorithmus untersuchen und implementieren. Zunächst werden wir die Grundlagen besprechen, dann den Algorithmus programmieren und schließlich einen kleinen \"Computer\" entwickeln, der diesen Algorithmus anwenden kann, um gegen uns in einem Spiel anzutreten."
      ]
    },
    {
      "cell_type": "markdown",
      "source": [
        "## 🎮 Beschreibung des Minimax-Algorithmus 🎯\n",
        "\n",
        "Der Minimax-Algorithmus hilft dabei, den besten Zug in einem Spiel zu finden, indem er alle möglichen Züge durchgeht und bewertet. Die Grundidee besteht darin, die Züge in einem *Spielbaum* darzustellen, bei dem jeder Knoten (Punkt) eine mögliche Spielsituation repräsentiert.\n",
        "\n",
        "1. **Spielbaum erstellen:** Der Algorithmus beginnt mit dem aktuellen Spielzustand und erstellt einen Baum aller möglichen zukünftigen Züge. Jeder „Zweig“ im Baum repräsentiert einen Zug, und der Baum verzweigt sich, bis alle möglichen Spielverläufe erreicht sind.\n",
        "\n",
        "2. **Bewertung der Endzustände:** An den „Blättern“ des Baumes, also den Endzuständen, weist der Algorithmus jedem möglichen Ergebnis eine Zahl zu. Positive Zahlen stehen dabei für günstige Ergebnisse für uns, negative für günstige Ergebnisse für den Gegner.\n",
        "\n",
        "3. **Minimax-Werte berechnen:** Der Algorithmus geht nun den Spielbaum von unten nach oben durch und berechnet für jeden Zug den „Minimax-Wert“. Hierbei gilt:\n",
        "   - **Max-Zug:** Wenn wir am Zug sind, wählen wir den Zug, der den höchsten Wert maximiert.\n",
        "   - **Min-Zug:** Wenn der Gegner am Zug ist, nimmt der Algorithmus an, dass er den Zug wählt, der unseren Gewinn minimiert.\n",
        "\n",
        "4. **Optimalen Zug wählen:** Nach der Berechnung der Werte kennt der Algorithmus den besten möglichen Zug, der uns die besten Chancen auf den Sieg bringt. Dieser Zug wird dann ausgeführt.\n",
        "\n",
        "In Spielen mit vielen möglichen Zügen (wie Schach) kann der Minimax-Algorithmus schnell sehr komplex werden. Später werden wir daher auch über **Alpha-Beta-Pruning** sprechen, eine Technik, die den Algorithmus beschleunigt, indem sie unnötige Berechnungen vermeidet.\n"
      ],
      "metadata": {
        "id": "2iNW9W9TQ31I"
      }
    },
    {
      "cell_type": "markdown",
      "source": [
        "### 🤔 Beispiel 📋\n",
        "Bevor wir mit einem Beispiel starten, wollen wir uns \"warmprogrammieren\"! Um einen Spielbaum zu erstellen, benötigen wir eine Datenstruktur, die den Baum beschreibt. Hierfür wählen wir einfach eine Liste von Listen (von Listen von Listen von Listen...).\n",
        "\n",
        "Die Idee hierbei ist, dass jede Liste genau zwei Einträge enthält, einen \"linken\" und einen \"rechten\". Jeder dieser Einträge ist entweder eine neue Liste mit zwei Einträgen (das nennen wir *Knoten*, englisch *Node*) oder eine Zahl (das nennen wir *Blatt*, englisch *Leaf*). Im Folgenden soll es sich bei Blättern nur um Integer handeln.\n",
        "\n",
        "Ein möglicher Baum könnte so aussehen: ```[[1,2],[3,4]]```.\n",
        "\n",
        "**Aufgabe:** Schreibe eine Funktion `pairs`, die eine Liste enthält, und daraus einen Baum generiert. *Hinweis:* Es muss sich um eine rekursive Funktion handeln!"
      ],
      "metadata": {
        "id": "7WP458BSRMdP"
      }
    },
    {
      "cell_type": "code",
      "metadata": {
        "colab": {
          "base_uri": "https://localhost:8080/"
        },
        "id": "DfHmN9fOz5PB",
        "outputId": "45b10a13-dc64-41b0-9471-9193e329f478"
      },
      "source": [
        "random.seed(1)\n",
        "liste = [random.randint(-5,5) for _ in range(16)]\n",
        "\n",
        "# ----- Hier kommt dein Code rein! -----\n",
        "def pairs(l):\n",
        "    out = []\n",
        "    return out\n",
        "# --------------------------------------\n",
        "\n",
        "# Plotten des Baums\n",
        "tree = pairs(liste)\n",
        "print(tree)\n",
        "#visualize_tree(tree)\n"
      ],
      "execution_count": 2,
      "outputs": [
        {
          "output_type": "stream",
          "name": "stdout",
          "text": [
            "[]\n"
          ]
        }
      ]
    },
    {
      "cell_type": "markdown",
      "source": [
        "### Implementierung des Minimax-Algorithmus🎁🤩✨\n",
        "Nachdem wir nun erfolgreich einen Baum definiert haben (und dieser auch dargestellt werden kann), möchten wir den Minimax-Algorithmus implementieren.\n",
        "\n",
        "**Aufgabe:** Implementiere den Minimax-Algorithmus. Wenn du möchtest, kannst du hierfür die Funktionen für den kleinsten, bzw. größten Eintrag einer Liste von letzter Woche als Grundlage nehmen.\n",
        "\n",
        "*Hinweis:* Als Abbruchbedingung für die rekursive Funktion ist es sinnvoll, den Datentyp des jeweiligen Knotens zu überprüfen, ob es ein Blatt ist. Hierfür eignet sich die `isinstance`-Funktion von Methode."
      ],
      "metadata": {
        "id": "awe33FkgSyQn"
      }
    },
    {
      "cell_type": "code",
      "source": [
        "print(isinstance([1,2,3], list))\n",
        "print(isinstance(4, list))\n",
        "\n",
        "# ----- Hier kommt dein Code rein! -----\n",
        "def minimax(node):\n",
        "    pass\n",
        "# --------------------------------------\n",
        "\n",
        "print(minimax(tree))\n"
      ],
      "metadata": {
        "colab": {
          "base_uri": "https://localhost:8080/"
        },
        "id": "bDZp5JbnTw1P",
        "outputId": "9c8ec7c5-fbf4-4495-b40c-815382689caa"
      },
      "execution_count": 4,
      "outputs": [
        {
          "output_type": "stream",
          "name": "stdout",
          "text": [
            "True\n",
            "False\n",
            "None\n"
          ]
        }
      ]
    }
  ]
}