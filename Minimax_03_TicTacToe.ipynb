{
  "nbformat": 4,
  "nbformat_minor": 0,
  "metadata": {
    "colab": {
      "provenance": [],
      "authorship_tag": "ABX9TyMNYoObTd0+U8ljbvkgTFyZ",
      "include_colab_link": true
    },
    "kernelspec": {
      "name": "python3",
      "display_name": "Python 3"
    },
    "language_info": {
      "name": "python"
    }
  },
  "cells": [
    {
      "cell_type": "markdown",
      "metadata": {
        "id": "view-in-github",
        "colab_type": "text"
      },
      "source": [
        "<a href=\"https://colab.research.google.com/github/ollihansen90/Mathe-SH/blob/main/Minimax_03_TicTacToe.ipynb\" target=\"_parent\"><img src=\"https://colab.research.google.com/assets/colab-badge.svg\" alt=\"Open In Colab\"/></a>"
      ]
    },
    {
      "cell_type": "markdown",
      "source": [
        "# Minimax 3: TicTacToe\n",
        "## Fragen? 🤔\n",
        "Solltet ihr Fragen zum Code oder Probleme mit Colab haben, schickt uns gerne eine Mail:\n",
        "\n",
        "*   h.hansen@uni-luebeck.de\n",
        "*   friederike.meissner@student.uni-luebeck.de\n",
        "*   dustin.haschke@student.uni-luebeck.de"
      ],
      "metadata": {
        "id": "J_AWV8FD7dOA"
      }
    },
    {
      "cell_type": "markdown",
      "source": [
        "### Hilfsfunktionen"
      ],
      "metadata": {
        "id": "lIpZC1-3-l0t"
      }
    },
    {
      "cell_type": "code",
      "execution_count": null,
      "metadata": {
        "id": "z4tBiYFqPago"
      },
      "outputs": [],
      "source": [
        "from random import randint\n",
        "from IPython.display import clear_output\n",
        "\n",
        "def male_feld(feld):\n",
        "    zeichen=[\" \", \"x\", \"o\"];output=\"\"\n",
        "    for i in range(9):\n",
        "        output+=str(i+1) if feld[i]==0 else zeichen[feld[i]];output+=\"|\"\n",
        "        if i%3==2 and i<6:output = output[:-1]+\"\\n-----\\n\"\n",
        "    print(output[:-1])\n",
        "\n",
        "def spiel(ki):\n",
        "    feld = 9*[0]\n",
        "    while True:\n",
        "        clear_output();male_feld(feld);nr = int(input(\"Spieler 1: \"))-1\n",
        "        while (nr<0 or nr>8) or feld[nr]!=0: nr = int(input(\"Unerlaubter Zug! Spieler 1: \"))-1\n",
        "        feld[nr] = 1;e = ende(feld)\n",
        "        if e:break\n",
        "        if len([i for i in range(9) if feld[i]==0])==0:e = 2;break\n",
        "        nr = ki(feld);feld[nr] = -1;e = ende(feld)\n",
        "        if e:break\n",
        "    clear_output();male_feld(feld)\n",
        "    if e==2:print(\"Unentschieden!\")\n",
        "    else:print(\"Spieler\", [0,1,2][e], \"hat gewonnen!\")"
      ]
    },
    {
      "cell_type": "markdown",
      "source": [
        "## 🌟 Einleitung 💡\n",
        "TicTacToe ist ein einfaches Spiel, bei dem zwei Spieler abwechselnd X bzw. O auf ein 3x3-Feld setzen. Ziel ist es, drei Symbole in einer Reihe, Spalte oder Diagonale zu platzieren. Obwohl das Spiel auf den ersten Blick simpel erscheint, verbirgt sich dahinter eine faszinierende Logik, die uns ideal in die Welt der Algorithmen und künstlichen Intelligenz einführt.\n",
        "\n",
        "Bevor wir mit der Implementierung beginnen, werfen wir einen Blick auf die Funktionen, die wir für unser TicTacToe-Spiel benötigen. Jede Funktion hat eine bestimmte Aufgabe, um die Spielregeln und Logik umzusetzen:\n",
        "\n",
        "- `zeilen`: Diese Funktion überprüft, ob eine der Zeilen auf dem Spielfeld vollständig von einem Spieler (X oder O) belegt ist.\n",
        "- `spalten`: Hier wird überprüft, ob eine der drei Spalten nur mit den Symbolen eines Spielers gefüllt ist.\n",
        "- `diagonale`: Diese Funktion schaut sich die beiden Diagonalen des Spielfelds an und überprüft, ob sie komplett mit einem Symbol (X oder O) belegt sind.\n",
        "- `ende`: Die zentrale Funktion, um zu prüfen, ob das Spiel beendet ist. Diese Funktion kombiniert die Ergebnisse von `zeilen`, `spalten` und `diagonale` und überprüft außerdem, ob noch freie Felder vorhanden sind.\n",
        "\n",
        "Mit diesen Funktionen haben wir die Basislogik abgedeckt, um ein funktionierendes TicTacToe-Spiel zu programmieren.\n",
        "\n",
        "Als Datenformat für das Spielfeld `feld` wählen wir einfach eine Liste mit neun Einträgen. Hierbei soll `0` für leeres Feld stehen, `1` für Spieler 1 und `-1` für Spieler 2."
      ],
      "metadata": {
        "id": "zUnajWPw-t1B"
      }
    },
    {
      "cell_type": "markdown",
      "source": [
        "### Aufgabe 1: Die Funktion `zeilen`\n",
        "Schreibe eine Funktion `zeilen`, die das Feld `feld` erhält und die Rückgaben `0` für \"kein Sieger\", `1` für \"Spieler 1\" und `-1` für \"Spieler 2\" zurückgibt."
      ],
      "metadata": {
        "id": "bd6BVhcm-wty"
      }
    },
    {
      "cell_type": "code",
      "source": [
        "def zeilen(feld):\n",
        "    return 0\n",
        "\n",
        "feld1 = [0,-1,-1,1,1,1,0,0,0]\n",
        "feld2 = [-1,-1,-1,1,0,1,0,1,0]\n",
        "feld3 = [0,-1,-1,0,1,1,0,0,0]\n",
        "\n",
        "male_feld(feld1)\n",
        "print(\"Sieger:\",zeilen(feld1)) # erwartete Ausgabe: 1\n",
        "male_feld(feld2)\n",
        "print(\"Sieger:\",zeilen(feld2)) # erwartete Ausgabe: -1\n",
        "male_feld(feld3)\n",
        "print(\"Sieger:\",zeilen(feld3)) # erwartete Ausgabe: 0"
      ],
      "metadata": {
        "colab": {
          "base_uri": "https://localhost:8080/"
        },
        "id": "PRS062ng99yj",
        "outputId": "c312e7b0-8b3b-49ce-83e0-02ff356f53c3"
      },
      "execution_count": null,
      "outputs": [
        {
          "output_type": "stream",
          "name": "stdout",
          "text": [
            "1|o|o\n",
            "-----\n",
            "x|x|x\n",
            "-----\n",
            "7|8|9\n",
            "Sieger: 0\n",
            "o|o|o\n",
            "-----\n",
            "x|5|x\n",
            "-----\n",
            "7|x|9\n",
            "Sieger: 0\n",
            "1|o|o\n",
            "-----\n",
            "4|x|x\n",
            "-----\n",
            "7|8|9\n",
            "Sieger: 0\n"
          ]
        }
      ]
    },
    {
      "cell_type": "markdown",
      "source": [
        "### Aufgabe 2: Die Funktion `spalten`\n",
        "Schreibe eine Funktion `spalten`, die das Feld `feld` erhält und die Rückgaben `0` für \"kein Sieger\", `1` für \"Spieler 1\" und `-1` für \"Spieler 2\" zurückgibt.\n",
        "\n",
        "*Hinweis:* Hier kannst du das Feld einfach \"drehen\" und danach die Funktion `zeilen` nutzen."
      ],
      "metadata": {
        "id": "NxtheOqpTmIY"
      }
    },
    {
      "cell_type": "code",
      "source": [
        "def spalten(feld):\n",
        "    return 0\n",
        "\n",
        "feld1 = [0,1,-1,-1,1,0,0,1,0]\n",
        "feld2 = [-1,1,0,-1,0,1,-1,0,1]\n",
        "feld3 = [0,-1,-1,0,1,1,0,0,0]\n",
        "\n",
        "male_feld(feld1)\n",
        "print(\"Sieger:\",spalten(feld1)) # erwartete Ausgabe: 1\n",
        "male_feld(feld2)\n",
        "print(\"Sieger:\",spalten(feld2)) # erwartete Ausgabe: -1\n",
        "male_feld(feld3)\n",
        "print(\"Sieger:\",spalten(feld3)) # erwartete Ausgabe: 0"
      ],
      "metadata": {
        "colab": {
          "base_uri": "https://localhost:8080/"
        },
        "id": "DU9s8MDoTm7r",
        "outputId": "3f101312-b255-4fe6-93e7-98ee24eb8e40"
      },
      "execution_count": null,
      "outputs": [
        {
          "output_type": "stream",
          "name": "stdout",
          "text": [
            "1|x|o\n",
            "-----\n",
            "o|x|6\n",
            "-----\n",
            "7|x|9\n",
            "Sieger: 1\n",
            "o|x|3\n",
            "-----\n",
            "o|5|x\n",
            "-----\n",
            "o|8|x\n",
            "Sieger: -1\n",
            "1|o|o\n",
            "-----\n",
            "4|x|x\n",
            "-----\n",
            "7|8|9\n",
            "Sieger: 0\n"
          ]
        }
      ]
    },
    {
      "cell_type": "markdown",
      "source": [
        "### Aufgabe 3: Die Funktion `diagonale`\n",
        "Schreibe eine Funktion `diagonale`, die das Feld `feld` erhält und die Rückgaben `0` für \"kein Sieger\", `1` für \"Spieler 1\" und `-1` für \"Spieler 2\" zurückgibt."
      ],
      "metadata": {
        "id": "YvkF6mhvbS3h"
      }
    },
    {
      "cell_type": "code",
      "source": [
        "def diagonale(feld):\n",
        "    return 0\n",
        "\n",
        "feld1 = [1,0,-1,-1,1,0,0,0,1]\n",
        "feld2 = [0,1,-1,0,-1,1,-1,1,0]\n",
        "feld3 = [0,-1,-1,0,1,1,0,0,0]\n",
        "\n",
        "male_feld(feld1)\n",
        "print(\"Sieger:\",diagonale(feld1)) # erwartete Ausgabe: 1\n",
        "male_feld(feld2)\n",
        "print(\"Sieger:\",diagonale(feld2)) # erwartete Ausgabe: -1\n",
        "male_feld(feld3)\n",
        "print(\"Sieger:\",diagonale(feld3)) # erwartete Ausgabe: 0"
      ],
      "metadata": {
        "colab": {
          "base_uri": "https://localhost:8080/"
        },
        "id": "XfXrP8dgbS-Y",
        "outputId": "4389d4fa-9ba2-40dd-94ab-cb3f3b9ad65e"
      },
      "execution_count": null,
      "outputs": [
        {
          "output_type": "stream",
          "name": "stdout",
          "text": [
            "x|2|o\n",
            "-----\n",
            "o|x|6\n",
            "-----\n",
            "7|8|x\n",
            "Sieger: 1\n",
            "1|x|o\n",
            "-----\n",
            "4|o|x\n",
            "-----\n",
            "o|x|9\n",
            "Sieger: -1\n",
            "1|o|o\n",
            "-----\n",
            "4|x|x\n",
            "-----\n",
            "7|8|9\n",
            "Sieger: 0\n"
          ]
        }
      ]
    },
    {
      "cell_type": "markdown",
      "source": [
        "### Aufgabe 4: Die Funktion `ende`\n",
        "Schreibe eine Funktion `ende`, die überprüft, ob das Spiel beendet wurde und wer der Sieger ist. Hier kannst du die drei Funktionen `zeilen`, `spalten` und `diagonale` nutzen."
      ],
      "metadata": {
        "id": "VHgiXrkHbukU"
      }
    },
    {
      "cell_type": "code",
      "source": [
        "def ende(feld):\n",
        "    return 0"
      ],
      "metadata": {
        "id": "XsqY9m9zbur1"
      },
      "execution_count": null,
      "outputs": []
    },
    {
      "cell_type": "markdown",
      "source": [
        "### Aufgabe 5: Die Funktion `ki_schritt()`\n",
        "Schreibe eine Funktion `ki_schritt`, die einen zufälligen Zug durchführt. Hierfür bietet es sich an, zunächst alle Indizes der freien Felder aufzulisten und anschließend mit Hilfe von `randint` ein zufälliges Feld auszuwählen (`randint` aus dem Package `random` ist bereits importiert). Die Rückgabe der Funktion ist `ki_schritt` ist eine ganze Zahl zwischen `0` und `8`."
      ],
      "metadata": {
        "id": "RrC77Prjcq66"
      }
    },
    {
      "cell_type": "code",
      "source": [
        "def ki_schritt(feld):\n",
        "    return"
      ],
      "metadata": {
        "id": "-APyynEgdPmO"
      },
      "execution_count": null,
      "outputs": []
    },
    {
      "cell_type": "markdown",
      "source": [
        "### Das Spiel spielen 🥳\n",
        "Unsere KI kann jetzt zufällige Züge durchführen, das Spiel ist also spielbar! Versuche nun, ein Mal zu gewinnen, ein Mal zu verlieren und ein Mal unentschieden zu spielen."
      ],
      "metadata": {
        "id": "b-RWL5vDeWL-"
      }
    },
    {
      "cell_type": "code",
      "source": [
        "spiel(ki_schritt)"
      ],
      "metadata": {
        "id": "a7mlPf1Ocj4U",
        "colab": {
          "base_uri": "https://localhost:8080/"
        },
        "outputId": "698c721a-b590-48fc-cc0d-8f25ae118a28"
      },
      "execution_count": null,
      "outputs": [
        {
          "output_type": "stream",
          "name": "stdout",
          "text": [
            "o|x|o\n",
            "-----\n",
            "o|x|x\n",
            "-----\n",
            "x|o|x\n",
            "Unentschieden!\n"
          ]
        }
      ]
    },
    {
      "cell_type": "markdown",
      "source": [
        "## Minimax-Algorithmus ♟️🏆🌳\n",
        "\n",
        "Die aktuelle \"KI\" ist noch nicht so richtig schlau, da sie immer nur zufällige Züge macht. Im Folgenden möchten wir daher den Minimax-Algorithmus implementieren, der es dem Computer ermöglicht, *optimale* Züge im TicTacToe-Spiel zu berechnen. Der Algorithmus basiert auf der Idee, alle möglichen Spielzüge vorauszuberechnen und die bestmögliche Entscheidung zu treffen.\n",
        "\n",
        "### Was wird gemacht? 🤔\n",
        "1. **Generierung des Spielbaums**  \n",
        "   Wir erstellen einen Baum, in dem jeder Knoten ein mögliches Spielfeld darstellt. Von einem Knoten aus werden alle möglichen Züge berechnet, bis das Spiel endet.\n",
        "\n",
        "2. **Bewertung der Endzustände**  \n",
        "   Am Ende jedes Pfades im Baum wird bewertet, ob der Computer gewinnt, der Gegner gewinnt oder es ein Unentschieden gibt.\n",
        "\n",
        "3. **Zurückverfolgen des besten Pfades**  \n",
        "   Der Algorithmus arbeitet von den Blättern des Baums zurück zum Ausgangspunkt und wählt den Zug, der für den Computer den höchsten Gewinn (oder den geringsten Verlust) bringt.\n",
        "\n",
        "Mit diesen Schritten können wir den Computer dazu bringen, intelligente Entscheidungen zu treffen und uns in TicTacToe herauszufordern. Lass uns den Minimax-Algorithmus Schritt für Schritt umsetzen!\n"
      ],
      "metadata": {
        "id": "ti5izW5o07KY"
      }
    },
    {
      "cell_type": "markdown",
      "source": [
        "### Aufgabe 1: Der Spielbaum 🌳\n",
        "Der Spielbaum bildet die Grundlage für den Minimax-Algorithmus. In seinen Blättern (englisch \"leafs\") befinden sich alle Endzustände des Spiels.\n",
        "\n",
        "Schreibe eine Funktion `spielbaum`, die für ein gegebenes Feld alle möglichen Züge \"durchspielt\". Das Ergebnis ist eine Liste von Listen (von Listen von Listen von......), in deren innersten Listen der Score des beendeten Spieles steht."
      ],
      "metadata": {
        "id": "aLV4ns643Fse"
      }
    },
    {
      "cell_type": "code",
      "source": [
        "def spielbaum(feld):\n",
        "    return\n",
        "\n",
        "feld1 = [-1, 1,1,\n",
        "          1, 1,0,\n",
        "         -1,-1,0]\n",
        "game = spielbaum(feld1)\n",
        "print(game)\n",
        "male_feld(feld1)"
      ],
      "metadata": {
        "id": "43TebKRc6NfV"
      },
      "execution_count": null,
      "outputs": []
    },
    {
      "cell_type": "markdown",
      "source": [
        "### Aufgabe 2: Der beste nächste Schritt (Minimax) 🎯\n",
        "Jetzt, da wir den Spielbaum erstellt haben, möchten wir den besten nächsten Zug ermitteln. Der Minimax-Algorithmus basiert auf der Annahme, dass ein Spieler den **Score maximieren** möchte, während der andere versucht, den **Score zu minimieren** – daher der Name **\"Minimax\"**.\n",
        "\n",
        "Erstelle eine Funktion `minimax`, die für einen gegebenen Spielbaum (z. B. `node`, Englisch für \"Knoten\") den optimalen nächsten Zug berechnet. Diese Funktion soll die Spielstrategie optimal umsetzen und die beste Entscheidung im aktuellen Zustand finden.\n"
      ],
      "metadata": {
        "id": "80mgJE4B6nCI"
      }
    },
    {
      "cell_type": "code",
      "source": [
        "def minimax(node, zug=[]):\n",
        "    return\n",
        "print(minimax(game))"
      ],
      "metadata": {
        "colab": {
          "base_uri": "https://localhost:8080/"
        },
        "id": "7DaEcji6ndgy",
        "outputId": "18c2ffbf-00d9-452b-b3b2-cf1456cf9a5b"
      },
      "execution_count": null,
      "outputs": [
        {
          "output_type": "stream",
          "name": "stdout",
          "text": [
            "(-1, [1])\n"
          ]
        }
      ]
    },
    {
      "cell_type": "markdown",
      "source": [
        "### Aufgabe 3: Eine KI, die mit Minimax \"denkt\" 🤖\n",
        "Erstelle eine Funktion `ki_minimax`, die das aktuelle Spielfeld als Eingabe erhält und den besten nächsten Zug berechnet. Die Funktion soll den Minimax-Algorithmus nutzen, um den optimalen Zug zu bestimmen.\n",
        "\n",
        "**Bonus:** Falls mehrere mögliche Züge die gleiche Punktzahl haben, wähle zufällig einen davon aus!\n",
        "\n",
        "Probiere nun, einmal zu verlieren, einmal zu gewinnen und einmal unentschieden zu spielen."
      ],
      "metadata": {
        "id": "rTzx9AmP7ddz"
      }
    },
    {
      "cell_type": "code",
      "source": [
        "def ki_minimax(feld):\n",
        "    return\n",
        "\n",
        "spiel(ki_minimax)"
      ],
      "metadata": {
        "id": "9FUrEvT5PNNJ",
        "colab": {
          "base_uri": "https://localhost:8080/"
        },
        "outputId": "73125238-3a77-4ee3-a111-0019a1147297"
      },
      "execution_count": null,
      "outputs": [
        {
          "output_type": "stream",
          "name": "stdout",
          "text": [
            "x|o|x\n",
            "-----\n",
            "x|o|o\n",
            "-----\n",
            "o|x|x\n",
            "Unentschieden!\n"
          ]
        }
      ]
    }
  ]
}