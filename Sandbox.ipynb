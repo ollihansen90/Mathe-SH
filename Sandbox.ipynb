{
  "nbformat": 4,
  "nbformat_minor": 0,
  "metadata": {
    "colab": {
      "provenance": [],
      "authorship_tag": "ABX9TyPshbKkZixRAP2INl9+kTl2",
      "include_colab_link": true
    },
    "kernelspec": {
      "name": "python3",
      "display_name": "Python 3"
    },
    "language_info": {
      "name": "python"
    }
  },
  "cells": [
    {
      "cell_type": "markdown",
      "metadata": {
        "id": "view-in-github",
        "colab_type": "text"
      },
      "source": [
        "<a href=\"https://colab.research.google.com/github/ollihansen90/Mathe-SH/blob/main/Sandbox.ipynb\" target=\"_parent\"><img src=\"https://colab.research.google.com/assets/colab-badge.svg\" alt=\"Open In Colab\"/></a>"
      ]
    },
    {
      "cell_type": "code",
      "source": [
        "import numpy as np\n",
        "import matplotlib.pyplot as plt\n",
        "import random\n",
        "from tqdm.auto import trange\n",
        "import imageio.v2 as imageio\n",
        "from IPython.display import HTML\n",
        "import base64\n",
        "\n",
        "np.random.seed(0)\n",
        "\n",
        "def male(welt):\n",
        "    fig = plt.figure()\n",
        "    plt.imshow(welt)\n",
        "    plt.show()\n",
        "\n",
        "def colorize(img):\n",
        "    h, w = img.shape\n",
        "    base = np.ones(w)[None]*np.linspace(0,1,num=h)[:,None]*255\n",
        "    out = np.zeros([h,w,3])\n",
        "    out[...,-1] = base\n",
        "    vordergrund = np.ones([h,w,3])*np.array([246,206,136])\n",
        "    out[img==1] = vordergrund[img==1]\n",
        "    return out.astype(np.uint8)"
      ],
      "metadata": {
        "id": "OgxyaBaw71pv"
      },
      "execution_count": null,
      "outputs": []
    },
    {
      "cell_type": "code",
      "source": [
        "welt = np.zeros([10,10])\n",
        "male(colorize(welt))\n",
        "\n",
        "def update():\n",
        "    return\n",
        "\n",
        "vid = [welt.copy()]\n",
        "for _ in trange(10):\n",
        "    update()\n",
        "    vid.append(welt.copy())\n",
        "\n",
        "print(len(vid))"
      ],
      "metadata": {
        "id": "kA4Cc7Id_i9m"
      },
      "execution_count": null,
      "outputs": []
    },
    {
      "cell_type": "code",
      "source": [
        "v = [colorize(img) for img in vid]\n",
        "\n",
        "imageio.mimsave(\"welt.gif\", v, fps=20)\n",
        "\n",
        "with open(\"welt.gif\", \"rb\") as f:\n",
        "    gif_data = f.read()\n",
        "    b64 = base64.b64encode(gif_data).decode(\"utf-8\")\n",
        "\n",
        "# Erstelle HTML mit festgelegter Größe\n",
        "HTML(f'''\n",
        "    <img src=\"data:image/gif;base64,{b64}\" width=\"500\" height=\"500\"/>\n",
        "''')\n"
      ],
      "metadata": {
        "id": "qNsvekFn8WUG"
      },
      "execution_count": null,
      "outputs": []
    }
  ]
}