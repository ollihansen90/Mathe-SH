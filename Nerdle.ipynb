{
  "nbformat": 4,
  "nbformat_minor": 0,
  "metadata": {
    "colab": {
      "provenance": [],
      "authorship_tag": "ABX9TyPOCzF14BoPmg0U/JNwcK+2",
      "include_colab_link": true
    },
    "kernelspec": {
      "name": "python3",
      "display_name": "Python 3"
    },
    "language_info": {
      "name": "python"
    }
  },
  "cells": [
    {
      "cell_type": "markdown",
      "metadata": {
        "id": "view-in-github",
        "colab_type": "text"
      },
      "source": [
        "<a href=\"https://colab.research.google.com/github/ollihansen90/Mathe-SH/blob/main/Nerdle.ipynb\" target=\"_parent\"><img src=\"https://colab.research.google.com/assets/colab-badge.svg\" alt=\"Open In Colab\"/></a>"
      ]
    },
    {
      "cell_type": "code",
      "execution_count": 11,
      "metadata": {
        "colab": {
          "base_uri": "https://localhost:8080/"
        },
        "id": "m4ydUSvwgd9A",
        "outputId": "aa545c84-605e-4525-ffc6-57eeb582c9ae"
      },
      "outputs": [
        {
          "output_type": "stream",
          "name": "stdout",
          "text": [
            "True\n",
            "False\n"
          ]
        }
      ],
      "source": [
        "gleichung_geht = \"12+45=57\"\n",
        "gleichung_gehtnicht = \"12+45=56\"\n",
        "\n",
        "# x 1. Nur Zahlen, +, -, *, /, =\n",
        "# x 2. nur 1 mal =\n",
        "# x 3.1 Links und rechts vom Operator muss eine Zahl stehen\n",
        "# x 3.2 Rechts vom Operator darf keine 0 stehen\n",
        "# 4. Gleichung muss stimmen\n",
        "# x 5. genaue Zeichenlänge (z.B. n=8)\n",
        "# x 6. Zahlen dürfen nicht mit 0 starten\n",
        "# x 7. Auf der rechten Seite stehen keine Operationen\n",
        "# x 8.1 Erstes Zeichen: MUSS eine Zahl größer 0 sein\n",
        "# x 8.2 Letztes Zeichen: MUSS eine Zahl sein\n",
        "\n",
        "def checke_gleichung(gleichung):\n",
        "    if len(gleichung)!=8:\n",
        "        return False\n",
        "\n",
        "    for zeichen in gleichung:\n",
        "        if zeichen not in list(\"0123456789+-*/=\"):\n",
        "            return False\n",
        "\n",
        "    for operator in \"+-*/=\":\n",
        "        for abschnitt in gleichung.split(operator):\n",
        "            if len(abschnitt)==0 or abschnitt[0] in list(\"0+-*/=\"):\n",
        "                return False\n",
        "\n",
        "    if len(gleichung.split(\"=\"))!=2:\n",
        "        return False\n",
        "\n",
        "    links, rechts = gleichung.split(\"=\")\n",
        "\n",
        "    for zeichen in rechts:\n",
        "        if zeichen not in list(\"0123456789\"):\n",
        "            return False\n",
        "\n",
        "    if eval(links)!=eval(rechts):\n",
        "        return False\n",
        "\n",
        "    return True\n",
        "\n",
        "print(checke_gleichung(gleichung_geht))\n",
        "print(checke_gleichung(gleichung_gehtnicht))\n",
        "\n",
        "#gleichung = input(\"Gib eine Gleichung mit 8 Zeichen ein. \")"
      ]
    }
  ]
}