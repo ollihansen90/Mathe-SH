{
  "nbformat": 4,
  "nbformat_minor": 0,
  "metadata": {
    "colab": {
      "provenance": [],
      "include_colab_link": true
    },
    "kernelspec": {
      "name": "python3",
      "display_name": "Python 3"
    },
    "language_info": {
      "name": "python"
    }
  },
  "cells": [
    {
      "cell_type": "markdown",
      "metadata": {
        "id": "view-in-github",
        "colab_type": "text"
      },
      "source": [
        "<a href=\"https://colab.research.google.com/github/ollihansen90/Mathe-SH/blob/main/Sortieralgorithmen.ipynb\" target=\"_parent\"><img src=\"https://colab.research.google.com/assets/colab-badge.svg\" alt=\"Open In Colab\"/></a>"
      ]
    },
    {
      "cell_type": "markdown",
      "source": [
        "# Mathe^SH: Sortieralgorithmen"
      ],
      "metadata": {
        "id": "1CtiZ9eT2N8T"
      }
    },
    {
      "cell_type": "markdown",
      "source": [
        "## Selectionsort"
      ],
      "metadata": {
        "id": "_ZiJSnnetdVg"
      }
    },
    {
      "cell_type": "code",
      "source": [
        "def selectionsort(liste):\n",
        "    print(\"Initialzustand: \", liste)\n",
        "    hoechsterIndex = len(liste) - 1\n",
        "    einfuegeIndex = 0\n",
        "    while einfuegeIndex < hoechsterIndex:\n",
        "        minPosition = einfuegeIndex\n",
        "        # Suche aktuell kleinstes Element\n",
        "        for idx in range(einfuegeIndex + 1, hoechsterIndex + 1):\n",
        "            if liste[idx] < liste[minPosition]:\n",
        "                minPosition = idx\n",
        "            # Vertausche aktuelles Element mit dem verbleibenden kleinsten Element\n",
        "        liste[minPosition], liste[einfuegeIndex] = liste[einfuegeIndex], liste[minPosition]\n",
        "        einfuegeIndex = einfuegeIndex + 1\n",
        "        print(\"Wechseln der Positionen\", einfuegeIndex, \"und\", minPosition+1)\n",
        "        print(\"\\nZwischenstand:\", liste)\n",
        "    return liste\n",
        "\n",
        "\n",
        "# Testaufruf\n",
        "selectionsort([7,4,5,2,0,1])"
      ],
      "metadata": {
        "colab": {
          "base_uri": "https://localhost:8080/"
        },
        "id": "ocrMcElPKLqF",
        "outputId": "f77b8fed-bc6f-4973-8d99-669a6677d242"
      },
      "execution_count": null,
      "outputs": [
        {
          "output_type": "stream",
          "name": "stdout",
          "text": [
            "Initialzustand:  [7, 4, 5, 2, 0, 1]\n",
            "Wechseln der Positionen 1 und 5\n",
            "\n",
            "Zwischenstand: [0, 4, 5, 2, 7, 1]\n",
            "Wechseln der Positionen 2 und 6\n",
            "\n",
            "Zwischenstand: [0, 1, 5, 2, 7, 4]\n",
            "Wechseln der Positionen 3 und 4\n",
            "\n",
            "Zwischenstand: [0, 1, 2, 5, 7, 4]\n",
            "Wechseln der Positionen 4 und 6\n",
            "\n",
            "Zwischenstand: [0, 1, 2, 4, 7, 5]\n",
            "Wechseln der Positionen 5 und 6\n",
            "\n",
            "Zwischenstand: [0, 1, 2, 4, 5, 7]\n"
          ]
        },
        {
          "output_type": "execute_result",
          "data": {
            "text/plain": [
              "[0, 1, 2, 4, 5, 7]"
            ]
          },
          "metadata": {},
          "execution_count": 17
        }
      ]
    },
    {
      "cell_type": "markdown",
      "source": [
        "## Insertionsort"
      ],
      "metadata": {
        "id": "X1ao6M0ctdlY"
      }
    },
    {
      "cell_type": "code",
      "source": [
        "def insertionsort(liste):\n",
        "    print(\"Initialzustand:\", liste)\n",
        "    for i in range(1, len(liste)):\n",
        "        elem = liste[i] # Zahl, die einsortiert werden soll\n",
        "\n",
        "        # Einfügen von elem in den sortierten Teil liste[0:i]\n",
        "        j = i\n",
        "        while j > 0 and liste[j-1] > elem:\n",
        "            liste[j] = liste[j-1]\n",
        "            j -= 1\n",
        "        liste[j] = elem\n",
        "        print(\"\\nEinsortieren der Zahl\", elem, \"von Position\", i)\n",
        "        print(\"Zwischenstand:\", liste)\n",
        "    \n",
        "    return liste\n",
        "\n",
        "# Testaufruf\n",
        "insertionsort([3,4,2,1,5,0])"
      ],
      "metadata": {
        "id": "869kD0AQtfVI",
        "colab": {
          "base_uri": "https://localhost:8080/"
        },
        "outputId": "faf7986e-8883-4d58-febc-4c43dbe771fb"
      },
      "execution_count": null,
      "outputs": [
        {
          "output_type": "stream",
          "name": "stdout",
          "text": [
            "Initialzustand: [3, 4, 2, 1, 5, 0]\n",
            "\n",
            "Einsortieren der Zahl 4 von Position 1\n",
            "Zwischenstand: [3, 4, 2, 1, 5, 0]\n",
            "\n",
            "Einsortieren der Zahl 2 von Position 2\n",
            "Zwischenstand: [2, 3, 4, 1, 5, 0]\n",
            "\n",
            "Einsortieren der Zahl 1 von Position 3\n",
            "Zwischenstand: [1, 2, 3, 4, 5, 0]\n",
            "\n",
            "Einsortieren der Zahl 5 von Position 4\n",
            "Zwischenstand: [1, 2, 3, 4, 5, 0]\n",
            "\n",
            "Einsortieren der Zahl 0 von Position 5\n",
            "Zwischenstand: [0, 1, 2, 3, 4, 5]\n"
          ]
        },
        {
          "output_type": "execute_result",
          "data": {
            "text/plain": [
              "[0, 1, 2, 3, 4, 5]"
            ]
          },
          "metadata": {},
          "execution_count": 1
        }
      ]
    },
    {
      "cell_type": "markdown",
      "source": [
        "## Mergesort"
      ],
      "metadata": {
        "id": "ypJCBuA9th-6"
      }
    },
    {
      "cell_type": "code",
      "source": [
        "def merge(l1, l2):\n",
        "    out = []\n",
        "    while len(l1)*len(l2)>0:\n",
        "        if l1[0]<=l2[0]:\n",
        "            out.append(l1[0])\n",
        "            l1 = l1[1:]\n",
        "        else:\n",
        "            out.append(l2[0])\n",
        "            l2 = l2[1:]\n",
        "    if len(l1)>0:\n",
        "        out.extend(l1)\n",
        "    else:\n",
        "        out.extend(l2)\n",
        "    return out\n",
        "\n",
        "def mergesort(liste):\n",
        "    if len(liste)<=1:\n",
        "        return liste\n",
        "    cut = int(len(liste)/2)\n",
        "    linkeliste = mergesort(liste[:cut])\n",
        "    rechteliste = mergesort(liste[cut:])\n",
        "    return merge(linkeliste, rechteliste)\n",
        "\n",
        "arrlist = [3,4,2,1,5,0]\n",
        "print(mergesort(arrlist))"
      ],
      "metadata": {
        "id": "iIslBJt7thoQ",
        "colab": {
          "base_uri": "https://localhost:8080/"
        },
        "outputId": "ab1f8ee2-9323-4b54-b40b-ba5ac949a99c"
      },
      "execution_count": 2,
      "outputs": [
        {
          "output_type": "stream",
          "name": "stdout",
          "text": [
            "[0, 1, 2, 3, 4, 5]\n"
          ]
        }
      ]
    },
    {
      "cell_type": "markdown",
      "source": [
        "## Bogosort"
      ],
      "metadata": {
        "id": "PqtxcAtbtjuo"
      }
    },
    {
      "cell_type": "code",
      "source": [
        "import random\n",
        "\n",
        "def bogosort(zahlliste,bis_ergebnis):\n",
        "    def bereits_sortiert(zahlen):       #Sortierfunktion\n",
        "        if len(zahlen) < 2:\n",
        "            return True\n",
        "        for i in range(len(zahlen) - 1):\n",
        "            if zahlen[i] > zahlen[i + 1]:\n",
        "                return False\n",
        "        return True\n",
        "\n",
        "    if bis_ergebnis:\n",
        "        counter = 1\n",
        "        while not(bereits_sortiert(zahlliste)):   #Bogosort bis sortiert\n",
        "            random.shuffle(zahlliste)\n",
        "            print(\"Runde \" + str(counter) + \": \" + str(zahlliste))\n",
        "            counter += 1\n",
        "        print(\"Die Zahlen sind jetzt richtig sortiert!\")\n",
        "    else:                                       #Bogosort 1x durchführen\n",
        "        random.shuffle(zahlliste)\n",
        "        print(\"Bogosort(1x): \" + str(zahlliste))\n",
        "        if bereits_sortiert(zahlliste):\n",
        "            print(\"Die Zahlen sind jetzt richtig sortiert!\")\n",
        "\n",
        "zahlen = [1,5,8,2]\n",
        "\n",
        "print(\"Zahlenliste: \" + str(zahlen))\n",
        "bogosort(zahlen,0) # Bogosort 1x durchführen\n",
        "bogosort(zahlen,1) # Bogosort bis sortiert"
      ],
      "metadata": {
        "id": "COHPSQRhtk5W",
        "colab": {
          "base_uri": "https://localhost:8080/"
        },
        "outputId": "3d7d2c10-3dd0-4392-8f1d-a71258a50aaa"
      },
      "execution_count": null,
      "outputs": [
        {
          "output_type": "stream",
          "name": "stdout",
          "text": [
            "Zahlenliste: [1, 5, 8, 2]\n",
            "Bogosort(1x): [5, 2, 8, 1]\n",
            "Runde 1: [2, 8, 1, 5]\n",
            "Runde 2: [8, 5, 2, 1]\n",
            "Runde 3: [2, 5, 8, 1]\n",
            "Runde 4: [2, 5, 1, 8]\n",
            "Runde 5: [1, 2, 5, 8]\n",
            "Die Zahlen sind jetzt richtig sortiert!\n"
          ]
        }
      ]
    }
  ]
}