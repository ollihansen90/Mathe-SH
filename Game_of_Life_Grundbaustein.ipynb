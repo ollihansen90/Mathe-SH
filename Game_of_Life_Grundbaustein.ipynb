{
  "nbformat": 4,
  "nbformat_minor": 0,
  "metadata": {
    "colab": {
      "name": "Game_of_Life_Grundbaustein.ipynb",
      "provenance": [],
      "collapsed_sections": [],
      "authorship_tag": "ABX9TyO6mcndY1dNPeYfcui4XzDs",
      "include_colab_link": true
    },
    "kernelspec": {
      "name": "python3",
      "display_name": "Python 3"
    },
    "language_info": {
      "name": "python"
    }
  },
  "cells": [
    {
      "cell_type": "markdown",
      "metadata": {
        "id": "view-in-github",
        "colab_type": "text"
      },
      "source": [
        "<a href=\"https://colab.research.google.com/github/ollihansen90/Mathe-SH/blob/main/Game_of_Life_Grundbaustein.ipynb\" target=\"_parent\"><img src=\"https://colab.research.google.com/assets/colab-badge.svg\" alt=\"Open In Colab\"/></a>"
      ]
    },
    {
      "cell_type": "code",
      "execution_count": 11,
      "metadata": {
        "id": "flD_Oume8uQu"
      },
      "outputs": [],
      "source": [
        "import numpy as np\n",
        "import matplotlib.pyplot as plt\n",
        "from IPython.display import clear_output\n",
        "from time import sleep"
      ]
    },
    {
      "cell_type": "code",
      "source": [
        "groesse = 20\n",
        "anzahl = 10\n",
        "bild = np.zeros([anzahl, groesse, groesse])\n",
        "bild_neu = bild.copy()\n",
        "bild[0, 10, 3:7] = 1\n",
        "print(bild)\n",
        "\n",
        "for i in range(10):\n",
        "    clear_output()\n",
        "    bild[i, i, 1] = 1\n",
        "    plt.figure()\n",
        "    plt.imshow(bild[i])\n",
        "    plt.show()\n",
        "    sleep(1)\n"
      ],
      "metadata": {
        "colab": {
          "base_uri": "https://localhost:8080/",
          "height": 265
        },
        "id": "ZUYF2JZ881Dq",
        "outputId": "b07f754d-2d09-48bc-dae5-94404d4fa79a"
      },
      "execution_count": 16,
      "outputs": [
        {
          "output_type": "display_data",
          "data": {
            "image/png": "[encoded data removed]",
            "text/plain": [
              "<Figure size 432x288 with 1 Axes>"
            ]
          },
          "metadata": {
            "needs_background": "light"
          }
        }
      ]
    }
  ]
}