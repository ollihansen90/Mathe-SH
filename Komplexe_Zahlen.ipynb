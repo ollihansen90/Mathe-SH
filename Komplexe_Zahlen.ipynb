{
  "nbformat": 4,
  "nbformat_minor": 0,
  "metadata": {
    "colab": {
      "provenance": [],
      "collapsed_sections": [],
      "authorship_tag": "ABX9TyMfWX5cqyoADmtjw+PaZYqF",
      "include_colab_link": true
    },
    "kernelspec": {
      "name": "python3",
      "display_name": "Python 3"
    },
    "language_info": {
      "name": "python"
    }
  },
  "cells": [
    {
      "cell_type": "markdown",
      "metadata": {
        "id": "view-in-github",
        "colab_type": "text"
      },
      "source": [
        "<a href=\"https://colab.research.google.com/github/ollihansen90/Mathe-SH/blob/main/Komplexe_Zahlen.ipynb\" target=\"_parent\"><img src=\"https://colab.research.google.com/assets/colab-badge.svg\" alt=\"Open In Colab\"/></a>"
      ]
    },
    {
      "cell_type": "markdown",
      "source": [
        "# Komplexe Zahlen\n",
        "\n",
        "Implementiere eine Klasse `Komplex`, deren Instanzen die komplexen Zahlen repräsentieren. Die Klasse `Komplex` soll die Attribute `real` und `imag` für jeweils den Realteil und Imaginärteil der komplexen Zahl erhalten.\n",
        "\n",
        "## Aufgabe 1:\n",
        "Implementiere die Methoden `addition`, `subtraktion`, `mutliplikation` und `division`, die jeweils eine zweite Zahl als Übergabe erhalten und entsprechend die Rechenoperationen durchführen.\n",
        "\n",
        "Beispiel: `a = Komplex(3, 2)` repräsentiert die Zahl `a = 3+2i`. Wollen wir jetzt `b=2-i` aufaddieren, funktioniert das durch `c = a.addition(b)`. `c` ist hinterher auch wieder eine komplexe Zahl. Das Ergebnis ist `5+i`.\n",
        "\n",
        "Die Rechenregeln für komplexe Zahlen können hier nachgesehen werden:\n",
        "https://de.wikipedia.org/wiki/Komplexe_Zahl#Rechnen_in_der_algebraischen_Form\n",
        "\n",
        "## Aufgabe 2:\n",
        "Erweitere die Klasse `Komplex` um eine Methode, die die Zahl in einen String umwandelt!\n",
        "\n",
        "Hinweise: Entweder über eine Methode `.tostring()` oder mit Hilfe von `__str__()`.\n",
        "\n",
        "## Aufgabe 3 (Schwer):\n",
        "Erweitere die Klasse so, dass die komplexe Zahl in Exponentialform umgewandelt wird! Hierbei gilt: `a+bi = r⋅e^(iϕ)`.\n",
        "\n",
        "In dieser Form können wir sehr einfach Wurzeln ziehen und Potenzen berechnen!\n"
      ],
      "metadata": {
        "id": "nOj-ZM6W7tOl"
      }
    },
    {
      "cell_type": "code",
      "execution_count": null,
      "metadata": {
        "id": "q4IpCc6E673c"
      },
      "outputs": [],
      "source": [
        "class Komplex():\n",
        "    pass\n",
        "\n",
        "a = Komplex(3, 2)\n",
        "b = Komplex(2, -1)\n",
        "\n",
        "c = a.addition(b)\n",
        "print(c.real, c.imag)"
      ]
    }
  ]
}