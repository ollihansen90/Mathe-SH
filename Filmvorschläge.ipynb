{
  "nbformat": 4,
  "nbformat_minor": 0,
  "metadata": {
    "colab": {
      "provenance": [],
      "authorship_tag": "ABX9TyOej5PUEMk2UVJYsVa8x2fb",
      "include_colab_link": true
    },
    "kernelspec": {
      "name": "python3",
      "display_name": "Python 3"
    },
    "language_info": {
      "name": "python"
    }
  },
  "cells": [
    {
      "cell_type": "markdown",
      "metadata": {
        "id": "view-in-github",
        "colab_type": "text"
      },
      "source": [
        "<a href=\"https://colab.research.google.com/github/ollihansen90/Mathe-SH/blob/main/Filmvorschl%C3%A4ge.ipynb\" target=\"_parent\"><img src=\"https://colab.research.google.com/assets/colab-badge.svg\" alt=\"Open In Colab\"/></a>"
      ]
    },
    {
      "cell_type": "code",
      "execution_count": 4,
      "metadata": {
        "colab": {
          "base_uri": "https://localhost:8080/"
        },
        "id": "aTclsa3gamWc",
        "outputId": "4ede7956-a18c-4604-e5a1-f162af0b4216"
      },
      "outputs": [
        {
          "output_type": "stream",
          "name": "stdout",
          "text": [
            "--2024-07-17 16:03:12--  https://datasets.imdbws.com/title.ratings.tsv.gz\n",
            "Resolving datasets.imdbws.com (datasets.imdbws.com)... 99.84.160.101, 99.84.160.94, 99.84.160.48, ...\n",
            "Connecting to datasets.imdbws.com (datasets.imdbws.com)|99.84.160.101|:443... connected.\n",
            "HTTP request sent, awaiting response... 200 OK\n",
            "Length: 7330334 (7.0M) [binary/octet-stream]\n",
            "Saving to: ‘title.ratings.tsv.gz’\n",
            "\n",
            "\rtitle.ratings.tsv.g   0%[                    ]       0  --.-KB/s               \rtitle.ratings.tsv.g 100%[===================>]   6.99M  --.-KB/s    in 0.1s    \n",
            "\n",
            "2024-07-17 16:03:13 (73.0 MB/s) - ‘title.ratings.tsv.gz’ saved [7330334/7330334]\n",
            "\n",
            "--2024-07-17 16:03:13--  https://datasets.imdbws.com/title.basics.tsv.gz\n",
            "Resolving datasets.imdbws.com (datasets.imdbws.com)... 99.84.160.101, 99.84.160.94, 99.84.160.48, ...\n",
            "Connecting to datasets.imdbws.com (datasets.imdbws.com)|99.84.160.101|:443... connected.\n",
            "HTTP request sent, awaiting response... 200 OK\n",
            "Length: 191806950 (183M) [binary/octet-stream]\n",
            "Saving to: ‘title.basics.tsv.gz’\n",
            "\n",
            "title.basics.tsv.gz 100%[===================>] 182.92M  70.1MB/s    in 2.6s    \n",
            "\n",
            "2024-07-17 16:03:16 (70.1 MB/s) - ‘title.basics.tsv.gz’ saved [191806950/191806950]\n",
            "\n"
          ]
        }
      ],
      "source": [
        "!wget https://datasets.imdbws.com/title.ratings.tsv.gz -O title.ratings.tsv.gz\n",
        "!gunzip title.ratings.tsv.gz\n",
        "!wget https://datasets.imdbws.com/title.basics.tsv.gz -O title.basics.tsv.gz\n",
        "!gunzip title.basics.tsv.gz"
      ]
    },
    {
      "cell_type": "code",
      "source": [
        "import pandas as pd"
      ],
      "metadata": {
        "id": "t7l5_Hcdcvx8"
      },
      "execution_count": 18,
      "outputs": []
    },
    {
      "cell_type": "code",
      "source": [
        "data_movies = pd.read_csv(\"title.basics.tsv\", sep=\"\\t\", header=0, low_memory=False)\n",
        "data_ratings = pd.read_csv(\"title.ratings.tsv\", sep=\"\\t\", header=0)\n",
        "\n",
        "print(data_movies.head())\n",
        "print(\"Ratings\", data_ratings.head())"
      ],
      "metadata": {
        "colab": {
          "base_uri": "https://localhost:8080/"
        },
        "id": "9N7QbVPsb09L",
        "outputId": "e4d3a2cb-24e9-4dff-d3f6-354cf9d13a04"
      },
      "execution_count": 23,
      "outputs": [
        {
          "output_type": "stream",
          "name": "stdout",
          "text": [
            "      tconst titleType            primaryTitle           originalTitle  \\\n",
            "0  tt0000001     short              Carmencita              Carmencita   \n",
            "1  tt0000002     short  Le clown et ses chiens  Le clown et ses chiens   \n",
            "2  tt0000003     short          Pauvre Pierrot          Pauvre Pierrot   \n",
            "3  tt0000004     short             Un bon bock             Un bon bock   \n",
            "4  tt0000005     short        Blacksmith Scene        Blacksmith Scene   \n",
            "\n",
            "  isAdult startYear endYear runtimeMinutes                    genres  \n",
            "0       0      1894      \\N              1         Documentary,Short  \n",
            "1       0      1892      \\N              5           Animation,Short  \n",
            "2       0      1892      \\N              5  Animation,Comedy,Romance  \n",
            "3       0      1892      \\N             12           Animation,Short  \n",
            "4       0      1893      \\N              1              Comedy,Short  \n"
          ]
        }
      ]
    },
    {
      "cell_type": "code",
      "source": [
        "print(data_movies.keys())\n",
        "print(data_ratings.keys())\n",
        "print(\"Ratings\", data_ratings.head())"
      ],
      "metadata": {
        "colab": {
          "base_uri": "https://localhost:8080/"
        },
        "id": "GSy4GPGFdn83",
        "outputId": "c55044c5-7a14-41d2-ac72-65ad25eacf10"
      },
      "execution_count": 31,
      "outputs": [
        {
          "output_type": "stream",
          "name": "stdout",
          "text": [
            "Index(['tconst', 'titleType', 'primaryTitle', 'originalTitle', 'isAdult',\n",
            "       'startYear', 'endYear', 'runtimeMinutes', 'genres'],\n",
            "      dtype='object')\n",
            "Index(['tconst', 'averageRating', 'numVotes'], dtype='object')\n",
            "Ratings       tconst  averageRating  numVotes\n",
            "0  tt0000001            5.7      2062\n",
            "1  tt0000002            5.6       279\n",
            "2  tt0000003            6.5      2031\n",
            "3  tt0000004            5.4       180\n",
            "4  tt0000005            6.2      2796\n"
          ]
        }
      ]
    }
  ]
}