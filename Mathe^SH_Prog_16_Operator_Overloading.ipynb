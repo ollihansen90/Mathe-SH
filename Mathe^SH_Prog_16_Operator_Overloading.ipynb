{
  "nbformat": 4,
  "nbformat_minor": 0,
  "metadata": {
    "colab": {
      "provenance": [],
      "include_colab_link": true
    },
    "kernelspec": {
      "name": "python3",
      "display_name": "Python 3"
    },
    "language_info": {
      "name": "python"
    }
  },
  "cells": [
    {
      "cell_type": "markdown",
      "metadata": {
        "id": "view-in-github",
        "colab_type": "text"
      },
      "source": [
        "<a href=\"https://colab.research.google.com/github/ollihansen90/Mathe-SH/blob/main/Mathe%5ESH_Prog_16_Operator_Overloading.ipynb\" target=\"_parent\"><img src=\"https://colab.research.google.com/assets/colab-badge.svg\" alt=\"Open In Colab\"/></a>"
      ]
    },
    {
      "cell_type": "markdown",
      "source": [
        "# Mathe^SH Python-Kurs, Woche 16, Operator Overloading\n",
        "\n",
        "## Fragen?\n",
        "Solltet ihr Fragen zum Code oder Probleme mit Colab haben, schickt uns gerne eine Mail:\n",
        "\n",
        "*   h.hansen@uni-luebeck.de\n",
        "*   maren.wieder@student.uni-luebeck.de\n",
        "*   friederike.meissner@student.uni-luebeck.de\n",
        "*   dustin.haschke@student.uni-luebeck.de\n",
        "\n",
        "## Overloading \n",
        "Overloading (oder \"Überladen\") ist die Möglichkeit, mehrere unterschiedliche Funktionen mit gleichem Namen zu haben. Haben wir beispielsweise eine Funktion ```wurzel()```, kann sie je nach Eingabeparameter unterschiedliche Dinge tun: ```wurzel(zahl)```, wobei ```zahl``` eine Zahl vom Datentyp Double ist, berechnet die Quadratwurzel der übergebenen Zahl, während ```wurzel(baum)``` möglicherweise die erste Ausgabe eines Entscheidungsbaums berechnet (\"Wurzel\" bezeichnet den ersten Knoten in (binären) Bäumen, in einem späteren Projekt vielleicht mehr dazu). \n",
        "\n",
        "**Achtung:** Python unterstützt **kein** Overloading! Zumindest nicht mit Tricksen, wir könnten nach Aufrufen der Funktion eine Abfrage des Typs des Übergabeparameters machen und entsprechend eine Ausgabe generieren.\n",
        "\n",
        "## Operator Overloading\n",
        "Operator Overloading (machmal auch \"Operator ad hoc Polymorphism\") bezeichnet hingegen das Verhalten von Operatoren wie ```+```, ```-```, ```*``` oder ```/```, wenn sie auf unterschiedliche Klasseninstanzen angewendet wird. Python nutzt das andauernd: Wenn wir zwei Integer-Zahlen addieren, kommt die Summe der beiden Zahlen raus, zwei addierte Strings geben einen zusammengesetzten String, zwei addierte Listen werden zu einer konkatenierten Liste (siehe Codeblock unten).\n",
        "\n"
      ],
      "metadata": {
        "id": "xqn4jUtiMJYp"
      }
    },
    {
      "cell_type": "code",
      "source": [
        "print(1+1)\n",
        "print(type(1+1))\n",
        "print(\"1\"+\"1\")\n",
        "print(type(\"1\"+\"1\"))\n",
        "print([1]+[1])\n",
        "print(type([1]+[1]))"
      ],
      "metadata": {
        "id": "b60446CV8BQ9"
      },
      "execution_count": null,
      "outputs": []
    },
    {
      "cell_type": "markdown",
      "source": [
        "## Magic Methods\n",
        "Wie können wir unsere eigenen Klassen mit Operator Overloading erweitern? Hier kommen die privaten Methoden wieder ins Spiel. Zur Erinnerung: Private Methoden erkennen wir immer an den zwei Unterstrichen.\n",
        "\n",
        "Im Folgenden Beispiel erstellen wir eine Klasse und implementieren die Addition! Die Klasse Hund enthält das Attribut ```alter``` und die (private) Methode ```__add__```. Addieren wir jetzt zwei Hunde, so ist das Ergebnis die Summe der jeweiligen Alter. Achtung! Das Ergebnis ist *keine* Instanz der Klasse Hund (dafür müssten wir sowas machen wie ```return Hund(self.alter+other.alter)```). "
      ],
      "metadata": {
        "id": "T1weRBxu8SJz"
      }
    },
    {
      "cell_type": "code",
      "source": [
        "class Hund():\n",
        "    def __init__(self, alter):\n",
        "        self.alter = alter\n",
        "    \n",
        "    def __add__(self, other):\n",
        "        return self.alter+other.alter\n",
        "\n",
        "hund1 = Hund(10)\n",
        "hund2 = Hund(5)\n",
        "print(hund1+hund2)"
      ],
      "metadata": {
        "id": "pBfC9D4P8RnL"
      },
      "execution_count": null,
      "outputs": []
    },
    {
      "cell_type": "markdown",
      "source": [
        "## Beispiel: \"Alte\" Klassen erweitern\n",
        "Im unten stehenden Beispiel sieht man, wie man eine bereits implementierte Klasse (hier ```list```) so umwandelt, dass der Operator etwas ganz anderes macht als ursprünglich implementiert."
      ],
      "metadata": {
        "id": "D1icjl95-S59"
      }
    },
    {
      "cell_type": "code",
      "source": [
        "class NeueListe(list):\n",
        "    def __init__(self, liste):\n",
        "        super().__init__(liste)\n",
        "    \n",
        "    def __add__(self, other):\n",
        "        if len(self)!=len(other):\n",
        "            print(\"Listen müssen gleich lang sein\")\n",
        "        else:\n",
        "            output = []\n",
        "            for i in range(len(self)):\n",
        "                output.append(self[i] + other[i])\n",
        "            return output\n",
        "\n",
        "liste1 = [1,2,3,4]\n",
        "liste2 = [5,6,7,8]\n",
        "nliste1 = NeueListe(liste1)\n",
        "nliste2 = NeueListe(liste2)\n",
        "\n",
        "print(liste1+liste2)\n",
        "print(nliste1+nliste2)"
      ],
      "metadata": {
        "id": "MQozfXOh-Y_3"
      },
      "execution_count": null,
      "outputs": []
    },
    {
      "cell_type": "markdown",
      "source": [
        "## Weitere Magic Methods\n",
        "Die Anzahl der Magic Methods ist sehr groß, daher wollen wir hier nur ein paar wenige ansprechen. Für eine Übersicht der Methoden einer Klasse kann man sie immer mit ```dir()``` aufrufen."
      ],
      "metadata": {
        "id": "BlOr8jOa_uL5"
      }
    },
    {
      "cell_type": "code",
      "source": [
        "print(dir(int))"
      ],
      "metadata": {
        "id": "sTcSC4znAP_a"
      },
      "execution_count": null,
      "outputs": []
    },
    {
      "cell_type": "markdown",
      "source": [
        "### Kleine Übersicht von Magic Methods\n",
        "Eine vollständigere Übersicht findet sich unter folgendem Link:\n",
        "\n",
        "https://docs.python.org/3/reference/datamodel.html\n",
        "\n",
        "Operator Magic Method:\n",
        "*   ```+```: ```__add__(self, other)```, Addition zweier Instanzen\n",
        "*   ```-```: ```__sub__(self, other)```, Subtraktion zweier Instanzen\n",
        "*   ```*```: ```__mul__(self, other)```, Multiplikation zweier Instanzen\n",
        "*   ```/```: ```__truediv__(self, other)```, Division zweier Instanzen\n",
        "*   ```//```: ```__floordiv__(self, other)```, Integerdivision zweier Instanzen (also mit Abrunden)\n",
        "*   ```%```: ```__mod__(self, other)```, Modulo zweier Instanzen\n",
        "*   ```**```: ```__pow__(self, other)```, Exponent zweier Instanzen\n",
        "\n",
        "Vergleichsoperatoren:\n",
        "*   ```<```: ```__lt__(self, other)```, \"less than\", kleiner\n",
        "*   ```>```: ```__gt__(self, other)```, \"greater than\", größer\n",
        "*   ```<=```: ```__le__(self, other)```, \"less or equal\", kleinergleich \n",
        "*   ```>=```: ```__ge__(self, other)```, \"greater or equal\", größergleich\n",
        "*   ```==```: ```__eq__(self, other)```, \"equal\", gleich\n",
        "*   ```!=```: ```__ne__(self, other)```, \"not equal\", ungleich\n",
        "\n",
        "Assignment Operators: (Ddas \"i\" steht immer für \"inplace\")\n",
        "*   ```+=```: ```__iadd__(self, other)```, Addition, inplace\n",
        "*   ```*=```: ```__imul__(self, other)```, Multiplikation, inplace\n",
        "\n",
        "Unary Operators: (hier wird nur ```self``` übergeben)\n",
        "*   ```+```: ```__pos__(self)```, positives Vorzeichen (\"mal 1\")\n",
        "*   ```-```: ```__neg__(self)```, negatives Vorzeichen (\"mal -1\")"
      ],
      "metadata": {
        "id": "FqT9K7XNAhSL"
      }
    },
    {
      "cell_type": "markdown",
      "source": [
        "## Übungsaufgaben\n",
        "### 1. Erweiterung der Komplexen Klasse ```Komplex```\n",
        "Im untenstehenden Code wurde die Klasse ```Komplex``` erstellt, die die Rechenregeln der komplexen Zahlen implementiert. Erweitere die Klasse so, dass die Objekte \"normal\" addiert, subtrahiert, multipliziert und dividiert werden können."
      ],
      "metadata": {
        "id": "YVv6C4TKDJsT"
      }
    },
    {
      "cell_type": "code",
      "source": [
        "class Komplex():\n",
        "    def __init__(self, real, imag):\n",
        "        self.real = real\n",
        "        self.imag = imag\n",
        "\n",
        "    def add(self, zahl):\n",
        "        return Komplex(self.real+zahl.real, self.imag+zahl.imag)\n",
        "\n",
        "    def sub(self, zahl):\n",
        "        return Komplex(self.real-zahl.real, self.imag-zahl.imag)\n",
        "\n",
        "    def mul(self, zahl):\n",
        "        r = self.real*zahl.real-self.imag*zahl.imag\n",
        "        i = self.real*zahl.imag+self.imag*zahl.real\n",
        "        return Komplex(r, i)\n",
        "\n",
        "    def div(self, zahl):\n",
        "        r = (self.real*zahl.real+self.imag*zahl.imag)/(zahl.real**2+zahl.imag**2)\n",
        "        i = (self.imag*zahl.real-self.real*zahl.imag)/(zahl.real**2+zahl.imag**2)\n",
        "        return Komplex(r, i)\n",
        "\n",
        "    def norm(self):\n",
        "        return self.real*self.real+self.imag*self.imag\n",
        "\n",
        "    def copy(self):\n",
        "        return Komplex(self.real, self.imag)\n",
        "\n"
      ],
      "metadata": {
        "id": "P1T86LPpD2x9"
      },
      "execution_count": null,
      "outputs": []
    },
    {
      "cell_type": "markdown",
      "source": [
        "### 2. Sortieren eigener Instanzen\n",
        "Erweitere die Klasse ```Hund``` so, dass eine Liste von ihren Instanzen nach dem Alter sortiert werden kann."
      ],
      "metadata": {
        "id": "Ppc0WjMpEALR"
      }
    },
    {
      "cell_type": "code",
      "source": [
        "import random\n",
        "\n",
        "class Hund():\n",
        "    def __init__(self, alter):\n",
        "        self.alter = alter\n",
        "    \n",
        "    def __add__(self, other):\n",
        "        return self.alter+other.alter\n",
        "\n",
        "randliste = random.sample(list(range(10)), 10)\n",
        "hundeliste = [Hund(i) for i in randliste]\n",
        "\n",
        "hundeliste_s = sorted(hundeliste)\n",
        "for h in hundeliste_s:\n",
        "    print(h.alter)"
      ],
      "metadata": {
        "id": "VHYaYcqKEIyp"
      },
      "execution_count": null,
      "outputs": []
    },
    {
      "cell_type": "markdown",
      "source": [
        "### 3. Weitere Operatoren\n",
        "Erstelle eine Klasse ```Objekt```, die \"Neeeiiiin\" ausgibt, wenn eine Instanz überschrieben oder gelöscht wird. Wenn wir die Länge der Instanz erfragt wird, soll sie sagen \"Ich habe keine Länge\". Beim Aufrufen eines Eintrages wie in einer Liste (also ```liste[4]``` für den fünften Eintrag) soll sie antworten, dass sie keine Einträge hat."
      ],
      "metadata": {
        "id": "apqVQNWKFwHq"
      }
    },
    {
      "cell_type": "code",
      "source": [
        "class Objekt:\n",
        "    def __init__(self):\n",
        "        # Hier muss nichts geändert werden\n",
        "        return\n",
        "    # Hier kommen deine Methoden hin #\n",
        "\n",
        "\n",
        "    ##################################\n",
        "\n",
        "obj = Objekt()\n",
        "print(len(obj))\n",
        "obj[4]\n",
        "del obj"
      ],
      "metadata": {
        "id": "RZLRlfZWFeDW"
      },
      "execution_count": null,
      "outputs": []
    }
  ]
}