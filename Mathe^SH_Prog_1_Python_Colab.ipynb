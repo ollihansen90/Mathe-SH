{
  "nbformat": 4,
  "nbformat_minor": 0,
  "metadata": {
    "colab": {
      "name": "Mathe^SH_Prog_1.ipynb",
      "provenance": [],
      "collapsed_sections": [],
      "include_colab_link": true
    },
    "kernelspec": {
      "display_name": "Python 3",
      "name": "python3"
    },
    "language_info": {
      "name": "python"
    }
  },
  "cells": [
    {
      "cell_type": "markdown",
      "metadata": {
        "id": "view-in-github",
        "colab_type": "text"
      },
      "source": [
        "<a href=\"https://colab.research.google.com/github/ollihansen90/Mathe-SH/blob/main/Mathe%5ESH_Prog_1_Python_Colab.ipynb\" target=\"_parent\"><img src=\"https://colab.research.google.com/assets/colab-badge.svg\" alt=\"Open In Colab\"/></a>"
      ]
    },
    {
      "cell_type": "markdown",
      "metadata": {
        "id": "tdgHhU0Sks09"
      },
      "source": [
        "# Fragen?\n",
        "Solltet ihr Fragen zum Code oder Probleme mit Colab haben, schickt uns gerne eine Mail:\n",
        "\n",
        "*   hohansen@inb.uni-luebeck.de\n",
        "*   maren.wieder@student.uni-luebeck.de\n",
        "*   kira.nissen@student.uni-luebeck.de\n",
        "*   friederike.meissner@student.uni-luebeck.de\n",
        "*   dustin.haschke@student.uni-luebeck.de"
      ]
    },
    {
      "cell_type": "markdown",
      "metadata": {
        "id": "8fm-zNlBKLIo"
      },
      "source": [
        "# Python <img src=\"https://upload.wikimedia.org/wikipedia/commons/thumb/f/f8/Python_logo_and_wordmark.svg/1200px-Python_logo_and_wordmark.svg.png\"  height=\"23em\"/>\n",
        "\n",
        "Als Zusatz zu den Mathematik-Veranstaltungen möchten wir gerne einen kleinen Programmierkurs anbieten, in dem ihr die Grundlagen von Python kennenlernen könnt. In der modernen (angewandten) Mathematik werden Computer als Hilfe genutzt - ohne Programmierkenntnisse kann man also schlecht Mathematik machen!\n",
        "\n",
        "### Warum Python?\n",
        "Python ist eine der beliebtesten Programmiersprachen neben Java, C, C++, Visual Basic oder SQL. Gleichzeitig ist Python eine sehr einfache Programmiersprache, die mit ihrer recht leichten Schreibweise (Syntax genannt) schnell zu erlernen ist.\n",
        "\n",
        "<img src=\"http://cdn.statcdn.com/Infographic/images/normal/22669.jpeg\" width=\"50%\"/>\n",
        "\n",
        "Sie kümmert sich im Hintergrund um den \"Informatik-Kram\", ob sie z. B. gerade mit Zahlen oder Wörtern hantiert (Typisierung), wo Daten abgelegt werden (Speicherverwaltung) oder darum, was der Computer gerade nicht mehr zum Rechnen benötigt (die sogenannte Garbage Collection). Daher ist sie gerade für Programmieranfänger geeignet!\n",
        "\n",
        "### Beispiel: Quicksort\n",
        "Im Folgenden soll ein kleines Programmierbeispiel gezeigt werden. Es handelt sich dabei um einen Algorithmus, der eine Liste von Zahlen in aufsteigender Reihenfolge sortiert.\n",
        "\n",
        "Es ist nicht schlimm, wenn ihr den Code noch nicht versteht. Erst gegen Ende des kleinen Programmierkurses sollten die Pythonkenntnisse ausreichen, um den Algorithmus selbst zu bauen.\n",
        "\n"
      ]
    },
    {
      "cell_type": "code",
      "metadata": {
        "colab": {
          "base_uri": "https://localhost:8080/"
        },
        "id": "v0VvO2c2KGgp",
        "outputId": "5e88cf37-5bd7-4470-b85b-d749eb1d1fab"
      },
      "source": [
        "def quicksort(arr):\n",
        "    if len(arr) <= 1:\n",
        "        return arr\n",
        "    pivot = arr[len(arr) // 2]\n",
        "    left = [x for x in arr if x < pivot]\n",
        "    middle = [x for x in arr if x == pivot]\n",
        "    right = [x for x in arr if x > pivot]\n",
        "    return quicksort(left) + middle + quicksort(right)\n",
        "\n",
        "print(quicksort([3,6,8,10,1,2,1]))"
      ],
      "execution_count": null,
      "outputs": [
        {
          "output_type": "stream",
          "name": "stdout",
          "text": [
            "[1, 1, 2, 3, 6, 8, 10]\n"
          ]
        }
      ]
    },
    {
      "cell_type": "markdown",
      "metadata": {
        "id": "HVoYeEDzcEi5"
      },
      "source": [
        "# Google Colaboratory <img src=\"https://miro.medium.com/max/724/1*9Q1rcr_peQdnGMwOYDBFhw.png\"  height=\"25em\"/>\n",
        "\n",
        "Google Colaboratory (oder kurz: Colab) bietet die Möglichkeit, Python-Notebooks auf den Servern von Google laufen zu lassen. Das bedeutet, dass sämtlicher Code nicht lokal bei euch auf dem Computer oder Handy läuft, sondern nur auf den Cloud-Computing-Diensten von Google ausgewertet wird.\n",
        "\n",
        "Der Vorteil von Colab ist, dass ihr bei euch zuhause nichts extra installieren müsst! Ebenso seid ihr geräteunabhängig, das heißt, dass ihr könnt einfach so zwischen Computern wechseln, ihr könnt am Handy arbeiten (was von uns aber nicht unbedingt empfohlen wird), oder ihr könnt sogar woanders als von zuhause aus auf die Notebooks zugreifen (zum Beispiel bei Freunden oder in der Schule).\n",
        "\n",
        "Nachteil von Colab ist, dass wir immer eine Internetverbindung benötigen. Sollte die mal ausfallen, können wir nicht mehr programmieren! Später im Kurs können wir gerne mal eine Einführung machen, wie man Python und die Jupyter-Notebooks auch lokal und ohne Internet auf euren Computern ausführen kann.\n",
        "\n",
        "## Einrichtung\n",
        "Eine Einrichtung ist bei Colab nicht unbedingt nötig. Ihr braucht nur einen Google-Account! Vielleicht benutzt ihr schon GMail oder YouTube, dann habt ihr einen. Das ist nötig, damit die Notebooks in eurer Cloud (Google Drive) gespeichert werden können.\n",
        "\n",
        "Trotzdem gibt es ein paar Funktionen, die wir euch gerne zeigen möchten!\n",
        "\n",
        "### Kopien der Notebooks speichern\n",
        "Im Laufe des Kurses werdet ihr Colabs von uns erhalten. Um sie ordentlich bearbeiten zu können, solltet ihr sie in eurer eigenen Cloud speichern. Hierfür macht ihr Folgendes:\n",
        "\n",
        "1.   Geht oben in der Leiste auf Datei.\n",
        "2.   Klickt auf \"Kopie in Drive speichern\".\n",
        "\n",
        "Jetzt sollte sich ein neuer Tab öffnen, in dem ihr das Notebook in eurer eigenen Cloud bearbeiten könnt.\n",
        "\n",
        "### Notebook herunterladen\n",
        "Manchmal ist es sinnvoll, sich eine Kopie lokal auf dem Computer zu speichern. \n",
        "\n",
        "1.   Geht oben in der Leiste auf Datei.\n",
        "2.   Klickt auf \"Herunterladen\".\n",
        "3.   Wählt \".ipynb\" aus.\n",
        "\n",
        "### Notebooks teilen\n",
        "Solltet ihr Fragen zu einer Aufgabe oder einen Algorithmus haben, der bei euch nicht funktioniert, könnt ihr uns jederzeit eine Mail schreiben. Für uns ist es dann am einfachsten, wenn ihr euer Notebook mit uns teilt.\n",
        "\n",
        "1.   Geht oben rechts auf \"Teilen\".\n",
        "2.   Klickt auf \"Link kopieren\".\n",
        "3.   Fügt den Link mit STRG+V in die Mail ein.\n",
        "\n",
        "Alternativ könnt ihr auch gerne das Notebook herunterladen und uns das als Anhang schicken.\n",
        "\n",
        "### Zeilennummerierung \n",
        "Beim Programmieren passieren Fehler. Das lässt sich nicht vermeiden. Fehlermeldungen sehen im ersten Moment immer sehr kryptisch aus, wichtig ist jedoch, dass ausgegeben wird, in welcher Zeile sich der Fehler befindet! \n",
        "\n",
        "In der Standardeinstellung werden die Zeilen bei Colab nicht nummeriert, man kann also viel Zeit mit Suchen von Code verbringen. Um eine Nummerierung einzufügen, macht ihr Folgendes:\n",
        "\n",
        "1.   Geht oben auf \"Tools\".\n",
        "2.   Klickt auf \"Einstellungen\".\n",
        "3.   Wählt den Abschnitt \"Editor\" aus.\n",
        "4.   Setzt ein Häkchen bei \"Zeilennummern anzeigen\".\n",
        "\n",
        "In diesem Abschnitt könnt ihr auch noch weitere Einstellungen vornehmen, wie Schriftgröße, Schriftart und so weiter."
      ]
    },
    {
      "cell_type": "markdown",
      "metadata": {
        "id": "859Hxt4jjSFx"
      },
      "source": [
        "# Grundlagen\n",
        "## Kommentare\n",
        "Manchmal möchte man, dass einige Befehle nicht vom Python-Compiler umgesetzt werden. Das kann der Fall sein, wenn man beispielsweise etwas Code \"herausnehmen\" möchte, ohne ihn zu löschen, weil man ihn später eventuell noch verwenden möchte. Oder aber man möchte beschreiben, was der Code oder eine Zeile des Codes macht. Das nennt man \"Dokumentation\".\n",
        "\n",
        "### Einzelne Zeilen\n",
        "Für einzelne Zeilen wird ```#``` benötigt. Alles, was rechts nach dem ```#``` steht, wird nicht verarbeitet. Dies kann auch in der selben Zeile wie Code passieren.\n",
        "\n",
        "### Mehrere Zeilen\n",
        "Manchmal hat man mehrere Zeilen, die man auskommentieren möchte, ohne dass man jeweils ein ```#``` setzen möchte. In dem Fall nutzt man einen Trick: Man wandelt die Zeilen einfach in einen String um! Für mehrzeilige Strings benutzt man drei Anführungszeichen statt nur einem, also ```\"\"\"``` statt ```\"```, beziehungsweise ```'''``` statt ```'''```."
      ]
    },
    {
      "cell_type": "code",
      "metadata": {
        "colab": {
          "base_uri": "https://localhost:8080/",
          "height": 128
        },
        "id": "UYZtLpfKr_5T",
        "outputId": "77c021ed-914b-42f1-9b94-c81362bfc412"
      },
      "source": [
        "print(\"Diese Zeile wird verarbeitet.\")\n",
        "#print(\"Diese Zeile wird nicht verarbeitet.\")\n",
        "\n",
        "print(\"Diese\")\n",
        "print(\"Zeilen\")\n",
        "print(\"werden\")\n",
        "print(\"verarbeitet.\")\n",
        "\n",
        "'''print(\"Diese\")\n",
        "print(\"Zeilen\")\n",
        "print(\"werden\")\n",
        "print(\"nicht\")\n",
        "print(\"verarbeitet.\")'''\n"
      ],
      "execution_count": null,
      "outputs": [
        {
          "output_type": "stream",
          "name": "stdout",
          "text": [
            "Diese Zeile wird verarbeitet.\n",
            "Diese\n",
            "Zeilen\n",
            "werden\n",
            "verarbeitet.\n"
          ]
        },
        {
          "output_type": "execute_result",
          "data": {
            "application/vnd.google.colaboratory.intrinsic+json": {
              "type": "string"
            },
            "text/plain": [
              "'print(\"Diese\")\\nprint(\"Zeilen\")\\nprint(\"werden\")\\nprint(\"nicht\")\\nprint(\"verarbeitet.\")'"
            ]
          },
          "metadata": {},
          "execution_count": 3
        }
      ]
    },
    {
      "cell_type": "markdown",
      "metadata": {
        "id": "0dM02DAgsbk0"
      },
      "source": [
        "Wie ihr seht, werden die Zeilen (manchmal) doch ausgegeben! Wichtig für uns ist jedoch, dass der Teil des Codes nicht verarbeitet wird (das heißt, es werden keine Variablen überschrieben)."
      ]
    },
    {
      "cell_type": "markdown",
      "metadata": {
        "id": "MKaTqYv2Nrjz"
      },
      "source": [
        "## Die Print-Funktion\n",
        "Die Print-Funktion hilft uns bei der Ausgabe von allen möglichen Objekten, wie Zeichenketten (Strings), Zahlen oder abstrakteren Gebilden (deren Ausgaben können wir meistens nicht so richtig \"verwerten\"). Wir können auch den Inhalt von Variablen ausgeben lassen, welche ihr heute später noch kennenlernen werdet.\n",
        "\n",
        "Wo benutzen wir das? Immer, wenn wir etwas ausgeben wollen! Später wird es auch andere Optionen geben, aber die Print-Funktion dient zunächst als einfachste Möglichkeit. \n",
        "\n",
        "Es kann sein, dass wir ein Zwischenergebnis ausgeben möchten oder dass wir gucken wollen, ob ein bestimmter Bereich im Code erreicht wird, oder wie oft eine Schleife (kommt später) durchlaufen wird. Dies kann sehr hilfreich sein, um Fehler im Code zu finden.\n",
        "\n",
        "Hierfür können wir Testnachrichten einbauen oder auch unsere eigenen Fehlermitteilungen schreiben, wenn zum Beispiel jemand eine Eingabe macht, die wir nicht haben wollen.\n",
        "\n",
        "Funktionen funktionieren allgemein so, dass wir zuerst ihren Namen schreiben, in diesem Fall ```print```, gefolgt von runden Klammern, in denen wir unsere Parameter schreiben. Parameter heißen in diesem Falle unsere Eingaben. ```print``` akzeptiert einen oder mehrere Parameter, welche wir innerhalb der Klammern durch Kommata trennen. "
      ]
    },
    {
      "cell_type": "code",
      "metadata": {
        "id": "QKPUBLKoNXoC",
        "colab": {
          "base_uri": "https://localhost:8080/"
        },
        "outputId": "bc8a509a-562e-4f66-f193-f73c38f1c7fe"
      },
      "source": [
        "# Wir können Zahlen ausgeben\n",
        "print(4)\n",
        "# Oder Texte, indem wir Anführungsstriche verwenden\n",
        "print(\"Hallo :-)\")\n",
        "# Hier probieren wir die Funktion, die wir oben definiert haben, auszugeben\n",
        "print(quicksort)\n",
        "\n",
        "# Wenn ihr mehrere Ausgaben in einer Zeile machen möchtet, könnt ihr diese \n",
        "# mit Kommata verknüpfen\n",
        "print(4, \"Hallo :-)\", quicksort)\n",
        "\n",
        "# So könnt ihr auch eure Ausgaben hübsch gestalten\n",
        "# Wenn x beispielsweise jetzt euer Ergebnis aus einer vorhergegangenen Rechnung\n",
        "# wäre, könntet ihr wie folgt vorgehen:\n",
        "x = 5\n",
        "print(\"Damit ist unser Ergebnis:\", x)"
      ],
      "execution_count": null,
      "outputs": [
        {
          "output_type": "stream",
          "name": "stdout",
          "text": [
            "4\n",
            "Hallo :-)\n",
            "<function quicksort at 0x7fcd0daa68c0>\n",
            "4 Hallo :-) <function quicksort at 0x7fcd0daa68c0>\n",
            "Damit ist unser Ergebnis: 5\n"
          ]
        }
      ]
    },
    {
      "cell_type": "code",
      "metadata": {
        "colab": {
          "base_uri": "https://localhost:8080/"
        },
        "id": "AdV98Iw5bEHn",
        "outputId": "d8af4fe4-876c-4bfa-b4c3-bd8e8d0ae061"
      },
      "source": [
        "# Falls man will, kann man sogar Text Art ausgeben\n",
        "print(\"┏┓┏┳━━┳┓┏┓┏━━┓\")\n",
        "print(\"┃┗┛┃━━┫┃┃┃┃╭╮┃\")\n",
        "print(\"┃┏┓┃━━┫┃┫┗┫╰╯┃\")\n",
        "print(\"┗┛┗┻━━┻━┻━┻━━┛\")\n",
        "\n",
        "# Ihr könnt euch das Text-Art auch zwischenspeichern, damit ihr nicht so viele\n",
        "# Print-Funktionen benötigt\n",
        "kaffee = \"\"\"─▄▀─▄▀\n",
        "──▀──▀\n",
        "█▀▀▀▀▀█▄\n",
        "█░░░░░█─█\n",
        "▀▄▄▄▄▄▀▀\n",
        "\"\"\"\n",
        "\n",
        "print(kaffee)"
      ],
      "execution_count": null,
      "outputs": [
        {
          "output_type": "stream",
          "name": "stdout",
          "text": [
            "┏┓┏┳━━┳┓┏┓┏━━┓\n",
            "┃┗┛┃━━┫┃┃┃┃╭╮┃\n",
            "┃┏┓┃━━┫┃┫┗┫╰╯┃\n",
            "┗┛┗┻━━┻━┻━┻━━┛\n",
            "─▄▀─▄▀\n",
            "──▀──▀\n",
            "█▀▀▀▀▀█▄\n",
            "█░░░░░█─█\n",
            "▀▄▄▄▄▄▀▀\n",
            "\n"
          ]
        }
      ]
    },
    {
      "cell_type": "markdown",
      "metadata": {
        "id": "jTJbGUaWOgmW"
      },
      "source": [
        "###Übung - Print\n",
        "\n",
        "Sucht bei Google ein beliebiges Text-Art und probiert dieses mittels ```print``` auszugeben."
      ]
    },
    {
      "cell_type": "code",
      "metadata": {
        "id": "ziRzrQaoOvMi"
      },
      "source": [
        "\n"
      ],
      "execution_count": null,
      "outputs": []
    },
    {
      "cell_type": "markdown",
      "metadata": {
        "id": "ywALuiyxQ4oM"
      },
      "source": [
        "## Rechenoperationen <img src=\"https://upload.wikimedia.org/wikipedia/commons/thumb/d/d0/Arithmetic_symbols_de.svg/1200px-Arithmetic_symbols_de.svg.png\" height=\"20em\"/>\n",
        "Python kann aber natürlich nicht nur diverse Zahlen ausgeben, sondern auch mit ihnen rechnen! Wie bei eurem Taschenrechner gibt es verschiedene Symbole für die Basisoperationen:\n",
        "\n",
        "Bei Addition, Subtraktion und Multiplikation verwendet man ganz intuitiv ```+```, ```-``` und ```*```, für die klassische Division hingegen ```/```. Falls ihr eine Zahl potenzieren (also \"hoch\" rechnen) möchtet, kommt ```**``` zum Einsatz.\n",
        "\n",
        "Der Modulo-Operator ```%``` berechnet den Rest beim Teilen. So ergibt ```5 % 3 = 2```, da ```5 / 3 = 1 Rest 2``` ist.\n",
        "Der Floor-Operator ```//``` hingegen rundet auf die nächstkleinere ganze Zahl. Z. B. ist ```6 // 4 = 1```, da ```6 / 4 = 1.5``` zwischen den ganzen Zahlen ```1``` und ```2``` liegt. Bei einem negativen Ergebnis wird entsprechend ```-6 // 4 = -2``` berechnet.\n",
        "\n"
      ]
    },
    {
      "cell_type": "code",
      "metadata": {
        "colab": {
          "base_uri": "https://localhost:8080/"
        },
        "id": "kQ26LELoRSsx",
        "outputId": "5f70edf9-9790-4f9a-97eb-8e3a6599efb8"
      },
      "source": [
        "print(1+2)\n",
        "print(4-3)\n",
        "print(5*6)\n",
        "print(9/8)\n",
        "print(9**5)\n",
        "print(9*9*9*9*9)\n",
        "print(12//11)\n",
        "print(27%14)"
      ],
      "execution_count": null,
      "outputs": [
        {
          "output_type": "stream",
          "name": "stdout",
          "text": [
            "3\n",
            "1\n",
            "30\n",
            "1.125\n",
            "59049\n",
            "59049\n",
            "1\n",
            "13\n"
          ]
        }
      ]
    },
    {
      "cell_type": "markdown",
      "metadata": {
        "id": "e88NGx0267jv"
      },
      "source": [
        "## Übung 1 - Zahlen ändern\n",
        "\n",
        "Ersetze im Folgenden Beispiel jeweils die ```5``` durch *eine andere Zahl* innerhalb des ```Print```-Befehls, sodass die Ausgabe eine zutreffende Aussage ist.\n",
        "\n",
        "**Beispiel.:**\n",
        "\n",
        "```print(5+1,\"ist Drei\")``` erzeugt die ***falsche*** Ausgabe: ```6 ist Drei```\n",
        "\n",
        "\n",
        "```print(2+1,\"ist Drei\")``` erzeugt die ***richtige*** Ausgabe: ```3 ist Drei```\n"
      ]
    },
    {
      "cell_type": "code",
      "metadata": {
        "colab": {
          "base_uri": "https://localhost:8080/"
        },
        "id": "Tzse7bE7Cro5",
        "outputId": "78e7439b-491e-41dc-c336-f2ab63d7a0aa"
      },
      "source": [
        "print(5+3,\"ist Sechs\")\n",
        "print(5-2,\"ist Sieben\")\n",
        "print(5*5,\"ist Zehn\")"
      ],
      "execution_count": null,
      "outputs": [
        {
          "output_type": "stream",
          "name": "stdout",
          "text": [
            "8 ist Sechs\n",
            "3 ist Sieben\n",
            "25 ist Zehn\n"
          ]
        }
      ]
    },
    {
      "cell_type": "code",
      "metadata": {
        "cellView": "code",
        "colab": {
          "base_uri": "https://localhost:8080/"
        },
        "id": "UrnrJake8Tzf",
        "outputId": "216f8739-def1-4b41-b663-8661335ddba4"
      },
      "source": [
        "                                    # zur Erinnerung:\n",
        "print(24/5,\"ist Drei\")              # Das / Zeichen steht für Division bzw. einen Bruchstrich. 24/8=4,8 bzw. 4.8\n",
        "print(3**5,\"ist Siebenundzwanzig\")  # 3**5 ist 3 hoch 5, also 3*3*3*3*3=243              \n",
        "print(5//10,\"ist Drei\")             # 5//10 ist die Ganzzahl von 5 geteilt durch 10. Da 5/10 = 0 Rest5, ist 5//10 = 0\n",
        "print(19%5,\"ist Zwei\")              # 19%5 ist der Rest von 19 geteilt durch 5. Da 19/5 = 3 Rest4, ist 19%5 = 4 "
      ],
      "execution_count": null,
      "outputs": [
        {
          "output_type": "stream",
          "name": "stdout",
          "text": [
            "4.8 ist Drei\n",
            "243 ist Siebenundzwanzig\n",
            "0 ist Drei\n",
            "4 ist Zwei\n"
          ]
        }
      ]
    },
    {
      "cell_type": "markdown",
      "metadata": {
        "id": "91il0Iv7_wok"
      },
      "source": [
        "## Übung 2 - Operatoren ändern\n",
        "\n",
        "Ersetze anstelle von Zahlen nun die *Operatoren* ```+``` ```-``` ```*``` ```/``` ```//``` und ```%``` durch andere *Operatoren*, sodass die Aussagen der *Ausgabe* stimmen.\n",
        "\n",
        "**Beispiel:**\n",
        "\n",
        "print(36**+**3,\"ist Zwölf\") ***erzeugt leider die falsche Ausgabe***: ```39 ist Zwölf```\n",
        "\n",
        "\n",
        "print(36**/**3,\"ist Zwölf\") ***erzeugt hingegen die richtige Ausgabe***: ```12 ist Zwölf```\n",
        "\n"
      ]
    },
    {
      "cell_type": "code",
      "metadata": {
        "colab": {
          "base_uri": "https://localhost:8080/"
        },
        "id": "8WDzY2aY2QEU",
        "outputId": "a84cefd0-d891-47f2-f8af-e77c151a9409"
      },
      "source": [
        "print(9-2,\"ist Elf\")\n",
        "print(4*6,\"ist Minus Zwei\")\n",
        "print(3-2,\"ist Neun\")\n",
        "print(9+3,\"ist Drei\")\n",
        "print(11-4,\"ist Drei\")"
      ],
      "execution_count": null,
      "outputs": [
        {
          "output_type": "stream",
          "name": "stdout",
          "text": [
            "7 ist Elf\n",
            "24 ist Minus Zwei\n",
            "1 ist Neun\n",
            "12 ist Drei\n",
            "7 ist Drei\n"
          ]
        }
      ]
    },
    {
      "cell_type": "markdown",
      "metadata": {
        "id": "tOI_k7Hz2fbu"
      },
      "source": [
        "Ersetze nochmals die *Operatoren* ```+``` ```-``` ```*``` ```/``` ```//``` und ```%``` durch andere *Operatoren*.\n",
        "\n",
        "```x``` nimmt hier den Wert 5, ```y``` den Wert 2 an.\n"
      ]
    },
    {
      "cell_type": "code",
      "metadata": {
        "colab": {
          "base_uri": "https://localhost:8080/"
        },
        "id": "m2jn7r5uAhM4",
        "outputId": "2b793a58-9c85-499f-a31d-ba34640f38a0"
      },
      "source": [
        "x=5\n",
        "y=2\n",
        "print(1.5+2*7,\"ist Einundzwanzig\")    # 1.5 ist übrigens \"Eins Komma Fünf\"\n",
        "print(7*y,\"ist Fünf\")\n",
        "print(x+2,\"ist Zehn\")\n",
        "print(x/y*3,\"ist Einundzwanzig\")\n",
        "print(x//y,\"ist Fünfundzwanzig\")\n",
        "print(13-x,\"ist Zwei\")"
      ],
      "execution_count": null,
      "outputs": [
        {
          "output_type": "stream",
          "name": "stdout",
          "text": [
            "15.5 ist Einundzwanzig\n",
            "14 ist Fünf\n",
            "7 ist Zehn\n",
            "7.5 ist Einundzwanzig\n",
            "2 ist Fünfundzwanzig\n",
            "8 ist Zwei\n"
          ]
        }
      ]
    },
    {
      "cell_type": "markdown",
      "metadata": {
        "id": "Mv2rRereJAjR"
      },
      "source": [
        "## Bonus Übung 1 - Round() und andere Funktionen\n",
        "\n",
        "Versuche folgenden *Code* nachzuvollziehen.\n",
        "\n",
        "```x``` ist 5 und ```y``` ist 4. Die ```ersteZahl```, ```zweiteZahl``` und ```dritteZahl``` werden ausgegeben. Alle drei Zahlen berechnen sich durch die Teilung von ```x``` durch ```y```.\n",
        "\n",
        "Was macht die Funktion *round()* mit dem Ergebnis von 5/4?\n",
        "Trage deine Antwort in die letzte Zeile mit dem ```Print```-Befehl  ein."
      ]
    },
    {
      "cell_type": "code",
      "metadata": {
        "colab": {
          "base_uri": "https://localhost:8080/"
        },
        "id": "x4annuoVI68V",
        "outputId": "24c08273-26c5-4cc6-8cca-770c74dca40e"
      },
      "source": [
        "x = 5\n",
        "y = 4\n",
        "ersteZahl = x/y\n",
        "print(ersteZahl)\n",
        "\n",
        "zweiteZahl = round(x/y,1)\n",
        "print(zweiteZahl)\n",
        "\n",
        "dritteZahl = round(x/y,0)\n",
        "print(dritteZahl)\n",
        "\n",
        "print(\"Die Funktion Round(A,B) bewirkt, dass der Teil von A ... B ... wird.\")"
      ],
      "execution_count": null,
      "outputs": [
        {
          "output_type": "stream",
          "name": "stdout",
          "text": [
            "1.25\n",
            "1.2\n",
            "1.0\n",
            "Die Funktion Round(A,B) bewirkt, dass der Teil von A ... B ... wird.\n"
          ]
        }
      ]
    },
    {
      "cell_type": "markdown",
      "metadata": {
        "id": "uKLfrKa9gG7p"
      },
      "source": [
        "Was bewirken folgende Funktionen *int()* und *float()*?\n",
        "Lege eine neue ```Print```-Funktion an & trage deine Lösung als Ausgabe ein.\n",
        "\n",
        "```x``` hat den Wert von 15, ```y``` von 3 und ```z``` steht für 7"
      ]
    },
    {
      "cell_type": "code",
      "metadata": {
        "colab": {
          "base_uri": "https://localhost:8080/"
        },
        "id": "8NZsi_ehgjK2",
        "outputId": "ed5a558c-83a7-44e2-df3e-f0d9354831b7"
      },
      "source": [
        "x=15\n",
        "y=3\n",
        "z=7\n",
        "print(x/y, x/z)\n",
        "print(int(x/y), int(x/z))\n",
        "print(float(x/y),float(x/z))"
      ],
      "execution_count": null,
      "outputs": [
        {
          "output_type": "stream",
          "name": "stdout",
          "text": [
            "5.0 2.142857142857143\n",
            "5 2\n",
            "5.0 2.142857142857143\n"
          ]
        }
      ]
    },
    {
      "cell_type": "markdown",
      "metadata": {
        "id": "QcNhVLstFdhO"
      },
      "source": [
        "## Bonus-Übung 2\n",
        "\n",
        "Führe nun eine eigene Rechnung am Anfang des ```print```-Befehls durch, indem du jeweils die ```5``` durch eine frei wählbare Rechenoperation mit beliebig vielen *Zahlen* & *Operatoren* ersetzt. Versuche dabei wieder eine wahre Aussage als *Ausgabe* zu erhalten.\n",
        "\n",
        "Wenn du magst, kannst du auch die *Variablen* ```x``` für 6, ```y``` für 7 oder ```z``` sowie Funktions aus Übung 3 verwenden.\n",
        "  \n",
        "  \n",
        "*Weißt du, welchen Wert ```z``` hat?*\n",
        "Überprüfe deine Annahme, indem du ```z``` ausgibst."
      ]
    },
    {
      "cell_type": "code",
      "metadata": {
        "colab": {
          "base_uri": "https://localhost:8080/"
        },
        "id": "9BQS8nrIGduu",
        "outputId": "43491d4a-d1e3-4c8d-e807-c062ab3f23da"
      },
      "source": [
        "x=6\n",
        "y=7\n",
        "z=round((17%10)/3)\n",
        "print(5,\"ist Zweiundvierzig\")\n",
        "print(5,\"ist Dreißig\")\n",
        "print(5,\"ist Zehn Komma Zwei\")\n",
        "print(5+5*5-5/5,\"ist meine Lieblingszahl\")"
      ],
      "execution_count": null,
      "outputs": [
        {
          "output_type": "stream",
          "name": "stdout",
          "text": [
            "5 ist Zweiundvierzig\n",
            "5 ist Dreißig\n",
            "5 ist Zehn Komma Zwei\n",
            "29.0 ist meine Lieblingszahl\n"
          ]
        }
      ]
    },
    {
      "cell_type": "markdown",
      "metadata": {
        "id": "aX42zek-mLN3"
      },
      "source": [
        "## Klammersetzung\n",
        "Bei der Kombination verschiedener Rechenoperationen solltet ihr beachten, dass Punkt- vor Strichrechnung gilt, Klammern und Potenzen jedoch zuerst ausgewertet werden. Wenn ihr euch also unsicher seid, in welcher Reihenfolge euer Ausdruck berechnet wird, setzt lieber runde Klammern ```()```."
      ]
    },
    {
      "cell_type": "code",
      "metadata": {
        "colab": {
          "base_uri": "https://localhost:8080/"
        },
        "id": "o2Kj1oGodGQG",
        "outputId": "9d3290ba-72ea-4177-a9e3-e5196a6f4291"
      },
      "source": [
        "# Hier gilt Punkt- vor Strichrechnung:\n",
        "print(1+2/3)\n",
        "\n",
        "# Hier hat der Klammerterm Priorität:\n",
        "print((1+2)/3)"
      ],
      "execution_count": null,
      "outputs": [
        {
          "output_type": "stream",
          "name": "stdout",
          "text": [
            "1.6666666666666665\n",
            "1.0\n"
          ]
        }
      ]
    },
    {
      "cell_type": "markdown",
      "metadata": {
        "id": "plLsQvxLuQpj"
      },
      "source": [
        "Python wertet Ausdrücke immer in der folgenden priorisierenden Reihenfolge aus:\n",
        "\n",
        "1. innerste Klammern\n",
        "\n",
        "2. Potenzen durch ```**```\n",
        "\n",
        "3. Punkt vor Strichrechnung (```%``` und ```//``` gelten als Strichrechnungen)\n",
        "\n",
        "4. Links vor Rechts, Oben vor Unten"
      ]
    },
    {
      "cell_type": "code",
      "metadata": {
        "colab": {
          "base_uri": "https://localhost:8080/"
        },
        "id": "KD2zsMmMvB4m",
        "outputId": "1d31e543-fb3d-4f22-9f21-045ca5a063d9"
      },
      "source": [
        "print (1+3**3 / (25 + round(2.2))*2) #Prio 1: dritte Klammern    round(2.2)\n",
        "print (1+3**3 / (25 + 2)*2 )         #Prio 2: zweite Klammern    25+2 = 27\n",
        "print (1+3**3 / 27*2)                #Prio 3: Potenz             3**3 = 27\n",
        "print (1+27 / 27*2)                  #Prio 4: Punkt vor Strich & links vor rechts  27/27 = 1\n",
        "print (1+1*2)                        #Prio 5: Punkt vor Strich   1*2 = 27\n",
        "print (1+2)\n",
        "print (3)\n"
      ],
      "execution_count": null,
      "outputs": [
        {
          "output_type": "stream",
          "name": "stdout",
          "text": [
            "3.0\n",
            "3.0\n",
            "3.0\n",
            "3.0\n",
            "3\n",
            "3\n",
            "3\n"
          ]
        }
      ]
    },
    {
      "cell_type": "markdown",
      "metadata": {
        "id": "rT3fej9WUwIa"
      },
      "source": [
        "### Übung - Klammern anpassen\n",
        "\n",
        "Passe die Klammersetzung ```( )``` an, so dass die Aussagen der Ausgaben stimmen."
      ]
    },
    {
      "cell_type": "code",
      "metadata": {
        "id": "4PahohF8Uu81",
        "colab": {
          "base_uri": "https://localhost:8080/"
        },
        "outputId": "202c3bf2-8de9-4811-9ee1-a48367bd3abb"
      },
      "source": [
        "print(1+2*3+4,\"ist Fünfzehn\")\n",
        "print(24/2*5+7,\"ist Eins\")\n",
        "print((1*(2+3))*((4+5)*((6+7)*8)),\"ist Einhundert\")"
      ],
      "execution_count": null,
      "outputs": [
        {
          "output_type": "stream",
          "name": "stdout",
          "text": [
            "11 ist Fünfzehn\n",
            "67.0 ist Eins\n",
            "4680 ist Einhundert\n"
          ]
        }
      ]
    },
    {
      "cell_type": "markdown",
      "metadata": {
        "id": "Aqc0qeCeW4Bv"
      },
      "source": [
        "## Variablen\n",
        "Variablen sind Platzhalter, in denen Python Werte, Strings oder andere abstraktere Strukturen speichern kann. Sie können nach dem Speichern ganz einfach überschrieben werden. Ausdrücke wie ```a = a+1``` ergeben in der Mathematik keinen Sinn, aber Computer wissen, dass sie die Variable ```a``` um 1 erhöhen sollen. Das ```=``` fungiert hierbei als Zuweisung und nicht als mathematische Gleichheit. \n",
        "\n",
        "Mit den Variablen kann man alles machen, was man auch so mit Zahlen oder Zeichenketten machen kann. Man kann sie kombinieren, sie anzeigen lassen oder mit ihnen weiter rechnen.\n",
        "Jede Variable kann immer wieder überschrieben werden, deswegen muss man bei der Benennung aufpassen.\n",
        "\n"
      ]
    },
    {
      "cell_type": "code",
      "metadata": {
        "colab": {
          "base_uri": "https://localhost:8080/"
        },
        "id": "vyAvYCPqYMQC",
        "outputId": "e3f01f26-9a8d-43dd-f0a4-c9171334faf5"
      },
      "source": [
        "a = 4\n",
        "print(a+3)\n",
        "b = 2\n",
        "c = a+b\n",
        "print(c)\n",
        "a = a-2\n",
        "print(a)\n",
        "\n",
        "s = \"Hallo\"\n",
        "t = \" :-)\"\n",
        "print(s+t)\n",
        "s = 68\n",
        "print(s)\n"
      ],
      "execution_count": null,
      "outputs": [
        {
          "output_type": "stream",
          "name": "stdout",
          "text": [
            "7\n",
            "6\n",
            "2\n",
            "Hallo :-)\n",
            "68\n"
          ]
        }
      ]
    },
    {
      "cell_type": "markdown",
      "metadata": {
        "id": "7WspH8WM_Ra7"
      },
      "source": [
        "Variablen können verschiedene Datentypen haben:\n",
        "*   **Integer** eine ganze Zahl\n",
        "*   **Double** eine Dezimalzahl\n",
        "*   **String** eine Zeichenkette (z. B. Wort oder Satz)\n",
        "*   **Boolean** ein Wahrheitswert (```1``` oder ```0```, ```True``` oder ```False```)\n",
        "\n",
        "Wenn man einen Integer und einen Double kombiniert kommt ein Double heraus. Es ist außerdem möglich die Datentypen ineinander umzuwandeln."
      ]
    },
    {
      "cell_type": "code",
      "metadata": {
        "colab": {
          "base_uri": "https://localhost:8080/"
        },
        "id": "0MdiFxOZGvC8",
        "outputId": "0d4e2ca0-c12b-45ad-dd5c-1dd62036b005"
      },
      "source": [
        "integer = 33\n",
        "double = 5.08\n",
        "string = \"Dies ist ein String.\"\n",
        "boolean = 1\n",
        "boolean2 = True\n",
        "\n",
        "print(integer + double)\n",
        "\n",
        "w = \"Der Wahrheitsgehalt ist: \"\n",
        "print(w, boolean, boolean2)\n",
        "int(double)"
      ],
      "execution_count": null,
      "outputs": [
        {
          "output_type": "stream",
          "name": "stdout",
          "text": [
            "38.08\n",
            "Der Wahrheitsgehalt ist:  1 True\n"
          ]
        },
        {
          "output_type": "execute_result",
          "data": {
            "text/plain": [
              "5"
            ]
          },
          "metadata": {},
          "execution_count": 1
        }
      ]
    },
    {
      "cell_type": "markdown",
      "metadata": {
        "id": "JZTGMEXbbjtV"
      },
      "source": [
        "### Übung\n",
        "\n",
        "Erstelle drei Variablen mit unterschiedlichen Namen und befülle sie mit Zahlen. Berechne die Summe und das Produkt der drei Zahlen."
      ]
    },
    {
      "cell_type": "code",
      "metadata": {
        "id": "AEr0fsntbsVL"
      },
      "source": [
        ""
      ],
      "execution_count": null,
      "outputs": []
    }
  ]
}
