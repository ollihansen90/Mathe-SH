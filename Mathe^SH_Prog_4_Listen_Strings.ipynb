{
  "nbformat": 4,
  "nbformat_minor": 0,
  "metadata": {
    "colab": {
      "name": "Mathe^SH_Prog_4.ipynb",
      "provenance": [],
      "collapsed_sections": [
        "cgq0ON5768UB"
      ],
      "include_colab_link": true
    },
    "kernelspec": {
      "display_name": "Python 3",
      "name": "python3"
    },
    "language_info": {
      "name": "python"
    }
  },
  "cells": [
    {
      "cell_type": "markdown",
      "metadata": {
        "id": "view-in-github",
        "colab_type": "text"
      },
      "source": [
        "<a href=\"https://colab.research.google.com/github/ollihansen90/Mathe-SH/blob/main/Mathe%5ESH_Prog_4.ipynb\" target=\"_parent\"><img src=\"https://colab.research.google.com/assets/colab-badge.svg\" alt=\"Open In Colab\"/></a>"
      ]
    },
    {
      "cell_type": "markdown",
      "metadata": {
        "id": "cgq0ON5768UB"
      },
      "source": [
        "# Mathe^SH Python-Kurs, Woche 4"
      ]
    },
    {
      "cell_type": "markdown",
      "metadata": {
        "id": "NMjKvuYev9lY"
      },
      "source": [
        "# Fragen?\n",
        "Solltet ihr Fragen zum Code oder Probleme mit Colab haben, schickt uns gerne eine Mail:\n",
        "\n",
        "*   hohansen@inb.uni-luebeck.de\n",
        "*   maren.wieder@student.uni-luebeck.de\n",
        "*   friederike.meissner@student.uni-luebeck.de\n",
        "*   dustin.haschke@student.uni-luebeck.de"
      ]
    },
    {
      "cell_type": "markdown",
      "metadata": {
        "id": "Y9OfZq2RgX0N"
      },
      "source": [
        "## Recap - Listen"
      ]
    },
    {
      "cell_type": "code",
      "metadata": {
        "colab": {
          "base_uri": "https://localhost:8080/"
        },
        "id": "keMJ1nfDgZ_Q",
        "outputId": "bd7e35e4-f29e-4ac2-f0d8-f1046c7b01c1"
      },
      "source": [
        "#Eine Liste mit Namen (strings) wird angelegt.\n",
        "einladungen = [\"Gandalf\", \"Bob\", \"David\", \"Charly\", \"Frieda\", \"Emma\", \"Anna\"]\n",
        "\n",
        "#David war gemein; stattdessen soll Dennis eingeladen werden\n",
        "einladungen[2]=\"Dennis\"\n",
        "\n",
        "#Die Liste wird (alphabetisch) sortiert und danach ausgegeben.\n",
        "einladungen = sorted(einladungen)\n",
        "print(\"Eingeladen werden sollen: \", einladungen)\n",
        "\n",
        "#Es werden 3 leere Listen für Zustellungswege der Einladung angelegt.\n",
        "via_app = []                           \n",
        "via_sms = []\n",
        "via_brieftaube = []\n",
        "\n",
        "#Die Einträge der \"einladungen\"-Liste werden den neuen Listen (der Zustellungswege) zugeteilt.\n",
        "#Nur Eintrag 1, also Position 2 der Liste (Bob), erhält bislang keine Einladung.\n",
        "via_app.append(einladungen[0]) \n",
        "via_app.append(einladungen[2])\n",
        "via_app.append(einladungen[3])\n",
        "\n",
        "via_sms.append(einladungen[4])\n",
        "via_sms.append(einladungen[5])\n",
        "\n",
        "via_brieftaube.append(einladungen[6])\n",
        "#Nachtrag: Sehr umständlich. Lernen heute \"Slicing\" kennen, was sowas vereinfacht.\n",
        "\n",
        "#Ausgabe der Informationswege der Personen + Anzahl\n",
        "print(len(via_app), \"Personen wurden per App informiert: \", via_app)\n",
        "print(len(via_sms), \"Personen wurden per Sms informiert: \", via_sms)\n",
        "print(len(via_brieftaube), \"Personen wurden per Brieftaube informiert: \", via_brieftaube)\n",
        "\n",
        "# Die Informationswege-Listen werden durchgegangen, die Namen ausgegeben ...\n",
        "# ... und die Personen über den Pop-Befehl aus der einladungen-Liste gelöscht.\n",
        "print (\"Also wurden bereits\")\n",
        "for eintrag in via_app:\n",
        "    print(einladungen.pop(einladungen.index(eintrag)))\n",
        "for eintrag in via_sms:\n",
        "    print(einladungen.pop(einladungen.index(eintrag)))\n",
        "for eintrag in via_brieftaube:\n",
        "    print(einladungen.pop(einladungen.index(eintrag)))\n",
        "\n",
        "#Die übrig gebliebene einladungen-Liste gibt an, wer noch nicht geladen wurde.\n",
        "print(\"über ihre Einladung informiert. Nur \", einladungen, \" wurde noch nicht kontaktiert.\")\n"
      ],
      "execution_count": null,
      "outputs": [
        {
          "name": "stdout",
          "output_type": "stream",
          "text": [
            "Eingeladen werden sollen:  ['Anna', 'Bob', 'Charly', 'Dennis', 'Emma', 'Frieda', 'Gandalf']\n",
            "3 Personen wurden per App informiert:  ['Anna', 'Charly', 'Dennis']\n",
            "2 Personen wurden per Sms informiert:  ['Emma', 'Frieda']\n",
            "1 Personen wurden per Brieftaube informiert:  ['Gandalf']\n",
            "Also wurden bereits\n",
            "Anna\n",
            "Charly\n",
            "Dennis\n",
            "Emma\n",
            "Frieda\n",
            "Gandalf\n",
            "über ihre Einladung informiert. Nur  ['Bob']  wurde noch nicht kontaktiert.\n"
          ]
        }
      ]
    },
    {
      "cell_type": "markdown",
      "metadata": {
        "id": "8-TAgpzWRFeJ"
      },
      "source": [
        "#Fortgeschrittene Übung zu Listen\n",
        "(Falls zu schwer, dann überspringe einfach :-))"
      ]
    },
    {
      "cell_type": "markdown",
      "metadata": {
        "id": "6GAsPf23hC_A"
      },
      "source": [
        "\n",
        "\n",
        "Im Folgenden ist eine unsortierte Liste von Buchstaben und ein Code gegeben.\n",
        "Der Code soll die Liste aufsteigend sortieren, funktioniert aber noch nicht richtig.\n",
        "\n",
        "Weißt du, warum er mathematisch oder logisch betrachtet noch keine geordnete Liste ausgibt?\n",
        "\n",
        "Schaffst du es vielleicht sogar ihn zu verbessern, sodass die Ausgabeliste korrekt ist ohne, dass du den ```sorted```-Befehl verwendest?\n",
        "\n",
        "Hilfreich könnten z. B. weitere ```for```-Schleifen, ```if```-Befehle sowie der Zugriff auf die Indexposition von Listen sein.\n",
        "Du kannst auch, wie bereits vorhanden, Hilfsvariablen anlegen und die logischen Vergleichsoperatoren wie ```>=``` verwenden.\n"
      ]
    },
    {
      "cell_type": "code",
      "metadata": {
        "colab": {
          "base_uri": "https://localhost:8080/"
        },
        "id": "TqAW8VkiR7Mg",
        "outputId": "62859768-cff4-4d60-fe29-15a2a2b149b7"
      },
      "source": [
        "zahlencode = [5,3,9,127,52,42,0]\n",
        "print (\"unsortierter Code:\", zahlencode)\n",
        "\n",
        "#Betrachte/korrigiere folgenden Code:\n",
        "\n",
        "#Indexparamenter i, der immer groesser werden soll, wird auf 0 gesetzt:\n",
        "i=0\n",
        "#Jeder Eintrag in Zahlencode soll einmal durchlaufen über ein ...\n",
        "#... entsprechedes Index-\"i\" der Länge von Zahlencode durchlaufen werden.\n",
        "for i in range(0, len(zahlencode)-1):\n",
        "    #Wenn das i-te Element(am Anfang 0) groesser als das (i+1)-te Element (am Anfang 1) ist\n",
        "    if(zahlencode[i]>=zahlencode[i+1]):\n",
        "        #Dann sollen das Element an der Stelle i mit dem von (i+1) getauscht werden\n",
        "        temp=zahlencode[i]\n",
        "        zahlencode[i]=zahlencode[i+1]\n",
        "        zahlencode[i+1]=temp\n",
        "        #danach wird unser Indexparamenter erhöht\n",
        "        #... und die Schleife fuer den nächsten Eintrag der for-Schleife durchlaufen\n",
        "\n",
        "print(\"  sortierter Code:\", zahlencode)"
      ],
      "execution_count": null,
      "outputs": [
        {
          "output_type": "stream",
          "name": "stdout",
          "text": [
            "unsortierter Code: [5, 3, 9, 127, 52, 42, 0]\n",
            "  sortierter Code: [3, 5, 9, 52, 42, 0, 127]\n"
          ]
        }
      ]
    },
    {
      "cell_type": "markdown",
      "metadata": {
        "id": "FdMq6cQJgaSx"
      },
      "source": [
        "## Listen und Slicing\n",
        "Möchte man nur einen Teil einer Liste bearbeiten, bietet Python die Möglichkeit zum *Slicen*. Beim Slicen übergibt man einer Liste in den eckigen Klammern bestimmte Einträge, um bestimmte Teillisten zu erhalten.\n",
        "\n",
        "### Aufbau\n",
        "Hat man allgemein eine Liste ```a```, gilt immer ```a[start:stop:step]```. Hierbei gilt wie immer, dass Python bei 0 anfängt zu zählen. Der ```stop```-Wert wird hierbei nicht erreicht (d. h. die Schreibweise ist exklusive ```stop```). Die Schreibweise mit dem Doppelpunkt ist ganz typisch beim Slicen und ist auch in anderen Programmiersprachen zu finden.\n",
        "\n",
        "*Achtung*: Python erwartet immer Integer-Werte! Unter Umständen muss also die Eingabe mit dem ```int()```-Befehl geparst werden."
      ]
    },
    {
      "cell_type": "code",
      "metadata": {
        "colab": {
          "base_uri": "https://localhost:8080/",
          "height": 301
        },
        "id": "ReQVpi1Xgc-h",
        "outputId": "5410ebac-71a7-480e-e941-17fe3a547c9a"
      },
      "source": [
        "# Beispiel:\n",
        "liste = [0,1,2,3,4,5,6,7,8,9,10]\n",
        "print(liste[4:7])\n",
        "print(liste[:-4])\n",
        "print(liste[-4:])\n",
        "print(liste[0:5:2])\n",
        "print(liste[5::-1])\n",
        "\n",
        "print(liste[5.0])"
      ],
      "execution_count": null,
      "outputs": [
        {
          "name": "stdout",
          "output_type": "stream",
          "text": [
            "[4, 5, 6]\n",
            "[0, 1, 2, 3, 4, 5, 6]\n",
            "[7, 8, 9, 10]\n",
            "[0, 2, 4]\n",
            "[5, 4, 3, 2, 1, 0]\n"
          ]
        },
        {
          "ename": "TypeError",
          "evalue": "ignored",
          "output_type": "error",
          "traceback": [
            "\u001b[0;31m---------------------------------------------------------------------------\u001b[0m",
            "\u001b[0;31mTypeError\u001b[0m                                 Traceback (most recent call last)",
            "\u001b[0;32m<ipython-input-16-ecfa405116c5>\u001b[0m in \u001b[0;36m<module>\u001b[0;34m()\u001b[0m\n\u001b[1;32m      7\u001b[0m \u001b[0mprint\u001b[0m\u001b[0;34m(\u001b[0m\u001b[0mliste\u001b[0m\u001b[0;34m[\u001b[0m\u001b[0;36m5\u001b[0m\u001b[0;34m:\u001b[0m\u001b[0;34m:\u001b[0m\u001b[0;34m-\u001b[0m\u001b[0;36m1\u001b[0m\u001b[0;34m]\u001b[0m\u001b[0;34m)\u001b[0m\u001b[0;34m\u001b[0m\u001b[0;34m\u001b[0m\u001b[0m\n\u001b[1;32m      8\u001b[0m \u001b[0;34m\u001b[0m\u001b[0m\n\u001b[0;32m----> 9\u001b[0;31m \u001b[0mprint\u001b[0m\u001b[0;34m(\u001b[0m\u001b[0mliste\u001b[0m\u001b[0;34m[\u001b[0m\u001b[0;36m5.0\u001b[0m\u001b[0;34m]\u001b[0m\u001b[0;34m)\u001b[0m\u001b[0;34m\u001b[0m\u001b[0;34m\u001b[0m\u001b[0m\n\u001b[0m",
            "\u001b[0;31mTypeError\u001b[0m: list indices must be integers or slices, not float"
          ]
        }
      ]
    },
    {
      "cell_type": "markdown",
      "metadata": {
        "id": "QnN7wwfbob2y"
      },
      "source": [
        "## Übung\n",
        "Erstelle eine Liste mit ```list(range(1000))``` und gib die letzten 10 Zahlen aus, die durch 7 teilbar sind. Gib danach dieselbe Liste in absteigender Reihenfolge aus."
      ]
    },
    {
      "cell_type": "code",
      "metadata": {
        "colab": {
          "base_uri": "https://localhost:8080/"
        },
        "id": "7trwXYy1on-M",
        "outputId": "e9f687bc-9d31-4a14-a502-855c5490846f"
      },
      "source": [
        "liste = list(range(1000))\n",
        "\n",
        "liste7 = \n",
        "print(liste7)\n",
        "\n",
        "liste7_letzte10 = \n",
        "print(liste7_letzte10)\n",
        "\n",
        "liste7_letzte10_rueckwaerts = \n",
        "print(liste7_letzte10_rueckwaerts)"
      ],
      "execution_count": null,
      "outputs": [
        {
          "output_type": "stream",
          "name": "stdout",
          "text": [
            "[0, 7, 14, 21, 28, 35, 42, 49, 56, 63, 70, 77, 84, 91, 98, 105, 112, 119, 126, 133, 140, 147, 154, 161, 168, 175, 182, 189, 196, 203, 210, 217, 224, 231, 238, 245, 252, 259, 266, 273, 280, 287, 294, 301, 308, 315, 322, 329, 336, 343, 350, 357, 364, 371, 378, 385, 392, 399, 406, 413, 420, 427, 434, 441, 448, 455, 462, 469, 476, 483, 490, 497, 504, 511, 518, 525, 532, 539, 546, 553, 560, 567, 574, 581, 588, 595, 602, 609, 616, 623, 630, 637, 644, 651, 658, 665, 672, 679, 686, 693, 700, 707, 714, 721, 728, 735, 742, 749, 756, 763, 770, 777, 784, 791, 798, 805, 812, 819, 826, 833, 840, 847, 854, 861, 868, 875, 882, 889, 896, 903, 910, 917, 924, 931, 938, 945, 952, 959, 966, 973, 980, 987, 994]\n",
            "[931, 938, 945, 952, 959, 966, 973, 980, 987, 994]\n",
            "[994, 987, 980, 973, 966, 959, 952, 945, 938, 931]\n"
          ]
        }
      ]
    },
    {
      "cell_type": "markdown",
      "metadata": {
        "id": "RoJ9fUZ4pfch"
      },
      "source": [
        "### Bonus: Numpy-Arrays\n",
        "Später werden wir viel mit Numpy arbeiten, ein Python-Package, das uns das Rechnen mit Listen ermöglicht. Numpy bietet noch mehr Möglichkeiten zum Slicen. So können wir beispielsweise neben ganzen Zahlen auch Listen von Zahlen übergeben, um Permutationen zu erhalten. Ebenso sind Listen von Booleans eine zulässige Eingabe, wenn man nur bestimmte Werte überschreiben möchte."
      ]
    },
    {
      "cell_type": "code",
      "metadata": {
        "colab": {
          "base_uri": "https://localhost:8080/"
        },
        "id": "pU18boEfqEIl",
        "outputId": "695cd4dc-45ec-4251-ae80-aabcb8ddd21b"
      },
      "source": [
        "import numpy as np\n",
        "data = np.arange(0,10)*2\n",
        "liste = list(range(10))*2\n",
        "print(data)\n",
        "print(liste)\n",
        "\n",
        "# Permutation\n",
        "data_perm = data[[0,1,2,3,9,2,2,3]]\n",
        "print(data_perm)\n",
        "\n",
        "# Punktweise Wahrheitsabfrage\n",
        "data_bool = data_perm>5\n",
        "print(data_bool)\n",
        "# Beispiel: Setze alle Werte größer 5 auf 10 und alle Werte kleinergleich 5 auf 0\n",
        "data_neu = data_perm\n",
        "data_neu[data_neu<=5] = 0\n",
        "data_neu[data_neu>5] = 10\n",
        "print(data_neu)"
      ],
      "execution_count": null,
      "outputs": [
        {
          "output_type": "stream",
          "name": "stdout",
          "text": [
            "[ 0  2  4  6  8 10 12 14 16 18]\n",
            "[0, 1, 2, 3, 4, 5, 6, 7, 8, 9, 0, 1, 2, 3, 4, 5, 6, 7, 8, 9]\n",
            "[ 0  2  4  6 18  4  4  6]\n",
            "[False False False  True  True False False  True]\n",
            "[ 0  0  0 10 10  0  0 10]\n"
          ]
        }
      ]
    },
    {
      "cell_type": "markdown",
      "metadata": {
        "id": "7pE1zUb-gded"
      },
      "source": [
        "## Listen von Listen\n",
        "\n",
        "Wie ihr bereits wisst, können wir Listen mit allen möglichen Objekten füllen, also auch mit weiteren Listen! Dabei sind sowohl die Länge der inneren Listen als auch die darin enthaltenen Elemente frei wählbar. \n",
        "\n",
        "Den Aufbau könnt ihr euch wie eine Tabelle vorstellen, deren Zeilen je eine Unterliste und die dazugehörigen Spalten die darin enthaltenen Elemente darstellen.\n",
        "\n",
        "Erstellen wir also eine Liste ```klasse```, die für jeden Schüler und jede Schülerin den Namen, das Alter und die Antwort auf die Frage \"Magst du Mathe?\" enthält:"
      ]
    },
    {
      "cell_type": "code",
      "metadata": {
        "id": "iye9RUqDgftB"
      },
      "source": [
        "klasse = [[\"Clara\", 14, True],\n",
        "          [\"Louis\", 13, True],\n",
        "          [\"Sophie\", 13, False],\n",
        "          [\"Max\", 14, True]]\n",
        "\n",
        "# Auch in einer Zeile möglich, allerdings unübersichtlicher:\n",
        "klasse = [[\"Clara\", 14, True], [\"Louis\", 13, True], [\"Sophie\", 13, False], [\"Max\", 14, True]]"
      ],
      "execution_count": null,
      "outputs": []
    },
    {
      "cell_type": "markdown",
      "metadata": {
        "id": "NgG80dnmc3tr"
      },
      "source": [
        "Der Zugriff auf einzelne Listenelemente erfolgt wieder über den Namen der äußeren Liste. Wenn eine komplette Unterliste adressiert wird, folgt nur ein Paar eckiger Klammern mit dem gewünschten Index, also der entsprechenden Zeilenangabe. Wollen wir beispielsweise alle Informationen zur 1. Schülerin unserer ```klasse``` erhalten, nutzen wir ```klasse[0]```. \n",
        "\n",
        "Soll nur ein einzelnes Element der Unterliste ausgegeben werden, wird in einem weiteren Paar eckiger Klammern der Index der zugehörigen Spalte ergänzt. Interessiert uns also Claras Alter, rufen wir ```klasse[0][1]``` auf.\n",
        "\n",
        "Das ermöglicht es, eine innere Liste oder auch einzelne, darin enthaltene Elemente zu verändern. Hat z.B. Max Geburtstag, können wir mit ```klasse[3][1] = 15``` sein Alter um 1 Jahr erhöhen.\n",
        "\n",
        "Beachtet dabei, dass immer bei 0 beginnend gezählt wird, d.h. das 1. Element besitzt folglich die Indexposition 0 usw. (Später werdet ihr mit sogenannten *dictionaries* eine Möglichkeit kennenlernen, die den Zugriff auf einzelne Elemente weiter vereinfacht.)"
      ]
    },
    {
      "cell_type": "code",
      "metadata": {
        "colab": {
          "base_uri": "https://localhost:8080/"
        },
        "id": "4yOVa7Nbf7gq",
        "outputId": "8e00a9dd-a245-455d-81d6-a5a0c3585795"
      },
      "source": [
        "print(klasse[0])\n",
        "\n",
        "print(klasse[0][1])\n",
        "\n",
        "klasse[3][1] = 15\n",
        "print(klasse)"
      ],
      "execution_count": null,
      "outputs": [
        {
          "name": "stdout",
          "output_type": "stream",
          "text": [
            "['Clara', 14, True]\n",
            "14\n",
            "[['Clara', 14, True], ['Louis', 13, True], ['Sophie', 13, False], ['Max', 15, True]]\n"
          ]
        }
      ]
    },
    {
      "cell_type": "markdown",
      "metadata": {
        "id": "_lTpCSj9kiEz"
      },
      "source": [
        "### Übung \n",
        "\n",
        "Füge der ```klasse``` dich selbst als weitere Schülerin oder weiteren Schüler hinzu, indem du per ```append``` eine Unterliste mit deinem Namen, Alter und natürlich der Antwort auf die Frage \"Magst du Mathe?\" ergänzt. \n",
        "\n",
        "Verändere anschließend Sophies Antwort auf die gestellte Frage zu ```True``` und überprüfe mit ```print```, ob du alles richtig gemacht hast."
      ]
    },
    {
      "cell_type": "code",
      "metadata": {
        "id": "_dRYY8YgkqKU"
      },
      "source": [
        ""
      ],
      "execution_count": null,
      "outputs": []
    },
    {
      "cell_type": "markdown",
      "metadata": {
        "id": "1PLDVdIQgf9S"
      },
      "source": [
        "# Strings\n",
        "\n",
        "Ihr habt Strings in den letzten Wochen und auch heute immer wieder verwendet, indem ihr sie zum Beispiel mittels ```print``` ausgegeben oder in Listen eingetragen habt. Wir können mit Strings aber noch viel mehr tun. Strings, oder auch Zeichenketten genannt, funktionieren nämlich sehr ähnlich zu Listen. Sie sind effektiv eine *Kette* oder auch *Liste* von einzelnen Zeichen. Diese Zeichen nennen wir auch Character.\n",
        "\n",
        "Zunächst wollen wir also einmal alle Listen-Befehle testen, die wir bisher kennengelernt haben, und gucken, ob diese auf für Strings funktionieren.\n",
        "\n",
        "**Frage:** Können wir auch auf einzelne Elemente oder Teilzeichenketten zugreifen?\n",
        "\n",
        "**Antwort:** Ja"
      ]
    },
    {
      "cell_type": "code",
      "metadata": {
        "id": "drVxPEaGghSF",
        "colab": {
          "base_uri": "https://localhost:8080/"
        },
        "outputId": "2667a762-547b-4e02-f45f-3b46ae00afef"
      },
      "source": [
        "#Wir erstellen uns einen String\n",
        "s = \"Dies ist ein String\"\n",
        "#Ihr könnt auch einfache Anführungsstriche verwenden\n",
        "t = 'Dies ist ein zweiter String'\n",
        "\n",
        "print(type(s))\n",
        "\n",
        "#Wir greifen auf einzelne Elemente wie bei Listen zu\n",
        "#Auch hier fangen wir bei 0 an zu zählen und verwenden eckige Klammern\n",
        "print(s[1])\n",
        "#Das Leerzeichen ist natürlich auch ein Zeichen\n",
        "print(s[4])\n",
        "\n",
        "#Wir können auch das eben gelernte Slicing verwenden\n",
        "print(s[0:4])\n",
        "print(s[-6:])"
      ],
      "execution_count": null,
      "outputs": [
        {
          "output_type": "stream",
          "name": "stdout",
          "text": [
            "<class 'str'>\n",
            "i\n",
            " \n",
            "Dies\n",
            "String\n"
          ]
        }
      ]
    },
    {
      "cell_type": "markdown",
      "metadata": {
        "id": "7hLSTmKyL4du"
      },
      "source": [
        "**Frage:** Können wir auch die Methoden für Listen verwenden?\n",
        "\n",
        "Wir haben letzte Woche folgende Methoden kennengelernt:\n",
        "* ```len(liste)``` gibt die Länge der Liste, d.h. die Anzahl der Elemente, aus.\n",
        "* ```sorted(liste)``` sortiert die übergebene Liste aufsteigend bzw. alphabetisch.\n",
        "* ```sum(liste)``` gibt die Summe und ```max(liste)``` das Maximum einer Liste aus Zahlen zurück.\n",
        "* ```liste.append(element)``` fügt das übergebene Element an das Listenende an.\n",
        "* ```liste.pop()``` entfernt das letzte Element gibt es aus.\n",
        "* ```liste.index(element)``` findet das übergebene Element und gibt die entsprechende Position aus.\n",
        "\n",
        "Testen wir sie einmal einzelnd aus."
      ]
    },
    {
      "cell_type": "code",
      "metadata": {
        "colab": {
          "base_uri": "https://localhost:8080/"
        },
        "id": "vrzMk5O1MX4i",
        "outputId": "922bd855-f3b0-4904-bd2e-8a15c609f4d8"
      },
      "source": [
        "s = 'qwertzuiopasdfghjklyxcvbnm'\n",
        "\n",
        "# len() funktioniert\n",
        "print(len(s))\n",
        "\n",
        "# sorted() funktioniert, liefert allerdings eine Liste\n",
        "print(sorted(s))\n",
        "print(type(sorted(s)))\n",
        "\n",
        "# sum() funktioniert nicht mit Strings\n",
        "# s.append() funktioniert ebenfalls nicht\n",
        "# s.pop() funktioniert nicht\n",
        "\n",
        "# s.index() funktioniert wieder\n",
        "print(s.index(\"a\"))\n",
        "print(s)"
      ],
      "execution_count": null,
      "outputs": [
        {
          "output_type": "stream",
          "name": "stdout",
          "text": [
            "26\n",
            "['a', 'b', 'c', 'd', 'e', 'f', 'g', 'h', 'i', 'j', 'k', 'l', 'm', 'n', 'o', 'p', 'q', 'r', 's', 't', 'u', 'v', 'w', 'x', 'y', 'z']\n",
            "<class 'list'>\n",
            "10\n",
            "qwertzuiopasdfghjklyxcvbnm\n"
          ]
        }
      ]
    },
    {
      "cell_type": "markdown",
      "metadata": {
        "id": "HCUt1H5KOSfO"
      },
      "source": [
        "**Antwort:** Nein, es funktionieren nicht alle Methoden für Listen auch für Strings.\n",
        "\n",
        "Wir wollen uns nächste Woche ausführlicher damit beschäftigen, welche Methoden stattdessen speziell für Strings funktionieren.\n",
        "\n",
        "Was aber jetzt schon gut zu wissen ist, ist, dass wir unsere Strings aneinanderfügen und vervielfältigen könnt. Dies geschieht mittels ```+``` und ```*```."
      ]
    },
    {
      "cell_type": "code",
      "metadata": {
        "colab": {
          "base_uri": "https://localhost:8080/"
        },
        "id": "oBantuCrPnLt",
        "outputId": "74d75586-edd7-4a8f-a2e5-5c5e3665fbd9"
      },
      "source": [
        "print(\"Hallo\" + 'Welt')\n",
        "print(10*\"Hallo\")"
      ],
      "execution_count": null,
      "outputs": [
        {
          "output_type": "stream",
          "name": "stdout",
          "text": [
            "HalloWelt\n",
            "HalloHalloHalloHalloHalloHalloHalloHalloHalloHallo\n"
          ]
        }
      ]
    },
    {
      "cell_type": "markdown",
      "metadata": {
        "id": "n6qOCUkqVO8l"
      },
      "source": [
        "### Übung 1 - Strings\n",
        "\n",
        "Gib aus dem folgenden Satz nur das Wort \"Baum\" aus."
      ]
    },
    {
      "cell_type": "code",
      "metadata": {
        "id": "CO_9smXLVPhp"
      },
      "source": [
        "satz = \"Eine Lerche sitzt im Baum und singt.\""
      ],
      "execution_count": null,
      "outputs": []
    },
    {
      "cell_type": "markdown",
      "metadata": {
        "id": "RKlWJYzcQXdx"
      },
      "source": [
        "### Übung 2 - Strings\n",
        "\n",
        "Erstelle einen String, der die Zahlenfolge ```321``` sieben mal hinterheinander schreibt!"
      ]
    },
    {
      "cell_type": "code",
      "metadata": {
        "id": "aOQdB5B8QYZR"
      },
      "source": [
        ""
      ],
      "execution_count": null,
      "outputs": []
    },
    {
      "cell_type": "markdown",
      "metadata": {
        "id": "0xFPrWvDQY_f"
      },
      "source": [
        "## Ausgabe von Sonderzeichen\n",
        "\n",
        "Sonderzeichen sind immer ein schwieriges Thema im Programmieren, da sie sehr oft bereits für spezielle Funktionen verwendet werden. Wie sollen wir beispielsweise ```\"``` in einem String ausgeben, wenn wir es zur Deklaration des selben Strings verwenden müssen? In den meisten Fällen lautet die Antwort der Backslash, ```\\```."
      ]
    },
    {
      "cell_type": "code",
      "metadata": {
        "colab": {
          "base_uri": "https://localhost:8080/"
        },
        "id": "B-RF1NhCRy8Z",
        "outputId": "b408f9a2-e13d-4c8a-f170-7f2d24f5bda4"
      },
      "source": [
        "# Einbauen von ein paar Sonderzeichen\n",
        "s = \"Hier sollen mal ein \\\"paar\\\" Sonderzeichen getestet/verwendet werden. \\nEs sind sogar Zeilenumbrüche möglich, indem wir \\\"\\\\n\\\" verwenden.\"\n",
        "print(s)\n",
        "\n",
        "# Mittels drei \"\"\" können wir unseren String über mehrere Zeilen hinweg deklarieren.\n",
        "s = \"\"\"Mittels \\\"\\\"\\\" können wir unseren String über mehrere Zeilen hinweg deklarieren.\n",
        "Für Zeilenumbrüche wird dann auch nicht mehr \\\"\\\\n\\\" nötig.\"\"\"\n",
        "print(s)\n",
        "\n",
        "#Die meisten anderen Sonderzeichen funktionieren einwandfrei\n",
        "print(\"?#!§$%&/()=`²³{[]}´+#*'~-_,;.:<>|^°\")\n"
      ],
      "execution_count": null,
      "outputs": [
        {
          "output_type": "stream",
          "name": "stdout",
          "text": [
            "Hier sollen mal ein \"paar\" Sonderzeichen getestet/verwendet werden. \n",
            "Es sind sogar Zeilenumbrüche möglich, indem wir \"\\n\" verwenden.\n",
            "Mittels \"\"\" können wir unseren String über mehrere Zeilen hinweg deklarieren.\n",
            "Für Zeilenumbrüche wird dann auch nicht mehr \"\\n\" nötig.\n",
            "?#!§$%&/()=`²³{[]}´+#*'~-_,;.:<>|^°\n"
          ]
        }
      ]
    },
    {
      "cell_type": "markdown",
      "metadata": {
        "id": "BvswqoS9VqVC"
      },
      "source": [
        "### Übung 3 - Strings\n",
        "\n",
        "Korrigiere alle Fehler im folgenden Code und formatiere die Ausgabe, sodass sie angenehm lesbar ist."
      ]
    },
    {
      "cell_type": "code",
      "metadata": {
        "id": "nz411i3MV02e"
      },
      "source": [
        "text = \"Dies soll nur als kleiner Beispielstext dienen,\n",
        "um euch das eben Gelernte üben \n",
        "zu \n",
        "lassen.\n",
        "Korrigiert die Verwendung von \" und/oder ergänzt \\ oder \\n, bis der Code ohne Fehler durchläuft.\n",
        "Die richtige Lösung ist nicht eindeutig,\n",
        "es\n",
        "gibt\n",
        "also mehrere richtige Lösungen.\""
      ],
      "execution_count": null,
      "outputs": []
    },
    {
      "cell_type": "markdown",
      "metadata": {
        "id": "4Jjuwcx1I6V0"
      },
      "source": [
        "#Bonus Projekt (freiwillige Hausaufgabe)\n",
        "\n"
      ]
    },
    {
      "cell_type": "code",
      "metadata": {
        "id": "Xyf2trbAhP4d"
      },
      "source": [
        "list = [\"a\",\"b\",\"c\"]\n",
        "\n",
        "#Vertausche das erste mit dem zweiten Element\n",
        "temp = list[0]\n",
        "list[0] = list [1]\n",
        "list[1] = temp\n",
        "\n",
        "print (list)\n",
        "\n",
        "# Prüfe, ob a kleiner als b ist:\n",
        "if \"a\" <= \"b\":\n",
        "  print(\"a ist kleiner als b\")\n",
        "else:\n",
        "    print(\"Nö 1\")\n",
        "#Prüfe, ob c kleiner als b ist:\n",
        "if \"c\" <= \"b\":\n",
        "  print(\"a ist kleiner als b\")\n",
        "else:\n",
        "    print (\"Nö 2\")"
      ],
      "execution_count": null,
      "outputs": []
    },
    {
      "cell_type": "markdown",
      "metadata": {
        "id": "uXExOjRJhWYd"
      },
      "source": [
        "Im Folgenden ist ein kurzer Text als zusammenhängender Text gegeben.\n",
        "Versuche die Befehle ```for```, ```if``` und die erlernten Zugriffe auf einen ```string``` zu nutzen, um den Text wortweise alphabetisch zu ordnen.\n",
        "\n",
        "Gebe im Anschluss deinen geordneten String (wahlweise die geordnete Liste) aus.\n",
        "\n",
        "Das Beispiel oben zeigt dir Anhang von Listen(!), wie man durch logische Operatoren Zeichen vergleichen kann und wiederholt, wie man zwei Einträge mittels Hilfsvariable vertauscht."
      ]
    },
    {
      "cell_type": "code",
      "metadata": {
        "colab": {
          "base_uri": "https://localhost:8080/"
        },
        "id": "z2BzLQLMKfiw",
        "outputId": "8032d1a1-96de-4284-8bcd-76eb6be251dd"
      },
      "source": [
        "gedicht = '''Fest gemauert in der Erden\n",
        "Steht die Form aus Lehm gebrannt.\n",
        "Heute muß die Glocke werden!\n",
        "Frisch, Gesellen, seid zur Hand!\n",
        "Von der Stirne heiß\n",
        "Rinnen muß der Schweiß,\n",
        "Soll das Werk den Meister loben;\n",
        "Doch der Segen kommt von oben.'''\n",
        "\n",
        "print(gedicht)\n",
        "\n",
        "#Füge deinen Code ab hier ein:\n",
        "\n",
        "\n"
      ],
      "execution_count": null,
      "outputs": [
        {
          "name": "stdout",
          "output_type": "stream",
          "text": [
            "Fest gemauert in der Erden\n",
            "Steht die Form aus Lehm gebrannt.\n",
            "Heute muß die Glocke werden!\n",
            "Frisch, Gesellen, seid zur Hand!\n",
            "Von der Stirne heiß\n",
            "Rinnen muß der Schweiß,\n",
            "Soll das Werk den Meister loben;\n",
            "Doch der Segen kommt von oben.\n"
          ]
        }
      ]
    }
  ]
}
