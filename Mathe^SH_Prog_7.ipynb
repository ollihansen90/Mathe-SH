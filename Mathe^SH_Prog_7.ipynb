{
  "nbformat": 4,
  "nbformat_minor": 0,
  "metadata": {
    "colab": {
      "name": "Mathe^SH_Prog_7.ipynb",
      "provenance": [],
      "collapsed_sections": [],
      "include_colab_link": true
    },
    "kernelspec": {
      "display_name": "Python 3",
      "name": "python3"
    },
    "language_info": {
      "name": "python"
    }
  },
  "cells": [
    {
      "cell_type": "markdown",
      "metadata": {
        "id": "view-in-github",
        "colab_type": "text"
      },
      "source": [
        "<a href=\"https://colab.research.google.com/github/ollihansen90/Mathe-SH/blob/main/Mathe%5ESH_Prog_7.ipynb\" target=\"_parent\"><img src=\"https://colab.research.google.com/assets/colab-badge.svg\" alt=\"Open In Colab\"/></a>"
      ]
    },
    {
      "cell_type": "markdown",
      "metadata": {
        "id": "cgq0ON5768UB"
      },
      "source": [
        "# Mathe^SH Python-Kurs, Woche 7"
      ]
    },
    {
      "cell_type": "markdown",
      "metadata": {
        "id": "NMjKvuYev9lY"
      },
      "source": [
        "# Fragen?\n",
        "Solltet ihr Fragen zum Code oder Probleme mit Colab haben, schickt uns gerne eine Mail:\n",
        "\n",
        "*   hohansen@inb.uni-luebeck.de\n",
        "*   maren.wieder@student.uni-luebeck.de\n",
        "*   friederike.meissner@student.uni-luebeck.de\n",
        "*   dustin.haschke@student.uni-luebeck.de"
      ]
    },
    {
      "cell_type": "markdown",
      "metadata": {
        "id": "tGijiz6GpTGg"
      },
      "source": [
        "# Recap Funktionen\n",
        "\n",
        "In der letzten Wochen haben wir Funktionen kennengelernt, hier ist ein kurzer Recap.\n",
        "\n",
        "Der grobe Aufbau einer Funktion sieht wie folgt aus:\n",
        "\n",
        "```def``` ***funktions_name(Parameter)***:\n",
        "> <Code, der durch die Funktion ausgeführt wird>\n",
        "\n",
        "Wir haben dabei verschiedene Optionen kennengelernt. Zum Einen:\n",
        "* Funktionen ohne Parameter\n",
        "* Funktionen mit Parametern\n",
        "* Funktionen mit optionalen Parametern\n"
      ]
    },
    {
      "cell_type": "code",
      "metadata": {
        "colab": {
          "base_uri": "https://localhost:8080/"
        },
        "id": "DMGINsSry_ZB",
        "outputId": "5082703e-64b0-4a7a-d089-82c97ce8a1a7"
      },
      "source": [
        "def katze():          \n",
        "    print(\"miau\")       \n",
        "\n",
        "katze()   \n",
        "\n",
        "def katze_hungrig(hunger):\n",
        "    if (hunger):\n",
        "        print(\"Miau-miau, Miau!\")\n",
        "    else:\n",
        "        print (\"*schnarch*\")\n",
        "\n",
        "katze_hungrig(False) \n",
        "\n",
        "def plus(a=1, b=2):\n",
        "    ergebnis = a+b\n",
        "    print(str(a) + \" + \" + str(b) +\" = \" + str(ergebnis))\n",
        "    return ergebnis\n",
        "\n",
        "print(plus())\n",
        "print(plus(a=10))"
      ],
      "execution_count": null,
      "outputs": [
        {
          "output_type": "stream",
          "name": "stdout",
          "text": [
            "miau\n",
            "*schnarch*\n",
            "1 + 2 = 3\n",
            "3\n",
            "10 + 2 = 12\n",
            "12\n"
          ]
        }
      ]
    },
    {
      "cell_type": "markdown",
      "metadata": {
        "id": "cZkMIvfhzVXO"
      },
      "source": [
        "Des Weiteren haben wir kennengelernt:\n",
        "* Funktionen ohne Rückgabe\n",
        "* Funktionen mit Rückgabe"
      ]
    },
    {
      "cell_type": "code",
      "metadata": {
        "colab": {
          "base_uri": "https://localhost:8080/"
        },
        "id": "jv2WhcuyzpTa",
        "outputId": "acd19d0d-10cf-4115-8db0-54fe96eae507"
      },
      "source": [
        "def plus1(a=1, b=2):\n",
        "    ergebnis = a+b\n",
        "    print(str(a) + \" + \" + str(b) +\" = \" + str(ergebnis))\n",
        "\n",
        "print(plus1())\n",
        "x = plus1(a=5)\n",
        "print(x)\n",
        "\n",
        "def plus2(a=1, b=2):\n",
        "    ergebnis = a+b\n",
        "    print(str(a) + \" + \" + str(b) +\" = \" + str(ergebnis))\n",
        "    return ergebnis\n",
        "\n",
        "print(plus2())\n",
        "y = plus2(a=5)\n",
        "print(y)"
      ],
      "execution_count": null,
      "outputs": [
        {
          "output_type": "stream",
          "name": "stdout",
          "text": [
            "1 + 2 = 3\n",
            "None\n",
            "5 + 2 = 7\n",
            "None\n",
            "1 + 2 = 3\n",
            "3\n",
            "5 + 2 = 7\n",
            "7\n"
          ]
        }
      ]
    },
    {
      "cell_type": "markdown",
      "metadata": {
        "id": "Z-2IhNwB0PkP"
      },
      "source": [
        "Die Funktion ```plus``` ist auch ein gutes Beispiel für lokale und globale Variablen. Die Variablen ```a```, ```b``` und ```ergebnis``` sind alle **lokal**, wohingegen ```x``` und ```y``` **global** sind. Auch die Rückgabe von ```ergebnis```, ```return ergebnis```, ändert nichts daran, dass ```ergebnis``` lokal ist."
      ]
    },
    {
      "cell_type": "code",
      "metadata": {
        "colab": {
          "base_uri": "https://localhost:8080/",
          "height": 201
        },
        "id": "3Uo3KnMk0zvL",
        "outputId": "ffcf2c75-bec0-4888-8c8a-db91a587540f"
      },
      "source": [
        "print(y)\n",
        "print(ergebnis)"
      ],
      "execution_count": null,
      "outputs": [
        {
          "output_type": "stream",
          "name": "stdout",
          "text": [
            "7\n"
          ]
        },
        {
          "output_type": "error",
          "ename": "NameError",
          "evalue": "ignored",
          "traceback": [
            "\u001b[0;31m---------------------------------------------------------------------------\u001b[0m",
            "\u001b[0;31mNameError\u001b[0m                                 Traceback (most recent call last)",
            "\u001b[0;32m<ipython-input-7-9fa5c5eb6820>\u001b[0m in \u001b[0;36m<module>\u001b[0;34m()\u001b[0m\n\u001b[1;32m      1\u001b[0m \u001b[0mprint\u001b[0m\u001b[0;34m(\u001b[0m\u001b[0my\u001b[0m\u001b[0;34m)\u001b[0m\u001b[0;34m\u001b[0m\u001b[0;34m\u001b[0m\u001b[0m\n\u001b[0;32m----> 2\u001b[0;31m \u001b[0mprint\u001b[0m\u001b[0;34m(\u001b[0m\u001b[0mergebnis\u001b[0m\u001b[0;34m)\u001b[0m\u001b[0;34m\u001b[0m\u001b[0;34m\u001b[0m\u001b[0m\n\u001b[0m",
            "\u001b[0;31mNameError\u001b[0m: name 'ergebnis' is not defined"
          ]
        }
      ]
    },
    {
      "cell_type": "markdown",
      "metadata": {
        "id": "elkEH8293jC-"
      },
      "source": [
        "# Verschachtelung von Funktionen\n",
        "\n",
        "Funktionen können auch andere Funktion in ihrem Funktionenrumpf aufrufen.\n",
        "Dafür verwenden wir dort den gleichen Aufrufbefehl, wie wir ihn sonst auch zum Aufrufen von Funktionen verwenden, nämlich:\n",
        "\n",
        ">*funktionsname(Parameter)*\n",
        "\n",
        "Eine Funktion, die in einer Funktion aufgerufen wird, folgt also dem Grundschema:\n",
        "\n",
        "**def funktion1(Parameter1, Parameter2)**\n",
        "> #Hier passiert möglicherweise etwas\n",
        "\n",
        ">**funktion2(ParameterA)**\n",
        "\n",
        "> #ggf. passiert hier noch mehr\n",
        "\n",
        "Wichtig ist, dass die funktion2 in diesem Beispiel natürlich vorher angelegt worden muss, damit funktion1 mit ihr operieren kann.\n",
        "Die Parameter sind ebenso wie der Code bei den Kommentaren optional.\n",
        "\n",
        "Eine Funktion kann übrigens auch einer anderen Funktion einen Parameter übergeben.\n",
        "\n"
      ]
    },
    {
      "cell_type": "markdown",
      "metadata": {
        "id": "EsYKPSGhHeD1"
      },
      "source": [
        "Im folgenden Beispiel wollen wir uns das mal anschauen.\n",
        "\n",
        "Hier sehen wir auch, wofür das Aufteilen von Funktionen gut sein kann, denn die Funktionen kleine_pumpe und grosse_pumpe greifen jeweils auf die Funktion add_text zu. So können wir, wie in einem Werkzeugkasten, unsere Instrumente ordnen und beliebig unterteilen.\n",
        "\n",
        "Manchmal ist es so übersichtlicher, manchmal will man bestimmte Funktionen einfach einzeln aufrufen können."
      ]
    },
    {
      "cell_type": "code",
      "metadata": {
        "colab": {
          "base_uri": "https://localhost:8080/"
        },
        "id": "DW_cAW3zBVXz",
        "outputId": "67239bcb-013a-4c51-b176-c84c7c17d6de"
      },
      "source": [
        "def add_text(int1, int2):         # Das ist die Funktion add_text, die abhängig von ihren beiden Parametern etwas ausgibt\n",
        "    print(int1, \"Liter Wasser hat Lisa mit\", int2, \"mal pumpen gefördert.\" )\n",
        "\n",
        "def kleine_pumpe (wirkungsgrad,pumpvorgaenge):  # Funktion kleine_pumpe berechnet etwas abhängig von zwei Variablen\n",
        "    leistung = wirkungsgrad*pumpvorgaenge       # *Rechenvorgang*\n",
        "    add_text(leistung,pumpvorgaenge)            # kleine_pumpe greift auf Funktion add_text zurück...\n",
        "                                                # ...und übergibt ihr eigene Parameter\n",
        "\n",
        "def grosse_pumpe (geschwindigkeit, pumpvorgaenge):  # Funktion grosse_pumpe berechnet etwas abhängig von zwei Variablen\n",
        "    leistung = (1/geschwindigkeit)*pumpvorgaenge    # *Rechenvorgang*\n",
        "    add_text(leistung,pumpvorgaenge)                # grosse_pumpe greift auf Funktion add_text zurück...\n",
        "                                                    # ...und übergibt ihr eigene Parameter\n",
        "efficiency = 0.45             # drei Variablen werden festgelegt\n",
        "lisa_pumping = 7\n",
        "speed = 0.8\n",
        "\n",
        "kleine_pumpe (efficiency,lisa_pumping)     # kleine pumpe wird mit 2 festgelegten Variablen aufgerufen\n",
        "grosse_pumpe (speed,lisa_pumping)          # grosse pumpe wird mit 2 festgelegten Variablen aufgerufen"
      ],
      "execution_count": null,
      "outputs": [
        {
          "output_type": "stream",
          "name": "stdout",
          "text": [
            "3.15 Liter Wasser hat Lisa mit 7 mal pumpen gefördert.\n",
            "8.75 Liter Wasser hat Lisa mit 7 mal pumpen gefördert.\n"
          ]
        }
      ]
    },
    {
      "cell_type": "markdown",
      "metadata": {
        "id": "UrBs29RkUaqr"
      },
      "source": [
        "Tatsächlich können als übergebene Parameter beim Aufruf von Funktionen auch direkt Funktionen verwendet werden, die entsprechend Werte zurückgeben:"
      ]
    },
    {
      "cell_type": "code",
      "metadata": {
        "colab": {
          "base_uri": "https://localhost:8080/"
        },
        "id": "SLUdVFhYRwkl",
        "outputId": "13d28255-221c-4e10-b3a6-3cdcbaf0a07a"
      },
      "source": [
        "def multiply(a,b):    # Die Funktion multiply\n",
        "    return (a*b)        # gibt das Produkt von a und b zurück\n",
        "\n",
        "def add(a,b):         # Die Funktion add\n",
        "    return a+b          # gibt die Summe von a und b zurück\n",
        "\n",
        "multiply(add(5,2),3)  #multiply wird mit dem Parameter add(5,2) für a und dem Parameter 3 für b aufgerufen."
      ],
      "execution_count": null,
      "outputs": [
        {
          "output_type": "execute_result",
          "data": {
            "text/plain": [
              "21"
            ]
          },
          "metadata": {},
          "execution_count": 33
        }
      ]
    },
    {
      "cell_type": "markdown",
      "metadata": {
        "id": "s6rb3OiSUpQ0"
      },
      "source": [
        "Weiterhin können im Funktionenrumpf eigene Funktionen der Funktion angelegt werden, die (wie die Parameter und Variablen) nur lokal definiert sind.\n",
        "\n",
        "Sowas verwenden wir in diesem Kurs zwar weniger, zeigt aber, wie flexibel Funktionen eingesetzt werden können:"
      ]
    },
    {
      "cell_type": "code",
      "metadata": {
        "colab": {
          "base_uri": "https://localhost:8080/",
          "height": 249
        },
        "id": "d19Q40p-SOxy",
        "outputId": "a3bb8b2c-2686-4144-f2b7-6fa1ce99879b"
      },
      "source": [
        "def tolle_funktion ():\n",
        "    def innere_funktion():\n",
        "        print(\", wo ich alles sein kann, was mir gefaellt :-)\")\n",
        "      \n",
        "    print(\"Ich lebe in meiner eigenen Funktionenwelt\", end=\"\")\n",
        "    innere_funktion()\n",
        "\n",
        "tolle_funktion()\n",
        "innere_funktion()      #ist nur eine lokale Funktion, somit nicht global definiert und nicht aufrufbar"
      ],
      "execution_count": null,
      "outputs": [
        {
          "output_type": "stream",
          "name": "stdout",
          "text": [
            "Ich lebe in meiner eigenen Funktionenwelt\n",
            ", wo ich alles sein kann, was mir gefaellt :-)\n"
          ]
        },
        {
          "output_type": "error",
          "ename": "NameError",
          "evalue": "ignored",
          "traceback": [
            "\u001b[0;31m---------------------------------------------------------------------------\u001b[0m",
            "\u001b[0;31mNameError\u001b[0m                                 Traceback (most recent call last)",
            "\u001b[0;32m<ipython-input-57-9cdbe9681e0a>\u001b[0m in \u001b[0;36m<module>\u001b[0;34m()\u001b[0m\n\u001b[1;32m      6\u001b[0m \u001b[0;34m\u001b[0m\u001b[0m\n\u001b[1;32m      7\u001b[0m \u001b[0mtolle_funktion\u001b[0m\u001b[0;34m(\u001b[0m\u001b[0;34m)\u001b[0m\u001b[0;34m\u001b[0m\u001b[0;34m\u001b[0m\u001b[0m\n\u001b[0;32m----> 8\u001b[0;31m \u001b[0minnere_funktion\u001b[0m\u001b[0;34m(\u001b[0m\u001b[0;34m)\u001b[0m      \u001b[0;31m#ist nur eine lokale Funktion, somit nicht global definiert und nicht aufrufbar\u001b[0m\u001b[0;34m\u001b[0m\u001b[0;34m\u001b[0m\u001b[0m\n\u001b[0m",
            "\u001b[0;31mNameError\u001b[0m: name 'innere_funktion' is not defined"
          ]
        }
      ]
    },
    {
      "cell_type": "markdown",
      "metadata": {
        "id": "rzHfzT5LpZtN"
      },
      "source": [
        "# Iteration vs. Rekursion\n",
        "\n",
        "Mit Schleifen haben wir bereits eine Möglichkeit kennengelernt, mit der sich immer wiederholende Operationen durchführen lassen, ohne riesige Mengen an Code zu benötigen.\n",
        "\n",
        "Wollen wir beispielsweise die Fakultät einer Zahl $n$ berechnen, die als $n! = n \\cdot (n-1) \\cdot (n-2) \\cdot \\ldots \\cdot 3 \\cdot 2 \\cdot 1$ definiert ist, lässt sich das einerseits durch folgende (aufsteigende) ```for```-Schleife realiseren:\n"
      ]
    },
    {
      "cell_type": "code",
      "metadata": {
        "colab": {
          "base_uri": "https://localhost:8080/"
        },
        "id": "FxkKqQ1u0sFf",
        "outputId": "83d17ccb-7727-422e-fee4-20962ce20cc7"
      },
      "source": [
        "# iterative Implementierung\n",
        "def fakultaet_it(n):\n",
        "    ergebnis = 1                # Es gilt 0! = 1! = 1.\n",
        "    for i in range(2,n+1):\n",
        "        ergebnis *= i\n",
        "    return ergebnis\n",
        "\n",
        "fakultaet_it(4)"
      ],
      "execution_count": null,
      "outputs": [
        {
          "output_type": "execute_result",
          "data": {
            "text/plain": [
              "24"
            ]
          },
          "metadata": {},
          "execution_count": 27
        }
      ]
    },
    {
      "cell_type": "markdown",
      "metadata": {
        "id": "FkC8U5iY6vgl"
      },
      "source": [
        "Andererseits können wir aber auch die eben erwähnte Verschachtelung von Funktionen verwenden; hier in dem Spezialfall, dass sich die **Funktion selbst im ihrem Funktionsrumpf aufruft**. Das bezeichnet man als **Rekursion**.\n",
        "\n",
        "Dabei reduziert sich mit jedem Aufruf das zu lösende Problem, bis die **Abbruchbedingung** erreicht wird, die die rekursive Funktion schließlich terminieren lässt. Anderenfalls entspräche sie nämlich einer Endlosschleife!\n",
        "\n",
        "Entsprechend berechnet die Funktion ```fakultaet_rek(n)``` also ebenfalls die Fakultät der übergebenen Zahl, allerdings folgt sie dem Schema $n! = n \\cdot (n-1)!$ mit der Abbruchbedingung $0! = 1$, die per ```if```-Bedingung bei jedem Aufruf geprüft wird."
      ]
    },
    {
      "cell_type": "code",
      "metadata": {
        "colab": {
          "base_uri": "https://localhost:8080/"
        },
        "id": "DfHmN9fOz5PB",
        "outputId": "0690eb08-3ddf-41b2-ca6c-bec6e1b19f29"
      },
      "source": [
        "# rekursive Implementierung\n",
        "def fakultaet_rek(n):\n",
        "    if n == 0:                          # Abbruchbedingung\n",
        "        return 1\n",
        "    else:\n",
        "        return n * fakultaet_rek(n-1)   # Aufruf mit sich selbst\n",
        "\n",
        "fakultaet_rek(4)"
      ],
      "execution_count": null,
      "outputs": [
        {
          "output_type": "execute_result",
          "data": {
            "text/plain": [
              "24"
            ]
          },
          "metadata": {},
          "execution_count": 31
        }
      ]
    },
    {
      "cell_type": "markdown",
      "metadata": {
        "id": "kf32dcW_CnUf"
      },
      "source": [
        "Zum besseren Verständnis der Funktionsweise wurde die Definition hier um zwei ```print```-Befehle ergänzt.\n",
        "\n",
        "Offensichtlich muss das Zwischenergebnis des vorherigen Aufrufs für den folgenden zugänglich sein, es wird also für jeden Aufruf ein jeweils neuer Satz lokaler Variablen angelegt, sodass insgesamt viel Speicherplatz benötigt wird!"
      ]
    },
    {
      "cell_type": "code",
      "metadata": {
        "colab": {
          "base_uri": "https://localhost:8080/"
        },
        "id": "nBPNE9TR2W2C",
        "outputId": "c20bdbbc-f07a-4312-eaae-26f9f0a3888f"
      },
      "source": [
        "def fakultaet(n):\n",
        "    print(\"Funktionsaufruf mit n =\", n)\n",
        "    if n == 0:\n",
        "        return 1\n",
        "    else:\n",
        "        lsg = n * fakultaet(n-1)\n",
        "        print(\"Zwischenergebnis:\", n, \"* \" + str(n-1) + \"! =\", lsg)\n",
        "        return lsg\n",
        "\n",
        "fakultaet(4)"
      ],
      "execution_count": null,
      "outputs": [
        {
          "output_type": "stream",
          "name": "stdout",
          "text": [
            "Funktionsaufruf mit n = 4\n",
            "Funktionsaufruf mit n = 3\n",
            "Funktionsaufruf mit n = 2\n",
            "Funktionsaufruf mit n = 1\n",
            "Funktionsaufruf mit n = 0\n",
            "Zwischenergebnis: 1 * 0! = 1\n",
            "Zwischenergebnis: 2 * 1! = 2\n",
            "Zwischenergebnis: 3 * 2! = 6\n",
            "Zwischenergebnis: 4 * 3! = 24\n"
          ]
        },
        {
          "output_type": "execute_result",
          "data": {
            "text/plain": [
              "24"
            ]
          },
          "metadata": {},
          "execution_count": 32
        }
      ]
    },
    {
      "cell_type": "markdown",
      "metadata": {
        "id": "vphxY55-pc_p"
      },
      "source": [
        "# Generatoren\n",
        "Generatoren sind spezielle Funktionen, die statt ```return``` die Anweisung ```yield``` benutzen. Der Aufruf der eines Generators initialisiert den Generator, sodass der Rückgabewert ein iterierbares Objekt ist. \n",
        "\n",
        "Mit dem ```next```-Befehl können wir den Generator jetzt ausführen. Hierbei durchläuft Python den Code innerhalb des Generators und stoppt, sobald er eine Zeile mit ```yield``` erreicht. Danach \"wartet\" der Generator, bis er erneut mit ```next``` aufgerufen wird."
      ]
    },
    {
      "cell_type": "code",
      "metadata": {
        "colab": {
          "base_uri": "https://localhost:8080/",
          "height": 321
        },
        "id": "TfIRkQ4B1-3j",
        "outputId": "b20ec948-088d-4448-b26e-bd95022b9a63"
      },
      "source": [
        "def abcde():\n",
        "    yield \"a\"\n",
        "    yield \"b\"\n",
        "    yield \"c\"\n",
        "    yield \"d\"\n",
        "    yield \"e\"\n",
        "\n",
        "new_gen = abcde()\n",
        "print(new_gen)\n",
        "print(next(new_gen))\n",
        "print(next(new_gen))\n",
        "print(next(new_gen))\n",
        "print(next(new_gen))\n",
        "print(next(new_gen))\n",
        "print(next(new_gen))"
      ],
      "execution_count": null,
      "outputs": [
        {
          "output_type": "stream",
          "name": "stdout",
          "text": [
            "<generator object abcde at 0x7ff80c7fcdd0>\n",
            "a\n",
            "b\n",
            "c\n",
            "d\n",
            "e\n"
          ]
        },
        {
          "output_type": "error",
          "ename": "StopIteration",
          "evalue": "ignored",
          "traceback": [
            "\u001b[0;31m---------------------------------------------------------------------------\u001b[0m",
            "\u001b[0;31mStopIteration\u001b[0m                             Traceback (most recent call last)",
            "\u001b[0;32m<ipython-input-8-ffd6447ad8fc>\u001b[0m in \u001b[0;36m<module>\u001b[0;34m()\u001b[0m\n\u001b[1;32m     13\u001b[0m \u001b[0mprint\u001b[0m\u001b[0;34m(\u001b[0m\u001b[0mnext\u001b[0m\u001b[0;34m(\u001b[0m\u001b[0mnew_gen\u001b[0m\u001b[0;34m)\u001b[0m\u001b[0;34m)\u001b[0m\u001b[0;34m\u001b[0m\u001b[0;34m\u001b[0m\u001b[0m\n\u001b[1;32m     14\u001b[0m \u001b[0mprint\u001b[0m\u001b[0;34m(\u001b[0m\u001b[0mnext\u001b[0m\u001b[0;34m(\u001b[0m\u001b[0mnew_gen\u001b[0m\u001b[0;34m)\u001b[0m\u001b[0;34m)\u001b[0m\u001b[0;34m\u001b[0m\u001b[0;34m\u001b[0m\u001b[0m\n\u001b[0;32m---> 15\u001b[0;31m \u001b[0mprint\u001b[0m\u001b[0;34m(\u001b[0m\u001b[0mnext\u001b[0m\u001b[0;34m(\u001b[0m\u001b[0mnew_gen\u001b[0m\u001b[0;34m)\u001b[0m\u001b[0;34m)\u001b[0m\u001b[0;34m\u001b[0m\u001b[0;34m\u001b[0m\u001b[0m\n\u001b[0m",
            "\u001b[0;31mStopIteration\u001b[0m: "
          ]
        }
      ]
    },
    {
      "cell_type": "markdown",
      "metadata": {
        "id": "Z_dV4Vif2v58"
      },
      "source": [
        "Wie der Name schon sagt, können Generatoren Werte \"generieren\". Die Werte können (ähnlich wie bei Listen und anderen iterierbaren Objekten) in einer for-Schleife ausgelesen werden."
      ]
    },
    {
      "cell_type": "code",
      "metadata": {
        "colab": {
          "base_uri": "https://localhost:8080/"
        },
        "id": "khSmoYrT2n7f",
        "outputId": "f398932c-34ee-4a2d-973d-6d85fe731c27"
      },
      "source": [
        "new_gen = abcde()\n",
        "for buchstabe in new_gen:\n",
        "    print(buchstabe)"
      ],
      "execution_count": null,
      "outputs": [
        {
          "output_type": "stream",
          "name": "stdout",
          "text": [
            "a\n",
            "b\n",
            "c\n",
            "d\n",
            "e\n"
          ]
        }
      ]
    },
    {
      "cell_type": "markdown",
      "metadata": {
        "id": "S_SHlBVS4YcH"
      },
      "source": [
        "Aber wofür benötigen wir überhaupt Generatoren? Sind das nicht einfach Funktionen, die unnötig kompliziert aufgerufen werden?\n",
        "\n",
        "FAST!\n",
        "\n",
        "Generatoren berechnen den Output schrittweise, sodass nicht so viel Speicher verwendet werden muss. Gerade bei sehr großen Datenmengen lohnt es sich, einen Generator statt einer normalen Funktion zu benutzen."
      ]
    },
    {
      "cell_type": "code",
      "metadata": {
        "colab": {
          "base_uri": "https://localhost:8080/"
        },
        "id": "TUYM3Hxs4v8n",
        "outputId": "46dc452a-6180-4c19-b855-232806a119d6"
      },
      "source": [
        "from sys import getsizeof\n",
        "\n",
        "def funktion(n):\n",
        "    liste = []\n",
        "    for i in range(n):\n",
        "        liste.append(i**2)\n",
        "    return liste\n",
        "\n",
        "def generator(n):\n",
        "    for i in range(n):\n",
        "        yield i**2\n",
        "\n",
        "liste_fun = funktion(1_000_000)\n",
        "print(getsizeof(liste_fun))\n",
        "liste_gen = generator(1_000_000)\n",
        "print(getsizeof(liste_gen))\n"
      ],
      "execution_count": null,
      "outputs": [
        {
          "output_type": "stream",
          "name": "stdout",
          "text": [
            "8697472\n",
            "128\n"
          ]
        }
      ]
    },
    {
      "cell_type": "markdown",
      "metadata": {
        "id": "CVZ4U5pA-P9x"
      },
      "source": [
        "Ein weiterer Vorteil an Generatoren ist, dass sie beliebig lange Listen von Werten generieren können, ohne dass die Listen gespeichert werden müssen! Im nächsten Codeblock seht ihr einen Generator für Fibonacci-Zahlen, der unendlich große Zahlen berechnen kann."
      ]
    },
    {
      "cell_type": "code",
      "metadata": {
        "colab": {
          "base_uri": "https://localhost:8080/"
        },
        "id": "SC8gCjZd57l9",
        "outputId": "bae3ea51-b8f5-4cee-b95d-36f108b0c115"
      },
      "source": [
        "# Unendlicher Generator\n",
        "def fibonacci(a=0, b=1):\n",
        "    while True:\n",
        "        yield a\n",
        "        a, b = b, a+b\n",
        "\n",
        "fib = fibonacci(a=0, b=1)\n",
        "\n",
        "for _ in range(10):\n",
        "    print(next(fib))\n"
      ],
      "execution_count": null,
      "outputs": [
        {
          "output_type": "stream",
          "name": "stdout",
          "text": [
            "0\n",
            "1\n",
            "1\n",
            "2\n",
            "3\n",
            "5\n",
            "8\n",
            "13\n",
            "21\n",
            "34\n"
          ]
        }
      ]
    },
    {
      "cell_type": "markdown",
      "metadata": {
        "id": "CZfP8IEVLiyJ"
      },
      "source": [
        "# Übungen\n",
        "\n",
        "## Übung 1\n",
        "Im Folgenden siehst du die Funktion ```passwort_check```, die von der Funktion ```account``` für eine Passwortabfrage aufgerufen wird.\n",
        "\n",
        "Versuche im Code nachzuvollziehen, wohin welche *Parameter* übergeben werden.\n",
        "Rufe danach die Funktion ```account``` mit den Parametern *name* und *password* für jeden vorhandenen Accountnamen mit dem zugehörigen Passwort einmal auf.\n",
        "\n",
        "Versuche dabei möglichst wenig auszuprobieren und möglichst viel durch das Durschauen des Codes herauszufinden.\n",
        "\n",
        "***Achtung:***    \n",
        "*Beachte bevor du loslegst unbedingt, was für ein Datentyp (boolean, string, int, usw.) die Parameter von ```account``` erwarten!*\n",
        "\n",
        "Viel Spaß :-)"
      ]
    },
    {
      "cell_type": "code",
      "metadata": {
        "id": "GB9z6m3jiRzw"
      },
      "source": [
        "def passwort_check (key,password):\n",
        "    if key==31:\n",
        "        if password == \"tante\":\n",
        "            return True\n",
        "    if password == \"server\":\n",
        "        if key==52:\n",
        "            return True\n",
        "    if key==55 and password == \"programm\":\n",
        "        return True\n",
        "\n",
        "def account(name,password):\n",
        "    key=0\n",
        "    if name==\"Anna\":\n",
        "        key=55\n",
        "    elif name==\"Bob\":\n",
        "        key=31\n",
        "    elif name==\"Carla\":\n",
        "        key=52\n",
        "    else:\n",
        "        print(\"Name nicht vorhanden\")\n",
        "\n",
        "    if key != 0 and passwort_check (key,password):\n",
        "        print(\"Willkommen\", name, \"| Du hast jetzt Zugriff auf dein Konto.\")\n",
        "    elif key !=0:\n",
        "        print(\"Sorry\", name + \", aber dein Passwort ist inkorrekt!\")\n",
        "\n",
        "# Rufe hier die Funktion account(name, passwort) mit den richtigen Accountnamen/Passwort-Kombinationen auf\n",
        "\n"
      ],
      "execution_count": null,
      "outputs": []
    },
    {
      "cell_type": "markdown",
      "metadata": {
        "id": "cF8EXBdDLihY"
      },
      "source": [
        "## Übung 2\n",
        "\n",
        "Lege eine Funktion *multiply_and_double* mit zwei Parametern *zahl1*, *zahl2* an. Diese soll die beiden Parameter und die Zahl 2 multiplizieren.\n",
        "Das Ergebnis soll zurückgegeben werden; verwende dazu den ```return```-Befehl.\n",
        "\n",
        "Lege eine zweite Funktion namens *something* an, die zwei Parameter *int1* und *int2* beinhaltet. Im Funktionenrumpf sollen erst die beiden Parameter quadriert und danach addiert werden. Zu dieser Summe soll nun die zurückgegebene Ausgabe von *multiply_and_double* mit denselben zwei Parametern (*int1* und *int2*) der Funktion *something* addiert und anschließend durch den ```print```-Befehl ausgegeben werden.\n",
        "\n",
        "Rufe die Funktion *something* danach insgesamt viermal mit den folgenden Parametern auf:\n",
        "\n",
        ">I) 1 und 2  \n",
        "\n",
        ">II) 1 und 3\n",
        "\n",
        ">III) 3 und 1\n",
        "\n",
        ">IV) 3 und 2\n",
        "\n",
        "*Kannst du erkennen, was die Funktion ```something``` berechnet?*\n",
        "\n"
      ]
    },
    {
      "cell_type": "markdown",
      "metadata": {
        "id": "pc2t7tKfFiHL"
      },
      "source": [
        "## Übung 3\n",
        "\n",
        "Nun soll eine rekursive Funktion ```fib(n)``` definiert werden, die die n-te Fibonacci-Zahl zurückgibt. \n",
        "\n",
        "Die ersten Fibonacci-Zahlen sind $0, 1, 1, 2, 3, 5, 8, 13, 21 \\ldots$, d.h. es gilt ```fib(n) = fib(n-2) + fib(n-1)``` mit ```fib(0) = 0``` und ```fib(1) = 1```.\n",
        "\n",
        "Denke an die Abbruchbedingung und teste die Funktion für $n = 9$."
      ]
    },
    {
      "cell_type": "code",
      "metadata": {
        "id": "R32kmGOOHyTw"
      },
      "source": [
        ""
      ],
      "execution_count": null,
      "outputs": []
    },
    {
      "cell_type": "markdown",
      "metadata": {
        "id": "HvgcCZ_7KEmX"
      },
      "source": [
        "## Übung 4\n",
        "\n",
        "Was berechnet die rekursiv definierte Funktion ```zahlen(a,b)```, die für die Parameter ```a``` und ```b``` zwei ganze Zahlen erwartet? \n",
        "\n",
        "Teste sie mit einigen Aufrufen aus und ergänze ggf. einige ```print```-Befehle, um die Funktionsweise zu verstehen.\n",
        "\n",
        "Tipp: Der Algorithmus stammt von einem bekannten griechischen Mathematiker :-) "
      ]
    },
    {
      "cell_type": "code",
      "metadata": {
        "colab": {
          "base_uri": "https://localhost:8080/"
        },
        "id": "Pjy3UHinKlkk",
        "outputId": "380027f5-8a08-48d2-e5dd-59c913b0cb47"
      },
      "source": [
        "def zahlen(a, b):\n",
        "    if b == 0: \n",
        "        return a\n",
        "    else:\n",
        "        return zahlen(b, a % b)\n",
        "\n",
        "zahlen(13,71)"
      ],
      "execution_count": null,
      "outputs": [
        {
          "output_type": "execute_result",
          "data": {
            "text/plain": [
              "1"
            ]
          },
          "metadata": {},
          "execution_count": 41
        }
      ]
    },
    {
      "cell_type": "markdown",
      "metadata": {
        "id": "2qZQ4yP17IRc"
      },
      "source": [
        "## Übung 5\n",
        "\n",
        "Erstelle einen Generator, der eine Alternative zur ```range```-Funktion bietet. Der Generator soll einen Startwert (Default 0), einen Endwert und eine Schrittweite (Default 1) übergeben bekommen.\n",
        "\n",
        "- ```range_generator(10, start=1, step=3)``` soll die Zahlenfolge 1, 4, 7 zurückgeben.\n",
        "- ```range_generator(5)``` soll die Zahlenfolge 0, 1, 2, 3, 4 zurückgeben\n",
        "- ```range_generator(0, start=10, step=-4)``` soll die Zahlenfolge 10, 6, 2 zurückgeben.\n",
        "\n",
        "**ACHTUNG**: Wenn du in einer Endlossschleife landest, kannst du deinen Code mit **STRG+C** stoppen!\n",
        "\n",
        "Bonus: Stelle sicher, dass dein Generator niemals in einer Endlosschleife landet."
      ]
    },
    {
      "cell_type": "code",
      "metadata": {
        "id": "xdCvtaLV7Hwd"
      },
      "source": [
        "def range_generator():\n",
        "    pass\n",
        "\n",
        "for i in range_generator(10, start=1, step=3):\n",
        "    print(i)\n",
        "\n",
        "for i in range_generator(5):\n",
        "    print(i)\n",
        "\n",
        "for i in range_generator(0, start=10, step=-4):\n",
        "    print(i)"
      ],
      "execution_count": null,
      "outputs": []
    }
  ]
}