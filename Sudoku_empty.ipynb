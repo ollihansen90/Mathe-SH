{
  "nbformat": 4,
  "nbformat_minor": 0,
  "metadata": {
    "colab": {
      "provenance": [],
      "authorship_tag": "ABX9TyP6kTiKkrTMSgk5bpc1qpGl",
      "include_colab_link": true
    },
    "kernelspec": {
      "name": "python3",
      "display_name": "Python 3"
    },
    "language_info": {
      "name": "python"
    }
  },
  "cells": [
    {
      "cell_type": "markdown",
      "metadata": {
        "id": "view-in-github",
        "colab_type": "text"
      },
      "source": [
        "<a href=\"https://colab.research.google.com/github/ollihansen90/Mathe-SH/blob/main/Sudoku_empty.ipynb\" target=\"_parent\"><img src=\"https://colab.research.google.com/assets/colab-badge.svg\" alt=\"Open In Colab\"/></a>"
      ]
    },
    {
      "cell_type": "markdown",
      "source": [
        "## Fragen?\n",
        "Solltet ihr Fragen zum Code oder Probleme mit Colab haben, schickt uns gerne eine Mail:\n",
        "\n",
        "*   h.hansen@uni-luebeck.de\n",
        "*   friederike.meissner@student.uni-luebeck.de\n",
        "*   dustin.haschke@student.uni-luebeck.de\n",
        "\n",
        "# Sudoku\n",
        "\n",
        "**Von ChatGPT:** \"Sudoku ist ein Zahlenrätsel, bei dem ein 9x9-Gitter in neun 3x3-Untergrids unterteilt ist. Das Ziel ist es, alle Felder so zu füllen, dass in jeder Zeile, jeder Spalte und jedem Untergrid jede Zahl von 1 bis 9 genau einmal vorkommt. Das Rätsel beginnt mit einigen vorgegebenen Zahlen, und Sie müssen die leeren Felder ausfüllen, indem Sie logische Schlussfolgerungen und Eliminierungen verwenden. Es erfordert keine mathematischen Berechnungen, sondern hauptsächlich logisches Denken und Geduld.\"\n",
        "\n",
        "Diese Zusammenfassung von ChatGPT ist schon ziemlich gut! ChatGPT liefert uns hier keinen Python-Code zum Erstellen und Lösen von Sudokus, aber genau das wollen wir in diesem Notebook machen.\n",
        "\n",
        "Dieses Notebook ist in Unteraufgaben aufgeteilt, mit denen wir schrittweise zunächst ein gelöstes Sudoku einlesen und darstellen, um darauf aufbauend ein ungelöstes Sudoku zu erstellen. Der Algorithmus sollte in der Lage sein, Tausende unterschiedliche Sudokus zu erstellen! Im Anschluss soll ein weiterer Algorithmus entwickelt werden, der das soeben erstellte Sudoku (sowie \"wilde\" Sudokus, wie wir sie in Zeitungen finden) lösen kann.\n",
        "\n",
        "**Achtung:** Es gibt viele verschiedene Varianten von Sudoku! Wir wollen hier nur die klassische Variante behandeln, wie ChatGPT sie oben beschrieben hat.\n",
        "\n",
        "*Hinweis:* Dieses Notebook wird im Laufe der nächsten Woche schrittweise aufgebaut und wird entsprechend aktualisiert. Mit anderen Worten: Wenn das Notebook unvollständig wirkt, ist das genau so gewollt."
      ],
      "metadata": {
        "id": "KGv4a-ikkIPK"
      }
    },
    {
      "cell_type": "markdown",
      "source": [
        "## Aufgabe 1: \"Gelöstes\" Sudoku einlesen (leicht)\n",
        "Im folgenden Codeblock wird ein gelöstes Sudoku vorgegeben. Es handelt sich dabei um einen String mit neun Spalten, in denen jeweils neun Zahlen stehen.\n",
        "\n",
        "Schreibe eine Funktion `sudoku2list()`, die aus dem String mit neun Spalten eine Liste mit neun Strings erstellt! In jedem Listeneintrag soll hinterher also eine Zeile des vorherigen Strings stehen. Die Funktion erhält also ein beliebiges Sudoku als String (hier wäre das `sudoku_string`) und wandelt es in eine Liste von Zeilen um.\n",
        "\n",
        "*Hinweis:* Mit der `split()`-Funktion kannst du Strings auftrennen! Der Zeilenumbruch ist der Character `\\n`."
      ],
      "metadata": {
        "id": "99UZTVqxkWs9"
      }
    },
    {
      "cell_type": "code",
      "source": [
        "sudoku_string = \"\"\"534678912\n",
        "672195348\n",
        "198342567\n",
        "859761423\n",
        "426853791\n",
        "713924856\n",
        "961537284\n",
        "287419635\n",
        "345286179\"\"\"\n",
        "\n",
        "def sudoku2list(text):\n",
        "    return text\n",
        "sudoku = sudoku2list(sudoku_string)\n"
      ],
      "metadata": {
        "id": "x4l50f67kof9"
      },
      "execution_count": null,
      "outputs": []
    },
    {
      "cell_type": "markdown",
      "source": [
        "## Aufgabe 2: Sudoku plotten (mittelschwer bis schwer)\n",
        "Nun soll das Sudoku ausgegeben werden können! Überlege dir ein sinnvolles Design, wie das Sudoku auf der Konsole aussehen könnte. Im Optimalfall kann man sogar die 3x3-Blöcke erkennen:\n",
        "\n",
        "```\n",
        "+---+---+---+---+---+---+---+---+---+\n",
        "| 5   3   4 | 6   7   8 | 9   1   2 |\n",
        "+   +   +   +   +   +   +   +   +   +\n",
        "| 6   7   2 | 1   9   5 | 3   4   8 |\n",
        "+   +   +   +   +   +   +   +   +   +\n",
        "| 1   9   8 | 3   4   2 | 5   6   7 |\n",
        "+---+---+---+---+---+---+---+---+---+\n",
        "| 8   5   9 | 7   6   1 | 4   2   3 |\n",
        "+   +   +   +   +   +   +   +   +   +\n",
        "| 4   2   6 | 8   5   3 | 7   9   1 |\n",
        "+   +   +   +   +   +   +   +   +   +\n",
        "| 7   1   3 | 9   2   4 | 8   5   6 |\n",
        "+---+---+---+---+---+---+---+---+---+\n",
        "| 9   6   1 | 5   3   7 | 2   8   4 |\n",
        "+   +   +   +   +   +   +   +   +   +\n",
        "| 2   8   7 | 4   1   9 | 6   3   5 |\n",
        "+   +   +   +   +   +   +   +   +   +\n",
        "| 3   4   5 | 2   8   6 | 1   7   9 |\n",
        "+---+---+---+---+---+---+---+---+---+\n",
        "```\n",
        "\n",
        "Schreibe eine Funktion `plotte()`, die die Liste von Zeilen erhält und das Sudoku auf der Konsole ausgibt."
      ],
      "metadata": {
        "id": "2UYpfXIXlbJB"
      }
    },
    {
      "cell_type": "code",
      "source": [
        "def plotte(sudoku):\n",
        "    # Das hier ist nur ein Beispiel\n",
        "    for zeile in sudoku:\n",
        "        z = \"\"\n",
        "        for zeichen in zeile:\n",
        "            z = z+zeichen+\"|\"\n",
        "        print(z)\n",
        "        print(9*\"-+\")\n",
        "\n",
        "plotte(sudoku)"
      ],
      "metadata": {
        "id": "UhP1sOL6mpL-"
      },
      "execution_count": null,
      "outputs": []
    },
    {
      "cell_type": "markdown",
      "source": [
        "## Aufgabe 3: Zufällige Einträge löschen (mittelschwer)\n",
        "Nachdem wir nun ein gelöstes Sudoku eingelesen und geplottet haben, soll nun ein Algorithmus entwickelt werden, der zufällige Einträge des Sudokus löscht, damit wir sie selbst errätseln können!\n",
        "\n",
        "### Aufgabe 3.1: Einen bestimmtes Feld löschen (mittelschwer)\n",
        "Schreibe eine Funktion `loesche_wert`, die das Sudoku in Form einer Liste von Zeilen, sowie einen Index erhält. Die Funktion soll ein Sudoku zurückgeben, in dem das Feld genau dieses Indexes leer ist.\n",
        "\n",
        "Wir indizierendas Sudoku, indem wir einfach alle Werte von oben links nach unten rechts durchnummerieren. In der nullten Zeile (ganz oben) stehen also die Indizes 0, 1, 2, 3, 4, 5, 6, 7 und 8, in (beispielsweise) der sechsten Zeile stehen die Indizes 54, 55, 56, 57, 58, 59, 60, 61, und 62. Der Aufruf `loesche_wert(sudoku, 24)` würde also ein Sudoku zurückgeben, in dem in der zweiten Zeile und sechsten Spalte ein leeres Feld ist (wenn man bei 0 anfängt zu zählen).\n"
      ],
      "metadata": {
        "id": "HNDQymI1qNTY"
      }
    },
    {
      "cell_type": "code",
      "source": [
        "def loesche_wert(sudoku, idx):\n",
        "    s = sudoku.copy()\n",
        "    return s\n",
        "\n",
        "plotte(loesche_wert(sudoku, 24))"
      ],
      "metadata": {
        "id": "sOvitvQbK042"
      },
      "execution_count": null,
      "outputs": []
    },
    {
      "cell_type": "markdown",
      "source": [
        "### Aufgabe 3.2: Liste mit Indizes erstellen\n",
        "Im Folgenden möchten wir zufällige Felder leeren. Ziel ist es, dass wir eine Funktion haben, der wir ein gelöstes Sudoku und eine Anzahl zu löschender Felder übergeben und zufällig Felder fehlen. Damit wir keine Felder \"doppelt\" leeren, brauchen wir zunächst eine Funktion, die eine Liste von Indizes erstellt, in der kein Index doppelt vorkommt.\n",
        "\n",
        "Schreibe eine Funktion `generiere_indizes()`, die eine Anzahl `n` erhält und eine Liste von `n` unterschiedlichen Zahlen zwischen 0 und 80 zurückgibt.\n",
        "\n",
        "*Hinweis:* Mit dem Package `random` kannst du Zufallszahlen generieren!"
      ],
      "metadata": {
        "id": "jOyYJjnQJ761"
      }
    },
    {
      "cell_type": "code",
      "source": [
        "from random import randint\n",
        "\n",
        "def generiere_indizes(n=10, minwert=0, maxwert=80):\n",
        "    liste = []\n",
        "    return liste\n",
        "\n",
        "print(generiere_indizes(9,1,9))"
      ],
      "metadata": {
        "id": "kc3juxDcMQa4"
      },
      "execution_count": null,
      "outputs": []
    },
    {
      "cell_type": "markdown",
      "source": [
        "### Aufgabe 3.3: Generiere geleertes Sudoku\n",
        "Zum Abschluss benötigen wir nur noch eine Funktion `loesche_werte()`, die eine bestimmte Anzahl zufälliger Felder löscht.\n",
        "\n",
        "Schreibe eine Funktion `loesche_werte`, die ein Sudoku und eine Anzahl `n` erhält. Die Funktion soll zunächst eine Liste von `n` Indizes erstellen (hierfür kannst du die Funktion aus 3.2 nutzen) und die entsprechenden Felder leeren (hierfür brauchst du die Funktion aus 3.1)."
      ],
      "metadata": {
        "id": "sOSOcJQtNn4P"
      }
    },
    {
      "cell_type": "code",
      "source": [
        "def loesche_werte(sudoku, n=40):\n",
        "    s = sudoku.copy()\n",
        "    return s\n",
        "\n",
        "plotte(loesche_werte(sudoku))"
      ],
      "metadata": {
        "id": "jFqJqc1hQIxi"
      },
      "execution_count": null,
      "outputs": []
    },
    {
      "cell_type": "markdown",
      "source": [
        "## Aufgabe 4: Zahlen tauschen (mittelschwer bis schwer)\n",
        "Wenn du Aufgabe 3 lösen konntest, haben wir jetzt einen Generator für Sudokus entwickelt! Jedes der Sudokus ist lösbar (das heißt, es gibt eine Lösung, sie muss allerdings nicht eindeutig sein), sodass wir jetzt ein Buch mit Sudokus erstellen könnten.\n",
        "\n",
        "Leider sind die Sudokus immer alle gleich... Wir stellen schnell fest, dass oben links immer eine 5 steht, unten rechts ist immer eine 9 und so weiter. Sobald wir das Sudoku ein mal gelöst haben, haben wir also direkt eine Lösung für unser ganzes Rätselbuch.\n",
        "\n",
        "Dieses Problem können wir umgehen, indem wir einfach zufällige Einträge tauschen! Wir tauschen beispielsweise alle Einsen mit Fünfen und alle Siebenen mit Zweien. Schon haben wir einen Sudoku-Generator, der (auf den ersten Blick) tausende Sudokus produzieren kann!\n",
        "\n",
        "Schreibe eine Funktion `tausche_werte`, der ein Sudoku als Liste von Zeilen erhält und dieses dann zufällig durchtauscht. Achte dabei dringend darauf, dass immer **alle** Einsen mit Neuen getauscht werden (zum Beispiel).\n",
        "\n",
        "*Hinweis:* Die Funktion `replace()` kann in einem String zwei Zeichen tauschen. Auch hier solltest du wieder mit dem `random`-Package arbeiten."
      ],
      "metadata": {
        "id": "NGrS4mJtr_NI"
      }
    },
    {
      "cell_type": "code",
      "source": [
        "def tausche_werte(sudoku):\n",
        "    s = sudoku.copy()\n",
        "    return s\n",
        "\n",
        "plotte(sudoku)\n",
        "plotte(tausche_werte(sudoku))"
      ],
      "metadata": {
        "id": "gw-laSCgtpEx"
      },
      "execution_count": null,
      "outputs": []
    },
    {
      "cell_type": "markdown",
      "source": [
        "## Aufgabe 5: Zeilen und Spalten tauschen (mittelschwer bis schwer)\n",
        "Es ist soweit! Wir haben FAST einen guten Generator für Sudokus gebaut, der wahnsinnig viele Sudokus erstellen kann!\n",
        "\n",
        "Es gibt nur noch ein ganz fatales Problem: Aktuell haben alle Sudokus dasselbe \"Muster\". Stellen wir uns vor, wir haben ein Sudoku generier, in dem alle Fünfen durch Vieren ausgetauscht wurden. Oben links steht nun also eine 4 im Sudoku. Jetzt wissen wir aber genau, wo die anderen Vieren stehen müssen! Nämlich beispielsweise in Zeile 1 und Spalte 5 (wenn wir bei 0 anfangen zu zählen) oder in Zeile 3 und Spalte 1. Das wird leider sehr schnell sehr langsam, da die größte Herausforderung wäre, ein Mal alle Muster auswendig zu lernen.\n",
        "\n",
        "Der Trick ist nun also, dass wir jeweils Zeilen und Spalten tauschen, ohne dass das Sudoku weiterhin lösbar ist.\n",
        "\n",
        "### Aufgabe 5.1: Das Sudoku transponieren\n",
        "In dieser Teilaufgabe möchten wir das Sudoku *transponieren*. \"Transponieren\" heißt, dass wir das Sudoku an der Hauptachse (von oben links nach unten rechts) spiegeln. Hinterher sind einfach alle Zeilen und Spalten vertauscht!\n",
        "\n",
        "Beispiel: Stellen wir uns vor, wir haben eine 3x3-Matrix\n",
        "```\n",
        "|a b c|\n",
        "|d e f|\n",
        "|g h i|\n",
        "```\n",
        "Transponiert sieht diese Matrix jetzt so aus:\n",
        "```\n",
        "|a d g|\n",
        "|b e h|\n",
        "|c f i|\n",
        "```\n",
        "Wir lesen die die Matrix jetzt also quasi nicht mehr von zeilenweise von links nach rechts, sondern spaltenweise von oben nach unten!\n",
        "\n",
        "Schreibe eine Funktion `transponiere`, die ein Sudoku erhält und das transponierte Sudoku zurückgibt.\n",
        "\n",
        "*Hinweis*: Möglicherweise kannst du hier clever mit der `zip`-Funktion umgehen!"
      ],
      "metadata": {
        "id": "I3WcDPcmWvvr"
      }
    },
    {
      "cell_type": "code",
      "source": [
        "def transponiere(sudoku):\n",
        "    s = sudoku.copy()\n",
        "    return s\n",
        "\n",
        "plotte(sudoku)\n",
        "plotte(transponiere(sudoku))"
      ],
      "metadata": {
        "id": "xSb9ZV86Zljx"
      },
      "execution_count": null,
      "outputs": []
    },
    {
      "cell_type": "markdown",
      "source": [
        "### Aufgabe 5.2: Zeilen tauschen\n",
        "Schreibe eine Funktion `tausche_zeilen`, die eine Sudoku `sudoku`, sowie zwei Indizes `idx1` und `idx2` erhält und diese beiden Zeilen entsprechend tauscht."
      ],
      "metadata": {
        "id": "YfOWu_YvnZw7"
      }
    },
    {
      "cell_type": "code",
      "source": [
        "def tausche_zeilen(liste, idx1, idx2):\n",
        "    out = liste.copy()\n",
        "    return out\n",
        "\n",
        "plotte(sudoku)\n",
        "plotte(tausche_zeilen(sudoku, 1,2))"
      ],
      "metadata": {
        "id": "GE_ct-PXoKsZ"
      },
      "execution_count": null,
      "outputs": []
    },
    {
      "cell_type": "markdown",
      "source": [
        "### Aufgabe 5.3: Spalten tauschen\n",
        "Schreibe eine Funktion `tausche_spalten`, die ein Sudoku `sudoku`, sowie zwei Indizes `idx1` und `idx2` erhält und entsprechend die Spalten tauscht.\n",
        "\n",
        "*Hinweis*: Zum Tauschen von Spalten können die Funktionen `transponiere` und `tausche_zeilen` genutzt werden!"
      ],
      "metadata": {
        "id": "nMN2jsQqon0V"
      }
    },
    {
      "cell_type": "code",
      "source": [
        "def tausche_spalten(sudoku, idx1, idx2):\n",
        "    out = sudoku.copy()\n",
        "    return out\n",
        "\n",
        "plotte(sudoku)\n",
        "plotte(tausche_spalten(sudoku, 1, 2))"
      ],
      "metadata": {
        "id": "LwYg3Njqpp25"
      },
      "execution_count": null,
      "outputs": []
    },
    {
      "cell_type": "markdown",
      "source": [
        "### Aufgabe 5.4: Erlaubte Zeilen/Spalten tauschen (schwer)\n",
        "Offensichtlich können wir nicht einfach wild Zeilen und Spalten tauschen, wie wir wollen, da andernfalls das Sudoku nicht mehr lösbar ist! Tausche beispielsweise die erste und die letzte Spalte: Im Block oben links befinden sich nun zwei Zweien, zwei Siebenen und zwei Achten. Das Sudoku ist jetzt also nicht mehr korrekt gelöst!\n",
        "\n",
        "Glücklicherweise gibt es eine ganz einfache Regel, mit der wir Zeilen und Spalten tauschen können, ohne dass das Sudoku \"kaputt geht\": Wir dürfen immer nur innerhalb eines Dreierblockes tauschen. Mit anderen Worten: Zeilen/Spalten 0, 1 und 2, sowie 3, 4 und 5, sowie 6, 7 und 8 dürfen wir untereinander tauschen.\n",
        "\n",
        "Schreibe eine Funktion `tausche_erlaubte_zeilen`, die das Sudoku `sudoku`, sowie einen Index `idx` erhält. `idx` soll angeben, in welchem Block wir tauschen möchten. Alle drei Zeilen sollen wild durcheinandergetauscht (permutiert) werden.\n",
        "\n",
        "Schreibe außerdem eine Funktion `tausche_erlaubte_spalten`, die genau das gleiche für Spalten macht!\n",
        "\n",
        "*Hinweis*: Nutze die Funktion `generiere_indizes` aus Aufgabe 3.2, um eine Liste mit Indizes zu erhalten!"
      ],
      "metadata": {
        "id": "EqTJaqRmlHth"
      }
    },
    {
      "cell_type": "code",
      "source": [
        "def tausche_erlaubte_zeilen(sudoku, idx):\n",
        "    s = sudoku.copy()\n",
        "    out = []\n",
        "    return out\n",
        "\n",
        "def tausche_erlaubte_spalten(sudoku, idx):\n",
        "    s = sudoku.copy()\n",
        "    out = s\n",
        "    return out\n",
        "\n",
        "plotte(sudoku)\n",
        "plotte(tausche_erlaubte_zeilen(sudoku, 2))\n",
        "plotte(tausche_erlaubte_spalten(sudoku, 2))"
      ],
      "metadata": {
        "id": "PzV4cHIPm14N"
      },
      "execution_count": null,
      "outputs": []
    },
    {
      "cell_type": "markdown",
      "source": [
        "### Aufgabe 5.5: Zeilen-/Spaltenblöcke tauschen (sehr schwer)\n",
        "Neben einzelnen Zeilen und Spalten können wir genau so gut ganze Blöcke von Zeilen und Spalten tauschen. Das bedeutet, dass der Block \"012\" komplett mit dem Block \"678\" getauscht werden kann, ohne dass das Sudoku nicht mehr lösbar ist. Das sich ergebene Sudoku hat danach die Form \"678345012\".\n",
        "\n",
        "Schreibe eine Funktion `tausche_zeilenbloecke`, die das Sudoku `sudoku` erhält und zufällig Zeilenblöcke vertauschen soll.\n",
        "\n",
        "Schreibe danach eine Funktion `tausche_spaltenbloecke`, die das selbe mit Spalten macht.\n",
        "\n",
        "*Hinweis*: Hier ist es möglicherweise sinnvoll, zunächst eine Hilfsfunktion zum Gruppieren von Zeilen in Blöcke zu schreiben. Die könnte so aussehen, dass wir jeweils die drei aufeinanderfolgenden Zeilen in einer Liste zusammenfassen."
      ],
      "metadata": {
        "id": "_kJC7J_4qI-t"
      }
    },
    {
      "cell_type": "code",
      "source": [
        "def tausche_zeilenbloecke(sudoku):\n",
        "    s = sudoku.copy()\n",
        "    out = s\n",
        "    return out\n",
        "\n",
        "def tausche_spaltenbloecke(sudoku):\n",
        "    s = sudoku.copy()\n",
        "    out = s\n",
        "    return out\n",
        "\n",
        "def gruppiere(sudoku):\n",
        "    s = sudoku.copy()\n",
        "    out = s\n",
        "    return out\n",
        "\n",
        "def degruppiere(sudoku):\n",
        "    out = []\n",
        "    return out\n",
        "\n",
        "plotte(sudoku)\n",
        "plotte(tausche_zeilenbloecke(sudoku))\n",
        "plotte(tausche_spaltenbloecke(sudoku))"
      ],
      "metadata": {
        "id": "EE86JrBSylTT"
      },
      "execution_count": null,
      "outputs": []
    },
    {
      "cell_type": "markdown",
      "source": [
        "### Aufgabe 5.6: Zeilen/Spaltentausch durch Indizes (schwer)\n",
        "Eine sehr viel einfachere und elegantere Alternative ist es, zunächst eine Liste erlaubter Tausch-Indizes zu erstellen und das Sudoku anschließend danach zu sortieren. Vorteil hierbei ist, dass wir uns die einzelnen Schritte von Blöcken und einzelnen Zeilen, bzw. Spalten sparen können und alles in einem Schritt lösen.\n",
        "\n",
        "Schreibe eine Funktion `generiere_tauschindizes`, die keine Übergabeparameter hat und eine Liste erlaubter Tausch-Indizes zurückgibt.\n",
        "\n",
        "Schreibe außerdem eine Funktion `sudoku_anordnen`, die ein Sudoku `sudoku` und eine Liste von Indizes `idc` erhält und das Sudoku entsprechend der Indizes anordnet.\n",
        "\n",
        "*Hinweis*: Erlaubte Tausch-Indizes zu erstellen erscheint zunächst sehr kompliziert, ist aber relativ einfach, wenn wir uns die Blockform vergegenwärtigen. Ein Ansatz wäre es, dass wir zunächst die Block-Reihenfolge als Indexmenge erstellen und diese dann auf die Reihenfolge der Zeilen aufaddieren.\n",
        "\n",
        "*Beispiel*: Ist die Block-Reihenfolge `[2,0,1]`, und die einzelnen Reihenfolgen der Zeilen `[0,1,2]`, `[1,2,0]` und `[2,1,0]`, dann ergibt sich die Liste der Tausch-Indizes als `[6,7,8,1,2,0,5,4,3]`."
      ],
      "metadata": {
        "id": "c4n628sz3VUo"
      }
    },
    {
      "cell_type": "code",
      "source": [
        "def generiere_tauschindizes():\n",
        "    out = []\n",
        "    return out\n",
        "\n",
        "def sudoku_anordnen(sudoku, idc):\n",
        "    s = sudoku.copy()\n",
        "    out = s\n",
        "    return out\n",
        "\n",
        "plotte(sudoku)\n",
        "plotte(sudoku_anordnen(sudoku, generiere_tauschindizes()))"
      ],
      "metadata": {
        "id": "W_vsK2z_5f-R"
      },
      "execution_count": null,
      "outputs": []
    },
    {
      "cell_type": "markdown",
      "source": [
        "## Aufgabe 6: Sudokus generieren\n",
        "In dieser Aufgabe möchten wir nun alles zusammenfügen, was wir bis hierher programmiert haben, um eigene Sudokus zu erstellen!\n",
        "\n",
        "### Aufgabe 6.1: Fertiges Sudoku erstellen (mittelschwer)\n",
        "Schreibe nun eine Funktion `erstelle_sudoku`, das ein gelöstes Sudoku `sudoku` und einen Wert `p` erhält und ein zu lösendes Sudoku ausgibt. Das `p` soll angeben, wie viele leere Felder das Sudoku haben soll!\n",
        "\n",
        "*Hinweis*: Hier kannst du beliebige Funktionen aus vorherigen Aufgaben nutzen!"
      ],
      "metadata": {
        "id": "1wTCXc1e6Usa"
      }
    },
    {
      "cell_type": "code",
      "source": [
        "import random\n",
        "\n",
        "def erstelle_sudoku(sudoku, p=50):\n",
        "    s = sudoku.copy()\n",
        "    return s\n",
        "\n",
        "plotte(erstelle_sudoku(sudoku, p=50))"
      ],
      "metadata": {
        "id": "S068-JjT7Dlo"
      },
      "execution_count": null,
      "outputs": []
    },
    {
      "cell_type": "markdown",
      "source": [
        "### Aufgabe 6.2 (Bonus): Anzahl Sudokus (schwer)\n",
        "Wie viele verschiedene Sudokus können wir mit diesem Algorithmus erstellen? Zwei Sudokus sind \"verschieden\", wenn auch nur ein einziges Feld sich unterscheidet. In diesem Gedankenexperiment ignorieren wir erst mal die Anzahl freier Felder.\n",
        "\n",
        "*Hinweis*: Eine untere Grenze für die Anzahl der Sudokus ist 1, da wir auf jeden Fall mehr als nur ein Sudoku erstellen können, indem wir beispielsweise das Sudoku einfach transponieren. Eine obere Grenze wäre $\\frac{81!}{9!^{9}}=5{,}31\\cdot10^{70}$. Die Zahl ist seeehr groß, sie ist größer als eine 5 mit 70 Nullen! Das entspricht aller möglichen Kombinationen von jeweils neun mal die Zahlen von 1 bis 9. Hier sind allerdings auch unerlaubte Kombinationen dabei, wie beispielsweise nur Einsen in der ersten Spalte, nur Zweien in der zweiten und so weiter."
      ],
      "metadata": {
        "id": "NCGxiMCf8iih"
      }
    }
  ]
}