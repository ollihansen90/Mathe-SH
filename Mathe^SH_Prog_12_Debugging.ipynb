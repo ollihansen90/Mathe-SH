{
  "nbformat": 4,
  "nbformat_minor": 0,
  "metadata": {
    "colab": {
      "name": "Mathe^SH_Prog_12_Debugging.ipynb",
      "provenance": [],
      "collapsed_sections": [
        "C1ggGyIksVGZ",
        "2Lh_1HYmrV5m"
      ],
      "include_colab_link": true
    },
    "kernelspec": {
      "name": "python3",
      "display_name": "Python 3"
    },
    "language_info": {
      "name": "python"
    }
  },
  "cells": [
    {
      "cell_type": "markdown",
      "metadata": {
        "id": "view-in-github",
        "colab_type": "text"
      },
      "source": [
        "<a href=\"https://colab.research.google.com/github/ollihansen90/Mathe-SH/blob/main/Mathe%5ESH_Prog_12_Debugging.ipynb\" target=\"_parent\"><img src=\"https://colab.research.google.com/assets/colab-badge.svg\" alt=\"Open In Colab\"/></a>"
      ]
    },
    {
      "cell_type": "markdown",
      "source": [
        "# Mathe^SH Python-Kurs, Woche 12 Debugging - Umgang mit Fehlermeldungen\n",
        "\n",
        "## Fragen?\n",
        "Solltet ihr Fragen zum Code oder Probleme mit Colab haben, schickt uns gerne eine Mail:\n",
        "\n",
        "*   hohansen@inb.uni-luebeck.de\n",
        "*   maren.wieder@student.uni-luebeck.de\n",
        "*   friederike.meissner@student.uni-luebeck.de\n",
        "*   dustin.haschke@student.uni-luebeck.de\n",
        "\n",
        "<img src=\"https://img.devrant.com/devrant/rant/r_2350662_4ChZb.jpg\" width=\"50%\">\n"
      ],
      "metadata": {
        "id": "EYjfla65f8vB"
      }
    },
    {
      "cell_type": "markdown",
      "source": [
        "# Welche Fehlertypen gibt es?\n",
        "\n",
        "**Syntaxfehler (syntax errors)**\n",
        "\n",
        "   - werden durch einen fehlerhaften Code erzeugt, der  von Python nicht interpretiert werden kann\n",
        "\n",
        "   - erzeugen Fehlermeldung\n",
        "\n",
        "   - z.B. fehlender Doppelpunkt im Kopf einer ``for``-Schleife oder unzulässige Benennung von Variablen\n",
        "\n",
        "**Ausnahmefälle, Laufzeitfehler & Warnungen (exceptions, runtime errors & warnings)**\n",
        "  - werden durch eine Anweisung erzeugt, die von Python nicht durchgeführt werden kann\n",
        "\n",
        "  - erzeugen Fehlermeldung\n",
        "\n",
        "  - z.B. ist ```x = 5/0``` zwar syntaktisch korrekter Programmcode, da es aber unmöglich ist, durch die Null zu teilen, wird ein *ZeroDivisionError* ausgegeben\n",
        "\n",
        "**Logikfehler (logical errors)**\n",
        " -  wird von eigentlich fehlerfreiem Code erzeugt, der allerdings nicht das gewünschte Resultat liefert, weil die Programmierlogik nicht richtig implementiert wurde\n",
        "\n",
        " - da *keine Fehlermeldung* ausgegeben wird, ist es häufig schwierig diese Fehler zu lösen\n",
        "\n",
        " - z.B. kann eine if-Abfrage durch eine fehlerhafte Einrückung in einer verkehrten Reihenfolge stehen und eine unerwünschte Ausgabe erzeugen"
      ],
      "metadata": {
        "id": "ctV9vLkP_Aou"
      }
    },
    {
      "cell_type": "markdown",
      "source": [
        "# Typische Fehlerarten\n",
        "\n",
        "Zu den am häufigsten erzeugten Fehlern zählen die folgenden Arten:\n",
        "\n",
        "- **ArithmeticError**: Fehler bei der Durchführung einer Rechnung\n",
        "-- **OverflowError**: Rechenergebnis ist zu groß, um dargestellt zu werden\n",
        "-- **ZeroDivisionError**: Division bzw. Modulo (``%``) durch Null nicht möglich\n",
        "\n",
        "- **AttributeError**: fehlgeschlagene Zuweisung eines Attributs oder einer Referenz\n",
        "\n",
        "- **ImportError**: generelles Problem beim Laden eines Moduls durch ``import``\n",
        "-- **ModuleNotFoundError**: unbekanntes (nicht gefundenes) Modul\n",
        "\n",
        "- **IndexError**: verwendeter Index befindet sich außerhalb der Range bzw. des Umfangs des Elements\n",
        "\n",
        "- **KeyError**: zugehöriger Dictionary-Schlüsselwert (Key) existiert noch nicht\n",
        "\n",
        "- **NameError**: nicht gefundene lokale oder globale Variable (-> Gültigkeitsbereich prüfen)\n",
        "\n",
        "- **RuntimeError**: Fehler, der sich in keine der genannten Kategorien einorden lässt, Angabe des exakten Problems als String\n",
        "\n",
        "- **SyntaxError**: Syntaxfehler, z.B bei der Verwendung voreingebauter Funktionen\n",
        "-- **IndentationError**: fehlerhafte Einrückung von Code-Blöcken\n",
        "\n",
        "- **TypeError**: verwendete Operation oder Funktion ist nicht auf ein Objekt dieses Typs anwendbar, Angabe des unzulässigen Typs als String\n",
        "\n",
        "- **ValueError**: Anwendung einer Operation oder Funktion auf ein Argument des richtigen Typs, aber mit unzulässigem Wert"
      ],
      "metadata": {
        "id": "1Mi-GOBCgQpd"
      }
    },
    {
      "cell_type": "markdown",
      "source": [
        "## Warnings?\n",
        "z.B.\n",
        "- DeprecationWarning"
      ],
      "metadata": {
        "id": "PWOI5Dpnj_Gp"
      }
    },
    {
      "cell_type": "markdown",
      "source": [
        "#Wie ist eine Fehlermeldung aufgebaut?\n",
        "\n",
        "Hier zwei Beispiele für einen ausgegebenen Fehlercode:\n",
        "\n",
        "![](https://drive.google.com/uc?export=view&id=1NVOB-v-6wA-dWRcRQw1SWzpS8Tv7miL1)\n",
        "\n",
        "![](https://drive.google.com/uc?export=view&id=1bbHk35loQO9SOb8pOil17HD61w5RFfQQ)\n",
        "\n",
        "###Der Zeilenverweis\n",
        "In Colab erhält man die rot eingefärbte Fehlermeldung meist direkt unter dem Code.\n",
        "\n",
        "Diese enthält in der Regel einen Verweis auf die fehlerhafte Zeile z.B. durch <font color='lightblue'>line (Zeilennummer)</font> oder sowas wie einen Pfeil <font color='green'> - - - - > </font> auf die entsprechende Zeile.\n",
        "Der konkrete Zeilenabschnitt ist manchmal mit einem schlichten **^** markiert.\n",
        "\n",
        "Um die Zeile zu finden, ist es sinnvoll, die Zeilennummerierung in Colab über das obige DropDown-Menü über Tools->Einstellungen->Editor-> Zeilennummern_anzeigen zu aktivieren.\n",
        "\n",
        "Alternativ gibt Colab auch einen Link in der Form <font color=  #5dade2 > <ipython-input-(Nummer)-(lustigeZahl)> </font> bei vielen Fehlern aus, der durch einen Klick auf diesen in das betreffende Feld springt.\n",
        "\n",
        "###Fehlersuche im Internet\n",
        "Sehr hilfreich kann auch ein Klick auf das Feld *SEARCH STACK OVERFLOW* sein, welcher den Fehler in einem großen Online-Programmierforum googlet. Wobei *ein* Online-Programmierforum es wohl nicht wirklich trifft, sondern viel mehr **das** Online-Programmierforum. Die Website betitelt sich mit Sprüchen wie \"Where Developers Learn, Share, & Build\" (\"Wo Entwickler lernen, teilen und bauen\") oder dem Motto \"Empowering the world to develop technology through collective knowledge\" (\"Der Welt ermöglichen Technologien zu entwickeln durch kollektives Wissen\"). Bei über **100.000** Nutzern monatlich kann man wohl wirklich von \"kollektiven Wissen\" sprechen.\n",
        "\n",
        "Leider ist dies ein englischsprachiges Forum, aber mithilfe von Übersetzungsprogrammen wie deepl.com kann man sich dort auch ohne Sprachkenntnisse zurechtfinden.\n",
        "Beachtet dabei unbedingt, dass viele Programmierbegriffe englisch sind und nicht übersetzt werden sollten.\n",
        "\n",
        "<img src=\"https://i.redd.it/op96es9026wy.png\"\n",
        "width=\"50%\">\n",
        "\n",
        "Alternativ gibt es offizielle und inoffizielle Dokumentation über Fehlercodes in Python, die über deren Bedeutung aufklären:\n",
        "\n",
        "*   Deutsche Übersicht über Bedeutungen von gängigen Fehlermeldungen:\n",
        "* * https://lernenpython.com/exceptions/#Python_Built-in_Exceptions\n",
        "\n",
        "*   Englische Übersicht über ALLE Fehlermeldungen:\n",
        "\n",
        "* * https://docs.python.org/3/library/exceptions.html#bltin-exceptions\n",
        "\n",
        "* Allgemeines zu Errors & Exceptions auf Deutsch:\n",
        "\n",
        "* * https://py-tutorial-de.readthedocs.io/de/python-3.3/errors.html\n",
        "\n",
        "<img src=\"https://i.redd.it/ms8u3bl2kw351.jpg\"\n",
        "width=\"50%\"/>"
      ],
      "metadata": {
        "id": "D10QV02xgOPy"
      }
    },
    {
      "cell_type": "markdown",
      "source": [
        "# Aufgabe 1 - Selbst einen Fehler erzeugen\n",
        "\n",
        "Erzeuge vier der beschriebenen Fehlerarten mithilfe vier kurzer Code-Beispiele und analysiere die zugehörigen Fehlermeldungen. Verwende am besten eine Zelle pro Fehlertyp, da die Ausführung einer Zelle schon durch die erste Fehlermeldung abgebrochen wird."
      ],
      "metadata": {
        "id": "MrqDHuKTgV4K"
      }
    },
    {
      "cell_type": "code",
      "source": [
        "# Fehlertyp 1"
      ],
      "metadata": {
        "id": "21P1KMW_n0mq"
      },
      "execution_count": null,
      "outputs": []
    },
    {
      "cell_type": "code",
      "source": [
        "# Fehlertyp 2"
      ],
      "metadata": {
        "id": "arhj8Qdwn0dE"
      },
      "execution_count": null,
      "outputs": []
    },
    {
      "cell_type": "code",
      "source": [
        "# Fehlertyp 3"
      ],
      "metadata": {
        "id": "GWgE8a24n0Ma"
      },
      "execution_count": null,
      "outputs": []
    },
    {
      "cell_type": "code",
      "source": [
        "# Fehlertyp 4"
      ],
      "metadata": {
        "id": "-cfsy85Mnz7h"
      },
      "execution_count": null,
      "outputs": []
    },
    {
      "cell_type": "markdown",
      "source": [
        "## Mögliche Lösungen zu 1"
      ],
      "metadata": {
        "id": "C1ggGyIksVGZ"
      }
    },
    {
      "cell_type": "code",
      "source": [
        "# NameError\n",
        "def test_function():\n",
        "    a = 3\n",
        "print(a)"
      ],
      "metadata": {
        "id": "KkUlSKq1sTuF",
        "colab": {
          "base_uri": "https://localhost:8080/",
          "height": 198
        },
        "outputId": "bb11d9a6-bc16-4157-e5b4-a18c39710c14"
      },
      "execution_count": null,
      "outputs": [
        {
          "output_type": "error",
          "ename": "NameError",
          "evalue": "ignored",
          "traceback": [
            "\u001b[0;31m---------------------------------------------------------------------------\u001b[0m",
            "\u001b[0;31mNameError\u001b[0m                                 Traceback (most recent call last)",
            "\u001b[0;32m<ipython-input-6-bf629b412d2f>\u001b[0m in \u001b[0;36m<module>\u001b[0;34m()\u001b[0m\n\u001b[1;32m      2\u001b[0m \u001b[0;32mdef\u001b[0m \u001b[0mtest_function\u001b[0m\u001b[0;34m(\u001b[0m\u001b[0;34m)\u001b[0m\u001b[0;34m:\u001b[0m\u001b[0;34m\u001b[0m\u001b[0;34m\u001b[0m\u001b[0m\n\u001b[1;32m      3\u001b[0m     \u001b[0ma\u001b[0m \u001b[0;34m=\u001b[0m \u001b[0;36m3\u001b[0m\u001b[0;34m\u001b[0m\u001b[0;34m\u001b[0m\u001b[0m\n\u001b[0;32m----> 4\u001b[0;31m \u001b[0mprint\u001b[0m\u001b[0;34m(\u001b[0m\u001b[0ma\u001b[0m\u001b[0;34m)\u001b[0m\u001b[0;34m\u001b[0m\u001b[0;34m\u001b[0m\u001b[0m\n\u001b[0m",
            "\u001b[0;31mNameError\u001b[0m: name 'a' is not defined"
          ]
        }
      ]
    },
    {
      "cell_type": "code",
      "source": [
        "# ZeroDivisionError\n",
        "a = 3 % 0"
      ],
      "metadata": {
        "colab": {
          "base_uri": "https://localhost:8080/",
          "height": 181
        },
        "id": "QpzIDZ2EoDCH",
        "outputId": "b94dbc1f-3de7-49b1-ee93-9e94a04e63e2"
      },
      "execution_count": null,
      "outputs": [
        {
          "output_type": "error",
          "ename": "ZeroDivisionError",
          "evalue": "ignored",
          "traceback": [
            "\u001b[0;31m---------------------------------------------------------------------------\u001b[0m",
            "\u001b[0;31mZeroDivisionError\u001b[0m                         Traceback (most recent call last)",
            "\u001b[0;32m<ipython-input-7-a87cc368095b>\u001b[0m in \u001b[0;36m<module>\u001b[0;34m()\u001b[0m\n\u001b[1;32m      1\u001b[0m \u001b[0;31m# ZeroDivisionError\u001b[0m\u001b[0;34m\u001b[0m\u001b[0;34m\u001b[0m\u001b[0;34m\u001b[0m\u001b[0m\n\u001b[0;32m----> 2\u001b[0;31m \u001b[0ma\u001b[0m \u001b[0;34m=\u001b[0m \u001b[0;36m3\u001b[0m \u001b[0;34m%\u001b[0m \u001b[0;36m0\u001b[0m\u001b[0;34m\u001b[0m\u001b[0;34m\u001b[0m\u001b[0m\n\u001b[0m",
            "\u001b[0;31mZeroDivisionError\u001b[0m: integer division or modulo by zero"
          ]
        }
      ]
    },
    {
      "cell_type": "code",
      "source": [
        "# IndexError\n",
        "liste = list()\n",
        "liste[2] = \"b\""
      ],
      "metadata": {
        "colab": {
          "base_uri": "https://localhost:8080/",
          "height": 198
        },
        "id": "nk6x19MeoC28",
        "outputId": "b1eb9000-d58e-42ac-e961-3ea8f7397a5e"
      },
      "execution_count": null,
      "outputs": [
        {
          "output_type": "error",
          "ename": "IndexError",
          "evalue": "ignored",
          "traceback": [
            "\u001b[0;31m---------------------------------------------------------------------------\u001b[0m",
            "\u001b[0;31mIndexError\u001b[0m                                Traceback (most recent call last)",
            "\u001b[0;32m<ipython-input-8-3fcbde8ef4c1>\u001b[0m in \u001b[0;36m<module>\u001b[0;34m()\u001b[0m\n\u001b[1;32m      1\u001b[0m \u001b[0;31m#\u001b[0m\u001b[0;34m\u001b[0m\u001b[0;34m\u001b[0m\u001b[0;34m\u001b[0m\u001b[0m\n\u001b[1;32m      2\u001b[0m \u001b[0mliste\u001b[0m \u001b[0;34m=\u001b[0m \u001b[0mlist\u001b[0m\u001b[0;34m(\u001b[0m\u001b[0;34m)\u001b[0m\u001b[0;34m\u001b[0m\u001b[0;34m\u001b[0m\u001b[0m\n\u001b[0;32m----> 3\u001b[0;31m \u001b[0mliste\u001b[0m\u001b[0;34m[\u001b[0m\u001b[0;36m2\u001b[0m\u001b[0;34m]\u001b[0m \u001b[0;34m=\u001b[0m \u001b[0;34m\"b\"\u001b[0m\u001b[0;34m\u001b[0m\u001b[0;34m\u001b[0m\u001b[0m\n\u001b[0m",
            "\u001b[0;31mIndexError\u001b[0m: list assignment index out of range"
          ]
        }
      ]
    },
    {
      "cell_type": "code",
      "source": [
        "# ModuleNotFoundError\n",
        "import help"
      ],
      "metadata": {
        "colab": {
          "base_uri": "https://localhost:8080/",
          "height": 317
        },
        "id": "EU1pZTyMoCmH",
        "outputId": "993bc6cf-7f67-4ac3-fc0f-d53466e236c7"
      },
      "execution_count": null,
      "outputs": [
        {
          "output_type": "error",
          "ename": "ModuleNotFoundError",
          "evalue": "ignored",
          "traceback": [
            "\u001b[0;31m---------------------------------------------------------------------------\u001b[0m",
            "\u001b[0;31mModuleNotFoundError\u001b[0m                       Traceback (most recent call last)",
            "\u001b[0;32m<ipython-input-9-6d2c67f00f15>\u001b[0m in \u001b[0;36m<module>\u001b[0;34m()\u001b[0m\n\u001b[1;32m      1\u001b[0m \u001b[0;31m#\u001b[0m\u001b[0;34m\u001b[0m\u001b[0;34m\u001b[0m\u001b[0;34m\u001b[0m\u001b[0m\n\u001b[0;32m----> 2\u001b[0;31m \u001b[0;32mimport\u001b[0m \u001b[0mhelp\u001b[0m\u001b[0;34m\u001b[0m\u001b[0;34m\u001b[0m\u001b[0m\n\u001b[0m",
            "\u001b[0;31mModuleNotFoundError\u001b[0m: No module named 'help'",
            "",
            "\u001b[0;31m---------------------------------------------------------------------------\u001b[0;32m\nNOTE: If your import is failing due to a missing package, you can\nmanually install dependencies using either !pip or !apt.\n\nTo view examples of installing some common dependencies, click the\n\"Open Examples\" button below.\n\u001b[0;31m---------------------------------------------------------------------------\u001b[0m\n"
          ],
          "errorDetails": {
            "actions": [
              {
                "action": "open_url",
                "actionText": "Open Examples",
                "url": "/notebooks/snippets/importing_libraries.ipynb"
              }
            ]
          }
        }
      ]
    },
    {
      "cell_type": "markdown",
      "source": [
        "# Aufgabe 2 - Korrektur von Fehlern\n",
        "## 2.1 Rechenaufgabe mit Hindernissen\n",
        "\n",
        "Es soll ein Programm geschrieben werden, dass mit $x=2$ und $i=5$ startet, in jedem Durchlauf über die Funktion ``hokus_pokus`` $\\pi+ \\frac{x}{i}$ berechnet und zu der Variable ``summe`` addiert. \n",
        "\n",
        "Nach jedem Durchlauf wird $x$ um $1$ erhöht und $i$ um $1$ reduziert, bis $x$ größer als 10 ist.\n",
        "\n",
        "Schließlich wird diese Summe ausgegeben.\n",
        "\n",
        "Korrigiere bitte folgenden, fehlerhaften Code:"
      ],
      "metadata": {
        "id": "bCVxouYQiVAK"
      }
    },
    {
      "cell_type": "code",
      "source": [
        "import mathe als mat\n",
        "\n",
        "define hokus_pokus:\n",
        "    if x != 0\n",
        "    return: (x/i)+mat.Pi()\n",
        "\n",
        "    x = 2\n",
        "    i = 5\n",
        "    summe = 0\n",
        "\n",
        "while x <= 10\n",
        "    sum = hokus_pokos[x,i]\n",
        "    x += 1\n",
        "    i += 1\n",
        "\n",
        "print(Die Summe beträgt:, summe)"
      ],
      "metadata": {
        "colab": {
          "base_uri": "https://localhost:8080/",
          "height": 133
        },
        "id": "m4qvYw0YeVfH",
        "outputId": "7b84c15f-5740-4484-f227-830d19cf8e79"
      },
      "execution_count": null,
      "outputs": [
        {
          "output_type": "error",
          "ename": "SyntaxError",
          "evalue": "ignored",
          "traceback": [
            "\u001b[0;36m  File \u001b[0;32m\"<ipython-input-52-242ff4ae0ca8>\"\u001b[0;36m, line \u001b[0;32m1\u001b[0m\n\u001b[0;31m    import mathe als mat\u001b[0m\n\u001b[0m                   ^\u001b[0m\n\u001b[0;31mSyntaxError\u001b[0m\u001b[0;31m:\u001b[0m invalid syntax\n"
          ]
        }
      ]
    },
    {
      "cell_type": "markdown",
      "source": [
        "### Musterlösung zu 2.1"
      ],
      "metadata": {
        "id": "2Lh_1HYmrV5m"
      }
    },
    {
      "cell_type": "code",
      "source": [
        "import math as m\n",
        "\n",
        "def hokus_pokus(x,i):\n",
        "    if i != 0:\n",
        "        return  (x/i)+m.pi\n",
        "    else:\n",
        "        return m.pi       # nicht klar definiert, was hier passieren soll!\n",
        "\n",
        "x = 2\n",
        "i = 5\n",
        "summe = 0\n",
        "\n",
        "while x <= 10:\n",
        "    summe += hokus_pokus(x,i)\n",
        "    x += 1\n",
        "    i -= 1\n",
        "print(\"Die Summe beträgt:\", summe)"
      ],
      "metadata": {
        "colab": {
          "base_uri": "https://localhost:8080/"
        },
        "id": "-LXB8WNRoOHs",
        "outputId": "d90214d0-bdf9-4dcb-e37f-30104d20cbd4"
      },
      "execution_count": null,
      "outputs": [
        {
          "output_type": "stream",
          "name": "stdout",
          "text": [
            "Die Summe beträgt: 23.42433388230814\n"
          ]
        }
      ]
    },
    {
      "cell_type": "markdown",
      "source": [
        "## 2.2 Logische Fehler\n",
        "\n",
        "Im Folgenden sollen drei Zitronenkuchen und zwei Schokokuchen gebacken werden. Für einen Zitronenkuchen werden 3 Eier, 2 Häufchen Mehl und ein Löffel Zucker benötigt, während ein Schokokuchen aus einem Ei, 5 Häufchen Mehl und 4 Löffeln Zucker besteht.\n",
        "\n",
        "Doch irgendetwas ist bei der Berechnung schiefgegangen...\n",
        "\n",
        "Kannst du unsere Einkaufsliste der Zutaten für die Kuchen korrigieren?"
      ],
      "metadata": {
        "id": "oo233c7Le1TH"
      }
    },
    {
      "cell_type": "code",
      "source": [
        "zitrone = [3,2,1]\n",
        "schoko = [1,5,4]\n",
        "\n",
        "print(\"Wir brauchen\\n\",\n",
        "      (3*zitrone+2*schoko)[0],\n",
        "      \"Eier,\\n\",\n",
        "      (3*zitrone+2*schoko)[1],\n",
        "      \"Häufchen Mehl und\\n\",\n",
        "      (3*zitrone+2*schoko)[2],\n",
        "      \"Löffel Zucker für unsere zwei Schoko- und drei Zitronenkuchen.\")"
      ],
      "metadata": {
        "colab": {
          "base_uri": "https://localhost:8080/"
        },
        "id": "HA52vLgLfgl4",
        "outputId": "1172d092-2e68-4c49-b0bd-a33eb9987cc7"
      },
      "execution_count": null,
      "outputs": [
        {
          "output_type": "stream",
          "name": "stdout",
          "text": [
            "Wir brauchen\n",
            " 3 Eier,\n",
            " 2 Häufchen Mehl und\n",
            " 1 Löffel Zucker für unsere zwei Schoko- und drei Zitronenkuchen.\n"
          ]
        }
      ]
    },
    {
      "cell_type": "markdown",
      "source": [
        "### Musterlösung zu 2.2"
      ],
      "metadata": {
        "id": "mGym5NY7q-KS"
      }
    },
    {
      "cell_type": "code",
      "source": [
        "zitrone = [3,2,1]\n",
        "schoko = [1,5,4]\n",
        "\n",
        "print(\"Wir brauchen\\n\",\n",
        "      3*zitrone[0] + 2*schoko[0],\n",
        "      \"Eier,\\n\",\n",
        "      3*zitrone [1] + 2*schoko[1],\n",
        "      \"Häufchen Mehl und\\n\",\n",
        "      3*zitrone[2] + 2*schoko[2],\n",
        "      \"Löffel Zucker für unsere zwei Schoko- und drei Zitronenkuchen.\")"
      ],
      "metadata": {
        "colab": {
          "base_uri": "https://localhost:8080/"
        },
        "id": "YqNdIOgbrAPY",
        "outputId": "867786bb-feba-40dd-acbc-d52ab64f19c3"
      },
      "execution_count": null,
      "outputs": [
        {
          "output_type": "stream",
          "name": "stdout",
          "text": [
            "Wir brauchen\n",
            " 11 Eier,\n",
            " 16 Häufchen Mehl und\n",
            " 11 Löffel Zucker für unsere zwei Schoko- und drei Zitronenkuchen.\n"
          ]
        }
      ]
    }
  ]
}