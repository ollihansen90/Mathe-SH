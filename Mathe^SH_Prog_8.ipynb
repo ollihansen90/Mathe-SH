{
  "nbformat": 4,
  "nbformat_minor": 0,
  "metadata": {
    "colab": {
      "name": "Mathe^SH_Prog_8.ipynb",
      "provenance": [],
      "collapsed_sections": [],
      "include_colab_link": true
    },
    "kernelspec": {
      "display_name": "Python 3",
      "name": "python3"
    },
    "language_info": {
      "name": "python"
    }
  },
  "cells": [
    {
      "cell_type": "markdown",
      "metadata": {
        "id": "view-in-github",
        "colab_type": "text"
      },
      "source": [
        "<a href=\"https://colab.research.google.com/github/ollihansen90/Mathe-SH/blob/main/Mathe%5ESH_Prog_8.ipynb\" target=\"_parent\"><img src=\"https://colab.research.google.com/assets/colab-badge.svg\" alt=\"Open In Colab\"/></a>"
      ]
    },
    {
      "cell_type": "markdown",
      "metadata": {
        "id": "cgq0ON5768UB"
      },
      "source": [
        "# Mathe^SH Python-Kurs, Woche 8"
      ]
    },
    {
      "cell_type": "markdown",
      "metadata": {
        "id": "NMjKvuYev9lY"
      },
      "source": [
        "# Fragen?\n",
        "Solltet ihr Fragen zum Code oder Probleme mit Colab haben, schickt uns gerne eine Mail:\n",
        "\n",
        "*   hohansen@inb.uni-luebeck.de\n",
        "*   maren.wieder@student.uni-luebeck.de\n",
        "*   friederike.meissner@student.uni-luebeck.de\n",
        "*   dustin.haschke@student.uni-luebeck.de"
      ]
    },
    {
      "cell_type": "markdown",
      "metadata": {
        "id": "yA-KBy3MC-nn"
      },
      "source": [
        "# Packages\n",
        "\n",
        "Angenommen, wir wollen eine Funktion ```pythagoras``` definieren, die für die Katheten $a$ und $b$ die Länge der Hypotenuse $c$ mit dem Satz des Pythagoras berechnet. Dieser besagt bekanntlich $a^2 + b^2 = c^2$, d.h. $c = \\sqrt{a^2+b^2}$. Beim Implementieren in Python fällt auf, dass eine Funktion wie ```sqrt(x)``` per se nicht definiert ist und wir stattdessen $x^{\\frac{1}{2}}$ verwenden müssen. Das sieht aufgrund der vielen Exponenten etwas unübersichtlich aus, funktioniert aber natürlich."
      ]
    },
    {
      "cell_type": "code",
      "metadata": {
        "colab": {
          "base_uri": "https://localhost:8080/"
        },
        "id": "qKb7uDVCLzVz",
        "outputId": "ab8f0797-69c4-4d14-df98-062aceb5ddd0"
      },
      "source": [
        "def pythagoras(a,b):\n",
        "    # c = sqrt(a**2 + b**2)         # funktioniert nicht, da sqrt() nicht definiert\n",
        "    c = (a**2 + b**2) ** (1/2)\n",
        "    return c\n",
        "\n",
        "pythagoras(3,4)"
      ],
      "execution_count": null,
      "outputs": [
        {
          "output_type": "execute_result",
          "data": {
            "text/plain": [
              "5.0"
            ]
          },
          "metadata": {},
          "execution_count": 4
        }
      ]
    },
    {
      "cell_type": "markdown",
      "metadata": {
        "id": "NU0NfP66Zsu9"
      },
      "source": [
        "Für viele weitere mathematische Anwendungen, die z.B. $sin(x)$ oder eine bestimmte Anzahl zufällig erzeugter Werte benötigen, finden wir allerdings nicht immer eine Alternative, außer selbst eine Funktion zu implementieren.\n",
        "\n",
        "Genau dafür gibt es sogenannte **Packages**, bestehend aus **Modulen**. Das sind strukturierte Zusammenfassungen bereits definierter Funktionen zu einem oder mehreren Anwendungsbereichen, die die Kernfunktionen von Python beliebig erweitern, während die Übersicht über das eigene Programm beibehalten wird. Der Aufbau entspricht einem Hauptverzeichnis, dem Package, das sich in mehrere Unterordner bzw. Module aufteilt, die wiederum unterteilt sein können.\n",
        "\n",
        "Dabei gibt es einerseits Bibliotheken (Libraries), die die Standardbibliothek und Module von Drittanbietern umfassen, andererseits können auch selbst Module definiert werden. Das ermöglicht es uns, ohne copy & paste immer wieder \"alte\" Funktionen zu verwenden und Fehler einfach an einem Ort zu korrigieren!\n"
      ]
    },
    {
      "cell_type": "markdown",
      "metadata": {
        "id": "snGXJKFGwy2F"
      },
      "source": [
        "## Bereits verwendete Packages\n",
        "\n",
        "Auch wenn ihr euch vielleicht nicht direkt daran erinnern könnt, an ein paar Stellen von diesem Kurs habt ihr bereits verschiedene packages verwendet, oder zumindet Teile von welchen.\n",
        "\n",
        "### Woche 4: \"Bonus: Numpy-Arrays\"\n",
        "Das package ```numpy``` wird generell benötigt, um das Rechnen mit Listen zu ermöglichen. Die Routine ```np.arange(0,10)``` liefert hierbei eine spezielle Liste mit den Zahlen 0, 1, 2, ..., 9 und wir können diese Liste schlichtweg mit \"*2\" kombinieren, wohingegen dies mit einer Liste, die über ```range``` erstellt wurde, nicht funktionieren wird. Stattdessen wir die Liste verdoppelt."
      ]
    },
    {
      "cell_type": "code",
      "metadata": {
        "id": "TQ63QxYwwYIs",
        "colab": {
          "base_uri": "https://localhost:8080/"
        },
        "outputId": "75e74560-7360-4ab8-8a90-aecd616b60d0"
      },
      "source": [
        "import numpy as np\n",
        "data = np.arange(0,10)*2\n",
        "liste = list(range(10))*2\n",
        "print(data)\n",
        "print(liste)\n",
        "\n",
        "# Permutation\n",
        "data_perm = data[[0,1,2,3,9,2,2,3]]\n",
        "print(data_perm)\n",
        "\n",
        "# Punktweise Wahrheitsabfrage\n",
        "data_bool = data_perm>5\n",
        "print(data_bool)\n",
        "# Beispiel: Setze alle Werte größer 5 auf 10 und alle Werte kleinergleich 5 auf 0\n",
        "data_neu = data_perm\n",
        "data_neu[data_neu<=5] = 0\n",
        "data_neu[data_neu>5] = 10\n",
        "print(data_neu)"
      ],
      "execution_count": null,
      "outputs": [
        {
          "output_type": "stream",
          "name": "stdout",
          "text": [
            "[ 0  2  4  6  8 10 12 14 16 18]\n",
            "[0, 1, 2, 3, 4, 5, 6, 7, 8, 9, 0, 1, 2, 3, 4, 5, 6, 7, 8, 9]\n",
            "[ 0  2  4  6 18  4  4  6]\n",
            "[False False False  True  True False False  True]\n",
            "[ 0  0  0 10 10  0  0 10]\n"
          ]
        }
      ]
    },
    {
      "cell_type": "markdown",
      "metadata": {
        "id": "yaqVGfqyUX3g"
      },
      "source": [
        "### Woche 5: \"Der ```re.findall()```-Befehl\"\n",
        "\n",
        "Die Abkürzung ```re``` steht für den Ausdruck \"regular expression\" und der Befehl ```findall``` tut exakt das, was sein Name beschreibt: er findet alle (nicht überlappenden) Treffer für ein bestimmtes Muster in einem String. In dem Beispiel aus der Übung, wurde das Muster \"asen\" in dem String \"string\" gesucht."
      ]
    },
    {
      "cell_type": "code",
      "metadata": {
        "id": "DfYr0582wZYZ",
        "colab": {
          "base_uri": "https://localhost:8080/"
        },
        "outputId": "9c14541c-a8b3-46a9-9cdc-590e8b2df4f8"
      },
      "source": [
        "import re\n",
        "\n",
        "string = \"Hasen in 100 Extasen lasen aus 99 Seifenblasen auf dem Rasen 2021\"\n",
        "gefundene = re.findall(\"asen\", string)\n",
        "print(gefundene)\n",
        "\n",
        "#Der Eingangsbefehl ist für die Verwendung von re.findall() erforderlich:\n",
        "import re\n",
        "text = \"Der reine Keim des Sein ist wie ein feiner Reim, ohne Leim, mit Wein.\"\n",
        "\n",
        "#Gib hier deinen Code ein\n",
        "\n",
        "\n",
        "\n",
        "satz =  \"Viele Fische fliegen fortan vielen fernen Vögel fort.\"\n",
        "\n",
        "neu = re.findall('\\\\bf\\w+\\\\b', satz)       #findet alle Wörter im 'satz', die mit f beginnen\n",
        "neu_zwei = re.findall('\\\\bv\\w+\\\\b', satz)  #findet alle Wörter im 'satz', die mit v beginnen\n",
        "\n",
        "print (neu)\n",
        "print(neu_zwei)"
      ],
      "execution_count": null,
      "outputs": [
        {
          "output_type": "stream",
          "name": "stdout",
          "text": [
            "['asen', 'asen', 'asen', 'asen', 'asen']\n",
            "['fliegen', 'fortan', 'fernen', 'fort']\n",
            "['vielen']\n"
          ]
        }
      ]
    },
    {
      "cell_type": "markdown",
      "metadata": {
        "id": "LUf4ty4fW2fb"
      },
      "source": [
        "### Woche 5: \"Projekt: Texte auf Internetseiten\"\n",
        "\n",
        "In dem Projekt von Olli wurden zwei packages verwendet und zwar ```requests``` und ```bs4```. Da ihr diese allerdings niemals selber direkt verwendet habt, wollten wir euch hier nur einmal kurz an diese erinnern."
      ]
    },
    {
      "cell_type": "code",
      "metadata": {
        "id": "la3B--JMwx7O"
      },
      "source": [
        "import requests                 # Package, das Internetseiten laden kann\n",
        "from bs4 import BeautifulSoup   # Package, das heruntergeladene Internetzseiten \"hübsch\" macht\n",
        "\n",
        "# -------------------- LINK ---------------------\n",
        "link = \"https://de.wikipedia.org/wiki/Mathematik\" # Den Link hier könnt ihr gerne ändern\n",
        "# -----------------------------------------------\n",
        "\n",
        "r = requests.get(link) # lade Seiteninhalt runter\n",
        "soup = BeautifulSoup(r.text) # mache Inhalt \"hübsch\"\n",
        "text = \"\".join([data.get_text() for data in soup.find_all(\"p\")]) # ziehe NUR Texte aus r\n",
        "\n",
        "# entferne Sonderzeichen\n",
        "sonderzeichen = ['Ζ', 'Χ', 'Ε', 'Β', 'ό', 'Ω', 'Θ', '΄', 'φ', '•', 'π', 'Γ', 'ζ', 'Ρ', 'ά', 'Μ', 'Η', 'σ', 'Λ', 'ώ', 'δ', 'Φ', 'ψ', 'Ο', 'Έ', 'Α', 'Ά', 'Ι', 'Ξ', 'Δ', 'Ϝ', 'Ϟ', 'ξ', 'ί', '^', 'γ', 'Ν', 'ε', 'Τ', 'Σ', 'Υ', 'Ψ', 'ϊ', 'Κ', '\\\\', 'ə', '»', '«', 'ω', 'ύ', 'Π', 'æ', '≥', '³', 'µ', '>', 'ā', '½', 'î', '=', 'β', 'υ', 'ī', 'č', 'ο', 'ἰ', 'ς', '!', 'ἴ', 'ū', 'ρ', 'λ', 'ð', 'ú', '€', \"'\", 'Á', 'ō', 'ó', '̑', '±', '\"', 'í', '%', '°', 'á', 'ɔ', '+', '|', 'ø', 'ɪ', '͡', '−', '→', '§', 'ʃ', '*', '&', '̯', ':', 'χ', '1', '–', 'α', ')', ';', '…', '[', 'É', 'ν', '0', '\\xad', 'ː', '5', '‘', '4', '„', 'é', '9', '8', '.', 'ˈ', '7', 'τ', '(', 'μ', '“', 'ç', '\\xa0', '/', '-', '”', 'η', 'θ', 'è', '3', 'ß', '{', '?', '‚', 'ή', '6', '2', 'ι', '’', ',', 'κ', ']', 'έ', 'ē', '}']\n",
        "for zeichen in sonderzeichen:\n",
        "    text = text.replace(zeichen, \"\")\n",
        "\n",
        "#print(text)"
      ],
      "execution_count": null,
      "outputs": []
    },
    {
      "cell_type": "markdown",
      "metadata": {
        "id": "oI7UEqqqXV6c"
      },
      "source": [
        "### Woche 7: \"Generatoren\"\n",
        "\n",
        "Aus dem package ```sys``` wurde an dieser Stelle kurz ```getsizeof```verwendet, allerdings auch nicht ausführlich, sondern nur, um einen der großen Vorteile von Generatoren zu verdeutlichen: der bedeutend geringere Bedarf an Speicher."
      ]
    },
    {
      "cell_type": "code",
      "metadata": {
        "id": "v-hzgzjrxaZe",
        "colab": {
          "base_uri": "https://localhost:8080/"
        },
        "outputId": "64d59521-6f5b-4521-e484-27ceff485601"
      },
      "source": [
        "from sys import getsizeof\n",
        "\n",
        "def funktion(n):\n",
        "    liste = []\n",
        "    for i in range(n):\n",
        "        liste.append(i**2)\n",
        "    return liste\n",
        "\n",
        "def generator(n):\n",
        "    for i in range(n):\n",
        "        yield i**2\n",
        "\n",
        "liste_fun = funktion(1_000_000)\n",
        "print(getsizeof(liste_fun))\n",
        "liste_gen = generator(1_000_000)\n",
        "print(getsizeof(liste_gen))"
      ],
      "execution_count": null,
      "outputs": [
        {
          "output_type": "stream",
          "name": "stdout",
          "text": [
            "8697472\n",
            "128\n"
          ]
        }
      ]
    },
    {
      "cell_type": "markdown",
      "metadata": {
        "id": "Wo3C-QZ0SPtI"
      },
      "source": [
        "## Einbauen von Packages\n",
        "\n",
        "Wo ihr nun diese Beispiele alle wieder vor Augen geführt bekommen habt, dürfte euch wohl eine große Gemeinsamkeit aufgefallen sein: das Verwenden von ```import```.\n",
        "\n",
        "Die einfachste Option ist natürlich, dass gesamte package zu importieren beziehungsweise zu \"laden\". Dies sieht in der Regel so aus: ```import nameDesPackage```"
      ]
    },
    {
      "cell_type": "code",
      "metadata": {
        "colab": {
          "base_uri": "https://localhost:8080/"
        },
        "id": "DoG2qFwsYtFT",
        "outputId": "2bb60d8f-042f-4d08-8150-6bfc04ead645"
      },
      "source": [
        "import math\n",
        "import random\n",
        "\n",
        "print(math.sqrt(9 + 16))"
      ],
      "execution_count": null,
      "outputs": [
        {
          "output_type": "execute_result",
          "data": {
            "text/plain": [
              "5.0"
            ]
          },
          "metadata": {},
          "execution_count": 6
        }
      ]
    },
    {
      "cell_type": "markdown",
      "metadata": {
        "id": "ZV0BkjofYxxo"
      },
      "source": [
        "Doch manchmal sind uns die Namen von diesen packages zu lang oder wir empfinden es als unübersichtlich. In diesem Rahmen benutzen wir dann ```as```."
      ]
    },
    {
      "cell_type": "code",
      "metadata": {
        "colab": {
          "base_uri": "https://localhost:8080/"
        },
        "id": "6kiEbFXfZAh4",
        "outputId": "4024f5e5-ff1f-4f46-9e84-b60b9fa32c74"
      },
      "source": [
        "import math as m\n",
        "\n",
        "print(m.sqrt(9 + 16))"
      ],
      "execution_count": 1,
      "outputs": [
        {
          "output_type": "stream",
          "name": "stdout",
          "text": [
            "5.0\n"
          ]
        }
      ]
    },
    {
      "cell_type": "markdown",
      "metadata": {
        "id": "AlcZlwGHZbnS"
      },
      "source": [
        "Wenn wir nicht direkt immer das komplette package importieren wollen, können wir auch noch ```from``` benutzen. Dies hat auch den zusätzlichen Vorteil, dass wir die geladenen Funktionen direkt aufrufen können."
      ]
    },
    {
      "cell_type": "code",
      "metadata": {
        "colab": {
          "base_uri": "https://localhost:8080/"
        },
        "id": "p9pGAgSlZo04",
        "outputId": "5d7a6501-0ef8-4766-9aec-4ee25546726d"
      },
      "source": [
        "from math import sqrt\n",
        "\n",
        "print(sqrt(9 + 16))"
      ],
      "execution_count": null,
      "outputs": [
        {
          "output_type": "execute_result",
          "data": {
            "text/plain": [
              "5.0"
            ]
          },
          "metadata": {},
          "execution_count": 8
        }
      ]
    },
    {
      "cell_type": "markdown",
      "source": [
        "# Ein paar Packages\n",
        "In diesem Abschnitt möchten wir euch ein paar Packages vorstellen, die wir in Zukunft häufiger verwenden möchten.\n",
        "## ```math```\n",
        "Das Package ```math``` haben wir eben schon kennengelernt. Es erweitert Python um Funktionen der Mathematik, mit denen wir alle möglichen Berechnungen erstellen können.\n",
        "## ```random```\n",
        "Das Package ```random``` liefert uns Funktionen zum Generieren von Zufallszahlen. Wichtig ist hierbei zu wissen, dass der Computer niemals \"echte\" Zufallszahlen generieren kann, wir reden also von \"Pseudozufall\".\n",
        "\n",
        "Es gibt eine Vielzahl weiterer Packages die Pseudozufallszahlen generieren können. In der nächsten Woche werden wir beispielsweise näher auf ```numpy``` eingehen. Oftmals benötigt man allerdings nicht die ganzen Strukturen, die aufwendigere Packages liefern, daher kann man stattdessen einfach ```random``` benutzen.\n",
        "\n",
        "In dem Codebeispiel wird eine gleichverteilte Zufallszahl gezogen. \"Gleichverteilung\" bedeutet, dass die Wahrscheinlichkeit für jedes Ereignis immer gleich ist. Ihr kennt Gleichverteilungen bereits bei Würfeln! Das Ereignis \"würfle eine 3\" hat die gleiche Wahrscheinlichkeit wir \"würfle eine 1\".\n",
        "\n"
      ],
      "metadata": {
        "id": "RsjgX9Yt4CZA"
      }
    },
    {
      "cell_type": "code",
      "source": [
        "import random\n",
        "\n",
        "zufallszahl = random.random()\n",
        "print(zufallszahl)\n",
        "\n",
        "zufall_0_10 = 10*zufallszahl\n",
        "print(zufall_0_10)\n",
        "\n",
        "def gleichvertZufall(von=0, bis=1):\n",
        "    z = random.random()\n",
        "    output = (bis-von)*z+von\n",
        "    return output\n",
        "\n",
        "for i in range(10):\n",
        "    print(gleichvertZufall(-3, 10))"
      ],
      "metadata": {
        "colab": {
          "base_uri": "https://localhost:8080/"
        },
        "id": "GJ9aE23n5hou",
        "outputId": "08d730b6-0c2c-46e4-cd70-f2532fd3d22d"
      },
      "execution_count": 14,
      "outputs": [
        {
          "output_type": "stream",
          "name": "stdout",
          "text": [
            "0.34832460249408126\n",
            "3.4832460249408124\n",
            "5.340668361975252\n",
            "-2.4497317756070025\n",
            "-0.35008480537385234\n",
            "4.370600680981202\n",
            "9.627538834861001\n",
            "7.440913795844816\n",
            "-1.5630550030386625\n",
            "-2.3081653499418167\n",
            "8.515043128457165\n",
            "5.58335159161366\n"
          ]
        }
      ]
    },
    {
      "cell_type": "markdown",
      "source": [
        "## ```datetime```\n",
        "Das Package ```datetime``` ist ein built-in-Package von Python, mit dem man mit Daten und Uhrzeiten rechnen kann. "
      ],
      "metadata": {
        "id": "lALqdVIL7hIS"
      }
    },
    {
      "cell_type": "code",
      "source": [
        "from datetime import datetime as dt\n",
        "\n",
        "print(dt.now().month)\n",
        "print(dt.now().year)\n",
        "print(dt.now().microsecond)"
      ],
      "metadata": {
        "colab": {
          "base_uri": "https://localhost:8080/"
        },
        "id": "zwiFDqzr7w0f",
        "outputId": "7ac0ed33-7f4c-449a-80e0-ff48c834d989"
      },
      "execution_count": 34,
      "outputs": [
        {
          "output_type": "stream",
          "name": "stdout",
          "text": [
            "12\n",
            "2021\n",
            "859133\n"
          ]
        }
      ]
    },
    {
      "cell_type": "markdown",
      "metadata": {
        "id": "c8XZTQgs6h-O"
      },
      "source": [
        "#Übung 1 - Importieren\n",
        "\n",
        "Schreibe einen Code, welcher das Package ```math``` importiert und die Befehle ```math.sin(x)``` bzw. ```.cos(x)``` und ```.tan(x)```  mit ```x=100``` einerseits als auch mit ```x = 2.6*pi``` andererseits ausgibt.\n",
        "\n",
        "Hinweis: Pi ist auch eine Funktion des *Package* math, welches über ```math.pi``` aufgerufen werden kann.\n",
        "\n",
        "Überprüfe anschließend deine Lösung mit den Zahlen unter dem Code."
      ]
    },
    {
      "cell_type": "code",
      "metadata": {
        "id": "ia0hki766Yn1"
      },
      "source": [
        "# dein Code zur ersten Importierübung:\n",
        "\n"
      ],
      "execution_count": null,
      "outputs": []
    },
    {
      "cell_type": "markdown",
      "metadata": {
        "id": "whcrj_3H9s1f"
      },
      "source": [
        "Die ersten Ziffern der **richtigen Lösung** lauten:\n",
        "\n",
        "**-0.506**\n",
        "**0.862**\n",
        "**0.587**\n",
        "\n",
        "bzw.\n",
        "\n",
        "**0.951**\n",
        "**-0.309**\n",
        "**-3.07**"
      ]
    },
    {
      "cell_type": "markdown",
      "metadata": {
        "id": "Bno9M1pVCr4D"
      },
      "source": [
        "#Übung 2 - Eigeninitiative\n",
        "\n",
        "Die Arbeit eines Programmierers besteht häufig aus Nachschlagen von Methoden, Funktionen, Lösungen. Das sollst du jetzt auch tun.\n",
        "\n",
        "Suche in der offiziellen Python-Dokumentation zum *package* ```datetime``` unter nachfolgendem Link nach einer Möglichkeit den Wochentag auszugeben (Englisch: *weekday*)\n",
        "\n",
        "https://docs.python.org/3.6/library/datetime.html?highlight=datetime#datetime.datetime\n",
        "\n",
        "Wende danach den Befehl auf ```geburtstag_zuse``` und ```geburtstag_meiner``` an, nachdem du bei Letzterem deinen eigenen Geburtstag eingetragen hast. Beachte dafür das dafür erforderliche Format der Datumseingabe.\n",
        "\n",
        "Lösungshinweis: Zuse, der Entwickler des ersten Computers, ist an einem Mittwoch geboren worden; die entsprechende Funktion beschreibt das mit der Ausgabe einer ```2```"
      ]
    },
    {
      "cell_type": "code",
      "metadata": {
        "colab": {
          "base_uri": "https://localhost:8080/"
        },
        "id": "ORf8rfs6AfZm",
        "outputId": "30a669df-bd04-4ad1-d95c-57a8ab2430f8"
      },
      "source": [
        "import datetime\n",
        "\n",
        "geburtstag_meiner = datetime.date(2001,6,7)\n",
        "geburtstag_zuse = datetime.date(1910,6,22)\n",
        "\n",
        "#Hier folgt dein Code:"
      ],
      "execution_count": null,
      "outputs": [
        {
          "output_type": "execute_result",
          "data": {
            "text/plain": [
              "2"
            ]
          },
          "metadata": {},
          "execution_count": 57
        }
      ]
    },
    {
      "cell_type": "markdown",
      "metadata": {
        "id": "SOfbOfBjNcKH"
      },
      "source": [
        "##Übung 2 - Zusatz\n",
        "\n",
        "Wenn du magst, dann kannst du deine obige Funktion so erweitern, dass anstelle von Zahlen die konkreten Wochentage, also anstatt 0 Montag, anstatt 1 Dienstag usw., ausgegeben werden.\n",
        "\n",
        "Nutze hierfür z.B. ```if```, ```elif``` und ```else```"
      ]
    },
    {
      "cell_type": "markdown",
      "metadata": {
        "id": "aWZZ7pSxHi-h"
      },
      "source": [
        "#Übung 3 - 1001 mal würfeln\n",
        "\n",
        "Importiere zunächst das ```random``` *Package*.\n",
        "\n",
        "Nutze eine Funktion des ```random``` *Packages*, um einen normalen 6-seitigen Würfel mit Augenzahlen zwischen 1 und 6 insgesamt 1001 mal zu würfeln. (Verwende dafür z.B. eine ```for```-Schleife)\n",
        "\n",
        "Addiere alle Ergebnisse und gebe die Summe auf der Konsole aus.\n",
        "\n",
        "Gebe anschließend den Mittelwert aller Würfe auf der Konsole aus."
      ]
    },
    {
      "cell_type": "code",
      "metadata": {
        "id": "58AAX2V7JdBA"
      },
      "source": [
        ""
      ],
      "execution_count": null,
      "outputs": []
    },
    {
      "cell_type": "markdown",
      "metadata": {
        "id": "SPp92lJsMWiM"
      },
      "source": [
        "#Übung 4 Chaos\n",
        "\n",
        "Schreibe eine Funktion, die eine zweihundertfünfzigtausend mal Zahlen zwischen 1 und 99 würfelt.\n",
        "Addiere dazu den Wert des heutigen Wochentages (rechechiere ggf. in dem Dokumentationslink von Aufgabe 2).\n",
        "\n",
        "Bilde hiervon den Mittelwert, teile ihn anschließend mit Abrunden durch 5 mittels ```//``` und multipliziere dann mit Pi.\n",
        "Berechne hiervon den Kosinus und gebe ihn auf der Konsole aus.\n",
        "\n",
        "Importiere alle *Packages*, die dafür notwendig sind."
      ]
    },
    {
      "cell_type": "code",
      "metadata": {
        "id": "4EuXY8A_OrpI"
      },
      "source": [
        ""
      ],
      "execution_count": null,
      "outputs": []
    },
    {
      "cell_type": "markdown",
      "metadata": {
        "id": "tsgwj-_Lb_l1"
      },
      "source": [
        "#Übung 5 - Vervollständigung & Ausblick auf nächste Stunde\n",
        "\n",
        "Das folgende Programm ist fast fertig - nur noch der Anfangsteil fehlt.\n",
        "\n",
        "Versuche den Code zum Laufen zu bringen, indem du diesen ergänzt.\n",
        "\n",
        ".\n",
        "\n",
        "Hinweis 1:\n",
        "Der Code fügt benutzt unter anderem Funktionen aus der ersten Übung, implementiert sie aber etwas anders.\n",
        "\n",
        "Berücksichtige das hinsichtlich der *Packages* entsprechend.\n",
        "\n",
        ".\n",
        "\n",
        "Hinweis 2:\n",
        "\n",
        "Es wird das *Package* *matplotlib.pyplot* verwendet, welches wir nächste Stunde noch ausführlicher behandeln werden.\n",
        "Dieses taucht nicht in der Standard-Dokumentation von Python auf und muss etwas anders importiert werden.\n",
        "\n",
        "Siehe dir dafür auch das Beispiel unter folgendem Link an:\n",
        "\n",
        "https://matplotlib.org/stable/tutorials/introductory/usage.html#sphx-glr-tutorials-introductory-usage-py"
      ]
    },
    {
      "cell_type": "code",
      "metadata": {
        "id": "wE_kHUEKcZB3",
        "colab": {
          "base_uri": "https://localhost:8080/",
          "height": 249
        },
        "outputId": "85e172a2-2bcb-4891-aa1a-4cbe54361c04"
      },
      "source": [
        "#Hier folgt dein Code\n",
        "\n",
        "\n",
        "#Hier endet dein Code\n",
        "#Der folgende Code soll so bleiben:\n",
        "points = 12\n",
        "list_x = []\n",
        "list_y = []\n",
        "\n",
        "for i in range(0,points+1):\n",
        "  list_x.append(m.cos((i*m.pi)/(points/2)))\n",
        "  list_y.append(m.sin((i*m.pi)/(points/2)))\n",
        "\n",
        "plt.plot(list_x,list_y);\n",
        "#Hier endet der Code"
      ],
      "execution_count": null,
      "outputs": [
        {
          "output_type": "error",
          "ename": "NameError",
          "evalue": "ignored",
          "traceback": [
            "\u001b[0;31m---------------------------------------------------------------------------\u001b[0m",
            "\u001b[0;31mNameError\u001b[0m                                 Traceback (most recent call last)",
            "\u001b[0;32m<ipython-input-1-d1c0df23aee6>\u001b[0m in \u001b[0;36m<module>\u001b[0;34m()\u001b[0m\n\u001b[1;32m      9\u001b[0m \u001b[0;34m\u001b[0m\u001b[0m\n\u001b[1;32m     10\u001b[0m \u001b[0;32mfor\u001b[0m \u001b[0mi\u001b[0m \u001b[0;32min\u001b[0m \u001b[0mrange\u001b[0m\u001b[0;34m(\u001b[0m\u001b[0;36m0\u001b[0m\u001b[0;34m,\u001b[0m\u001b[0mpoints\u001b[0m\u001b[0;34m+\u001b[0m\u001b[0;36m1\u001b[0m\u001b[0;34m)\u001b[0m\u001b[0;34m:\u001b[0m\u001b[0;34m\u001b[0m\u001b[0;34m\u001b[0m\u001b[0m\n\u001b[0;32m---> 11\u001b[0;31m   \u001b[0mlist_x\u001b[0m\u001b[0;34m.\u001b[0m\u001b[0mappend\u001b[0m\u001b[0;34m(\u001b[0m\u001b[0mm\u001b[0m\u001b[0;34m.\u001b[0m\u001b[0mcos\u001b[0m\u001b[0;34m(\u001b[0m\u001b[0;34m(\u001b[0m\u001b[0mi\u001b[0m\u001b[0;34m*\u001b[0m\u001b[0mm\u001b[0m\u001b[0;34m.\u001b[0m\u001b[0mpi\u001b[0m\u001b[0;34m)\u001b[0m\u001b[0;34m/\u001b[0m\u001b[0;34m(\u001b[0m\u001b[0mpoints\u001b[0m\u001b[0;34m/\u001b[0m\u001b[0;36m2\u001b[0m\u001b[0;34m)\u001b[0m\u001b[0;34m)\u001b[0m\u001b[0;34m)\u001b[0m\u001b[0;34m\u001b[0m\u001b[0;34m\u001b[0m\u001b[0m\n\u001b[0m\u001b[1;32m     12\u001b[0m   \u001b[0mlist_y\u001b[0m\u001b[0;34m.\u001b[0m\u001b[0mappend\u001b[0m\u001b[0;34m(\u001b[0m\u001b[0mm\u001b[0m\u001b[0;34m.\u001b[0m\u001b[0msin\u001b[0m\u001b[0;34m(\u001b[0m\u001b[0;34m(\u001b[0m\u001b[0mi\u001b[0m\u001b[0;34m*\u001b[0m\u001b[0mm\u001b[0m\u001b[0;34m.\u001b[0m\u001b[0mpi\u001b[0m\u001b[0;34m)\u001b[0m\u001b[0;34m/\u001b[0m\u001b[0;34m(\u001b[0m\u001b[0mpoints\u001b[0m\u001b[0;34m/\u001b[0m\u001b[0;36m2\u001b[0m\u001b[0;34m)\u001b[0m\u001b[0;34m)\u001b[0m\u001b[0;34m)\u001b[0m\u001b[0;34m\u001b[0m\u001b[0;34m\u001b[0m\u001b[0m\n\u001b[1;32m     13\u001b[0m \u001b[0;34m\u001b[0m\u001b[0m\n",
            "\u001b[0;31mNameError\u001b[0m: name 'm' is not defined"
          ]
        }
      ]
    },
    {
      "cell_type": "markdown",
      "metadata": {
        "id": "_bN8FTgEu6fV"
      },
      "source": [
        "#Übung 5 - Zusatz\n",
        "\n",
        "Schreibe selbst nach dem Vorbild von 5 eine Funktion, die 30 Punkte einer Parabel zwischen x=-3 und x=3 abbildet.\n",
        "\n",
        "Du kannst dafür gerne Teile von Aufgabe 5 komplett kopieren."
      ]
    },
    {
      "cell_type": "code",
      "metadata": {
        "id": "J7FqDQV9vVpE"
      },
      "source": [
        "#dein Parabel-Code folgt hier:\n"
      ],
      "execution_count": null,
      "outputs": []
    }
  ]
}