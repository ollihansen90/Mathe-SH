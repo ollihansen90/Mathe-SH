{
  "nbformat": 4,
  "nbformat_minor": 0,
  "metadata": {
    "colab": {
      "provenance": [],
      "authorship_tag": "ABX9TyM5OzGHDLrud9Ag3UDbHFM6",
      "include_colab_link": true
    },
    "kernelspec": {
      "name": "python3",
      "display_name": "Python 3"
    },
    "language_info": {
      "name": "python"
    }
  },
  "cells": [
    {
      "cell_type": "markdown",
      "metadata": {
        "id": "view-in-github",
        "colab_type": "text"
      },
      "source": [
        "<a href=\"https://colab.research.google.com/github/ollihansen90/Mathe-SH/blob/main/JuliaMengen.ipynb\" target=\"_parent\"><img src=\"https://colab.research.google.com/assets/colab-badge.svg\" alt=\"Open In Colab\"/></a>"
      ]
    },
    {
      "cell_type": "markdown",
      "source": [
        "# Julia-Mengen\n",
        "<img src=\"https://upload.wikimedia.org/wikipedia/commons/b/b1/Julia_set_%28ice%29.png\" width=\"50%\"/>\n",
        "\n",
        "## Fragen?\n",
        "Solltet ihr Fragen zum Code oder Probleme mit Colab haben, schickt uns gerne eine Mail:\n",
        "\n",
        "*   h.hansen@uni-luebeck.de\n",
        "*   maren.wieder@student.uni-luebeck.de\n",
        "*   friederike.meissner@student.uni-luebeck.de\n",
        "*   dustin.haschke@student.uni-luebeck.de\n",
        "\n",
        "## Was sind Julia-Mengen?\n",
        "Julia-Mengen sind Teilmengen der komplexen Zahlenebene, die meistens fraktale Mengen bilden. Sie entstehen durch die mehrfache Hintereinanderausführung eines Polynoms (dazu später mehr).\n",
        "\n",
        "Diese Fraktale sollen in diesem Notebook geplottet werden. Genau genommen plotten wir nicht die Julia-Menge, die aus dem \"Rand\" bestehen, sondern deren Komplemente, die Fatou-Mengen. Fatou-Mengen entstehen durch Startwerte, die zu einer stetigen Dynamik führen, während Julia-Mengen-Elemente zu instabilen Prozessen führen (Chaos).\n",
        "\n",
        "## Importieren wichtiger Funktionen\n",
        "Im ersten Codeblock importieren wir unsere komplexe Algebra, die wir schon in einem alten Notebook erstellt haben. Zur Erinnerung: Sie besteht aus einer Klasse `Komplex`, die die Attribute `real` für den Realteil und `imag` für den Imaginärteil einer komplexen Zahl $a+bi$ stehen. Außerdem hat die Klasse folgende Methoden:\n",
        "\n",
        "*   `add`: Addition zweier komplexer Zahlen, erwartet eine Instanz der Klasse `Komplex` und gibt eine Instanz der Klasse `Komplex` mit dem Ergebnis zurück.\n",
        "*   `sub`: Subtraktion zweier komplexer Zahlen, erwartet eine Instanz der Klasse `Komplex` und gibt eine Instanz der Klasse `Komplex` mit dem Ergebnis zurück.\n",
        "*   `mul`: Multiplikation zweier komplexer Zahlen, erwartet eine Instanz der Klasse `Komplex` und gibt eine Instanz der Klasse `Komplex` mit dem Ergebnis zurück.\n",
        "*   `div`: Division zweier komplexer Zahlen, erwartet eine Instanz der Klasse `Komplex` und gibt eine Instanz der Klasse `Komplex` mit dem Ergebnis zurück.\n",
        "*   `norm`: Gibt die \"quadratische Länge\" der komplexen Zahl zurück. Die Rechnung ist einfach $Re(z)^2+Im(z)^2$, das Ergebnis ist eine normale Zahl, wie wir sie bisher immer genutzt haben (also nicht vom Typ `Komplex` sondern `double` oder `int`).\n",
        "*   `copy`: Kopiert die komplexe Zahl in eine neue Instanz vom Typ `Komplex`."
      ],
      "metadata": {
        "id": "C_4T__7hH4BL"
      }
    },
    {
      "cell_type": "code",
      "execution_count": null,
      "metadata": {
        "id": "0wkmFcCzH3Kl"
      },
      "outputs": [],
      "source": [
        "import requests\n",
        "import matplotlib.pyplot as plt\n",
        "r = requests.get(\"https://raw.githubusercontent.com/ollihansen90/Mathe-SH/main/utils/komplex.py\")\n",
        "with open(\"utils.py\", \"w\") as file:\n",
        "    file.write(r.text)\n",
        "\n",
        "from utils import Komplex\n",
        "\n",
        "a = Komplex(1,1)\n",
        "b = Komplex(2,-1)\n",
        "c = a.mul(b)\n",
        "d = c.copy()\n",
        "print(d.real, d.imag)\n",
        "print(d.norm())"
      ]
    },
    {
      "cell_type": "markdown",
      "source": [
        "## Updatefunktion\n",
        "Wie oben beschrieben, entstehen die Fraktale durch Hintereinanderausführen eines Polynomes. Das Polynom, das hier benutzt werden soll ist $f(z)=z^2+c$ mit $z$ und $c$ Elemente der komplexen Zahlen.\n",
        "\n",
        "### Aufgabe 1:\n",
        "Erstelle die Funktion $f(z)=z^2-0.6+0.6i$ und führe sie für einen beliebigen Startwert (z.B. $z=0.1+0.1i$) zehn Mal hintereinander aus. Nutze hierfür die Klasse `Komplex`, die oben importiert wurde.\n",
        "\n",
        "Hiweis: Probier hier mal Lambda-Funktionen statt \"normale\" Funktionen mit `def`! Für die Hintereinanderausführung kann hier eine `for`-Schleife genutzt werden.\n",
        "\n",
        "### Aufgabe 2: Verhalten der Funktion\n",
        "Die wichtigste Frage, die wir uns nun stellen wollen, ist zum Verhalten der Funktion für unterschiedliche Startwerte. Insbesondere interessiert uns dabei, wie lange es dauert, bis die Zahl \"explodiert\", also ab wie vielen Iterationen die Zahl groß wird.\n",
        "\n",
        "Teste für unterschiedliche Startwerte, wie der Pfad aussieht! Zusatz: Wann verlässt der Pfad den Kreis mit Radius $\\sqrt{2}$?\n",
        "\n",
        "Hinweis: Erstelle eine Liste und nutze die `append`-Methode, um Kopien (nutze hier `copy`) zu speichern. Lass die Schleife abbrechen, wenn die Norm der Zahl größer als $2$ wird.\n",
        "\n",
        "### Aufgabe 3: Plotten\n",
        "Erstelle für viele Startpunkte ein Bild, in dem die Anzahl Iterationen bis zum Verlassen des Kreises gespeichert werden.\n",
        "\n",
        "Hinweis: Beginne mit `Komplex(-1, -1)`, gehe dann zu `Komplex(-0.8, -1)` und so weiter, bis du bei `Komplex(1, 1)` landest. Kannst du das irgendwie mit einer Schleife automatisieren?"
      ],
      "metadata": {
        "id": "NtSzJgKnLktI"
      }
    },
    {
      "cell_type": "code",
      "source": [
        "# Hier kommt dein Code hin :-)\n"
      ],
      "metadata": {
        "id": "8C-RvUcjMjQn"
      },
      "execution_count": null,
      "outputs": []
    },
    {
      "cell_type": "markdown",
      "source": [
        "## Geschafft 🥳\n",
        "Als nächstes kannst du ein bisschen mit dem $c$ in $f(z)=z^2+c$ rumspielen! Hier gibt es ein paar Beispiele (von Wikipedia):\n",
        "\n",
        "<img src=\"https://upload.wikimedia.org/wikipedia/commons/a/a9/Julia-Teppich.png\" width=\"100%\"/>\n",
        "\n",
        "Findest du vielleicht noch hübschere Werte für $c$?"
      ],
      "metadata": {
        "id": "C9uE0ofVQg7f"
      }
    }
  ]
}