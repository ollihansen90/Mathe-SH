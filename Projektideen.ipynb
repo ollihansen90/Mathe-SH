{
  "nbformat": 4,
  "nbformat_minor": 0,
  "metadata": {
    "colab": {
      "name": "Projektideen.ipynb",
      "provenance": [],
      "collapsed_sections": [],
      "include_colab_link": true
    },
    "kernelspec": {
      "name": "python3",
      "display_name": "Python 3"
    },
    "language_info": {
      "name": "python"
    }
  },
  "cells": [
    {
      "cell_type": "markdown",
      "metadata": {
        "id": "view-in-github",
        "colab_type": "text"
      },
      "source": [
        "<a href=\"https://colab.research.google.com/github/ollihansen90/Mathe-SH/blob/main/Projektideen.ipynb\" target=\"_parent\"><img src=\"https://colab.research.google.com/assets/colab-badge.svg\" alt=\"Open In Colab\"/></a>"
      ]
    },
    {
      "cell_type": "markdown",
      "source": [
        "#**Projektideen für die Sommerferien** 😎🌞\n",
        "\n",
        "---\n",
        "\n",
        "## Fragen?\n",
        "Solltet ihr Fragen zu den Aufgaben oder Probleme mit Colab haben, schickt uns gerne eine Mail:\n",
        "\n",
        "*   hohansen@inb.uni-luebeck.de\n",
        "*   maren.wieder@student.uni-luebeck.de\n",
        "*   friederike.meissner@student.uni-luebeck.de\n",
        "*   dustin.haschke@student.uni-luebeck.de\n",
        "\n"
      ],
      "metadata": {
        "id": "T5TKOfKD9T14"
      }
    },
    {
      "cell_type": "markdown",
      "source": [
        "# Sudoku\n",
        "Test auf gelöstes Rätsel\n",
        "\n",
        "Betreuer: Olli, Maren, Friederike, Dustin"
      ],
      "metadata": {
        "id": "I9Tl3AwW9Vto"
      }
    },
    {
      "cell_type": "markdown",
      "source": [
        "# Game of Life\n",
        "LINK: https://github.com/ollihansen90/Mathe-SH/blob/main/Game_of_Life_Grundbaustein.ipynb\n",
        "\n",
        "Betreuer: Olli"
      ],
      "metadata": {
        "id": "Z4xEIF5T9aSG"
      }
    },
    {
      "cell_type": "markdown",
      "source": [
        "# Wordle\n",
        "\n",
        "https://wordlegame.org/\n",
        "\n",
        "Betreuer: Olli, Maren"
      ],
      "metadata": {
        "id": "ewdWmTEs9d-Q"
      }
    },
    {
      "cell_type": "markdown",
      "source": [
        "# Mastermind\n",
        "\n",
        "Implementierung des Spiels (ähnlich zu Hangman)\n",
        "\n",
        "Betreuer: Olli, Maren, Dustin"
      ],
      "metadata": {
        "id": "bLCZSNFD9rSr"
      }
    },
    {
      "cell_type": "markdown",
      "source": [
        "# Blackjack\n",
        "\n",
        "Wir wollen Blackjack spielen 😄\n",
        "\n",
        "Betreuer: Olli, Maren"
      ],
      "metadata": {
        "id": "pxzE28CfIw24"
      }
    },
    {
      "cell_type": "markdown",
      "source": [
        "# Roulette\n",
        "Ein Roulette-Simulator\n",
        "\n",
        "Betreuer: Olli, Dustin"
      ],
      "metadata": {
        "id": "LMM52obtJIr2"
      }
    },
    {
      "cell_type": "markdown",
      "source": [
        "# Pokersimulator\n",
        "Welche Hand ist die beste? Texas Hold'em\n",
        "\n",
        "Betreuer: Olli"
      ],
      "metadata": {
        "id": "1QkKfSYQIymz"
      }
    },
    {
      "cell_type": "markdown",
      "source": [
        "# Solitaire (Klondike, Spider)\n",
        "\n",
        "Betreuer: Maren"
      ],
      "metadata": {
        "id": "2re5LdAhI4eX"
      }
    },
    {
      "cell_type": "markdown",
      "source": [
        "# Monopoly\n",
        "Welche Straße sollte man auf jeden Fall kaufen und welche nicht?\n",
        "\n",
        "Betreuer: Olli"
      ],
      "metadata": {
        "id": "67qV22e0I9bj"
      }
    },
    {
      "cell_type": "markdown",
      "source": [
        "# The Game (Kartenspiel)\n",
        "\n",
        "Ziel: Ablegen aller Karten mit Zahlen von 2 bis 99 auf vier Stapeln (zwei abwärts, zwei aufwärts sortiert)\n",
        "\n",
        "https://www.brettspiele-report.de/images/t/the-game/Spielanleitung-The-Game.pdf\n",
        "\n",
        "Betreuer: Olli, Maren"
      ],
      "metadata": {
        "id": "J1NirEVsJAn-"
      }
    },
    {
      "cell_type": "markdown",
      "source": [
        "# Snakes and Ladders (Simulator)\n",
        "\n",
        "https://ashutosh-bitmesra.medium.com/python-for-kids-snake-and-ladder-game-e74013b897d9\n",
        "\n",
        "Betreuer: Friederike"
      ],
      "metadata": {
        "id": "ORebjNi7JFj2"
      }
    },
    {
      "cell_type": "markdown",
      "source": [
        "# Dr. Nim\n",
        "\n",
        "Erstellen einer spielbaren Version von Dr Nim bzw. dem Nim-Spiel.\n",
        "\n",
        "siehe:\n",
        "https://de.wikipedia.org/wiki/Nim-Spiel\n",
        "\n",
        "Betreuer: Olli, Dustin, Friederike"
      ],
      "metadata": {
        "id": "CLsoKybQJQ69"
      }
    },
    {
      "cell_type": "markdown",
      "source": [
        "# Eisdiele\n",
        "\n",
        "Modellierung einer Eisdiele mit versch. Klassen, Auswahl der Eissorten und tagesaktuell produzierter Menge anhand der Wettervorhersage, variable Ausrüstung der Eismaschine.\n",
        "\n",
        "Die kaufbare Ausrüstung bedingt bessere Qualität (künftig mehr Kunden, produzierte Sorten) oder mehr verkaufte Waren (mehr Umsatz/Geldeingang) bzw. günstigere Produktion dieser.\n",
        "\n",
        "Ein Spielziel könnte sein, alle potentiellen Kunden über 10 Tage mit Eis versorgen und dabei maximale Qualität zu liefern, um die beste Eisdiele der Stadt zu haben.\n",
        "\n",
        "Betreuer: Olli, Friederike, Dustin"
      ],
      "metadata": {
        "id": "Yr4xTbpGJSRr"
      }
    },
    {
      "cell_type": "markdown",
      "source": [
        "# Panzer/Pokemon\n",
        "Erstellen eines Spiels mit Pokemon/Panzern, die unterschiedliche Angriffs- Verteidigungswerte haben und mit Gegenständen ausgerüstet werden können.\n",
        "\n",
        "Man kann gegen zufällige Monster/Panzer antreten, wofür man Geld erhält, was erneut in neue Ausrüstung investiert werden kann.\n",
        "\n",
        "Betreuer: Olli, Maren, Friederike"
      ],
      "metadata": {
        "id": "ieF_y5ZNJUpK"
      }
    }
  ]
}