{
  "nbformat": 4,
  "nbformat_minor": 0,
  "metadata": {
    "colab": {
      "name": "Mathe^SH_Prog_14 - Klassen - Vererbung.ipynb",
      "provenance": [],
      "collapsed_sections": [
        "w9NZsDHrtoK3",
        "T6LHEKI9vWLQ"
      ],
      "include_colab_link": true
    },
    "kernelspec": {
      "name": "python3",
      "display_name": "Python 3"
    },
    "language_info": {
      "name": "python"
    }
  },
  "cells": [
    {
      "cell_type": "markdown",
      "metadata": {
        "id": "view-in-github",
        "colab_type": "text"
      },
      "source": [
        "<a href=\"https://colab.research.google.com/github/ollihansen90/Mathe-SH/blob/main/Mathe%5ESH_Prog_14_Klassen_Vererbung.ipynb\" target=\"_parent\"><img src=\"https://colab.research.google.com/assets/colab-badge.svg\" alt=\"Open In Colab\"/></a>"
      ]
    },
    {
      "cell_type": "markdown",
      "source": [
        "## Klassen - Vererbung\n",
        "\n",
        "## Fragen?\n",
        "Solltet ihr Fragen zum Code oder Probleme mit Colab haben, schickt uns gerne eine Mail:\n",
        "\n",
        "*   hohansen@inb.uni-luebeck.de\n",
        "*   maren.wieder@student.uni-luebeck.de\n",
        "*   friederike.meissner@student.uni-luebeck.de\n",
        "*   dustin.haschke@student.uni-luebeck.de"
      ],
      "metadata": {
        "id": "xqn4jUtiMJYp"
      }
    },
    {
      "cell_type": "markdown",
      "source": [
        "#Vererbung\n",
        "\n",
        "##Prinzip\n",
        "Wir beschäftigen uns heute mit der Vererbung von Klassen.\n",
        "\n",
        "Ähnlich wie Eltern an ihre Kinder Gene vererben, können dies auch Klassen tun.\n",
        "\n",
        "Hierbei ist es allerdings so, dass die erbende Klasse quasi eine Spezialform der Klasse darstellt, von der sie erbt. Passender ist also weniger eine Eltern-Kind-Beziehung als vielmehr sowas wie Tiere-Säugetiere-Menschenaffen-Schimpanse, was ausdrückt, dass ein Säugetier generell ein Tier, ein Menschenaffe ein Säuger und ein Schimpanse wiederum ein Menschenaffe ist.\n",
        "\n",
        "##Anwendung\n",
        "\n",
        "In Python überträgt dabei eine übergeordnete Klasse (z.B. Menschenaffe) alle Funktionen und auch noch einiges anderes auf die untergeordnete Klasse (z.B. Schimpanse).\n",
        "\n",
        "Damit eine Klasse von einer anderen Klasse erbt, wird beim Anlegen der Klasse die übergeordnete Klasse in Klammern - quasi als Attribut - dahintergesetzt nach diesem Muster:\n",
        "\n",
        "###`class Tochter(Vater):`\n",
        "\n"
      ],
      "metadata": {
        "id": "m7crCZicZ22J"
      }
    },
    {
      "cell_type": "markdown",
      "source": [
        "####Hier ein konkretes Beispiel als ***ausführbarer Code***:"
      ],
      "metadata": {
        "id": "I5Amm59Mh96B"
      }
    },
    {
      "cell_type": "code",
      "source": [
        "class Stift():\n",
        "    def __init__(self,farbe,text):\n",
        "        self.farbe = farbe\n",
        "        self.text = text\n",
        "\n",
        "    def lesen(self):\n",
        "        print(\"Text in\",self.farbe,\":\",self.text)\n",
        "\n",
        "class Kugelschreiber(Stift):\n",
        "    def klicken(self):\n",
        "        print(\"Klick-Klack!\")\n",
        "\n",
        "roter_stift = Stift(\"rot\",\"Hallo Frau Sommer.\")\n",
        "roter_stift.lesen()\n",
        "\n",
        "neuer_stift = Kugelschreiber(\"blau\",\"Hallo Herr Mohn\")\n",
        "neuer_stift.lesen()\n",
        "neuer_stift.klicken()"
      ],
      "metadata": {
        "colab": {
          "base_uri": "https://localhost:8080/"
        },
        "id": "MHjLjae2b5_4",
        "outputId": "062c293a-fb8d-45a7-bd39-0a5a6742df3c"
      },
      "execution_count": null,
      "outputs": [
        {
          "output_type": "stream",
          "name": "stdout",
          "text": [
            "Text in rot : Hallo Frau Sommer.\n",
            "Text in blau : Hallo Herr Mohn\n",
            "Klick-Klack!\n"
          ]
        }
      ]
    },
    {
      "cell_type": "markdown",
      "source": [
        "####Erläuterung\n",
        "OBWOHL in diesem Beispiel  `neuer_stift` ein Objekt der Klasse `Kugelschreiber` ist, kann die Funktion `lesen()` in Zeile 17 für dieses benutzt werden, welche in Zeile 6 nur für den `Stift` definiert wurde und gibt so **\"Text in blau : Hallo Herr Mohn\"** aus.\n",
        "\n",
        "Das liegt daran, dass die Klasse Kugelschreiber von der Klasse Stift erbt.\n"
      ],
      "metadata": {
        "id": "gkFVzitZbzPN"
      }
    },
    {
      "cell_type": "markdown",
      "source": [
        "####Ein weiteres Beispiel:"
      ],
      "metadata": {
        "id": "zppMsfl6hyiW"
      }
    },
    {
      "cell_type": "code",
      "source": [
        "class Stift():\n",
        "    def __init__(self,farbe,text):\n",
        "        self.farbe = farbe\n",
        "        self.text = text\n",
        "\n",
        "    def lesen(self):\n",
        "        print(\"Text in\",self.farbe,\":\",self.text)\n",
        "\n",
        "class Bleistift(Stift):\n",
        "    # Überschreiben(!) der init-Funktion von Stift       \n",
        "    def __init__(self,text):  # Farbe wird nicht mehr übergeben\n",
        "        # Attribut Farbe wird immer auf schwarz gesetzt\n",
        "        self.farbe = \"schwarz\"\n",
        "        self.text = text\n",
        "\n",
        "    def radieren(self,anzahl):\n",
        "        if len(self.text) > 0:\n",
        "            self.text = self.text[0:-anzahl]\n",
        "            print(\"*WischWasch*\")\n",
        "\n",
        "mein_bleistift = Bleistift(\"Dies ist ein Text\")\n",
        "\n",
        "mein_bleistift.lesen()\n",
        "mein_bleistift.radieren(10)\n",
        "mein_bleistift.lesen()"
      ],
      "metadata": {
        "colab": {
          "base_uri": "https://localhost:8080/"
        },
        "id": "tWNH2Ym8hJrF",
        "outputId": "09d9cd42-63ba-4f5c-f261-47ce5cf01622"
      },
      "execution_count": null,
      "outputs": [
        {
          "output_type": "stream",
          "name": "stdout",
          "text": [
            "Text in schwarz : Dies ist ein Text\n",
            "*WischWasch*\n",
            "Text in schwarz : Dies is\n"
          ]
        }
      ]
    },
    {
      "cell_type": "markdown",
      "source": [
        "####Erläuterung\n",
        "Hier erbt die Klasse Bleistift von Stift.\n",
        "\n",
        "Dass diese nicht nur über die geerbte Funktion `lesen()`, sondern auch über ihre \"eigene\" Funktion `radieren()` verfügt, sehen wir daran, dass wir im Beispiel 10 Buchstaben vom Text wegradieren und erneut den veränderten Text ausgeben.\n",
        "\n",
        "Eine Besonderheit ist hier, dass die Klasse Bleistift selbst einen Konstruktor, also eine ganz eigene Initialisierungsfunktion, hat, OBWOHL diese bereits für die Elternklasse Stift definiert wurde.\n",
        "\n",
        "Ganz offenbar wird dieser der Vortritt gegeben, da `mein_bleistift` keine Farbe übergeben wird und die Farbe, wie grundsätzlich für Bleistift angelegt, auf schwarz gesetzt wurde."
      ],
      "metadata": {
        "id": "5SRUhvHRihXG"
      }
    },
    {
      "cell_type": "markdown",
      "source": [
        "##`super()`\n",
        "Haben wir Attribute, die schon in der Oberklasse enthalten sind, können wir mit Hilfe von `super()` ganz einfach die Unterklasse als Instanz der Oberklasse initialisieren. So sparen wir uns ganz oft ein paar Zeilen Code (vor allem, wenn wir sehr viele Attribute haben, die erst noch gesetzt werden müssen). `super()` ist dabei einfach ein allgemeiner Platzhalter für die Oberklasse(n). Unten sehen wir das Bleistift-Beispiel, das `super()` benutzt."
      ],
      "metadata": {
        "id": "7WB_WrxoH5eD"
      }
    },
    {
      "cell_type": "code",
      "source": [
        "class Stift():\n",
        "    def __init__(self,farbe,text):\n",
        "        self.farbe = farbe\n",
        "        self.text = text\n",
        "\n",
        "    def lesen(self):\n",
        "        print(\"Text in\",self.farbe,\":\",self.text)\n",
        "\n",
        "class Bleistift(Stift):\n",
        "    # Überschreiben(!) der init-Funktion von Stift       \n",
        "    def __init__(self,text):  # Farbe wird nicht mehr übergeben\n",
        "        # Attribut Farbe wird immer auf schwarz gesetzt\n",
        "        super().__init__(\"schwarz\", text)\n",
        "\n",
        "    def radieren(self,anzahl):\n",
        "        if len(self.text) > 0:\n",
        "            self.text = self.text[0:-anzahl]\n",
        "            print(\"*WischWasch*\")\n",
        "\n",
        "mein_bleistift = Bleistift(\"Dies ist ein Text\")\n",
        "\n",
        "mein_bleistift.lesen()\n",
        "mein_bleistift.radieren(10)\n",
        "mein_bleistift.lesen()"
      ],
      "metadata": {
        "colab": {
          "base_uri": "https://localhost:8080/"
        },
        "id": "2cA9wcMgJvmA",
        "outputId": "e8a18496-100a-47e8-ee2d-7576b320e10c"
      },
      "execution_count": null,
      "outputs": [
        {
          "output_type": "stream",
          "name": "stdout",
          "text": [
            "Text in schwarz : Dies ist ein Text\n",
            "*WischWasch*\n",
            "Text in schwarz : Dies is\n"
          ]
        }
      ]
    },
    {
      "cell_type": "markdown",
      "source": [
        "## Sichtbarkeit der Attribute\n",
        "\n",
        "Bislang haben wir nur mit sogenannten **öffentlich**en Attributen gearbeitet.\n",
        "Allerdings kann ein Attribut eines Objektes auch mal **privat**, also nur für das Objekt selbst, zugänglich sein.\n",
        "\n",
        "Damit ein Objekt geschützt wird, wird es in der `init()`-Funktion über `self.__attributsname`, also mit einem doppelten vorangesetzten Unterstrich, initialisiert.\n",
        "\n",
        "Ein einzelner Unterstrich ist hingegen nur ein Programmiererhinweis, dass man das Attribut möglichst nicht verändern sollte, der sich aber nicht programmiertechnisch auswirkt."
      ],
      "metadata": {
        "id": "eVqQu5LGpmBt"
      }
    },
    {
      "cell_type": "code",
      "source": [
        "class Zettel():\n",
        "    def __init__(self,bleistift,tinte,geheim_tinte):\n",
        "        self.bleistift = bleistift\n",
        "        self._tinte = tinte\n",
        "        self.__geheim_tinte = geheim_tinte\n",
        "\n",
        "    def lesen(self):\n",
        "        print(\"Auf dem Zettel steht:\", self.bleistift, self._tinte, self.__geheim_tinte)\n",
        "\n",
        "antonias_notizen = Zettel(\"Ich bin 10 Jahre alt.\",\"Ich heiße Antonia.\",\"Ich bin in Tom verliebt.\")\n",
        "\n",
        "print(antonias_notizen.bleistift)\n",
        "print(antonias_notizen._tinte)\n",
        "#print(antonias_notizen.__geheim_tinte)      #   <- Dies funktioniert nicht, da die geheim_Tinte nicht (direkt) zugänglich ist.\n",
        "\n",
        "antonias_notizen.lesen()    # eine klasseneigene Funktion kann auf geschützte Attribute zugreifen"
      ],
      "metadata": {
        "colab": {
          "base_uri": "https://localhost:8080/"
        },
        "id": "FK1Ry3NYqQXK",
        "outputId": "8a4fbbf4-3e35-400e-bdea-656a08960bdd"
      },
      "execution_count": null,
      "outputs": [
        {
          "output_type": "stream",
          "name": "stdout",
          "text": [
            "Ich bin 10 Jahre alt.\n",
            "Ich heiße Antonia.\n",
            "Auf dem Zettel steht: Ich bin 10 Jahre alt. Ich heiße Antonia. Ich bin in Tom verliebt.\n"
          ]
        }
      ]
    },
    {
      "cell_type": "markdown",
      "source": [
        "####Erläuterung\n",
        "\n",
        "Sowohl die **öffentlichen** `bleistift`-Notizen, als auch die **geschützten** `_tinten`-Notizen können ausgegeben werden.\n",
        "\n",
        "Entfernt man allerdings das #-Kommentarzeichen in Zeile 15 (Teste selbst!), so erhält man eine Fehlermeldung, da man nicht ohne Weiteres extern auf das **private** Attribut *geheim_tinte* von *Zettel* zugreifen kann.\n",
        "\n",
        "Die Klasse selbst kann allerdings noch über Funktionen mit diesem Attribut operieren, wie der Aufruf der Funktion `lesen()` von `antonias_notizen` zum Schluss zeigt.\n",
        "\n",
        "In gleicher Weise können sogar Funktionen einer Klasse ***privat*** sein, wie hier verdeutlicht wird:"
      ],
      "metadata": {
        "id": "SVOZkwSeuys3"
      }
    },
    {
      "cell_type": "code",
      "source": [
        "class Tresor():\n",
        "    def __init__(self,passwort):\n",
        "        self.passwort = passwort\n",
        "\n",
        "    def eingabe(self,code):\n",
        "        if self.passwort == code:\n",
        "            self.__bereichern()\n",
        "\n",
        "    def __bereichern(self):\n",
        "        print(\"Du erhälst Silber, Juwelen, Diamanten.\")\n",
        "\n",
        "dagobert = Tresor(\"EmilErpel\")\n",
        "\n",
        "# dagobert.__bereichern()     # <- Dies funktioniert nicht, da   __bereichern   eine private Funktion ist.\n",
        "dagobert.eingabe(\"EmilErpel\")"
      ],
      "metadata": {
        "colab": {
          "base_uri": "https://localhost:8080/"
        },
        "id": "Ipd8Th7nv9W9",
        "outputId": "2c70b4ea-2579-4da4-eeb5-000d28461ea4"
      },
      "execution_count": null,
      "outputs": [
        {
          "output_type": "stream",
          "name": "stdout",
          "text": [
            "Du erhälst Silber, Juwelen, Diamanten.\n"
          ]
        }
      ]
    },
    {
      "cell_type": "markdown",
      "source": [
        "####Erläuterung\n",
        "\n",
        "Die Klasse Tresor verfügt über die **öffentliche** Funktion `eingabe()` und die **private** Funktion `__bereichern()`.\n",
        "\n",
        "Ein Aufruf der privaten Funktion ist nicht möglich.\n",
        "\n",
        "Da allerdings die Funktion `eingabe()` mit dem richtigen Passwort intern die private Funktion aufrufen kann, zeigt dies, dass die Klasse selbst weiter mit solchen Funktionen arbeiten kann."
      ],
      "metadata": {
        "id": "WcDyzfHB0WW0"
      }
    },
    {
      "cell_type": "markdown",
      "source": [
        "# Instanzunabhängige Methoden\n",
        "\n",
        "Im Folgenden dreht sich alles um Methoden, die im Gegensatz zu den bisher kennengelernten **unabhängig von einer Instanz** sind. \n",
        "\n",
        "Dafür definieren wir eine Klasse ```Aprikose``` mit den Attributen Farbe und Durchmesser, wobei ersteres für gewöhnlich \"orange\" sein soll."
      ],
      "metadata": {
        "id": "dfAkTWCHAbWi"
      }
    },
    {
      "cell_type": "code",
      "source": [
        "class Aprikose():\n",
        "    farbe = \"orange\"\n",
        "\n",
        "    def __init__(self, durchmesser):\n",
        "        self.durchmesser = durchmesser"
      ],
      "metadata": {
        "id": "dc8KSh1JAcMv"
      },
      "execution_count": null,
      "outputs": []
    },
    {
      "cell_type": "markdown",
      "source": [
        "## Klassenmethoden\n",
        "\n",
        "Wie der Name schon vermuten lässt, sind Klassenmethoden an eine Klasse anstatt einer Instanz gebunden, sodass sie sowohl an der Klasse selbst als auch regulär an einer Instanz der Klasse aufgerufen werden können. \n",
        "\n",
        "Folglich können wir die Methode schon nutzen, sobald die Klasse definiert wurde, ohne extra eine Instanz zu erzeugen! Inhaltlich ergibt das auch Sinn, denn einerseits kennt die Klasse die Definition jeder Instanz von ```Aprikose```, andererseits weiß auch jede Instanz, wie sie selbst definiert ist.\n",
        "\n",
        "Um eine Methode in eine Klassenmethode umzuwandeln, setzen wir den **Dekorator** ```@classmethod``` in die Zeile über der Methodensignatur. Anschließend muss nun noch eine **Referenz** der zugehörigen Klasse in Form von ```cls``` als erstes Argument an die Methode übergeben werden, womit auch im Methodenrumpf auf alle Klassenattribute zugegriffen werden kann. Zur Erinnerung: Normalerweise wird hier ```self``` als Referenz einer Instanz verwendet.\n",
        "\n",
        "\n",
        "\n",
        "Für die Klasse ```Aprikose``` sieht das wie folgt aus. Offensichtlich macht es keinen Unterschied, ob ```definiton()``` an der Instanz ```marille``` oder der Klasse selbst aufgerufen wird."
      ],
      "metadata": {
        "id": "bSHowozQypi_"
      }
    },
    {
      "cell_type": "code",
      "source": [
        "class Aprikose():\n",
        "    farbe = \"orange\"\n",
        "\n",
        "    def __init__(self, durchmesser):\n",
        "        self.durchmesser = durchmesser\n",
        "\n",
        "    @classmethod\n",
        "    def definition(cls):\n",
        "        print(\"Die Aprikose (prunus armeniaca) ist eine Steinfrucht, die zur Familie der Rosengewächse zählt.\")\n",
        "        print(\"Ihre Farbe ist \", cls.farbe, \".\", sep=\"\")\n",
        "\n",
        "Aprikose.definition() # Aufruf mit der Klasse Aprikose \n",
        "\n",
        "marille = Aprikose(4)\n",
        "marille.definition() # klassischer Aufruf mit der Instanz marille"
      ],
      "metadata": {
        "colab": {
          "base_uri": "https://localhost:8080/"
        },
        "id": "Xh6b8Uud3aFZ",
        "outputId": "594bf0f8-3d2d-4ee5-f60b-997ea405e824"
      },
      "execution_count": null,
      "outputs": [
        {
          "output_type": "stream",
          "name": "stdout",
          "text": [
            "Die Aprikose (prunus armeniaca) ist eine Steinfrucht, die zur Familie der Rosengewächse zählt.\n",
            "Ihre Farbe ist orange.\n",
            "Die Aprikose (prunus armeniaca) ist eine Steinfrucht, die zur Familie der Rosengewächse zählt.\n",
            "Ihre Farbe ist orange.\n"
          ]
        }
      ]
    },
    {
      "cell_type": "markdown",
      "source": [
        "Häufig werden Klassenmethoden verwendet, um die Anzahl an Instanzen einer Klasse zu erhalten. \n",
        "\n",
        "Dafür wird zuerst ein Klassenattribut,  z.B. ```n_apr```, mit 0 initialisiert und immer inkrementiert, sobald eine neue Instanz erzeugt, d.h. die ```__init_```-Funktion aufgerufen, wird. Mithilfe der Klassenmethode, z.B. ```counter()```, kann nun der Wert von ```n_apr``` abgefragt werden."
      ],
      "metadata": {
        "id": "5-zz_oNIGiIw"
      }
    },
    {
      "cell_type": "code",
      "source": [
        "class Aprikose():\n",
        "    n_apr = 0\n",
        "\n",
        "    def __init__(self, durchmesser):\n",
        "        self.durchmesser = durchmesser\n",
        "        Aprikose.n_apr += 1\n",
        "\n",
        "    @classmethod\n",
        "    def counter(cls):\n",
        "        return cls.n_apr\n",
        "\n",
        "marille = Aprikose(4)\n",
        "apricot = Aprikose(6)\n",
        "\n",
        "print(Aprikose.counter()) # alternativ: marille.counter() oder apricot.counter(), aber inhaltlich nicht sinnvoll"
      ],
      "metadata": {
        "colab": {
          "base_uri": "https://localhost:8080/"
        },
        "id": "MIOTDMoKG3Ty",
        "outputId": "5f0f897a-4bd9-47a5-e032-2d10dc7559d4"
      },
      "execution_count": null,
      "outputs": [
        {
          "output_type": "stream",
          "name": "stdout",
          "text": [
            "2\n"
          ]
        }
      ]
    },
    {
      "cell_type": "markdown",
      "source": [
        "## Statische Methoden\n",
        "\n",
        "Statische Methoden dienen vor allem der logischen Strukturierung des Codes und befinden sich aufgrund einer inhaltlichen Zugehörigkeit statt Notwendigkeit innerhalb der Klassendefinition. \n",
        "\n",
        "Im Gegensatz zu Klassenmethoden sind sie nämlich unabhängig von der Klasse und ihren Instanzen, statische Methoden erhalten also weder ```self``` noch ```cls``` als Argument und haben somit keinen Zugriff auf Instanz- oder Klassenattribute. Trotzdem können sie mit einer Instanz oder der Klasse aufgerufen werden.\n",
        "\n",
        "Zur Verwendung wird diesmal der **Dekorator** ```@staticmethod``` in die Zeile vor der Methodendefinition gesetzt. "
      ],
      "metadata": {
        "id": "T8K9-H64yzIK"
      }
    },
    {
      "cell_type": "code",
      "source": [
        "class Aprikose():\n",
        "    farbe = \"orange\"\n",
        "\n",
        "    def __init__(self, durchmesser):\n",
        "        self.durchmesser = durchmesser\n",
        "\n",
        "    @staticmethod\n",
        "    def bluehte_sichtbar(monat):\n",
        "        return monat in [\"März\", \"April\"]\n",
        "\n",
        "print(Aprikose.bluehte_sichtbar(\"Mai\"))\n",
        "\n",
        "marille = Aprikose(4)\n",
        "print(marille.bluehte_sichtbar(\"Mai\"))"
      ],
      "metadata": {
        "colab": {
          "base_uri": "https://localhost:8080/"
        },
        "id": "WhUUwbwCEdlZ",
        "outputId": "3a86e4bb-a0f9-4c6e-c024-5a96dcbfda57"
      },
      "execution_count": null,
      "outputs": [
        {
          "output_type": "stream",
          "name": "stdout",
          "text": [
            "False\n",
            "False\n"
          ]
        }
      ]
    },
    {
      "cell_type": "markdown",
      "source": [
        "# Übungsaufgaben"
      ],
      "metadata": {
        "id": "jgaD97ain6Ng"
      }
    },
    {
      "cell_type": "markdown",
      "source": [
        "## Übung 1\n",
        "\n",
        "### 1.1 \n",
        "Legt zuerst eine Klasse `Wirbeltiere` an, welche mit dem Parameter *Klasse* initialisiert wird. Setzt den Standardwert zunächst als \"Saeuger\". Fügt außerdem eine Methode `wirbel` hinzu, welche ausgibt: \"Ich habe eine Wirbelsäure!\"\n",
        "\n",
        "### 1.2 \n",
        "Legt als nächstes eine Klasse `Saeuger` an, welche von `Wirbeltiere` erbt. Initialisiert diese mit *Ordnung*, *Familie* und *Gattung*. Fügt eine weitere Methode `temperatur` hinzu, welche ausgibt: \"Ich kann meine Temperatur regulieren!\"\n",
        "\n",
        "### 1.3\n",
        "Legt eine Klasse `Mensch` an. Ruft in eurer `init()`-Funktion die `init()`-Funktion von `Saueger` mit \"Primaten\" für *Ordnung*, \"Menschenaffen\" für *Familie* und \"Homo\" für *Gattung* auf. Entklappt das nächste Text-Feld, wenn ihr euch unsicher sein solltet, wie das aussehen soll. Erstellt außerdem eine Methode `wasbinich`, welche auf Ordung und Familie zugreifen soll, um folgenden Satz auszugeben: \"Der Mensch gehört im Tierreich zur Ordnung der Primaten und zur Familie der Menschenaffen.\""
      ],
      "metadata": {
        "id": "KrL2Bs3VodHB"
      }
    },
    {
      "cell_type": "markdown",
      "source": [
        "### Kleiner Hinweis\n"
      ],
      "metadata": {
        "id": "w9NZsDHrtoK3"
      }
    },
    {
      "cell_type": "markdown",
      "source": [
        "> ```Saeuger.__init__(self, \"Primaten\", \"Menschenaffen\", \"Homo\")```"
      ],
      "metadata": {
        "id": "2PGZ2ebNt1q0"
      }
    },
    {
      "cell_type": "markdown",
      "source": [
        "### Fortführung Übung 1\n",
        "\n",
        "### 1.4 \n",
        "Als letztes wollen wir testen, ob alles gut geklappt hat. Legt eine Instanz der Klasse `Mensch` an und ruft für diese Instanz jeweils einmal die Methoden `wirbel`, `temperatur` und `wasbinich` auf. "
      ],
      "metadata": {
        "id": "OHisCq_Qto-m"
      }
    },
    {
      "cell_type": "code",
      "source": [
        "# Hier gehört euer Code hin\n",
        "\n",
        "\n"
      ],
      "metadata": {
        "id": "Daq1nUBavTL5"
      },
      "execution_count": null,
      "outputs": []
    },
    {
      "cell_type": "markdown",
      "source": [
        "### Musterlösung"
      ],
      "metadata": {
        "id": "T6LHEKI9vWLQ"
      }
    },
    {
      "cell_type": "code",
      "source": [
        "# 1.1\n",
        "class Wirbeltiere():\n",
        "  def __init__(self, klasse):\n",
        "    self.klasse = \"Saeuger\"\n",
        "\n",
        "  def wirbel(self):\n",
        "    print(\"Ich habe eine Wirbelsäure!\")\n",
        "\n",
        "# 1.2\n",
        "class Saeuger(Wirbeltiere):\n",
        "  def __init__(self, ordnung, familie, gattung):\n",
        "    self.ordnung = ordnung\n",
        "    self.familie = familie\n",
        "    self.gattung = gattung\n",
        "\n",
        "  def temperatur(self):\n",
        "    print(\"Ich kann meine Temperatur regulieren!\")\n",
        "\n",
        "# 1.3\n",
        "class Mensch(Saeuger):\n",
        "  def __init__(self):\n",
        "    Saeuger.__init__(self, \"Primaten\", \"Menschenaffen\", \"Homo\")\n",
        "  \n",
        "  def wasbinich(self):\n",
        "    print(\"Der Mensch gehört im Tierreich zur Ordnung der\", self.ordnung, \"und zur Familie der\", self.familie, \".\")\n",
        "\n",
        "# 1.4\n",
        "hugo = Mensch()\n",
        "\n",
        "hugo.wirbel()\n",
        "hugo.temperatur()\n",
        "hugo.wasbinich()"
      ],
      "metadata": {
        "colab": {
          "base_uri": "https://localhost:8080/"
        },
        "id": "rMZlI8_RvYEo",
        "outputId": "376a134b-5340-409e-d1fe-dbfd0959504c"
      },
      "execution_count": null,
      "outputs": [
        {
          "output_type": "stream",
          "name": "stdout",
          "text": [
            "Ich habe eine Wirbelsäure!\n",
            "Ich kann meine Temperatur regulieren!\n",
            "Der Mensch gehört im Tierreich zur Ordnung der Primaten und zur Familie der Menschenaffen .\n"
          ]
        }
      ]
    },
    {
      "cell_type": "markdown",
      "source": [
        "## Übung 2\n",
        "\n",
        "Hierzu benötigt ihr eine funktionierende Übung 1.\n",
        "\n",
        "Ändert die Methode `wirbel` von der Klasse `Wirbeltiere` in eine Klassenmethode um und testet, auf welche Weisen ihr diese nun aufrufen könnt (mittels Wirbeltiere, Instanz von Wirbeltiere, Saeuger, Instanz von Saeuger, ...)."
      ],
      "metadata": {
        "id": "ZW9essZ_vZiA"
      }
    },
    {
      "cell_type": "code",
      "source": [
        ""
      ],
      "metadata": {
        "id": "8so2Df-qwaLb"
      },
      "execution_count": null,
      "outputs": []
    }
  ]
}