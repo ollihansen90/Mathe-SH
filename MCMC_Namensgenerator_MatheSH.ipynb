{
  "nbformat": 4,
  "nbformat_minor": 0,
  "metadata": {
    "colab": {
      "provenance": [],
      "include_colab_link": true
    },
    "kernelspec": {
      "name": "python3",
      "display_name": "Python 3"
    },
    "language_info": {
      "name": "python"
    }
  },
  "cells": [
    {
      "cell_type": "markdown",
      "metadata": {
        "id": "view-in-github",
        "colab_type": "text"
      },
      "source": [
        "<a href=\"https://colab.research.google.com/github/ollihansen90/Mathe-SH/blob/main/MCMC_Namensgenerator_MatheSH.ipynb\" target=\"_parent\"><img src=\"https://colab.research.google.com/assets/colab-badge.svg\" alt=\"Open In Colab\"/></a>"
      ]
    },
    {
      "cell_type": "markdown",
      "source": [
        "# Markov-Ketten-Namensgenerator 🎲\n",
        "In diesem kurzen Projekt möchten wir gerne einen Generator für Namen programmieren. Der Generator soll hinterher Namen ausgeben, die syntaktisch korrekt sind. Mögliche Ergebnisse könnten so aussehen:\n",
        "- Emma Boot\n",
        "- Mr. Malfred Eye Maria Stra\n",
        "- Sirius Pokeby\n",
        "- Albus Worth-Grangellux Bloxam\n",
        "- Lord Woody Bryce\n",
        "- Sir Marjorkissan Youdley\n",
        "\n",
        "## 🤔 Fragen? 🤔\n",
        "Solltet ihr Fragen zum Code oder Probleme mit Colab haben, schickt uns gerne eine Mail:\n",
        "- h.hansen@uni-luebeck.de\n",
        "- friederike.meissner@student.uni-luebeck.de\n",
        "- dustin.haschke@student.uni-luebeck.de\n",
        "- mika.kohlhammer@student.uni-luebeck.de"
      ],
      "metadata": {
        "id": "sb_ZSc-yTqRK"
      }
    },
    {
      "cell_type": "markdown",
      "source": [
        "## Syntaktisch sinnvolle Namen ☕\n",
        "Was sind zunächst syntaktisch sinnvolle Namen? \"Syntax\" bezeichnet die Kombination von Zeichen in zusammengesetzten Systemen. Für Namen sind die Zeichen offensichtlich Buchstaben. Ein sehr einfaches Beispiel für die Syntax in der Deutschen Sprache ist der Buchstabe \"c\". In den meisten Fällen steht er nur vor einen \"h\"  oder \"k\", jedoch beispielsweise niemals vor einem zweiten \"c\" (von Eigennamen wie \"Capuccino\" mal abgesehen).\n",
        "\n",
        "Anders sieht es im Italienischen aus: Auf ein \"c\" kann ein \"c\" (Capu**cc**ino), ein \"i\" (Cu**ci**na, \"Küche\"), ein \"h\" (Zuc**ch**ini), ein \"q\" (Acqua, \"Wasser\"), und weitere Buchstaben folgen! Deutsch und Italienisch sind syntaktisch also offensichtlich verschieden.\n",
        "\n",
        "Mit diesem Umstand könnte man jetzt relativ einen einfachen Klassifikator programmieren, der Deutsche und Italienische Texte unterscheiden kann, indem man auf das \"c\" achtet. Das soll hier heute aber nicht gemacht werden (vielleicht ein späteres Projekt).\n",
        "\n",
        "## Namenssyntax über Statistik bestimmen 📊\n",
        "Wie können wir jetzt die Syntax von Namen bestimmen? Ganz einfach: Wir nehmen uns einen Haufen Namen und sehen uns einfach an, welche Buchstaben auf welche anderen Buchstaben folgen können! Hierfür haben wir zwei Datensätze gefunden, in denen die Namen (fast) aller Figuren aus Harry Potter enthalten sind. Im folgenden Codeblock werden sie heruntergeladen und in die Variable `data` gespeichert.\n",
        "\n",
        "### Aufgabe:\n",
        "Erweitere den Codeblock so, dass in einer neuen Variable `DATA` die Namen in Großbuchstaben stehen.\n",
        "\n",
        "*Hinweis:* Einen String kann man umwandeln, indem man einfach die `upper`-Methode aufruft: `name.upper()` wandelt alle Buchstaben in Großbuchstaben um.\n",
        "\n"
      ],
      "metadata": {
        "id": "xwyxsQKQUq_A"
      }
    },
    {
      "cell_type": "code",
      "source": [
        "# saugen des Datensatzes und bereinigen\n",
        "\n",
        "!wget -qnc https://raw.githubusercontent.com/ollihansen90/Mathe-SH/refs/heads/main/data/harrypotternames.txt            # saugen der Namen aus dem Link\n",
        "\n",
        "with open(\"harrypotternames.txt\", \"r\") as file:\n",
        "    data = [line.strip().replace(\"Mr \", \"Mr. \").replace(\"Mrs \", \"Mrs. \").replace('\"', '') for line in file.readlines()] #in jeder Zeile wird Mrs bzw. Mr entfernt\n",
        "\n",
        "print(len(data))\n",
        "\n",
        "DATA = [name.upper() for name in data]  # Groß/Kleinschreibung wird durch Großschreibung ersetzt\n",
        "DATA = []\n",
        "for name in data:\n",
        "    DATA.append(name.upper())\n",
        "\n",
        "print(DATA[0])              # bereinigte Daten\n",
        "print(data[0])\n",
        "\n",
        "print(DATA)"
      ],
      "metadata": {
        "id": "PicNNGZrsq4M",
        "colab": {
          "base_uri": "https://localhost:8080/"
        },
        "outputId": "81d60acc-ca01-44ec-be0a-653d5ca1c488"
      },
      "execution_count": 1,
      "outputs": [
        {
          "output_type": "stream",
          "name": "stdout",
          "text": [
            "704\n",
            "HANNAH ABBOTT\n",
            "Hannah Abbott\n",
            "['HANNAH ABBOTT', 'EUAN ABERCROMBIE', 'ABERNATHY', 'STEWART ACKERLEY', 'AGNES', 'BABAJIDE AKINGBADE', 'ARCHIBALD ALDERTON', 'ALDERTON', 'ARKIE ALDERTON', 'RAUL ALMEIDA', 'ALEJANDRA ALONSO', 'ALTHEDA', 'AMATA', 'P.C. ANDERSON', 'ANTONIO', 'ARAGOG', 'ARCHIE', 'ARCUS', 'ARNOLD', 'ASHA', 'BERTRAM AUBREY', 'AVERY', 'ALGUFF THE AWFUL', 'ARCHIE AYMSLOWE', 'BATHSHEDA BABBLING', 'LUDO BAGMAN', 'OTTO BAGMAN', 'MILLICENT BAGNOLD', 'BATHILDA BAGSHOT', 'BANE', 'BANDON BANSHEE', 'HEATHCOTE BARBARY', 'BEEDLE THE BARD', 'BARTHOLOMEW BAREBONE', 'CREDENCE BAREBONE', 'CHASTITY BAREBONE', 'BARKER', 'COUSIN BARNY', 'THE BLOODY BARON', 'BARUFFIO', 'ALI BASHIR', 'BASIL', 'HETTY BAYLISS', 'OSWALD BEAMISH', 'HERBERT BEERY', 'MARCUS BELBY', 'FLAVIUS BELBY', 'HUMPHREY BELCHER', 'KATIE BELL', 'BROTHER BENEDICT', 'AMY BENSON', 'BINKY', 'CUTHBERT BINNS', 'DENNIS BISHOP', 'ORION BLACK', 'LYSANDRA BLACK', 'DOREA BLACK', 'ISLA BLACK', 'VIOLETTA BLACK', 'WALBURGA BLACK', 'ARCTURUS BLACK', 'NARCISSA BLACK', 'MELANIA BLACK', 'IRMA BLACK', 'DRUELLA BLACK', 'HESPER BLACK', 'ELLADORA BLACK', 'POLLUX BLACK', 'CYGNUS BLACK', 'PHINEAS BLACK', 'PHINEAS NIGELLUS BLACK', 'ALPHARD BLACK', 'LUCRETIA BLACK', 'ANNIS BLACK', 'CALLIDORA BLACK', 'LYCORIS BLACK', 'REGULUS BLACK', 'SIRIUS BLACK', 'MARIUS BLACK', 'URSULA BLACK', 'CASSIOPEIA BLACK', 'BALFOUR BLANE', 'TIMOTHY BLENKINSOP', 'MILES BLETCHLEY', 'BLETCHLEY', 'BEATRIX BLOXAM', 'BLODWYN BLUDD', 'STUBBY BOARDMAN', 'MELINDA BOBBIN', 'BRODERICK BODE', 'BOGROD', 'BOLE', 'PIERRE BONACCORD', 'EDGAR BONES', 'AMELIA SUSAN BONES', 'MUNGO BONHAM', 'BROTHER BONIFACE', 'TERRY BOOT', 'ALBERT BOOT', 'LIBATIUS BORAGE', 'MR. BORGIN', 'BERTIE BOTT', 'BOZO', 'BRADLEY', 'BARBERUS BRAGGE', 'BETTY BRAITHWAITE', 'ELEANOR BRANSTONE', 'MANDY BROCKLEHURST', 'RUPERT AXEBANGER BROOKSTANTON', 'LAVENDER BROWN', 'FRANK BRYCE', 'ANGUS BUCHANAN', 'BUCKBEAK', 'MILLICENT BULSTRODE', 'K. BUNDY', 'CHARITY BURBAGE', 'HERBERT BURKE', 'BELVINA BURKE', 'CARATACUS BURKE', 'RANDOLPH BURROW', 'SIR CADOGAN', 'CADWALLADER', 'ANGUS CAMPBELL', 'S. CAPPER', 'EDDIE CARMICHAEL', 'ALECTO CARROW', 'AMYCUS CARROW', 'GRETA CATCHLOVE', 'ELLIE CATTERMOLE', 'REGINALD CATTERMOLE', 'MARY CATTERMOLE', 'MAISIE CATTERMOLE', 'ALFRED CATTERMOLE', 'OWEN CAULDWELL', 'CECILIA', 'ARTURO CEPHALOPOS', 'CHAMBERS', 'CHO CHANG', 'GLENDA CHITTOCK', 'HERBERT CHORLEY', 'AGATHA CHUBB', 'CIRCE', 'ELFRIDA CLAGG', 'PENELOPE CLEARWATER', 'CLIODNA', 'EDGAR CLOGG', 'MRS. COLE', 'MAGENTA COMSTOCK', 'CONNOLLY', 'BUCKLEY COOPER', 'HOWLAND COOPEY', 'RITCHIE COOTE', 'MICHAEL CORNER', 'VINCENT CRABBE', 'CRABBE', 'COLIN CREEVEY', 'DENNIS CREEVEY', 'MR. CREEVEY', 'DIRK CRESSWELL', 'CROAKER', 'DORIS CROCKFORD', 'CRISPIN CRONK', 'GLENDA CROOK', 'CROOKSHANKS', 'CASPAR CROUCH', 'CHARIS CROUCH', 'GIDEON CRUMB', 'BARNABAS CUFFE', 'HECTOR DAGWORTH-GRANGER', 'DAMOCLES', 'ROGER DAVIES', 'JOHN DAWLISH', 'CARADOC DEARBORN', 'APOLLINE DELACOUR', 'GABRIELLE DELACOUR', 'FLEUR DELACOUR', 'SIR PATRICK DELANEY-PODMORE', 'DERRICK', 'DILYS DERWENT', 'PHILBERT DEVERILL', 'BARNABAS DEVERILL', 'DEDALUS DIGGLE', 'AMOS DIGGORY', 'CEDRIC DIGGORY', 'IVOR DILLONSBY', 'HAROLD DINGLE', 'ARMANDO DIPPET', 'EMMA DOBBS', 'DOBBY', 'DAISY DODDERIDGE', 'ELPHIAS DOGE', 'ANTONIN DOLOHOV', 'RAGMAR DORKINS', 'MARY DORKINS', 'J. DORNY', 'DOT', 'VLAD DRAKUL', 'KIRLEY DUKE', 'MATILDA DUKELOW', 'ARIANA DUMBLEDORE', 'KENDRA DUMBLEDORE', 'HONORIA DUMBLEDORE', 'AURELIUS DUMBLEDORE', 'ALBUS DUMBLEDORE', 'ABERFORTH DUMBLEDORE', 'PERCIVAL DUMBLEDORE', 'B. DUNSTAN', 'VERNON DURSLEY', 'MARGE DURSLEY', 'DUDLEY DURSLEY', 'PETUNIA DURSLEY', 'MARJORIE DURSLEY', 'AUNT MARGE DURSLEY', 'EARGIT', 'MARIETTA EDGECOMBE', 'MORDICUS EGG', 'EGBERT THE EGREGIOUS', 'LAURENDROUS ELLISON', 'WILFRED ELPHICK', 'EMERIC', 'ERROL', 'MARK EVANS', 'EVERARD', 'ARCHER EVERMONDE', 'PERPETUA FANCOURT', 'FANG', 'S. FAWCETT', 'FAWKES', 'FULBERT THE FEARFUL', 'FULBERT THE FEARFUL', 'BENJY FENWICK', 'ARABELLA DOREEN FIGG', 'MRS. FIGG', 'ARGUS FILCH', 'JUSTIN FINCH-FLETCHLEY', 'BARNABUS FINKLEY', 'SEAMUS FINNIGAN', 'FIRENZE', 'RAGNUK THE FIRST', 'NICOLAS FLAMEL', 'PERENELLE FLAMEL', 'ANGUS FLEET', 'MUNDUNGUS FLETCHER', 'LAURENTIA FLETWOCK', 'MARCUS FLINT', 'FILIUS FLITWICK', 'FLUFFY', 'AMBROSIUS FLUME', 'AGILBERT FONTAINE', 'FLOREAN FORTESCUE', 'DEXTER FORTESCUE', 'THE FAT FRIAR', 'FRIDWULFA', 'VICTORIA FROBISHER', 'COLONEL FUBSTER', 'CORNELIUS OSWALD FUDGE', 'CORNELIUS FUDGE', 'DYMPHNA FURMAGE', 'MARVOLO GAUNT', 'MORFIN GAUNT', 'MEROPE GAUNT', 'GIBBON', 'GODELOT', 'HEREWARD GODELOT', 'ANTHONY GOLDSTEIN', 'GOLGOMATH', 'ARSENIA GONZALES', 'DRAGOMIR GORGOVITCH', 'GORNUK', 'MIRANDA GOSHAWK', 'GREGORY GOYLE', 'HERMIONE GRANGER', 'MRS. GRANGER', 'MR. GRANGER', 'HECTOR DAGWORTH GRANGER', 'GRAWP', 'ASTORIA GREENGRASS', 'DAPHNE GREENGRASS', 'GREGOROVITCH', 'FENRIR GREYBACK', 'GLYNNIS GRIFFITHS', 'ELIAS GRIMSTONE', 'GELLERT GRINDELWALD', 'GRIPHOOK', 'WILHELMINA GRUBBLY-PLANK', 'ALBERIC GRUNNION', 'GODRIC GRYFFINDOR', 'DAVY GUDGEON', 'GLADYS GUDGEON', 'GALVIN GUDGEON', 'ELLADORA GUFFY', 'ALASTOR GUMBOIL', 'ARNOLD GUZMAN', 'RUBEUS HAGRID', 'CICERON HARKISS', 'HARPER', 'WARTY HARRIS', 'HEDWIG', 'HERMES', 'BERTIE HIGG', 'TERENCE HIGGS', 'GLOVER HIPWORTH', 'BOB HITCHENS', 'HOKEY', 'ROLANDA HOOCH', 'DAISY HOOKUM', 'GEOFFREY HOOPER', 'MAFALDA HOPKIRK', 'OLIVE HORNBY', 'BASIL HORTON', 'HELGA HUFFLEPUFF', 'THE GREAT HUMBERTO', 'INIGO IMAGO', 'DUNCAN INGLEBEE', 'ANDROS THE INVINCIBLE', 'IVANOVA', 'JOEY JENKINS', 'LEONARD JEWKES', 'ARSENIUS JIGGER', 'ANGELINA JOHNSON', 'GWENOG JONES', 'HESTIA JONES', 'LEE JORDAN', 'STAMFORD JORKINS', 'BERTHA JORKINS', 'ALBERT JORKINS', 'JUGSON', 'IGOR KARKAROFF', 'KARKUS', 'GERTIE KEDDLE', 'ELLADORA KETTERIDGE', 'SILVANUS KETTLEBURN', 'AIDAN KIELY', 'ANDREW KIRKE', 'GOODWIN KNEE', 'GUBHILDA KNEEN', 'MONTAGUE KNIGHTLEY', 'KREACHER', 'VIKTOR KRUM', 'FIFI LAFOLLE', 'THE FAT LADY', 'LISETTE DE LAPIN', 'ARTEMIUS LAWSON', 'NOBBY LEACH', 'AMARILLO LESTOAT', 'RODOLPHUS LESTRANGE', 'BELLATRIX LESTRANGE', 'RABASTAN LESTRANGE', 'LEVSKI', 'LIVIUS', 'GUTHRIE LOCHRIN', 'GILDEROY LOCKHART', 'ALGIE LONGBOTTOM', 'ALICE LONGBOTTOM', 'AUGUSTA GRAN LONGBOTTOM', 'ENID LONGBOTTOM', 'FRANK LONGBOTTOM', 'NEVILLE LONGBOTTOM', 'HARFANG LONGBOTTOM', 'AUGUSTA LONGBOTTOM', 'LUNA LOVEGOOD', 'XENOPHILIUS LOVEGOOD', 'LOXIAS', 'ARTEMISIA LUFKIN', 'TEDDY REMUS LUPIN', 'REMUS JOHN LUPIN', 'REMUS LUPIN', 'AIDAN LYNCH', 'MORAG MACDOUGAL', 'HAMISH MACFARLAND', 'ERNIE MACMILLAN', 'MARY MACDONALD', 'ERNIE MACMILLAN', 'WALDEN MACNAIR', 'ALASDAIR MADDOCK', 'LAURA MADLEY', 'ANDORRAN MINISTER FOR MAGIC', 'MAGORIAN', 'ABRAXAS MALFOY', 'ARMAND MALFOY', 'LUCIUS MALFOY', 'BRUTUS MALFOY', 'DRACO MALFOY', 'NARCISSA MALFOY', 'SCORPIUS HYPERION MALFOY', 'MADAM MALKIN', 'GRISELDA MARCHBANKS', 'BEAUMONT MARJORIBANKS', 'MRS. MASON', 'MR. MASON', 'QUEEN MAVE', 'OLYMPE MAXIME', 'DUGALD MCCLIVERT', 'MEGHAN MCCORMACK', 'CATRIONA MCCORMACK', 'KIRLEY DUKE MCCORMACK', 'NATALIE MCDONALD', 'MINERVA MCGONAGALL', 'JIM MCGUFFIN', 'MARLENE MCKINNON', 'CORMAC MCLAGGEN', 'ANGUS MCMANGUS', 'TARQUIN MCTAVISH', 'DORCAS MEADOWES', 'ARAMINTA MELIFLUA', 'MERLIN', 'GALATEA MERRYTHOUGHT', 'ELOISE MIDGEN', 'CUTHBERT MOCKRIDGE', 'ARNULF MOE', 'MONTAGUE', 'LAVERNE DE MONTMORENCY', 'MAD-EYE MOODY', 'ALASTOR MAD EYE MOODY', 'MOON', 'MOPSUS', 'ETHELBARD MORDAUNT', 'GWENDOLYN MORGAN', 'MORGANA', 'MORTLAKE', 'MOSAG', 'HASSAN MOSTAFA', 'MULCIBER', 'BURDOCK MULDOON', 'MULLET', 'ZACHARIAS MUMPS', 'ERIC MUNCH', 'AUNTIE MURIEL', 'EUNICE MURRAY', 'MOANING MYRTLE', 'NAGINI', 'NEARLY HEADLESS NICK', 'NORBERT', 'MRS. NORRIS', 'THEODORE NOTT', 'HONORIA NUTCOMBE', \"DARREN O'HARE\", 'IDRIS OAKBY', 'URIC THE ODDBALL', 'WINKUS ODDPICK', 'TIBERIUS OGDEN', 'BOB OGDEN', 'OGG', 'DUNBAR OGLETHORPE', 'ALIKO OKOYE', 'GONDOLINE OLIPHANT', 'BOB OLLERTON', 'BILL OLLERTON', 'GIFFORD OLLERTON', 'BARNABY OLLERTON', 'MR. OLLIVANDER', 'GARRICK OLLIVANDER', 'GRANT PAGE', 'WALTER PARKIN', 'PANSY PARKINSON', 'PARVATI PATIL', 'PADMA PATIL', 'MR. PAWS', 'GLANMORE PEAKES', 'JIMMY PEAKES', 'ABRAHAM PEASEGOOD', 'ARNIE PEASEGOOD', 'ANGELUS PEEL', 'PEEVES', 'DAISY PENNIFOLD', 'PHOEBUS PENROSE', 'BERTRAND DE PENSÉES-PROFONDES', 'OCTAVIUS PEPPER', 'PERKINS', 'SALLY-ANNE PERKS', 'PETER PETTIGREW', 'IGNOTUS PEVERELL', 'ANTIOCH PEVERELL', 'CADMUS PEVERELL', 'ARKIE PHILPOTT', 'PIGWIDGEON', 'JUSTUS PILLIWICKLE', 'IRMA PINCE', 'CARLOTTA PINKSTONE', 'DAGBERT PIPS', 'RADOLPHOUS PITTIMAN', 'YARDLEY PLATT', 'MIRABELLA PLUNKETT', 'STURGIS PODMORE', 'ROYDEN POKE', 'GULLIVER POKEBY', 'POLIAKOFF', 'PIERS POLKISS', 'POPPY POMFREY', 'RODDY PONTNER', 'PETROVA PORSKOFF', 'JAMES POTTER', 'ALBUS POTTER', 'CHARLUS POTTER', 'HARRY POTTER', 'ALBUS SEVERUS POTTER', 'LILY LUNA POTTER', 'LILY POTTER', 'ABRAHAM POTTER', 'JAMES SIRIUS POTTER', 'NUGENT POTTS', 'ERNIE PRANG', 'MR. PRENTICE', 'GIDEON PREWETT', 'IGNATIUS PREWETT', 'FABIAN PREWETT', 'EILEEN PRINCE', 'APOLLYON PRINGLE', 'GRAHAM PRITCHARD', 'DEMETRIUS J. PROD', 'ELSIE PROD', 'PROUDFOOT', 'ADRIAN PUCEY', 'MADAM PUDDIFOOT', 'DORIS PURKISS', 'AUGUSTUS PYE', 'ARGUS PYRITES', 'QUIGLEY', 'HAMBLEDON QUINCE', 'ORLA QUIRKE', 'QUIRINUS QUIRRELL', 'PO QUONG', 'BABBITTY RABBITTY', 'MODESTY RABNOTT', 'URQUHART RACKHARROW', 'MNEMONE RADFORD', 'RAGNOK', 'XAVIER RASTRICK', 'HELENA RAVENCLAW', 'ROWENA RAVENCLAW', 'HARVEY RIDGEBIT', 'ROSE RILEY', 'RIPPER', 'GAWAIN ROBARDS', 'DEMELZA ROBINS', 'RONAN', 'AUGUSTUS ROOKWOOD', 'ROSIER', 'MADAM ROSMERTA', 'THORFINN ROWLE', 'GRUGWYN RUFFORD', 'ALBERT RUNCORN', 'BARRY RYAN', 'SANGUINI', 'ALMERICK SAWBRIDGE', 'SCABBERS', 'SCABIOR', 'ROLF SCAMANDER', 'PORPENTIA SCAMANDER', 'NEWT SCAMANDER', 'LORCAN SCAMANDER', 'BRUNO SCHMIDT', 'RUFUS SCRIMGEOUR', 'BRUTUS SCRIMGEOUR', 'SELWYN', 'KINGSLEY SHACKLEBOLT', 'DERWENT SHIMPLIN', 'GASPARD SHINGLETON', 'STAN SHUNPIKE', 'AURORA SINISTRA', 'RITA SKEETER', 'HAROLD SKIVELY', 'WILBERT SLINKHARD', 'JACK SLOPER', 'HORACE SLUGHORN', 'SALAZAR SLYTHERIN', 'GREGORY THE SMARMY', 'VERONICA SMETHLEY', 'HIPPOCRATES SMETHWYCK', 'LEOPOLDINA SMETHWYK', 'ELLIOT SMETHWYK', 'HEPZIBAH SMITH', 'ZACHARIAS SMITH', 'SEVERUS SNAPE', 'TOBIAS SNAPE', 'ANDREYIUS SNICKLEPITCH', 'SNOWY', 'FARIS SPAVIN', 'ALICIA SPINNET', 'PHYLLIDA SPORE', 'POMONA SPROUT', 'SPUDMORE', 'BARTEMIUS CROUCH SR', 'BAGMAN SR.', 'BARTY CROUCH SR.', 'ERICA STAINWRIGHT', 'BLENHEIM STALK', 'HESPER STARKEY', 'STEBBINS', 'PATRICIA STIMPSON', 'JEREMY STRETTON', 'EDGAR STROULGER', 'MIRIAM STROUT', 'BILLY STUBBS', 'GROGAN STUMP', 'FELIX SUMMERBEE', 'SUMMERBY', 'SUMMERS', 'HAVELOCK SWEETING', 'EMERIC SWITCH', 'JOCUNDA SYKES', 'TENEBRUS', 'JANUS THICKEY', 'PIUS THICKNESSE', 'DEAN THOMAS', 'ORSINO THRUSTON', 'THADDEUS THURKELL', 'TIBBLES', 'ALBERT TILLYMAN', 'AGATHA TIMMS', 'TOFTY', 'TILLY TOKE', 'ACHILLES TOLLIVER', 'NYMPHADORA TONKS', 'TED TONKS', 'ANDROMEDA TONKS', 'ALBERTA TOOTHILL', 'TILDEN TOOTS', 'KENNETH TOWLER', 'TRAVERS', 'CASSANDRA TRELAWNEY', 'SYBILL TRELAWNEY', 'DONAGHAN TREMLETT', 'TREVOR', 'QUENTIN TRIMBLE', 'TROY', 'TUFTY', 'SACHARISSA TUGWOOD', 'LISA TURPIN', 'ADRIAN TUTLEY', 'ARISTOTLE TWELVETREES', 'MALLORY TWIDDLE', 'NORVEL TWONK', 'WILKIE TWYCROSS', 'DOLORES UMBRIDGE', 'QUINTIUS UMFRAVILLE', 'URG THE UNCLEAN', 'UG THE UNRELIABLE', 'CASSANDRA VABLATSKY', 'VAISEY', 'EMMELINE VANCE', 'ROMILDA VANE', 'SEPTIMA VECTOR', 'VINDICTUS VIRIDIAN', 'LORD VOLDEMORT', 'VOLDEMORT', 'VOLKOV', 'VULCHANOV', 'JOSCELIND WADCOCK', 'ADALBERT WAFFLING', 'WAGSTAFF', 'MYRON WAGTAIL', 'CELESTINA WARBECK', 'WARRINGTON', 'FABIUS WATKINS', 'CEDRELLA WEASLEY', 'LOUIS WEASLEY', 'ROSE WEASLEY', 'SEPTIMUS WEASLEY', 'FRED WEASLEY', 'VICTOIRE WEASLEY', 'MOLLY WEASLEY', 'CHARLIE WEASLEY', 'AUDREY WEASLEY', 'PERCY WEASLEY', 'ARTHUR WEASLEY', 'GINNY WEASLEY', 'LUCY WEASLEY', 'DOMINIQUE WEASLEY', 'RON WEASLEY', 'HUGO WEASLEY', 'BILL WEASLEY', 'GEORGE WEASLEY', 'ROXANNE WEASLEY', 'DORCAS WELLBELOVED', 'BRIDGET WENLOCK', 'KENNILWORTHY WHISP', 'KEVIN WHITBY', 'DEVLIN WHITEHORN', 'SAMSON WIBLIN', 'WILLY WIDDERSHINS', 'DEMPSTER WIGGLESWADE', 'WILHELM WIGWORTHY', 'IGNATIA WILDSMITH', 'WILKES', 'BENJY WILLIAMS', 'WILLIAMSON', 'HELIOTROPE WILLIS', 'GILBERT WIMPLE', 'WINKY', 'HERMAN WINTRINGHAM', 'LORD STODDARD WITHERS', 'OLIVER WOOD', 'AUGUSTUS WORME', 'ELDRED WORPLE', 'BOWMAN WRIGHT', 'JOSEF WRONSKI', 'YAXLEY', 'DZOU YEN', 'CYPRIAN YOUDLE', 'BLAISE ZABINI', 'LADISLAW ZAMOJSKI', 'ROSE ZELLER', 'ZOGRAF']\n"
          ]
        }
      ]
    },
    {
      "cell_type": "markdown",
      "source": [
        "## Liste aller möglichen Buchstaben im Datensatz 🗂️\n",
        "Im ersten Schritt möchten wir gerne herausfinden, welche Buchstaben in unserem Datensatz enthalten sind.\n",
        "\n",
        "### Aufgabe:\n",
        "Schreibe eine Funktion `initialisiere`, die die Daten `DATA` erhält und ein Dictionary zurückgibt, dessen Keys die einzelnen Buchstaben enthalten. Zusätzlich soll es einen Start-Token `<` und einen End-Token `>` geben, sodass jeder Name folgendermaßen aussehen würde: `<HARRY POTTER>`.\n",
        "\n",
        "Die zugehörigen Values des Dictionarys sollen jeweils die Liste der möglichen Nachfolger sein.\n",
        "\n",
        "Beispiel: `model[\"J\"]` ist die Liste `['S', 'Y', '.', 'I', 'U', 'O', 'A', 'E']\n",
        "`, das heißt, auf ein \"J\" können nur \"I\", \"A\", \"O\", und so weiter folgen."
      ],
      "metadata": {
        "id": "U4FsvMwyY9vE"
      }
    },
    {
      "cell_type": "code",
      "source": [
        "# mögliche Folgebuchstaben\n",
        "\n",
        "def initialisiere(data):\n",
        "    out = dict()\n",
        "    for name in data:\n",
        "        name = \"<\"+name+\">\"                     # Einfügen der Start- & Endtokens < und >\n",
        "        for i in range(len(name)-1):\n",
        "            buchstabe = name[i]\n",
        "            nachfolger = name[i+1]\n",
        "            if buchstabe in out.keys():                 #falls der Buchstabe schon ein Key im dict ist...\n",
        "                if nachfolger not in out[buchstabe]:\n",
        "                    out[buchstabe].append(nachfolger)   #füge seinen Nachfolger hinzu\n",
        "            else:\n",
        "                out[buchstabe] = [nachfolger]           # ansonsten lege neuen Key mit Value an\n",
        "\n",
        "    return out\n",
        "\n",
        "model = initialisiere(DATA)                 # Anwenden auf Datensatz\n",
        "print(model)                    # gesamtes Modell\n",
        "print(model[\"H\"])       # mögliche Folgebuchstaben auf den Buchstaben H"
      ],
      "metadata": {
        "id": "7zXlhmKOsxz-",
        "colab": {
          "base_uri": "https://localhost:8080/"
        },
        "outputId": "fb9b1403-3aeb-46f5-aaa6-650f6ceef44b"
      },
      "execution_count": 2,
      "outputs": [
        {
          "output_type": "stream",
          "name": "stdout",
          "text": [
            "{'<': ['H', 'E', 'A', 'S', 'B', 'R', 'P', 'L', 'O', 'M', 'C', 'T', 'F', 'K', 'D', 'I', 'V', 'W', 'N', 'U', 'G', 'J', 'X', 'Q', 'Z', 'Y'], 'H': ['A', ' ', 'Y', 'I', 'E', 'S', 'O', 'C', '>', 'U', 'R', 'B', 'L', 'W', '-', 'N', 'T', 'M'], 'A': ['N', 'H', 'B', 'T', 'R', 'C', 'G', 'J', 'K', 'D', 'L', 'U', '>', ' ', 'M', 'S', 'V', 'W', 'Y', 'I', 'X', 'P', 'E', 'F', 'Z'], 'N': ['N', 'A', ' ', 'E', 'G', '>', 'D', 'S', 'T', 'I', 'O', 'C', 'Y', 'K', 'U', 'H', 'J', 'W', 'Z', 'R', 'B', 'V', 'M', 'P', 'L'], ' ': ['A', 'T', 'B', 'N', 'S', 'C', 'D', 'P', 'M', 'E', 'F', 'O', 'G', 'H', 'I', 'J', 'K', 'L', 'R', 'Q', 'U', 'V', 'W', 'Y', 'Z'], 'B': ['B', 'O', 'E', 'I', 'A', 'R', 'L', 'Y', 'U', '>', 'S', '.', ' ', 'H', 'N'], 'O': ['T', 'M', 'N', '>', 'G', 'L', 'W', ' ', 'U', 'O', 'D', 'S', 'P', 'R', 'X', 'A', 'B', 'Z', 'C', 'K', 'V', 'H', 'Y', 'I', 'F', 'E', \"'\", 'J'], 'T': ['T', '>', 'H', 'E', ' ', 'O', 'A', 'R', 'I', 'Y', 'U', 'C', 'W', 'L', 'M', 'N', 'S', 'K', 'B'], 'E': ['U', 'R', '>', 'W', 'Y', 'S', ' ', 'I', 'J', 'D', 'N', 'E', 'A', 'B', 'T', 'L', 'G', 'H', 'C', 'P', 'V', 'O', 'M', 'X', 'F'], 'U': ['A', 'L', 'S', 'B', 'F', 'D', 'M', 'T', 'R', 'E', 'X', 'C', 'N', 'P', 'K', 'Z', 'G', 'I', 'O', 'H', ' '], 'R': ['C', 'O', 'N', 'T', 'L', 'K', 'A', 'S', 'E', 'Y', 'B', 'D', '>', 'U', ' ', 'I', 'G', 'M', 'R', '.', 'W', 'F', 'J', 'P', 'V', 'Q'], 'C': ['R', 'K', 'H', '.', 'U', 'E', 'O', 'T', 'I', 'Y', 'A', 'C', 'L', ' ', '>', 'D', 'F', 'M', 'N', 'G'], 'M': ['B', 'E', 'A', ' ', 'S', 'I', 'P', 'Y', 'O', '>', 'U', 'R', 'M', 'F', 'C', 'N', 'G', 'L'], 'I': ['E', 'D', 'N', 'B', 'O', 'L', 'C', 'T', ' ', 'R', 'S', 'U', 'A', 'G', 'M', 'X', 'F', 'V', 'P', 'K', '>', 'W', 'Q'], 'Y': ['>', 'M', ' ', 'L', 'S', 'G', 'C', 'N', '-', 'B', 'F', 'P', 'T', 'E', 'R', 'A', 'D', 'O', 'K', 'I'], 'S': ['T', '>', 'O', 'H', 'L', 'I', 'S', 'W', ' ', 'A', 'P', 'U', '.', 'B', 'Y', 'E', 'C', 'K', 'D', 'É', '-', 'M', 'N', 'R'], 'W': ['A', 'F', 'E', ' ', 'Y', 'N', '>', 'L', 'O', 'I', 'C', 'K', 'U', 'P', 'S', 'B', 'T', 'R', 'H', 'M'], 'K': ['E', 'I', 'A', 'Y', '>', ' ', 'L', 'S', 'B', '.', 'F', 'U', 'N', 'R', 'T', 'H', 'O', 'W'], 'L': ['E', 'D', ' ', 'M', 'O', 'T', 'G', '>', 'I', 'U', 'L', 'B', 'A', 'C', 'Y', 'P', 'F', 'S', 'V', 'W', 'H', 'K', 'Z'], 'G': ['N', 'B', 'O', '>', 'U', 'M', 'S', 'A', 'E', 'R', 'I', 'G', 'L', 'W', ' ', 'H', 'D', 'T'], 'J': ['I', 'A', 'O', '.', 'Y', 'U', 'E', 'S'], 'D': ['E', ' ', 'A', 'R', '>', 'O', 'L', 'Y', 'I', 'W', 'D', 'M', 'G', 'N', 'U', 'S', '-', 'B', 'P', 'F', 'T', 'C', 'Z'], 'P': ['.', 'H', '>', 'E', 'O', 'I', 'B', 'P', 'A', 'L', 'W', 'K', 'U', 'S', 'R', 'Y', 'Z', 'T'], '.': ['C', ' ', '>'], 'V': ['E', 'I', 'O', '>', 'L', 'A', 'Y', 'S', 'U'], 'F': ['F', ' ', 'U', 'I', 'L', 'O', 'A', 'R', 'E', 'Y', '>', 'K', 'T'], 'X': [' ', 'A', 'E', 'T', 'I', 'L'], 'Z': ['O', 'E', 'A', 'M', 'I'], '-': ['G', 'P', 'F', 'E', 'A'], 'Q': ['U'], \"'\": ['H'], 'É': ['E']}\n",
            "['A', ' ', 'Y', 'I', 'E', 'S', 'O', 'C', '>', 'U', 'R', 'B', 'L', 'W', '-', 'N', 'T', 'M']\n"
          ]
        }
      ]
    },
    {
      "cell_type": "markdown",
      "source": [
        "## Namen generieren mit Monte-Carlo-Verfahren 🎲\n",
        "Jetzt sind wir tatsächlich schon fast fertig! Wir wissen bereits, dass auf ein \"J\" nur Wörter aus der Liste `['S', 'Y', '.', 'I', 'U', 'O', 'A', 'E']` folgen können. Der Name \"JUERGEN\" wäre hier also möglich, ein unsinniger Name wie \"JGNCRSN\" allerdings nicht.\n",
        "\n",
        "Im Folgenden möchten wir eine Funktion `generiere_namen` schreiben, die unser Modell `model` erhält und einen syntaktisch sinnvollen Namen ausgibt. Hierfür soll einfach mit dem Start-Token `<` begonnen und zufällig einer der möglichen Nachfolger gezogen werden. Der End-Token `>` soll die Funktion enden lassen.\n",
        "\n",
        "Diesen Algorithmus nennt man \"Markov-Chain-Monte-Carlo-Verfahren\". Was wir hier haben, ist eine sogenannte Markov-Kette (engl. Markov-Chain). Bei einer Markov-Kette handelt es sich einfach um eine Aneinanderhängung zufälliger Zustände mit bedingten Wahrscheinlichkeiten (also quasi: Wie groß ist die Wahrscheinlichkeit, ein \"C\" zu ziehen, wenn der vorherige Buchstabe ein \"S\" war?). Mit Hilfe des Monte-Carlo-Verfahrens durchlaufen wir den sogenannten \"Phasenraum\" des Modells. Das bedeutet einfach, dass wir einen zufälligen Schritt von einem Zustand (also von einem Buchstaben) zum nächsten (Buchstaben) machen. So generieren wir zufällige Namen.\n",
        "\n",
        "### Aufgabe:\n",
        "Implementiere die oben genannte Funktion. Generiere anschließend 10 zufällige Namen."
      ],
      "metadata": {
        "id": "MKrqrWOmejw6"
      }
    },
    {
      "cell_type": "code",
      "source": [
        "# zufällige Zahl als Nachfolger (MonteCarlo MarkovKette)                    # LASSE DIR DAS erklären von Schülern!!!\n",
        "\n",
        "import random\n",
        "\n",
        "random.seed(1)                  # damit schaffen wir reproduzierbare Zufallszahlen\n",
        "def generiere_namen(model):\n",
        "    name = \"<\"                              #beginnt immer mit Starttoken <\n",
        "    while name[-1]!=\">\":                        # solange Endtoken > nicht erreicht ...\n",
        "        nachfolger = model[name[-1]]                # ... ist der nächste Buchstabe der Value zum Key des letzten Buchstabens (im Model)\n",
        "        z = random.randint(0, len(nachfolger)-1)        # Zufallszahl über alle Values\n",
        "        name += nachfolger[z]                           # hinzufügen eines zufällige Buchstabens\n",
        "    return name.replace(\"<\", \"\").replace(\">\", \"\")           #löscht < und > aus dem String\n",
        "\n",
        "for _ in range(10):\n",
        "    print(generiere_namen(model))"
      ],
      "metadata": {
        "id": "MeHm1EqUs4M8",
        "colab": {
          "base_uri": "https://localhost:8080/"
        },
        "outputId": "1c8552fa-a162-4dd7-fac7-9232e30f7192"
      },
      "execution_count": 3,
      "outputs": [
        {
          "output_type": "stream",
          "name": "stdout",
          "text": [
            "B\n",
            "Y M JSEVYC. A\n",
            "KEMCITBODEUAXIEAPBLEGAZMNWLBIWLYBNNKW CYLLZIGDCOOOCD-ECKHCLCEEHBOXLF ZEGLBY\n",
            "IDWMMILFIEFIVUTWTCNC\n",
            "OHMBLFT KW\n",
            "KIXECMPZMNC OTKWMUKEI\n",
            "RMINWOMABHAMB ZAJYLWNCY CEJOH\n",
            "GR WCDSHADGIGS NTSSÉEUTTWYMIMGWRS-AMYDTTWHRF\n",
            "KIRLGBABHYBNILCNT AWFYCNUDZIFFAGG\n",
            "PSDLPEOPLFRCAIADESSPODNDIW GTCMNLSWEX BESIV\n"
          ]
        }
      ]
    },
    {
      "cell_type": "markdown",
      "source": [
        "## Algorithmus verbessern 💪\n",
        "Offensichtlich kommt immernoch völliger Blödsinn raus. Die Syntax ist jetzt zwar die gleiche wir bei den \"echten\" Namen, allerdings klingen die Namen noch sehr befremdlich.\n",
        "\n",
        "Eine mögliche Lösung wäre, dass wir uns nochmal genauer die bedingten Wahrscheinlichkeiten ansehen. Aktuell wählen wir einen zufälligen Nachfolgebuchstaben für einen beliebigen Vorgänger, allerdings sind die Nachfolger nicht gleichverteilt! Auf ein \"J\" folgen offenbar zwar sowohl ein \"O\" und ein \"Y\", das \"O\" ist allerdings sehr viel häufiger. Das möchten wir jetzt anpassen.\n",
        "\n",
        "### Aufgabe:\n",
        "Erweitere die Funktion `initialisiere` so, dass die Ausgabe zwar noch weiterhin ein Dictionary ist, jetzt die Values aber *ebenfalls* Dictionarys sind. In den Dictionarys stehen jetzt die absoluten Häufigkeiten der Nachfolgebuchstaben für einen beliebigen Buchstaben.\n",
        "\n",
        "Beispiel: `model[\"J\"]` ist `{'I': 4, 'A': 5, 'O': 15, '.': 2, 'Y': 2, 'U': 3, 'E': 3, 'S': 1}`, das heißt beispielsweise, dass in unserem Datensatz 15 mal ein \"O\" auf ein \"J\" folgte."
      ],
      "metadata": {
        "id": "Ddd-rXqZh07E"
      }
    },
    {
      "cell_type": "code",
      "source": [
        "def initialisiere(data):                # bauen WK in MonteCarloMarkov mit ein\n",
        "    out = dict()\n",
        "    for name in data:\n",
        "        name = \"<\"+name+\">\"\n",
        "        for i in range(len(name)-1):\n",
        "            buchstabe = name[i]\n",
        "            nachfolger = name[i+1]\n",
        "            if buchstabe in out.keys():                 # bis hierhin wie oben\n",
        "                if nachfolger in out[buchstabe].keys():\n",
        "                    out[buchstabe][nachfolger] += 1             # dict von dicts: erhöhen den Wert von [Buchstabe][Folgebuchstabe] um Eins\n",
        "                else:\n",
        "                    out[buchstabe][nachfolger] = 1              # ... oder legen den Nachfolgebuchstaben an\n",
        "            else:\n",
        "                out[buchstabe] = {nachfolger: 1}                # ... oder legen den ganzen Buchstaben mit Nachfolgebuchstaben an\n",
        "\n",
        "    return out\n",
        "\n",
        "model = initialisiere(DATA)\n",
        "print(model)\n",
        "print(model[\"J\"])                       # wir erhalten die Häufigkeit für Nachfolgebuchstaben J hier z.B."
      ],
      "metadata": {
        "id": "_I7GWtYKtCO4",
        "colab": {
          "base_uri": "https://localhost:8080/"
        },
        "outputId": "623838de-b4e8-486f-e187-5522114a249d"
      },
      "execution_count": 4,
      "outputs": [
        {
          "output_type": "stream",
          "name": "stdout",
          "text": [
            "{'<': {'H': 38, 'E': 34, 'A': 105, 'S': 30, 'B': 61, 'R': 32, 'P': 31, 'L': 28, 'O': 11, 'M': 67, 'C': 41, 'T': 24, 'F': 20, 'K': 11, 'D': 40, 'I': 11, 'V': 13, 'W': 16, 'N': 13, 'U': 5, 'G': 45, 'J': 16, 'X': 2, 'Q': 5, 'Z': 3, 'Y': 2}, 'H': {'A': 53, ' ': 10, 'Y': 6, 'I': 30, 'E': 53, 'S': 2, 'O': 27, 'C': 1, '>': 19, 'U': 10, 'R': 4, 'B': 3, 'L': 5, 'W': 4, '-': 2, 'N': 5, 'T': 4, 'M': 1}, 'A': {'N': 127, 'H': 5, 'B': 29, 'T': 39, 'R': 132, 'C': 56, 'G': 38, 'J': 1, 'K': 9, 'D': 33, 'L': 67, 'U': 21, '>': 13, ' ': 97, 'M': 39, 'S': 57, 'V': 16, 'W': 15, 'Y': 3, 'I': 16, 'X': 4, 'P': 7, 'E': 2, 'F': 6, 'Z': 1}, 'N': {'N': 18, 'A': 39, ' ': 62, 'E': 49, 'G': 46, '>': 84, 'D': 43, 'S': 26, 'T': 34, 'I': 35, 'O': 24, 'C': 18, 'Y': 5, 'K': 20, 'U': 9, 'H': 2, 'J': 2, 'W': 2, 'Z': 2, 'R': 3, 'B': 2, 'V': 1, 'M': 1, 'P': 1, 'L': 1}, ' ': {'A': 13, 'T': 37, 'B': 86, 'N': 5, 'S': 53, 'C': 41, 'D': 47, 'P': 61, 'M': 55, 'E': 8, 'F': 32, 'O': 16, 'G': 30, 'H': 17, 'I': 3, 'J': 12, 'K': 10, 'L': 27, 'R': 18, 'Q': 4, 'U': 4, 'V': 6, 'W': 44, 'Y': 2, 'Z': 3}, 'B': {'B': 18, 'O': 36, 'E': 64, 'I': 20, 'A': 54, 'R': 24, 'L': 53, 'Y': 12, 'U': 18, '>': 2, 'S': 3, '.': 1, ' ': 3, 'H': 1, 'N': 1}, 'O': {'T': 44, 'M': 21, 'N': 104, '>': 6, 'G': 13, 'L': 55, 'W': 15, ' ': 16, 'U': 24, 'O': 30, 'D': 32, 'S': 18, 'P': 16, 'R': 122, 'X': 3, 'A': 5, 'B': 11, 'Z': 1, 'C': 20, 'K': 12, 'V': 12, 'H': 4, 'Y': 12, 'I': 3, 'F': 6, 'E': 3, \"'\": 1, 'J': 1}, 'T': {'T': 50, '>': 50, 'H': 63, 'E': 44, ' ': 36, 'O': 53, 'A': 31, 'R': 28, 'I': 36, 'Y': 11, 'U': 20, 'C': 13, 'W': 6, 'L': 6, 'M': 1, 'N': 1, 'S': 3, 'K': 1, 'B': 1}, 'E': {'U': 5, 'R': 177, '>': 116, 'W': 10, 'Y': 68, 'S': 43, ' ': 87, 'I': 5, 'J': 1, 'D': 31, 'N': 68, 'E': 22, 'A': 48, 'B': 12, 'T': 43, 'L': 85, 'G': 14, 'H': 2, 'C': 7, 'P': 7, 'V': 19, 'O': 13, 'M': 18, 'X': 1, 'F': 1}, 'U': {'A': 3, 'L': 19, 'S': 92, 'B': 8, 'F': 12, 'D': 13, 'M': 22, 'T': 9, 'R': 42, 'E': 8, 'X': 1, 'C': 11, 'N': 26, 'P': 4, 'K': 5, 'Z': 1, 'G': 15, 'I': 9, 'O': 1, 'H': 1, ' ': 1}, 'R': {'C': 18, 'O': 74, 'N': 26, 'T': 63, 'L': 12, 'K': 26, 'A': 75, 'S': 26, 'E': 82, 'Y': 18, 'B': 11, 'D': 25, '>': 59, 'U': 21, ' ': 41, 'I': 94, 'G': 13, 'M': 21, 'R': 19, '.': 9, 'W': 3, 'F': 6, 'J': 2, 'P': 7, 'V': 5, 'Q': 2}, 'C': {'R': 24, 'K': 67, 'H': 51, '.': 1, 'U': 12, 'E': 25, 'O': 30, 'T': 11, 'I': 11, 'Y': 5, 'A': 36, 'C': 5, 'L': 10, ' ': 8, '>': 2, 'D': 3, 'F': 1, 'M': 3, 'N': 1, 'G': 2}, 'M': {'B': 18, 'E': 34, 'A': 81, ' ': 11, 'S': 7, 'I': 28, 'P': 11, 'Y': 7, 'O': 41, '>': 13, 'U': 15, 'R': 12, 'M': 7, 'F': 3, 'C': 11, 'N': 1, 'G': 2, 'L': 1}, 'I': {'E': 34, 'D': 26, 'N': 107, 'B': 10, 'O': 15, 'L': 58, 'C': 41, 'T': 27, ' ': 3, 'R': 27, 'S': 47, 'U': 25, 'A': 37, 'G': 24, 'M': 17, 'X': 3, 'F': 7, 'V': 12, 'P': 7, 'K': 3, '>': 6, 'W': 1, 'Q': 1}, 'Y': {'>': 97, 'M': 5, ' ': 60, 'L': 3, 'S': 3, 'G': 1, 'C': 5, 'N': 6, '-': 3, 'B': 2, 'F': 1, 'P': 2, 'T': 2, 'E': 5, 'R': 3, 'A': 3, 'D': 1, 'O': 2, 'K': 3, 'I': 1}, 'S': {'T': 54, '>': 79, 'O': 14, 'H': 18, 'L': 33, 'I': 16, 'S': 17, 'W': 6, ' ': 112, 'A': 16, 'P': 11, 'U': 6, '.': 7, 'B': 1, 'Y': 6, 'E': 21, 'C': 13, 'K': 7, 'D': 1, 'É': 1, '-': 1, 'M': 9, 'N': 4, 'R': 3}, 'W': {'A': 21, 'F': 1, 'E': 36, ' ': 3, 'Y': 8, 'N': 3, '>': 8, 'L': 4, 'O': 12, 'I': 28, 'C': 1, 'K': 3, 'U': 1, 'P': 1, 'S': 2, 'B': 1, 'T': 1, 'R': 3, 'H': 3, 'M': 1}, 'K': {'E': 35, 'I': 31, 'A': 4, 'Y': 3, '>': 59, ' ': 12, 'L': 6, 'S': 10, 'B': 2, '.': 1, 'F': 1, 'U': 4, 'N': 4, 'R': 3, 'T': 1, 'H': 3, 'O': 5, 'W': 1}, 'L': {'E': 136, 'D': 34, ' ': 9, 'M': 4, 'O': 45, 'T': 3, 'G': 5, '>': 30, 'I': 63, 'U': 22, 'L': 71, 'B': 21, 'A': 84, 'C': 4, 'Y': 22, 'P': 7, 'F': 14, 'S': 2, 'V': 4, 'W': 3, 'H': 2, 'K': 6, 'Z': 1}, 'G': {'N': 8, 'B': 11, 'O': 32, '>': 17, 'U': 28, 'M': 4, 'S': 5, 'A': 24, 'E': 48, 'R': 34, 'I': 16, 'G': 15, 'L': 14, 'W': 8, ' ': 6, 'H': 8, 'D': 2, 'T': 2}, 'J': {'I': 4, 'A': 5, 'O': 15, '.': 2, 'Y': 2, 'U': 3, 'E': 3, 'S': 1}, 'D': {'E': 60, ' ': 30, 'A': 41, 'R': 22, '>': 28, 'O': 51, 'L': 9, 'Y': 10, 'I': 16, 'W': 6, 'D': 14, 'M': 6, 'G': 18, 'N': 1, 'U': 22, 'S': 3, '-': 1, 'B': 1, 'P': 1, 'F': 2, 'T': 1, 'C': 1, 'Z': 1}, 'P': {'.': 1, 'H': 20, '>': 5, 'E': 47, 'O': 31, 'I': 20, 'B': 1, 'P': 6, 'A': 14, 'L': 6, 'W': 1, 'K': 1, 'U': 5, 'S': 5, 'R': 14, 'Y': 3, 'Z': 1, 'T': 2}, '.': {'C': 1, ' ': 19, '>': 2}, 'V': {'E': 38, 'I': 22, 'O': 6, '>': 3, 'L': 2, 'A': 14, 'Y': 1, 'S': 1, 'U': 1}, 'F': {'F': 18, ' ': 4, 'U': 10, 'I': 17, 'L': 16, 'O': 23, 'A': 15, 'R': 12, 'E': 6, 'Y': 2, '>': 6, 'K': 1, 'T': 2}, 'X': {' ': 4, 'A': 4, 'E': 2, 'T': 1, 'I': 2, 'L': 1}, 'Z': {'O': 3, 'E': 2, 'A': 7, 'M': 1, 'I': 1}, '-': {'G': 1, 'P': 3, 'F': 1, 'E': 1, 'A': 1}, 'Q': {'U': 12}, \"'\": {'H': 1}, 'É': {'E': 1}}\n",
            "{'I': 4, 'A': 5, 'O': 15, '.': 2, 'Y': 2, 'U': 3, 'E': 3, 'S': 1}\n"
          ]
        }
      ]
    },
    {
      "cell_type": "markdown",
      "source": [
        "## Neuer angepasster Generator 🤖\n",
        "Der alte Generator würde jetzt weiterhin Unsinn produzieren, weil er die bedingten Wahrscheinlichkeiten (die für Markov-Ketten so entscheidend sind) nicht beachtet. Genau das wollen wir jetzt ändern.\n",
        "\n",
        "### Aufgabe:\n",
        "Schreibe eine Funktion `ziehe`, die ein Dictionary erhält und der bedingten Wahrscheinlichkeit folgend einen zufälligen Buchstaben zieht. Erweitere anschließend `generiere_namen` um die `ziehe`-Funktion. Generiere anschließend wieder 10 zufällige Namen.\n",
        "\n",
        "*Hinweis:* Das mit den bedingten Wahrscheinlichkeiten ist zunächst keine leichte Aufgabe. Am einfachsten ist es, zunächst die (bedingte) Summe aller Buchstaben zu berechnen und anschließend eine Zufallszahl `z` zwischen 0 und der Summe zu ziehen. Anschließend durchläuft man schrittweise die Einträge des Dictionarys und zieht jeweils die absolute Häufigkeit von der Zufallszahl `z` ab, bis wir einen Wert kleiner als 0 erhalten. Der Buchstabe, für den wir die 0 unterschritten haben, wird dann ausgegeben."
      ],
      "metadata": {
        "id": "dNLgLTy0kg3L"
      }
    },
    {
      "cell_type": "code",
      "source": [
        "# EINBAUEN der WK in die Funktion 'generiere Namen'\n",
        "\n",
        "import random\n",
        "random.seed()\n",
        "\n",
        "def ziehe(dictionary):\n",
        "    summe = sum(list(dictionary.values()))      # dictionary.values() liefert die Gesamtsumme   und   list() wandelt diese zu einer Liste, die wir mit sum() summieren können\n",
        "    z = random.randint(0,summe-1)               # Zufallszahl über mögliche Ergebnisse\n",
        "    for k,v in dictionary.items():      # für k=keys, v=values\n",
        "        z -= v                              # von z werden neue Values abgezogen\n",
        "        if z<0:                             # sobald die Summe der Values erstmals größer als die Zufallszahl z ist, wird der Value zurückgegeben\n",
        "            return k\n",
        "\n",
        "def generiere_namen(model):                         #kopierter Generator von oben\n",
        "    name = \"<\"\n",
        "    while name[-1]!=\">\":\n",
        "        name += ziehe(model[name[-1]])           # ersetzt Zeile 7 und 8 des alten Codes durch das WK-abhängige Modell\n",
        "    return name.replace(\"<\", \"\").replace(\">\", \"\")\n",
        "\n",
        "random.seed(10)\n",
        "for _ in range(10):\n",
        "    print(generiere_namen(model))"
      ],
      "metadata": {
        "id": "iWRZLGRwtGdA",
        "colab": {
          "base_uri": "https://localhost:8080/"
        },
        "outputId": "56a64a1f-7de1-43f3-be57-b60781238811"
      },
      "execution_count": 5,
      "outputs": [
        {
          "output_type": "stream",
          "name": "stdout",
          "text": [
            "VE HERK\n",
            "FONALACKIST S MY PRAD PRER\n",
            "BLLENN\n",
            "ATHEYRARGT OROIR\n",
            "ARBIDEITUS BES MAN O\n",
            "SLAGGAM S LMAR\n",
            "PEA SER\n",
            "LUE\n",
            "HETTEY\n",
            "AR\n"
          ]
        }
      ]
    },
    {
      "cell_type": "markdown",
      "source": [
        "## Besseres Modell durch n-Grams 🔤 🔗\n",
        "Die Ergebnisse sehen ein klitzekleines bisschen besser aus, sind aber leider immernoch völliger Unfug. Offensichtlich ist es nicht ausreichend, einen Buchstaben nur durch seinen Vorgänger zu generieren. Hier sollen n-Grams helfen.\n",
        "\n",
        "Ein n-Gram ist ein Modell, bei dem der `n+1`-ste von den vorherigen `n` Buchstaben vorhergesagt wird. Ein 3-Gram (häufig auch Tri-Gram) generiert also einen Buchstaben basierend auf seinen drei Vorgängern.\n",
        "\n",
        "### Aufgabe:\n",
        "Erweitere die Funktion `initialisiere` um einen weiteren Übergabeparameter `tokenlaenge`, mit dem wir festlegen können, wie viele Buchstaben benötigt werden, um den Nachfolgebuchstaben zu generieren.\n",
        "\n",
        "*Hinweis:* Der Start-Token ist jetzt nicht mehr einfach nur `<`, sondern muss auf die Tokenlänge erweitert werden. Ein Name wird für ein Tri-Gram also folgendermaßen kodiert: `<<<HARRY POTTER>`.\n"
      ],
      "metadata": {
        "id": "6QHjBhvPmXrn"
      }
    },
    {
      "cell_type": "code",
      "source": [
        "# initialisiere() erhält Tokenlaenge als Übergabeparameter\n",
        "\n",
        "def initialisiere(data, tokenlaenge=1):         # standardmäßige Tokenlänge auf 1\n",
        "    out = dict()\n",
        "    for name in data:\n",
        "        name = tokenlaenge*\"<\"+name+\">\"         # ... bis hierhin gleich\n",
        "        for i in range(len(name)-tokenlaenge):        # schneiden die Tokenlänge ab (Start/End-Überhang beim Durchlaufen; Sinnbild: ###--, -###-, --###)\n",
        "            #anstelle des einzelnen Buchstabens nehmen wir eine Buchstabenkette der tokenlaenge\n",
        "            if name[i:i+tokenlaenge] not in out.keys():         #Falls der key noch nicht angelegt ist...\n",
        "                #print(name[i:i+tokenlaenge])\n",
        "                #if i==6: assert False, print(out)\n",
        "                out[name[i:i+tokenlaenge]] = {name[i+tokenlaenge]: 1}       # ... legen wir ihn mit Wert 1 an\n",
        "            else:                                               # ansonsten ist der key angelegt...\n",
        "                if name[i+tokenlaenge] not in out[name[i:i+tokenlaenge]].keys():  # ... und ist der Value noch nicht angelegt...\n",
        "                    out[name[i:i+tokenlaenge]][name[i+tokenlaenge]] = 1             # ... legen wir diesen an.\n",
        "                else:                                                                   # bzw. erhöhen den Value um 1\n",
        "                    out[name[i:i+tokenlaenge]][name[i+tokenlaenge]] += 1\n",
        "    return out\n",
        "\n",
        "model = initialisiere(DATA, tokenlaenge=3)\n",
        "\n",
        "print(model[\"HAG\"]) # HAGRIS BLATSKY>"
      ],
      "metadata": {
        "id": "o5xFLkPstOJY",
        "colab": {
          "base_uri": "https://localhost:8080/"
        },
        "outputId": "9ce79c31-2516-437a-f8eb-28844a246a43"
      },
      "execution_count": 10,
      "outputs": [
        {
          "output_type": "stream",
          "name": "stdout",
          "text": [
            "{'R': 1}\n"
          ]
        }
      ]
    },
    {
      "cell_type": "markdown",
      "source": [
        "## Namen generieren ✍️\n",
        "Das soll es schon gewesen sein! Jetzt möchten wir unser Modell testen.\n",
        "\n",
        "### Aufgabe:\n",
        "Erweitere die Funktion `generiere_namen` so, dass sie mit variabler Tokenlänge umgehen kann. Generiere 10 Namen mit Tokenlänge 2, 3, 4, 5,... Was fällt auf?"
      ],
      "metadata": {
        "id": "N8tU1rYsog0O"
      }
    },
    {
      "cell_type": "code",
      "source": [
        "def generiere_namen(model, start=\"\"):\n",
        "    tokenlaenge = len(list(model.keys())[0])\n",
        "    name = tokenlaenge*\"<\"+start\n",
        "    while name[-1]!=\">\":\n",
        "        name = name+ziehe(model[name[-tokenlaenge:]])\n",
        "    return name.replace(\"<\", \"\").replace(\">\", \"\")\n",
        "\n",
        "model = initialisiere(DATA, tokenlaenge=3)\n",
        "random.seed(10)\n",
        "for _ in range(20):\n",
        "    print(generiere_namen(model, start=\"LORD \"))"
      ],
      "metadata": {
        "id": "G6JXC-GWrCb1",
        "colab": {
          "base_uri": "https://localhost:8080/"
        },
        "outputId": "4f62e704-7312-4408-d467-3d54ba508285"
      },
      "execution_count": 63,
      "outputs": [
        {
          "output_type": "stream",
          "name": "stdout",
          "text": [
            "LORD WARBARNULFA\n",
            "LORD OLLERT BURN\n",
            "LORD MOODY\n",
            "LORD MORENTICENT MACMILLYMAN\n",
            "LORD WINKY\n",
            "LORD JENKINS\n",
            "LORD STRODDERIUS POTTERMAN\n",
            "LORD MCDON CRUM\n",
            "LORD SHA\n",
            "LORD OLLY STON\n",
            "LORD STIMA POTTOM\n",
            "LORD SHUNPIKE\n",
            "LORD SHACK\n",
            "LORD OLLYMAN STRAVIERS\n",
            "LORD OLLYMPHNE MARMION\n",
            "LORD JORIANA\n",
            "LORD JONEL FURMACNAIR MAGE\n",
            "LORD SHAWK\n",
            "LORD SKEETINA JORKINS\n",
            "LORD SKI\n"
          ]
        }
      ]
    },
    {
      "cell_type": "code",
      "source": [
        "!wget -qnc https://gist.githubusercontent.com/spences10/575fc3a9e375819a1b1c9078d98fcbda/raw/1c4d28c8daa5dd16dcc7d3ff0d8e5053201cb38f/marvel-names.json\n",
        "\n",
        "import json\n",
        "\n",
        "with open(\"marvel-names.json\", \"r\") as file:\n",
        "    datastring = file.readlines()\n",
        "\n",
        "data = [line.strip().replace('\"', \"\").replace(\",\", \"\").upper() for line in datastring][1:-1]\n",
        "\n",
        "model = initialisiere(data, tokenlaenge=4)\n",
        "random.seed()\n",
        "for _ in range(20):\n",
        "    print(generiere_namen(model, start=\"\"))"
      ],
      "metadata": {
        "colab": {
          "base_uri": "https://localhost:8080/"
        },
        "id": "LCFGEW-aoB60",
        "outputId": "283abf62-20d7-40c4-daa6-a3d120db4319"
      },
      "execution_count": 80,
      "outputs": [
        {
          "output_type": "stream",
          "name": "stdout",
          "text": [
            "BUSHWACKER\n",
            "AQUES DARNES)\n",
            "GEORGE STONE\n",
            "WARSTAR\n",
            "CHARD TYGER\n",
            "WILLIE THE CALLISTER\n",
            "PRINCE (ROBERT)\n",
            "SURGE\n",
            "MATSU'O TSURAYABA\n",
            "SPIDER-GIRL\n",
            "GLADIAH SOAR\n",
            "CHRONOS\n",
            "ROCKE\n",
            "GARGOYLE (DEADPOOL)\n",
            "SQUADRON FIST (EARTH-311)\n",
            "TALKBACK WIDOW/NATASHA ROMAN TORCH (AGE OF NINE (MARVEL HEROES)\n",
            "ORACLE\n",
            "KILLRAVENGERS\n",
            "JOYSTIQUE (ULTIMATE)\n",
            "STRANGELING (ULTIMATE)\n"
          ]
        }
      ]
    }
  ]
}