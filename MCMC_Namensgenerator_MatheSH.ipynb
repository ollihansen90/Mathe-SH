{
  "nbformat": 4,
  "nbformat_minor": 0,
  "metadata": {
    "colab": {
      "provenance": [],
      "include_colab_link": true
    },
    "kernelspec": {
      "name": "python3",
      "display_name": "Python 3"
    },
    "language_info": {
      "name": "python"
    }
  },
  "cells": [
    {
      "cell_type": "markdown",
      "metadata": {
        "id": "view-in-github",
        "colab_type": "text"
      },
      "source": [
        "<a href=\"https://colab.research.google.com/github/ollihansen90/Mathe-SH/blob/main/MCMC_Namensgenerator_MatheSH.ipynb\" target=\"_parent\"><img src=\"https://colab.research.google.com/assets/colab-badge.svg\" alt=\"Open In Colab\"/></a>"
      ]
    },
    {
      "cell_type": "markdown",
      "source": [
        "# Markov-Ketten-Namensgenerator 🎲\n",
        "In diesem kurzen Projekt möchten wir gerne einen Generator für Namen programmieren. Der Generator soll hinterher Namen ausgeben, die syntaktisch korrekt sind. Mögliche Ergebnisse könnten so aussehen:\n",
        "- Emma Boot\n",
        "- Mr. Malfred Eye Maria Stra\n",
        "- Sirius Pokeby\n",
        "- Albus Worth-Grangellux Bloxam\n",
        "- Lord Woody Bryce\n",
        "- Sir Marjorkissan Youdley\n",
        "\n",
        "## 🤔 Fragen? 🤔\n",
        "Solltet ihr Fragen zum Code oder Probleme mit Colab haben, schickt uns gerne eine Mail:\n",
        "- h.hansen@uni-luebeck.de\n",
        "- friederike.meissner@student.uni-luebeck.de\n",
        "- dustin.haschke@student.uni-luebeck.de\n",
        "- mika.kohlhammer@student.uni-luebeck.de"
      ],
      "metadata": {
        "id": "sb_ZSc-yTqRK"
      }
    },
    {
      "cell_type": "markdown",
      "source": [
        "## Syntaktisch sinnvolle Namen ☕\n",
        "Was sind zunächst syntaktisch sinnvolle Namen? \"Syntax\" bezeichnet die Kombination von Zeichen in zusammengesetzten Systemen. Für Namen sind die Zeichen offensichtlich Buchstaben. Ein sehr einfaches Beispiel für die Syntax in der Deutschen Sprache ist der Buchstabe \"c\". In den meisten Fällen steht er nur vor einen \"h\"  oder \"k\", jedoch beispielsweise niemals vor einem zweiten \"c\" (von Eigennamen wie \"Capuccino\" mal abgesehen).\n",
        "\n",
        "Anders sieht es im Italienischen aus: Auf ein \"c\" kann ein \"c\" (Capu**cc**ino), ein \"i\" (Cu**ci**na, \"Küche\"), ein \"h\" (Zuc**ch**ini), ein \"q\" (Acqua, \"Wasser\"), und weitere Buchstaben folgen! Deutsch und Italienisch sind syntaktisch also offensichtlich verschieden.\n",
        "\n",
        "Mit diesem Umstand könnte man jetzt relativ einen einfachen Klassifikator programmieren, der Deutsche und Italienische Texte unterscheiden kann, indem man auf das \"c\" achtet. Das soll hier heute aber nicht gemacht werden (vielleicht ein späteres Projekt).\n",
        "\n",
        "## Namenssyntax über Statistik bestimmen 📊\n",
        "Wie können wir jetzt die Syntax von Namen bestimmen? Ganz einfach: Wir nehmen uns einen Haufen Namen und sehen uns einfach an, welche Buchstaben auf welche anderen Buchstaben folgen können! Hierfür haben wir zwei Datensätze gefunden, in denen die Namen (fast) aller Figuren aus Harry Potter enthalten sind. Im folgenden Codeblock werden sie heruntergeladen und in die Variable `data` gespeichert.\n",
        "\n",
        "### Aufgabe:\n",
        "Erweitere den Codeblock so, dass in einer neuen Variable `DATA` die Namen in Großbuchstaben stehen.\n",
        "\n",
        "*Hinweis:* Einen String kann man umwandeln, indem man einfach die `upper`-Methode aufruft: `name.upper()` wandelt alle Buchstaben in Großbuchstaben um.\n",
        "\n"
      ],
      "metadata": {
        "id": "xwyxsQKQUq_A"
      }
    },
    {
      "cell_type": "code",
      "execution_count": 5,
      "metadata": {
        "id": "HM2xfu1OTUjy",
        "colab": {
          "base_uri": "https://localhost:8080/"
        },
        "outputId": "c5d35297-16ba-4206-91fb-a01dd6d605f5"
      },
      "outputs": [
        {
          "output_type": "stream",
          "name": "stdout",
          "text": [
            "704\n",
            "HANNAH ABBOTT\n",
            "Hannah Abbott\n"
          ]
        }
      ],
      "source": [
        "!wget -qnc https://raw.githubusercontent.com/ollihansen90/Mathe-SH/refs/heads/main/data/harrypotternames.txt\n",
        "\n",
        "with open(\"harrypotternames.txt\", \"r\") as file:\n",
        "    data = [line.strip().replace(\"Mr \", \"Mr. \").replace(\"Mrs \", \"Mrs. \").replace('\"', '') for line in file.readlines()]\n",
        "\n",
        "print(len(data))\n",
        "\n",
        "DATA = [name.upper() for name in data]\n",
        "DATA = []\n",
        "for name in data:\n",
        "    DATA.append(name.upper())\n",
        "\n",
        "print(DATA[0])\n",
        "print(data[0])"
      ]
    },
    {
      "cell_type": "markdown",
      "source": [
        "## Liste aller möglichen Buchstaben im Datensatz 🗂️\n",
        "Im ersten Schritt möchten wir gerne herausfinden, welche Buchstaben in unserem Datensatz enthalten sind.\n",
        "\n",
        "### Aufgabe:\n",
        "Schreibe eine Funktion `initialisiere`, die die Daten `DATA` erhält und ein Dictionary zurückgibt, dessen Keys die einzelnen Buchstaben enthalten. Zusätzlich soll es einen Start-Token `<` und einen End-Token `>` geben, sodass jeder Name folgendermaßen aussehen würde: `<HARRY POTTER>`.\n",
        "\n",
        "Die zugehörigen Values des Dictionarys sollen jeweils die Liste der möglichen Nachfolger sein.\n",
        "\n",
        "Beispiel: `model[\"J\"]` ist die Liste `['S', 'Y', '.', 'I', 'U', 'O', 'A', 'E']\n",
        "`, das heißt, auf ein \"J\" können nur \"I\", \"A\", \"O\", und so weiter folgen."
      ],
      "metadata": {
        "id": "U4FsvMwyY9vE"
      }
    },
    {
      "cell_type": "code",
      "source": [
        "def initialisiere(data):\n",
        "    out = dict()\n",
        "    for name in data:\n",
        "        name = \"<\"+name+\">\"\n",
        "        for i in range(len(name)-1):\n",
        "            buchstabe = name[i]\n",
        "            nachfolger = name[i+1]\n",
        "            if buchstabe in out.keys():\n",
        "                if nachfolger not in out[buchstabe]:\n",
        "                    out[buchstabe].append(nachfolger)\n",
        "            else:\n",
        "                out[buchstabe] = [nachfolger]\n",
        "\n",
        "    return out\n",
        "\n",
        "model = initialisiere(DATA)\n",
        "print(model)\n",
        "print(model[\"H\"])"
      ],
      "metadata": {
        "id": "SFPU07gYcdZx",
        "colab": {
          "base_uri": "https://localhost:8080/"
        },
        "outputId": "229d5e45-f5db-4af2-9ad7-0e5d2f32fa75"
      },
      "execution_count": 16,
      "outputs": [
        {
          "output_type": "stream",
          "name": "stdout",
          "text": [
            "{'<': ['H', 'E', 'A', 'S', 'B', 'R', 'P', 'L', 'O', 'M', 'C', 'T', 'F', 'K', 'D', 'I', 'V', 'W', 'N', 'U', 'G', 'J', 'X', 'Q', 'Z', 'Y'], 'H': ['A', ' ', 'Y', 'I', 'E', 'S', 'O', 'C', '>', 'U', 'R', 'B', 'L', 'W', '-', 'N', 'T', 'M'], 'A': ['N', 'H', 'B', 'T', 'R', 'C', 'G', 'J', 'K', 'D', 'L', 'U', '>', ' ', 'M', 'S', 'V', 'W', 'Y', 'I', 'X', 'P', 'E', 'F', 'Z'], 'N': ['N', 'A', ' ', 'E', 'G', '>', 'D', 'S', 'T', 'I', 'O', 'C', 'Y', 'K', 'U', 'H', 'J', 'W', 'Z', 'R', 'B', 'V', 'M', 'P', 'L'], ' ': ['A', 'T', 'B', 'N', 'S', 'C', 'D', 'P', 'M', 'E', 'F', 'O', 'G', 'H', 'I', 'J', 'K', 'L', 'R', 'Q', 'U', 'V', 'W', 'Y', 'Z'], 'B': ['B', 'O', 'E', 'I', 'A', 'R', 'L', 'Y', 'U', '>', 'S', '.', ' ', 'H', 'N'], 'O': ['T', 'M', 'N', '>', 'G', 'L', 'W', ' ', 'U', 'O', 'D', 'S', 'P', 'R', 'X', 'A', 'B', 'Z', 'C', 'K', 'V', 'H', 'Y', 'I', 'F', 'E', \"'\", 'J'], 'T': ['T', '>', 'H', 'E', ' ', 'O', 'A', 'R', 'I', 'Y', 'U', 'C', 'W', 'L', 'M', 'N', 'S', 'K', 'B'], 'E': ['U', 'R', '>', 'W', 'Y', 'S', ' ', 'I', 'J', 'D', 'N', 'E', 'A', 'B', 'T', 'L', 'G', 'H', 'C', 'P', 'V', 'O', 'M', 'X', 'F'], 'U': ['A', 'L', 'S', 'B', 'F', 'D', 'M', 'T', 'R', 'E', 'X', 'C', 'N', 'P', 'K', 'Z', 'G', 'I', 'O', 'H', ' '], 'R': ['C', 'O', 'N', 'T', 'L', 'K', 'A', 'S', 'E', 'Y', 'B', 'D', '>', 'U', ' ', 'I', 'G', 'M', 'R', '.', 'W', 'F', 'J', 'P', 'V', 'Q'], 'C': ['R', 'K', 'H', '.', 'U', 'E', 'O', 'T', 'I', 'Y', 'A', 'C', 'L', ' ', '>', 'D', 'F', 'M', 'N', 'G'], 'M': ['B', 'E', 'A', ' ', 'S', 'I', 'P', 'Y', 'O', '>', 'U', 'R', 'M', 'F', 'C', 'N', 'G', 'L'], 'I': ['E', 'D', 'N', 'B', 'O', 'L', 'C', 'T', ' ', 'R', 'S', 'U', 'A', 'G', 'M', 'X', 'F', 'V', 'P', 'K', '>', 'W', 'Q'], 'Y': ['>', 'M', ' ', 'L', 'S', 'G', 'C', 'N', '-', 'B', 'F', 'P', 'T', 'E', 'R', 'A', 'D', 'O', 'K', 'I'], 'S': ['T', '>', 'O', 'H', 'L', 'I', 'S', 'W', ' ', 'A', 'P', 'U', '.', 'B', 'Y', 'E', 'C', 'K', 'D', 'É', '-', 'M', 'N', 'R'], 'W': ['A', 'F', 'E', ' ', 'Y', 'N', '>', 'L', 'O', 'I', 'C', 'K', 'U', 'P', 'S', 'B', 'T', 'R', 'H', 'M'], 'K': ['E', 'I', 'A', 'Y', '>', ' ', 'L', 'S', 'B', '.', 'F', 'U', 'N', 'R', 'T', 'H', 'O', 'W'], 'L': ['E', 'D', ' ', 'M', 'O', 'T', 'G', '>', 'I', 'U', 'L', 'B', 'A', 'C', 'Y', 'P', 'F', 'S', 'V', 'W', 'H', 'K', 'Z'], 'G': ['N', 'B', 'O', '>', 'U', 'M', 'S', 'A', 'E', 'R', 'I', 'G', 'L', 'W', ' ', 'H', 'D', 'T'], 'J': ['I', 'A', 'O', '.', 'Y', 'U', 'E', 'S'], 'D': ['E', ' ', 'A', 'R', '>', 'O', 'L', 'Y', 'I', 'W', 'D', 'M', 'G', 'N', 'U', 'S', '-', 'B', 'P', 'F', 'T', 'C', 'Z'], 'P': ['.', 'H', '>', 'E', 'O', 'I', 'B', 'P', 'A', 'L', 'W', 'K', 'U', 'S', 'R', 'Y', 'Z', 'T'], '.': ['C', ' ', '>'], 'V': ['E', 'I', 'O', '>', 'L', 'A', 'Y', 'S', 'U'], 'F': ['F', ' ', 'U', 'I', 'L', 'O', 'A', 'R', 'E', 'Y', '>', 'K', 'T'], 'X': [' ', 'A', 'E', 'T', 'I', 'L'], 'Z': ['O', 'E', 'A', 'M', 'I'], '-': ['G', 'P', 'F', 'E', 'A'], 'Q': ['U'], \"'\": ['H'], 'É': ['E']}\n",
            "['A', ' ', 'Y', 'I', 'E', 'S', 'O', 'C', '>', 'U', 'R', 'B', 'L', 'W', '-', 'N', 'T', 'M']\n"
          ]
        }
      ]
    },
    {
      "cell_type": "markdown",
      "source": [
        "## Namen generieren mit Monte-Carlo-Verfahren 🎲\n",
        "Jetzt sind wir tatsächlich schon fast fertig! Wir wissen bereits, dass auf ein \"J\" nur Wörter aus der Liste `['S', 'Y', '.', 'I', 'U', 'O', 'A', 'E']` folgen können. Der Name \"JUERGEN\" wäre hier also möglich, ein unsinniger Name wie \"JGNCRSN\" allerdings nicht.\n",
        "\n",
        "Im Folgenden möchten wir eine Funktion `generiere_namen` schreiben, die unser Modell `model` erhält und einen syntaktisch sinnvollen Namen ausgibt. Hierfür soll einfach mit dem Start-Token `<` begonnen und zufällig einer der möglichen Nachfolger gezogen werden. Der End-Token `>` soll die Funktion enden lassen.\n",
        "\n",
        "Diesen Algorithmus nennt man \"Markov-Chain-Monte-Carlo-Verfahren\". Was wir hier haben, ist eine sogenannte Markov-Kette (engl. Markov-Chain). Bei einer Markov-Kette handelt es sich einfach um eine Aneinanderhängung zufälliger Zustände mit bedingten Wahrscheinlichkeiten (also quasi: Wie groß ist die Wahrscheinlichkeit, ein \"C\" zu ziehen, wenn der vorherige Buchstabe ein \"S\" war?). Mit Hilfe des Monte-Carlo-Verfahrens durchlaufen wir den sogenannten \"Phasenraum\" des Modells. Das bedeutet einfach, dass wir einen zufälligen Schritt von einem Zustand (also von einem Buchstaben) zum nächsten (Buchstaben) machen. So generieren wir zufällige Namen.\n",
        "\n",
        "### Aufgabe:\n",
        "Implementiere die oben genannte Funktion. Generiere anschließend 10 zufällige Namen."
      ],
      "metadata": {
        "id": "MKrqrWOmejw6"
      }
    },
    {
      "cell_type": "code",
      "source": [
        "import random\n",
        "random.seed()\n",
        "\n",
        "def generiere_namen(model):\n",
        "    name = \"<\"\n",
        "    while name[-1]!=\">\":\n",
        "        z = random.randint(0,len(model[name[-1]])-1)\n",
        "        name = name + model[name[-1]][z]\n",
        "    return name.replace(\"<\", \"\").replace(\">\", \"\")\n",
        "\n",
        "for _ in range(10):\n",
        "    print(generiere_namen(model))"
      ],
      "metadata": {
        "id": "A3D_6lLOfZwG",
        "colab": {
          "base_uri": "https://localhost:8080/"
        },
        "outputId": "c0648334-5f5e-499e-b54f-4db26412e7ed"
      },
      "execution_count": 43,
      "outputs": [
        {
          "output_type": "stream",
          "name": "stdout",
          "text": [
            "OUIAFOJUEBYNSABHSD BN\n",
            "RNJ.CAPSAVUSND-ELEXIPRCIQUNVSIMLFIAJ. VIQUSU NBUXAHTLVUL\n",
            "HUM OLCDZAZOAHOFLEEGGRLUZELSUILAZI CCUI\n",
            "WFEYTKEHWYEICLB. HESNH-GUINBUAEVAEAEC.\n",
            "ODM\n",
            "PYAPI\n",
            "NTUAVU AHUBAZACHMPLUMLY BH\n",
            "LPWBNM UPOMRPKHITBBY\n",
            "CGNGR\n",
            "BSCGRGO OPPPH\n"
          ]
        }
      ]
    },
    {
      "cell_type": "markdown",
      "source": [
        "## Algorithmus verbessern 💪\n",
        "Offensichtlich kommt immernoch völliger Blödsinn raus. Die Syntax ist jetzt zwar die gleiche wir bei den \"echten\" Namen, allerdings klingen die Namen noch sehr befremdlich.\n",
        "\n",
        "Eine mögliche Lösung wäre, dass wir uns nochmal genauer die bedingten Wahrscheinlichkeiten ansehen. Aktuell wählen wir einen zufälligen Nachfolgebuchstaben für einen beliebigen Vorgänger, allerdings sind die Nachfolger nicht gleichverteilt! Auf ein \"J\" folgen offenbar zwar sowohl ein \"O\" und ein \"Y\", das \"O\" ist allerdings sehr viel häufiger. Das möchten wir jetzt anpassen.\n",
        "\n",
        "### Aufgabe:\n",
        "Erweitere die Funktion `initialisiere` so, dass die Ausgabe zwar noch weiterhin ein Dictionary ist, jetzt die Values aber *ebenfalls* Dictionarys sind. In den Dictionarys stehen jetzt die absoluten Häufigkeiten der Nachfolgebuchstaben für einen beliebigen Buchstaben.\n",
        "\n",
        "Beispiel: `model[\"J\"]` ist `{'I': 4, 'A': 5, 'O': 15, '.': 2, 'Y': 2, 'U': 3, 'E': 3, 'S': 1}`, das heißt beispielsweise, dass in unserem Datensatz 15 mal ein \"O\" auf ein \"J\" folgte."
      ],
      "metadata": {
        "id": "Ddd-rXqZh07E"
      }
    },
    {
      "cell_type": "code",
      "source": [
        "def initialisiere(data):\n",
        "    out = dict()\n",
        "    for name in data:\n",
        "        name = \"<\"+name+\">\"\n",
        "        for i in range(len(name)-1):\n",
        "            buchstabe = name[i]\n",
        "            nachfolger = name[i+1]\n",
        "            if buchstabe in out.keys():\n",
        "                if nachfolger in out[buchstabe].keys():\n",
        "                    out[buchstabe][nachfolger] += 1\n",
        "                else:\n",
        "                    out[buchstabe][nachfolger] = 1\n",
        "            else:\n",
        "                out[buchstabe] = {nachfolger: 1}\n",
        "\n",
        "    return out\n",
        "\n",
        "model = initialisiere(DATA)\n",
        "print(model)\n",
        "print(model[\"J\"])"
      ],
      "metadata": {
        "id": "LgDu4KziiH5l",
        "colab": {
          "base_uri": "https://localhost:8080/"
        },
        "outputId": "97e1e6a8-171b-4338-e3f5-e5adbf1adc00"
      },
      "execution_count": 48,
      "outputs": [
        {
          "output_type": "stream",
          "name": "stdout",
          "text": [
            "{'<': {'H': 38, 'E': 34, 'A': 105, 'S': 30, 'B': 61, 'R': 32, 'P': 31, 'L': 28, 'O': 11, 'M': 67, 'C': 41, 'T': 24, 'F': 20, 'K': 11, 'D': 40, 'I': 11, 'V': 13, 'W': 16, 'N': 13, 'U': 5, 'G': 45, 'J': 16, 'X': 2, 'Q': 5, 'Z': 3, 'Y': 2}, 'H': {'A': 53, ' ': 10, 'Y': 6, 'I': 30, 'E': 53, 'S': 2, 'O': 27, 'C': 1, '>': 19, 'U': 10, 'R': 4, 'B': 3, 'L': 5, 'W': 4, '-': 2, 'N': 5, 'T': 4, 'M': 1}, 'A': {'N': 127, 'H': 5, 'B': 29, 'T': 39, 'R': 132, 'C': 56, 'G': 38, 'J': 1, 'K': 9, 'D': 33, 'L': 67, 'U': 21, '>': 13, ' ': 97, 'M': 39, 'S': 57, 'V': 16, 'W': 15, 'Y': 3, 'I': 16, 'X': 4, 'P': 7, 'E': 2, 'F': 6, 'Z': 1}, 'N': {'N': 18, 'A': 39, ' ': 62, 'E': 49, 'G': 46, '>': 84, 'D': 43, 'S': 26, 'T': 34, 'I': 35, 'O': 24, 'C': 18, 'Y': 5, 'K': 20, 'U': 9, 'H': 2, 'J': 2, 'W': 2, 'Z': 2, 'R': 3, 'B': 2, 'V': 1, 'M': 1, 'P': 1, 'L': 1}, ' ': {'A': 13, 'T': 37, 'B': 86, 'N': 5, 'S': 53, 'C': 41, 'D': 47, 'P': 61, 'M': 55, 'E': 8, 'F': 32, 'O': 16, 'G': 30, 'H': 17, 'I': 3, 'J': 12, 'K': 10, 'L': 27, 'R': 18, 'Q': 4, 'U': 4, 'V': 6, 'W': 44, 'Y': 2, 'Z': 3}, 'B': {'B': 18, 'O': 36, 'E': 64, 'I': 20, 'A': 54, 'R': 24, 'L': 53, 'Y': 12, 'U': 18, '>': 2, 'S': 3, '.': 1, ' ': 3, 'H': 1, 'N': 1}, 'O': {'T': 44, 'M': 21, 'N': 104, '>': 6, 'G': 13, 'L': 55, 'W': 15, ' ': 16, 'U': 24, 'O': 30, 'D': 32, 'S': 18, 'P': 16, 'R': 122, 'X': 3, 'A': 5, 'B': 11, 'Z': 1, 'C': 20, 'K': 12, 'V': 12, 'H': 4, 'Y': 12, 'I': 3, 'F': 6, 'E': 3, \"'\": 1, 'J': 1}, 'T': {'T': 50, '>': 50, 'H': 63, 'E': 44, ' ': 36, 'O': 53, 'A': 31, 'R': 28, 'I': 36, 'Y': 11, 'U': 20, 'C': 13, 'W': 6, 'L': 6, 'M': 1, 'N': 1, 'S': 3, 'K': 1, 'B': 1}, 'E': {'U': 5, 'R': 177, '>': 116, 'W': 10, 'Y': 68, 'S': 43, ' ': 87, 'I': 5, 'J': 1, 'D': 31, 'N': 68, 'E': 22, 'A': 48, 'B': 12, 'T': 43, 'L': 85, 'G': 14, 'H': 2, 'C': 7, 'P': 7, 'V': 19, 'O': 13, 'M': 18, 'X': 1, 'F': 1}, 'U': {'A': 3, 'L': 19, 'S': 92, 'B': 8, 'F': 12, 'D': 13, 'M': 22, 'T': 9, 'R': 42, 'E': 8, 'X': 1, 'C': 11, 'N': 26, 'P': 4, 'K': 5, 'Z': 1, 'G': 15, 'I': 9, 'O': 1, 'H': 1, ' ': 1}, 'R': {'C': 18, 'O': 74, 'N': 26, 'T': 63, 'L': 12, 'K': 26, 'A': 75, 'S': 26, 'E': 82, 'Y': 18, 'B': 11, 'D': 25, '>': 59, 'U': 21, ' ': 41, 'I': 94, 'G': 13, 'M': 21, 'R': 19, '.': 9, 'W': 3, 'F': 6, 'J': 2, 'P': 7, 'V': 5, 'Q': 2}, 'C': {'R': 24, 'K': 67, 'H': 51, '.': 1, 'U': 12, 'E': 25, 'O': 30, 'T': 11, 'I': 11, 'Y': 5, 'A': 36, 'C': 5, 'L': 10, ' ': 8, '>': 2, 'D': 3, 'F': 1, 'M': 3, 'N': 1, 'G': 2}, 'M': {'B': 18, 'E': 34, 'A': 81, ' ': 11, 'S': 7, 'I': 28, 'P': 11, 'Y': 7, 'O': 41, '>': 13, 'U': 15, 'R': 12, 'M': 7, 'F': 3, 'C': 11, 'N': 1, 'G': 2, 'L': 1}, 'I': {'E': 34, 'D': 26, 'N': 107, 'B': 10, 'O': 15, 'L': 58, 'C': 41, 'T': 27, ' ': 3, 'R': 27, 'S': 47, 'U': 25, 'A': 37, 'G': 24, 'M': 17, 'X': 3, 'F': 7, 'V': 12, 'P': 7, 'K': 3, '>': 6, 'W': 1, 'Q': 1}, 'Y': {'>': 97, 'M': 5, ' ': 60, 'L': 3, 'S': 3, 'G': 1, 'C': 5, 'N': 6, '-': 3, 'B': 2, 'F': 1, 'P': 2, 'T': 2, 'E': 5, 'R': 3, 'A': 3, 'D': 1, 'O': 2, 'K': 3, 'I': 1}, 'S': {'T': 54, '>': 79, 'O': 14, 'H': 18, 'L': 33, 'I': 16, 'S': 17, 'W': 6, ' ': 112, 'A': 16, 'P': 11, 'U': 6, '.': 7, 'B': 1, 'Y': 6, 'E': 21, 'C': 13, 'K': 7, 'D': 1, 'É': 1, '-': 1, 'M': 9, 'N': 4, 'R': 3}, 'W': {'A': 21, 'F': 1, 'E': 36, ' ': 3, 'Y': 8, 'N': 3, '>': 8, 'L': 4, 'O': 12, 'I': 28, 'C': 1, 'K': 3, 'U': 1, 'P': 1, 'S': 2, 'B': 1, 'T': 1, 'R': 3, 'H': 3, 'M': 1}, 'K': {'E': 35, 'I': 31, 'A': 4, 'Y': 3, '>': 59, ' ': 12, 'L': 6, 'S': 10, 'B': 2, '.': 1, 'F': 1, 'U': 4, 'N': 4, 'R': 3, 'T': 1, 'H': 3, 'O': 5, 'W': 1}, 'L': {'E': 136, 'D': 34, ' ': 9, 'M': 4, 'O': 45, 'T': 3, 'G': 5, '>': 30, 'I': 63, 'U': 22, 'L': 71, 'B': 21, 'A': 84, 'C': 4, 'Y': 22, 'P': 7, 'F': 14, 'S': 2, 'V': 4, 'W': 3, 'H': 2, 'K': 6, 'Z': 1}, 'G': {'N': 8, 'B': 11, 'O': 32, '>': 17, 'U': 28, 'M': 4, 'S': 5, 'A': 24, 'E': 48, 'R': 34, 'I': 16, 'G': 15, 'L': 14, 'W': 8, ' ': 6, 'H': 8, 'D': 2, 'T': 2}, 'J': {'I': 4, 'A': 5, 'O': 15, '.': 2, 'Y': 2, 'U': 3, 'E': 3, 'S': 1}, 'D': {'E': 60, ' ': 30, 'A': 41, 'R': 22, '>': 28, 'O': 51, 'L': 9, 'Y': 10, 'I': 16, 'W': 6, 'D': 14, 'M': 6, 'G': 18, 'N': 1, 'U': 22, 'S': 3, '-': 1, 'B': 1, 'P': 1, 'F': 2, 'T': 1, 'C': 1, 'Z': 1}, 'P': {'.': 1, 'H': 20, '>': 5, 'E': 47, 'O': 31, 'I': 20, 'B': 1, 'P': 6, 'A': 14, 'L': 6, 'W': 1, 'K': 1, 'U': 5, 'S': 5, 'R': 14, 'Y': 3, 'Z': 1, 'T': 2}, '.': {'C': 1, ' ': 19, '>': 2}, 'V': {'E': 38, 'I': 22, 'O': 6, '>': 3, 'L': 2, 'A': 14, 'Y': 1, 'S': 1, 'U': 1}, 'F': {'F': 18, ' ': 4, 'U': 10, 'I': 17, 'L': 16, 'O': 23, 'A': 15, 'R': 12, 'E': 6, 'Y': 2, '>': 6, 'K': 1, 'T': 2}, 'X': {' ': 4, 'A': 4, 'E': 2, 'T': 1, 'I': 2, 'L': 1}, 'Z': {'O': 3, 'E': 2, 'A': 7, 'M': 1, 'I': 1}, '-': {'G': 1, 'P': 3, 'F': 1, 'E': 1, 'A': 1}, 'Q': {'U': 12}, \"'\": {'H': 1}, 'É': {'E': 1}}\n",
            "{'I': 4, 'A': 5, 'O': 15, '.': 2, 'Y': 2, 'U': 3, 'E': 3, 'S': 1}\n"
          ]
        }
      ]
    },
    {
      "cell_type": "markdown",
      "source": [
        "## Neuer angepasster Generator 🤖\n",
        "Der alte Generator würde jetzt weiterhin Unsinn produzieren, weil er die bedingten Wahrscheinlichkeiten (die für Markov-Ketten so entscheidend sind) nicht beachtet. Genau das wollen wir jetzt ändern.\n",
        "\n",
        "### Aufgabe:\n",
        "Schreibe eine Funktion `ziehe`, die ein Dictionary erhält und der bedingten Wahrscheinlichkeit folgend einen zufälligen Buchstaben zieht. Erweitere anschließend `generiere_namen` um die `ziehe`-Funktion. Generiere anschließend wieder 10 zufällige Namen.\n",
        "\n",
        "*Hinweis:* Das mit den bedingten Wahrscheinlichkeiten ist zunächst keine leichte Aufgabe. Am einfachsten ist es, zunächst die (bedingte) Summe aller Buchstaben zu berechnen und anschließend eine Zufallszahl `z` zwischen 0 und der Summe zu ziehen. Anschließend durchläuft man schrittweise die Einträge des Dictionarys und zieht jeweils die absolute Häufigkeit von der Zufallszahl `z` ab, bis wir einen Wert kleiner als 0 erhalten. Der Buchstabe, für den wir die 0 unterschritten haben, wird dann ausgegeben."
      ],
      "metadata": {
        "id": "dNLgLTy0kg3L"
      }
    },
    {
      "cell_type": "code",
      "source": [
        "def ziehe(dictionary):\n",
        "    pass\n",
        "\n",
        "def generiere_namen(model):\n",
        "    name = \"<\"\n",
        "\n",
        "    return name.replace(\"<\", \"\").replace(\">\", \"\")\n",
        "\n",
        "random.seed(10)\n",
        "for _ in range(10):\n",
        "    print(generiere_namen(model))"
      ],
      "metadata": {
        "id": "tNo3tiCHkZFG"
      },
      "execution_count": null,
      "outputs": []
    },
    {
      "cell_type": "markdown",
      "source": [
        "## Besseres Modell durch n-Grams 🔤 🔗\n",
        "Die Ergebnisse sehen ein klitzekleines bisschen besser aus, sind aber leider immernoch völliger Unfug. Offensichtlich ist es nicht ausreichend, einen Buchstaben nur durch seinen Vorgänger zu generieren. Hier sollen n-Grams helfen.\n",
        "\n",
        "Ein n-Gram ist ein Modell, bei dem der `n+1`-ste von den vorherigen `n` Buchstaben vorhergesagt wird. Ein 3-Gram (häufig auch Tri-Gram) generiert also einen Buchstaben basierend auf seinen drei Vorgängern.\n",
        "\n",
        "### Aufgabe:\n",
        "Erweitere die Funktion `initialisiere` um einen weiteren Übergabeparameter `tokenlaenge`, mit dem wir festlegen können, wie viele Buchstaben benötigt werden, um den Nachfolgebuchstaben zu generieren.\n",
        "\n",
        "*Hinweis:* Der Start-Token ist jetzt nicht mehr einfach nur `<`, sondern muss auf die Tokenlänge erweitert werden. Ein Name wird für ein Tri-Gram also folgendermaßen kodiert: `<<<HARRY POTTER>`.\n"
      ],
      "metadata": {
        "id": "6QHjBhvPmXrn"
      }
    },
    {
      "cell_type": "code",
      "source": [
        "def initialisiere(data, tokenlaenge=1):\n",
        "    out = dict()\n",
        "\n",
        "    return out\n",
        "\n",
        "model = initialisiere(DATA, tokenlaenge=3)"
      ],
      "metadata": {
        "id": "oyNIM-fLn4vo"
      },
      "execution_count": null,
      "outputs": []
    },
    {
      "cell_type": "markdown",
      "source": [
        "## Namen generieren ✍️\n",
        "Das soll es schon gewesen sein! Jetzt möchten wir unser Modell testen.\n",
        "\n",
        "### Aufgabe:\n",
        "Erweitere die Funktion `generiere_namen` so, dass sie mit variabler Tokenlänge umgehen kann. Generiere 10 Namen mit Tokenlänge 2, 3, 4, 5,... Was fällt auf?"
      ],
      "metadata": {
        "id": "N8tU1rYsog0O"
      }
    },
    {
      "cell_type": "code",
      "source": [
        "def generiere_namen(model, start=\"\"):\n",
        "    name = \"<\"\n",
        "\n",
        "    return name.replace(\"<\", \"\").replace(\">\", \"\")\n",
        "\n",
        "model = initialisiere(DATA, tokenlaenge=3)\n",
        "random.seed(0)\n",
        "for _ in range(10):\n",
        "    print(generiere_namen(model, start=\"\"))"
      ],
      "metadata": {
        "id": "G6JXC-GWrCb1"
      },
      "execution_count": null,
      "outputs": []
    }
  ]
}