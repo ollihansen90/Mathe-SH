{
  "cells": [
    {
      "cell_type": "markdown",
      "metadata": {
        "id": "view-in-github",
        "colab_type": "text"
      },
      "source": [
        "<a href=\"https://colab.research.google.com/github/ollihansen90/Mathe-SH/blob/main/Nerdle_random.ipynb\" target=\"_parent\"><img src=\"https://colab.research.google.com/assets/colab-badge.svg\" alt=\"Open In Colab\"/></a>"
      ]
    },
    {
      "cell_type": "markdown",
      "source": [
        "# Nerdle (random)\n",
        "\n",
        "## 🤔 Fragen? 🤔\n",
        "Solltet ihr Fragen zum Code oder Probleme mit Colab haben, schickt uns gerne eine Mail:\n",
        "- h.hansen@uni-luebeck.de\n",
        "- friederike.meissner@student.uni-luebeck.de\n",
        "- dustin.haschke@student.uni-luebeck.de\n",
        "- mika.kohlhammer@student.uni-luebeck.de"
      ],
      "metadata": {
        "id": "phtOiw3en0St"
      }
    },
    {
      "cell_type": "markdown",
      "source": [
        "# Nerdle (Random-Variante)\n",
        "Wir wollen heute das Spiel Nerdle in Python implementieren!\n",
        "Dafür wollen wir Python eine zufällige korrekte Gleichung finden lassen.\n",
        "\n",
        "\n",
        "---\n",
        "\n",
        "\n",
        "\n",
        "Zunächst erstellen wir dafür unterschiedliche Listen der erlaubten Zeichen, die wir später zum Prüfen benötigen. Im Anschluss nutzen wir die eval()-Funktion, um den Term auszuwerten.\n",
        "\n",
        "Danach überlegen wir uns Prüfkriterien, ob tatsächlich die klassische Nerdle-Form, also sowas wie `89-13=76` vorliegt. Nun benötigen wir noch die klassische Farbkodierung von Nerdle, die anzeigt, ob die Zahlen richtig oder sogar in richtiger Position sind...\n",
        "\n",
        "\n",
        "... und danach können wir zufällige Gleichungen erstellen, von denen uns eine als Spiel vorgegeben wird. :-)"
      ],
      "metadata": {
        "id": "NtBz4jBYLrgG"
      }
    },
    {
      "cell_type": "markdown",
      "source": [
        "Zunächst brauchen wir eine bestimmte Gesamtlänge der Gleichung:"
      ],
      "metadata": {
        "id": "bqxVetcPPagy"
      }
    },
    {
      "cell_type": "code",
      "execution_count": 2,
      "metadata": {
        "colab": {
          "base_uri": "https://localhost:8080/"
        },
        "id": "iElN1ueLDl0F",
        "outputId": "14c63a2d-69e6-4880-9627-71d16d4e8af0"
      },
      "outputs": [
        {
          "name": "stdout",
          "output_type": "stream",
          "text": [
            "Gib die Länge der Gleichung an!\n",
            "8\n"
          ]
        }
      ],
      "source": [
        "n = int(input(\"Gib die Länge der Gleichung an!\\n\"))"
      ]
    },
    {
      "cell_type": "markdown",
      "metadata": {
        "id": "ksmq7iXhOSe5"
      },
      "source": [
        "## Erstelle Listen der Zeichen & Zahlen ➕➖✖️➗🔢\n",
        "\n",
        "Um später die Eingabe zu prüfen und mit der Lösung zu vergleichen, brauchen wir verschiedene Listen, die alle möglichen Ziffern und Operatoren sowie das Gleichheitszeichen als *character* enthalten.\n",
        "\n",
        "Definiere dafür folgende Listen:\n",
        "\n",
        "1.  alle Ziffern, ohne die Null\n",
        "2.  alle Ziffern, mit der Null\n",
        "3.  alle zulässigen Operatoren (Addition, Subtraktion, Multiplikation, Division)\n",
        "4.  alle zulässigen Operatoren und das Gleichheitszeichen\n",
        "5.  alle zulässigen Zeichen (Ziffern, Operatoren, Gleichheitszeichen).  \n",
        "\n"
      ]
    },
    {
      "cell_type": "code",
      "execution_count": 3,
      "metadata": {
        "id": "sbZyid8dPNCB"
      },
      "outputs": [],
      "source": [
        "zahlen = [\"1\",\"2\",\"3\",\"4\",\"5\",\"6\",\"7\",\"8\",\"9\"]\n",
        "zahlen_null = [\"0\",\"1\",\"2\",\"3\",\"4\",\"5\",\"6\",\"7\",\"8\",\"9\"]\n",
        "zeichen = [\"+\",\"-\",\"*\",\"/\"]\n",
        "zeichen_gleich = [\"+\",\"-\",\"*\",\"/\",\"=\"]\n",
        "zahlen_zeichen = [\"0\",\"1\",\"2\",\"3\",\"4\",\"5\",\"6\",\"7\",\"8\",\"9\",\"+\",\"-\",\"*\",\"/\"]\n",
        "\n",
        "# alternativ\n",
        "zahlen = list(\"123456789\")\n",
        "zahlen_null = [\"0\"] + zahlen\n",
        "zeichen = list(\"+-*/\")\n",
        "zeichen_gleich = zeichen + [\"=\"]\n",
        "zahlen_zeichen = zahlen_null + zeichen"
      ]
    },
    {
      "cell_type": "markdown",
      "source": [
        "## Prüfe Länge der Eingabe 🔎📐\n",
        "\n",
        "Zuerst überprüfen wir, ob die übergebene `gleichung` die eben festgelegte Länge `n` besitzt. Ergänze dafür den Rumpf der Funktion `richtige_laenge`, die `True` zurückgeben soll, wenn `gleichung` `n` Zeichen lang ist, und sonst `False`."
      ],
      "metadata": {
        "id": "0_HrYtwoMpdR"
      }
    },
    {
      "cell_type": "code",
      "source": [
        "def richtige_laenge(gleichung):\n",
        "    return len(gleichung) == n"
      ],
      "metadata": {
        "id": "75UJkYO9NmuZ"
      },
      "execution_count": 4,
      "outputs": []
    },
    {
      "cell_type": "markdown",
      "source": [
        "## Prüfe zulässige Zahlen und Zeichen 🔎🔢➕➖✖️➗\n",
        "\n",
        "Jetzt müssen wir sicherstellen, dass die `gleichung` nur aus Zahlen, den Operatoren +, -, *, / und dem Gleichheitszeichen besteht. Vervollständige dafür die Funktion `zahlen_und_zeichen`, die `True` zurückgeben soll, wenn nur zulässige Zeichen bzw. Zahlen enthalten sind, und sonst `False`."
      ],
      "metadata": {
        "id": "eFwCKDM8Pith"
      }
    },
    {
      "cell_type": "code",
      "source": [
        "def zahlen_und_zeichen(gleichung):\n",
        "    for zeichen in gleichung:\n",
        "        if zeichen not in zahlen_zeichen:\n",
        "            return False\n",
        "    return True\n"
      ],
      "metadata": {
        "id": "RgyjBdbVQdFO"
      },
      "execution_count": 6,
      "outputs": []
    },
    {
      "cell_type": "markdown",
      "metadata": {
        "id": "Ww6R0NbyN93g"
      },
      "source": [
        "## Prüfe Gleichheitszeichen 🟰✔️\n",
        "\n",
        "Hier überprüfen wir, ob die `gleichung` nur ein einziges Gleichheitszeichen enthält und ob darauf eine Ziffer folgt. Ergänze also die Funktion `genau_ein_gleich`, die nur dann `True` zurückgibt, wenn beide Eigenschaften erfüllt sind, und sonst `False`."
      ]
    },
    {
      "cell_type": "code",
      "execution_count": 7,
      "metadata": {
        "id": "JRkfYO93MgSf"
      },
      "outputs": [],
      "source": [
        "def genau_ein_gleich(gleichung):\n",
        "    if gleichung.count(\"=\") != 1:\n",
        "        return False\n",
        "    gleich_position = gleichung.index(\"=\")\n",
        "    #n = len(gleichung)\n",
        "    #if gleich_position < (n-1)/2 or gleich_position == n-1:\n",
        "    #   return False\n",
        "    if not gleichung[gleich_position+1:].isdigit():\n",
        "        return False\n",
        "    else:\n",
        "        return True\n",
        "\n",
        "# alternativ\n",
        "def genau_ein_gleich(gleichung):\n",
        "    if len(gleichung.split(\"=\")) != 2:\n",
        "        return False\n",
        "\n",
        "    links, rechts = gleichung.split(\"=\")\n",
        "    for zeichen in rechts:\n",
        "        if zeichen not in zahlen_null:\n",
        "            return False\n",
        "    return True"
      ]
    },
    {
      "cell_type": "markdown",
      "metadata": {
        "id": "xfFkzHN9Odxd"
      },
      "source": [
        "## Prüfe Gleichheit 🍏=🍐\n",
        "\n",
        "Implementiere die Funktion `gilt_gleichung`, die für die übergebene `gleichung` prüft, ob die linke Seite der rechten Seite entspricht, und den entsprechenden Wahrheitswert zurückgibt. Die Rechnung links des Gleichheitszeichens soll also zum angegebenen Ergebnis auf der rechten Seite des Gleichheitszeichens passen."
      ]
    },
    {
      "cell_type": "code",
      "execution_count": 8,
      "metadata": {
        "id": "dAe_4dju58ve"
      },
      "outputs": [],
      "source": [
        "def gilt_gleichung(gleichung):\n",
        "    links, rechts = gleichung.split(\"=\")\n",
        "    return eval(links) == eval(rechts)"
      ]
    },
    {
      "cell_type": "markdown",
      "metadata": {
        "id": "UjnSCcwKOmgG"
      },
      "source": [
        "## Prüfe Anfang & Ende Ⓐ👶👴♎\n",
        "\n",
        "Vervollständige die Funktion `anfang_und_ende`, die als Boolean zurückgibt, ob das erste Zeichen der übergebenen `gleichung` eine Zahl größer 0 und das letzte Zeichen eine Zahl größer oder gleich 0 ist."
      ]
    },
    {
      "cell_type": "code",
      "execution_count": 9,
      "metadata": {
        "id": "T73WX9lQrRPh"
      },
      "outputs": [],
      "source": [
        "def anfang_und_ende(gleichung):\n",
        "    #if gleichung[0] in zahlen and gleichung[-1] in zahlen_null:\n",
        "    #    return True\n",
        "    #else:\n",
        "    #    return False\n",
        "    return gleichung[0] in zahlen and gleichung[-1] in zahlen_null"
      ]
    },
    {
      "cell_type": "markdown",
      "metadata": {
        "id": "ka0hq8e8Oq5J"
      },
      "source": [
        "## Prüfe Vorgänger und Nachfolger ➡️\n",
        "\n",
        "Um sicherzustellen, dass vor und nach jedem Operator eine Zahl steht, nach dem Operator jedoch keine 0, verwenden wir die Funktion `operator_nachfolger`. Ergänze dafür den Funktionsrumpf entsprechend."
      ]
    },
    {
      "cell_type": "code",
      "execution_count": 10,
      "metadata": {
        "id": "APYp1ny-h0SH"
      },
      "outputs": [],
      "source": [
        "def operator_nachfolger(gleichung):\n",
        "    k = len(gleichung)\n",
        "    for i in range(k-1):\n",
        "        if gleichung[i] in zeichen_gleich:\n",
        "            if not (gleichung[i+1] in zahlen and gleichung[i-1] in zahlen_null):\n",
        "                if gleichung[i] == \"=\" and gleichung[i+1] == \"0\" and i == k-2:  # Fall wird doppelt betrachtet => in genau_ein_gleich sonderfall?\n",
        "                    break\n",
        "                else:\n",
        "                    return False\n",
        "    return True\n",
        "\n",
        "# alternativ\n",
        "def operator_nachfolger(gleichung):\n",
        "    for operator in \"+-*/=\":\n",
        "        for abschnitt in gleichung.split(operator):\n",
        "            if len(abschnitt) == 0 or abschnitt[0] in list(\"0+-*/=\"):\n",
        "                return False\n",
        "    return True"
      ]
    },
    {
      "cell_type": "markdown",
      "metadata": {
        "id": "AaCKoBCIOuFt"
      },
      "source": [
        "## Führe Prüfungen zusammen 🔗\n",
        "\n",
        "Jetzt wollen wir die zuvor definierten Anforderungen an die Eingabe in einer einzigen Funktion `pruefe_eingabe` zusammenführen. Sie soll also nur dann `True` zurückgeben, wenn\n",
        "* die Eingabe genau `n` Zeichen lang ist (`richtige_laenge`),\n",
        "* die Eingabe nur aus zulässigen Zahlen und Zeichen besteht (`zahlen_und_zeichen`),\n",
        "* die Eingabe genau ein Gleichheitszeichen enthält, das nicht an erster oder letzter Stelle steht (`genau_ein_gleich`),\n",
        "* das erste sowie letzte Zeichen eine Zahl sind, das erste jedoch keine Null ist (`anfang_und_ende`),\n",
        "* jeder Operator von Zahlen eingeschlossen wird (`operator_nachfolger`)\n",
        "* und die linke Seite der rechten Seite entspricht (`gilt_gleichung`),\n",
        "\n",
        "sonst ist der Rückgabewert `False`."
      ]
    },
    {
      "cell_type": "code",
      "execution_count": 11,
      "metadata": {
        "id": "xkXgB0h5loMe"
      },
      "outputs": [],
      "source": [
        "def pruefe_eingabe(eingabe):\n",
        "    #if not (genau_ein_gleich(eingabe) and anfang_und_ende(eingabe) and operator_nachfolger(eingabe)):\n",
        "    #    return False\n",
        "    #if not gilt_gleichung(eingabe):\n",
        "    #    return False\n",
        "    #return True\n",
        "    return richtige_laenge(eingabe) and zahlen_und_zeichen(eingabe) and genau_ein_gleich(eingabe) and anfang_und_ende(eingabe) and operator_nachfolger(eingabe) and gilt_gleichung(eingabe)\n",
        "\n",
        "# alternativ\n",
        "def pruefe_eingabe(gleichung):\n",
        "    if len(gleichung)!=8:\n",
        "        return False\n",
        "\n",
        "    for zeichen in gleichung:\n",
        "        if zeichen not in list(\"0123456789+-*/=\"):\n",
        "            return False\n",
        "\n",
        "    for operator in \"+-*/=\":\n",
        "        for abschnitt in gleichung.split(operator):\n",
        "            if len(abschnitt) == 0 or abschnitt[0] in list(\"0+-*/=\"):\n",
        "                return False\n",
        "\n",
        "    if len(gleichung.split(\"=\")) != 2:\n",
        "        return False\n",
        "\n",
        "    links, rechts = gleichung.split(\"=\")\n",
        "\n",
        "    for zeichen in rechts:\n",
        "        if zeichen not in list(\"0123456789\"):\n",
        "            return False\n",
        "\n",
        "    if eval(links) != eval(rechts):\n",
        "        return False\n",
        "\n",
        "    return True"
      ]
    },
    {
      "cell_type": "markdown",
      "metadata": {
        "id": "TKrpWBbKO0Go"
      },
      "source": [
        "## Bewerte Eingabe 🔎📊⚖️🤔\n",
        "\n",
        "Implementiere nun eine Funktion `werte_eingabe()`, die überprüft, ob die beiden Argumente `eingabe` und `loesung` übereinstimmen. Unterscheide dabei, ob jedes Zeichen bereits\n",
        "* an richtiger Position ist,\n",
        "* enthalten, aber an falscher Position ist,\n",
        "* oder überhaupt nicht in der Lösung vorkommt.\n",
        "\n",
        "Entsprechend sollen die Zeichen der Eingabe in verschiedenen Farben auf der Konsole ausgegeben werden. Um die Farbe zu verändern, hänge einen ANSI-Farbcode dieser Form `'\\033[qqm'` vor den String. `'\\033[0m'` setzt die Farbe wieder zurück auf schwarz.\n",
        "\n",
        "https://www.w3schools.com/colors/colors_picker.asp\n",
        "\n",
        "Prüfe jedoch zuerst, ob `eingabe` auch die vorher definierten Anforderungen (siehe vorherige Aufgabe) erfüllt."
      ]
    },
    {
      "cell_type": "code",
      "source": [
        "def werte_eingabe(eingabe, loesung):\n",
        "    rot = \"\\x1b[48;2;256;179;179m\"\n",
        "    gruen = \"\\x1b[48;2;153;255;153m\"\n",
        "    gelb = \"\\x1b[48;2;255;255;128m\"\n",
        "    end = \"\\033[0m\"\n",
        "    ausgabe = \"\"\n",
        "\n",
        "    for i in range(len(eingabe)):\n",
        "        if eingabe[i]==loesung[i]:\n",
        "            ausgabe = ausgabe+gruen+eingabe[i]+end\n",
        "        elif eingabe[i] in loesung:\n",
        "            ausgabe = ausgabe+gelb+eingabe[i]+end\n",
        "        else:\n",
        "            ausgabe = ausgabe+rot+eingabe[i]+end\n",
        "    return ausgabe\n",
        "\n",
        "eingabe = \"35/7+3=8\"\n",
        "loesung = \"140/20=7\"\n",
        "print(werte_eingabe(eingabe, loesung))"
      ],
      "metadata": {
        "id": "TA4Z6jWlvNbO",
        "colab": {
          "base_uri": "https://localhost:8080/"
        },
        "outputId": "7c7463bd-24ef-45dc-fb68-4eeaa55d3555"
      },
      "execution_count": 48,
      "outputs": [
        {
          "output_type": "stream",
          "name": "stdout",
          "text": [
            "\u001b[48;2;256;179;179m3\u001b[0m\u001b[48;2;256;179;179m5\u001b[0m\u001b[48;2;255;255;128m/\u001b[0m\u001b[48;2;255;255;128m7\u001b[0m\u001b[48;2;256;179;179m+\u001b[0m\u001b[48;2;256;179;179m3\u001b[0m\u001b[48;2;153;255;153m=\u001b[0m\u001b[48;2;256;179;179m8\u001b[0m\n"
          ]
        }
      ]
    },
    {
      "cell_type": "markdown",
      "source": [
        "## Spiel"
      ],
      "metadata": {
        "id": "qc_jyY98q0Mn"
      }
    },
    {
      "cell_type": "code",
      "source": [
        "eingabe = \"\"\n",
        "loesung = \"140/20=7\"\n",
        "loesung = generiere_loesung(n=8)\n",
        "nochuebrig = \"\".join(zahlen_zeichen+[\"=\"])\n",
        "versuche = 0\n",
        "\n",
        "while eingabe!=loesung:\n",
        "    eingabe = input(\"Gib eine Gleichung der Länge 8 ein: \")\n",
        "    while not pruefe_eingabe(eingabe):\n",
        "        print(\"Unzulässige Gleichung!\")\n",
        "        eingabe = input(\"Gib eine Gleichung der Länge 8 ein: \")\n",
        "    print(werte_eingabe(eingabe, loesung))\n",
        "    for zeichen in eingabe:\n",
        "        nochuebrig = nochuebrig.replace(zeichen, \".\")\n",
        "    print(nochuebrig)\n",
        "    versuche = versuche+1\n",
        "print(\"Korrekt, sehr gut! Du hast \"+str(versuche)+\" Versuche gebraucht!\")"
      ],
      "metadata": {
        "colab": {
          "base_uri": "https://localhost:8080/"
        },
        "id": "a_IIm7O-q2Jg",
        "outputId": "989bf2c0-10fe-4309-df39-c6124845db3c"
      },
      "execution_count": 62,
      "outputs": [
        {
          "output_type": "stream",
          "name": "stdout",
          "text": [
            "Gib eine Gleichung der Länge 8 ein: 120/6=20\n",
            "\u001b[48;2;153;255;153m1\u001b[0m\u001b[48;2;255;255;128m2\u001b[0m\u001b[48;2;153;255;153m0\u001b[0m\u001b[48;2;153;255;153m/\u001b[0m\u001b[48;2;256;179;179m6\u001b[0m\u001b[48;2;255;255;128m=\u001b[0m\u001b[48;2;255;255;128m2\u001b[0m\u001b[48;2;255;255;128m0\u001b[0m\n",
            "...345.789+-*..\n",
            "Gib eine Gleichung der Länge 8 ein: 130/2=65\n",
            "\u001b[48;2;153;255;153m1\u001b[0m\u001b[48;2;256;179;179m3\u001b[0m\u001b[48;2;153;255;153m0\u001b[0m\u001b[48;2;153;255;153m/\u001b[0m\u001b[48;2;153;255;153m2\u001b[0m\u001b[48;2;255;255;128m=\u001b[0m\u001b[48;2;256;179;179m6\u001b[0m\u001b[48;2;256;179;179m5\u001b[0m\n",
            "....4..789+-*..\n",
            "Gib eine Gleichung der Länge 8 ein: 14/20=7\n",
            "Unzulässige Gleichung!\n",
            "Gib eine Gleichung der Länge 8 ein: 140/20=7\n",
            "\u001b[48;2;153;255;153m1\u001b[0m\u001b[48;2;153;255;153m4\u001b[0m\u001b[48;2;153;255;153m0\u001b[0m\u001b[48;2;153;255;153m/\u001b[0m\u001b[48;2;153;255;153m2\u001b[0m\u001b[48;2;153;255;153m0\u001b[0m\u001b[48;2;153;255;153m=\u001b[0m\u001b[48;2;153;255;153m7\u001b[0m\n",
            "........89+-*..\n",
            "Korrekt, sehr gut! Du hast 3 Versuche gebraucht!\n"
          ]
        }
      ]
    },
    {
      "cell_type": "code",
      "source": [],
      "metadata": {
        "colab": {
          "base_uri": "https://localhost:8080/"
        },
        "id": "tX1JtTl8tqvk",
        "outputId": "89ec6f08-d4d7-4545-99ab-aab091de83ea"
      },
      "execution_count": 56,
      "outputs": [
        {
          "output_type": "execute_result",
          "data": {
            "text/plain": [
              "['0', '1', '2', '3', '4', '5', '6', '7', '8', '9', '+', '-', '*', '/', '=']"
            ]
          },
          "metadata": {},
          "execution_count": 56
        }
      ]
    },
    {
      "cell_type": "markdown",
      "metadata": {
        "id": "WU7eB05zO6Ep"
      },
      "source": [
        "## Zufällige Gleichung 🎲🤪"
      ]
    },
    {
      "cell_type": "code",
      "source": [
        "import random"
      ],
      "metadata": {
        "id": "V-fdzR9rKBmW"
      },
      "execution_count": null,
      "outputs": []
    }
  ],
  "metadata": {
    "colab": {
      "provenance": [],
      "include_colab_link": true
    },
    "kernelspec": {
      "display_name": "Python 3",
      "name": "python3"
    },
    "language_info": {
      "name": "python"
    }
  },
  "nbformat": 4,
  "nbformat_minor": 0
}