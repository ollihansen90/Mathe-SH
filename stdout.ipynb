{
  "nbformat": 4,
  "nbformat_minor": 0,
  "metadata": {
    "colab": {
      "name": "stdout.ipynb",
      "provenance": [],
      "collapsed_sections": [],
      "authorship_tag": "ABX9TyMDkNEgmIVHP/jwsthsqPbq",
      "include_colab_link": true
    },
    "kernelspec": {
      "name": "python3",
      "display_name": "Python 3"
    },
    "language_info": {
      "name": "python"
    }
  },
  "cells": [
    {
      "cell_type": "markdown",
      "metadata": {
        "id": "view-in-github",
        "colab_type": "text"
      },
      "source": [
        "<a href=\"https://colab.research.google.com/github/ollihansen90/Mathe-SH/blob/main/stdout.ipynb\" target=\"_parent\"><img src=\"https://colab.research.google.com/assets/colab-badge.svg\" alt=\"Open In Colab\"/></a>"
      ]
    },
    {
      "cell_type": "code",
      "execution_count": 3,
      "metadata": {
        "colab": {
          "base_uri": "https://localhost:8080/"
        },
        "id": "hJ2tyK7tTaSk",
        "outputId": "3bfceedc-87ff-4f9c-e65c-ae1a7c95eef9"
      },
      "outputs": [
        {
          "output_type": "stream",
          "name": "stdout",
          "text": [
            "Guten Tag"
          ]
        }
      ],
      "source": [
        "import sys\n",
        "import time\n",
        "\n",
        "sys.stdout.write(\"\\r\")\n",
        "sys.stdout.write(\"Hallo\")\n",
        "time.sleep(1)\n",
        "sys.stdout.write(\"\\r\")\n",
        "sys.stdout.write(\"Hi\")\n",
        "time.sleep(1)\n",
        "sys.stdout.write(\"\\r\")\n",
        "sys.stdout.write(\"Hey\")\n",
        "time.sleep(1)\n",
        "sys.stdout.write(\"\\r\")\n",
        "sys.stdout.write(\"Guten Tag\")"
      ]
    }
  ]
}