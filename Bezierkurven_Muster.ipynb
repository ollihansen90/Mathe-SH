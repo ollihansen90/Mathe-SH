{
  "nbformat": 4,
  "nbformat_minor": 0,
  "metadata": {
    "colab": {
      "provenance": [],
      "authorship_tag": "ABX9TyPmUKVWf4sAwGJja8fMwG+Z",
      "include_colab_link": true
    },
    "kernelspec": {
      "name": "python3",
      "display_name": "Python 3"
    },
    "language_info": {
      "name": "python"
    }
  },
  "cells": [
    {
      "cell_type": "markdown",
      "metadata": {
        "id": "view-in-github",
        "colab_type": "text"
      },
      "source": [
        "<a href=\"https://colab.research.google.com/github/ollihansen90/Mathe-SH/blob/main/Bezierkurven_Muster.ipynb\" target=\"_parent\"><img src=\"https://colab.research.google.com/assets/colab-badge.svg\" alt=\"Open In Colab\"/></a>"
      ]
    },
    {
      "cell_type": "markdown",
      "source": [
        "# Bezierkurven\n",
        "<img src=\"https://upload.wikimedia.org/wikipedia/commons/thumb/c/cb/Bezier-cast-3.svg/600px-Bezier-cast-3.svg.png\" width=50%>"
      ],
      "metadata": {
        "id": "UODDrXW9CHRY"
      }
    },
    {
      "cell_type": "code",
      "execution_count": 1,
      "metadata": {
        "id": "7X5gTD3808S0"
      },
      "outputs": [],
      "source": [
        "import numpy as np\n",
        "import matplotlib.pyplot as plt"
      ]
    },
    {
      "cell_type": "code",
      "source": [
        "punkte = np.array([\n",
        "                    [0,1],\n",
        "                    [0,0],\n",
        "                    [1,0],\n",
        "                    [1,1],\n",
        "                   ])\n",
        "\n",
        "def iteration(liste, t):\n",
        "    l = [t*liste[i]+(1-t)*liste[i+1] for i in range(len(liste)-1)]\n",
        "    #for i in range(len(liste)-1):\n",
        "    #    l.append(t*liste[i]+(1-t)*liste[i+1])\n",
        "    liste = np.array(l)\n",
        "    return liste\n",
        "\n",
        "t = 0.1\n",
        "neue_punkte = iteration(punkte, t)\n",
        "neueneue_punkte = iteration(neue_punkte, t)\n",
        "neuerpunkt = iteration(neueneue_punkte, t)\n",
        "\"\"\"neue_punkte = np.array([\n",
        "                    t*punkte[0]+(1-t)*punkte[1],\n",
        "                    t*punkte[1]+(1-t)*punkte[2],\n",
        "                    t*punkte[2]+(1-t)*punkte[3],\n",
        "                   ])\n",
        "neueneue_punkte = np.array([\n",
        "                    t*neue_punkte[0]+(1-t)*neue_punkte[1],\n",
        "                    t*neue_punkte[1]+(1-t)*neue_punkte[2],\n",
        "                   ])\n",
        "neuerPunkt = t*neueneue_punkte[0]+(1-t)*neueneue_punkte[1] # Hier ändern\n",
        "\"\"\"\n",
        "plt.figure()\n",
        "plt.plot(punkte[:,0], punkte[:,1], \"b-x\")\n",
        "plt.plot(neue_punkte[:,0], neue_punkte[:,1], \"g-x\")\n",
        "plt.plot(neueneue_punkte[:,0], neueneue_punkte[:,1], \"k-x\")\n",
        "for i in range(20):\n",
        "    t = i/20  \n",
        "    neue_punkte = iteration(punkte, t)\n",
        "    neueneue_punkte = iteration(neue_punkte, t)\n",
        "    neuerpunkt = iteration(neueneue_punkte, t).squeeze()\n",
        "    print(neuerpunkt)\n",
        "    plt.plot(neuerpunkt[0], neuerpunkt[1], \"ro\")\n",
        "plt.grid()\n",
        "plt.axis(\"equal\")\n",
        "plt.show()"
      ],
      "metadata": {
        "colab": {
          "base_uri": "https://localhost:8080/",
          "height": 612
        },
        "id": "9y1q9aR90_uU",
        "outputId": "04ca7c16-444d-40a0-a6f0-0ffbc9560496"
      },
      "execution_count": 47,
      "outputs": [
        {
          "output_type": "stream",
          "name": "stdout",
          "text": [
            "[1. 1.]\n",
            "[0.99275 0.8575 ]\n",
            "[0.972 0.73 ]\n",
            "[0.93925 0.6175 ]\n",
            "[0.896 0.52 ]\n",
            "[0.84375 0.4375 ]\n",
            "[0.784 0.37 ]\n",
            "[0.71825 0.3175 ]\n",
            "[0.648 0.28 ]\n",
            "[0.57475 0.2575 ]\n",
            "[0.5  0.25]\n",
            "[0.42525 0.2575 ]\n",
            "[0.352 0.28 ]\n",
            "[0.28175 0.3175 ]\n",
            "[0.216 0.37 ]\n",
            "[0.15625 0.4375 ]\n",
            "[0.104 0.52 ]\n",
            "[0.06075 0.6175 ]\n",
            "[0.028 0.73 ]\n",
            "[0.00725 0.8575 ]\n"
          ]
        },
        {
          "output_type": "display_data",
          "data": {
            "text/plain": [
              "<Figure size 432x288 with 1 Axes>"
            ],
            "image/png": "[encoded data removed]"
          },
          "metadata": {
            "needs_background": "light"
          }
        }
      ]
    },
    {
      "cell_type": "markdown",
      "source": [
        "## Kreis nachbauen"
      ],
      "metadata": {
        "id": "-5H4HJl7RZQO"
      }
    },
    {
      "cell_type": "code",
      "source": [
        "punkte = np.array([\n",
        "                    [0,0],\n",
        "                    [-np.exp(1),0],\n",
        "                    [0,2*np.exp(1)],\n",
        "                    [np.exp(1),0],\n",
        "                    [0,0],\n",
        "                   ])\n",
        "\n",
        "def iteration(liste, t):\n",
        "    l = [t*liste[i]+(1-t)*liste[i+1] for i in range(len(liste)-1)]\n",
        "    liste = np.array(l)\n",
        "    return liste\n",
        "\n",
        "def kreis():\n",
        "    base = np.linspace(-np.pi, np.pi)\n",
        "    return np.array([np.sin(base), np.cos(base)])\n",
        "\n",
        "kr = kreis()+np.array([0,1])[:,None]\n",
        "t = 0.1\n",
        "neue_punkte = iteration(punkte, t)\n",
        "neueneue_punkte = iteration(neue_punkte, t)\n",
        "neueneueneue_punkte = iteration(neueneue_punkte, t)\n",
        "neuerpunkt = iteration(neueneueneue_punkte, t)\n",
        "plt.figure()\n",
        "#plt.plot(punkte[:,0], punkte[:,1], \"b-x\")\n",
        "#plt.plot(neue_punkte[:,0], neue_punkte[:,1], \"g-x\")\n",
        "#plt.plot(neueneue_punkte[:,0], neueneue_punkte[:,1], \"k-x\")\n",
        "plt.plot(kr[0], kr[1])\n",
        "for i in range(20):\n",
        "    t = i/20  \n",
        "    neue_punkte = iteration(punkte, t)\n",
        "    neueneue_punkte = iteration(neue_punkte, t)\n",
        "    neueneueneue_punkte = iteration(neueneue_punkte, t)\n",
        "    neuerpunkt = iteration(neueneueneue_punkte, t).squeeze()\n",
        "    #print(neuerpunkt)\n",
        "    plt.plot(neuerpunkt[0], neuerpunkt[1], \"r.\")\n",
        "plt.grid()\n",
        "plt.axis(\"equal\")\n",
        "plt.show()"
      ],
      "metadata": {
        "colab": {
          "base_uri": "https://localhost:8080/",
          "height": 265
        },
        "id": "YAA0nAuEO13j",
        "outputId": "b651302d-08f2-4d41-b84c-3ae417dd3ae8"
      },
      "execution_count": 74,
      "outputs": [
        {
          "output_type": "display_data",
          "data": {
            "text/plain": [
              "<Figure size 432x288 with 1 Axes>"
            ],
            "image/png": "[encoded data removed]"
          },
          "metadata": {
            "needs_background": "light"
          }
        }
      ]
    }
  ]
}