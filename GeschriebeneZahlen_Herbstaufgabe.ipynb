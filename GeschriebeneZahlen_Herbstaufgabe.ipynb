{
  "nbformat": 4,
  "nbformat_minor": 0,
  "metadata": {
    "colab": {
      "provenance": [],
      "collapsed_sections": [],
      "include_colab_link": true
    },
    "kernelspec": {
      "name": "python3",
      "display_name": "Python 3"
    },
    "language_info": {
      "name": "python"
    }
  },
  "cells": [
    {
      "cell_type": "markdown",
      "metadata": {
        "id": "view-in-github",
        "colab_type": "text"
      },
      "source": [
        "<a href=\"https://colab.research.google.com/github/ollihansen90/Mathe-SH/blob/main/GeschriebeneZahlen_Herbstaufgabe.ipynb\" target=\"_parent\"><img src=\"https://colab.research.google.com/assets/colab-badge.svg\" alt=\"Open In Colab\"/></a>"
      ]
    },
    {
      "cell_type": "markdown",
      "source": [
        "#Unser Wortzahlen-Herbstprojekt"
      ],
      "metadata": {
        "id": "cQv3efUqa_Rn"
      }
    },
    {
      "cell_type": "markdown",
      "source": [
        "###**1.) Der Wortzahlen-Konvertierer**\n",
        "\n",
        "Nachfolgend soll ein Programm geschrieben werden, welches herkömmliche arabische Zahlen in ausgeschriebene Zahlen übersetzt.\n",
        "Das Programm soll den Zahlenbereich zwischen 0 und 9.999.999 (= NeunMillionenNeunhundertNeunundneunzigtausendNeunhundertNeunundNeunzig) abdecken.\n",
        "\n",
        "Zu einer eingegebenen Zahl soll eine ausgeschriebene Zahl erstellt werden.\n",
        "\n",
        "z.B. `900512` wird zu `NeunhunderttausendFünfhundertzwölf`.\n",
        "\n",
        "Orientiere dich bei der Umsetzung gerne an dem Projekt mit römischen Zahlen. Versuche außerdem möglichst Listen zu verwenden, in welche du alle möglichen Zahlenbegriffe einträgst, die dann z.B. von For-Schleifen *durchgespielt* werden."
      ],
      "metadata": {
        "id": "GDKhee2gbCKE"
      }
    },
    {
      "cell_type": "code",
      "execution_count": null,
      "metadata": {
        "id": "Pwc-pSgKazEJ"
      },
      "outputs": [],
      "source": [
        "# Platz frei für deinen Code!\n"
      ]
    },
    {
      "cell_type": "markdown",
      "source": [
        "###**2.) Die längsten Wortzahlen**\n",
        "\n",
        "Gebe die 10 Zahlen aus, die ausgeschrieben die längsten Zahlen zwischen 0 und 1000000 sind.\n",
        "\n",
        "Sollte es mehrere Zahlen der gleichen Länge geben, so wähle die aus, die im Alphabet als Erstes stehen würden."
      ],
      "metadata": {
        "id": "OO1t5LrvcB-C"
      }
    },
    {
      "cell_type": "code",
      "source": [
        "# Was glaubst du, welches die längsten Zahlen sind?\n",
        "# Viel Spaß in den Ferien & beim Programmieren :)\n"
      ],
      "metadata": {
        "id": "68UrizSgd10O"
      },
      "execution_count": null,
      "outputs": []
    },
    {
      "cell_type": "markdown",
      "source": [
        "###**2.1.) Bonusaufgabe**\n",
        "\n",
        "Gesucht sind die beiden Zahlen A und B zwischen 1 und 1000, die hintereinander ausgeschrieben mit zwei anderen Zahlen das längste Wort ergeben.\n",
        "\n",
        "Die beiden anderen Zahlen sind einerseits die Summe A+B ausgeschrieben, andererseits das Produkt A*B ausgeschrieben der ersten beiden Zahlen.\n",
        "\n",
        "Weiterhin dürfen A und B zusammen höchsten eine 7 enthalten.\n",
        "Außerdem dürfen A+B und A*B nicht durch 5 teilbar sein.\n",
        "\n",
        "Sollte es mehrere solcher Zahlen geben, so gebe die Summe ihrer (positiven) Differenz sowie die Anzahl dieser Tupel-Paare aus.\n",
        "\n",
        "Viel Spaß."
      ],
      "metadata": {
        "id": "3ekyOWqdUzOz"
      }
    },
    {
      "cell_type": "code",
      "source": [
        "#Bonusaufgabenteil"
      ],
      "metadata": {
        "id": "TLIkQjvIWiKk"
      },
      "execution_count": null,
      "outputs": []
    }
  ]
}