{
  "nbformat": 4,
  "nbformat_minor": 0,
  "metadata": {
    "colab": {
      "name": "gezinkterWuerfel.ipynb",
      "provenance": [],
      "collapsed_sections": [],
      "authorship_tag": "ABX9TyNs7XscNGfHZMuYu0MfO3dw",
      "include_colab_link": true
    },
    "kernelspec": {
      "name": "python3",
      "display_name": "Python 3"
    },
    "language_info": {
      "name": "python"
    }
  },
  "cells": [
    {
      "cell_type": "markdown",
      "metadata": {
        "id": "view-in-github",
        "colab_type": "text"
      },
      "source": [
        "<a href=\"https://colab.research.google.com/github/ollihansen90/Mathe-SH/blob/main/gezinkterWuerfel.ipynb\" target=\"_parent\"><img src=\"https://colab.research.google.com/assets/colab-badge.svg\" alt=\"Open In Colab\"/></a>"
      ]
    },
    {
      "cell_type": "code",
      "metadata": {
        "id": "1XAnWRKtYwwm"
      },
      "source": [
        "import numpy as np\n",
        "import matplotlib.pyplot as plt"
      ],
      "execution_count": 1,
      "outputs": []
    },
    {
      "cell_type": "code",
      "metadata": {
        "id": "0AzpvaXVZAB4"
      },
      "source": [
        "wuerfel1_wsk = np.array(6*[1/6])\n",
        "wuerfel1_dist = np.cumsum(wuerfel1_wsk)\n",
        "wuerfel2_wsk = np.array([1/12, 1/6, 1/6, 1/6, 1/6, 1/4])\n",
        "wuerfel2_dist = np.cumsum(wuerfel2_wsk)\n",
        "\n",
        "N = 10000\n",
        "w1 = np.zeros(N)\n",
        "w2 = np.zeros(N)\n",
        "for i in range(N):\n",
        "    z = np.random.rand(1)\n",
        "    for d in wuerfel1_dist:\n",
        "        w1[i] += z>d\n",
        "\n",
        "    z = np.random.rand(1)\n",
        "    for d in wuerfel2_dist:\n",
        "        w2[i] += z>d\n"
      ],
      "execution_count": 2,
      "outputs": []
    },
    {
      "cell_type": "code",
      "metadata": {
        "colab": {
          "base_uri": "https://localhost:8080/",
          "height": 513
        },
        "id": "R9f6xaXAdL5f",
        "outputId": "40ef7812-a4c3-4d59-b435-ffb9d3545253"
      },
      "source": [
        "plt.figure()\n",
        "plt.plot(w1, \".\")\n",
        "plt.show()\n",
        "\n",
        "plt.figure()\n",
        "plt.plot(w2, \".\")\n",
        "plt.show()"
      ],
      "execution_count": 3,
      "outputs": [
        {
          "output_type": "display_data",
          "data": {
            "image/png": "[encoded data removed]",
            "text/plain": [
              "<Figure size 432x288 with 1 Axes>"
            ]
          },
          "metadata": {
            "needs_background": "light"
          }
        },
        {
          "output_type": "display_data",
          "data": {
            "image/png": "[encoded data removed]",
            "text/plain": [
              "<Figure size 432x288 with 1 Axes>"
            ]
          },
          "metadata": {
            "needs_background": "light"
          }
        }
      ]
    },
    {
      "cell_type": "code",
      "metadata": {
        "colab": {
          "base_uri": "https://localhost:8080/",
          "height": 373
        },
        "id": "5PjjYKXFdffR",
        "outputId": "8e3077eb-cafb-4c5c-94e8-0dff37095168"
      },
      "source": [
        "plt.figure(figsize=[15,5])\n",
        "plt.subplot(1,2,1)\n",
        "n1, *_ = plt.hist(w1, bins=6)\n",
        "plt.title(\"Fairer Würfel\")\n",
        "\n",
        "plt.subplot(1,2,2)\n",
        "n2, *_ = plt.hist(w2, bins=6)\n",
        "plt.title(\"Gezinkter Würfel\")\n",
        "plt.show()\n",
        "print(\"Verteilung Würfel 1:\", n1/N)\n",
        "print(\"Verteilung Würfel 2:\", n2/N)"
      ],
      "execution_count": 11,
      "outputs": [
        {
          "output_type": "display_data",
          "data": {
            "image/png": "[encoded data removed]",
            "text/plain": [
              "<Figure size 1080x360 with 2 Axes>"
            ]
          },
          "metadata": {
            "needs_background": "light"
          }
        },
        {
          "output_type": "stream",
          "name": "stdout",
          "text": [
            "Verteilung Würfel 1: [0.1756 0.1716 0.1585 0.1692 0.1644 0.1607]\n",
            "Verteilung Würfel 2: [0.0815 0.1674 0.1692 0.1699 0.1668 0.2452]\n"
          ]
        }
      ]
    },
    {
      "cell_type": "code",
      "metadata": {
        "id": "fmHe1Lt7dmV2"
      },
      "source": [
        ""
      ],
      "execution_count": null,
      "outputs": []
    }
  ]
}