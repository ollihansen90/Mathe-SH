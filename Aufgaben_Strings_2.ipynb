{
  "nbformat": 4,
  "nbformat_minor": 0,
  "metadata": {
    "colab": {
      "name": "Aufgaben_Strings_2.ipynb",
      "provenance": [],
      "collapsed_sections": [
        "OSe2cPB_Jj3S",
        "jujh7S47HgjR",
        "foarDXlUKOo5",
        "WEhDt06OrSkF",
        "b-rJkKu_tUHZ"
      ],
      "include_colab_link": true
    },
    "kernelspec": {
      "name": "python3",
      "display_name": "Python 3"
    },
    "language_info": {
      "name": "python"
    }
  },
  "cells": [
    {
      "cell_type": "markdown",
      "metadata": {
        "id": "view-in-github",
        "colab_type": "text"
      },
      "source": [
        "<a href=\"https://colab.research.google.com/github/ollihansen90/Mathe-SH/blob/main/Aufgaben_Strings_2.ipynb\" target=\"_parent\"><img src=\"https://colab.research.google.com/assets/colab-badge.svg\" alt=\"Open In Colab\"/></a>"
      ]
    },
    {
      "cell_type": "markdown",
      "metadata": {
        "id": "NMjKvuYev9lY"
      },
      "source": [
        "# Fragen?\n",
        "Solltet ihr Fragen zum Code oder Probleme mit Colab haben, schickt uns gerne eine Mail:\n",
        "\n",
        "*   hohansen@inb.uni-luebeck.de\n",
        "*   maren.wieder@student.uni-luebeck.de\n",
        "*   friederike.meissner@student.uni-luebeck.de\n",
        "*   dustin.haschke@student.uni-luebeck.de"
      ]
    },
    {
      "cell_type": "markdown",
      "source": [
        "# Ablauf\n",
        "\n",
        "- Weihnachtsübung\n",
        "- Vervollständigung der letzten Python-Einheit\n",
        "- neue Aufgaben"
      ],
      "metadata": {
        "id": "Y6bTgisg9RjK"
      }
    },
    {
      "cell_type": "markdown",
      "source": [
        "#Importieren eines Wörterbuches (klein)"
      ],
      "metadata": {
        "id": "p7Hx8y0mv268"
      }
    },
    {
      "cell_type": "code",
      "source": [
        "import sys, os\n",
        "# Lade \n",
        "if \"google.colab\" in sys.modules:\n",
        "    if os.getcwd() == \"/content\":\n",
        "        !git clone \"https://github.com/ollihansen90/Mathe-SH.git\"\n",
        "        os.chdir(\"Mathe-SH/data\")\n",
        "\n",
        "with open(\"deutsch.txt\", \"r\") as file:\n",
        "    data = sorted(list(set(file.read().split(\"\\n\"))))\n",
        "\n",
        "print(len(data))\n",
        "print(data[:50])"
      ],
      "metadata": {
        "id": "WsmHguMG5WqN",
        "colab": {
          "base_uri": "https://localhost:8080/"
        },
        "outputId": "5b42f001-7174-469e-ec6f-fff1fa67f552"
      },
      "execution_count": 10,
      "outputs": [
        {
          "output_type": "stream",
          "name": "stdout",
          "text": [
            "177425\n",
            "['', 'ADA', 'ADAC', 'AEG', 'AG', 'AI', 'AIDS', 'AP', 'APEX', 'ARD', 'ASTA', 'AT', 'ATP', 'Aale', 'Aalen', 'Aals', 'Aas', 'Aase', 'Aases', 'Aasgeier', 'Aasgeiern', 'Aasgeiers', 'Ab', 'Abaenderung', 'Abaenderungsantraege', 'Abaenderungsantraegen', 'Abaenderungsantrag', 'Abaenderungsvorschlag', 'Abakus', 'Abarbeiten', 'Abarbeitung', 'Abart', 'Abarten', 'Abb', 'Abbau', 'Abbaufortschritt', 'Abbaufortschrittsmessung', 'Abbaufront', 'Abbaugeraet', 'Abbaugeraeusche', 'Abbauleistung', 'Abbauleitzentrale', 'Abbauleitzentralen', 'Abbaumaschine', 'Abbaumaterial', 'Abbaumenge', 'Abbaumoeglichkeit', 'Abbaumoeglichkeiten', 'Abbaus', 'Abbausituation']\n"
          ]
        }
      ]
    },
    {
      "cell_type": "markdown",
      "source": [
        "## Importieren eines Wörterbuches (RIESIG)"
      ],
      "metadata": {
        "id": "tGzQOK4PZh30"
      }
    },
    {
      "cell_type": "code",
      "source": [
        "import requests\n",
        "\n",
        "r = requests.get(\"https://gist.githubusercontent.com/MarvinJWendt/2f4f4154b8ae218600eb091a5706b5f4/raw/36b70dd6be330aa61cd4d4cdfda6234dcb0b8784/wordlist-german.txt\")\n",
        "data = r.text.split(\"\\n\")\n",
        "print(len(data))\n",
        "print(data[:20])\n"
      ],
      "metadata": {
        "colab": {
          "base_uri": "https://localhost:8080/"
        },
        "id": "Mvi4TRQBZlVw",
        "outputId": "2eda6df3-c274-452c-a730-0873b2fe62f1"
      },
      "execution_count": 9,
      "outputs": [
        {
          "output_type": "stream",
          "name": "stdout",
          "text": [
            "1908815\n",
            "['AA', 'AAA', 'Aachen', 'Aachener', 'Aachenerin', 'Aachenerinnen', 'Aachenern', 'Aacheners', 'Aachens', 'Aal', 'aalähnlich', 'aalähnliche', 'aalähnlichem', 'aalähnlichen', 'aalähnlicher', 'aalähnliches', 'Aalangelfischerei', 'Aalangeln', 'Aalangelns', 'aalartig']\n"
          ]
        }
      ]
    },
    {
      "cell_type": "markdown",
      "source": [
        "## Bereits erstellte Hilfsfunktionen"
      ],
      "metadata": {
        "id": "OSe2cPB_Jj3S"
      }
    },
    {
      "cell_type": "code",
      "source": [
        "def teile_string(text):\n",
        "    return text.split(\" \")\n",
        "\n",
        "def list_to_string(liste, sep=\"\"):\n",
        "    text = \"\"\n",
        "    for eintrag in liste:\n",
        "        text = text+sep+eintrag\n",
        "    text = text[1:]\n",
        "    return text\n",
        "\n",
        "def drehe_um(text):\n",
        "    rueck = \"\"\n",
        "    for i in range(1, len(text)+1):\n",
        "        rueck = rueck+text[-i] # Hinweis: negative Indizes\n",
        "    return str(rueck)\n",
        "\n",
        "# Rückgabe eines Strings aus den gespiegelten Wörtern\n",
        "def spiegel_string(liste):\n",
        "    ausgabe = \"\"\n",
        "    for eintrag in liste:\n",
        "        ausgabe += drehe_um(eintrag)+\" \"\n",
        "    return ausgabe\n",
        "\n",
        "# Rückgabe einer Liste aus den gespiegelten Wörtern\n",
        "def spiegel_liste(liste):\n",
        "    ausgabe = []\n",
        "    for eintrag in liste:\n",
        "        ausgabe.append(drehe_um(eintrag))\n",
        "    return ausgabe"
      ],
      "metadata": {
        "id": "1xL5aU-TJnjC"
      },
      "execution_count": null,
      "outputs": []
    },
    {
      "cell_type": "markdown",
      "source": [
        "## Aufgabe 1 - Palindrome\n",
        "\n",
        "Erstelle eine Liste aller Palindrome, die in in der Liste ```data``` enthalten sind. Nutze dafür gegebenfalls eine bereits zuvor erstellte Funktion.\n",
        "\n",
        "Definiere anschließend eine Funktion, die aus der Palindromliste nur die Wörter einer übergebenen Länge herausfiltert und z.B. als String zurückgibt.\n",
        "\n",
        "Teste sie für alle Palindrome der Länge 5."
      ],
      "metadata": {
        "id": "2ahLwvxqGntu"
      }
    },
    {
      "cell_type": "code",
      "source": [
        ""
      ],
      "metadata": {
        "id": "HTP5aejIU4HP"
      },
      "execution_count": null,
      "outputs": []
    },
    {
      "cell_type": "markdown",
      "source": [
        "### Lösung"
      ],
      "metadata": {
        "id": "jujh7S47HgjR"
      }
    },
    {
      "cell_type": "code",
      "source": [
        "# Rückgabe einer Liste aller Palindrome\n",
        "def palindrom(liste):\n",
        "    woerter = liste\n",
        "    retreow = spiegel_liste(woerter)\n",
        "    ausgabe = []\n",
        "    for i in range(len(woerter)):\n",
        "        if woerter[i].lower() == retreow[i].lower():\n",
        "            ausgabe.append(woerter[i])\n",
        "    return ausgabe\n",
        "\n",
        "palindrom_liste = palindrom(data)\n",
        "\n",
        "# Rückgabe aller Palindrome der übergebenen Länge\n",
        "def palindrom_laenge(laenge):\n",
        "    liste = \"\"\n",
        "    for i in range(len(palindrom_liste)):\n",
        "        if len(palindrom_liste[i]) == laenge:\n",
        "            liste += palindrom_liste[i] + \", \"\n",
        "    return liste[:len(liste)-2]\n",
        "\n",
        "print(palindrom_laenge(5))"
      ],
      "metadata": {
        "colab": {
          "base_uri": "https://localhost:8080/"
        },
        "id": "Q1EsGstzHn3M",
        "outputId": "b46aa6ed-4918-49ef-d285-a4db0a626926"
      },
      "execution_count": null,
      "outputs": [
        {
          "output_type": "stream",
          "name": "stdout",
          "text": [
            "Neben, Neuen, RSFSR, Reger, Rotor, Sexes, Stets, minim, neben, neuen, stets\n"
          ]
        }
      ]
    },
    {
      "cell_type": "code",
      "source": [
        "#Alternativer Ansatz über\n",
        "\n",
        "print(type(data))\n",
        "for wort in data:\n",
        "    if wort.lower()==wort[::-1].lower():\n",
        "        print(wort)"
      ],
      "metadata": {
        "id": "RA3mKrbUzjfM"
      },
      "execution_count": null,
      "outputs": []
    },
    {
      "cell_type": "markdown",
      "source": [
        "## Aufgabe 2 - Spiegelwörter\n",
        "\n",
        "Erstelle einer Funktion, die für eine übergebenes Wort prüft, ob es rückwärts gelesen ebenfalls einen Sinn ergibt. Die Rückgabe könnte beispielsweise ein entsprechendes Boolean und das rückwärts gelesene Wort enthalten."
      ],
      "metadata": {
        "id": "4oehR1YuKCg7"
      }
    },
    {
      "cell_type": "markdown",
      "source": [
        "### Lösung"
      ],
      "metadata": {
        "id": "foarDXlUKOo5"
      }
    },
    {
      "cell_type": "code",
      "source": [
        "# Rückgabe (Boolean, ob gespiegeltes Wort in Wörterliste enthalten, gespiegeltes Wort)\n",
        "def spiegel_wort(wort):\n",
        "    spiegel = drehe_um(wort.lower())\n",
        "    for eintrag in data:\n",
        "        if spiegel == eintrag.lower():\n",
        "            return (True, spiegel)\n",
        "    else:\n",
        "        return (False, spiegel)\n",
        "\n",
        "print(spiegel_wort(\"Rehe\"))"
      ],
      "metadata": {
        "id": "bFiI7oMUKQGp",
        "colab": {
          "base_uri": "https://localhost:8080/"
        },
        "outputId": "092cfe5e-2d04-4665-aa0e-6438c7b0c9fd"
      },
      "execution_count": null,
      "outputs": [
        {
          "output_type": "stream",
          "name": "stdout",
          "text": [
            "(True, 'eher')\n"
          ]
        }
      ]
    },
    {
      "cell_type": "markdown",
      "source": [
        "#Aufgabe 3 - Anagramme\n",
        "\n",
        "Erstelle eine Funktion, die für jede beliebige Vertauschung eines eingegebenen Wortes prüft, ob dieses ein echtes Wort, also in der Liste ist.\n",
        "\n",
        "Verwende dafür die nachfolgende Funktion."
      ],
      "metadata": {
        "id": "1ehg3JJ3gkmC"
      }
    },
    {
      "cell_type": "code",
      "source": [
        "import itertools\n",
        "\n",
        "def anagram(wort):\n",
        "    liste = \"\"\n",
        "    for vertauschung in list(itertools.permutations(wort)):\n",
        "        print((\"\".join(vertauschung)).lower())\n",
        "\n",
        "anagram(\"Mahl\")"
      ],
      "metadata": {
        "id": "_UpfIu4zq6Vh"
      },
      "execution_count": null,
      "outputs": []
    },
    {
      "cell_type": "markdown",
      "source": [
        "###Lösung"
      ],
      "metadata": {
        "id": "WEhDt06OrSkF"
      }
    },
    {
      "cell_type": "code",
      "source": [
        "import itertools\n",
        "\n",
        "def anagram(wort):\n",
        "  liste = \"\"\n",
        "  for vertauschung in list(itertools.permutations(wort)):\n",
        "    for eintrag in data:\n",
        "      if (\"\".join(vertauschung)).lower() == eintrag.lower():\n",
        "        liste += eintrag + \", \"\n",
        "  return liste[:len(liste)-2]\n",
        "        \n",
        "\n",
        "print(\"Anagramme zu Mahl sind:\", anagram(\"Mahl\"))"
      ],
      "metadata": {
        "colab": {
          "base_uri": "https://localhost:8080/"
        },
        "id": "GqK8nOT9glAg",
        "outputId": "6e41a260-3ad5-4d1b-83f9-cbd90ff41904"
      },
      "execution_count": null,
      "outputs": [
        {
          "output_type": "stream",
          "name": "stdout",
          "text": [
            "Anagramme zu Mahl sind: Mahl, lahm\n"
          ]
        }
      ]
    }
  ]
}