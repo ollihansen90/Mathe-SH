{
  "nbformat": 4,
  "nbformat_minor": 0,
  "metadata": {
    "colab": {
      "provenance": [],
      "authorship_tag": "ABX9TyPuwA+Y9qNTsyF+5/wtMW0I",
      "include_colab_link": true
    },
    "kernelspec": {
      "name": "python3",
      "display_name": "Python 3"
    },
    "language_info": {
      "name": "python"
    }
  },
  "cells": [
    {
      "cell_type": "markdown",
      "metadata": {
        "id": "view-in-github",
        "colab_type": "text"
      },
      "source": [
        "<a href=\"https://colab.research.google.com/github/ollihansen90/Mathe-SH/blob/main/Minimax_03_TicTacToe_Zwischenergebnis.ipynb\" target=\"_parent\"><img src=\"https://colab.research.google.com/assets/colab-badge.svg\" alt=\"Open In Colab\"/></a>"
      ]
    },
    {
      "cell_type": "markdown",
      "source": [
        "# Minimax 3: TicTacToe\n",
        "## Fragen? 🤔\n",
        "Solltet ihr Fragen zum Code oder Probleme mit Colab haben, schickt uns gerne eine Mail:\n",
        "\n",
        "*   h.hansen@uni-luebeck.de\n",
        "*   friederike.meissner@student.uni-luebeck.de\n",
        "*   dustin.haschke@student.uni-luebeck.de"
      ],
      "metadata": {
        "id": "J_AWV8FD7dOA"
      }
    },
    {
      "cell_type": "markdown",
      "source": [
        "### Hilfsfunktionen"
      ],
      "metadata": {
        "id": "lIpZC1-3-l0t"
      }
    },
    {
      "cell_type": "code",
      "execution_count": null,
      "metadata": {
        "id": "z4tBiYFqPago"
      },
      "outputs": [],
      "source": [
        "from random import randint\n",
        "from IPython.display import clear_output\n",
        "\n",
        "def male_feld(feld):\n",
        "    zeichen=[\" \", \"x\", \"o\"];output=\"\"\n",
        "    for i in range(9):\n",
        "        output+=str(i+1) if feld[i]==0 else zeichen[feld[i]];output+=\"|\"\n",
        "        if i%3==2 and i<6:output = output[:-1]+\"\\n-----\\n\"\n",
        "    print(output[:-1])\n",
        "\n",
        "def spiel(ki):\n",
        "    feld = 9*[0]\n",
        "    while True:\n",
        "        clear_output();male_feld(feld);nr = int(input(\"Spieler 1: \"))-1\n",
        "        while (nr<0 or nr>8) or feld[nr]!=0: nr = int(input(\"Unerlaubter Zug! Spieler 1: \"))-1\n",
        "        feld[nr] = 1;e = ende(feld)\n",
        "        if e:break\n",
        "        if len([i for i in range(9) if feld[i]==0])==0:e = 2;break\n",
        "        nr = ki(feld);feld[nr] = -1;e = ende(feld)\n",
        "        if e:break\n",
        "    clear_output();male_feld(feld)\n",
        "    if e==2:print(\"Unentschieden!\")\n",
        "    else:print(\"Spieler\", [0,1,2][e], \"hat gewonnen!\")"
      ]
    },
    {
      "cell_type": "markdown",
      "source": [
        "## 🌟 Einleitung 💡\n",
        "TicTacToe ist ein einfaches Spiel, bei dem zwei Spieler abwechselnd X bzw. O auf ein 3x3-Feld setzen. Ziel ist es, drei Symbole in einer Reihe, Spalte oder Diagonale zu platzieren. Obwohl das Spiel auf den ersten Blick simpel erscheint, verbirgt sich dahinter eine faszinierende Logik, die uns ideal in die Welt der Algorithmen und künstlichen Intelligenz einführt.\n",
        "\n",
        "Bevor wir mit der Implementierung beginnen, werfen wir einen Blick auf die Funktionen, die wir für unser TicTacToe-Spiel benötigen. Jede Funktion hat eine bestimmte Aufgabe, um die Spielregeln und Logik umzusetzen:\n",
        "\n",
        "- `zeilen`: Diese Funktion überprüft, ob eine der Zeilen auf dem Spielfeld vollständig von einem Spieler (X oder O) belegt ist.\n",
        "- `spalten`: Hier wird überprüft, ob eine der drei Spalten nur mit den Symbolen eines Spielers gefüllt ist.\n",
        "- `diagonale`: Diese Funktion schaut sich die beiden Diagonalen des Spielfelds an und überprüft, ob sie komplett mit einem Symbol (X oder O) belegt sind.\n",
        "- `ende`: Die zentrale Funktion, um zu prüfen, ob das Spiel beendet ist. Diese Funktion kombiniert die Ergebnisse von `zeilen`, `spalten` und `diagonale` und überprüft außerdem, ob noch freie Felder vorhanden sind.\n",
        "\n",
        "Mit diesen Funktionen haben wir die Basislogik abgedeckt, um ein funktionierendes TicTacToe-Spiel zu programmieren.\n",
        "\n",
        "Als Datenformat für das Spielfeld `feld` wählen wir einfach eine Liste mit neun Einträgen. Hierbei soll `0` für leeres Feld stehen, `1` für Spieler 1 und `-1` für Spieler 2."
      ],
      "metadata": {
        "id": "zUnajWPw-t1B"
      }
    },
    {
      "cell_type": "markdown",
      "source": [
        "### Aufgabe 1: Die Funktion `zeilen`\n",
        "Schreibe eine Funktion `zeilen`, die das Feld `feld` erhält und die Rückgaben `0` für \"kein Sieger\", `1` für \"Spieler 1\" und `-1` für \"Spieler 2\" zurückgibt."
      ],
      "metadata": {
        "id": "bd6BVhcm-wty"
      }
    },
    {
      "cell_type": "code",
      "source": [
        "def dreiercheck(liste):\n",
        "    l = sum(liste[:3])\n",
        "    if l==3:\n",
        "        return 1\n",
        "    if l==-3:\n",
        "        return -1\n",
        "    return 0\n",
        "\n",
        "def dreiercheck_jeen(feld):\n",
        "    return int(sum(feld)/3)\n",
        "\n",
        "def zeilen(feld):\n",
        "    return dreiercheck_jeen(feld[:3])+dreiercheck_jeen(feld[3:6])+dreiercheck_jeen(feld[6:])\n",
        "\n",
        "\n",
        "feld1 = [0,-1,-1,1,1,1,0,0,0]\n",
        "feld2 = [-1,-1,-1,1,0,1,0,1,0]\n",
        "feld3 = [0,-1,-1,0,1,1,0,0,0]\n",
        "\n",
        "male_feld(feld1)\n",
        "print(\"Sieger:\",zeilen(feld1)) # erwartete Ausgabe: 1\n",
        "male_feld(feld2)\n",
        "print(\"Sieger:\",zeilen(feld2)) # erwartete Ausgabe: -1\n",
        "male_feld(feld3)\n",
        "print(\"Sieger:\",zeilen(feld3)) # erwartete Ausgabe: 0"
      ],
      "metadata": {
        "colab": {
          "base_uri": "https://localhost:8080/"
        },
        "id": "PRS062ng99yj",
        "outputId": "f5a3eee2-fd0c-457d-af94-c858a4b1fdd2"
      },
      "execution_count": null,
      "outputs": [
        {
          "output_type": "stream",
          "name": "stdout",
          "text": [
            "1|o|o\n",
            "-----\n",
            "x|x|x\n",
            "-----\n",
            "7|8|9\n",
            "Sieger: 1\n",
            "o|o|o\n",
            "-----\n",
            "x|5|x\n",
            "-----\n",
            "7|x|9\n",
            "Sieger: -1\n",
            "1|o|o\n",
            "-----\n",
            "4|x|x\n",
            "-----\n",
            "7|8|9\n",
            "Sieger: 0\n"
          ]
        }
      ]
    },
    {
      "cell_type": "markdown",
      "source": [
        "### Aufgabe 2: Die Funktion `spalten`\n",
        "Schreibe eine Funktion `spalten`, die das Feld `feld` erhält und die Rückgaben `0` für \"kein Sieger\", `1` für \"Spieler 1\" und `-1` für \"Spieler 2\" zurückgibt.\n",
        "\n",
        "*Hinweis:* Hier kannst du das Feld einfach \"drehen\" und danach die Funktion `zeilen` nutzen."
      ],
      "metadata": {
        "id": "NxtheOqpTmIY"
      }
    },
    {
      "cell_type": "code",
      "source": [
        "def spalten_jeen(feld):\n",
        "    return dreiercheck(feld[::3])+dreiercheck(feld[1::3])+dreiercheck(feld[2::3])\n",
        "\n",
        "def spalten(feld):\n",
        "    feld_gedreht = [feld[0],feld[3],feld[6],feld[1],feld[4],feld[7],feld[2],feld[5],feld[8]]\n",
        "    feld_gedreht = [feld[3*i] for i in range(3)]+[feld[3*i+1] for i in range(3)]+[feld[2+3*i] for i in range(3)]\n",
        "    return zeilen(feld_gedreht)\n",
        "\n",
        "feld1 = [0,1,-1,-1,1,0,0,1,0]\n",
        "feld2 = [-1,1,0,-1,0,1,-1,0,1]\n",
        "feld3 = [0,-1,-1,0,1,1,0,0,0]\n",
        "\n",
        "male_feld(feld1)\n",
        "print(\"Sieger:\",spalten(feld1)) # erwartete Ausgabe: 1\n",
        "male_feld(feld2)\n",
        "print(\"Sieger:\",spalten(feld2)) # erwartete Ausgabe: -1\n",
        "male_feld(feld3)\n",
        "print(\"Sieger:\",spalten(feld3)) # erwartete Ausgabe: 0"
      ],
      "metadata": {
        "colab": {
          "base_uri": "https://localhost:8080/"
        },
        "id": "DU9s8MDoTm7r",
        "outputId": "211498cc-a06e-40bb-f21b-207a6a48d1da"
      },
      "execution_count": null,
      "outputs": [
        {
          "output_type": "stream",
          "name": "stdout",
          "text": [
            "1|x|o\n",
            "-----\n",
            "o|x|6\n",
            "-----\n",
            "7|x|9\n",
            "Sieger: 1\n",
            "o|x|3\n",
            "-----\n",
            "o|5|x\n",
            "-----\n",
            "o|8|x\n",
            "Sieger: -1\n",
            "1|o|o\n",
            "-----\n",
            "4|x|x\n",
            "-----\n",
            "7|8|9\n",
            "Sieger: 0\n"
          ]
        }
      ]
    },
    {
      "cell_type": "markdown",
      "source": [
        "### Aufgabe 3: Die Funktion `diagonale`\n",
        "Schreibe eine Funktion `diagonale`, die das Feld `feld` erhält und die Rückgaben `0` für \"kein Sieger\", `1` für \"Spieler 1\" und `-1` für \"Spieler 2\" zurückgibt."
      ],
      "metadata": {
        "id": "YvkF6mhvbS3h"
      }
    },
    {
      "cell_type": "code",
      "source": [
        "def diagonale(feld):\n",
        "    diag1 = [feld[0], feld[4], feld[8]] # feld[::4]\n",
        "    diag2 = [feld[2], feld[4], feld[6]] # feld[2:7:2]\n",
        "    return dreiercheck(diag1)+dreiercheck(diag2)\n",
        "\n",
        "feld1 = [1,0,-1,-1,1,0,0,0,1]\n",
        "feld2 = [0,1,-1,0,-1,1,-1,1,0]\n",
        "feld3 = [0,-1,-1,0,1,1,0,0,0]\n",
        "\n",
        "male_feld(feld1)\n",
        "print(\"Sieger:\",diagonale(feld1)) # erwartete Ausgabe: 1\n",
        "male_feld(feld2)\n",
        "print(\"Sieger:\",diagonale(feld2)) # erwartete Ausgabe: -1\n",
        "male_feld(feld3)\n",
        "print(\"Sieger:\",diagonale(feld3)) # erwartete Ausgabe: 0"
      ],
      "metadata": {
        "colab": {
          "base_uri": "https://localhost:8080/"
        },
        "id": "XfXrP8dgbS-Y",
        "outputId": "7beb8a3e-8293-4711-f361-6db3af4743d0"
      },
      "execution_count": null,
      "outputs": [
        {
          "output_type": "stream",
          "name": "stdout",
          "text": [
            "x|2|o\n",
            "-----\n",
            "o|x|6\n",
            "-----\n",
            "7|8|x\n",
            "Sieger: 1\n",
            "1|x|o\n",
            "-----\n",
            "4|o|x\n",
            "-----\n",
            "o|x|9\n",
            "Sieger: -1\n",
            "1|o|o\n",
            "-----\n",
            "4|x|x\n",
            "-----\n",
            "7|8|9\n",
            "Sieger: 0\n"
          ]
        }
      ]
    },
    {
      "cell_type": "markdown",
      "source": [
        "### Aufgabe 4: Die Funktion `ende`\n",
        "Schreibe eine Funktion `ende`, die überprüft, ob das Spiel beendet wurde und wer der Sieger ist. Hier kannst du die drei Funktionen `zeilen`, `spalten` und `diagonale` nutzen."
      ],
      "metadata": {
        "id": "VHgiXrkHbukU"
      }
    },
    {
      "cell_type": "code",
      "source": [
        "def ende(feld):\n",
        "    # überprüfe Zeilen\n",
        "    sieger = zeilen(feld)\n",
        "    if sieger==1:\n",
        "        return 1\n",
        "    if sieger==-1:\n",
        "        return -1\n",
        "\n",
        "    # überprüfe Spalten\n",
        "    sieger = spalten(feld)\n",
        "    if sieger==1:\n",
        "        return 1\n",
        "    if sieger==-1:\n",
        "        return -1\n",
        "\n",
        "    # überprüfe Diagonalen\n",
        "    sieger = diagonale(feld)\n",
        "    if sieger==1:\n",
        "        return 1\n",
        "    if sieger==-1:\n",
        "        return -1\n",
        "\n",
        "    return zeilen(feld)+spalten(feld)+diagonale(feld)\n",
        "print(ende(feld3))"
      ],
      "metadata": {
        "id": "XsqY9m9zbur1",
        "colab": {
          "base_uri": "https://localhost:8080/"
        },
        "outputId": "2bc6d182-1abb-4ab3-b818-e85f48e05fd3"
      },
      "execution_count": null,
      "outputs": [
        {
          "output_type": "stream",
          "name": "stdout",
          "text": [
            "0\n"
          ]
        }
      ]
    },
    {
      "cell_type": "markdown",
      "source": [
        "### Aufgabe 5: Die Funktion `ki_schritt()`\n",
        "Schreibe eine Funktion `ki_schritt`, die einen zufälligen Zug durchführt. Hierfür bietet es sich an, zunächst alle Indizes der freien Felder aufzulisten und anschließend mit Hilfe von `randint` ein zufälliges Feld auszuwählen (`randint` aus dem Package `random` ist bereits importiert). Die Rückgabe der Funktion ist `ki_schritt` ist eine ganze Zahl zwischen `0` und `8`."
      ],
      "metadata": {
        "id": "RrC77Prjcq66"
      }
    },
    {
      "cell_type": "code",
      "source": [
        "def ki_schritt(feld):\n",
        "    # 1. welche Felder sind frei?\n",
        "    #frei = [i for i, j in enumerate(feld) if not j]\n",
        "    frei = []\n",
        "    for i in range(len(feld)):\n",
        "        if feld[i]==0:\n",
        "            frei.append(i)\n",
        "    #print(frei)\n",
        "    # 2. wähle zufälliges Feld\n",
        "    z = randint(0,len(frei)-1)\n",
        "    return frei[z]\n",
        "\n",
        "print(feld1)\n",
        "print(ki_schritt(feld1))"
      ],
      "metadata": {
        "id": "-APyynEgdPmO",
        "colab": {
          "base_uri": "https://localhost:8080/"
        },
        "outputId": "c120226b-f395-4512-c659-8bf5a96c2f1f"
      },
      "execution_count": null,
      "outputs": [
        {
          "output_type": "stream",
          "name": "stdout",
          "text": [
            "[1, 0, -1, -1, 1, 0, 0, 0, 1]\n",
            "7\n"
          ]
        }
      ]
    },
    {
      "cell_type": "markdown",
      "source": [
        "### Das Spiel spielen 🥳\n",
        "Unsere KI kann jetzt zufällige Züge durchführen, das Spiel ist also spielbar! Versuche nun, ein Mal zu gewinnen, ein Mal zu verlieren und ein Mal unentschieden zu spielen."
      ],
      "metadata": {
        "id": "b-RWL5vDeWL-"
      }
    },
    {
      "cell_type": "code",
      "source": [
        "spiel(ki_schritt)"
      ],
      "metadata": {
        "id": "a7mlPf1Ocj4U",
        "colab": {
          "base_uri": "https://localhost:8080/",
          "height": 379
        },
        "outputId": "2ef8bb6b-4f0d-4a23-dccf-abcb516e0b7f"
      },
      "execution_count": null,
      "outputs": [
        {
          "output_type": "stream",
          "name": "stdout",
          "text": [
            "x|o|3\n",
            "-----\n",
            "x|5|6\n",
            "-----\n",
            "7|8|o\n"
          ]
        },
        {
          "output_type": "error",
          "ename": "KeyboardInterrupt",
          "evalue": "Interrupted by user",
          "traceback": [
            "\u001b[0;31m---------------------------------------------------------------------------\u001b[0m",
            "\u001b[0;31mKeyboardInterrupt\u001b[0m                         Traceback (most recent call last)",
            "\u001b[0;32m<ipython-input-45-c6da9ec9e313>\u001b[0m in \u001b[0;36m<cell line: 1>\u001b[0;34m()\u001b[0m\n\u001b[0;32m----> 1\u001b[0;31m \u001b[0mspiel\u001b[0m\u001b[0;34m(\u001b[0m\u001b[0mki_schritt\u001b[0m\u001b[0;34m)\u001b[0m\u001b[0;34m\u001b[0m\u001b[0;34m\u001b[0m\u001b[0m\n\u001b[0m",
            "\u001b[0;32m<ipython-input-1-625807d0fce1>\u001b[0m in \u001b[0;36mspiel\u001b[0;34m(ki)\u001b[0m\n\u001b[1;32m     12\u001b[0m     \u001b[0mfeld\u001b[0m \u001b[0;34m=\u001b[0m \u001b[0;36m9\u001b[0m\u001b[0;34m*\u001b[0m\u001b[0;34m[\u001b[0m\u001b[0;36m0\u001b[0m\u001b[0;34m]\u001b[0m\u001b[0;34m\u001b[0m\u001b[0;34m\u001b[0m\u001b[0m\n\u001b[1;32m     13\u001b[0m     \u001b[0;32mwhile\u001b[0m \u001b[0;32mTrue\u001b[0m\u001b[0;34m:\u001b[0m\u001b[0;34m\u001b[0m\u001b[0;34m\u001b[0m\u001b[0m\n\u001b[0;32m---> 14\u001b[0;31m         \u001b[0mclear_output\u001b[0m\u001b[0;34m(\u001b[0m\u001b[0;34m)\u001b[0m\u001b[0;34m;\u001b[0m\u001b[0mmale_feld\u001b[0m\u001b[0;34m(\u001b[0m\u001b[0mfeld\u001b[0m\u001b[0;34m)\u001b[0m\u001b[0;34m;\u001b[0m\u001b[0mnr\u001b[0m \u001b[0;34m=\u001b[0m \u001b[0mint\u001b[0m\u001b[0;34m(\u001b[0m\u001b[0minput\u001b[0m\u001b[0;34m(\u001b[0m\u001b[0;34m\"Spieler 1: \"\u001b[0m\u001b[0;34m)\u001b[0m\u001b[0;34m)\u001b[0m\u001b[0;34m-\u001b[0m\u001b[0;36m1\u001b[0m\u001b[0;34m\u001b[0m\u001b[0;34m\u001b[0m\u001b[0m\n\u001b[0m\u001b[1;32m     15\u001b[0m         \u001b[0;32mwhile\u001b[0m \u001b[0;34m(\u001b[0m\u001b[0mnr\u001b[0m\u001b[0;34m<\u001b[0m\u001b[0;36m0\u001b[0m \u001b[0;32mor\u001b[0m \u001b[0mnr\u001b[0m\u001b[0;34m>\u001b[0m\u001b[0;36m8\u001b[0m\u001b[0;34m)\u001b[0m \u001b[0;32mor\u001b[0m \u001b[0mfeld\u001b[0m\u001b[0;34m[\u001b[0m\u001b[0mnr\u001b[0m\u001b[0;34m]\u001b[0m\u001b[0;34m!=\u001b[0m\u001b[0;36m0\u001b[0m\u001b[0;34m:\u001b[0m \u001b[0mnr\u001b[0m \u001b[0;34m=\u001b[0m \u001b[0mint\u001b[0m\u001b[0;34m(\u001b[0m\u001b[0minput\u001b[0m\u001b[0;34m(\u001b[0m\u001b[0;34m\"Unerlaubter Zug! Spieler 1: \"\u001b[0m\u001b[0;34m)\u001b[0m\u001b[0;34m)\u001b[0m\u001b[0;34m-\u001b[0m\u001b[0;36m1\u001b[0m\u001b[0;34m\u001b[0m\u001b[0;34m\u001b[0m\u001b[0m\n\u001b[1;32m     16\u001b[0m         \u001b[0mfeld\u001b[0m\u001b[0;34m[\u001b[0m\u001b[0mnr\u001b[0m\u001b[0;34m]\u001b[0m \u001b[0;34m=\u001b[0m \u001b[0;36m1\u001b[0m\u001b[0;34m;\u001b[0m\u001b[0me\u001b[0m \u001b[0;34m=\u001b[0m \u001b[0mende\u001b[0m\u001b[0;34m(\u001b[0m\u001b[0mfeld\u001b[0m\u001b[0;34m)\u001b[0m\u001b[0;34m\u001b[0m\u001b[0;34m\u001b[0m\u001b[0m\n",
            "\u001b[0;32m/usr/local/lib/python3.10/dist-packages/ipykernel/kernelbase.py\u001b[0m in \u001b[0;36mraw_input\u001b[0;34m(self, prompt)\u001b[0m\n\u001b[1;32m    849\u001b[0m                 \u001b[0;34m\"raw_input was called, but this frontend does not support input requests.\"\u001b[0m\u001b[0;34m\u001b[0m\u001b[0;34m\u001b[0m\u001b[0m\n\u001b[1;32m    850\u001b[0m             )\n\u001b[0;32m--> 851\u001b[0;31m         return self._input_request(str(prompt),\n\u001b[0m\u001b[1;32m    852\u001b[0m             \u001b[0mself\u001b[0m\u001b[0;34m.\u001b[0m\u001b[0m_parent_ident\u001b[0m\u001b[0;34m,\u001b[0m\u001b[0;34m\u001b[0m\u001b[0;34m\u001b[0m\u001b[0m\n\u001b[1;32m    853\u001b[0m             \u001b[0mself\u001b[0m\u001b[0;34m.\u001b[0m\u001b[0m_parent_header\u001b[0m\u001b[0;34m,\u001b[0m\u001b[0;34m\u001b[0m\u001b[0;34m\u001b[0m\u001b[0m\n",
            "\u001b[0;32m/usr/local/lib/python3.10/dist-packages/ipykernel/kernelbase.py\u001b[0m in \u001b[0;36m_input_request\u001b[0;34m(self, prompt, ident, parent, password)\u001b[0m\n\u001b[1;32m    893\u001b[0m             \u001b[0;32mexcept\u001b[0m \u001b[0mKeyboardInterrupt\u001b[0m\u001b[0;34m:\u001b[0m\u001b[0;34m\u001b[0m\u001b[0;34m\u001b[0m\u001b[0m\n\u001b[1;32m    894\u001b[0m                 \u001b[0;31m# re-raise KeyboardInterrupt, to truncate traceback\u001b[0m\u001b[0;34m\u001b[0m\u001b[0;34m\u001b[0m\u001b[0m\n\u001b[0;32m--> 895\u001b[0;31m                 \u001b[0;32mraise\u001b[0m \u001b[0mKeyboardInterrupt\u001b[0m\u001b[0;34m(\u001b[0m\u001b[0;34m\"Interrupted by user\"\u001b[0m\u001b[0;34m)\u001b[0m \u001b[0;32mfrom\u001b[0m \u001b[0;32mNone\u001b[0m\u001b[0;34m\u001b[0m\u001b[0;34m\u001b[0m\u001b[0m\n\u001b[0m\u001b[1;32m    896\u001b[0m             \u001b[0;32mexcept\u001b[0m \u001b[0mException\u001b[0m \u001b[0;32mas\u001b[0m \u001b[0me\u001b[0m\u001b[0;34m:\u001b[0m\u001b[0;34m\u001b[0m\u001b[0;34m\u001b[0m\u001b[0m\n\u001b[1;32m    897\u001b[0m                 \u001b[0mself\u001b[0m\u001b[0;34m.\u001b[0m\u001b[0mlog\u001b[0m\u001b[0;34m.\u001b[0m\u001b[0mwarning\u001b[0m\u001b[0;34m(\u001b[0m\u001b[0;34m\"Invalid Message:\"\u001b[0m\u001b[0;34m,\u001b[0m \u001b[0mexc_info\u001b[0m\u001b[0;34m=\u001b[0m\u001b[0;32mTrue\u001b[0m\u001b[0;34m)\u001b[0m\u001b[0;34m\u001b[0m\u001b[0;34m\u001b[0m\u001b[0m\n",
            "\u001b[0;31mKeyboardInterrupt\u001b[0m: Interrupted by user"
          ]
        }
      ]
    },
    {
      "cell_type": "markdown",
      "source": [
        "## Minimax-Algorithmus ♟️🏆🌳\n",
        "\n",
        "Die aktuelle \"KI\" ist noch nicht so richtig schlau, da sie immer nur zufällige Züge macht. Im Folgenden möchten wir daher den Minimax-Algorithmus implementieren, der es dem Computer ermöglicht, *optimale* Züge im TicTacToe-Spiel zu berechnen. Der Algorithmus basiert auf der Idee, alle möglichen Spielzüge vorauszuberechnen und die bestmögliche Entscheidung zu treffen.\n",
        "\n",
        "### Was wird gemacht? 🤔\n",
        "1. **Generierung des Spielbaums**  \n",
        "   Wir erstellen einen Baum, in dem jeder Knoten ein mögliches Spielfeld darstellt. Von einem Knoten aus werden alle möglichen Züge berechnet, bis das Spiel endet.\n",
        "\n",
        "2. **Bewertung der Endzustände**  \n",
        "   Am Ende jedes Pfades im Baum wird bewertet, ob der Computer gewinnt, der Gegner gewinnt oder es ein Unentschieden gibt.\n",
        "\n",
        "3. **Zurückverfolgen des besten Pfades**  \n",
        "   Der Algorithmus arbeitet von den Blättern des Baums zurück zum Ausgangspunkt und wählt den Zug, der für den Computer den höchsten Gewinn (oder den geringsten Verlust) bringt.\n",
        "\n",
        "Mit diesen Schritten können wir den Computer dazu bringen, intelligente Entscheidungen zu treffen und uns in TicTacToe herauszufordern. Lass uns den Minimax-Algorithmus Schritt für Schritt umsetzen!\n"
      ],
      "metadata": {
        "id": "ti5izW5o07KY"
      }
    },
    {
      "cell_type": "markdown",
      "source": [
        "### Aufgabe 1: Der Spielbaum 🌳\n",
        "Der Spielbaum bildet die Grundlage für den Minimax-Algorithmus. In seinen Blättern (englisch \"leafs\") befinden sich alle Endzustände des Spiels.\n",
        "\n",
        "Schreibe eine Funktion `spielbaum`, die für ein gegebenes Feld alle möglichen Züge \"durchspielt\". Das Ergebnis ist eine Liste von Listen (von Listen von Listen von......), in deren innersten Listen der Score des beendeten Spieles steht."
      ],
      "metadata": {
        "id": "aLV4ns643Fse"
      }
    },
    {
      "cell_type": "code",
      "source": [
        "def spielbaum(feld):\n",
        "    return\n",
        "\n",
        "feld1 = [-1, 1,1,\n",
        "          1, 1,0,\n",
        "         -1,-1,0]\n",
        "game = spielbaum(feld1)\n",
        "print(game)\n",
        "male_feld(feld1)"
      ],
      "metadata": {
        "id": "43TebKRc6NfV"
      },
      "execution_count": null,
      "outputs": []
    },
    {
      "cell_type": "markdown",
      "source": [
        "### Aufgabe 2: Der beste nächste Schritt (Minimax) 🎯\n",
        "Jetzt, da wir den Spielbaum erstellt haben, möchten wir den besten nächsten Zug ermitteln. Der Minimax-Algorithmus basiert auf der Annahme, dass ein Spieler den **Score maximieren** möchte, während der andere versucht, den **Score zu minimieren** – daher der Name **\"Minimax\"**.\n",
        "\n",
        "Erstelle eine Funktion `minimax`, die für einen gegebenen Spielbaum (z. B. `node`, Englisch für \"Knoten\") den optimalen nächsten Zug berechnet. Diese Funktion soll die Spielstrategie optimal umsetzen und die beste Entscheidung im aktuellen Zustand finden.\n"
      ],
      "metadata": {
        "id": "80mgJE4B6nCI"
      }
    },
    {
      "cell_type": "code",
      "source": [
        "def minimax(node, zug=[]):\n",
        "    return\n",
        "print(minimax(game))"
      ],
      "metadata": {
        "colab": {
          "base_uri": "https://localhost:8080/"
        },
        "id": "7DaEcji6ndgy",
        "outputId": "18c2ffbf-00d9-452b-b3b2-cf1456cf9a5b"
      },
      "execution_count": null,
      "outputs": [
        {
          "output_type": "stream",
          "name": "stdout",
          "text": [
            "(-1, [1])\n"
          ]
        }
      ]
    },
    {
      "cell_type": "markdown",
      "source": [
        "### Aufgabe 3: Eine KI, die mit Minimax \"denkt\" 🤖\n",
        "Erstelle eine Funktion `ki_minimax`, die das aktuelle Spielfeld als Eingabe erhält und den besten nächsten Zug berechnet. Die Funktion soll den Minimax-Algorithmus nutzen, um den optimalen Zug zu bestimmen.\n",
        "\n",
        "**Bonus:** Falls mehrere mögliche Züge die gleiche Punktzahl haben, wähle zufällig einen davon aus!\n",
        "\n",
        "Probiere nun, einmal zu verlieren, einmal zu gewinnen und einmal unentschieden zu spielen."
      ],
      "metadata": {
        "id": "rTzx9AmP7ddz"
      }
    },
    {
      "cell_type": "code",
      "source": [
        "def ki_minimax(feld):\n",
        "    return\n",
        "\n",
        "spiel(ki_minimax)"
      ],
      "metadata": {
        "id": "9FUrEvT5PNNJ",
        "colab": {
          "base_uri": "https://localhost:8080/"
        },
        "outputId": "73125238-3a77-4ee3-a111-0019a1147297"
      },
      "execution_count": null,
      "outputs": [
        {
          "output_type": "stream",
          "name": "stdout",
          "text": [
            "x|o|x\n",
            "-----\n",
            "x|o|o\n",
            "-----\n",
            "o|x|x\n",
            "Unentschieden!\n"
          ]
        }
      ]
    }
  ]
}