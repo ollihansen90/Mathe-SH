{
  "nbformat": 4,
  "nbformat_minor": 0,
  "metadata": {
    "colab": {
      "provenance": [],
      "authorship_tag": "ABX9TyNPhHYjxjDxDYc/+8wlVzDA",
      "include_colab_link": true
    },
    "kernelspec": {
      "name": "python3",
      "display_name": "Python 3"
    },
    "language_info": {
      "name": "python"
    }
  },
  "cells": [
    {
      "cell_type": "markdown",
      "metadata": {
        "id": "view-in-github",
        "colab_type": "text"
      },
      "source": [
        "<a href=\"https://colab.research.google.com/github/ollihansen90/Mathe-SH/blob/main/Regression_GD.ipynb\" target=\"_parent\"><img src=\"https://colab.research.google.com/assets/colab-badge.svg\" alt=\"Open In Colab\"/></a>"
      ]
    },
    {
      "cell_type": "code",
      "execution_count": null,
      "metadata": {
        "id": "ht-rM_5ixnxt"
      },
      "outputs": [],
      "source": [
        "import numpy as np\n",
        "import matplotlib.pyplot as plt\n",
        "\n",
        "np.random.seed(0)\n",
        "data = np.random.randn(100,2)@np.array([[1,0],[1,1]])+np.array([1,2])\n",
        "data_x = data[:,0]\n",
        "data_y = data[:,1]\n",
        "\n",
        "xlims = [np.floor(np.min(data[:,0]))-1, np.ceil(np.max(data[:,0]))+1]\n",
        "ylims = [np.floor(np.min(data[:,1]))-1, np.ceil(np.max(data[:,1]))+1]\n",
        "\n",
        "model = np.array([-1,4])\n",
        "func = lambda x, m: m[0]*x+m[1]\n",
        "\n",
        "def plot_model(model):\n",
        "    plt.plot(xlims, func(np.array(xlims), model), \"tab:orange\")\n",
        "\n",
        "def plot():\n",
        "    plt.figure()\n",
        "    plt.scatter(data[:,0], data[:,1])\n",
        "    plot_model(model)\n",
        "    plt.axis(\"scaled\")\n",
        "    plt.xlim(xlims)\n",
        "    plt.ylim(ylims)\n",
        "    plt.grid()\n",
        "    plt.show()\n",
        "\n",
        "plot()"
      ]
    },
    {
      "cell_type": "code",
      "source": [
        "fehler = lambda out, label: np.mean((out-label)**2) # MSE: Mean Squared Error, Mittlerer quadratischer Fehler\n",
        "\n",
        "def error(model, data):\n",
        "    return fehler(func(data[:,0], model), data[:,1])\n",
        "\n",
        "#model = np.array([-1,3])\n",
        "#plot()\n",
        "#print(error(model, data))\n",
        "\n",
        "model = np.array([0.7, 1.3])\n",
        "plot()\n",
        "print(error(model, data))"
      ],
      "metadata": {
        "id": "tAjee7eKyBkz"
      },
      "execution_count": null,
      "outputs": []
    },
    {
      "cell_type": "code",
      "source": [
        "# Gradientenabstieg, Gradient Descent\n",
        "\n",
        "model = np.array([0.7, 1.3])\n",
        "plot()\n",
        "print(error(model, data))\n",
        "\n",
        "h = 0.001\n",
        "model = model + np.array([0,h])\n",
        "\n",
        "plot()\n",
        "print(error(model, data))\n",
        "\n",
        "f_von_x_plus_h = error(model+np.array([0,h]), data)\n",
        "f_von_x = error(model, data)\n",
        "\n",
        "print((f_von_x_plus_h - f_von_x)/h)"
      ],
      "metadata": {
        "id": "iDvTrETozoag"
      },
      "execution_count": null,
      "outputs": []
    },
    {
      "cell_type": "code",
      "source": [
        "def berechne_ableitung(model, data, h=0.0001):\n",
        "    f_von_x = error(model, data)\n",
        "\n",
        "    # Schritt 1: Ableitung bzgl. Steigung m\n",
        "    #                                      |\n",
        "    #                                      V\n",
        "    f_von_x_plus_h = error(model+np.array([h,0]), data)\n",
        "    dm = (f_von_x_plus_h - f_von_x)/h\n",
        "\n",
        "    # Schritt 2: Ableitung bzgl. y-Achsenabschnitt b\n",
        "    #                                        |\n",
        "    #                                        V\n",
        "    f_von_x_plus_h = error(model+np.array([0,h]), data)\n",
        "    db = (f_von_x_plus_h - f_von_x)/h\n",
        "\n",
        "    return np.array([dm, db])\n",
        "\n",
        "print(berechne_ableitung(model, data))\n",
        "\n",
        "def update(model, data, lernrate=0.1, h=0.0001):\n",
        "    model = model - lernrate*berechne_ableitung(model, data, h)\n",
        "    return model\n",
        "\n",
        "model = np.array([-1,4])\n",
        "losses = []\n",
        "plot()\n",
        "for i in range(25):\n",
        "    model = update(model, data, lernrate=0.01)\n",
        "    losses.append(error(model, data))\n",
        "print(model)\n",
        "plot()\n",
        "plt.figure()\n",
        "plt.plot(losses)\n",
        "plt.show()"
      ],
      "metadata": {
        "id": "K6PFNYbxAn57"
      },
      "execution_count": null,
      "outputs": []
    }
  ]
}