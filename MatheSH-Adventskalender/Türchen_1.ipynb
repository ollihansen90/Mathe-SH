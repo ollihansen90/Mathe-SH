{
  "nbformat": 4,
  "nbformat_minor": 0,
  "metadata": {
    "colab": {
      "provenance": [],
      "include_colab_link": true
    },
    "kernelspec": {
      "name": "python3",
      "display_name": "Python 3"
    },
    "language_info": {
      "name": "python"
    }
  },
  "cells": [
    {
      "cell_type": "markdown",
      "metadata": {
        "id": "view-in-github",
        "colab_type": "text"
      },
      "source": [
        "<a href=\"https://colab.research.google.com/github/ollihansen90/Mathe-SH/blob/main/MatheSH-Adventskalender/T%C3%BCrchen_1.ipynb\" target=\"_parent\"><img src=\"https://colab.research.google.com/assets/colab-badge.svg\" alt=\"Open In Colab\"/></a>"
      ]
    },
    {
      "cell_type": "markdown",
      "source": [
        "# Fragen?\n",
        "\n",
        "Solltet ihr Fragen zum Code oder Probleme mit Colab haben, schickt uns gerne eine Mail:\n",
        "\n",
        "*   h.hansen@uni-luebeck.de\n",
        "*   dustin.haschke@student.uni-luebeck.de\n",
        "*   friederike.meissner@student.uni-luebeck.de\n"
      ],
      "metadata": {
        "id": "KZhQktFlf0Io"
      }
    },
    {
      "cell_type": "markdown",
      "source": [
        "## Türchen 1 - Einführung in Python und Colab"
      ],
      "metadata": {
        "id": "Vbamr6FyeCXT"
      }
    },
    {
      "cell_type": "markdown",
      "source": [
        "### **Python** <img src=\"https://upload.wikimedia.org/wikipedia/commons/thumb/f/f8/Python_logo_and_wordmark.svg/1200px-Python_logo_and_wordmark.svg.png\"  height=\"23em\"/>\n",
        "\n",
        "Wir wollen euch im Rahmen dieses Adventkalenders in die Welt der Programmierung einführen.\n",
        "\n",
        "\n",
        "Ihr werdet dabei die Grundlagen der Programmiersprache Python kennenlernen. In der modernen (angewandten) Mathematik werden Computer als Hilfe genutzt - ohne Programmierkenntnisse kann man also schlecht Mathematik betreiben!\n",
        "\n",
        "#### **Warum Python?**\n",
        "Python ist eine der beliebtesten Programmiersprachen neben Java, C, C++, Visual Basic oder SQL. Gleichzeitig ist Python eine sehr einfache Programmiersprache, die mit ihrer recht leichten Schreibweise (Syntax genannt) schnell zu erlernen ist.\n",
        "\n",
        "<img src=\"http://cdn.statcdn.com/Infographic/images/normal/22669.jpeg\" width=\"50%\"/>\n",
        "\n",
        "Sie kümmert sich im Hintergrund um den \"Informatik-Kram\", ob sie z. B. gerade mit Zahlen oder Wörtern hantiert (Typisierung), wo Daten abgelegt werden (Speicherverwaltung) oder darum, was der Computer gerade nicht mehr zum Rechnen benötigt (die sogenannte Garbage Collection). Daher ist sie gerade für Programmieranfänger geeignet!\n",
        "\n",
        "#### **Beispiel: Quicksort**\n",
        "Im Folgenden wird ein kleines Programmierbeispiel gezeigt. Es handelt sich dabei um einen Algorithmus, der eine Liste von Zahlen in aufsteigender Reihenfolge sortiert.\n",
        "\n",
        "Es ist nicht schlimm, wenn ihr den Code noch nicht versteht. Erst gegen Ende des des Kurses sollten die Pythonkenntnisse ausreichen, um den Algorithmus selbst zu bauen.\n",
        "\n"
      ],
      "metadata": {
        "id": "m5yybEtsgWBc"
      }
    },
    {
      "cell_type": "code",
      "source": [
        "def quicksort(arr):\n",
        "    if len(arr) <= 1:\n",
        "        return arr\n",
        "    pivot = arr[len(arr) // 2]\n",
        "    left = [x for x in arr if x < pivot]\n",
        "    middle = [x for x in arr if x == pivot]\n",
        "    right = [x for x in arr if x > pivot]\n",
        "    return quicksort(left) + middle + quicksort(right)\n",
        "\n",
        "zahlenliste = [3,6,8,10,1,2,1]\n",
        "\n",
        "print(zahlenliste)\n",
        "print(quicksort(zahlenliste))"
      ],
      "metadata": {
        "id": "r4cETh1feBXR"
      },
      "execution_count": null,
      "outputs": []
    },
    {
      "cell_type": "markdown",
      "source": [
        "### **Google Colaboratory** <img src=\"https://miro.medium.com/max/724/1*9Q1rcr_peQdnGMwOYDBFhw.png\"  height=\"25em\"/>\n",
        "\n",
        "Google Colaboratory (kurz: Colab) bietet die Möglichkeit, Python-Notebooks auf den Servern von Google laufen zu lassen. Das bedeutet, dass sämtlicher Code nicht lokal bei euch auf dem Computer oder Handy läuft, sondern nur auf den Cloud-Computing-Diensten von Google ausgewertet wird.\n",
        "\n",
        "Der Vorteil von Colab ist, dass ihr bei euch zu Hause nichts extra installieren müsst! Ebenso seid ihr geräteunabhängig, das heißt, dass ihr könnt einfach so zwischen Computern wechseln, ihr könnt am Handy arbeiten (was von uns aber nicht unbedingt empfohlen wird), oder ihr könnt sogar woanders als von zuhause aus auf die Notebooks zugreifen (zum Beispiel bei Freunden oder in der Schule).\n",
        "\n",
        "Nachteil von Colab ist, dass wir immer eine Internetverbindung benötigen. Sollte die mal ausfallen, können wir nicht mehr programmieren! Später im Kurs können wir gerne mal eine Einführung machen, wie man Python und die Jupyter-Notebooks auch lokal und ohne Internet auf euren Computern ausführen kann.\n",
        "\n",
        "#### **Einrichtung**\n",
        "Eine Einrichtung ist bei Colab nicht unbedingt nötig. Ihr braucht nur einen Google-Account! Vielleicht benutzt ihr schon GMail oder YouTube, dann habt ihr einen. Das ist nötig, damit die Notebooks in eurer Cloud (Google Drive) gespeichert werden können.\n",
        "\n",
        "Trotzdem gibt es ein paar Funktionen, die wir euch gerne zeigen möchten!\n",
        "\n",
        "##### **Kopien der Notebooks speichern**\n",
        "Im Laufe des Kurses werdet ihr Colabs von uns erhalten. Um sie ordentlich bearbeiten zu können, solltet ihr sie in eurer eigenen Cloud speichern. Hierfür macht ihr Folgendes:\n",
        "\n",
        "1.   Geht oben in der Leiste auf Datei.\n",
        "2.   Klickt auf \"Kopie in Drive speichern\".\n",
        "\n",
        "Jetzt sollte sich ein neuer Tab öffnen, in dem ihr das Notebook in eurer eigenen Cloud bearbeiten könnt.\n",
        "\n",
        "##### **Notebook herunterladen**\n",
        "Manchmal ist es sinnvoll, sich eine Kopie lokal auf dem Computer zu speichern.\n",
        "\n",
        "1.   Geht oben in der Leiste auf Datei.\n",
        "2.   Klickt auf \"Herunterladen\".\n",
        "3.   Wählt \".ipynb\" aus.\n",
        "\n",
        "##### **Notebooks teilen**\n",
        "Solltet ihr Fragen zu einer Aufgabe oder einen Algorithmus haben, der bei euch nicht funktioniert, könnt ihr uns jederzeit eine Mail schreiben. Für uns ist es dann am einfachsten, wenn ihr euer Notebook mit uns teilt.\n",
        "\n",
        "1.   Geht oben rechts auf \"Teilen\".\n",
        "2.   Klickt auf \"Link kopieren\".\n",
        "3.   Fügt den Link mit STRG+V in die Mail ein.\n",
        "\n",
        "Alternativ könnt ihr auch gerne das Notebook herunterladen und uns das als Anhang schicken.\n",
        "\n",
        "##### **Zeilennummerierung**\n",
        "Beim Programmieren passieren Fehler. Das lässt sich nicht vermeiden. Fehlermeldungen sehen im ersten Moment immer sehr kryptisch aus, wichtig ist jedoch, dass ausgegeben wird, in welcher Zeile sich der Fehler befindet!\n",
        "\n",
        "In der Standardeinstellung werden die Zeilen bei Colab nicht nummeriert, man kann also viel Zeit mit Suchen von Code verbringen. Um eine Nummerierung einzufügen, macht ihr Folgendes:\n",
        "\n",
        "1.   Geht oben auf \"Tools\".\n",
        "2.   Klickt auf \"Einstellungen\".\n",
        "3.   Wählt den Abschnitt \"Editor\" aus.\n",
        "4.   Setzt ein Häkchen bei \"Zeilennummern anzeigen\".\n",
        "\n",
        "In diesem Abschnitt könnt ihr auch noch weitere Einstellungen vornehmen, wie Schriftgröße, Schriftart und so weiter."
      ],
      "metadata": {
        "id": "9uuUGjMJgkyf"
      }
    },
    {
      "cell_type": "markdown",
      "source": [
        "### **Kommentare**\n",
        "Manchmal möchte man, dass einige Befehle nicht vom Python-Compiler umgesetzt werden. Das kann der Fall sein, wenn man beispielsweise etwas Code \"herausnehmen\" möchte, ohne ihn zu löschen, weil man ihn später eventuell noch verwenden möchte. Oder aber man möchte beschreiben, was der Code oder eine Zeile des Codes macht. Das nennt man \"Dokumentation\".\n",
        "\n",
        "#### **Einzelne Zeilen**\n",
        "Für einzelne Zeilen wird ```#``` benötigt. Alles, was rechts nach dem ```#``` steht, wird nicht verarbeitet. Dies kann auch in der selben Zeile wie Code passieren.\n",
        "\n",
        "#### **Mehrere Zeilen**\n",
        "Manchmal hat man mehrere Zeilen, die man auskommentieren möchte, ohne dass man jeweils ein ```#``` setzen möchte. In dem Fall nutzt man einen Trick: Man wandelt die Zeilen einfach in einen String um! Für mehrzeilige Strings benutzt man drei Anführungszeichen statt nur einem, also ```\"\"\"``` statt ```\"```, beziehungsweise ```'''``` statt ```'```."
      ],
      "metadata": {
        "id": "8JRCSXNih1NK"
      }
    },
    {
      "cell_type": "code",
      "source": [
        "print(\"Diese Zeile wird verarbeitet.\")\n",
        "#print(\"Diese Zeile wird nicht verarbeitet.\")\n",
        "\n",
        "#das ist ein kommentar\n",
        "\n",
        "print(\"Diese\")\n",
        "print(\"Zeilen\")\n",
        "print(\"werden\")\n",
        "print(\"verarbeitet.\")\n",
        "\n",
        "\"\"\"print(\"Diese\")\n",
        "print(\"Zeilen\")\n",
        "print(\"werden\")\n",
        "print(\"nicht\")\n",
        "print(\"verarbeitet.\")\"\"\"\n"
      ],
      "metadata": {
        "id": "AJY4SNhph8Lw"
      },
      "execution_count": null,
      "outputs": []
    },
    {
      "cell_type": "markdown",
      "source": [
        "Wie ihr seht, werden die Zeilen (manchmal) doch ausgegeben! Wichtig für uns ist jedoch, dass der Teil des Codes nicht verarbeitet wird (das heißt, es werden keine Variablen überschrieben)."
      ],
      "metadata": {
        "id": "0qLDrh8Hh877"
      }
    },
    {
      "cell_type": "markdown",
      "source": [
        "### **Die Print-Funktion**\n",
        "Die Print-Funktion hilft uns bei der Ausgabe von allen möglichen Objekten, wie Zeichenketten (Strings), Zahlen oder abstrakteren Gebilden (deren Ausgaben können wir meistens nicht so richtig \"verwerten\"). Wir können auch den Inhalt von Variablen ausgeben lassen, welche ihr heute später noch kennenlernen werdet.\n",
        "\n",
        "Wo benutzen wir das? Immer, wenn wir etwas ausgeben wollen! Später wird es auch andere Optionen geben, aber die Print-Funktion dient zunächst als einfachste Möglichkeit.\n",
        "\n",
        "Es kann sein, dass wir ein Zwischenergebnis ausgeben möchten oder dass wir gucken wollen, ob ein bestimmter Bereich im Code erreicht wird, oder wie oft eine Schleife (kommt später) durchlaufen wird. Dies kann sehr hilfreich sein, um Fehler im Code zu finden.\n",
        "\n",
        "Hierfür können wir Testnachrichten einbauen oder auch unsere eigenen Fehlermitteilungen schreiben, wenn zum Beispiel jemand eine Eingabe macht, die wir nicht haben wollen.\n",
        "\n",
        "Funktionen funktionieren allgemein so, dass wir zuerst ihren Namen schreiben, in diesem Fall ```print```, gefolgt von runden Klammern, in denen wir unsere Parameter schreiben. Parameter heißen in diesem Falle unsere Eingaben. ```print``` akzeptiert einen oder mehrere Parameter, welche wir innerhalb der Klammern durch Kommata trennen."
      ],
      "metadata": {
        "id": "raacISHsiGR3"
      }
    },
    {
      "cell_type": "code",
      "source": [
        "# Wir können Zahlen ausgeben\n",
        "print(4)\n",
        "# Oder Texte, indem wir Anführungsstriche verwenden\n",
        "print(\"Hallo :-)\")\n",
        "# Hier probieren wir die Funktion, die wir oben definiert haben, auszugeben\n",
        "print(quicksort)\n",
        "\n",
        "# Wenn ihr mehrere Ausgaben in einer Zeile machen möchtet, könnt ihr diese\n",
        "# mit Kommata verknüpfen\n",
        "print(4, \"Hallo :-)\", quicksort)\n",
        "\n",
        "# So könnt ihr auch eure Ausgaben hübsch gestalten\n",
        "# Wenn x beispielsweise jetzt euer Ergebnis aus einer vorhergegangenen Rechnung\n",
        "# wäre, könntet ihr wie folgt vorgehen:\n",
        "x = 5\n",
        "print(\"Damit ist unser Ergebnis:\", x)"
      ],
      "metadata": {
        "id": "lLAV2mKJiTQx"
      },
      "execution_count": null,
      "outputs": []
    },
    {
      "cell_type": "code",
      "metadata": {
        "id": "AdV98Iw5bEHn"
      },
      "source": [
        "# Falls man will, kann man sogar Text Art ausgeben\n",
        "print(\"┏┓┏┳━━┳┓┏┓┏━━┓\")\n",
        "print(\"┃┗┛┃━━┫┃┃┃┃╭╮┃\")\n",
        "print(\"┃┏┓┃━━┫┃┫┗┫╰╯┃\")\n",
        "print(\"┗┛┗┻━━┻━┻━┻━━┛\")\n",
        "\n",
        "# Ihr könnt euch das Text-Art auch zwischenspeichern, damit ihr nicht so viele\n",
        "# Print-Funktionen benötigt\n",
        "kaffee = \"\"\"─▄▀─▄▀\n",
        "──▀──▀\n",
        "█▀▀▀▀▀█▄\n",
        "█░░░░░█─█\n",
        "▀▄▄▄▄▄▀▀\n",
        "\"\"\"\n",
        "\n",
        "print(kaffee)"
      ],
      "execution_count": null,
      "outputs": []
    },
    {
      "cell_type": "markdown",
      "source": [
        "#### **Übung** - Print\n",
        "\n",
        "Sucht bei Google (oder [hier](https://www.asciiart.eu/animals/birds-land)) ein beliebiges weihnachtliches oder winterliches Text-Art und probiert dieses mittels ```print``` auszugeben."
      ],
      "metadata": {
        "id": "3aqSyf3yibgq"
      }
    },
    {
      "cell_type": "code",
      "source": [],
      "metadata": {
        "id": "qQ242zA_kLbr"
      },
      "execution_count": null,
      "outputs": []
    }
  ]
}