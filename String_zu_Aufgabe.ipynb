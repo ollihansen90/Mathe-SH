{
  "nbformat": 4,
  "nbformat_minor": 0,
  "metadata": {
    "colab": {
      "provenance": [],
      "include_colab_link": true
    },
    "kernelspec": {
      "name": "python3",
      "display_name": "Python 3"
    },
    "language_info": {
      "name": "python"
    }
  },
  "cells": [
    {
      "cell_type": "markdown",
      "metadata": {
        "id": "view-in-github",
        "colab_type": "text"
      },
      "source": [
        "<a href=\"https://colab.research.google.com/github/ollihansen90/Mathe-SH/blob/main/String_zu_Aufgabe.ipynb\" target=\"_parent\"><img src=\"https://colab.research.google.com/assets/colab-badge.svg\" alt=\"Open In Colab\"/></a>"
      ]
    },
    {
      "cell_type": "markdown",
      "source": [
        "#Projekt: String zu Aufgabe\n",
        "\n",
        "## Fragen?\n",
        "Solltet ihr Fragen zum Code oder Probleme mit Colab haben, schickt uns gerne eine Mail:\n",
        "\n",
        "*   h.hansen@uni-luebeck.de\n",
        "*   maren.wieder@student.uni-luebeck.de\n",
        "*   friederike.meissner@student.uni-luebeck.de\n",
        "*   dustin.haschke@student.uni-luebeck.de\n",
        "\n",
        "# String zu Aufgabe\n",
        "Heute wollen wir eine als String eingegebene Rechenaufgabe mit Python berechnen lassen. Die Eingabe ```2+5-4``` soll z.B. ```3``` als Ausgabe haben. Zahlen werden also echte Zahlen eingegeben, die Rechenoperatoren allerdings als Text."
      ],
      "metadata": {
        "id": "75mqLOnXDJpN"
      }
    },
    {
      "cell_type": "markdown",
      "source": [
        "## Teilaufgabe 1: Addition und Subtraktion\n",
        "Implementiere die Addition und Subtraktion.\n",
        "\n",
        "*Tipp*: Die Funktion ```eintrag.split(\"x\")``` trennt einen String auf einen Bereich links und rechts des Zeichens ```x``` auf.\n",
        "Die Funktion ```float(\"5\")``` wandelt den String ```\"5\"``` in die Zahl ```5``` um."
      ],
      "metadata": {
        "id": "WpTM-bL_zNcP"
      }
    },
    {
      "cell_type": "code",
      "execution_count": 31,
      "metadata": {
        "id": "7sq9JEE1DFIN",
        "colab": {
          "base_uri": "https://localhost:8080/"
        },
        "outputId": "4bd12886-0700-415e-da89-07eb78eebe5f"
      },
      "outputs": [
        {
          "output_type": "stream",
          "name": "stdout",
          "text": [
            "-41.0\n"
          ]
        }
      ],
      "source": [
        "#rechenaufgabe = input(\"Formuliere eine Rechenaufgabe:\\n\")\n",
        "rechenaufgabe = \"-45+7-3\" # 45+7+-3\n",
        "\n",
        "rechenaufgabe = rechenaufgabe.replace(\"-\", \"+-\")\n",
        "\n",
        "summenliste = rechenaufgabe.split(\"+\")\n",
        "if summenliste[0]==\"\":\n",
        "    summenliste[0] = 0\n",
        "\n",
        "summe = 0\n",
        "for summand in summenliste:\n",
        "    summe = summe+float(summand)\n",
        "print(summe)"
      ]
    },
    {
      "cell_type": "code",
      "source": [
        "#rechenaufgabe = input(\"Formuliere eine Rechenaufgabe:\\n\")\n",
        "rechenaufgabe = \"-45+7-3\" # 45+7+-3\n",
        "\n",
        "#rechenaufgabe = rechenaufgabe.replace(\"-\", \"+-\")\n",
        "vorzeichenliste = [0]\n",
        "if rechenaufgabe[0]==\"-\":\n",
        "    vorzeichenliste[0] = 1\n",
        "for zeichen in rechenaufgabe:\n",
        "    if zeichen==\"+\":\n",
        "        vorzeichenliste.append(0)\n",
        "    if zeichen==\"-\":\n",
        "        vorzeichenliste.append(1)\n",
        "\n",
        "rechenaufgabe = rechenaufgabe.replace(\"-\", \"+\")\n",
        "\n",
        "summenliste = rechenaufgabe.split(\"+\")\n",
        "if summenliste[0]==\"\":\n",
        "    summenliste[0] = 0\n",
        "print(summenliste)\n",
        "\n",
        "summe = 0\n",
        "for i in range(len(summenliste)):\n",
        "    summand = float(summenliste[i])\n",
        "    if vorzeichenliste[i]==1:\n",
        "        summand *= -1\n",
        "    summe = summe+summand\n",
        "print(summe)"
      ],
      "metadata": {
        "id": "EJWPlw06_-YK"
      },
      "execution_count": null,
      "outputs": []
    },
    {
      "cell_type": "code",
      "source": [
        "print(\"5\")\n",
        "print(type(\"5\"))\n",
        "print(float(\"-5\"))\n",
        "print(type(float(\"5\")))\n",
        "i = \"2015\"\n",
        "j = \"6\"\n",
        "\n",
        "print(type(int(i)/int(j)))\n",
        "string = \"Hallo, mein Name ist Olli\"\n",
        "print(string.split(\"i\"))"
      ],
      "metadata": {
        "colab": {
          "base_uri": "https://localhost:8080/"
        },
        "id": "7NX-Zy_4y-JW",
        "outputId": "ac02b77a-2463-45d9-9f75-bd8ca44f7730"
      },
      "execution_count": 20,
      "outputs": [
        {
          "output_type": "stream",
          "name": "stdout",
          "text": [
            "5\n",
            "<class 'str'>\n",
            "-5.0\n",
            "<class 'float'>\n",
            "<class 'float'>\n",
            "['Hallo, me', 'n Name ', 'st Oll', '']\n"
          ]
        }
      ]
    },
    {
      "cell_type": "markdown",
      "source": [
        "##Teilaufgabe 2.1: Punkt- vor Strichrechnung (nur Multiplikation)\n",
        "Bringe deinem Programm jetzt bei, wie man Punkt- vor Strichrechnung anwendet."
      ],
      "metadata": {
        "id": "q7wLn_OczWs2"
      }
    },
    {
      "cell_type": "code",
      "source": [
        "#rechenaufgabe = input(\"Formuliere eine Rechenaufgabe:\\n\")\n",
        "rechenaufgabe = \"4+3*2+1*2*3*4*5\"\n",
        "\n",
        "rechenaufgabe = rechenaufgabe.replace(\"-\", \"+-\")\n",
        "\n",
        "summenliste = rechenaufgabe.split(\"+\")\n",
        "if summenliste[0]==\"\":\n",
        "    summenliste[0] = 0\n",
        "\n",
        "summe = 0\n",
        "\n",
        "print(summenliste)\n",
        "for summand in summenliste:\n",
        "    if \"*\" in summand:\n",
        "        produktliste = summand.split(\"*\")\n",
        "        produkt = 1\n",
        "        for faktor in produktliste:\n",
        "            produkt *= float(faktor)\n",
        "        summand = produkt\n",
        "    summe = summe+float(summand)\n",
        "print(summe)"
      ],
      "metadata": {
        "id": "GpjKAEU2zg3o",
        "colab": {
          "base_uri": "https://localhost:8080/"
        },
        "outputId": "5a4b6f78-c612-4a8c-cd79-216aa5b3995d"
      },
      "execution_count": 34,
      "outputs": [
        {
          "output_type": "stream",
          "name": "stdout",
          "text": [
            "['4', '3*2', '1*2*3*4*5']\n",
            "130.0\n"
          ]
        }
      ]
    },
    {
      "cell_type": "markdown",
      "source": [
        "##Teilaufgabe 2.2: Punkt- vor Strichrechnung (mit Division)\n",
        "Bringe deinem Programm jetzt zusätzlich die Division bei."
      ],
      "metadata": {
        "id": "3pBTqW7OzhRj"
      }
    },
    {
      "cell_type": "code",
      "source": [
        "#rechenaufgabe = input(\"Formuliere eine Rechenaufgabe:\\n\")\n",
        "rechenaufgabe = \"4+3*2-12/3\"\n",
        "\n",
        "rechenaufgabe = rechenaufgabe.replace(\"-\", \"+-\")\n",
        "rechenaufgabe = rechenaufgabe.replace(\"/\", \"*/\")\n",
        "\n",
        "summenliste = rechenaufgabe.split(\"+\")\n",
        "if summenliste[0]==\"\":\n",
        "    summenliste[0] = 0\n",
        "\n",
        "summe = 0\n",
        "\n",
        "print(summenliste)\n",
        "for summand in summenliste:\n",
        "    if \"*\" in summand:\n",
        "        produktliste = summand.split(\"*\")\n",
        "        produkt = 1\n",
        "        for faktor in produktliste:\n",
        "            if \"/\" in faktor:\n",
        "                produkt /= float(faktor[1:])\n",
        "            else:\n",
        "                produkt *= float(faktor)\n",
        "        summand = produkt\n",
        "    summe = summe+float(summand)\n",
        "print(summe)"
      ],
      "metadata": {
        "id": "YsltHJugztP_",
        "colab": {
          "base_uri": "https://localhost:8080/"
        },
        "outputId": "2a572764-0e27-44ec-f1f5-9e90dc4ec9ee"
      },
      "execution_count": 37,
      "outputs": [
        {
          "output_type": "stream",
          "name": "stdout",
          "text": [
            "['4', '3*2', '-12*/3']\n",
            "6.0\n"
          ]
        }
      ]
    }
  ]
}