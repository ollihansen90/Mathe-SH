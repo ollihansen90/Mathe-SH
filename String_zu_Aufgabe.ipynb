{
  "nbformat": 4,
  "nbformat_minor": 0,
  "metadata": {
    "colab": {
      "provenance": [],
      "include_colab_link": true
    },
    "kernelspec": {
      "name": "python3",
      "display_name": "Python 3"
    },
    "language_info": {
      "name": "python"
    }
  },
  "cells": [
    {
      "cell_type": "markdown",
      "metadata": {
        "id": "view-in-github",
        "colab_type": "text"
      },
      "source": [
        "<a href=\"https://colab.research.google.com/github/ollihansen90/Mathe-SH/blob/main/String_zu_Aufgabe.ipynb\" target=\"_parent\"><img src=\"https://colab.research.google.com/assets/colab-badge.svg\" alt=\"Open In Colab\"/></a>"
      ]
    },
    {
      "cell_type": "markdown",
      "source": [
        "#Projekt: String zu Aufgabe\n",
        "\n",
        "## Fragen?\n",
        "Solltet ihr Fragen zum Code oder Probleme mit Colab haben, schickt uns gerne eine Mail:\n",
        "\n",
        "*   h.hansen@uni-luebeck.de\n",
        "*   maren.wieder@student.uni-luebeck.de\n",
        "*   friederike.meissner@student.uni-luebeck.de\n",
        "*   dustin.haschke@student.uni-luebeck.de\n",
        "\n",
        "# String zu Aufgabe\n",
        "Heute wollen wir eine als String eingegebene Rechenaufgabe mit Python berechnen lassen. Die Eingabe ```2+5-7``` soll z.B. ```14``` als Ausgabe haben. Zahlen werden also echte Zahlen eingegeben, die Rechenoperatoren allerdings als Text."
      ],
      "metadata": {
        "id": "75mqLOnXDJpN"
      }
    },
    {
      "cell_type": "markdown",
      "source": [
        "## Teilaufgabe 1: Addition und Subtraktion\n",
        "Implementiere die Addition und Subtraktion.\n",
        "\n",
        "*Tipp*: Die Funktion ```eintrag.split(\"x\")``` trennt einen String auf einen Bereich links und rechts des Zeichens ```x``` auf.\n",
        "Die Funktion ```float(\"5\")``` wandelt den String ```\"5\"``` in die Zahl ```5``` um."
      ],
      "metadata": {
        "id": "WpTM-bL_zNcP"
      }
    },
    {
      "cell_type": "code",
      "execution_count": null,
      "metadata": {
        "id": "7sq9JEE1DFIN"
      },
      "outputs": [],
      "source": [
        "rechenaufgabe = input(\"Formuliere eine Rechenaufgabe:\\n\")\n"
      ]
    },
    {
      "cell_type": "code",
      "source": [
        "print(\"5\")\n",
        "print(type(\"5\"))\n",
        "print(float(\"5\"))\n",
        "print(type(float(\"5\")))"
      ],
      "metadata": {
        "colab": {
          "base_uri": "https://localhost:8080/"
        },
        "id": "7NX-Zy_4y-JW",
        "outputId": "06f00265-e7ce-42c8-e0b9-da4fb4e776b4"
      },
      "execution_count": null,
      "outputs": [
        {
          "output_type": "stream",
          "name": "stdout",
          "text": [
            "5\n",
            "<class 'str'>\n",
            "5.0\n",
            "<class 'float'>\n"
          ]
        }
      ]
    },
    {
      "cell_type": "markdown",
      "source": [
        "##Teilaufgabe 2.1: Punkt- vor Strichrechnung (nur Multiplikation)\n",
        "Bringe deinem Programm jetzt bei, wie man Punkt- vor Strichrechnung anwendet."
      ],
      "metadata": {
        "id": "q7wLn_OczWs2"
      }
    },
    {
      "cell_type": "code",
      "source": [
        "rechenaufgabe = input(\"Formuliere eine Rechenaufgabe:\\n\")\n"
      ],
      "metadata": {
        "id": "GpjKAEU2zg3o"
      },
      "execution_count": null,
      "outputs": []
    },
    {
      "cell_type": "markdown",
      "source": [
        "##Teilaufgabe 2.2: Punkt- vor Strichrechnung (mit Division)\n",
        "Bringe deinem Programm jetzt zusätzlich die Division bei."
      ],
      "metadata": {
        "id": "3pBTqW7OzhRj"
      }
    },
    {
      "cell_type": "code",
      "source": [
        "rechenaufgabe = input(\"Formuliere eine Rechenaufgabe:\\n\")\n"
      ],
      "metadata": {
        "id": "YsltHJugztP_"
      },
      "execution_count": null,
      "outputs": []
    }
  ]
}