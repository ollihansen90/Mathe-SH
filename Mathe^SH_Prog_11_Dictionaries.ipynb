{
  "nbformat": 4,
  "nbformat_minor": 0,
  "metadata": {
    "colab": {
      "name": "Mathe^SH_Prog_11 - Dictionaries.ipynb",
      "provenance": [],
      "collapsed_sections": [
        "QxWS-jDsKlhu",
        "06Ikf2Wsv-rZ"
      ],
      "include_colab_link": true
    },
    "kernelspec": {
      "display_name": "Python 3",
      "name": "python3"
    },
    "language_info": {
      "name": "python"
    }
  },
  "cells": [
    {
      "cell_type": "markdown",
      "metadata": {
        "id": "view-in-github",
        "colab_type": "text"
      },
      "source": [
        "<a href=\"https://colab.research.google.com/github/ollihansen90/Mathe-SH/blob/main/Mathe%5ESH_Prog_11_Dictionaries.ipynb\" target=\"_parent\"><img src=\"https://colab.research.google.com/assets/colab-badge.svg\" alt=\"Open In Colab\"/></a>"
      ]
    },
    {
      "cell_type": "markdown",
      "metadata": {
        "id": "cgq0ON5768UB"
      },
      "source": [
        "# Mathe^SH Python-Kurs, Woche 11 Dictionaries\n"
      ]
    },
    {
      "cell_type": "markdown",
      "metadata": {
        "id": "NMjKvuYev9lY"
      },
      "source": [
        "# Fragen?\n",
        "Solltet ihr Fragen zum Code oder Probleme mit Colab haben, schickt uns gerne eine Mail:\n",
        "\n",
        "*   hohansen@inb.uni-luebeck.de\n",
        "*   maren.wieder@student.uni-luebeck.de\n",
        "*   friederike.meissner@student.uni-luebeck.de\n",
        "*   dustin.haschke@student.uni-luebeck.de"
      ]
    },
    {
      "cell_type": "markdown",
      "source": [
        "## Erstellen\n"
      ],
      "metadata": {
        "id": "GoaLzg89HExS"
      }
    },
    {
      "cell_type": "markdown",
      "source": [
        "Ein ***Dictionary*** ordnet einem Schlüssel *(key)* einen bestimmten Wert *(value)* zu. Man kann sich das wie zwei parallele Listen oder Tabellen vorstellen. Das Dictionary besitzt folgende Grundform:\n",
        "\n",
        "```{<key1:<value1>>, <key2>:<value2>}```\n",
        "\n",
        "Hier ein Beispiel:"
      ],
      "metadata": {
        "id": "PRFZUPDudKL-"
      }
    },
    {
      "cell_type": "code",
      "source": [
        "temperatur = {\"Montag\":12, \"Dienstag\":15, \"Mittwoch\":7}"
      ],
      "metadata": {
        "id": "eIn-1Yz2g0dt"
      },
      "execution_count": null,
      "outputs": []
    },
    {
      "cell_type": "markdown",
      "source": [
        "Um ein **leeres Dictionary** anzulegen, kann man entweder einfach ```{}``` verwenden oder aber ```dict()```.\n",
        "\n",
        "Bekannte Befehle wie ```len()``` können ebenso angewendet werden. Allerdings erfolgt der Zugriff anders als z.B. bei Listen. Dazu später mehr."
      ],
      "metadata": {
        "id": "hU0iRst6hnlT"
      }
    },
    {
      "cell_type": "code",
      "source": [
        "bla = dict()\n",
        "blub = {}\n",
        "notiz = {\"Zahl\": 5, \"sichtbar\": True}\n",
        "\n",
        "print(len(bla),len(notiz))  # Ausgabe der Länge der Dictionaries bla und notiz"
      ],
      "metadata": {
        "colab": {
          "base_uri": "https://localhost:8080/"
        },
        "id": "4htQQ7P8h5oD",
        "outputId": "31db7253-a370-40fe-8c30-ca07228372b7"
      },
      "execution_count": null,
      "outputs": [
        {
          "output_type": "stream",
          "name": "stdout",
          "text": [
            "0 2\n"
          ]
        }
      ]
    },
    {
      "cell_type": "markdown",
      "source": [
        "Alles, was in einer *Variable* gespeichert werden kann, wie Listen, Strings, Bools, Float usw., kann auch in einem *Dictionary* gespeichert werden."
      ],
      "metadata": {
        "id": "FrPd66wcg3DA"
      }
    },
    {
      "cell_type": "code",
      "source": [
        "profil = {\"name\": \"Gerd\",\"Alter\": 70, \"Demenz\": True, \"Hobbys\": [\"Basteln\",\"Kampfsport\"]}\n",
        "print(profil)"
      ],
      "metadata": {
        "id": "TGafntTlHIsE",
        "colab": {
          "base_uri": "https://localhost:8080/"
        },
        "outputId": "66d569cb-2fd5-4418-c1a8-520f5250c60c"
      },
      "execution_count": null,
      "outputs": [
        {
          "output_type": "stream",
          "name": "stdout",
          "text": [
            "{'name': 'Gerd', 'Alter': 70, 'Demenz': True, 'Hobbys': ['Basteln', 'Kampfsport']}\n"
          ]
        }
      ]
    },
    {
      "cell_type": "markdown",
      "source": [
        "Selbst weitere Dictionaries können so verschachelt werden:"
      ],
      "metadata": {
        "id": "fMdOwh_KkENa"
      }
    },
    {
      "cell_type": "code",
      "source": [
        "schüler = {\"Jan\":{\"Alter\":11,\"Klasse\":\"6b\"},\"Tim\":{\"Alter\":13,\"Klasse\":\"8d\"}}\n",
        "\n",
        "print(schüler)\n",
        "print(schüler[\"Tim\"])   # Zugriff auf Schlüssel von Tim -> mehr dazu im Abschnitt \"Zugreifen\""
      ],
      "metadata": {
        "colab": {
          "base_uri": "https://localhost:8080/"
        },
        "id": "MpE07_k4kVcN",
        "outputId": "df36c4ce-6599-4bb6-8f68-6e774c47aa80"
      },
      "execution_count": null,
      "outputs": [
        {
          "output_type": "stream",
          "name": "stdout",
          "text": [
            "{'Jan': {'Alter': 11, 'Klasse': '6b'}, 'Tim': {'Alter': 13, 'Klasse': '8d'}}\n",
            "{'Alter': 13, 'Klasse': '8d'}\n"
          ]
        }
      ]
    },
    {
      "cell_type": "markdown",
      "source": [
        "## Zugreifen\n",
        "\n",
        "\n",
        "\n",
        "\n"
      ],
      "metadata": {
        "id": "4j58pE5lHJJP"
      }
    },
    {
      "cell_type": "markdown",
      "source": [
        "###Einzelwerte\n",
        "In Dictionaries erfolgt der Zugriff üblicherweise von einem bestimmten Schlüssel auf seinen Wert.\n",
        "\n",
        "Hierfür wird das Schema ```name[key]``` verwendet, das den passenden *value* zum *key* des Dictionaries *name* zurückliefert."
      ],
      "metadata": {
        "id": "Ja7GQ3EIr6dp"
      }
    },
    {
      "cell_type": "code",
      "source": [
        "noten = {\"Tom\": 3, \"Isi\": 5, \"Emma\": 1, \"Lina\": 3}\n",
        "\n",
        "print(noten[\"Emma\"])\n",
        "print(noten[\"Tom\"])"
      ],
      "metadata": {
        "colab": {
          "base_uri": "https://localhost:8080/"
        },
        "id": "Vb1ZgwiKnvs6",
        "outputId": "89d3d78d-05a0-4898-a2ef-bc4e847fa426"
      },
      "execution_count": null,
      "outputs": [
        {
          "output_type": "stream",
          "name": "stdout",
          "text": [
            "1\n",
            "3\n"
          ]
        }
      ]
    },
    {
      "cell_type": "markdown",
      "source": [
        "Leider erzeugt der Zugriff auf einen *nichtvorhandenen Schlüssel* des Dictionaries eine Fehlermeldung.\n",
        "\n",
        "Dies lässt sich durch die alternative Nutzung von ```name.get(key)``` anstelle von ```name[key]``` vermeiden:"
      ],
      "metadata": {
        "id": "6TQm9V48v7fR"
      }
    },
    {
      "cell_type": "code",
      "source": [
        "noten = {\"Tom\": 3, \"Isi\": 5, \"Emma\": 1, \"Lina\": 3}\n",
        "\n",
        "print(noten.get(\"Lina\"))\n",
        "print(noten.get(\"Isabelle\"))    # print(noten[\"Isabelle\"]) würde den Code abstürzen lassen"
      ],
      "metadata": {
        "colab": {
          "base_uri": "https://localhost:8080/"
        },
        "id": "QE-LJYVIwHj8",
        "outputId": "9120d1c0-c29f-4f93-e1dc-6e92c7bd6ea5"
      },
      "execution_count": null,
      "outputs": [
        {
          "output_type": "stream",
          "name": "stdout",
          "text": [
            "3\n",
            "None\n"
          ]
        }
      ]
    },
    {
      "cell_type": "markdown",
      "source": [
        "###Sammelwerte\n",
        "\n",
        "Die Ausgabe aller ***Schlüssel*** eines Dictionaries erfolgt über ```name.keys()```, die der ***Werte*** über ```name.values()```.\n",
        "\n",
        "Mit einem Stern vor dem Befehl erhalten wir die Ausgabe ohne **dict_** davor."
      ],
      "metadata": {
        "id": "Bs4Gq9QenKmf"
      }
    },
    {
      "cell_type": "code",
      "source": [
        "age = {\"Sina\": 45,\"Tina\": 10, \"Ina\":30}\n",
        "\n",
        "print(age.keys())\n",
        "print(*age.keys())\n",
        "\n",
        "print(*age.values())"
      ],
      "metadata": {
        "id": "YKGq9lcmHLiA",
        "colab": {
          "base_uri": "https://localhost:8080/"
        },
        "outputId": "e6e11670-e062-49a3-bfb3-a2fd248ff9d2"
      },
      "execution_count": null,
      "outputs": [
        {
          "output_type": "stream",
          "name": "stdout",
          "text": [
            "dict_keys(['Sina', 'Tina', 'Ina'])\n",
            "Sina Tina Ina\n",
            "45 10 30\n"
          ]
        }
      ]
    },
    {
      "cell_type": "markdown",
      "source": [
        "Über ```name.items()``` lassen sich die Schlüssel auch mit ihrem Werten als Tupel zusammen ausgeben."
      ],
      "metadata": {
        "id": "GqYXh1MFvhtf"
      }
    },
    {
      "cell_type": "code",
      "source": [
        "print(age.items())\n",
        "print(list(age.items())[2])   #Konvertieren des Tupel in eine Liste und Aufruf des 3. Elements"
      ],
      "metadata": {
        "colab": {
          "base_uri": "https://localhost:8080/"
        },
        "id": "pfAfMT8Qvlq3",
        "outputId": "894bedb2-fb96-4cca-e3d1-82b40802071d"
      },
      "execution_count": null,
      "outputs": [
        {
          "output_type": "stream",
          "name": "stdout",
          "text": [
            "dict_items([('Sina', 45), ('Tina', 10), ('Ina', 30)])\n",
            "('Ina', 30)\n"
          ]
        }
      ]
    },
    {
      "cell_type": "markdown",
      "source": [
        "## Verändern und Hinzufügen\n",
        "\n",
        "### Direkter Zugriff und Doppelbelegung\n",
        "\n",
        "Wenn wir während des Erstellens eines Dictionaries einen Schlüssel ausversehen zweimal (oder noch häufiger) belegen, wird sich das Dictionary immer nur den zuletzt eingetragenen Wert merken. Dieses Überschreiben ist aber auch die einfachste Methode, wie mir mittels direktem Zugriff Werte anpassen können.\n",
        "\n",
        "Wir können direkt einen Wert von einem Schlüssel verändern, indem wir direkt mittels eckiger Klammern auf den Schlüssel zugreifen.\n",
        "\n",
        "Falls der Schlüssel, auf den wir zugreifen wollen, noch nicht im Dictionary vorhanden ist, wird für diesen Schlüssel ein neuer Eintrag angelegt.\n",
        "\n"
      ],
      "metadata": {
        "id": "UglLm2KZHMHT"
      }
    },
    {
      "cell_type": "code",
      "source": [
        "farbe = {\"Luisa\": \"Gelb\", \n",
        "         \"Christa\": \"Rot\", \n",
        "         \"Elke\": \"Lila\",\n",
        "         \"Luisa\": \"Grasgrün\"}     # Hier belegen wir die Lieblingsfarbe von Luisa ein zweites Mal, dies überschreibt \"Gelb\"\n",
        "\n",
        "print(farbe)\n",
        "\n",
        "farbe[\"Luisa\"] = \"Gelb\"           # Direkter Zugriff auf den Wert Luisa\n",
        "\n",
        "print(farbe)\n",
        "\n",
        "farbe[\"Lisa\"] = \"Blau\"            # Der Wert Lisa existiert noch nicht, wird hiermit aber hinzugefügt\n",
        "\n",
        "print(farbe)"
      ],
      "metadata": {
        "id": "NLwfP-ufHOMT",
        "colab": {
          "base_uri": "https://localhost:8080/"
        },
        "outputId": "627d6871-eca2-44f5-b4c0-30b167ab9819"
      },
      "execution_count": null,
      "outputs": [
        {
          "output_type": "stream",
          "name": "stdout",
          "text": [
            "{'Luisa': 'Grasgrün', 'Christa': 'Rot', 'Elke': 'Lila'}\n",
            "{'Luisa': 'Gelb', 'Christa': 'Rot', 'Elke': 'Lila'}\n",
            "{'Luisa': 'Gelb', 'Christa': 'Rot', 'Elke': 'Lila', 'Lisa': 'Blau'}\n"
          ]
        }
      ]
    },
    {
      "cell_type": "markdown",
      "source": [
        "### Die ```update``` Methode\n",
        "\n",
        "Wenn wir ```update``` benutzen, muss das Argument dieser Funktion selber ein Dictionary sein. Wir können auf diese Weise auch gleichzeitig die Werte von bereits vorhandenen Schlüsseln anpassen und komplett neue Schlüssel:Werte Paare hinzufügen. Auf diese Weise lassen sich auch verschiedene Dictionaries zussamenführen."
      ],
      "metadata": {
        "id": "cCW5ux8iysoX"
      }
    },
    {
      "cell_type": "code",
      "source": [
        "farbe = {\"Luisa\": \"Gelb\", \n",
        "         \"Christa\": \"Rot\", \n",
        "         \"Elke\": \"Lila\"}\n",
        "\n",
        "farbe.update({\"Luisa\": \"Grün\",            # Luisa existiert bereits und der Wert wird verändert\n",
        "              \"Lisa\": \"Blau\"})            # Lisa wird neu hinzugefügt mit dem Wert \"Blau\"\n",
        "\n",
        "print(farbe)\n",
        "\n",
        "mehr_farben = {\"Tobias\": \"Schwarz\",\n",
        "               \"Elliot\": \"Pink\",\n",
        "               \"Kai\": \"Regenbogen\"}\n",
        "\n",
        "farbe.update(mehr_farben)                 # Das Dictionary mehr_farben wird zu farbe hinzugefügt\n",
        "\n",
        "print(farbe)"
      ],
      "metadata": {
        "id": "UUKOxMcsyxBB",
        "colab": {
          "base_uri": "https://localhost:8080/"
        },
        "outputId": "a3ffabf4-6e8c-4db3-f3b4-3b6c2751a2b9"
      },
      "execution_count": null,
      "outputs": [
        {
          "output_type": "stream",
          "name": "stdout",
          "text": [
            "{'Luisa': 'Grün', 'Christa': 'Rot', 'Elke': 'Lila', 'Lisa': 'Blau'}\n",
            "{'Luisa': 'Grün', 'Christa': 'Rot', 'Elke': 'Lila', 'Lisa': 'Blau', 'Tobias': 'Schwarz', 'Elliot': 'Pink', 'Kai': 'Regenbogen'}\n"
          ]
        }
      ]
    },
    {
      "cell_type": "markdown",
      "source": [
        "## Entfernen\n",
        "\n",
        "Es gibt verschiedenste Methoden, um Objekte aus einem Dictionary zu entfernen, welche alle verschiedene Eigenschaften haben. In verschiedenen Situationen sind verschiedene Methoden sinnvoll. \n",
        "\n",
        "Hier ist eine kurze Liste, gefolgt von Codebeispielen:\n",
        "\n",
        "- ```dict.pop(\"key\")``` wird den spezifizierten Schlüssel aus ```dict``` entfernen und den value von diesem spezifischen key ausgeben.\n",
        "- ```dict.popitem()``` hingegen entfernt das Item, welches zuletzt hinzugefügt wurde und gibt sowohl value, als auch key in Form eines Tupels zurück.\n",
        "- ```del dict[\"key\"]``` wird das von key spezifizierte Item entfernen und keine Rückgabe geben.\n",
        "\n",
        "> Vorsicht: ```del dict``` entfernt das gesamte Dictionary\n",
        "\n",
        "- ```dict.clear()``` hingegen entfernt sämtliche Inhalte aus dict, aber nicht dict selbst. Es bleibt ein leeres Dictionary zurück."
      ],
      "metadata": {
        "id": "L6LflOeZHTRj"
      }
    },
    {
      "cell_type": "code",
      "source": [
        "haustier = {\"Sarah\": \"Zwei Hunde\",\n",
        "            \"Moritz\": \"Keine\",\n",
        "            \"Tobias\": \"Zwei Wellensittiche und eine Katze\",\n",
        "            \"Noah\": \"Fische\",\n",
        "            \"Clara\": \"Dackel\",\n",
        "            \"Coco\": \"Zwei Kaninchen\"}\n",
        "\n",
        "moritz = haustier.pop(\"Moritz\")             # Entfernt das Item Moritz und gibt den Wert zurück\n",
        "print(moritz)\n",
        "print(haustier)\n",
        "\n",
        "letzte = haustier.popitem()                 # Entfernt das letzte Item und gibt das gesamte Item zurück\n",
        "print(letzte)\n",
        "print(haustier)\n",
        "\n",
        "del haustier[\"Noah\"]                        # Entfernt das Item Noah\n",
        "print(haustier)\n",
        "\n",
        "haustier.clear()                            # Entfernt alle Inhalte von haustier\n",
        "print(haustier)"
      ],
      "metadata": {
        "id": "RlBPSgeiHWdi",
        "colab": {
          "base_uri": "https://localhost:8080/"
        },
        "outputId": "b97b742f-9123-4d11-eef0-f637a0615f30"
      },
      "execution_count": null,
      "outputs": [
        {
          "output_type": "stream",
          "name": "stdout",
          "text": [
            "Keine\n",
            "{'Sarah': 'Zwei Hunde', 'Tobias': 'Zwei Wellensittiche und eine Katze', 'Noah': 'Fische', 'Clara': 'Dackel', 'Coco': 'Zwei Kaninchen'}\n",
            "('Coco', 'Zwei Kaninchen')\n",
            "{'Sarah': 'Zwei Hunde', 'Tobias': 'Zwei Wellensittiche und eine Katze', 'Noah': 'Fische', 'Clara': 'Dackel'}\n",
            "<class 'tuple'>\n",
            "{'Sarah': 'Zwei Hunde', 'Tobias': 'Zwei Wellensittiche und eine Katze', 'Clara': 'Dackel'}\n",
            "{}\n"
          ]
        }
      ]
    },
    {
      "cell_type": "code",
      "source": [
        "haustier = {\"Sarah\": \"Zwei Hunde\",\n",
        "            \"Moritz\": \"Keine\",\n",
        "            \"Tobias\": \"Zwei Wellensittiche und eine Katze\",\n",
        "            \"Noah\": \"Fische\",\n",
        "            \"Clara\": \"Dackel\",\n",
        "            \"Coco\": \"Zwei Kaninchen\"}\n",
        "\n",
        "del haustier                                # Entfernt das Dictionary haustier komplett\n",
        "print(haustier)"
      ],
      "metadata": {
        "colab": {
          "base_uri": "https://localhost:8080/",
          "height": 205
        },
        "id": "acONYb0sTlgt",
        "outputId": "8bc32610-9299-4b8b-cb65-893ebeea1085"
      },
      "execution_count": null,
      "outputs": [
        {
          "output_type": "error",
          "ename": "NameError",
          "evalue": "ignored",
          "traceback": [
            "\u001b[0;31m---------------------------------------------------------------------------\u001b[0m",
            "\u001b[0;31mNameError\u001b[0m                                 Traceback (most recent call last)",
            "\u001b[0;32m<ipython-input-17-7f86e6d2fe73>\u001b[0m in \u001b[0;36m<module>\u001b[0;34m()\u001b[0m\n\u001b[1;32m      7\u001b[0m \u001b[0;34m\u001b[0m\u001b[0m\n\u001b[1;32m      8\u001b[0m \u001b[0;32mdel\u001b[0m \u001b[0mhaustier\u001b[0m                                \u001b[0;31m# Entfernt das Dictionary haustier komplett\u001b[0m\u001b[0;34m\u001b[0m\u001b[0;34m\u001b[0m\u001b[0m\n\u001b[0;32m----> 9\u001b[0;31m \u001b[0mprint\u001b[0m\u001b[0;34m(\u001b[0m\u001b[0mhaustier\u001b[0m\u001b[0;34m)\u001b[0m\u001b[0;34m\u001b[0m\u001b[0;34m\u001b[0m\u001b[0m\n\u001b[0m",
            "\u001b[0;31mNameError\u001b[0m: name 'haustier' is not defined"
          ]
        }
      ]
    },
    {
      "cell_type": "markdown",
      "source": [
        "## JSON\n",
        "\n",
        "JSON steht für *JavaScript Object Notation*. Es handelt sich dabei um ein kompaktes Datenformat zum Austausch von Daten zwischen Anwendungen. Mit JSON können strukturierte Daten lesbar gespeichert werden. Anwendung findet JSON vor allem bei Webanwendungen und mobilen Apps, aber auch, um \"Zustände\" von Programmen zu speichern (sowas wie die Variablen, die im Arbeitsspeicher gespeichert wurden und später nochmal benutzt werden sollen).\n",
        "\n",
        "Für uns ist zunächst nur wichtig, dass wir mit JSON unsere Dictionaries auf der Festplatte (und nicht nur im Arbeitsspeicher) abspeichern können, um sie beispielsweise später erneut zu laden oder um sie zu verschicken.\n",
        "\n",
        "JSON müssen wir als Package bei Python importieren, wobei das Package direkt von Python angeboten wird. Es muss also nicht extra von einem Drittanbieter heruntergeladen werden."
      ],
      "metadata": {
        "id": "G6ZtReGxJj_M"
      }
    },
    {
      "cell_type": "markdown",
      "source": [
        "### Eine JSON-Variable erstellen\n",
        "\n",
        "JSON-Variablen sind für Python einfach Strings mit einer bestimmten Formatierung. Hierbei werden von unserem Dictionary die Keys und Values ausgelesen, um sie hinterher in einem String zusammenzufassen."
      ],
      "metadata": {
        "id": "CBSbZ11Lm8mD"
      }
    },
    {
      "cell_type": "code",
      "source": [
        "import json\n",
        "\n",
        "ein_dictionary_zum_speichern = {\n",
        "    \"Januar\": 1, \n",
        "    \"Februar\": 2, \n",
        "    \"März\": 3, \n",
        "    \"April\": 4, \n",
        "    \"Mai\": 5, \n",
        "    \"Juni\": 6, \n",
        "    \"Juli\": 7, \n",
        "    \"August\": 8, \n",
        "    \"September\": 9, \n",
        "    \"Oktober\": 10, \n",
        "    \"November\": 11, \n",
        "    \"Dezember\": 12, \n",
        "}\n",
        "\n",
        "json_dict = json.dumps(ein_dictionary_zum_speichern)\n",
        "print(json_dict)\n",
        "print(type(json_dict))\n",
        "\n",
        "json_dict2 = json.dumps(ein_dictionary_zum_speichern, indent=4)\n",
        "\n",
        "print(json_dict2)\n",
        "print(type(json_dict2))\n",
        "\n",
        "json_dict3 = json.dumps(ein_dictionary_zum_speichern, indent=4, sort_keys=True)\n",
        "\n",
        "print(json_dict3)\n",
        "print(type(json_dict3))"
      ],
      "metadata": {
        "id": "RjOmhuGFJlHo",
        "colab": {
          "base_uri": "https://localhost:8080/"
        },
        "outputId": "ba2ea4f9-a54b-4bcd-973a-44e1d9ed309e"
      },
      "execution_count": null,
      "outputs": [
        {
          "output_type": "stream",
          "name": "stdout",
          "text": [
            "{\"Januar\": 1, \"Februar\": 2, \"M\\u00e4rz\": 3, \"April\": 4, \"Mai\": 5, \"Juni\": 6, \"Juli\": 7, \"August\": 8, \"September\": 9, \"Oktober\": 10, \"November\": 11, \"Dezember\": 12}\n",
            "<class 'str'>\n",
            "{\n",
            "    \"Januar\": 1,\n",
            "    \"Februar\": 2,\n",
            "    \"M\\u00e4rz\": 3,\n",
            "    \"April\": 4,\n",
            "    \"Mai\": 5,\n",
            "    \"Juni\": 6,\n",
            "    \"Juli\": 7,\n",
            "    \"August\": 8,\n",
            "    \"September\": 9,\n",
            "    \"Oktober\": 10,\n",
            "    \"November\": 11,\n",
            "    \"Dezember\": 12\n",
            "}\n",
            "<class 'str'>\n",
            "{\n",
            "    \"April\": 4,\n",
            "    \"August\": 8,\n",
            "    \"Dezember\": 12,\n",
            "    \"Februar\": 2,\n",
            "    \"Januar\": 1,\n",
            "    \"Juli\": 7,\n",
            "    \"Juni\": 6,\n",
            "    \"Mai\": 5,\n",
            "    \"M\\u00e4rz\": 3,\n",
            "    \"November\": 11,\n",
            "    \"Oktober\": 10,\n",
            "    \"September\": 9\n",
            "}\n",
            "<class 'str'>\n"
          ]
        }
      ]
    },
    {
      "cell_type": "markdown",
      "source": [
        "### Eine JSON-Variable speichern\n",
        "Wenn wir eine JSON-Variable speichern möchten, können wir sie einfach in eine Datei schreiben, da wir nach dem Erstellen der Variable einen String erhalten. Die gespeicherte Datei landet in dem selben Verzeichnis, in dem auch unser Python-Skript liegt.\n",
        "\n",
        "ACHTUNG: Bei Colab landet die Datei theoretisch in eurer Google-Cloud, beim Neustart des Kernels kann sie jedoch gelöscht werden! Um sicher zu gehen, dass ihr die Datei nicht verliert, könnt ihr sie ganz einfach herunterladen (Rechtsklick auf die Datei und danach \"Herunterladen\" oder \"Download\")."
      ],
      "metadata": {
        "id": "et1hq_3ane2r"
      }
    },
    {
      "cell_type": "code",
      "source": [
        "import os\n",
        "print(os.getcwd())\n",
        "\n",
        "with open(\"test.json\", \"w\") as file:\n",
        "    file.write(json_dict2)"
      ],
      "metadata": {
        "colab": {
          "base_uri": "https://localhost:8080/"
        },
        "id": "LeaEEVl2nqV4",
        "outputId": "a634fd9d-5f2f-461c-80f7-46428d4a04f0"
      },
      "execution_count": null,
      "outputs": [
        {
          "output_type": "stream",
          "name": "stdout",
          "text": [
            "/content\n"
          ]
        }
      ]
    },
    {
      "cell_type": "markdown",
      "source": [
        "### Eine JSON-Datei auslesen und in einer JSON-Variablen speichern\n",
        "Wenn wir eine JSON-Datei gegeben bekommen, können wir sie wie eine normale Textdatei auslesen und in einem String speichern. Der String lässt sich hinterher wieder in ein Dictionary umwandeln."
      ],
      "metadata": {
        "id": "8E8spTeGocNW"
      }
    },
    {
      "cell_type": "code",
      "source": [
        "# Datei auslesen (ganz normal wie bei Textdateien)\n",
        "with open(\"test.json\", \"r\") as file:\n",
        "    json_string = file.read()\n",
        "print(json_string)\n",
        "print(type(json_string))\n",
        "\n",
        "# String in Dictionary umwandeln\n",
        "json_dict = json.loads(json_string)\n",
        "print(json_dict)\n",
        "print(type(json_dict))\n",
        "print(json_dict[\"Januar\"])"
      ],
      "metadata": {
        "colab": {
          "base_uri": "https://localhost:8080/"
        },
        "id": "nRc22pALorSM",
        "outputId": "839ff992-e1af-4c26-b6ff-2bc6e423954c"
      },
      "execution_count": null,
      "outputs": [
        {
          "output_type": "stream",
          "name": "stdout",
          "text": [
            "{\n",
            "    \"Januar\": 1,\n",
            "    \"Februar\": 2,\n",
            "    \"M\\u00e4rz\": 3,\n",
            "    \"April\": 4,\n",
            "    \"Mai\": 5,\n",
            "    \"Juni\": 6,\n",
            "    \"Juli\": 7,\n",
            "    \"August\": 8,\n",
            "    \"September\": 9,\n",
            "    \"Oktober\": 10,\n",
            "    \"November\": 11,\n",
            "    \"Dezember\": 12\n",
            "}\n",
            "<class 'str'>\n",
            "{'Januar': 1, 'Februar': 2, 'März': 3, 'April': 4, 'Mai': 5, 'Juni': 6, 'Juli': 7, 'August': 8, 'September': 9, 'Oktober': 10, 'November': 11, 'Dezember': 12}\n",
            "<class 'dict'>\n",
            "1\n"
          ]
        }
      ]
    },
    {
      "cell_type": "markdown",
      "source": [
        "### Dictionary direkt in JSON-Datei speichern und hinterher wieder auslesen\n",
        "Manchmal braucht man den Umweg über den String nicht unbedingt, da er unnötig viel Rechenzeit benötigt. Hierfür gibt es in dem json-Package von Python die Funktion ```dump``` (statt ```dumps```), die unser Dictionary automatisch in eine Datei schreibt. \n",
        "\n",
        "Das Auslesen funktioniert sehr ähnlich wie das Auslesen der Text-Datei mit dem String. Hier wird nun jedoch ```json.load``` statt ```json.loads``` benötigt"
      ],
      "metadata": {
        "id": "fdUGfxGNp4E-"
      }
    },
    {
      "cell_type": "code",
      "source": [
        "with open(\"test_dump.json\", \"w\") as file:\n",
        "    json.dump(json_dict, file, indent=4)\n",
        "    \n",
        "with open(\"test_dump.json\", \"r\") as file:\n",
        "    json_dict_load = json.load(file)\n",
        "print(json_dict_load)"
      ],
      "metadata": {
        "colab": {
          "base_uri": "https://localhost:8080/"
        },
        "id": "lW-wknvap3iQ",
        "outputId": "adf52f92-5e8e-4692-8ce1-8430cb10f94f"
      },
      "execution_count": null,
      "outputs": [
        {
          "output_type": "stream",
          "name": "stdout",
          "text": [
            "{'Januar': 1, 'Februar': 2, 'März': 3, 'April': 4, 'Mai': 5, 'Juni': 6, 'Juli': 7, 'August': 8, 'September': 9, 'Oktober': 10, 'November': 11, 'Dezember': 12}\n"
          ]
        }
      ]
    },
    {
      "cell_type": "markdown",
      "source": [
        "### Längeres Beispiel"
      ],
      "metadata": {
        "id": "7nKgE74YJ1WY"
      }
    },
    {
      "cell_type": "code",
      "source": [
        "# Idee für Dictionaries:\n",
        "\n",
        "  # Du hast ein soziales Netzwerk gegründet und willst, dass sich Leute mit ihrem Account & Passwort anmelden können\n",
        "  # impliziert: neue Accounts zum dictionary hinzufügen\n",
        "  #             einloggbare accounts (pop bei Login raus aus einlogbare accounts)\n",
        "  #             neue passwörter(update)\n",
        "  #             Profileinträge abrufen (siehe \"Karl\")\n",
        "  #             Nutzer beschweren sich über identische Passwörter (items, values, keys -Auswertung für Nachricht an Benutzer)\n",
        "  #                   -> Sammlung aller Accountnamen / Passwortnamen\n",
        "  #             keine doppelten Namen als Registrierung zulassen\n",
        "  #             gesamte Liste der Accounts, die online sind, nach Serverabsturz leeren\n",
        "\n",
        "\n",
        "# Grundstamm von Accounts (füge 2 weitere an)\n",
        "accounts = {\"Hans Müller\":\"limonensalat\",\"Jutta Peterson\":\"sesamöffnedich\",\"Hans Müller\":\"passwort\"}  # Vorsicht: Doppelbelegung des Namens! Aufgabe: Verhindere dies.\n",
        "\n",
        "# Accounts werden ausgegeben\n",
        "print(accounts)       #alles wird ausgegeben\n",
        "\n",
        "# ein neuer Nutzer registriert sich und wird dem dict hinzugefügt\n",
        "accounts[\"Irina Grundig\"] = \"liebe123\"\n",
        "\n",
        "# Jutta meldet sich mit ihrem Passwort an\n",
        "print(accounts[\"Jutta Peterson\"])   # der Key zu Jutta wird ausgegeben\n",
        "\n",
        "# nochmal Ausgabe ohne Fehlerwert bei falscher Zuweisung\n",
        "print(accounts.get(\"Meier\"))        # da nicht vorhanden über get KEINE Fehlermeldung statt über accounts[\"Meier\"]\n",
        "print(accounts.get(\"Hans Müller\"))  # der Key zu Hans Müller wird ausgegeben\n",
        "\n",
        "# Ein Profil-Datenblatt eines Accounts\n",
        "print(\"\\nHier kommt Karls Profil:\")\n",
        "# auch Zahlen und Listen können Keys sein\n",
        "person = {\"Vorname\":\"Karl\",\"Nachname\":\"Meier\",\"Alter\":11,\"likes\":[],\"dislikes\":[\"Pferde\",\"Schlümpfe\"],\"Admin\":False} \n",
        "print(person[\"Alter\"])\n",
        "print(person[\"dislikes\"])\n",
        "\n",
        "# Hierüber könnten Listen von Benutzernamen und Passwörtern erstellt werden\n",
        "print(\"\\nSchlüssel und Werte:\")\n",
        "print(accounts.keys())      #gibt alle keys als Liste aus\n",
        "print(accounts.values())    # gibt alle accounts als Liste aus\n",
        "print(list(accounts.values()))    # als Liste wieder einzeln abrufbar usw.\n",
        "print(list(accounts.items()))       # Beides kombiniert (Tupel-Liste)\n",
        "\n",
        "# Nachträglich werden alle Nutzer mit identischem Passwort\n",
        "\n",
        "#Hans kann sich nicht doppelt anmelden\n",
        "print(\"\\nHans meldet sich an:\")\n",
        "online_acc = accounts\n",
        "online_acc.pop('Hans Müller')\n",
        "print(online_acc)\n",
        "\n",
        "# Update des Passworts\n",
        "print(\"\\nEin Nutzer erstellt ein neues Passwort für seinen Account:\")\n",
        "new_passwords = {\"Jutta Peterson\":\"mohnöffnetsich\"}\n",
        "accounts.update(new_passwords)\n",
        "print(accounts)\n",
        "\n",
        "# beim Serverneustart werden alle Online-Nutzerprofile gelöscht\n",
        "online_acc.clear()\n",
        "print(online_acc)"
      ],
      "metadata": {
        "id": "GtoifvsDynhP",
        "colab": {
          "base_uri": "https://localhost:8080/"
        },
        "outputId": "07a36f3a-5d03-4507-d4a7-d43edbb31936"
      },
      "execution_count": null,
      "outputs": [
        {
          "output_type": "stream",
          "name": "stdout",
          "text": [
            "{'Hans Müller': 'passwort', 'Jutta Peterson': 'sesamöffnedich'}\n",
            "sesamöffnedich\n",
            "None\n",
            "passwort\n",
            "\n",
            "Hier kommt Karls Profil:\n",
            "11\n",
            "['Pferde', 'Schlümpfe']\n",
            "\n",
            "Schlüssel und Werte:\n",
            "dict_keys(['Hans Müller', 'Jutta Peterson', 'Irina Grundig'])\n",
            "dict_values(['passwort', 'sesamöffnedich', 'liebe123'])\n",
            "['passwort', 'sesamöffnedich', 'liebe123']\n",
            "[('Hans Müller', 'passwort'), ('Jutta Peterson', 'sesamöffnedich'), ('Irina Grundig', 'liebe123')]\n",
            "\n",
            "Hans meldet sich an:\n",
            "{'Jutta Peterson': 'sesamöffnedich', 'Irina Grundig': 'liebe123'}\n",
            "\n",
            "Ein Nutzer erstellt ein neues Passwort für seinen Account:\n",
            "{'Jutta Peterson': 'mohnöffnetsich', 'Irina Grundig': 'liebe123'}\n",
            "{}\n"
          ]
        }
      ]
    },
    {
      "cell_type": "markdown",
      "source": [
        "## Aufgaben\n",
        "\n",
        "### Steckbrief\n",
        "\n",
        "Erstelle einen Steckbrief, bestehend aus Name, Alter, Hobbys (Liste möglich), Lieblingsfilm ..., mithilfe eines Dictionaries.\n",
        "\n",
        "Ermittle anschließend die Anzahl der beinhalteten Eigenschaften per len()-Funktion.\n",
        "\n",
        "Lösche nun deinen Lieblingsfilm aus dem Dictionary und gib die neue Version des Steckbriefs auf der Konsole aus.\n",
        "\n",
        "Überprüfe mithilfe des „in“-Operators, ob der Steckbrief dein Alter enthält. Wenn ja, erhöhe es um ein Jahr."
      ],
      "metadata": {
        "id": "sfibEM5vV8nA"
      }
    },
    {
      "cell_type": "code",
      "source": [
        ""
      ],
      "metadata": {
        "id": "7RXercTQKlKD"
      },
      "execution_count": null,
      "outputs": []
    },
    {
      "cell_type": "markdown",
      "source": [
        "#### Lösungsvorschlag"
      ],
      "metadata": {
        "id": "QxWS-jDsKlhu"
      }
    },
    {
      "cell_type": "code",
      "source": [
        "steckbrief = {\"Name\": \"Leonie\", \"Alter\": 15, \"Hobbys\":[\"Hockey spielen\", \"Singen\"], \"Lieblingsfilm\": \"Harry Potter und der Feuerkelch\"}\n",
        "\n",
        "print(len(steckbrief))\n",
        "\n",
        "del steckbrief[\"Lieblingsfilm\"]\n",
        "print(steckbrief)\n",
        "\n",
        "if \"Alter\" in steckbrief:\n",
        "    steckbrief[\"Alter\"] += 1\n",
        "    print(steckbrief[\"Alter\"])"
      ],
      "metadata": {
        "colab": {
          "base_uri": "https://localhost:8080/"
        },
        "id": "0Le0StSIWtGq",
        "outputId": "8091258d-9921-4cb6-afb9-06fad72fcfa9"
      },
      "execution_count": null,
      "outputs": [
        {
          "output_type": "stream",
          "name": "stdout",
          "text": [
            "4\n",
            "{'Name': 'Leonie', 'Alter': 15, 'Hobbys': ['Hockey spielen', 'Singen']}\n",
            "16\n"
          ]
        }
      ]
    },
    {
      "cell_type": "markdown",
      "source": [
        "### JSON - Schulklasse\n",
        "\n",
        "Erstelle fünf Schüler als einzelne Dictionaries, die jeweils den Namen, das Alter und ein Boolean enthalten, ob die jeweilige Person ein Haustier besitzt oder nicht.\n",
        "\n",
        "Füge diese Schüler nun zu einer Schulklasse in einem gemeinsamen Dictionary zusammen und gib dieses auf der Konsole aus.\n",
        "\n",
        "Konvertiere die Schulklasse jetzt in JSON. Gib dieses sowie den neuen Datentyp der Schulklasse zum Vergleich auf der Konsole aus. Welche Unterschiede kannst du feststellen?"
      ],
      "metadata": {
        "id": "9te1uxhhJq6k"
      }
    },
    {
      "cell_type": "code",
      "source": [
        ""
      ],
      "metadata": {
        "id": "pJDX7NEfJuJN"
      },
      "execution_count": null,
      "outputs": []
    },
    {
      "cell_type": "markdown",
      "source": [
        "#### Lösungsvorschlag"
      ],
      "metadata": {
        "id": "06Ikf2Wsv-rZ"
      }
    },
    {
      "cell_type": "code",
      "source": [
        "import json\n",
        "\n",
        "schueler1 = {\"Name\": \"Leonie\", \"Alter\": 15, \"Haustier\": False}\n",
        "schueler2 = {\"Name\": \"Theo\", \"Alter\": 13, \"Haustier\": True}\n",
        "schueler3 = {\"Name\": \"Amelie\", \"Alter\": 14, \"Haustier\": False}\n",
        "schueler4 = {\"Name\": \"Max\", \"Alter\": 14, \"Haustier\": False}\n",
        "schueler5 = {\"Name\": \"Julian\", \"Alter\": 16, \"Haustier\": True}\n",
        "\n",
        "klasse = {\"Schueler1\": schueler1, \n",
        "          \"Schueler2\": schueler2, \n",
        "          \"Schueler3\": schueler3, \n",
        "          \"Schueler4\": schueler4, \n",
        "          \"Schueler5\": schueler5}\n",
        "print(klasse)\n",
        "\n",
        "print(\"Datentyp vor der Konvertierung: \", type(klasse))\n",
        "json_string = json.dumps(klasse)\n",
        "print(json_string)\n",
        "print(\"Datentyp nach der Konvertierung\", type(json_string))"
      ],
      "metadata": {
        "colab": {
          "base_uri": "https://localhost:8080/"
        },
        "id": "Dt_tL6OCwCyX",
        "outputId": "0edd5b76-ef3e-4a78-9356-d19c26d4028c"
      },
      "execution_count": null,
      "outputs": [
        {
          "output_type": "stream",
          "name": "stdout",
          "text": [
            "{'Schueler1': {'Name': 'Leonie', 'Alter': 15, 'Haustier': False}, 'Schueler2': {'Name': 'Theo', 'Alter': 13, 'Haustier': True}, 'Schueler3': {'Name': 'Amelie', 'Alter': 14, 'Haustier': False}, 'Schueler4': {'Name': 'Max', 'Alter': 14, 'Haustier': False}, 'Schueler5': {'Name': 'Julian', 'Alter': 16, 'Haustier': True}}\n",
            "Datatype before conversion:  <class 'dict'>\n",
            "{\"Schueler1\": {\"Name\": \"Leonie\", \"Alter\": 15, \"Haustier\": false}, \"Schueler2\": {\"Name\": \"Theo\", \"Alter\": 13, \"Haustier\": true}, \"Schueler3\": {\"Name\": \"Amelie\", \"Alter\": 14, \"Haustier\": false}, \"Schueler4\": {\"Name\": \"Max\", \"Alter\": 14, \"Haustier\": false}, \"Schueler5\": {\"Name\": \"Julian\", \"Alter\": 16, \"Haustier\": true}}\n",
            "Datatype after conversion <class 'str'>\n"
          ]
        }
      ]
    }
  ]
}