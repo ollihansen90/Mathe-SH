{
  "nbformat": 4,
  "nbformat_minor": 0,
  "metadata": {
    "colab": {
      "provenance": [],
      "authorship_tag": "ABX9TyOK1BbKm1lxwYdKuwRDKUYn",
      "include_colab_link": true
    },
    "kernelspec": {
      "name": "python3",
      "display_name": "Python 3"
    },
    "language_info": {
      "name": "python"
    }
  },
  "cells": [
    {
      "cell_type": "markdown",
      "metadata": {
        "id": "view-in-github",
        "colab_type": "text"
      },
      "source": [
        "<a href=\"https://colab.research.google.com/github/ollihansen90/Mathe-SH/blob/main/Bezierkurven.ipynb\" target=\"_parent\"><img src=\"https://colab.research.google.com/assets/colab-badge.svg\" alt=\"Open In Colab\"/></a>"
      ]
    },
    {
      "cell_type": "markdown",
      "source": [
        "# Bezierkurven\n",
        "<img src=\"https://upload.wikimedia.org/wikipedia/commons/thumb/c/cb/Bezier-cast-3.svg/600px-Bezier-cast-3.svg.png\" width=50%>"
      ],
      "metadata": {
        "id": "UODDrXW9CHRY"
      }
    },
    {
      "cell_type": "code",
      "execution_count": 17,
      "metadata": {
        "id": "7X5gTD3808S0"
      },
      "outputs": [],
      "source": [
        "import numpy as np\n",
        "import matplotlib.pyplot as plt"
      ]
    },
    {
      "cell_type": "code",
      "source": [
        "punkte = np.array([\n",
        "                    [0,1],\n",
        "                    [1,0],\n",
        "                   ])\n",
        "\n",
        "neuerPunkt = [0,0] # Hier ändern\n",
        "\n",
        "plt.figure()\n",
        "plt.plot(punkte[:,0], punkte[:,1], \"b-x\")\n",
        "plt.plot(neuerPunkt[0], neuerPunkt[1], \"ro\")\n",
        "plt.grid()\n",
        "plt.axis(\"equal\")\n",
        "plt.show()"
      ],
      "metadata": {
        "colab": {
          "base_uri": "https://localhost:8080/",
          "height": 265
        },
        "id": "9y1q9aR90_uU",
        "outputId": "f330e276-f3a8-4745-bc4f-ddd23d72ba17"
      },
      "execution_count": 18,
      "outputs": [
        {
          "output_type": "display_data",
          "data": {
            "text/plain": [
              "<Figure size 432x288 with 1 Axes>"
            ],
            "image/png": "[encoded data removed]"
          },
          "metadata": {
            "needs_background": "light"
          }
        }
      ]
    }
  ]
}