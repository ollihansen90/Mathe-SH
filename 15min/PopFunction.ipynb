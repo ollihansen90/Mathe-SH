{
  "nbformat": 4,
  "nbformat_minor": 0,
  "metadata": {
    "colab": {
      "provenance": [],
      "authorship_tag": "ABX9TyN9S60Rw6r0mQPF+MzIsSHO",
      "include_colab_link": true
    },
    "kernelspec": {
      "name": "python3",
      "display_name": "Python 3"
    },
    "language_info": {
      "name": "python"
    }
  },
  "cells": [
    {
      "cell_type": "markdown",
      "metadata": {
        "id": "view-in-github",
        "colab_type": "text"
      },
      "source": [
        "<a href=\"https://colab.research.google.com/github/ollihansen90/Mathe-SH/blob/main/15min/PopFunction.ipynb\" target=\"_parent\"><img src=\"https://colab.research.google.com/assets/colab-badge.svg\" alt=\"Open In Colab\"/></a>"
      ]
    },
    {
      "cell_type": "markdown",
      "source": [
        "# 15-Minuten-Challenge: Pop-Funktion\n",
        "Die Pop-Funktion ist eine Funktion, die ein Element aus einer Liste herausnimmt und zurückgibt. Die Liste wird dabei kürzer. \n",
        "\n",
        "Hat man beispielsweise die Liste ```liste = [0,1,3,9,1,1,5,3,2]``` und ruft ```liste.pop(1)``` auf, so wird das erste Element der Liste entfernt, sodass die Liste nun nur noch die Einträge ```[0,3,9,1,1,5,3,2]``` hat!\n",
        "\n",
        "Implementiere eine Funktion ```pop()```, die als Übergabeparameter eine Liste und einen Index erhält und den Wert an der Indexstelle und die Liste ohne den Wert zurückgibt! Wird kein Index übergeben, so soll das nullte Element entfernt und zurückgegeben werden."
      ],
      "metadata": {
        "id": "ToVeG9-raTqn"
      }
    },
    {
      "cell_type": "code",
      "execution_count": 9,
      "metadata": {
        "colab": {
          "base_uri": "https://localhost:8080/"
        },
        "id": "0zgdI2R8YqHQ",
        "outputId": "9d19c9cc-d7d0-40ff-c2b8-e259987e45e1"
      },
      "outputs": [
        {
          "output_type": "stream",
          "name": "stdout",
          "text": [
            "(9, [0, 1, 3, 1, 1, 5, 3, 2])\n",
            "9 [0, 1, 3, 1, 1, 5, 3, 2]\n"
          ]
        }
      ],
      "source": [
        "liste = [0,1,3,9,1,1,5,3,2]\n",
        "\n",
        "def pop(liste, index=0):\n",
        "    wert = 0\n",
        "    liste_neu = liste\n",
        "    return wert, liste_neu\n",
        "\n",
        "print(pop(liste, 3))\n",
        "print(liste.pop(3), liste)"
      ]
    }
  ]
}