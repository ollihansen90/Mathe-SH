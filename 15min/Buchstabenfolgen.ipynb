{
  "nbformat": 4,
  "nbformat_minor": 0,
  "metadata": {
    "colab": {
      "provenance": [],
      "authorship_tag": "ABX9TyOMAG7oTi43VjEjyyGQdBFP",
      "include_colab_link": true
    },
    "kernelspec": {
      "name": "python3",
      "display_name": "Python 3"
    },
    "language_info": {
      "name": "python"
    }
  },
  "cells": [
    {
      "cell_type": "markdown",
      "metadata": {
        "id": "view-in-github",
        "colab_type": "text"
      },
      "source": [
        "<a href=\"https://colab.research.google.com/github/ollihansen90/Mathe-SH/blob/main/15min/Buchstabenfolgen.ipynb\" target=\"_parent\"><img src=\"https://colab.research.google.com/assets/colab-badge.svg\" alt=\"Open In Colab\"/></a>"
      ]
    },
    {
      "cell_type": "markdown",
      "source": [
        "# 15-Minuten-Challenge - Buchstabenfolgen\n",
        "Olli ist ganz fasziniert von dem [Wikipedia-Artikel über Python](https://de.wikipedia.org/wiki/Python_(Programmiersprache))! Er fragt sich jedoch, wie viele \"E\" in dem Artikel sind. Kannst du ihm helfen?\n",
        "\n",
        "*Vorbereitung:* Im folgenden Codeblock wird zunächst der Wikipedia-Artikel al s Text geladen. Ebenfalls wird ein String zur Verfügung gestellt, in dem alle (im Deutschen benutzten) Buchstaben enthält."
      ],
      "metadata": {
        "id": "K_mjf2mUTzO4"
      }
    },
    {
      "cell_type": "code",
      "execution_count": 10,
      "metadata": {
        "id": "3fSRxM1JOz9i",
        "colab": {
          "base_uri": "https://localhost:8080/"
        },
        "outputId": "f5ece061-7f7c-439b-b9f7-30fef876097b"
      },
      "outputs": [
        {
          "output_type": "stream",
          "name": "stdout",
          "text": [
            "abcdefghijklmnopqrstuvwxyzäöüß\n"
          ]
        }
      ],
      "source": [
        "import requests\n",
        "from bs4 import BeautifulSoup\n",
        "url = \"https://de.wikipedia.org/wiki/Python_(Programmiersprache)\"\n",
        "soup = BeautifulSoup(requests.get(url).text, 'html.parser')\n",
        "text = soup.text\n",
        "\n",
        "buchstaben = \"abcdefghijklmnopqrstuvwxyzäöüß\"\n",
        "print(buchstaben)"
      ]
    },
    {
      "cell_type": "markdown",
      "source": [
        "## Teilaufgabe 1\n",
        "Erstelle ein Dictionary, in dem du als Keys die Buchstaben und als Values die jeweilige Anzahl speicherst.\n",
        "\n",
        "*Hinweis:* Der Buchstabe T kommt 2733 Mal vor. Wenn in deinem Dictionary der gleiche Wert bei T steht, hast du es richtig gemacht!"
      ],
      "metadata": {
        "id": "j6Ng-iosU-Nn"
      }
    },
    {
      "cell_type": "code",
      "source": [],
      "metadata": {
        "id": "41Y8wDs1U9Gt"
      },
      "execution_count": null,
      "outputs": []
    },
    {
      "cell_type": "markdown",
      "source": [
        "## Teilaufgabe 2\n",
        "Olli ist ganz begeistert von der Anzahl der E in dem Text! Jetzt fragt er sich allerdings, wie oft welcher Buchstabe auf ein E folgt... "
      ],
      "metadata": {
        "id": "L7NnTnrqVxgK"
      }
    },
    {
      "cell_type": "code",
      "source": [],
      "metadata": {
        "id": "mEmXIwuDWizu"
      },
      "execution_count": null,
      "outputs": []
    }
  ]
}