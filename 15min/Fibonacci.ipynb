{
  "nbformat": 4,
  "nbformat_minor": 0,
  "metadata": {
    "colab": {
      "provenance": [],
      "authorship_tag": "ABX9TyOZetrFN02dVedp/YgtdKwI",
      "include_colab_link": true
    },
    "kernelspec": {
      "name": "python3",
      "display_name": "Python 3"
    },
    "language_info": {
      "name": "python"
    }
  },
  "cells": [
    {
      "cell_type": "markdown",
      "metadata": {
        "id": "view-in-github",
        "colab_type": "text"
      },
      "source": [
        "<a href=\"https://colab.research.google.com/github/ollihansen90/Mathe-SH/blob/main/15min/Fibonacci.ipynb\" target=\"_parent\"><img src=\"https://colab.research.google.com/assets/colab-badge.svg\" alt=\"Open In Colab\"/></a>"
      ]
    },
    {
      "cell_type": "markdown",
      "source": [
        "# 15-Minuten-Challenge: Fibonacci\n",
        "Erstelle eine Funktion ```fibonacci```, die zwei Startwerte ```a``` und ```b```, sowie eine Zahl ```n``` erhält. Die Rückgabe soll die ```n```-te Fibonacci-Zahl sein!\n",
        "\n",
        "Die Fibonacci-Folge geht so: ```1, 1, 2, 3, 5, 8, 13, ...``` Die ```n```-te Zahl ist also die Summe ihrer beiden Vorgänger.\n",
        "\n",
        "*Beispiel:*\n",
        "- ```fibonacci(1,1,8)``` gibt 55 zurück.\n",
        "- ```fibonacci(3,4,7)``` gibt 123 zurück."
      ],
      "metadata": {
        "id": "KS_m1WnseOt5"
      }
    },
    {
      "cell_type": "code",
      "execution_count": 8,
      "metadata": {
        "colab": {
          "base_uri": "https://localhost:8080/"
        },
        "id": "a_-feiQUdwmR",
        "outputId": "a9624a74-1bb2-44bc-a33e-504b06462559"
      },
      "outputs": [
        {
          "output_type": "stream",
          "name": "stdout",
          "text": [
            "123\n"
          ]
        }
      ],
      "source": [
        "def fibonacci(a,b, n=1000):\n",
        "    return 1\n",
        "\n",
        "print(fibonacci(3,4,7))"
      ]
    }
  ]
}