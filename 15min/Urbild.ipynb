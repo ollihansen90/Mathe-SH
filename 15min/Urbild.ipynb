{
  "nbformat": 4,
  "nbformat_minor": 0,
  "metadata": {
    "colab": {
      "provenance": [],
      "authorship_tag": "ABX9TyOyTu/vk3/E5XukfJL5tjIp",
      "include_colab_link": true
    },
    "kernelspec": {
      "name": "python3",
      "display_name": "Python 3"
    },
    "language_info": {
      "name": "python"
    }
  },
  "cells": [
    {
      "cell_type": "markdown",
      "metadata": {
        "id": "view-in-github",
        "colab_type": "text"
      },
      "source": [
        "<a href=\"https://colab.research.google.com/github/ollihansen90/Mathe-SH/blob/main/15min/Urbild.ipynb\" target=\"_parent\"><img src=\"https://colab.research.google.com/assets/colab-badge.svg\" alt=\"Open In Colab\"/></a>"
      ]
    },
    {
      "cell_type": "markdown",
      "source": [
        "# 15-Minuten-Challenge: Urbild finden\n",
        "# https://shorturl.at/wzGQ7\n",
        "Olli findet auf auf einem Zettel eine Zahl, die er sich merken wollte: $103540.92043427199$. Leider handelte es sich dabei nicht um die Zahl selbst, sondern um das Ergebnis von $f(x)=x^x$ für irgendein $x$, das er sich eigentlich merken wollte. Wäre seine Zahl beispielsweise $3$, dann hätte er sich $27$ auf den Zettel geschrieben, denn $f(3)=3^3=3\\cdot3\\cdot3=27$.\n",
        "\n",
        "Kannst du ihm helfen, sich an seine Zahl zu erinnern?\n",
        "\n",
        "*Anmerkung:* Das Urbild ist sozusagen die Umkehrung einer Funktion! Das Urbild von $16$ der Funktion $f(x)=x^2$ wäre $f^{-1}(16)=\\sqrt{16}=4$, da die Umkehrfunktion des Quadrats die Wurzel ist.\n",
        "\n",
        "*Hinweis*: Wenn du keine Idee hast, wie man das algorithmisch lösen könnte, kannst du auch einfach ein paar Werte einsetzen und so versuchen, die Lösung einzugrenzen. Beispiel: Ist die Funktion $f(x)=x^2$ gegeben und das Ergebnis $15$ ist, kannst du beispielsweise einfach $8$ einsetzen: $f(8)=8^2=64$. Da $64$ größer als $15$ ist, muss das Urbild von $15$ kleiner als $8$ sein. $f(3)=3^2=9$ ist kleiner als $15$, das Urbild von $15$ liegt also zwischen $3$ und $8$."
      ],
      "metadata": {
        "id": "1ASudu1lT12r"
      }
    },
    {
      "cell_type": "code",
      "execution_count": null,
      "metadata": {
        "id": "MUd0sJuTTE5n"
      },
      "outputs": [],
      "source": [
        "y = 103540.92043427199\n"
      ]
    }
  ]
}