{
  "nbformat": 4,
  "nbformat_minor": 0,
  "metadata": {
    "colab": {
      "provenance": [],
      "authorship_tag": "ABX9TyP+a8stTXEeyMnG9ATnlGTe",
      "include_colab_link": true
    },
    "kernelspec": {
      "name": "python3",
      "display_name": "Python 3"
    },
    "language_info": {
      "name": "python"
    }
  },
  "cells": [
    {
      "cell_type": "markdown",
      "metadata": {
        "id": "view-in-github",
        "colab_type": "text"
      },
      "source": [
        "<a href=\"https://colab.research.google.com/github/ollihansen90/Mathe-SH/blob/main/15min/Palindrom.ipynb\" target=\"_parent\"><img src=\"https://colab.research.google.com/assets/colab-badge.svg\" alt=\"Open In Colab\"/></a>"
      ]
    },
    {
      "cell_type": "markdown",
      "source": [
        "# 15-Minuten-Challenge - Palindrome\n",
        "In der heutigen 15-Minuten-Challenge wollen wir Palindrome in der deutschen Sprache finden. Hierfür wird im folgenden Codeblock zunächst eine Liste aller Wörter in der Datei ```deutsch.txt``` geladen. Bei der Liste handelt es sich hinterher um eine Liste, wie wir sie schon hunderte Male in Python benutzt haben."
      ],
      "metadata": {
        "id": "Go7bYghyGnYU"
      }
    },
    {
      "cell_type": "code",
      "execution_count": 10,
      "metadata": {
        "colab": {
          "base_uri": "https://localhost:8080/"
        },
        "id": "MFcn1LDi_dIW",
        "outputId": "1412482a-e641-495f-fd4d-683effed7083"
      },
      "outputs": [
        {
          "output_type": "stream",
          "name": "stdout",
          "text": [
            "Die Liste enthält 189592 Wörter.\n",
            "Abendroete\n",
            "Aethers\n",
            "Citroen\n",
            "geschwitzt\n"
          ]
        }
      ],
      "source": [
        "import os\n",
        "if \"deutsch.txt\" not in os.listdir():\n",
        "    !wget https://raw.githubusercontent.com/ollihansen90/Mathe-SH/main/data/deutsch.txt\n",
        "with open(\"deutsch.txt\", \"r\") as file:\n",
        "    wortliste = file.read().split(\"\\n\")\n",
        "\n",
        "print(\"Die Liste enthält\",len(wortliste),\"Wörter.\")\n",
        "print(wortliste[100])\n",
        "print(wortliste[1000])\n",
        "print(wortliste[10000])\n",
        "print(wortliste[100000])"
      ]
    },
    {
      "cell_type": "markdown",
      "source": [
        "## Aufgabe\n",
        "Finde alle Palindrome in der Liste ```wortliste```, die länger als 3 Zeichen lang sind (also 4 oder mehr) und speichere sie in einer Liste ```palindrome```! Ein Palindrom ist ein Wort, das vorwärt und rückwärts gelesen das selbe ist.\n",
        "\n",
        "Beispiel: \"Retter\"\n",
        "\n",
        "*Hinweis*: Achte auf Groß- und Kleinschreibung! Die sich ergebende Liste hat 30 Einträge."
      ],
      "metadata": {
        "id": "Wy7_LEPHIDBP"
      }
    },
    {
      "cell_type": "code",
      "source": [
        "palindrome = []\n",
        "# --- Hier kommt dein Code rein ---\n",
        "\n",
        "\n",
        "\n",
        "# ---------------------------------\n",
        "\n",
        "print(palindrome)\n",
        "print(len(palindrome))"
      ],
      "metadata": {
        "colab": {
          "base_uri": "https://localhost:8080/"
        },
        "id": "nxfKmaj_ABeG",
        "outputId": "28b998a6-d63c-46ae-c2ba-19e7e0514b0f"
      },
      "execution_count": 11,
      "outputs": [
        {
          "output_type": "stream",
          "name": "stdout",
          "text": [
            "['Egge', 'Neben', 'Neuen', 'Otto', 'RSFSR', 'Reger', 'Renner', 'Retter', 'Rotor', 'Sees', 'Sexes', 'Staats', 'esse', 'minim', 'nennen', 'netten', 'neuen', 'neben', 'Neben', 'Pullup', 'Renner', 'Rentner', 'Staats', 'Stets', 'esse', 'neben', 'nennen', 'netten', 'neuen', 'stets']\n",
            "30\n"
          ]
        }
      ]
    }
  ]
}