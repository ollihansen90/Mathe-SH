{
  "nbformat": 4,
  "nbformat_minor": 0,
  "metadata": {
    "colab": {
      "provenance": [],
      "authorship_tag": "ABX9TyNtNq1kt5IpFWwgYI/jEDS5",
      "include_colab_link": true
    },
    "kernelspec": {
      "name": "python3",
      "display_name": "Python 3"
    },
    "language_info": {
      "name": "python"
    }
  },
  "cells": [
    {
      "cell_type": "markdown",
      "metadata": {
        "id": "view-in-github",
        "colab_type": "text"
      },
      "source": [
        "<a href=\"https://colab.research.google.com/github/ollihansen90/Mathe-SH/blob/main/15min/Matrizen_transponieren.ipynb\" target=\"_parent\"><img src=\"https://colab.research.google.com/assets/colab-badge.svg\" alt=\"Open In Colab\"/></a>"
      ]
    },
    {
      "cell_type": "markdown",
      "source": [
        "# 15-Minuten-Challenge: Matrizen transponieren\n",
        "Matrizen sind (einfach gesagt) Auflistungen von Vektoren, die wiederum (einfach gesagt) Auflistungen von Werten sind. Eine Matrix könnte so aussehen:\n",
        "\n",
        "$$\\begin{align}\n",
        "A = \\begin{pmatrix}\n",
        "1 & 2 & 3\\\\\n",
        "4 & 5 & 6\\\\\n",
        "7 & 8 & 9\n",
        "\\end{pmatrix}.\n",
        "\\end{align}$$\n",
        "\n",
        "Transponiert man eine Matrix, so \"vertauscht\" man Zeilen und Spalten, sodass die Matrix \"auf der Seite liegt\". Tatsächlich ist die Matrix an der Hauptdiagonalen (die verläuft von oben links nach unten rechts) gespiegelt.\n",
        "\n",
        "$$\\begin{align}\n",
        "A^T = \\begin{pmatrix}\n",
        "1 & 4 & 7\\\\\n",
        "2 & 5 & 8\\\\\n",
        "3 & 6 & 9\n",
        "\\end{pmatrix}.\n",
        "\\end{align}$$\n",
        "\n",
        "## Aufgabe\n",
        "Implementiere eine Funktion ```transpose```, die eine Matrix erhält und die transponierte Matrix zurückgibt."
      ],
      "metadata": {
        "id": "jLWDo2AtR-dY"
      }
    },
    {
      "cell_type": "code",
      "source": [
        "def transpose(A):\n",
        "    return A\n",
        "\n",
        "Matrix = [[1,2,3], [4,5,6], [7,8,9]]\n",
        "\n",
        "print(*Matrix, sep=\"\\n\")\n",
        "print(20*\"*\")\n",
        "print(*transpose(Matrix), sep=\"\\n\")"
      ],
      "metadata": {
        "colab": {
          "base_uri": "https://localhost:8080/"
        },
        "id": "smMOAbmvTEIX",
        "outputId": "2dae792c-6dbf-43d0-a36f-461605aafb56"
      },
      "execution_count": 4,
      "outputs": [
        {
          "output_type": "stream",
          "name": "stdout",
          "text": [
            "[1, 2, 3]\n",
            "[4, 5, 6]\n",
            "[7, 8, 9]\n",
            "********************\n",
            "[1, 2, 3]\n",
            "[4, 5, 6]\n",
            "[7, 8, 9]\n"
          ]
        }
      ]
    }
  ]
}