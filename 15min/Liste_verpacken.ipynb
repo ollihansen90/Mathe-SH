{
  "nbformat": 4,
  "nbformat_minor": 0,
  "metadata": {
    "colab": {
      "provenance": [],
      "authorship_tag": "ABX9TyPK9nHxmStP3cBRyXb151Tz",
      "include_colab_link": true
    },
    "kernelspec": {
      "name": "python3",
      "display_name": "Python 3"
    },
    "language_info": {
      "name": "python"
    }
  },
  "cells": [
    {
      "cell_type": "markdown",
      "metadata": {
        "id": "view-in-github",
        "colab_type": "text"
      },
      "source": [
        "<a href=\"https://colab.research.google.com/github/ollihansen90/Mathe-SH/blob/main/15min/Liste_verpacken.ipynb\" target=\"_parent\"><img src=\"https://colab.research.google.com/assets/colab-badge.svg\" alt=\"Open In Colab\"/></a>"
      ]
    },
    {
      "cell_type": "markdown",
      "source": [
        "# 15-Minuten-Challenge - Liste verpacken\n",
        "Schreibe eine Funktion ```verpacke(liste)```, die eine Liste ```liste``` erhält und deren Einträge gruppiert.\n",
        "\n",
        "Beispiel:\n",
        "```\n",
        "liste = [1,1,1,2,2,3,3,3,3,4,5,5,4,4,4,6]\n",
        "verpacke(liste)\n",
        "    -> [[3,1], [2,2], [4,3], [1,4], [2,5], [3,4], [1,6]]\n",
        "# \"drei Einsen, zwei Zweien, vier Dreien,....\"\n",
        "```\n",
        "\n"
      ],
      "metadata": {
        "id": "tujY-1sz85u0"
      }
    },
    {
      "cell_type": "code",
      "execution_count": null,
      "metadata": {
        "id": "btf7iryw85Lp"
      },
      "outputs": [],
      "source": [
        "def verpacke(liste):\n",
        "    return []\n",
        "\n",
        "liste = [1,1,1,2,2,3,3,3,3,4,5,5,4,4,4,6]\n",
        "print(verpacke(liste))"
      ]
    }
  ]
}