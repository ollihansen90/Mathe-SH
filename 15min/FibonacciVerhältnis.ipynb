{
  "nbformat": 4,
  "nbformat_minor": 0,
  "metadata": {
    "colab": {
      "provenance": [],
      "authorship_tag": "ABX9TyOdhKlxyXiaSXgerRfVmfXK",
      "include_colab_link": true
    },
    "kernelspec": {
      "name": "python3",
      "display_name": "Python 3"
    },
    "language_info": {
      "name": "python"
    }
  },
  "cells": [
    {
      "cell_type": "markdown",
      "metadata": {
        "id": "view-in-github",
        "colab_type": "text"
      },
      "source": [
        "<a href=\"https://colab.research.google.com/github/ollihansen90/Mathe-SH/blob/main/15min/FibonacciVerh%C3%A4ltnis.ipynb\" target=\"_parent\"><img src=\"https://colab.research.google.com/assets/colab-badge.svg\" alt=\"Open In Colab\"/></a>"
      ]
    },
    {
      "cell_type": "markdown",
      "source": [
        "# 15-Minuten-Challenge: Fibonacci-Verhältnis\n",
        "Erstelle eine Funktion ```fibonacci```, die zwei Startwerte ```a``` und ```b```, sowie eine Zahl ```n``` erhält. Die Rückgabe soll die ```n```-te Fibonacci-Zahl sein!\n",
        "\n",
        "Die Fibonacci-Folge geht so: ```1, 1, 2, 3, 5, 8, 13, ...``` Die ```n```-te Zahl ist also die Summe ihrer beiden Vorgänger.\n",
        "\n",
        "*Beispiel:*\n",
        "- ```fibonacci(1,1,8)``` gibt 55 zurück.\n",
        "- ```fibonacci(3,4,7)``` gibt 123 zurück.\n",
        "\n",
        "Berechne das Verhältnis der 100. Fibonacci-Zahl zur 99. Fibonacci-Zahl!"
      ],
      "metadata": {
        "id": "ATq7nVSUhltt"
      }
    },
    {
      "cell_type": "code",
      "execution_count": null,
      "metadata": {
        "id": "soz5TtS2hgjU"
      },
      "outputs": [],
      "source": []
    }
  ]
}