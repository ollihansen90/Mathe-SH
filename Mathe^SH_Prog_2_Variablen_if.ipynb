{
  "nbformat": 4,
  "nbformat_minor": 0,
  "metadata": {
    "colab": {
      "name": "Mathe^SH_Prog_2.ipynb",
      "provenance": [],
      "collapsed_sections": [
        "cgq0ON5768UB"
      ],
      "include_colab_link": true
    },
    "kernelspec": {
      "name": "python3",
      "display_name": "Python 3"
    },
    "language_info": {
      "name": "python"
    }
  },
  "cells": [
    {
      "cell_type": "markdown",
      "metadata": {
        "id": "view-in-github",
        "colab_type": "text"
      },
      "source": [
        "<a href=\"https://colab.research.google.com/github/ollihansen90/Mathe-SH/blob/main/Mathe%5ESH_Prog_2.ipynb\" target=\"_parent\"><img src=\"https://colab.research.google.com/assets/colab-badge.svg\" alt=\"Open In Colab\"/></a>"
      ]
    },
    {
      "cell_type": "markdown",
      "metadata": {
        "id": "cgq0ON5768UB"
      },
      "source": [
        "# Mathe^SH Python-Kurs, Woche 2"
      ]
    },
    {
      "cell_type": "markdown",
      "metadata": {
        "id": "NMjKvuYev9lY"
      },
      "source": [
        "# Fragen?\n",
        "Solltet ihr Fragen zum Code oder Probleme mit Colab haben, schickt uns gerne eine Mail:\n",
        "\n",
        "*   hohansen@inb.uni-luebeck.de\n",
        "*   maren.wieder@student.uni-luebeck.de\n",
        "*   kira.nissen@student.uni-luebeck.de\n",
        "*   friederike.meissner@student.uni-luebeck.de\n",
        "*   dustin.haschke@student.uni-luebeck.de"
      ]
    },
    {
      "cell_type": "markdown",
      "metadata": {
        "id": "jVY_vrWIYxVq"
      },
      "source": [
        "# Variablennamen\n",
        "\n",
        "Die Namen von Variablen müssen für jede Variable einzigartig sein. Der Platzhalter ```a``` kann zur Zeit immer nur einen Wert annehmen. Ihr könnt ihn natürlich später wieder überschreiben, aber damit müsst ihr vorsichtig sein.\n",
        "\n",
        "Es gibt ein paar Regeln, wie Variablennamen ausschauen dürfen. \n",
        "\n",
        "* Generell dürft ihr alle Buchstaben und Zahlen in ihnen benutzen, sowie ein paar ausgewählte Sonderzeichen. Als wirklich relevantes Sonderzeichen ist aber nur der Unterstrich (```_```) zu nennen. Zeichen wie Ausrufe- oder Fragezeichen sind verboten. Auch das Leerzeichen darf nicht verwendet werden.\n",
        "\n",
        "* Variablennamen sind \"case-sensitive\". Das bedeutet variable und vArIaBlE und Variable sind drei verschiedene Variablennamen.\n",
        "\n",
        "* Variablennamen dürfen nicht mit einer Zahl beginnen.\n",
        "\n",
        "* Variablennamen dürfen beliebig lang sein.\n",
        "\n",
        "* Variablennamen dürfen keine bereits vorhandenen Funktionennamen oder ähnliches sein (bspw. wie ```while``` oder ```for```, aber auch ```True```). *Generell hilft hierbei:* Wenn Python es in einer anderen Farbe darstellt, solltet ihr es besser nicht verwenden.\n",
        "\n",
        "Im Allgemeinen wollt ihr eure Variablen **sinnvoll** benennen. Das bedeutet, dass ihr noch wisst, was in dieser Variable gespeichert wird, auch wenn ihr den Code ein halbes Jahr nicht mehr gesehen habt. Dies erleichtert auch die Verständlichkeit für andere, die eventuell euren Code nachvollziehen wollen.\n",
        "\n",
        "Im folgenden Code-Block seht ihr ein paar Beispiele, wie ihr eure Variablen vielleicht besser nicht nennen solltet."
      ]
    },
    {
      "cell_type": "code",
      "metadata": {
        "colab": {
          "base_uri": "https://localhost:8080/"
        },
        "id": "-bTEx_RsYv_X",
        "outputId": "f548895a-0092-490f-818b-af77b05b7809"
      },
      "source": [
        "zahl = 3\n",
        "Zahl = 5\n",
        "print(zahl+Zahl)\n",
        "\n",
        "dasHierNenntManCamelCase = 99\n",
        "irgendwannSindDieNamenAberUnnoetigLangUndSolltenGekuerztWerdenDamitDerCodeEinigermassenLesbarBleibt = 9\n",
        "print(dasHierNenntManCamelCase/irgendwannSindDieNamenAberUnnoetigLangUndSolltenGekuerztWerdenDamitDerCodeEinigermassenLesbarBleibt)\n",
        "Unterstriche_gehen_auch_immer_gut = \"Hallo\"\n",
        "iiiiiiii = 2\n",
        "iiiiiiiiiiii = 25\n",
        "iiiiiiiiiii = 3\n",
        "print(\"Schlecht lesbar, aber Python kann damit arbeiten:\", iiiiiiii+iiiiiiiiiiii*iiiiiiiiiii)"
      ],
      "execution_count": 7,
      "outputs": [
        {
          "output_type": "stream",
          "name": "stdout",
          "text": [
            "8\n",
            "11.0\n",
            "Schlecht lesbar, aber Python kann damit arbeiten: 77\n"
          ]
        }
      ]
    },
    {
      "cell_type": "markdown",
      "metadata": {
        "id": "zM0O1j91oBSu"
      },
      "source": [
        "### Wie geht es nun richtig?\n",
        "\n",
        "Im Folgenden sollt ihr ein paar Guidelines kennenlernen, die euch bei der sinnvollen Variablenbennenung helfen sollen. \n",
        "\n",
        "1.   **camelCase:** Beim camelCase beginnt ihr mit einem kleinen Buchstaben und beginnt jedes neue Wort mit einem Großbuchstaben. Beispiele: kleinerGauss, mittelwertVonFunktion3\n",
        "2.   **snake_case:** Beim snake_case wird alles klein geschrieben und die einzelnen Worte werden durch Unterstriche getrennt.\n",
        "Beispiele: kleiner_gauss, mittelwert_von_funktion3, mittelwert_von_funktion_3\n",
        "3.   **PascalCase:** Das gleiche Konzept wie beim camelCase, allerdings beginnt es mit einem Großbuchstaben. Beispiele: KleinerGauss, MittelwertVonFunktion3\n",
        "\n"
      ]
    },
    {
      "cell_type": "markdown",
      "metadata": {
        "id": "KkJeG75yQLPL"
      },
      "source": [
        "### Übung\n",
        "\n",
        "Welche dieser Variablen sind zulässig? Löscht bitte jeweils \"Ja\" oder \"Nein\", so dass die Aussagen stimmen. \n",
        "\n",
        "Testet anschließend die zulässigen Variablen, indem ihr ihnen beliebige Zahlen zuweist.\n",
        "\n",
        "Was passiert, wenn ihr eine unzulässige Variable testet?\n",
        "\n",
        "Sind die vorgeschlagenen Variablen sinnvoll?"
      ]
    },
    {
      "cell_type": "code",
      "metadata": {
        "id": "p9qefz1loB5D",
        "colab": {
          "base_uri": "https://localhost:8080/"
        },
        "outputId": "5045406a-cbc5-4974-c44f-16fb644d5f87"
      },
      "source": [
        "# Loescht hier jeweils Ja oder Nein, sodass die Aussagen stimmen\n",
        "print(\"Ist die Variable '3aepfel' zulässig? Ja/Nein\")\n",
        "print(\"Ist die Variable '____dies___ist___eine___Variable_____' zulässig? Ja/Nein\")\n",
        "print(\"Ist die Variable 'EineTolleVariable!' zulässig? Ja/Nein\")\n",
        "print(\"Ist die Variable 'while' zulässig? Ja/Nein\")\n",
        "print(\"Ist die Variable 'drei aepfel' zulässig? Ja/Nein\")\n",
        "print(\"Ist die Variable 'variable3' zulässig? Ja/Nein\")\n",
        "\n",
        "# Testet hier bitte alle zulässigen Variablen\n",
        "# Testbeispiel: kleinerGauss = 3\n"
      ],
      "execution_count": null,
      "outputs": [
        {
          "output_type": "stream",
          "name": "stdout",
          "text": [
            "Ist die Variable '3aepfel' zulässig? Ja/Nein\n",
            "Ist die Variable '____dies___ist___eine___Variable_____' zulässig? Ja/Nein\n",
            "Ist die Variable 'EineTolleVariable!' zulässig? Ja/Nein\n",
            "Ist die Variable 'while' zulässig? Ja/Nein\n",
            "Ist die Variable 'drei aepfel' zulässig? Ja/Nein\n",
            "Ist die Variable 'variable3' zulässig? Ja/Nein\n"
          ]
        }
      ]
    },
    {
      "cell_type": "markdown",
      "metadata": {
        "id": "lN6AAmtH7yAx"
      },
      "source": [
        "# If-Abfragen\n",
        "If-Abfragen werden immer dann genutzt, wenn bestimmte Code-Abschnitte nur nach Erfüllung einer bestimmten Bedingung ausgeführt werden sollen. Dafür benötigt ihr das Schlüsselwort ```if```, gefolgt von der zu prüfenden Bedingung und einem Doppelpunkt ```:```, der das Ende der Bedingung markiert. In der nächsten Zeile endet die Abfrage nach einer Einrückung mit der gewünschten Anweisung.\n",
        "\n",
        "Übersetzt sagt eine If-Abfrage also: \n",
        ">**Wenn** *Bedingung* gilt**:**\n",
        ">> tue *Anweisung*. \n",
        "\n",
        "Für die Formulierung der Bedingung sind in den meisten Fällen Vergleichsoperatoren notwendig.\n",
        "\n",
        "## Vergleichsoperatoren\n",
        "Wie der Name schon verrät, dienen Vergleichsoperatoren zum Vergleichen von Variablen, zum Beispiel um Bedingungen für If-Abfragen oder Schleifen (dazu später mehr) zu überprüfen.\n",
        "\n",
        "*   kleiner ```<```, größer ```>```, kleiner-gleich ```<=```, größer-gleich ```>=``` werden wie in der Mathematik zum Vergleichen von Zahlen genutzt. Man kann aber auch Zeichenketten bezüglich ihrer alphabetischen Reihenfolge miteinander vergleichen.\n",
        "*   gleich ```==``` prüft die exakte Gleichheit von Zahlen, Strings und Booleans.\n",
        "\n"
      ]
    },
    {
      "cell_type": "code",
      "metadata": {
        "colab": {
          "base_uri": "https://localhost:8080/"
        },
        "id": "0NY08FvvgG5Z",
        "outputId": "b49fab89-54e6-4e85-86fe-27d1bae42e87"
      },
      "source": [
        "a = 5\n",
        "b = 3\n",
        "d = 27\n",
        "\n",
        "if 'a' < 'b':                   # Achtung! 'a' und 'b' sind hier Strings.\n",
        "    print(\"a ist kleiner!\")\n",
        "\n",
        "print(b==d)\n",
        "if b == d:\n",
        "    print(\"b und d sind gleich!\")\n",
        "\n",
        "if d > a and d > b:\n",
        "    print(\"d ist am größten!\")"
      ],
      "execution_count": 4,
      "outputs": [
        {
          "output_type": "stream",
          "name": "stdout",
          "text": [
            "a ist kleiner!\n",
            "hallo\n",
            "Welt\n",
            "Wahr\n",
            "HIER\n",
            "False\n",
            "d ist am größten!\n"
          ]
        }
      ]
    },
    {
      "cell_type": "markdown",
      "metadata": {
        "id": "xIBgss8Nw_Rh"
      },
      "source": [
        "### Übung - Vergleichsperatoren\n",
        "\n",
        "Ersetze im folgenden Code jede Raute ```#``` durch jeweils einen der Vergleichsoperatoren, so dass alle Booleans den Wert ```True``` erhalten."
      ]
    },
    {
      "cell_type": "code",
      "metadata": {
        "id": "rUFdthGSxxn1",
        "colab": {
          "base_uri": "https://localhost:8080/",
          "height": 134
        },
        "outputId": "65011602-354f-43fc-96e6-88f1c5b286cc"
      },
      "source": [
        "bool_a = (7 - 5) # (5 % 3)\n",
        "bool_b = (2 + 4 / 4) # (10 * 2 / 4)\n",
        "bool_c = ((3 ** 1 * 5) # (8 // 3 + 1)) or False\n",
        "bool_d = not ((6 - 3) # (2 + 1))\n",
        "\n",
        "# Zum Testen deiner Lösung:\n",
        "if bool_a == bool_b and bool_b == bool_c and bool_c == bool_d and bool_a == True:\n",
        "    print(\"Gut gemacht! Deine Lösung ist korrekt.\")\n",
        "else:\n",
        "    print(\"Leider war das noch nicht richtig. Versuche es noch einmal.\")"
      ],
      "execution_count": 6,
      "outputs": [
        {
          "output_type": "error",
          "ename": "SyntaxError",
          "evalue": "ignored",
          "traceback": [
            "\u001b[0;36m  File \u001b[0;32m\"<ipython-input-6-58837afc625f>\"\u001b[0;36m, line \u001b[0;32m4\u001b[0m\n\u001b[0;31m    bool_d = not ((6 - 3)) # (2 + 1))\u001b[0m\n\u001b[0m         ^\u001b[0m\n\u001b[0;31mSyntaxError\u001b[0m\u001b[0;31m:\u001b[0m invalid syntax\n"
          ]
        }
      ]
    },
    {
      "cell_type": "markdown",
      "metadata": {
        "id": "hUtcmoj6q7l_"
      },
      "source": [
        "## Logische Operatoren\n",
        "\n",
        "```and```, ```or``` und ```not``` sind logische Operatoren, die mehrere Bedingungen gleichzeitig prüfen oder ausdrücken, dass eine bestimmte Bedingung nicht gelten soll.\n",
        "\n",
        "Ihr könnt mit ihnen boolesche Wahrheitswerte verknüpfen. Dafür könnt ihr entweder die Resultate der Vergleichsoperatoren verwenden oder direkt Wahrheitswerte überprüfen.\n",
        "\n",
        "Die folgende Tabelle zeigt euch für jeden Zustand von ```A``` und ```B```, wie diese mit ```and```, ```or``` und ```not``` verknüpft erneut boolesche (wahre oder falsche) Ausgabewerte erzeugen.\n",
        "\n",
        "\n",
        "<img src=\"https://upload.wikimedia.org/wikipedia/commons/4/4a/Truth_table_for_AND%2C_OR%2C_and_NOT.png\" width=\"50%\"/>\n"
      ]
    },
    {
      "cell_type": "markdown",
      "metadata": {
        "id": "xcnx1ETm-aBQ"
      },
      "source": [
        "### Übung 1 - Rätselhafte Wahrheitswerte\n",
        "\n",
        "Verändere im folgenden Beispiel die Wahrheitswerte der Variablen ```x```, ```y```, ```z``` zu ```True``` oder ```False```, sodass dir nur zutreffende Aussagen ausgegeben werden.\n",
        "\n",
        "Vergiss nicht, nach jeder Änderung den Code neu auszuführen!\n",
        "\n",
        "\n",
        "\n"
      ]
    },
    {
      "cell_type": "code",
      "metadata": {
        "colab": {
          "base_uri": "https://localhost:8080/"
        },
        "id": "xke61YSx-oLf",
        "outputId": "1450eba4-3b38-4dba-cb61-99314e217f27"
      },
      "source": [
        "x = True \n",
        "y = True\n",
        "z = True\n",
        "\n",
        "if(x and y):\n",
        "    print(\"Hasen haben Flügel\")\n",
        "else:\n",
        "    print (\"Hasen haben Ohren\")\n",
        "\n",
        "if (y or z):\n",
        "    print(\"Rasen ist grün\")\n",
        "else:\n",
        "    print(\"Zebras sind lila\")\n",
        "\n",
        "if(not(z)):\n",
        "    print(\"Wasser ist nass\")\n",
        "else:\n",
        "    print(\"Feuer löscht Durst\")"
      ],
      "execution_count": null,
      "outputs": [
        {
          "output_type": "stream",
          "name": "stdout",
          "text": [
            "Hasen haben Ohren\n",
            "Rasen ist grün\n",
            "Wasser ist nass\n"
          ]
        }
      ]
    },
    {
      "cell_type": "markdown",
      "metadata": {
        "id": "NwwjvJyu6onw"
      },
      "source": [
        "### Übung 2  - Die kaputte Lampe\n",
        "\n",
        "Vollziehe folgendes Beispiel für logische Operatoren nach, indem du den Code und die Kommentare durchliest.\n",
        "\n",
        "Verändere im Anschluss die Wahrheitswerte der fünf Variablen am Anfang, indem du diese beliebig auf ```True``` und ```False``` veränderst, und vollziehe die Änderungen der Ausgabe nach.\n",
        "\n",
        "Wie kannst du verhindern, dass es brennt, wenn ```gluehbirne_super_alt = True``` und ```reservebirne = False```?"
      ]
    },
    {
      "cell_type": "code",
      "metadata": {
        "id": "dl5M7h1QrFkZ",
        "colab": {
          "base_uri": "https://localhost:8080/"
        },
        "outputId": "c71961e2-1120-46d8-bcb1-944f60e69859"
      },
      "source": [
        "strom_vorhanden = True\n",
        "gluehbirne_defekt = False\n",
        "gluehbirne_super_heiss = False\n",
        "gluehbirne_super_alt = False\n",
        "reservebirne = True\n",
        "#Wenn Strom vorhanden ist UND die Glühbirne heile ist (bzw. nicht defekt)\n",
        "if(strom_vorhanden and not(gluehbirne_defekt)):          \n",
        "  print(\"Lampe leuchtet\") # ...leuchtet die Lampe...\n",
        "else:\n",
        "  print(\"Lampe leuchtet nicht\") # ...ansonsten nicht.\n",
        "\n",
        "# Ist unsere Glühbirne heiß ODER alt (oder beides) UND ist auch noch Strom vorhanden...\n",
        "if((gluehbirne_super_heiss or gluehbirne_super_alt) and strom_vorhanden): \n",
        "    print(\"Glühbirne brennt (nochmal) durch\")\n",
        "    gluehbirne_defekt = True # ...so brennt sie durch, auch wenn sie schon kaputt ist...\n",
        "else:\n",
        "    print(\"Glühbirne bleibt intakt\") # ...ansonsten bleibt sie heile!\n",
        "\n",
        "# Ist unsere Glühbirne nun defekt UND wir haben eine Reservebirne... \n",
        "if(gluehbirne_defekt and reservebirne): \n",
        "    print(\"Reservebirne wird eingesetzt\") # ... wird die Reservebirne eingesetzt!\n",
        "else:\n",
        "    print(\"Kein Glühbirnen-Austausch.\")\n",
        "\n",
        "# War die ursprüngliche Glühbirne nicht defekt ODER wurde eine Reservebirne eingesetzt...\n",
        "if(not(gluehbirne_defekt) or reservebirne):        \n",
        "    print(\"Kein Brand durch durchgebrannte Birne\")  # ... so entsteht kein Brand.\n",
        "else:\n",
        "    print(\"Es brennt!\")"
      ],
      "execution_count": null,
      "outputs": [
        {
          "output_type": "stream",
          "name": "stdout",
          "text": [
            "Lampe leuchtet\n",
            "Glühbirne bleibt intakt\n",
            "Kein Glühbirnen-Austausch.\n",
            "Kein Brand durch durchgebrannte Birne\n"
          ]
        }
      ]
    },
    {
      "cell_type": "markdown",
      "metadata": {
        "id": "gDsuIusghJaG"
      },
      "source": [
        "## else und elif\n",
        "Um mehrere if-Abfragen hintereinander auszuführen, gibt es die Befehle ```else``` und ```elif```. Dafür wird per ```if``` die erste Bedingung abgefragt. Wenn diese nicht gilt, folgt nach dem Schlüsselwort ```elif``` die nächste Bedingung. (```elif``` ist übrigens die Zusammenfassung von ```else if```, was ihr vielleicht aus anderen Programmiersprachen kennt). Falls auch diese nicht erfüllt ist und keine weitere Bedingung folgt, werden sonstige Fälle mit ```else:``` behandelt.\n",
        "\n",
        "So könnt ihr beliebig viele Bedingungen hintereinander testen, wichtig ist nur, dass es am Anfang ein ```if``` geben muss und nur ein ```else``` geben darf."
      ]
    },
    {
      "cell_type": "code",
      "metadata": {
        "colab": {
          "base_uri": "https://localhost:8080/"
        },
        "id": "OP16Xk7liWHP",
        "outputId": "12d98277-6c11-455c-cf51-3b4ccc61e437"
      },
      "source": [
        "if a<b:\n",
        "    print(\"a ist kleiner.\")\n",
        "elif a>b:\n",
        "    print(\"b ist kleiner.\")\n",
        "else:\n",
        "    print(\"beide sind gleich\")\n",
        "  \n",
        "c = 11\n",
        "if c%2==0:\n",
        "    print(\"c ist gerade.\")\n",
        "elif c%5==0:\n",
        "    print(\"c ist ungerade und durch fünf teilbar.\")\n",
        "elif c%3==0:\n",
        "    print(\"c ist nicht durch 2 oder 5 teilbar, aber durch 3!\")\n",
        "elif c < 10:\n",
        "    print(\"c muss 1 oder 7 sein.\")\n",
        "else:\n",
        "    print(c)"
      ],
      "execution_count": null,
      "outputs": [
        {
          "output_type": "stream",
          "name": "stdout",
          "text": [
            "b ist kleiner.\n",
            "11\n"
          ]
        }
      ]
    },
    {
      "cell_type": "markdown",
      "metadata": {
        "id": "PGISnni2vzJ_"
      },
      "source": [
        "### Übung - Verwendung von else\n",
        "\n",
        "Ergänze die fehlenden Schlüsselwörter ```if```, ```else``` sowie den fehlenden logischen Operator, also ```and```, ```or``` oder ```not```, so dass diese Abfrage prüft, ob der Ladenbesitzer nett ist oder du ihm einen Euro gibst. \n",
        "\n",
        "Falls eines von beiden erfüllt ist, erhältst du eine Süßigkeit; wenn nicht, gibt es leider keine.\n"
      ]
    },
    {
      "cell_type": "code",
      "metadata": {
        "id": "mNJEdm2C4WXg"
      },
      "source": [
        "netter_ladenbesitzer = False\n",
        "gebe_einen_euro = False\n",
        "\n",
        "_ netter_ladenbesitzer _ gebe_einen_euro:\n",
        "    print(\"Ich erhalte eine Süßigkeit.\")\n",
        "_:\n",
        "    print(\"Leider gibt es keine Süßigkeit.\")"
      ],
      "execution_count": null,
      "outputs": []
    },
    {
      "cell_type": "markdown",
      "metadata": {
        "id": "pVSWX2vx7QcD"
      },
      "source": [
        "### Übung - Verwendung von elif und else\n",
        "\n",
        "Schreibe nun eine vollständige Abfrage, die für die Eingabe eines Ratespiels prüft, ob die Person eine Niete (mit der Antwort ```a```), den Hauptgewinn (mit der Antwort ```b```) erhält oder keine korrekte Antwort gegeben hat.\n",
        "\n",
        "1.   Prüfe, ob die Antwort ```a``` ist. Wenn ja, gib per ```print()``` den String \"Leider ist a eine Niete.\" aus.\n",
        "2.   Wenn nicht, prüfe, ob die Antwort ```b``` ist. Wenn ja, gib den String \"Glückwunsch! b ist der Hauptgewinn.\" aus.\n",
        "3.   Sonst gib den String \"Du hast keine korrekte Antwort gegeben.\" aus.\n"
      ]
    },
    {
      "cell_type": "code",
      "metadata": {
        "colab": {
          "base_uri": "https://localhost:8080/"
        },
        "id": "eE-WCwIF8xSJ",
        "outputId": "ed94b2a1-263c-4274-a67f-e9d123167412"
      },
      "source": [
        "antwort = input(\"Wähle a oder b: \").lower()"
      ],
      "execution_count": null,
      "outputs": [
        {
          "name": "stdout",
          "output_type": "stream",
          "text": [
            "Wähle a oder b: b\n"
          ]
        }
      ]
    }
  ]
}
