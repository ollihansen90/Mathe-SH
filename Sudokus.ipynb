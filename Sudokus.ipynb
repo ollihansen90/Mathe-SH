{
  "nbformat": 4,
  "nbformat_minor": 0,
  "metadata": {
    "colab": {
      "provenance": [],
      "authorship_tag": "ABX9TyNeV8AYKhfLc3KPZOgpjG+B",
      "include_colab_link": true
    },
    "kernelspec": {
      "name": "python3",
      "display_name": "Python 3"
    },
    "language_info": {
      "name": "python"
    }
  },
  "cells": [
    {
      "cell_type": "markdown",
      "metadata": {
        "id": "view-in-github",
        "colab_type": "text"
      },
      "source": [
        "<a href=\"https://colab.research.google.com/github/ollihansen90/Mathe-SH/blob/main/Sudokus.ipynb\" target=\"_parent\"><img src=\"https://colab.research.google.com/assets/colab-badge.svg\" alt=\"Open In Colab\"/></a>"
      ]
    },
    {
      "cell_type": "code",
      "execution_count": 65,
      "metadata": {
        "colab": {
          "base_uri": "https://localhost:8080/"
        },
        "id": "PLKgurkC0J8I",
        "outputId": "ef876385-811f-4200-c0bf-091ed75863ba"
      },
      "outputs": [
        {
          "output_type": "stream",
          "name": "stdout",
          "text": [
            "+---+---+---+---+---+---+---+---+---+\n",
            "| 3   7   6 | 2   9   4 | 1   8   5 | \n",
            "+   +   +   +   +   +   +   +   +   +\n",
            "| 2   9   5 | 8   1   3 | 7   6   4 | \n",
            "+   +   +   +   +   +   +   +   +   +\n",
            "| 8   1   4 | 7   6   5 | 3   2   9 | \n",
            "+---+---+---+---+---+---+---+---+---+\n",
            "| 4   3   1 | 9   2   8 | 6   5   7 | \n",
            "+   +   +   +   +   +   +   +   +   +\n",
            "| 6   5   2 | 4   3   7 | 9   1   8 | \n",
            "+   +   +   +   +   +   +   +   +   +\n",
            "| 9   8   7 | 1   5   6 | 4   3   2 | \n",
            "+---+---+---+---+---+---+---+---+---+\n",
            "| 1   2   8 | 3   7   9 | 5   4   6 | \n",
            "+   +   +   +   +   +   +   +   +   +\n",
            "| 5   4   9 | 6   8   1 | 2   7   3 | \n",
            "+   +   +   +   +   +   +   +   +   +\n",
            "| 7   6   3 | 5   4   2 | 8   9   1 | \n",
            "+---+---+---+---+---+---+---+---+---+\n",
            "\n",
            "\n",
            "\n",
            "\n",
            "+---+---+---+---+---+---+---+---+---+\n",
            "|     7     | 2         |     8   5 | \n",
            "+   +   +   +   +   +   +   +   +   +\n",
            "|         5 |         3 |     6     | \n",
            "+   +   +   +   +   +   +   +   +   +\n",
            "| 8         |           |           | \n",
            "+---+---+---+---+---+---+---+---+---+\n",
            "|     3   1 | 9   2     |           | \n",
            "+   +   +   +   +   +   +   +   +   +\n",
            "| 6         |     3   7 |     1     | \n",
            "+   +   +   +   +   +   +   +   +   +\n",
            "| 9       7 |     5     |         2 | \n",
            "+---+---+---+---+---+---+---+---+---+\n",
            "|           | 3         | 5   4     | \n",
            "+   +   +   +   +   +   +   +   +   +\n",
            "| 5   4     |         1 | 2         | \n",
            "+   +   +   +   +   +   +   +   +   +\n",
            "| 7   6     |         2 |         1 | \n",
            "+---+---+---+---+---+---+---+---+---+\n"
          ]
        }
      ],
      "source": [
        "import random\n",
        "\n",
        "def verarbeite(sudoku):\n",
        "    return sudoku.split(\"\\n\")\n",
        "\n",
        "def tausche_werte(sudokustr, n=9):\n",
        "    indices = list(\"123456789\")\n",
        "    random.shuffle(indices)\n",
        "    werte = indices[:n]\n",
        "\n",
        "    w = werte[0]\n",
        "    sudokustr = sudokustr.replace(w, \"T\")\n",
        "\n",
        "    for i in range(1, len(werte)):\n",
        "        sudokustr = sudokustr.replace(werte[i], w)\n",
        "        w = werte[i]\n",
        "\n",
        "    sudokustr = sudokustr.replace(\"T\",w)\n",
        "    return sudokustr\n",
        "\n",
        "geloest = verarbeite(tausche_werte(\"\"\"534678912\n",
        "672195348\n",
        "198342567\n",
        "859761423\n",
        "426853791\n",
        "713924856\n",
        "961537284\n",
        "287419635\n",
        "345286179\"\"\"))\n",
        "\n",
        "def print_sudoku(sudoku):\n",
        "    print(9*\"+---\"+\"+\")\n",
        "    for i in range(len(sudoku)):\n",
        "        zeile = sudoku[i]\n",
        "        ausgabe = \"| \"\n",
        "        for j, zahl in enumerate(zeile):\n",
        "            if j%3==2:\n",
        "                ausgabe += zahl+\" | \"\n",
        "            else:\n",
        "                ausgabe += zahl+\"   \"\n",
        "        print(ausgabe)\n",
        "        if i%3==2:\n",
        "            print(9*\"+---\"+\"+\")\n",
        "        else:\n",
        "            print(9*\"+   \"+\"+\")\n",
        "\n",
        "def ziehe(liste, n=10):\n",
        "    output = []\n",
        "    for i in range(n):\n",
        "        z = random.randint(0,81-i)\n",
        "        output.append(liste[z])\n",
        "        liste[z] = liste[-1-i]\n",
        "    #print(output)\n",
        "    return output\n",
        "\n",
        "def loesche_werte(sudoku, n=10):\n",
        "    # indices = list(range(81))\n",
        "    # random.shuffle(indices)\n",
        "    # indices = indices[:n]\n",
        "    indices = ziehe(list(range(81)), n)\n",
        "    for idx in indices:\n",
        "        wert = sudoku[int(idx/9)][idx%9]\n",
        "        sudoku[idx//9] = sudoku[int(idx/9)].replace(wert, \" \")\n",
        "    return sudoku\n",
        "\n",
        "print_sudoku(geloest)\n",
        "test = loesche_werte(geloest, 50)\n",
        "print(3*\"\\n\")\n",
        "print_sudoku(test)"
      ]
    }
  ]
}