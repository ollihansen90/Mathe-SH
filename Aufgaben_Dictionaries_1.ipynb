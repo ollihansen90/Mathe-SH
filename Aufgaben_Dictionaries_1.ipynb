{
  "nbformat": 4,
  "nbformat_minor": 0,
  "metadata": {
    "colab": {
      "name": "Aufgaben_Dictionaries_1.ipynb",
      "provenance": [],
      "collapsed_sections": [],
      "authorship_tag": "ABX9TyOqlcUlkWAvEndBheCCNuFf",
      "include_colab_link": true
    },
    "kernelspec": {
      "name": "python3",
      "display_name": "Python 3"
    },
    "language_info": {
      "name": "python"
    }
  },
  "cells": [
    {
      "cell_type": "markdown",
      "metadata": {
        "id": "view-in-github",
        "colab_type": "text"
      },
      "source": [
        "<a href=\"https://colab.research.google.com/github/ollihansen90/Mathe-SH/blob/main/Aufgaben_Dictionaries_1.ipynb\" target=\"_parent\"><img src=\"https://colab.research.google.com/assets/colab-badge.svg\" alt=\"Open In Colab\"/></a>"
      ]
    },
    {
      "cell_type": "markdown",
      "source": [
        "# Fragen?\n",
        "Solltet ihr Fragen zum Code oder Probleme mit Colab haben, schickt uns gerne eine Mail:\n",
        "\n",
        "*   hohansen@inb.uni-luebeck.de\n",
        "*   maren.wieder@student.uni-luebeck.de\n",
        "*   friederike.meissner@student.uni-luebeck.de\n",
        "*   dustin.haschke@student.uni-luebeck.de"
      ],
      "metadata": {
        "id": "cPCQhVWDkna5"
      }
    },
    {
      "cell_type": "markdown",
      "source": [
        "# Dictionaries - Aufgabenzettel 1\n",
        "Auf diesem Zettel wollen wir mit Hilfe von Dictionaries ein paar Analysen von Texten machen. \n",
        "\n",
        "Zur Vorbereitung laden wir uns (wie aus ähnlich von einem alten Übungszettel bereits bekannt) dein paar Wikipedia-Artikel runter. Sonderzeichen und Satzzeichen werden bereits entfernt. Wenn ich weitere Artikel der Liste hinzufügen möchtet, könnt ihr das gerne tun!"
      ],
      "metadata": {
        "id": "2BNVUb6-aT--"
      }
    },
    {
      "cell_type": "code",
      "execution_count": null,
      "metadata": {
        "colab": {
          "base_uri": "https://localhost:8080/"
        },
        "id": "OjAc0Mm0XXZM",
        "outputId": "0215064e-1e7b-4e5c-ee2f-042b5137cd68"
      },
      "outputs": [
        {
          "output_type": "stream",
          "name": "stdout",
          "text": [
            "Die Mathematik bundesdeutsches Hochdeutsch mwparseroutput IPA atextdecorationnonematematik matematik\n",
            "61994\n"
          ]
        }
      ],
      "source": [
        "import requests                 # Package, das Internetseiten laden kann\n",
        "from bs4 import BeautifulSoup   # Package, das heruntergeladene Internetzseiten \"hübsch\" macht\n",
        "import matplotlib.pyplot as plt\n",
        "\n",
        "# -------------------- LINK ---------------------\n",
        "links = [\n",
        "         \"https://de.wikipedia.org/wiki/Mathematik\",\n",
        "         \"https://de.wikipedia.org/wiki/Kongruenzgenerator\",\n",
        "         \"https://de.wikipedia.org/wiki/Pseudozufall\",\n",
        "         \"https://de.wikipedia.org/wiki/Python_(Programmiersprache)\"\n",
        "        ] # Den Link hier könnt ihr gerne ändern\n",
        "# -----------------------------------------------\n",
        "\n",
        "text = \"\"\n",
        "for link in links:\n",
        "    r = requests.get(link) # lade Seiteninhalt runter\n",
        "    soup = BeautifulSoup(r.text) # mache Inhalt \"hübsch\"\n",
        "    text = text+\"\".join([data.get_text() for data in soup.find_all(\"p\")]) # ziehe NUR Texte aus r\n",
        "\n",
        "# entferne Sonderzeichen\n",
        "sonderzeichen = ['Ζ', 'Χ', 'Ε', 'Β', 'ό', 'Ω', 'Θ', '΄', 'φ', '•', 'π', 'Γ', 'ζ', 'Ρ', 'ά', 'Μ', 'Η', 'σ', 'Λ', 'ώ', 'δ', 'Φ', 'ψ', 'Ο', 'Έ', 'Α', 'Ά', 'Ι', 'Ξ', 'Δ', 'Ϝ', 'Ϟ', 'ξ', 'ί', '^', 'γ', 'Ν', 'ε', 'Τ', 'Σ', 'Υ', 'Ψ', 'ϊ', 'Κ', '\\\\', 'ə', '»', '«', 'ω', 'ύ', 'Π', 'æ', '≥', '³', 'µ', '>', 'ā', '½', 'î', '=', 'β', 'υ', 'ī', 'č', 'ο', 'ἰ', 'ς', '!', 'ἴ', 'ū', 'ρ', 'λ', 'ð', 'ú', '€', \"'\", 'Á', 'ō', 'ó', '̑', '±', '\"', 'í', '%', '°', 'á', 'ɔ', '+', '|', 'ø', 'ɪ', '͡', '−', '→', '§', 'ʃ', '*', '&', '̯', ':', 'χ', '1', '–', 'α', ')', ';', '…', '[', 'É', 'ν', '0', '\\xad', 'ː', '5', '‘', '4', '„', 'é', '9', '8', '.', 'ˈ', '7', 'τ', '(', 'μ', '“', 'ç', '\\xa0', '/', '-', '”', 'η', 'θ', 'è', '3', 'ß', '{', '?', '‚', 'ή', '6', '2', 'ι', '’', ',', 'κ', ']', 'έ', 'ē', '}', '<', '_','ʰ', '̩', '\\u2061', '∈', '∉', '∑', '≢', '≤', '⋅', 'Ɑ', 'ɑ']\n",
        "for zeichen in sonderzeichen:\n",
        "    text = text.replace(zeichen, \"\")\n",
        "\n",
        "print(text[:100])\n",
        "print(len(text))\n",
        "\n"
      ]
    },
    {
      "cell_type": "markdown",
      "source": [
        "## Aufgabe 1 - Buchstaben zählen\n",
        "In dieser Aufgabe wollen wir die Buchstaben zählen! Das Ergebnis soll hinterher ein Dictionary sein, in dem jedem Buchstaben die jeweilige Anzahl in dem Artikel zugewiesen wird. Beispielsweise so:\n",
        "\n",
        "```{'A': 123, 'B': 215, 'C': 45, ...}```\n",
        "\n",
        "*Bonus:* Stelle dein Ergebnis in einem Balkendiagramm dar. Der Befehl dafür lautet ```plt.bar()``` ([Link zur Dokumentation](https://matplotlib.org/3.5.1/api/_as_gen/matplotlib.pyplot.bar.html))."
      ],
      "metadata": {
        "id": "1-yQk5ZRbk5N"
      }
    },
    {
      "cell_type": "code",
      "source": [
        ""
      ],
      "metadata": {
        "id": "m4ENEPndlxTA"
      },
      "execution_count": null,
      "outputs": []
    },
    {
      "cell_type": "markdown",
      "source": [
        "## Aufgabe 2 - Wörter Zählen\n",
        "Zähle alle Wörter im Artikel! Das Ergebnis soll hinterher ein Dictionary sein, in dem jedem Wort die jeweilige Anzahl in dem Artikel zugewiesen wird. Beispielsweise so:\n",
        "\n",
        "```{'DIE': 301, 'DER': 261, 'UND': 199, 'IN': 152, ...}```\n",
        "\n",
        "*Hinweis*: Eventuell musst du mit ```split``` den Text vorverarbeiten. Ebenso ist es sinnvoll, die Wörter alle in Großbuchstaben umzuwandeln.\n",
        "\n",
        "*Bonus*: Stelle die 30 häufigsten Wörter in einem Balkendiagramm dar. Der Befehl dafür lautet ```plt.bar()``` ([Link zur Dokumentation](https://matplotlib.org/3.5.1/api/_as_gen/matplotlib.pyplot.bar.html)).\n",
        "\n"
      ],
      "metadata": {
        "id": "wYVrSiBocPqM"
      }
    },
    {
      "cell_type": "code",
      "source": [
        ""
      ],
      "metadata": {
        "id": "tBnR8LaRly2a"
      },
      "execution_count": null,
      "outputs": []
    },
    {
      "cell_type": "markdown",
      "source": [
        "## Beispiel ```plt.bar```\n",
        "Gegeben ist ein Dictionary mit irgendwelchen Werten (hier: Hunde mit Körpergrößen in cm, [hier rauskopiert](https://tarigs.com/de/groessentabelle-hund/)). Wir wollen ein Balkendiagramm anlegen."
      ],
      "metadata": {
        "id": "dI8qhOcEhaLG"
      }
    },
    {
      "cell_type": "code",
      "source": [
        "hunde = {\n",
        "    \"Australian Shepherd\": 58,\n",
        "    \"Bernhardiner\": 80,\n",
        "    \"Border Collie\": 56,\n",
        "    \"Chihuahua\": 22,\n",
        "    \"Dackel\": 23,\n",
        "    \"Dalmatiner\": 64,\n",
        "    \"Deutscher Schäferhund\": 65,\n",
        "    \"Golden Retriever\": 61,\n",
        "    \"Mastiff\": 80,\n",
        "    \"Mops\": 30,\n",
        "    \"Siberian Husky\": 60,\n",
        "    }\n",
        "\n",
        "plt.figure()    # Erstelle neue Abbildung\n",
        "plt.bar(hunde.keys(), hunde.values())   # Plotte Werte\n",
        "plt.grid()  # Gitter zur besseren Lesbarkeit\n",
        "plt.xticks(rotation=70) # Drehe Namen um 70°\n",
        "plt.show()  # Zeige Abbildung an"
      ],
      "metadata": {
        "colab": {
          "base_uri": "https://localhost:8080/",
          "height": 370
        },
        "id": "aSx76l9zhtKR",
        "outputId": "de410647-0d2c-40d0-b4bb-8264cd81eeaa"
      },
      "execution_count": null,
      "outputs": [
        {
          "output_type": "display_data",
          "data": {
            "text/plain": [
              "<Figure size 432x288 with 1 Axes>"
            ],
            "image/png": "[encoded data removed]"
          },
          "metadata": {
            "needs_background": "light"
          }
        }
      ]
    }
  ]
}