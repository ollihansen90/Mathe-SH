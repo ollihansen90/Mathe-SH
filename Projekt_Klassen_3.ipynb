{
  "nbformat": 4,
  "nbformat_minor": 0,
  "metadata": {
    "colab": {
      "name": "Projekt Klassen 3.ipynb",
      "provenance": [],
      "collapsed_sections": [],
      "include_colab_link": true
    },
    "kernelspec": {
      "name": "python3",
      "display_name": "Python 3"
    },
    "language_info": {
      "name": "python"
    }
  },
  "cells": [
    {
      "cell_type": "markdown",
      "metadata": {
        "id": "view-in-github",
        "colab_type": "text"
      },
      "source": [
        "<a href=\"https://colab.research.google.com/github/ollihansen90/Mathe-SH/blob/main/Projekt_Klassen_3.ipynb\" target=\"_parent\"><img src=\"https://colab.research.google.com/assets/colab-badge.svg\" alt=\"Open In Colab\"/></a>"
      ]
    },
    {
      "cell_type": "markdown",
      "source": [
        "\n",
        "# Projekt Klassen - Teil 3\n",
        "## Fragen?\n",
        "Solltet ihr Fragen zum Code oder Probleme mit Colab haben, schickt uns gerne eine Mail:\n",
        "*   hohansen@inb.uni-luebeck.de\n",
        "*   maren.wieder@student.uni-luebeck.de\n",
        "*   friederike.meissner@student.uni-luebeck.de\n",
        "*   dustin.haschke@student.uni-luebeck.de"
      ],
      "metadata": {
        "id": "3NzGLDNG74Dx"
      }
    },
    {
      "cell_type": "markdown",
      "source": [
        "#**Einladung zu unserer Farm**\n",
        "\n",
        "Wir wollen heute eine virtuelle Farm erstellen. Dafür verwenden wir Klassen.\n",
        "\n",
        "So soll das Konzept der Klassen weiter verinnerlicht werden, indem wir uns mehr mit den Möglichkeiten dieser Programmiertechnik vertraut machen.\n",
        "\n",
        "Unser Vorwissen aus den letzten Kurseinheiten ist dabei zentral und sollte ggf. nochmals wiederholt werden:\n",
        "- https://github.com/ollihansen90/Mathe-SH/blob/main/Mathe%5ESH_Prog_13_Klassen_Grundlagen.ipynb\n",
        "- https://github.com/ollihansen90/Mathe-SH/blob/main/Mathe%5ESH_Prog_14_Klassen_Vererbung.ipynb\n",
        "\n",
        "Dieser Teil des Projektes basiert auf dem letzten Teil:\n",
        "- https://github.com/ollihansen90/Mathe-SH/blob/main/Projekt_Klassen_1.ipynb\n",
        "- https://github.com/ollihansen90/Mathe-SH/blob/main/Projekt_Klassen_2.ipynb\n",
        "\n",
        "Selbstverständlich können einfach die alten (Muster-)Lösungen kopiert werden!"
      ],
      "metadata": {
        "id": "kh2s--t48Cdm"
      }
    },
    {
      "cell_type": "markdown",
      "source": [
        "## Aufgabe 2 - Der Markt\n",
        "\n",
        "In dieser Teilaufgabe soll ein Markt erstellt werden, auf dem man Saatgut kaufen und die Erträge verkaufen kann. Hierbei soll der Preis abhängig von der Nachfrage sein (so ähnlich wie im echten Leben). Das können wir simulieren, indem wir einfach eine Zufallszahl generieren lassen."
      ],
      "metadata": {
        "id": "GBjVRiIz9dyg"
      }
    },
    {
      "cell_type": "code",
      "source": [
        "import random\n",
        "\n",
        "def faktor():\n",
        "    z = random.random()-0.5\n",
        "    if z<0:\n",
        "        return 1/(1+z)\n",
        "    else:\n",
        "        return 1-z\n"
      ],
      "metadata": {
        "id": "w9HEGP4y9p0i"
      },
      "execution_count": null,
      "outputs": []
    },
    {
      "cell_type": "markdown",
      "source": [
        "### Aufgabe 2.2 - Der Markt\n",
        "Schreibe eine Klasse `Markt`, die den Ein- und Verkaufspreis berechnet. \n",
        "\n",
        "Bei der Initialisierung soll bereits der gesamte Preisverlauf für alle Pflanzen und die jeweilige Saat feststehen. Die Variablen `verlauf_pflanze` und `verlauf_saat` sind also Listen von Listen. Gleichzeitig soll der Verlauf aber nicht von außen aufrufbar sein. Es handelt sich also um *private Variablen*.\n",
        "\n",
        "Um diese Listen von Listen erstellen zu können, wird eine (private) Methode `set_verlauf` benötigt. Diese Methode soll die Anzahl Tage und Anzahl verschiedener Pflanzen erhalten und entsprechend für jeden Tag eine Liste mit Preisfaktoren zurückgeben. Die Faktoren werden mit Hilfe der Funktion `faktor` aus Teilaufgabe 2.1 erstellt. Wenn wir also 10 Tage mit 3 Pflanzen simulieren möchten, erhalten wir eine Liste von 10 Listen mit jeweils 3 Einträgen.\n",
        "\n",
        "Da `verlauf_pflanze` und `verlauf_saat` private Variablen sind, können wir nicht außerhalb der Klasse `Markt` darauf zugreifen. Um das zu umgehen, wird eine Methode `pflanzenpreise` bzw. `saatpreise` benötigt, die eine Nummer `tag` übergeben bekommt und die Preise zum zugehörigen Tag zurückgibt.\n",
        "\n",
        "Teste deinen Markt, indem du dir die Saat- und Pflanzenpreise am Tag 5 ausgeben lässt (ist schon vorprogrammiert).\n",
        "\n",
        "**TODO**: *In einem späteren Teil des Projektes wird der Markt noch erweitert!*"
      ],
      "metadata": {
        "id": "z_1rF7nG92JU"
      }
    },
    {
      "cell_type": "code",
      "source": [
        "# Hier kommt dein Code hin :-)\n",
        "\n",
        "# Hier ist der Test:\n",
        "markt = Markt()\n",
        "print(markt.saatpreise(tag=5))\n",
        "print(markt.pflanzenpreise(tag=5))"
      ],
      "metadata": {
        "id": "oDkFsG1h-DHA"
      },
      "execution_count": null,
      "outputs": []
    },
    {
      "cell_type": "markdown",
      "source": [
        "### Musterlösung zu 2.2"
      ],
      "metadata": {
        "id": "13uYQBEx-G22"
      }
    },
    {
      "cell_type": "code",
      "source": [
        "class Markt():\n",
        "    def __init__(self, n_tage=10, n_pflanzen=3):\n",
        "        self.__verlauf_pflanze = self.__set_verlauf(n_tage, n_pflanzen)\n",
        "        self.__verlauf_saat = self.__set_verlauf(n_tage, n_pflanzen)\n",
        "        print(\"Der Markt wurde initialisiert!\")\n",
        "\n",
        "    def saatpreise(self, tag=0):\n",
        "        return self.__verlauf_saat[tag]\n",
        "\n",
        "    def pflanzenpreise(self, tag=0):\n",
        "        return self.__verlauf_pflanze[tag]\n",
        "\n",
        "    def __set_verlauf(self, n_tage, n_pflanzen):\n",
        "        return [[faktor() for i in range(n_pflanzen)] for _ in range(n_tage)]\n",
        "\n",
        "markt = Markt()\n",
        "print(markt.saatpreise(tag=5))\n",
        "print(markt.pflanzenpreise(tag=5))\n"
      ],
      "metadata": {
        "id": "_NiqLlhz-Jky"
      },
      "execution_count": null,
      "outputs": []
    },
    {
      "cell_type": "markdown",
      "source": [
        "## Aufgabe 3 - Tiere\n",
        "\n",
        "Um die Vererbung noch weiter zu üben und eine Grundlage für eine Erweiterung unserers Spiels zu erschaffen, wollen wir eine Oberklasse Tiere anlegen und mehrere Klassen, die von dieser erben.\n",
        "\n",
        "Überlegt euch zuerst, was alle Tiere gemeinsam haben sollten und welche Methoden für eine zukünftige Implementierung in das Spiel sinnvoll wären.\n",
        "\n",
        "Überlegt euch außerdem mindestens drei verschiedene Arten von Tieren, die von eurer Klasse Tiere erben.\n",
        "\n",
        "Nicht alle benötigten Klassen zur Implementierung in das vollständige Spiel müssen bereits existieren. Behandelt es einfach so, als wären sie bereits vorhanden. (Das gilt für Dinge wie Stall oder Wiesen auf der Farm.)\n",
        "\n",
        "Für Vorschläge von Tieren, sowie Methoden und Attributen der Klasse Tiere öffnet ,,Vorschläge\"."
      ],
      "metadata": {
        "id": "TnoVcN2q8QA0"
      }
    },
    {
      "cell_type": "code",
      "execution_count": null,
      "metadata": {
        "id": "7uSv3wSA7s3v"
      },
      "outputs": [],
      "source": [
        "## Hier kommt euer Code hin\n",
        "\n",
        "\n"
      ]
    },
    {
      "cell_type": "markdown",
      "source": [
        "### Vorschläge"
      ],
      "metadata": {
        "id": "clJLszpk8YKa"
      }
    },
    {
      "cell_type": "markdown",
      "source": [
        "Klasse ,,Tiere'': \n",
        "\n",
        "* Mögliche Attribute: Name, Produkt (Eier, Milch, Wolle, ...), Futter (hier sich potentiell auf implementierte Feldfrüchte beschränken), Einkaufs- und Verkaufspreis, Preis vom Produkt\n",
        "* Mögliche Methoden: Füttern, Sammeln des Produkts, ...\n",
        "\n",
        "Ideen für Tiere: Hühner, Schafe, Kühe, Schafe, Gänse, Enten, Pferde, ..."
      ],
      "metadata": {
        "id": "qelaeZpH8XeZ"
      }
    },
    {
      "cell_type": "markdown",
      "source": [
        "### Lösungsvorschlag"
      ],
      "metadata": {
        "id": "_dw2vMXd8ddv"
      }
    },
    {
      "cell_type": "code",
      "source": [
        "class Tiere():\n",
        "    def __init__(self, name, produkt, futter, einkaufspreis, produktpreis, verkaufspreis):\n",
        "        self.name = name\n",
        "        self.produkt = produkt\n",
        "        self.futter = futter\n",
        "        self.einkaufspreis = einkaufspreis\n",
        "        self.produktpreis = produktpreis\n",
        "        self.verkaufspreis = verkaufspreis\n",
        "\n",
        "    def fuettern(self):\n",
        "        print(self.name, \"wird gefüttert ... fertig!\")\n",
        "\n",
        "    def produktsammeln(self):\n",
        "        print(self.produkt, \"wird/werden gesammelt.\")\n",
        "        print(\"Der aktuelle Marktwert beträgt\", self.produktpreis) \n",
        "\n",
        "class Huhn(Tiere):\n",
        "    def __init__(self, einkaufspreis, produktpreis, verkaufspreis):\n",
        "        super().__init__(\"Huhn\", \"Eier\", \"Mais\", einkaufspreis, produktpreis, verkaufspreis)\n",
        "\n",
        "class Kuh(Tiere):\n",
        "    def __init__(self, einkaufspreis, produktpreis, verkaufspreis):\n",
        "        super().__init__(\"Kuh\", \"Milch\", \"Mais\", einkaufspreis, produktpreis, verkaufspreis)\n",
        "\n",
        "class Schwein(Tiere):\n",
        "    def __init__(self, einkaufspreis, produktpreis, verkaufspreis):\n",
        "        super().__init__(\"Schwein\", \"Trüffel\", \"Kartoffel\", einkaufspreis, produktpreis, verkaufspreis)\n",
        "\n",
        "class Schaf(Tiere):\n",
        "    def __init__(self, einkaufspreis, produktpreis, verkaufspreis):\n",
        "        super().__init__(\"Schaf\", \"Wolle\", \"Mais\", einkaufspreis, produktpreis, verkaufspreis)\n",
        "\n",
        "class Pferd(Tiere):\n",
        "    def __init__(self, einkaufspreis, produktpreis, verkaufspreis, energie):\n",
        "        super().__init__(\"Pferd\", \"Arbeitskraft\", \"Hafer\", einkaufspreis, produktpreis, verkaufspreis)\n",
        "        self.energie = energie      # Angabe des Energielevels in %\n",
        "    \n",
        "    def fuettern(self):\n",
        "        print(self.name, \"wird gefüttert ... fertig!\")\n",
        "        self.energie = 100"
      ],
      "metadata": {
        "id": "i9or9PtR8iCL"
      },
      "execution_count": null,
      "outputs": []
    },
    {
      "cell_type": "markdown",
      "source": [
        "## Bonus: Sätechnik\n",
        "Damit unsere Felder nun auch bewirtschaftet werden können, brauchen wir Maschinen zum Pflügen der Erde und Ausbringen des Saatguts.\n",
        "\n",
        "Lege dafür eine Oberklasse ```Saetechnik``` an, deren Attribut ```effizienz``` angibt, wie viele Felder diese Maschine innerhalb einer Zeitspanne pflügen kann. Sie sollte außerdem eine Methode ```aussaat()``` erhalten, die per ```print()``` den Saatvorgang etwas illustriert.\n",
        "\n",
        "Definiere nun die von ```Saetechnik``` erbenden Klassen ```Handpflug```, ```Pferdepflug``` und ```TraktorMitPflug``` und überlege dir für die Initialiserung der Effizienz eine sinnvolle Anzahl an Feldern.\n",
        "\n",
        "Überschreibe anschließend die jeweilige ```aussaat()```-Methode jeder Unterklasse mit einer spezielleren (passenderen) Ausgabe für die Konsole.\n",
        "\n",
        "Zum Schluss müssen wir noch die Klasse ```Feldfrucht``` um die Methode ```saat``` erweitern, die eine Maschine der Sätechnik als Argument erhält und damit die ```aussaat()```-Methode aufruft.\n",
        "\n",
        "Wenn du möchtest, kannst du außerdem einen ```Pferdepflug``` mit einem Objekt der Klasse ```Pferd``` interagieren lassen, indem z.B. die Energie des Pferdes hoch genug sein muss, um mit der Aussaat beginnen zu können.\n"
      ],
      "metadata": {
        "id": "m_fq12JF_Sjn"
      }
    },
    {
      "cell_type": "code",
      "source": [
        "## Hier kommt euer Code hin\n",
        "\n",
        "\n"
      ],
      "metadata": {
        "id": "lUUQIhdcCHqq"
      },
      "execution_count": null,
      "outputs": []
    },
    {
      "cell_type": "markdown",
      "source": [
        "### Lösungsvorschlag"
      ],
      "metadata": {
        "id": "0BF53bsaAuTP"
      }
    },
    {
      "cell_type": "code",
      "source": [
        "class Saetechnik():\n",
        "    def __init__(self, effizienz):\n",
        "        self.effizienz = effizienz      # Effizienz z.B Anzahl der Felder, die in bestimmter Zeit bearbeitet werden können\n",
        "\n",
        "    def aussaat(self):\n",
        "        print(\"Das Feld wird gepflügt ... fertig!\")\n",
        "        print(\"Das Saatgut wird auf dem Feld verteilt ... fertig!\")\n",
        "\n",
        "class Handpflug(Saetechnik):\n",
        "    def __init__(self):\n",
        "        super().__init__(1)\n",
        "\n",
        "    def aussaat(self):\n",
        "        print(\"Das Feld wird mühsam gepflügt ...\")\n",
        "        print(\"... Puh, jetzt ist erstmal eine Pause nötig.\")\n",
        "        print(\"Zu guter Letzt werden die Samen auf dem Feld verteilt ... fertig!\")\n",
        "\n",
        "class Pferdepflug(Saetechnik):\n",
        "    def __init__(self):\n",
        "        super().__init__(5)\n",
        "\n",
        "    def aussaat(self, pferd):\n",
        "        if pferd.energie > 40: # optional\n",
        "            print(\"Das Pferd beginnt mit dem Pflügen des Feldes ...\")\n",
        "            print(\"Jetzt wird das Saatgut auf dem Feld verteilt ... fertig!\")\n",
        "        else:\n",
        "            print(\"Dein Pferd hat nicht genug Energie, um das Feld zu pflügen!\")\n",
        "\n",
        "class TraktorMitPflug(Saetechnik):\n",
        "    def __init__(self):\n",
        "        super().__init__(10)\n",
        "\n",
        "    def aussaat(self):\n",
        "            print(\"Der Traktor beginnt mit dem Pflügen des Feldes ...\")\n",
        "            print(\"Jetzt wird das Saatgut auf dem Feld verteilt ... fertig!\")\n",
        "\n",
        "class Feldfrucht():\n",
        "    def __init__(self, name, einkaufspreis, verarbeitungskosten, verkaufspreis):\n",
        "        self.name = name\n",
        "        self.einkaufspreis = einkaufspreis\n",
        "        self.verarbeitungskosten = verarbeitungskosten\n",
        "        self.verkaufspreis = verkaufspreis\n",
        "\n",
        "    def saat(self, saetechnik):\n",
        "        saetechnik.aussaat()"
      ],
      "metadata": {
        "id": "sY9dNaMTAppB"
      },
      "execution_count": null,
      "outputs": []
    }
  ]
}