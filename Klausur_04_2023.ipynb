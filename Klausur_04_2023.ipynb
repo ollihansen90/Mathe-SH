{
  "nbformat": 4,
  "nbformat_minor": 0,
  "metadata": {
    "colab": {
      "provenance": [],
      "include_colab_link": true
    },
    "kernelspec": {
      "name": "python3",
      "display_name": "Python 3"
    },
    "language_info": {
      "name": "python"
    }
  },
  "cells": [
    {
      "cell_type": "markdown",
      "metadata": {
        "id": "view-in-github",
        "colab_type": "text"
      },
      "source": [
        "<a href=\"https://colab.research.google.com/github/ollihansen90/Mathe-SH/blob/main/Klausur_04_2023.ipynb\" target=\"_parent\"><img src=\"https://colab.research.google.com/assets/colab-badge.svg\" alt=\"Open In Colab\"/></a>"
      ]
    },
    {
      "cell_type": "markdown",
      "source": [
        "# 🥳 Python-Klausur - 12.04.2023 🥳\n",
        "\n",
        "## Fragen?\n",
        "Solltet ihr Fragen zu den Aufgaben oder Probleme mit Colab haben, schickt uns gerne eine Mail:\n",
        "\n",
        "*   hohansen@inb.uni-luebeck.de\n",
        "*   maren.wieder@student.uni-luebeck.de\n",
        "*   friederike.meissner@student.uni-luebeck.de\n",
        "*   dustin.haschke@student.uni-luebeck.de\n",
        "*   kira.nissen@student.uni-luebeck.de\n",
        "\n",
        "**Weitere Hilfen**\n",
        "\n",
        " Dokumentation: https://docs.python.org\n",
        " \n",
        "alte Notebooks: https://github.com/ollihansen90/Mathe-SH/"
      ],
      "metadata": {
        "id": "5OVTFnNOm6w6"
      }
    },
    {
      "cell_type": "markdown",
      "source": [
        "## Teil 0\n",
        "\n",
        "Gib deinen Namen auf der Konsole aus. Dieser Name wird hinterher auch auf deiner Urkunde stehen!"
      ],
      "metadata": {
        "id": "0uhXpZnfnEef"
      }
    },
    {
      "cell_type": "code",
      "execution_count": null,
      "metadata": {
        "id": "3X4VW8BQmufg"
      },
      "outputs": [],
      "source": []
    },
    {
      "cell_type": "markdown",
      "source": [
        "## Teil 1 (Abgabe am 12.04.)\n",
        "\n",
        "Schicke diesen Teil bitte am **12.04.** bis **19.15 Uhr** (am besten als .ipynb, siehe \"Datei\" > \"Herunterladen\") an friederike.meissner@student.uni-luebeck.de."
      ],
      "metadata": {
        "id": "34Q6ChnBnHiD"
      }
    },
    {
      "cell_type": "markdown",
      "source": [
        "### 🤔 Aufgabe 1 (Quizfragen) 🤔\n",
        "\n",
        "Entscheide bei den folgenden Aussagen jeweils, ob sie richtig oder falsch sind. Ist eine Aussage falsch, begründe dies bitte oder korrigiere sie."
      ],
      "metadata": {
        "id": "aur66Y9lnPzv"
      }
    },
    {
      "cell_type": "markdown",
      "source": [
        "Aussage 1: Variablennamen sind case-sensitive. Das bedeutet varname, vArNAmE und varName sind drei verschiedene Variablennamen."
      ],
      "metadata": {
        "id": "cqgeP_oRhW5Y"
      }
    },
    {
      "cell_type": "code",
      "source": [
        "# Antwort:"
      ],
      "metadata": {
        "id": "NoYYcGmWnUZw"
      },
      "execution_count": null,
      "outputs": []
    },
    {
      "cell_type": "markdown",
      "source": [
        "Aussage 2: Der Aufruf ```text.len()``` gibt die Länge des Strings ```text``` zurück."
      ],
      "metadata": {
        "id": "JIaNzutihcaj"
      }
    },
    {
      "cell_type": "code",
      "source": [
        "# Antwort:"
      ],
      "metadata": {
        "id": "4RzZmo47jLpq"
      },
      "execution_count": null,
      "outputs": []
    },
    {
      "cell_type": "markdown",
      "source": [
        "Aussage 3: Mit dem Schlüsselwort ```del``` können sowohl ein einzelner Key aus dem Dictionary als auch das gesamte Dictionary gelöscht werden."
      ],
      "metadata": {
        "id": "tGrE8_H3jLee"
      }
    },
    {
      "cell_type": "code",
      "source": [
        "# Antwort:"
      ],
      "metadata": {
        "id": "-TyUdbgWmAhT"
      },
      "execution_count": null,
      "outputs": []
    },
    {
      "cell_type": "markdown",
      "source": [
        "Aussage 4: Die for-Schleife\n",
        "\n",
        "```\n",
        "for i in range(5,0,-1): \n",
        "    print(i)\n",
        "```\n",
        "ist äquivalent zur while-Schleife \n",
        "\n",
        "```\n",
        "i = 5\n",
        "while i >= 1 and i < 6: \n",
        "    print(i)\n",
        "```\n"
      ],
      "metadata": {
        "id": "4dSQNsOzzWxY"
      }
    },
    {
      "cell_type": "code",
      "source": [
        "# Antwort:"
      ],
      "metadata": {
        "id": "hKEq9Nc7mHKh"
      },
      "execution_count": null,
      "outputs": []
    },
    {
      "cell_type": "markdown",
      "source": [
        "Aussage 5: Die Funktion, um auf die zugehörige Oberklasse zuzugreifen, heißt ```ancestor()```."
      ],
      "metadata": {
        "id": "IOKA3P8rzYUE"
      }
    },
    {
      "cell_type": "code",
      "source": [
        "# Antwort:"
      ],
      "metadata": {
        "id": "BzrfcGLZmH9k"
      },
      "execution_count": null,
      "outputs": []
    },
    {
      "cell_type": "markdown",
      "source": [
        "## 🕖 Teil 2 (Abgabe am 19.04.) 🕖\n",
        "\n",
        "Schicke diesen Teil bitte bis spätestens **19.04.** um **19.15 Uhr** (am besten als .ipynb, siehe \"Datei\" > \"Herunterladen\") an friederike.meissner@student.uni-luebeck.de."
      ],
      "metadata": {
        "id": "eBeKt00unU61"
      }
    },
    {
      "cell_type": "markdown",
      "source": [
        "### 😎 Aufgabe 2 (leichte Programmieraufgabe) 😎\n",
        "\n",
        "Implementiere eine Funktion, die mithilfe der p-q-Formel die Nullstellen eines beliebigen quadratischen Polynoms der Form $f(x) = x^2 + px + q$ als Liste zurückgibt. Alternativ kannst du auch die Mitternachtsformel für Polynome der Form $f(x) = ax^2 + bx + c$ verwenden.\n",
        "\n",
        "Beachte dabei auch den Fall, dass keine (reellen) Nullstellen existieren!"
      ],
      "metadata": {
        "id": "6fJQFnbsvc-U"
      }
    },
    {
      "cell_type": "code",
      "source": [],
      "metadata": {
        "id": "r2Y0ZpjlmLDf"
      },
      "execution_count": null,
      "outputs": []
    },
    {
      "cell_type": "markdown",
      "source": [
        "### 😐 Aufgabe 3 (leichtere Programmieraufgabe) 😐\n",
        "\n",
        "Definiere eine Funktion ```factorize(zahl)```, die die übergebene ```zahl``` in ihre (aufsteigend sortierten) Primfaktoren zerlegt und wie folgt auf der Konsole ausgibt\n",
        "> zahl = faktor_1 * faktor_2 * ... * faktor_n, \n",
        "\n",
        "also z.B. 18 = 2 * 3 * 3.\n",
        "\n",
        "Gib die Primfaktoren außerdem als Liste zurück, wobei mehrfach vorkommende Faktoren auch mehrfach enthalten sein sollen,\n",
        "\n",
        "> z.B. für ```zahl``` = 18 als ```[2, 3, 3]```.\n",
        "\n",
        "Teste deine Funktion zuletzt für ```zahl``` = 2023."
      ],
      "metadata": {
        "id": "Ln0dUsb4vd-H"
      }
    },
    {
      "cell_type": "code",
      "source": [],
      "metadata": {
        "id": "k6JBDIcDmM8D"
      },
      "execution_count": null,
      "outputs": []
    },
    {
      "cell_type": "markdown",
      "source": [
        "### 😬 Aufgabe 4 (schwierigere Programmieraufgabe) 😬\n",
        "Hier wollen wir die Entwicklung einer Käferpopulation und ihrer Larven (stark vereinfacht) modellieren. \n",
        "Lege dafür eine **rekursive Funktion** mit den Übergabeparametern ```larven``` und ```kaefer``` an, die die jeweilige Anzahl der Larven und Käfer pro Zeitschritt repräsentieren.\n",
        "Die Anzahl der Larven und Käfer im nächsten Zeitschritt berechnet sich wie folgt:\n",
        "- Eine Larve wird mit 70%-iger Wahrscheinlichkeit zu einem Käfer, sonst bleibt sie im Larvenstadium.\n",
        "- Ein Käfer erzeugt 10 Nachkommen (Larven), stirbt aber unmittelbar danach, also noch innerhalb des Zeitschritts.\n",
        "\n",
        "Die Entwicklung soll solange betrachtet werden, bis alle Larven und Käfer ausgestorben sind oder die Population 100'000 Käfer umfasst, da dann nicht mehr genügend Nahrung vorhanden ist.\n"
      ],
      "metadata": {
        "id": "0ZaQrKTkvhcs"
      }
    },
    {
      "cell_type": "code",
      "source": [],
      "metadata": {
        "id": "rpGO8taBvj01"
      },
      "execution_count": null,
      "outputs": []
    },
    {
      "cell_type": "markdown",
      "source": [
        "### 🥵 Aufgabe 5 (schwierigste Programmieraufgabe) 🥵\n",
        "Erstelle zwei Klassen ```String_Vokale``` und ```String_Konsonaten```, die die Klasse ```String``` so erweitern, dass ein Parsen in Integer die Anzahl der Vokale bzw. Konsonanten zurückgibt.\n",
        "\n",
        "Zur Erinnerung: \"Parsen\" bedeutet, dass ein Datentyp in einen anderen umgewandelt wird. Im folgenden Codeblock gibt es ein Beispiel.\n",
        "\n"
      ],
      "metadata": {
        "id": "Qa5Qw8TYvnJV"
      }
    },
    {
      "cell_type": "code",
      "source": [
        "# Beispiel\n",
        "zahl_als_string = \"14\"\n",
        "zahl_als_integer = int(zahl_als_string)\n",
        "print(zahl_als_integer)"
      ],
      "metadata": {
        "id": "2d_UVYwD313g"
      },
      "execution_count": null,
      "outputs": []
    },
    {
      "cell_type": "markdown",
      "source": [
        "Für diese Aufgabe soll eine Instanz der Klasse ```String_Vokale``` die Anzahl der Vokale zurückgeben, wenn sie in einen Integer umgewandelt wird:\n",
        "\n",
        "```\n",
        "text = \"Hallo\"\n",
        "vok = String_Vokale(text)\n",
        "kons = String_Konsonanten(text)\n",
        "print(int(vok))            # Hier sollte die Ausgabe 2 sein.\n",
        "print(int(kons))           # Hier sollte die Ausgeb 3 sein.\n",
        "```"
      ],
      "metadata": {
        "id": "j08rZOj_-rrv"
      }
    },
    {
      "cell_type": "code",
      "source": [
        "# Lösung\n"
      ],
      "metadata": {
        "id": "vsmSm0h-vn5x"
      },
      "execution_count": null,
      "outputs": []
    },
    {
      "cell_type": "markdown",
      "source": [
        "## 💪 Bonusaufgabe 💪\n",
        "Über die Osterferien hat Olli Kaffee über seinen Laptop geschüttet, sodass die Tastatur kaputt gegangen ist! Er kann jetzt nur noch die Buchstaben der obersten Zeile tippen: Das sind \"Q\", \"W\", \"E\", \"R\", \"T\", \"Z\", \"U\", \"I\", \"O\", \"P\" und \"Ü\".\n",
        "\n",
        "Welche Wörter kann er mit den Tasten noch tippen? Finde auch die zehn längsten Wörter!\n",
        "\n",
        "*Hinweis 1:* Wandle vor der Überprüfung die Buchstaben immer in Großbuchstaben um!\n",
        "\n",
        "*Hinweis 2:* Für die volle Punktzahl dieser Aufgabe brauchst du nicht unbedingt zu programmieren. Zur Not kannst du die Liste auch per Hand durchgehen.\n"
      ],
      "metadata": {
        "id": "fbUR9AqHvqpR"
      }
    },
    {
      "cell_type": "code",
      "source": [
        "import os\n",
        "if \"deutsch.txt\" not in os.listdir():\n",
        "    !wget https://raw.githubusercontent.com/ollihansen90/Mathe-SH/main/data/deutsch.txt\n",
        "with open(\"deutsch.txt\", \"r\") as file:\n",
        "    wortliste = file.read().split(\"\\n\")\n",
        "\n",
        "print(\"Die Liste enthält\",len(wortliste),\"Wörter.\")\n",
        "\n",
        "# Ab hier kommt eigener Code:\n",
        "\n"
      ],
      "metadata": {
        "id": "HUWZsDuYDvpF"
      },
      "execution_count": null,
      "outputs": []
    }
  ]
}