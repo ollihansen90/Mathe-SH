{
  "nbformat": 4,
  "nbformat_minor": 0,
  "metadata": {
    "colab": {
      "name": "Projekt_Klassen_1.ipynb",
      "provenance": [],
      "authorship_tag": "ABX9TyOx1q2NaqiVIkZ2hCYu74hF",
      "include_colab_link": true
    },
    "kernelspec": {
      "name": "python3",
      "display_name": "Python 3"
    },
    "language_info": {
      "name": "python"
    }
  },
  "cells": [
    {
      "cell_type": "markdown",
      "metadata": {
        "id": "view-in-github",
        "colab_type": "text"
      },
      "source": [
        "<a href=\"https://colab.research.google.com/github/ollihansen90/Mathe-SH/blob/main/Projekt_Klassen_1.ipynb\" target=\"_parent\"><img src=\"https://colab.research.google.com/assets/colab-badge.svg\" alt=\"Open In Colab\"/></a>"
      ]
    },
    {
      "cell_type": "markdown",
      "metadata": {
        "id": "YzFRYmlbJ21_"
      },
      "source": [
        "# Projekt Klassen\n",
        "\n",
        "## Fragen?\n",
        "Solltet ihr Fragen zum Code oder Probleme mit Colab haben, schickt uns gerne eine Mail:\n",
        "\n",
        "*   hohansen@inb.uni-luebeck.de\n",
        "*   maren.wieder@student.uni-luebeck.de\n",
        "*   friederike.meissner@student.uni-luebeck.de\n",
        "*   dustin.haschke@student.uni-luebeck.de"
      ]
    },
    {
      "cell_type": "markdown",
      "metadata": {
        "id": "rZsE-ELHsvZP"
      },
      "source": [
        "#**Einladung zu unserer Farm**\n",
        "\n",
        "Wir wollen heute eine virtuelle Farm erstellen. Dafür verwenden wir Klassen.\n",
        "\n",
        "So soll das Konzept der Klassen weiter verinnerlicht werden, indem wir uns mehr mit den Möglichkeiten dieser Programmiertechnik vertraut machen.\n",
        "\n",
        "Unser Vorwissen aus der letzten Kurseinheit ist dabei zentral und sollte ggf. nochmals wiederholt werden:\n",
        "\n",
        "https://github.com/ollihansen90/Mathe-SH/blob/main/Mathe%5ESH_Prog_13_Klassen_Grundlagen.ipynb"
      ]
    },
    {
      "cell_type": "markdown",
      "metadata": {
        "id": "OkhgPyV7KE-5"
      },
      "source": [
        "# ***Aufgabe 1 - Unsere Felder***\n",
        "\n",
        "#### ***1.1***\n",
        "Lege zuerst die Klasse `Feld` an, die mit den Parametern **kapazitaet** und **pflanzenart** initialisiert werden kann. (`__init__` hieß die Funktion zum Initialisieren einer Klasse :-)\n",
        "\n",
        "Der Parameter ***pflanzenart*** soll standardmäßig auf `None` gesetzt sein. Orientiere dich dabei z.B. an der Haustierklasse der letzten Übung.\n",
        "\n",
        "#### ***1.2***\n",
        "\n",
        "Erstelle jetzt drei Objekte/Instanzen der Klasse Feld.\n",
        "Und zwar ein Feld mit der Kapazität 50 mit der Pflanzenart \"Kartoffel\", sowie je eines mit \"Erbeeren\" und \"Mais\" beliebiger Kapazität.\n",
        "\n",
        "Fasse diese in einer Liste zusammen und weise diese der Variable `felder` zu.\n",
        "\n",
        "\n",
        "Greife (über eine zu ergänzende Funktion oder direkt) auf dein Objekt mit den \"Kartoffeln\" zu und gebe seine Kapazität aus, um zu prüfen, ob dir dein Nachbar nicht ein paar Kartoffeln geklaut hat.\n",
        "\n",
        "Überprüfen nochmal, ob in der Liste nur Objekte enthalten sind.\n",
        "\n",
        "\n"
      ]
    },
    {
      "cell_type": "code",
      "execution_count": null,
      "metadata": {
        "id": "PYIx_Req5278"
      },
      "outputs": [],
      "source": [
        "# Los gehts (-:\n",
        "\n"
      ]
    },
    {
      "cell_type": "markdown",
      "metadata": {
        "id": "OGKy7pdSxkQk"
      },
      "source": [
        "####**Musterlösung Aufgabe 1**"
      ]
    },
    {
      "cell_type": "code",
      "execution_count": null,
      "metadata": {
        "colab": {
          "base_uri": "https://localhost:8080/"
        },
        "id": "Dts44uAvxl7x",
        "outputId": "fc9d5f5a-fb4c-44b3-95ad-050333b4453a"
      },
      "outputs": [
        {
          "output_type": "stream",
          "name": "stdout",
          "text": [
            "50\n",
            "[<__main__.Feld object at 0x7fdc356d2d10>, <__main__.Feld object at 0x7fdc356d2c50>, <__main__.Feld object at 0x7fdc356d2cd0>]\n",
            "<class '__main__.Feld'>\n",
            "<class '__main__.Feld'>\n",
            "<class '__main__.Feld'>\n"
          ]
        }
      ],
      "source": [
        "class Feld():\n",
        "    def __init__(self, kapazitaet, pflanzenart=\"None\"):\n",
        "        self.kapazitaet = kapazitaet\n",
        "        self.pflanzenart = pflanzenart\n",
        "\n",
        "kar_feld = Feld(50, \"Kartoffel\") # Kartoffel und Erbeeren sollen später Klassen sein\n",
        "erd_feld = Feld(40, \"Erdbeere\") \n",
        "mais_feld = Feld(80, \"Mais\")\n",
        "\n",
        "felder = [kar_feld,erd_feld,mais_feld]\n",
        "\n",
        "print(kar_feld.kapazitaet)\n",
        "\n",
        "print(felder)\n",
        "#Alternative Überprüfung:\n",
        "for eintrag in felder:\n",
        "  print(type(eintrag))"
      ]
    },
    {
      "cell_type": "markdown",
      "metadata": {
        "id": "cJLT4VHO66-8"
      },
      "source": [
        "# ***Aufgabe 2 - Unsere Farm***\n",
        "####*Achtung: Du musst erst unsere Felder in Aufgabe 1 anglegen!*\n",
        "\n",
        "#### ***2.1***\n",
        "\n",
        "\n",
        "Lege eine Klasse `Farm` an.\n",
        "\n",
        "Diese soll über die Parameter **budget**, **felder** und **erntemaschinen** initialisiert werden können.\n",
        "\n",
        "Weiterhin soll sie die Funktion **aussaat** enthalten, die für jedes der Klasse zugewiesenem Feld ausgibt, was dort angebaut wird - also die `pflanzenart` aus Aufgabe 1.\n",
        "\n",
        "#### ***2.1***\n",
        "\n",
        "Lege nun eine Instanz vom Typ Farm mit einem Budget, felder aus Aufgabe 1 und [\"schaufel\"] als Erntemaschine an.\n",
        "\n",
        "Teste die Funktion aussaat()."
      ]
    },
    {
      "cell_type": "code",
      "execution_count": null,
      "metadata": {
        "id": "5Yp0Kwy25x9P"
      },
      "outputs": [],
      "source": [
        "#viel Platz für deinen Farm-Code:\n",
        "\n",
        "\n",
        "\n"
      ]
    },
    {
      "cell_type": "markdown",
      "metadata": {
        "id": "Ez2O42HU7IAd"
      },
      "source": [
        "####**Musterlösung 2**"
      ]
    },
    {
      "cell_type": "code",
      "execution_count": null,
      "metadata": {
        "id": "0tCUmVh967hh",
        "colab": {
          "base_uri": "https://localhost:8080/"
        },
        "outputId": "e2411d1f-3f27-4651-a226-205662a30d99"
      },
      "outputs": [
        {
          "output_type": "stream",
          "name": "stdout",
          "text": [
            "Auf Feld 1 wird Kartoffel angepflanzt.\n",
            "Auf Feld 2 wird Erdbeere angepflanzt.\n",
            "Auf Feld 3 wird Mais angepflanzt.\n"
          ]
        }
      ],
      "source": [
        "class Farm():\n",
        "    def __init__(self, budget, felder, erntemaschinen):\n",
        "        self.budget = budget\n",
        "        self.felder = felder\n",
        "        self.erntemaschinen = erntemaschinen\n",
        "\n",
        "    def aussaat(self):\n",
        "        counter = 1\n",
        "        for feld in self.felder:\n",
        "            pflanze = feld.pflanzenart\n",
        "            print(\"Auf Feld\", counter, \"wird\", pflanze, \"angepflanzt.\")\n",
        "            counter += 1\n",
        "\n",
        "meine_farm = Farm(1000, felder,[\"schaufel\"])\n",
        "meine_farm.aussaat()"
      ]
    },
    {
      "cell_type": "markdown",
      "metadata": {
        "id": "3YYQMuBvC31B"
      },
      "source": [
        "# ***Aufgabe 3 - Die Feldfrüchte***\n",
        "\n",
        "Da auch unsere Feldfrüchte, also der Mais, Kartoffeln und Erdbeeren ganz spezielle Eigenschaften haben, wollen wir ihnen diese nun zuweisen.\n",
        "\n",
        "#### ***3.1***\n",
        "Lege eine je eine Klasse Erbeeren, Kartoffeln bzw. Mais mit den Initialisierungs-Parametern **einkaufspreis**, **verarbeitungskosten** und **verkaufspreis** sowie **name**, welcher den Namen der Klasse normalerweise entsprechen soll, an.\n",
        "\n",
        "Lege für jede Klasse dieser Feldfrucht ein Objekt mit beliebigen Parametern an.\n",
        "\n",
        "Weise diese diese anschließend jedem einzelnen Feld deiner Liste `felder` aus Aufgabe 1 anstelle des gleichnamigen Strings zu. Du kannst dafür den Abschnitt aus der Aufgabe kopieren und anstelle des Strings die angelegten Objekte zuweisen.\n",
        "\n",
        "\n",
        "#### ***3.2***\n",
        "Prüfe abschließend, ob du tatsächlich ein Objekt zugewiesen hast, indem auf die einzelnen Felder deiner Liste zugreifst und ihre pflanzenart (siehe Eigenschaften der Klasse Felder) ausgibst.\n",
        "\n",
        "Führe dann die *saat()*-Funktion deiner Kartoffel aus und überprüfe, ob du folgende Fehlermeldung erhältst:\n",
        "\n",
        "`TypeError: saat() missing 1 required positional argument: 'traktor'`"
      ]
    },
    {
      "cell_type": "code",
      "execution_count": null,
      "metadata": {
        "id": "LBxWzZay5s5H"
      },
      "outputs": [],
      "source": [
        "#Hier darf dein Code stehen (-:\n",
        "\n"
      ]
    },
    {
      "cell_type": "markdown",
      "metadata": {
        "id": "5qXEY74yDHUG"
      },
      "source": [
        "####**Musterlösung 3**"
      ]
    },
    {
      "cell_type": "code",
      "execution_count": null,
      "metadata": {
        "colab": {
          "base_uri": "https://localhost:8080/"
        },
        "id": "thYqEVJEDF_-",
        "outputId": "dac5a69e-9cef-4acf-a6fc-ec734c36d995"
      },
      "outputs": [
        {
          "output_type": "stream",
          "name": "stdout",
          "text": [
            "<__main__.Kartoffeln object at 0x7fdc33486e90>\n",
            "<__main__.Erdbeeren object at 0x7fdc33486ed0>\n",
            "<__main__.Mais object at 0x7fdc33486f10>\n"
          ]
        }
      ],
      "source": [
        "class Erdbeeren():\n",
        "    def __init__(self, einkaufspreis, verarbeitungskosten, verkaufspreis,name=\"Erdbeeren\"):\n",
        "        self.einkaufspreis = einkaufspreis\n",
        "        self.verarbeitungskosten = verarbeitungskosten\n",
        "        self.verkaufspreis = verkaufspreis\n",
        "        self.name = name\n",
        "\n",
        "    def saat(self, traktor):\n",
        "        traktor.boden_ebnen()\n",
        "        traktor.saat_verteilen()\n",
        "\n",
        "    def ernte(self, erntehelfer):\n",
        "        erntehelfer.ernten(self)\n",
        "\n",
        "class Kartoffeln():\n",
        "    def __init__(self, einkaufspreis, verarbeitungskosten, verkaufspreis,name=\"Kartoffeln\"):\n",
        "        self.einkaufspreis = einkaufspreis\n",
        "        self.verarbeitungskosten = verarbeitungskosten\n",
        "        self.verkaufspreis = verkaufspreis\n",
        "        self.name = name\n",
        "    \n",
        "    def saat(self, traktor):\n",
        "        traktor.boden_ebnen()\n",
        "        traktor.saat_verteilen()\n",
        "\n",
        "    def ernte(self, kartoffelroder):\n",
        "        kartoffelroder.ernten(self)\n",
        "\n",
        "\n",
        "class Mais():\n",
        "    def __init__(self, einkaufspreis, verarbeitungskosten, verkaufspreis, name=\"Mais\"):\n",
        "        self.einkaufspreis = einkaufspreis\n",
        "        self.verarbeitungskosten = verarbeitungskosten\n",
        "        self.verkaufspreis = verkaufspreis\n",
        "        self.name = name\n",
        "    \n",
        "    def saat(self, traktor):\n",
        "        traktor.boden_ebnen()\n",
        "        traktor.saat_verteilen()\n",
        "\n",
        "    def ernte(self, maehdrescher):\n",
        "        maehdrescher.ernten(self)\n",
        "\n",
        "kartoffeln = Kartoffeln(0.5, 2, 4)\n",
        "erdbeeren = Erdbeeren(2, 4, 9)\n",
        "mais = Mais(1.5, 3, 6)\n",
        "\n",
        "\n",
        "# teilweise kopiert aus Aufgabe 1\n",
        "kart_feld = Feld(50, kartoffeln)\n",
        "erd_feld = Feld(40, erdbeeren)\n",
        "mais_feld = Feld(80, mais)\n",
        "felder = [kart_feld, erd_feld, mais_feld]\n",
        "\n",
        "\n",
        "print(felder[0].pflanzenart)\n",
        "print(felder[1].pflanzenart)\n",
        "print(felder[2].pflanzenart)\n",
        "\n",
        "#kartoffel.saat()\n",
        "#felder[0].pflanzenart.saat()"
      ]
    }
  ]
}