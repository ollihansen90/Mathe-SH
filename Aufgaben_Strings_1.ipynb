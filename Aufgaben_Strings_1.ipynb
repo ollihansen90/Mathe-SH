{
  "nbformat": 4,
  "nbformat_minor": 0,
  "metadata": {
    "colab": {
      "name": "Aufgaben_Strings_1.ipynb",
      "provenance": [],
      "collapsed_sections": [
        "7nLiXRA8DQMS",
        "EY4OXGOb84uw",
        "kfmbGfHO5Yhl",
        "TjZ-JIfG5njR",
        "8dH2mkgx7Qel"
      ],
      "include_colab_link": true
    },
    "kernelspec": {
      "name": "python3",
      "display_name": "Python 3"
    },
    "language_info": {
      "name": "python"
    }
  },
  "cells": [
    {
      "cell_type": "markdown",
      "metadata": {
        "id": "view-in-github",
        "colab_type": "text"
      },
      "source": [
        "<a href=\"https://colab.research.google.com/github/ollihansen90/Mathe-SH/blob/main/Aufgaben_Strings_1.ipynb\" target=\"_parent\"><img src=\"https://colab.research.google.com/assets/colab-badge.svg\" alt=\"Open In Colab\"/></a>"
      ]
    },
    {
      "cell_type": "markdown",
      "source": [
        "# Aufgabenblatt - Strings 1\n",
        "## Aufgabe 1 - Beispielsatz & zählen\n",
        "\n",
        "Lege einen Beispielsatz mit mindestens 3 Wörtern als String an oder verwende die vorgegebene ```input()```-Funktion, die dich einen String eingeben lässt.\n",
        "\n",
        "Überprüfe nun, wie häufig bestimmte Wortteile bzw. Substrings in deinem Beispielsatz vorkommen. Lege dafür eine entsprechende Funktion an.\n",
        "\n",
        "Prüfe u.a. die Anzahl der Buchstabenkombinationen *ie*, *a*, *f* und *ei*.\n",
        "\n"
      ],
      "metadata": {
        "id": "vwv3uny-DMpy"
      }
    },
    {
      "cell_type": "code",
      "source": [
        "text = input()"
      ],
      "metadata": {
        "id": "xmLrH3VyDPms"
      },
      "execution_count": null,
      "outputs": []
    },
    {
      "cell_type": "markdown",
      "source": [
        "### Lösung 1"
      ],
      "metadata": {
        "id": "7nLiXRA8DQMS"
      }
    },
    {
      "cell_type": "code",
      "source": [
        "#Lösung\n",
        "\n",
        "def zaehle_teilstrings(text,substring):\n",
        "    counter = 0\n",
        "    for i in range(len(text)):\n",
        "        if text.startswith(substring,i):\n",
        "            counter += 1\n",
        "    return counter\n",
        "\n",
        "text = input()    #optional einfach den Satz als String anlegen\n",
        "print(zaehle_teilstrings(text,\"is\"))"
      ],
      "metadata": {
        "id": "nMq6uBPfDS4W",
        "colab": {
          "base_uri": "https://localhost:8080/"
        },
        "outputId": "ec2b84f6-62a8-4909-a7a9-bdd59a455e54"
      },
      "execution_count": null,
      "outputs": [
        {
          "output_type": "stream",
          "name": "stdout",
          "text": [
            "Das ist Isabelle. Sie isst gerne Eis.\n",
            "3\n"
          ]
        }
      ]
    },
    {
      "cell_type": "markdown",
      "source": [
        "#Aufgabe 2\n",
        "\n",
        "Erstelle einen Beispielsatz und eine Funktion, die die Wörter dieses Satzes zählen kann.\n",
        "Gib anschließend die Wortanzahl aus.\n",
        "\n",
        "Kannst du vielleicht deine Funktion so anpassen, dass sie die Wörter des Satzes zählen kann?"
      ],
      "metadata": {
        "id": "WXctdmYD8lsc"
      }
    },
    {
      "cell_type": "code",
      "source": [
        ""
      ],
      "metadata": {
        "id": "6r1bDSQr84Wb"
      },
      "execution_count": null,
      "outputs": []
    },
    {
      "cell_type": "markdown",
      "source": [
        "###Lösung 2"
      ],
      "metadata": {
        "id": "EY4OXGOb84uw"
      }
    },
    {
      "cell_type": "code",
      "source": [
        "#Lösung\n",
        "\n",
        "def zaehle_woerter(text):\n",
        "    if text != \" \":\n",
        "        counter = 1\n",
        "        for zeichen in text:\n",
        "            if zeichen == \" \":\n",
        "                counter += 1\n",
        "        return counter\n",
        "    else:\n",
        "        return 0\n",
        "\n",
        "text = input()    #optional einfach den Satz als String anlegen\n",
        "\n",
        "print(zaehle_woerter(text))"
      ],
      "metadata": {
        "id": "9hmLuL5L8-xb",
        "colab": {
          "base_uri": "https://localhost:8080/"
        },
        "outputId": "1d00346f-14f5-4483-ed90-77b9d97d1bf6"
      },
      "execution_count": null,
      "outputs": [
        {
          "output_type": "stream",
          "name": "stdout",
          "text": [
            "Hallo, ich bin ein Computer.\n",
            "5\n"
          ]
        }
      ]
    },
    {
      "cell_type": "markdown",
      "source": [
        "## Aufgabe 3\n",
        "\n",
        "- Einen Satz sträwkcür <--- lesen\n",
        "\n",
        "Schreibe eine Funktion, die einen Beispielsatz umgekehrt als String zurückgibt.\n",
        "\n",
        "Gebe den umgedrehten Satz anschließend aus."
      ],
      "metadata": {
        "id": "_YFwywnoDUa_"
      }
    },
    {
      "cell_type": "code",
      "source": [
        ""
      ],
      "metadata": {
        "id": "h0F2PZqaDdgl"
      },
      "execution_count": null,
      "outputs": []
    },
    {
      "cell_type": "markdown",
      "source": [
        "### Lösung 3"
      ],
      "metadata": {
        "id": "kfmbGfHO5Yhl"
      }
    },
    {
      "cell_type": "code",
      "source": [
        "# Lösung\n",
        "\n",
        "def drehe_um(text):\n",
        "    rueck = \"\"\n",
        "    for i in range(1, len(text)+1):\n",
        "        rueck = rueck+text[-i] # Hinweis: negative Indizes\n",
        "    return str(rueck)\n",
        "\n",
        "text = input()\n",
        "print(drehe_um(text))"
      ],
      "metadata": {
        "colab": {
          "base_uri": "https://localhost:8080/"
        },
        "id": "1dfiML0O5auY",
        "outputId": "5303555f-91e8-4f65-d90b-ef80f3f3af2d"
      },
      "execution_count": null,
      "outputs": [
        {
          "output_type": "stream",
          "name": "stdout",
          "text": [
            "Men, I'm Eminem.\n",
            ".menimE m'I ,neM\n"
          ]
        }
      ]
    },
    {
      "cell_type": "markdown",
      "source": [
        "## Aufgabe 4\n",
        "\n",
        "Die Funktion ```teile_string``` splittet deinen Text in Teilstrings auf.\n",
        "Teste diese Funktion durch einen Beispielsatz und eine Print-Ausgabe.\n",
        "\n",
        "\n",
        "Benutze anschließend die Funktion, um im Beispielsatz jedes Wort umzudrehen, also von hinten nach vorne zu schreiben, aber ohne die Reihenfolge der Wörter im Satz zu verändern.\n",
        "\n",
        "Also aus ```ein schöner Tag heute.```\n",
        "\n",
        "\n",
        "wird dann ```nie renöhcs gaT .etueh```\n",
        "\n",
        "Verwende auch deine Funktion aus Aufgabe 3!"
      ],
      "metadata": {
        "id": "neTJN2eN1Vv-"
      }
    },
    {
      "cell_type": "code",
      "source": [
        "#Lösung\n",
        "\n",
        "def teile_string(text):\n",
        "    return text.split(\" \")\n",
        "\n",
        "text = input()\n",
        "print(teile_string(text))"
      ],
      "metadata": {
        "id": "kBxcJ3bP2OOr"
      },
      "execution_count": null,
      "outputs": []
    },
    {
      "cell_type": "markdown",
      "source": [
        "###Lösung 4"
      ],
      "metadata": {
        "id": "TjZ-JIfG5njR"
      }
    },
    {
      "cell_type": "code",
      "source": [
        "# Lösung\n",
        "\n",
        "def teile_string(text):\n",
        "    return text.split(\" \")\n",
        "\n",
        "def drehe_um(text):\n",
        "    rueck = \"\"\n",
        "    for i in range(1, len(text)+1):\n",
        "        rueck = rueck+text[-i] # Hinweis: negative Indizes\n",
        "    return str(rueck)\n",
        "\n",
        "def spiegel_woerter_satz(text):\n",
        "  woerter = teile_string(text)\n",
        "  ausgabe = \"\"\n",
        "  for eintrag in woerter:\n",
        "    ausgabe += drehe_um(eintrag)+\" \"\n",
        "  return ausgabe\n",
        "\n",
        "text = input()\n",
        "print(spiegel_woerter_satz(text))"
      ],
      "metadata": {
        "colab": {
          "base_uri": "https://localhost:8080/"
        },
        "id": "MPWTZFuL5pQr",
        "outputId": "9210b640-3750-4bfb-8761-91f7b2f0eda8"
      },
      "execution_count": null,
      "outputs": [
        {
          "output_type": "stream",
          "name": "stdout",
          "text": [
            "Olli mag gerne Kirschen.\n",
            "illO gam enreg .nehcsriK \n"
          ]
        }
      ]
    },
    {
      "cell_type": "markdown",
      "source": [
        "## Aufgabe 5 - Palindrome\n",
        "\n",
        "Ein Palindrom ist ein Wort, dass rückwärts geschrieben das gleiche Wort ergibt wie vorwärts geschrieben.\n",
        "\n",
        "Anna, Ebbe, Kajak und Reliefpfeiler sind z.B. solche Palindrome.\n",
        "\n",
        "Schreibe eine Funktion, die jedes Wort eines zuvor eigegebenen Beispielssatzes auf die Palindromeigenschaft prüft und die Anzahl der Palindrome im Satz zurückgibt.\n",
        "\n",
        "Teste deine Funktion, indem du einen Satz mit mindestens einem Palindrom überprüfst und den Wert ausgibst.\n",
        "\n",
        "Tipp:\n",
        "Du kannst vielleicht einige Dinge aus Aufgabe 3 dafür verwenden."
      ],
      "metadata": {
        "id": "MzHnyypx3a8N"
      }
    },
    {
      "cell_type": "code",
      "source": [
        ""
      ],
      "metadata": {
        "id": "Rav2g3w74oVH"
      },
      "execution_count": null,
      "outputs": []
    },
    {
      "cell_type": "markdown",
      "source": [
        "###Lösung 5"
      ],
      "metadata": {
        "id": "8dH2mkgx7Qel"
      }
    },
    {
      "cell_type": "code",
      "source": [
        "def teile_string(text):\n",
        "    return text.split(\" \")\n",
        "\n",
        "def palindrom(text):\n",
        "    woerter = teile_string(text)\n",
        "    retreow = teile_string(spiegel_woerter_satz(text))\n",
        "    list = \"\"\n",
        "    for i in range(len(woerter)):\n",
        "      if woerter[i].lower() == retreow[i].lower():\n",
        "        list += woerter[i]+\", \"\n",
        "    return list[:len(list)-2]\n",
        "\n",
        "text = input()\n",
        "print(palindrom(text))"
      ],
      "metadata": {
        "colab": {
          "base_uri": "https://localhost:8080/"
        },
        "id": "aWQtOjVK7T7d",
        "outputId": "6aa4f6d4-5a2c-48fe-f439-542435094b1c"
      },
      "execution_count": null,
      "outputs": [
        {
          "output_type": "stream",
          "name": "stdout",
          "text": [
            "Das ist Anna am Reliefpfeiler auf dem Kajak.\n",
            "Anna, Reliefpfeiler\n"
          ]
        }
      ]
    }
  ]
}