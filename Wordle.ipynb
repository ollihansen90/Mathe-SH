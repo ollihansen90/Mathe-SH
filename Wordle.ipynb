{
  "nbformat": 4,
  "nbformat_minor": 0,
  "metadata": {
    "colab": {
      "provenance": [],
      "authorship_tag": "ABX9TyPtcn9L2vfa7804tBX6r6Pz",
      "include_colab_link": true
    },
    "kernelspec": {
      "name": "python3",
      "display_name": "Python 3"
    },
    "language_info": {
      "name": "python"
    },
    "widgets": {
      "application/vnd.jupyter.widget-state+json": {
        "f95c0af2dc004c44be1d2c73125a46a7": {
          "model_module": "@jupyter-widgets/controls",
          "model_name": "HBoxModel",
          "model_module_version": "1.5.0",
          "state": {
            "_dom_classes": [],
            "_model_module": "@jupyter-widgets/controls",
            "_model_module_version": "1.5.0",
            "_model_name": "HBoxModel",
            "_view_count": null,
            "_view_module": "@jupyter-widgets/controls",
            "_view_module_version": "1.5.0",
            "_view_name": "HBoxView",
            "box_style": "",
            "children": [
              "IPY_MODEL_d8600968e9f14d7f8041684850f3208c",
              "IPY_MODEL_1ce20fe220264666bf86790879587b88",
              "IPY_MODEL_a88720379fa94f35948b3ad3bd8962b3"
            ],
            "layout": "IPY_MODEL_cb1d14eb06d64e3eb27d60dec622eae7"
          }
        },
        "d8600968e9f14d7f8041684850f3208c": {
          "model_module": "@jupyter-widgets/controls",
          "model_name": "HTMLModel",
          "model_module_version": "1.5.0",
          "state": {
            "_dom_classes": [],
            "_model_module": "@jupyter-widgets/controls",
            "_model_module_version": "1.5.0",
            "_model_name": "HTMLModel",
            "_view_count": null,
            "_view_module": "@jupyter-widgets/controls",
            "_view_module_version": "1.5.0",
            "_view_name": "HTMLView",
            "description": "",
            "description_tooltip": null,
            "layout": "IPY_MODEL_452981aa585540809a8d9d589573bd77",
            "placeholder": "​",
            "style": "IPY_MODEL_c796825ef8694457b39a26b663a39f16",
            "value": "100%"
          }
        },
        "1ce20fe220264666bf86790879587b88": {
          "model_module": "@jupyter-widgets/controls",
          "model_name": "FloatProgressModel",
          "model_module_version": "1.5.0",
          "state": {
            "_dom_classes": [],
            "_model_module": "@jupyter-widgets/controls",
            "_model_module_version": "1.5.0",
            "_model_name": "FloatProgressModel",
            "_view_count": null,
            "_view_module": "@jupyter-widgets/controls",
            "_view_module_version": "1.5.0",
            "_view_name": "ProgressView",
            "bar_style": "success",
            "description": "",
            "description_tooltip": null,
            "layout": "IPY_MODEL_4279943d51ea408ba86aacfac84caf5b",
            "max": 296,
            "min": 0,
            "orientation": "horizontal",
            "style": "IPY_MODEL_42da275f64874627b6deaeda0bae32e4",
            "value": 296
          }
        },
        "a88720379fa94f35948b3ad3bd8962b3": {
          "model_module": "@jupyter-widgets/controls",
          "model_name": "HTMLModel",
          "model_module_version": "1.5.0",
          "state": {
            "_dom_classes": [],
            "_model_module": "@jupyter-widgets/controls",
            "_model_module_version": "1.5.0",
            "_model_name": "HTMLModel",
            "_view_count": null,
            "_view_module": "@jupyter-widgets/controls",
            "_view_module_version": "1.5.0",
            "_view_name": "HTMLView",
            "description": "",
            "description_tooltip": null,
            "layout": "IPY_MODEL_b4f6f0546cf34fb5bffc09cd752e4471",
            "placeholder": "​",
            "style": "IPY_MODEL_2bd4b9998db441b6b297ec7fc8a69a85",
            "value": " 296/296 [00:16&lt;00:00, 11.94it/s]"
          }
        },
        "cb1d14eb06d64e3eb27d60dec622eae7": {
          "model_module": "@jupyter-widgets/base",
          "model_name": "LayoutModel",
          "model_module_version": "1.2.0",
          "state": {
            "_model_module": "@jupyter-widgets/base",
            "_model_module_version": "1.2.0",
            "_model_name": "LayoutModel",
            "_view_count": null,
            "_view_module": "@jupyter-widgets/base",
            "_view_module_version": "1.2.0",
            "_view_name": "LayoutView",
            "align_content": null,
            "align_items": null,
            "align_self": null,
            "border": null,
            "bottom": null,
            "display": null,
            "flex": null,
            "flex_flow": null,
            "grid_area": null,
            "grid_auto_columns": null,
            "grid_auto_flow": null,
            "grid_auto_rows": null,
            "grid_column": null,
            "grid_gap": null,
            "grid_row": null,
            "grid_template_areas": null,
            "grid_template_columns": null,
            "grid_template_rows": null,
            "height": null,
            "justify_content": null,
            "justify_items": null,
            "left": null,
            "margin": null,
            "max_height": null,
            "max_width": null,
            "min_height": null,
            "min_width": null,
            "object_fit": null,
            "object_position": null,
            "order": null,
            "overflow": null,
            "overflow_x": null,
            "overflow_y": null,
            "padding": null,
            "right": null,
            "top": null,
            "visibility": null,
            "width": null
          }
        },
        "452981aa585540809a8d9d589573bd77": {
          "model_module": "@jupyter-widgets/base",
          "model_name": "LayoutModel",
          "model_module_version": "1.2.0",
          "state": {
            "_model_module": "@jupyter-widgets/base",
            "_model_module_version": "1.2.0",
            "_model_name": "LayoutModel",
            "_view_count": null,
            "_view_module": "@jupyter-widgets/base",
            "_view_module_version": "1.2.0",
            "_view_name": "LayoutView",
            "align_content": null,
            "align_items": null,
            "align_self": null,
            "border": null,
            "bottom": null,
            "display": null,
            "flex": null,
            "flex_flow": null,
            "grid_area": null,
            "grid_auto_columns": null,
            "grid_auto_flow": null,
            "grid_auto_rows": null,
            "grid_column": null,
            "grid_gap": null,
            "grid_row": null,
            "grid_template_areas": null,
            "grid_template_columns": null,
            "grid_template_rows": null,
            "height": null,
            "justify_content": null,
            "justify_items": null,
            "left": null,
            "margin": null,
            "max_height": null,
            "max_width": null,
            "min_height": null,
            "min_width": null,
            "object_fit": null,
            "object_position": null,
            "order": null,
            "overflow": null,
            "overflow_x": null,
            "overflow_y": null,
            "padding": null,
            "right": null,
            "top": null,
            "visibility": null,
            "width": null
          }
        },
        "c796825ef8694457b39a26b663a39f16": {
          "model_module": "@jupyter-widgets/controls",
          "model_name": "DescriptionStyleModel",
          "model_module_version": "1.5.0",
          "state": {
            "_model_module": "@jupyter-widgets/controls",
            "_model_module_version": "1.5.0",
            "_model_name": "DescriptionStyleModel",
            "_view_count": null,
            "_view_module": "@jupyter-widgets/base",
            "_view_module_version": "1.2.0",
            "_view_name": "StyleView",
            "description_width": ""
          }
        },
        "4279943d51ea408ba86aacfac84caf5b": {
          "model_module": "@jupyter-widgets/base",
          "model_name": "LayoutModel",
          "model_module_version": "1.2.0",
          "state": {
            "_model_module": "@jupyter-widgets/base",
            "_model_module_version": "1.2.0",
            "_model_name": "LayoutModel",
            "_view_count": null,
            "_view_module": "@jupyter-widgets/base",
            "_view_module_version": "1.2.0",
            "_view_name": "LayoutView",
            "align_content": null,
            "align_items": null,
            "align_self": null,
            "border": null,
            "bottom": null,
            "display": null,
            "flex": null,
            "flex_flow": null,
            "grid_area": null,
            "grid_auto_columns": null,
            "grid_auto_flow": null,
            "grid_auto_rows": null,
            "grid_column": null,
            "grid_gap": null,
            "grid_row": null,
            "grid_template_areas": null,
            "grid_template_columns": null,
            "grid_template_rows": null,
            "height": null,
            "justify_content": null,
            "justify_items": null,
            "left": null,
            "margin": null,
            "max_height": null,
            "max_width": null,
            "min_height": null,
            "min_width": null,
            "object_fit": null,
            "object_position": null,
            "order": null,
            "overflow": null,
            "overflow_x": null,
            "overflow_y": null,
            "padding": null,
            "right": null,
            "top": null,
            "visibility": null,
            "width": null
          }
        },
        "42da275f64874627b6deaeda0bae32e4": {
          "model_module": "@jupyter-widgets/controls",
          "model_name": "ProgressStyleModel",
          "model_module_version": "1.5.0",
          "state": {
            "_model_module": "@jupyter-widgets/controls",
            "_model_module_version": "1.5.0",
            "_model_name": "ProgressStyleModel",
            "_view_count": null,
            "_view_module": "@jupyter-widgets/base",
            "_view_module_version": "1.2.0",
            "_view_name": "StyleView",
            "bar_color": null,
            "description_width": ""
          }
        },
        "b4f6f0546cf34fb5bffc09cd752e4471": {
          "model_module": "@jupyter-widgets/base",
          "model_name": "LayoutModel",
          "model_module_version": "1.2.0",
          "state": {
            "_model_module": "@jupyter-widgets/base",
            "_model_module_version": "1.2.0",
            "_model_name": "LayoutModel",
            "_view_count": null,
            "_view_module": "@jupyter-widgets/base",
            "_view_module_version": "1.2.0",
            "_view_name": "LayoutView",
            "align_content": null,
            "align_items": null,
            "align_self": null,
            "border": null,
            "bottom": null,
            "display": null,
            "flex": null,
            "flex_flow": null,
            "grid_area": null,
            "grid_auto_columns": null,
            "grid_auto_flow": null,
            "grid_auto_rows": null,
            "grid_column": null,
            "grid_gap": null,
            "grid_row": null,
            "grid_template_areas": null,
            "grid_template_columns": null,
            "grid_template_rows": null,
            "height": null,
            "justify_content": null,
            "justify_items": null,
            "left": null,
            "margin": null,
            "max_height": null,
            "max_width": null,
            "min_height": null,
            "min_width": null,
            "object_fit": null,
            "object_position": null,
            "order": null,
            "overflow": null,
            "overflow_x": null,
            "overflow_y": null,
            "padding": null,
            "right": null,
            "top": null,
            "visibility": null,
            "width": null
          }
        },
        "2bd4b9998db441b6b297ec7fc8a69a85": {
          "model_module": "@jupyter-widgets/controls",
          "model_name": "DescriptionStyleModel",
          "model_module_version": "1.5.0",
          "state": {
            "_model_module": "@jupyter-widgets/controls",
            "_model_module_version": "1.5.0",
            "_model_name": "DescriptionStyleModel",
            "_view_count": null,
            "_view_module": "@jupyter-widgets/base",
            "_view_module_version": "1.2.0",
            "_view_name": "StyleView",
            "description_width": ""
          }
        }
      }
    }
  },
  "cells": [
    {
      "cell_type": "markdown",
      "metadata": {
        "id": "view-in-github",
        "colab_type": "text"
      },
      "source": [
        "<a href=\"https://colab.research.google.com/github/ollihansen90/Mathe-SH/blob/main/Wordle.ipynb\" target=\"_parent\"><img src=\"https://colab.research.google.com/assets/colab-badge.svg\" alt=\"Open In Colab\"/></a>"
      ]
    },
    {
      "cell_type": "code",
      "source": [
        "!wget -nc -q https://github.com/ollihansen90/Mathe-SH/raw/main/data/deutsch.txt\n",
        "import requests\n",
        "\n",
        "r = requests.get(\"https://gist.githubusercontent.com/MarvinJWendt/2f4f4154b8ae218600eb091a5706b5f4/raw/36b70dd6be330aa61cd4d4cdfda6234dcb0b8784/wordlist-german.txt\")\n",
        "data = r.text.split(\"\\n\")\n",
        "print(len(data))\n",
        "\n",
        "#words = requests.get(\"https://github.com/ollihansen90/Mathe-SH/raw/main/data/deutsch.txt\").split(\"\\n\")"
      ],
      "metadata": {
        "id": "lLtl7vzzeMpq",
        "outputId": "cfeb0859-4721-4fe9-ceee-0b0649d810eb",
        "colab": {
          "base_uri": "https://localhost:8080/"
        }
      },
      "execution_count": 1,
      "outputs": [
        {
          "output_type": "stream",
          "name": "stdout",
          "text": [
            "1908815\n"
          ]
        }
      ]
    },
    {
      "cell_type": "code",
      "execution_count": 2,
      "metadata": {
        "id": "xF0yKrUTeJp_",
        "outputId": "e6ad6b5f-c58e-4be5-a623-7348dfb6a3d6",
        "colab": {
          "base_uri": "https://localhost:8080/"
        }
      },
      "outputs": [
        {
          "output_type": "stream",
          "name": "stdout",
          "text": [
            "5909\n"
          ]
        }
      ],
      "source": [
        "with open(\"deutsch.txt\", \"r\") as file:\n",
        "    words = file.read().split(\"\\n\")\n",
        "words = data\n",
        "hinzufuegen = [\"regen\", \"runde\", \"ranke\", \"mauer\", \"linse\", \"linde\", \"lokal\",\n",
        "               \"essen\", \"liebe\", \"leben\", \"kante\", \"Wunde\", \"proll\", \"raute\",\n",
        "               \"fahrt\", \"licht\", \"stand\"]\n",
        "words.extend(hinzufuegen)\n",
        "beseitigen = [\"infos\", \"cadiz\", \"hedis\", \"nebra\", \"aaron\", \"aases\", \"aales\",\n",
        "              \"adorf\", \"gerti\", \"hirne\", \"doras\", \"leids\", \"halon\", \"tores\",\n",
        "              \"haars\", \"zinse\", \"selim\", \"mccoy\", \"ankes\", \"stvzo\", \"togos\",\n",
        "              \"blaek\", \"manch\", \"saeue\", \"wusch\", \"ennui\", \"peter\", \"neger\",\n",
        "              \"helot\", \"hamas\", \"malen\", \"varta\", \"janas\", \"summt\", \"klamm\",\n",
        "              \"elspe\", \"samts\", \"trump\", \"ORTEN\", \"ORTES\", \"ORTET\", \"RECTO\",\n",
        "              \"RODET\", \"ROSTE\", \"ROTEM\", \"ROTES\", \"STORE\", \"TOREN\", \"TROER\",\n",
        "              \"AALEN\", \"AHLEN\", \"ALAUN\", \"ALBAN\", \"ALBEN\", \"ALKAN\", \"ALLEN\",\n",
        "              \"ALMEN\", \"ALSEN\", \"ANALE\", \"ASLAN\", \"BANAL\", \"BLANK\", \"CELAN\",\n",
        "              \"CLANS\", \"CLEAN\", \"ELANS\", \"ELENA\", \"KLANS\", \"LABEN\", \"LANKA\",\n",
        "              \"LASEN\", \"LAUEN\", \"LAXEN\", \"LENAS\", \"LENAU\", \"LEUNA\", \"NASAL\",\n",
        "              \"AKTES\", \"AMTES\", \"AESTE\", \"AESTE\", \"ASTES\", \"ATEMS\", \"DATES\",\n",
        "              \"ECKST\", \"ETATS\", \"FASTE\", \"FESTE\", \"FESTS\", \"MESST\", \"SAFTE\",\n",
        "              \"SAEST\", \"SAETE\", \"SATTE\", \"SATZE\", \"SEKTS\", \"SETZE\", \"SETZT\",\n",
        "              \"SEXTA\", \"SEXTE\", \"SKATE\", \"SPAET\", \"STADE\", \"STECK\", \"STETE\",\n",
        "              \"STETS\", \"STEVE\", \"SVETA\", \"TAPES\", \"TAPSE\", \"TEAMS\", \"TESSA\",\n",
        "              \"TESTE\", \"TESTS\", \"TEXTS\", \"ISSUM\", \"JUNIS\", \"JURIS\", \"MUSIG\",\n",
        "              \"RUDIS\", \"RUINS\", \"SIRUP\", \"SUFIS\", \"SUSIS\", \"URINS\", \"VISUS\",\n",
        "              \"BGHST\", \"BMVBW\", \"DGZRS\", \"DSCHG\", \"DSLRS\", \"GGMBH\", \"GMBHS\",\n",
        "              \"KKSTB\", \"LYNCH\", \"LYNNS\", \"MYSQL\", \"SKYPT\", \"SPVGG\", \"STYLT\",\n",
        "              \"SYLTS\", \"TZBFG\", \"VWVFG\", \"XHTML\", \"LEROY\", \"LODRE\", \"LOIRE\",\n",
        "              \"LOREN\", \"LORES\", \"OLLER\", \"OLPER\", \"ORALE\", \"REALO\", \"RODEL\",\n",
        "              \"RODLE\", \"ARKUS\", \"BAKUS\", \"BUCKS\", \"BUKST\", \"FUNKS\", \"HULKS\",\n",
        "              \"JOKUS\", \"KANUS\", \"KAUFS\", \"KAUST\", \"KLAUS\", \"KLUBS\", \"KNUTS\",\n",
        "              \"KONUS\", \"KPDSU\", \"KRAUS\", \"KRUGS\", \"KRUSE\", \"KUBAS\", \"KUHNS\",\n",
        "              \"KULIS\", \"KULTS\", \"KUMYS\", \"KUNOS\", \"KURSK\", \"KURST\", \"KURTS\",\n",
        "              \"KUSCH\", \"KUSEL\", \"KUESS\", \"LUKAS\", \"LUKES\", \"ORKUS\", \"PUCKS\",\n",
        "              \"PULKS\", \"RUCKS\", \"SKUNK\", \"SOUKS\", \"SPUCK\", \"SPUKE\", \"SPUKS\",\n",
        "              \"SPUKT\", \"STUKA\", \"SULKY\", \"ULKST\", \"UNKST\", \"DIMMT\", \"IMPFT\",\n",
        "              \"MIEFT\", \"MIMTE\", \"MIXTE\", \"MUFTI\", \"MUTIG\", \"PIMPT\", \"REIMT\",\n",
        "              \"TEMPI\", \"TIMEX\", \"TIMMY\", \"TIMOR\", \"TIMUR\", \"TOMMI\", \"WOMIT\",\n",
        "              \"AMATI\", \"BIMST\", \"DAMIT\", \"FILMT\", \"INTIM\", \"ITEMS\", \"KEIMT\",\n",
        "              \"KLIMT\", \"LEIMT\", \"LIMIT\", \"MAILT\", \"MEINT\", \"MEIST\", \"MIAUT\",\n",
        "              \"MILET\", \"MISST\", \"MISTE\", \"MITAU\", \"MITRA\", \"MULTI\", \"NIMMT\",\n",
        "              \"SEMIT\", \"SMITH\", \"SOMIT\", \"TAMIL\", \"TIMEN\", \"TIMES\", \"TIMMS\",\n",
        "              \"ZIEMT\", \"ZIMTS\", \"DPOLG\", \"KLOPF\", \"LOIPE\", \"LOPEZ\", \"LUPOS\",\n",
        "              \"OLPES\", \"OPALE\", \"OPELS\", \"PABLO\", \"PAOLA\", \"PAOLO\", \"PAULO\",\n",
        "              \"PHLOX\", \"PIROL\", \"PLOTS\", \"POLDI\", \"POLIG\", \"POLIS\", \"POLLE\",\n",
        "              \"POLLY\", \"POLOS\", \"POLST\", \"POLTE\", \"POOLE\", \"POOLS\", \"POOLT\",\n",
        "              \"PROLO\", \"mauls\", \"koche\", \"sites\", \"mccay\", \"maile\", \"floht\",\n",
        "              \"abuja\", \"kevin\", \"kiras\"\n",
        "]\n",
        "beseitigen = [w.upper() for w in beseitigen]\n",
        "#print(len(words))\n",
        "#print(type(words))\n",
        "\n",
        "def enthaelt_zahl(wort):\n",
        "    for i in range(10):\n",
        "        if str(i) in wort:\n",
        "            return True\n",
        "    return False\n",
        "\n",
        "fünf = [word.upper() for word in words if len(word) == 5 and word[0].upper()==word[0]]\n",
        "fünf = list(set(fünf))\n",
        "#print(fünf)\n",
        "\n",
        "fünf = []\n",
        "for word in words:\n",
        "    word = word.replace(\"ß\", \"ss\").upper()\n",
        "    word = word.replace(\"Ö\", \"Oe\").replace(\"Ä\", \"Ae\").replace(\"Ü\", \"Ue\")\n",
        "    word = word.replace(\"Å\", \"A\").replace(\"É\", \"E\").replace(\"È\", \"E\")\n",
        "    word = word.replace(\"Á\", \"A\").replace(\"Ñ\", \"N\").replace(\"Ê\", \"E\")\n",
        "    word = word.replace(\"Í\", \"I\").replace(\"Ç\", \"C\").replace(\"Ó\", \"O\")\n",
        "    word = word.replace(\"Ë\", \"E\").replace(\"À\", \"A\").replace(\"Ô\", \"O\").replace(\"Ø\", \"O\").replace(\"Q\", \"Q\")\n",
        "    if len(word) == 5 \\\n",
        "            and word[0].upper()==word[0] \\\n",
        "            and word not in fünf \\\n",
        "            and not enthaelt_zahl(word) \\\n",
        "            and word not in beseitigen:\n",
        "        fünf.append(word.upper())\n",
        "\n",
        "#fünf = list(set(fünf))\n",
        "print(len(fünf))\n",
        "\n",
        "def enthaelt_zahl(wort):\n",
        "    zahlen = [\"0\",\"1\",\"2\",\"3\",\"4\",\"5\",\"6\",\"7\",\"8\",\"9\"]\n",
        "    for buchstabe in wort:\n",
        "        if buchstabe in zahlen:\n",
        "            return True\n",
        "    return False\n",
        "\n"
      ]
    },
    {
      "cell_type": "code",
      "source": [
        "from random import randint\n",
        "\n",
        "def run(schwer=False):\n",
        "    z = randint(0, len(fünf)-1)\n",
        "    loesung = fünf[z]\n",
        "    eingabe = \"\"\n",
        "    noch_offen = \"abcdefghijklmnopqrstuvwxyz\".upper()\n",
        "\n",
        "    #print(loesung)\n",
        "    while eingabe!=loesung:\n",
        "        eingabe = input(\"Gib ein Wort mit fünf Buchstaben ein: \")\n",
        "\n",
        "        if eingabe==\"cheatcode\":\n",
        "            print(\"Das Lösungswort ist\", loesung)\n",
        "            continue\n",
        "\n",
        "        if eingabe==\"cheatcode2\":\n",
        "            print(\"Das Lösungswort fängt mit\", loesung[0], \"an.\")\n",
        "            continue\n",
        "\n",
        "        if eingabe[:6]==\"check_\":\n",
        "            eval(eingabe)\n",
        "            continue\n",
        "\n",
        "        eingabe = eingabe.upper()\n",
        "\n",
        "        if (eingabe not in fünf+beseitigen) and schwer:\n",
        "            print(eingabe + \" ist nicht in der Wortliste enthalten.\")\n",
        "            continue\n",
        "\n",
        "        enthalten = \"\"\n",
        "        for i in range(5):\n",
        "            buchstabe = eingabe[i]\n",
        "            noch_offen = noch_offen.replace(buchstabe, \"\")\n",
        "            if buchstabe==loesung[i]:\n",
        "                enthalten += \"\\x1b[32m\"+buchstabe\n",
        "            elif buchstabe in loesung:\n",
        "                enthalten += \"\\x1b[90m\"+buchstabe\n",
        "            else:\n",
        "                enthalten += \"\\x1b[31m\"+buchstabe\n",
        "            enthalten += \"\\x1b[30m\"\n",
        "            #enthalten += \"\\x1b[37m\" # für dark mode\n",
        "\n",
        "        print(enthalten)\n",
        "        print(noch_offen)\n",
        "\n",
        "    print(\"Sehr gut, das korrekte Wort war \"+ loesung +\"!\")\n",
        "\n",
        "def gamemaster(wort, loesung):\n",
        "    position = \"\"\n",
        "    enthalten = \"\"\n",
        "    nicht = \"\"\n",
        "    # KATZE\n",
        "    # KATER (Lösung)\n",
        "    # KAT.. (position)\n",
        "    # E     (enthalten)\n",
        "    # Z     (nicht)\n",
        "    for i in range(5):\n",
        "        buchstabe = wort[i]\n",
        "        if buchstabe==loesung[i]:\n",
        "            position += buchstabe\n",
        "        elif buchstabe in loesung:\n",
        "            position += \".\"\n",
        "            enthalten += buchstabe\n",
        "        else:\n",
        "            position += \".\"\n",
        "            nicht += buchstabe\n",
        "    return position, enthalten, nicht\n",
        "\n",
        "def haeufigkeit(liste, index=0, h=dict()):\n",
        "    for wort in liste:\n",
        "        if wort[index] in h.keys():\n",
        "            h[wort[index]] += 1\n",
        "        else:\n",
        "            h[wort[index]] = 1\n",
        "    #print(h)\n",
        "    return h\n",
        "\n",
        "def summenhaeufigkeit(wort, h):\n",
        "    out = 0\n",
        "    for b in wort:\n",
        "        if b in h.keys():\n",
        "            out += h[b]\n",
        "    return out\n",
        "\n",
        "def mittelhaeufigkeit(wort, h):\n",
        "    wort = set(list(wort))\n",
        "    out = 0\n",
        "    for b in wort:\n",
        "        if b in h.keys():\n",
        "            out += h[b]\n",
        "    return out#/len(wort)\n",
        "\n",
        "def check_buchstabe(position, enthalten=\"\", nicht=\"\", character=\".\", strategie=summenhaeufigkeit):\n",
        "    position = list(position.upper())\n",
        "    while len(position)<5:\n",
        "        position += character\n",
        "    enthalten = list(enthalten.upper())\n",
        "    nicht = list(nicht.upper())\n",
        "    vorschlaege = []\n",
        "    for wort in fünf:\n",
        "        hilfsvariable = True\n",
        "        for buchstabe in enthalten:\n",
        "            if buchstabe not in wort:\n",
        "                hilfsvariable = False\n",
        "\n",
        "        for buchstabe in nicht:\n",
        "            if buchstabe in wort:\n",
        "                hilfsvariable = False\n",
        "\n",
        "        for i, buchstabe in enumerate(position):\n",
        "            if wort[i] != buchstabe and buchstabe!=character:\n",
        "                hilfsvariable = False\n",
        "\n",
        "        if hilfsvariable:\n",
        "            #print(wort)\n",
        "            vorschlaege.append(wort)\n",
        "\n",
        "    h = dict()\n",
        "    for i in range(len(position)):\n",
        "        if position[i]==character:\n",
        "            h = haeufigkeit(vorschlaege, index=i, h=h)\n",
        "    #print(h)\n",
        "    vorschlaege = sorted(vorschlaege, key=lambda x: strategie(x, h), reverse=True)\n",
        "    #print(vorschlaege)\n",
        "    #print(*vorschlaege, sep=\"\\n\")\n",
        "    return vorschlaege"
      ],
      "metadata": {
        "id": "AKHxibDk14nX"
      },
      "execution_count": 11,
      "outputs": []
    },
    {
      "cell_type": "code",
      "source": [
        "test = check_buchstabe(\"...er\", enthalten=\"\", nicht=\"\")\n",
        "print(test[:20])\n",
        "print(len(test))"
      ],
      "metadata": {
        "id": "zw8wYnDikglI",
        "outputId": "de0171ae-1456-4746-caeb-f288f24eba7a",
        "colab": {
          "base_uri": "https://localhost:8080/"
        }
      },
      "execution_count": 13,
      "outputs": [
        {
          "output_type": "stream",
          "name": "stdout",
          "text": [
            "['EITER', 'EUTER', 'TEUER', 'EULER', 'LEIER', 'ALTER', 'TALER', 'LAUER', 'EIDER', 'METER', 'EIMER', 'ELLER', 'EURER', 'MEIER', 'DAUER', 'MATER', 'ALLER', 'ARIER', 'MAIER', 'MAUER']\n",
            "208\n"
          ]
        }
      ]
    },
    {
      "cell_type": "code",
      "source": [
        "run(schwer=True)"
      ],
      "metadata": {
        "id": "u3ou5E12n5Ik"
      },
      "execution_count": null,
      "outputs": []
    },
    {
      "cell_type": "code",
      "source": [
        "# cheat verwenden\n",
        "# informationen geben\n",
        "# EINE Sache ausgeben lassen\n",
        "# der \"Run-Funktion\" übergeben\n",
        "\n",
        "def bot_run(loesung=\"BAUER\", cb_strategie=summenhaeufigkeit):\n",
        "    counter = 1\n",
        "    erstes_wort = \"panda\".upper()\n",
        "    schon_geraten = [erstes_wort]\n",
        "    pos, ent, nic = gamemaster(erstes_wort, loesung)\n",
        "\n",
        "    erraten = (erstes_wort==loesung)\n",
        "\n",
        "    while not erraten:\n",
        "        counter += 1\n",
        "        cheatliste = check_buchstabe(position=pos, enthalten=ent, nicht=nic, strategie=cb_strategie)\n",
        "        i = 0\n",
        "        tipp = cheatliste[i]\n",
        "        while tipp in schon_geraten:\n",
        "            i += 1\n",
        "            tipp = cheatliste[i]\n",
        "        schon_geraten.append(tipp)\n",
        "        pos, e, n = gamemaster(tipp, loesung)\n",
        "        ent += e\n",
        "        nic += n\n",
        "\n",
        "        #print(pos, ent, nic, tipp)\n",
        "        if tipp==loesung:\n",
        "            break\n",
        "    return counter\n",
        "\n",
        "from tqdm.auto import tqdm\n",
        "versuchliste = []\n",
        "for loesung in tqdm(fünf[::20]):\n",
        "    #z = randint(0, len(fünf)-1)\n",
        "    #loesung = \"panda\".upper()#fünf[z]\n",
        "    n_versuche = bot_run(loesung=loesung)\n",
        "    versuchliste.append(n_versuche)\n",
        "\n",
        "print(versuchliste)\n"
      ],
      "metadata": {
        "id": "uSYJhH6fvI2w",
        "outputId": "f9cf52a0-6302-4bf5-e2be-1feb71b24608",
        "colab": {
          "base_uri": "https://localhost:8080/",
          "height": 87,
          "referenced_widgets": [
            "f95c0af2dc004c44be1d2c73125a46a7",
            "d8600968e9f14d7f8041684850f3208c",
            "1ce20fe220264666bf86790879587b88",
            "a88720379fa94f35948b3ad3bd8962b3",
            "cb1d14eb06d64e3eb27d60dec622eae7",
            "452981aa585540809a8d9d589573bd77",
            "c796825ef8694457b39a26b663a39f16",
            "4279943d51ea408ba86aacfac84caf5b",
            "42da275f64874627b6deaeda0bae32e4",
            "b4f6f0546cf34fb5bffc09cd752e4471",
            "2bd4b9998db441b6b297ec7fc8a69a85"
          ]
        }
      },
      "execution_count": 20,
      "outputs": [
        {
          "output_type": "display_data",
          "data": {
            "text/plain": [
              "  0%|          | 0/296 [00:00<?, ?it/s]"
            ],
            "application/vnd.jupyter.widget-view+json": {
              "version_major": 2,
              "version_minor": 0,
              "model_id": "f95c0af2dc004c44be1d2c73125a46a7"
            }
          },
          "metadata": {}
        },
        {
          "output_type": "stream",
          "name": "stdout",
          "text": [
            "[8, 7, 6, 4, 4, 5, 6, 5, 7, 8, 8, 9, 7, 4, 6, 5, 8, 3, 6, 6, 4, 8, 7, 7, 5, 6, 6, 7, 6, 6, 7, 5, 6, 5, 10, 5, 9, 5, 6, 9, 8, 7, 7, 5, 7, 4, 3, 4, 3, 3, 5, 7, 5, 6, 6, 9, 7, 7, 9, 5, 5, 9, 5, 6, 6, 8, 7, 6, 3, 7, 6, 7, 10, 7, 5, 7, 6, 6, 7, 5, 5, 5, 7, 7, 7, 7, 8, 7, 4, 10, 8, 5, 6, 4, 5, 5, 7, 5, 9, 5, 6, 11, 8, 5, 5, 6, 11, 8, 8, 6, 5, 6, 6, 3, 6, 4, 3, 4, 10, 7, 10, 6, 6, 5, 5, 3, 9, 6, 5, 9, 7, 7, 5, 6, 5, 6, 8, 8, 7, 10, 5, 5, 8, 7, 5, 5, 4, 7, 5, 6, 6, 4, 4, 3, 5, 5, 4, 3, 4, 6, 9, 8, 6, 4, 9, 8, 4, 5, 6, 6, 5, 7, 5, 7, 6, 7, 6, 4, 6, 2, 6, 5, 7, 6, 4, 6, 9, 7, 3, 6, 4, 4, 4, 3, 2, 2, 5, 3, 4, 6, 5, 3, 3, 4, 4, 5, 5, 6, 8, 4, 6, 8, 5, 9, 4, 7, 6, 5, 10, 8, 4, 6, 5, 7, 5, 5, 10, 7, 9, 5, 10, 6, 5, 9, 7, 7, 4, 4, 7, 9, 6, 8, 8, 3, 7, 5, 8, 5, 6, 6, 4, 8, 6, 4, 3, 8, 4, 5, 5, 6, 6, 5, 7, 6, 5, 5, 6, 7, 5, 5, 12, 7, 6, 13, 9, 9, 7, 9, 8, 4, 4, 6, 9, 9, 4, 9, 9, 7, 8, 7, 10, 7, 5, 6, 4, 6]\n"
          ]
        }
      ]
    },
    {
      "cell_type": "code",
      "source": [
        "print(sum(versuchliste)/len(versuchliste))"
      ],
      "metadata": {
        "colab": {
          "base_uri": "https://localhost:8080/"
        },
        "id": "HmA8siiyxrJr",
        "outputId": "1b8f76a0-8b8c-439d-b864-ba59edfc8a02"
      },
      "execution_count": 21,
      "outputs": [
        {
          "output_type": "stream",
          "name": "stdout",
          "text": [
            "6.121621621621622\n"
          ]
        }
      ]
    }
  ]
}