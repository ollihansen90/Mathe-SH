{
  "nbformat": 4,
  "nbformat_minor": 0,
  "metadata": {
    "colab": {
      "provenance": [],
      "authorship_tag": "ABX9TyM3U8OeOA/nqAm9pM8YctAl",
      "include_colab_link": true
    },
    "kernelspec": {
      "name": "python3",
      "display_name": "Python 3"
    },
    "language_info": {
      "name": "python"
    }
  },
  "cells": [
    {
      "cell_type": "markdown",
      "metadata": {
        "id": "view-in-github",
        "colab_type": "text"
      },
      "source": [
        "<a href=\"https://colab.research.google.com/github/ollihansen90/Mathe-SH/blob/main/Wordle.ipynb\" target=\"_parent\"><img src=\"https://colab.research.google.com/assets/colab-badge.svg\" alt=\"Open In Colab\"/></a>"
      ]
    },
    {
      "cell_type": "code",
      "source": [
        "!wget -nc -q https://github.com/ollihansen90/Mathe-SH/raw/main/data/deutsch.txt\n",
        "import requests\n",
        "\n",
        "#words = requests.get(\"https://github.com/ollihansen90/Mathe-SH/raw/main/data/deutsch.txt\").split(\"\\n\")"
      ],
      "metadata": {
        "id": "lLtl7vzzeMpq"
      },
      "execution_count": null,
      "outputs": []
    },
    {
      "cell_type": "code",
      "execution_count": null,
      "metadata": {
        "id": "xF0yKrUTeJp_",
        "colab": {
          "base_uri": "https://localhost:8080/"
        },
        "outputId": "349454d2-1640-4a9f-c131-24de75163851"
      },
      "outputs": [
        {
          "output_type": "stream",
          "name": "stdout",
          "text": [
            "['WOHIN', 'POKAL', 'EXILS', 'PFAHL', 'ALTEN', 'TAKEL', 'DEVON', 'WOVOR', 'URALT', 'NOVUM', 'EIFEL', 'RUNDE', 'LEPRA', 'KLUBS', 'TABAK', 'DECKE', 'KETTE', 'OCRAM', 'KATZE', 'HERST', 'FAUST', 'COUPE', 'QUEEN', 'SERIF', 'CONM4', 'ARGAU', 'INDIZ', 'BOEWE', 'WORTS', 'BLICK', 'WIPPE', 'MAKEL', 'HEBER', 'BERND', 'NEHME', 'CIVIL', 'CODES', 'AEBTE', 'OKTAN', 'KIELE', 'ASTES', 'FANGO', 'MIMIK', 'KUBAS', 'TUSCH', 'RUFEN', 'JAUSE', 'RUSSE', 'KAPPE', 'MONTE', 'OHRES', 'PONTE', 'RAMBO', 'LANZE', 'FANGS', 'BETEL', 'KEILE', 'PEDAL', 'FLACH', 'LOUIS', 'ABZUG', 'ZAHNS', 'ERZEN', 'RMTOS', 'PFUND', 'BEBOP', 'FEDER', 'OSCAR', 'LOCHS', 'WEGES', 'ZURUF', 'SCHAL', 'FREUD', 'NETTE', 'KALIF', 'JAHRE', 'RIPPE', 'HUMUS', 'WANNE', 'PFUHL', 'MAMAS', 'KONUS', 'STICH', 'WIESO', 'PFIFF', 'SIGMA', 'MOTIV', 'ZUGES', 'SPANN', 'BOHLE', 'GOSSE', 'LADER', 'FUNDE', 'WARTE', 'ZUNFT', 'FIGUR', 'KURSE', 'SEITE', 'KAFIG', 'KOJEN', 'MOLEN', 'KLIMA', 'ORTEN', 'MEIGS', 'STOSS', 'BLUTS', 'LESEN', 'NICHT', 'MATER', 'HELEN', 'SCHUH', 'LYDER', 'EXTRA', 'LANKA', 'WALDE', 'SPECK', 'KITTS', 'KURDE', 'UNSER', 'TINTE', 'SM124', 'FARBE', 'PARIS', 'BARON', 'FRANK', 'MOSEL', 'POREN', 'RADIO', 'TOENE', 'KLETT', 'PEDRO', 'TANKS', 'ORION', 'WELLE', 'SANTA', 'SHELL', 'UNTER', 'EIMER', 'VENEN', 'ESCHE', 'KAHNS', 'SUMPF', 'SCOUT', 'JALTA', 'BRAUE', 'WORAN', 'ARMEN', 'RITEN', 'LAKEN', 'DRIFT', 'TODES', 'HABEN', 'NEBEL', 'GEHEN', 'JURYS', 'MENSA', 'VETOS', 'QUERE', 'KERLS', 'WOTAN', 'VIREN', 'ARGUS', 'ROGER', 'SIMON', 'WARME', 'ZIMTS', 'MOSES', 'TANGS', 'GAGEN', 'ERSTE', 'FATUM', 'HORNS', 'VISUM', 'LILIE', 'EMAIL', 'KNAUR', 'SINNE', 'AESTE', 'FIRST', 'HAKEN', 'FILES', 'SPANT', 'ZAREN', 'LIMIT', 'DILLS', 'BROTE', 'PUTEN', 'HEFTE', 'RUGBY', 'HOFES', 'LACHS', 'ZAHLE', 'HILDE', 'STILS', 'DIAET', 'EIFER', 'RUMPF', 'HILFE', 'NIMMT', 'CORPS', 'MARNE', 'SAGTE', 'IRISH', 'WEITE', 'BESEN', 'KOHLE', 'JUNIS', 'HUFEN', 'LITER', 'WAREN', 'KINEX', 'TARAS', 'BAUER', 'DUELL', 'BURDA', 'RAETE', 'ZICKE', 'NADEL', 'DISCO', 'JACOB', 'MAINZ', 'TUERE', 'NEGER', 'WACHS', 'OASIS', 'TROST', 'TEAMS', 'RIEGE', 'DIESE', 'HEMDS', 'INSEL', 'STABS', 'GUTER', 'SEREN', 'DATEX', 'HILFT', 'MANKO', 'NAHEN', 'WILLY', 'LENIN', 'BETON', 'LIPPE', 'RASSE', 'DRECK', 'MENDE', 'HALLE', 'BLUFF', 'SKIER', 'SAUDI', 'UFERS', 'BASEL', 'HULSE', 'MIMEN', 'NAIVE', 'B-DUR', 'RAUMS', 'LYNCH', 'DINGE', 'DAVID', 'DATEN', 'AREAL', 'MOOET', 'DEREN', 'GEBOT', 'MUFFE', 'JAFFA', 'BLOIS', 'ANDR‚', 'ANMUT', 'EIGEN', 'HAUSE', 'SPIEL', 'ARIER', 'RINDS', 'HOLLE', 'ELITE', 'HAHNS', 'HERRN', 'RACHE', 'JULIS', 'NEUSS', 'SPALT', 'LUCHS', 'BLITZ', 'LIDES', 'KRAUS', 'VEUVE', 'KINGS', 'HUTES', 'ERZES', 'GETUE', 'FELDE', 'BASAR', 'STETS', 'WOBEI', 'MORDE', 'MAORI', 'MUNIX', 'TROTZ', 'KLAPS', 'RUINS', 'ROEBI', 'UNMUT', 'FIRMA', 'QUIRL', 'SLUMS', 'GENEN', 'MODEM', 'SPUKS', 'VENUS', 'HECKE', 'DEICH', 'DROGE', 'CHEFS', 'JAMES', 'TALES', 'SAMEN', 'QUART', 'VT100', 'TRUHE', 'ELIAS', 'DACHS', 'BANDE', 'REIMS', 'DELLE', 'DURST', 'BARES', 'JUNGE', 'KAMPF', 'ECHOS', 'FELLS', 'FEHLT', 'LAERM', 'ALLES', 'ADIEU', 'EXILE', 'FILET', 'MORAL', 'FUSEL', 'ROETE', 'AHORN', 'SALAT', 'AMIGA', 'KOHLS', 'HINZU', 'FUGEN', 'FUSSE', 'JUPES', 'ARMEL', 'UNGAR', 'SANDS', 'TREND', 'HAGEN', 'SCHAM', 'FUNKE', 'PULTE', 'WOCHE', 'SWAPO', 'ERNTE', 'BERTA', 'KUEHE', 'GEIER', 'APSIS', 'DOGMA', 'PUDER', 'MAGNA', 'WESEN', 'RAUPE', 'AUTOS', 'KDNET', 'STADT', 'MALUS', 'NEUEM', 'FLASH', 'RITUS', 'TOKIO', 'STEIN', 'LEHRE', 'TUETE', 'PRINZ', 'ZWEIG', 'NIETE', 'SCHUB', 'BREIS', 'ANGEL', 'PFAUS', 'BOGEN', 'REALO', 'KRISE', 'TITAN', 'REALE', 'BLATT', 'KAMEL', 'SITZE', 'GRIPS', 'FUENF', 'GRUBE', 'KLEVE', 'PUETT', 'MANIE', 'WEGEN', 'SATZE', 'UEBER', 'FOLGE', 'ROLEX', 'HUFTE', 'IDEEN', 'KATIA', 'SEIMS', 'FILME', 'DAVOR', 'LYRIK', 'FLURS', 'WEIDE', 'TIRAN', 'ABEND', 'KAMMS', 'MUENZ', 'GEISS', 'LEIER', 'POLEN', 'KASUS', 'WARUM', 'TURBO', 'HEUSS', 'MUEHE', 'TIROL', 'KINOS', 'MAGST', 'RISSE', 'RSFSR', 'HAIFA', 'GUETE', 'TAFEL', 'AXIOM', 'DANTE', 'ASCII', 'FERNE', 'FLOHS', 'HERTZ', 'ELANS', 'GRUEN', 'FESTE', 'FASER', 'SORGE', 'COUPS', 'HAELT', 'KELLE', 'SUSHI', 'BATIK', 'SOHLE', 'GANGE', 'KOMMT', 'BAIEN', 'CHAOS', 'DOLLY', 'MODEN', 'MALER', 'RESTE', 'SIEGS', 'FINNE', 'GIZEH', 'VERSE', 'LIEBE', 'WAISE', 'HEGEL', 'WINKS', 'FILMS', 'ROLLE', 'GUIDO', 'EINEM', 'TAKTE', 'WILLE', 'SAGEN', 'INDER', 'LEGEN', 'STEGS', 'BAUME', 'UNKEN', 'WIESE', 'PALME', 'LAMPE', 'SATIN', 'BONZE', 'LEHLE', 'TAIGA', 'KILOS', 'FAURE', 'OUPUT', 'NERVS', 'FIBER', 'MALTA', 'NEFFE', 'TAGES', 'STEHT', 'KABEL', 'BOSCH', 'MEUTE', 'KOBRA', 'KOORD', 'TURCK', 'LOTTE', 'KARRE', 'GENIE', 'KEULE', 'NETZE', 'DANKE', 'THESE', 'CARLE', 'IHRES', 'NIKKO', 'HADES', 'LECKS', 'ROEHM', 'SPANS', 'JUDOS', 'MERKE', 'CLUNY', 'NATUR', 'KNIEE', 'UEBEL', 'LINKT', 'PAARE', 'KELCH', 'POWER', 'NONNE', 'TRUNK', 'DUENE', 'WIEGE', 'FALTE', 'KRAFT', 'MINNI', 'BIRNE', 'HAFER', 'MILIZ', 'SOMIT', 'STIRB', 'SOHNS', 'IDOLS', 'SYRER', 'CHLOR', 'WEIBE', 'SOLON', 'GENAU', 'LUEGE', 'STAND', 'DORFE', 'PHASE', 'PABLO', 'ETWAS', 'DUMME', 'ORDEN', 'BALLS', 'HAWAI', 'GARNS', 'ZELTE', 'OMEGA', 'FISCH', 'KRAHE', 'ALGEN', 'BRUCH', 'TEICH', 'LAGER', 'FORST', 'TUMOR', 'UFERN', 'HENRY', 'VOGEL', 'SEGEL', 'BRUST', 'FEIND', 'ZINNS', 'SALDO', 'TEERS', 'SEELE', 'RATEN', 'HUGEL', 'SEKTS', 'TRIEB', 'ZIELS', 'LUNGE', 'FRANC', 'KLANG', 'KERNS', 'EPROM', 'MOKKA', 'GEORG', 'PHNOM', 'DORNS', 'ENDET', 'SKALA', 'HOCHS', 'KOREA', 'GOLDA', 'TREFF', 'MODUL', 'GRUSS', 'KORNS', 'ELIZA', 'ZUMAL', 'KARAT', 'WICKE', 'DEPOT', 'HAUER', 'TORSO', 'ERIKA', 'LETZT', 'HOMER', 'WANZE', 'WHITT', 'AETNA', 'DIEBE', 'TANGE', 'VOKAL', 'EHREN', 'BAMBI', 'NABEL', 'ERDOL', 'KONIG', 'TIGER', 'GALAS', 'KRACH', 'PILZE', 'METER', 'NAMUR', 'TIERE', 'APPLE', 'EIDES', 'GNADE', 'TORFS', 'FOLGT', 'ZAKEL', 'HUSAR', 'SADAT', 'KNICK', 'RABAT', 'ASCHE', 'WESTE', 'HENNE', 'MAENI', 'KORAN', 'EINEN', 'UNRUH', 'DANDY', 'KANNE', 'GICHT', 'NOTAR', 'KLAGE', 'SICHT', 'GOLDE', 'SPEER', 'SCHAR', 'LUNCH', 'SAELE', 'POSEN', 'TEILS', 'OESEN', 'POKER', 'PENCE', 'UMWEG', 'HAARE', 'GRUND', 'BEUTE', 'KUPPE', 'WINDE', 'UDSSR', 'LATTE', 'IGELN', 'SKLAV', 'MEERS', 'TROJA', 'PFOTE', 'OSKAR', 'ADRIA', 'KNAUF', 'CREWS', 'AKABA', 'HUNDE', 'GEGEN', 'TISCH', 'STILE', 'WEICH', 'TAKTS', 'KALTE', 'ORGAN', 'ASYLS', 'TUBEN', 'FASAN', 'STEVE', 'HAIEN', 'MUHLE', 'WURDE', 'FREIE', 'HUEBE', 'APPEL', 'PIPPI', 'GIRLS', 'REGAL', 'FARUK', 'WUCHT', 'EKLAT', 'MAMBA', 'WALZE', 'MEIER', 'ORGIE', 'CAPUA', 'MSDOS', 'ZWANG', 'OCHSE', 'RENTE', 'STAKE', 'AGENT', 'STOLZ', 'LUNTE', 'ARENA', 'DRUCK', 'MAPPE', 'DUESE', 'LEUTE', 'LOBBY', 'GABEL', 'AUTOR', 'HAGEL', 'IKONE', 'HANNE', 'ZYSTE', 'FELIX', 'MARKT', 'KASKO', 'HIRNE', 'SALON', 'SPORE', 'TIERS', 'LOTTO', 'WAGEN', 'SOLDE', 'PEPSI', 'GESTE', 'BOHNE', 'TITEL', 'SAFTE', 'C-DUR', 'TADEL', 'TASSE', 'MIDAS', 'MOTUS', 'FIBEL', 'LEIBS', 'FUNKS', 'THERM', 'SUMME', 'STROH', 'SEHEN', 'ALARM', 'PENIS', 'UMBAU', 'REISE', 'ZINSE', 'ISAAK', 'GRAMM', 'ETHOS', 'FUHRE', 'GASEN', 'DATEI', 'SAFTS', 'KUCHE', 'NEGRO', 'PFAND', 'FOLIE', 'ROBBE', 'MUTTI', 'ZUDEM', 'GRIFF', 'ISAAC', 'SUPPE', 'PAKTS', 'GLANZ', 'DUNST', 'TAUBE', 'EDENS', 'MEISE', 'SEOUL', 'LLOYD', 'RUHMS', 'FEUER', 'VORAB', 'AFFES', 'EFEUS', 'NEIGE', 'WUSTE', 'MOLLE', 'MIENE', 'HUHNS', 'GREIS', 'ULMEN', 'MEILE', 'REBEN', 'HOBEL', 'AMMEN', 'POLIN', 'WITCH', 'KNETE', 'BUCHE', 'BAREN', 'EKZEM', 'GAUDA', 'DISCS', 'FERSE', 'PUMPS', 'STERN', 'ETATS', 'KREUZ', 'LESER', 'TOBAK', 'KONTO', 'RAUME', 'BNSAI', 'MERCK', 'BAUMS', 'ASIND', 'RINGE', 'GIANT', 'LERNE', 'ABART', 'SINUS', 'KHMER', 'VERDI', 'KAABA', 'OHEIM', 'KOELN', 'BARKE', 'LATEX', 'PAPPE', 'SPRIT', 'PFALZ', 'UMZUG', 'PFLUG', 'SHOWS', 'WOLLE', 'EKELS', 'STURZ', 'DEKAN', 'ALLEE', 'PFAUE', 'CADIZ', 'SILBE', 'KUNST', 'RATTE', 'FOENS', 'VOLKE', 'RADES', 'KAFFS', 'PEGGY', 'NEONS', 'ISLAM', 'XENIX', 'BETTY', 'BECON', 'EPCOT', 'UHREN', 'RAUFE', 'FRUEH', 'STOUT', 'MULDE', 'BOYEN', 'EITER', 'IHREN', 'LAEDT', 'STEAK', 'NOTRE', 'BUCHT', 'AKTIE', 'NEGEV', 'KNAST', 'SERIE', 'TAGEN', 'LINKE', 'WITWE', 'DAMPF', 'MOTEL', 'SEILE', 'ZIEGE', 'LIDER', 'LAUNE', 'OHREN', 'ZEUGS', 'KREME', 'KUALA', 'PARTY', 'ARTEN', 'BIBEL', 'SPORT', 'BADES', 'ENDES', 'MUSIK', 'MONAT', 'NETTO', 'TANGO', 'ZITAT', 'ALLAH', 'WOLKE', 'TALON', 'ZORRO', 'TANDS', 'WORTE', 'BORKE', 'BEERE', 'BOWLE', 'EULER', 'ZUBER', 'KANTE', 'PETER', 'ANWAR', 'DIRNE', 'KANON', 'SALZE', 'KNALL', 'ADOLF', 'WEHEN', 'EULEN', 'QUARZ', 'TOREN', 'MAGEN', 'TREUE', 'VATIS', 'ZIELE', 'RIVAL', 'GARBO', 'SEICH', 'CAROL', 'SOSSE', 'GOUDA', 'MINIS', 'SKK24', 'BUDEN', 'OLYMP', 'GNOME', 'WENDE', 'GELDE', 'WALEN', 'SEXES', 'SOHNE', 'ATOME', 'FOREN', 'DIEBS', 'BREIE', 'HELDS', 'GANZE', 'TRAFO', 'QUAIS', 'FALLE', 'HALME', 'LACKE', 'GUSTO', 'HUSUM', 'SAEUE', 'HANSI', 'TRICK', 'URANS', 'CLONE', 'WORMS', 'SILAN', 'NEUES', 'TEILE', 'SAUCE', 'BEBEN', 'BUSEN', 'HAUFF', 'TIBET', 'MUNZE', 'TENNE', 'BREIT', 'WONNE', 'TESTS', 'DAUER', 'IDYLL', 'HEDDA', 'NEHMT', 'ETAGE', 'WALLS', 'MOTTE', 'D-ZUG', 'WEDEL', 'STORY', 'OPFER', 'RAHMS', 'RASTA', 'EINES', 'ZUNGE', 'WATTE', 'PROSA', 'GRATZ', 'KNIFF', 'DORIS', 'KALKS', 'DABEI', 'SCHAU', 'STEGE', 'PEGEL', 'PLATO', 'GLIED', 'CATHY', 'SESAM', 'FAXEN', 'MBYTE', 'NUDEL', 'ZEIGT', 'GRACE', 'FEILE', 'ARDEN', 'KUEHN', 'ABTEI', 'VILLA', 'DINAR', 'BUSCH', 'RHONE', 'NIGER', 'HODEN', 'HITZE', 'PAVIA', 'NOETE', 'LILLY', 'GENRE', 'ATARI', 'KABUL', 'SPION', 'SPORN', 'TAXEN', 'KENIA', 'ZINNE', 'SEILS', 'DHABI', 'EINER', 'TANTE', 'LINSE', 'VERGL', 'LAUFS', 'LICHT', 'SOCKE', 'LEISE', 'RUDER', 'FRUST', 'DOSIS', 'STUBE', 'AKTEN', 'IGELS', 'BIENE', 'FLUID', 'OPIUM', 'NAGEL', 'NEUEN', 'FORUM', 'STAMM', 'KLENK', 'SUPER', 'FRAGT', 'FLAIR', 'HASEN', 'GROSS', 'SALTO', 'OPERN', 'WEILE', 'LEICA', 'ARSCH', 'FLUGS', 'YAMPA', 'EISES', 'OELEN', 'LUNAS', 'PERUS', 'MARGE', 'KAIRO', 'HELMS', 'PASTE', 'DRAHT', 'ABGAS', 'LETTE', 'MURKS', 'MORON', 'BOTEN', 'AKTIV', 'OLIVE', 'STARS', 'PULLI', 'ENKEL', 'GIFTE', 'LINKS', 'BLAUE', 'KONGO', 'HEUTE', 'ARSEN', 'STURM', 'ALTER', 'DAENE', 'CROIX', 'MEINE', 'VASEN', 'LEINE', 'EIDEN', 'BRITE', 'HEIKE', 'MINZE', 'EDEKA', 'ARIEN', 'HEINZ', 'TAPET', 'BUBEN', 'PONYS', 'DIWAN', 'ZUZUG', 'LEBEN', 'BRAND', 'CHOCO', 'FJORD', 'ARTUS', 'BUSSE', 'WOYNA', 'BUCHS', 'KPDSU', 'KLEIE', 'KRIEG', 'JEDEM', 'ORKAN', 'RODEL', 'GEIST', 'LANDE', 'SEIDE', 'APFEL', 'WEINS', 'LOTUS', 'ANBEI', 'KOMMA', 'DAMEN', 'KLEID', 'CURIE', 'BRETT', 'HAFEN', 'AEXTE', 'LAUCH', 'TRANS', 'SEMIT', 'ZOTEN', 'ZUVOR', 'SENDE', 'BANJO', 'SENFS', 'FEIER', 'RIESE', 'FLOEZ', 'INDEM', 'PELZE', 'TUELL', 'PATEN', 'SODOM', 'TATEN', 'HARTE', 'SIEHE', 'EIBEN', 'TALKS', 'EISEN', 'STUSS', 'HIRNS', 'TULPE', 'GRUFT', 'GUMMI', 'MARSA', 'APRIL', 'SUDAN', 'POMPS', 'DOCKS', 'SONST', 'DORNE', 'SALEM', 'BERUF', 'SAMTS', 'BOMBE', 'ANBAU', 'ROLLS', 'SOWIE', 'FEIGE', 'HUBES', 'SETZT', 'VIDEO', 'ASKET', 'SCHAF', 'TONES', 'KANAL', 'OEFEN', 'NEUER', 'BUGES', 'GARBE', 'POLIS', 'KAROS', 'URINS', 'MIXER', 'CLUBS', 'KARIN', 'SENSE', 'DAUNE', 'SIPPE', 'WANST', 'JOERG', 'FLUSS', 'STUCK', 'DAMIT', 'WITZE', 'PUZZI', 'THEKE', 'BAZAR', 'GERNE', 'VOLLE', 'MAERZ', 'WEINE', 'RAUDI', 'PIEZO', 'ZUPPA', 'SCHAH', 'ABORT', 'JETZT', 'ZWIRN', 'MOSER', 'KREIS', 'BANTU', 'GURKE', 'KARTE', 'ORGEL', 'NIKON', 'HALMS', 'KUPON', 'HAUPT', 'AGAVE', 'CHIPS', 'KADER', 'FAHNE', 'BOSSE', 'SAATS', 'AMPEL', 'AHLEN', 'KLOSS', 'LUXUS', 'LAUFE', 'VIELE', 'KRETA', 'SUITE', 'ROMAN', 'KOMIK', 'AKKUS', 'OZEAN', 'ZIEHT', 'SOUND', 'LOGIK', 'HARRO', 'FOTOS', 'IMMER', 'HONIG', 'FLUGE', 'SENAT', 'ADLER', 'OKTAV', 'TRENN', 'SINAI', 'WERKE', 'DRESS', 'NIZZA', 'TELEX', 'SAUNA', 'HIRSE', 'EPSON', 'ETHIK', 'STREB', 'SANDE', 'ZOFEN', 'PETRI', 'BEVOR', 'ADDIS', 'BRADY', 'SNOBS', 'BRAUT', 'STOFF', 'LENZE', 'ONKEL', 'LEBER', 'BONUS', 'REGIE', 'PFERD', 'MEIST', 'MUTES', 'KOMET', 'LOBES', 'BANGE', 'KUGEL', 'DARAN', 'KERLE', 'WAHRE', 'LISTE', 'DRINK', 'TIEFE', 'FAZIT', 'TERZE', 'WABEN', 'SZENE', 'PARKS', 'WORLD', 'KLEIN', 'ZEBRA', 'LOHNT', 'RANKE', 'TUNIS', 'LEERE', 'HYMNE', 'MENUE', 'BACKE', 'GUTES', 'AKTOR', 'LORDS', 'PANIK', 'WERFT', 'WELPE', 'POLLE', 'TRITT', 'LIANE', 'MENGE', 'ERICH', 'KASSE', 'NAMEN', 'DUETT', 'CHASE', 'MARAT', 'SAEGE', 'ODECA', 'KEINE', 'HAMED', 'ERLEN', 'ESSIG', 'MACHT', 'DOLCH', 'TETRA', 'DEKOR', 'ECKEN', 'NIERE', 'BABYS', 'SKATS', 'WURST', 'WAERE', 'FOEHN', 'DEMUT', 'PNEUS', 'PECHS', 'DRAMA', 'GARNE', 'TATZE', 'BUERO', 'TRANE', 'SALVE', 'ROSEN', 'BRIEF', 'ALTES', 'ARTZT', 'ABSUD', 'BURMA', 'SACHE', 'SLAVE', 'DOSEN', 'STARE', 'STAUS', 'ZEUGE', 'RALLY', 'MASSE', 'FURIE', 'SOFIA', 'ZEHEN', 'BELEG', 'AASES', 'SAULE', 'HEXEN', 'WOHLE', 'NACHT', 'PIPER', 'DIELE', 'MONDE', 'TALER', 'ATMEN', 'BATOR', 'PHOTO', 'GOERE', 'RESTS', 'MADEN', 'JACHT', 'STUNK', 'GERTE', 'LIEGT', 'FRAGE', 'PIXEL', 'NEPAL', 'BLOCK', 'KINNS', 'GRAMS', 'ZANGE', 'REGEL', 'SERBE', 'AALEN', 'HIPPY', 'AROSA', 'KOMBI', 'KOKON', 'AUREL', 'EIERN', 'TURME', 'BEILE', 'MACHE', 'HOCKE', 'HANOI', 'BULLE', 'SEXUS', 'GASES', 'MITTE', 'JOSEF', 'SANYO', 'DOHLE', 'TRIOS', 'KUBUS', 'SOGAR', 'BLECH', 'BAUCH', 'BISSE', 'INDEX', 'COATS', 'STIER', 'VIPER', 'JUDEN', 'ZWIST', 'ORDER', 'GULAG', 'JUDAS', 'RAMPE', 'JURAS', 'PISTE', 'HARFE', 'DAVOS', 'PERLE', 'EBERT', 'CENTS', 'IDOLE', 'CELLE', 'HEBEN', 'SONNE', 'WEISE', 'CHILE', 'MILAN', 'MUSSE', 'KATER', 'KAESE', 'SEINS', 'PUPPE', 'MEERE', 'HALDE', 'RECKE', 'TOLLE', 'BEULE', 'GUCCI', 'IDIOT', 'KREML', 'LOREN', 'FOULS', 'DAKAR', 'NYLON', 'TENOR', 'GABUN', 'KAMIN', 'ESELN', 'GORBY', 'KEKSE', 'LOEWE', 'KEGEL', 'JESUS', 'WANGE', 'KRIMI', 'FREMD', 'ABWEG', 'MARKE', 'SKK34', 'BUNDE', 'ZUCHT', 'MOBEL', 'SIELS', 'POTIS', 'KLICK', 'GALLE', 'LILLE', 'REGER', 'CHINA', 'SEHNE', 'KEIMS', 'KYOTO', 'PLAZA', 'PULLE', 'ERNST', 'MINUS', 'BLOSS', 'GABEN', 'WHIGS', 'UNITA', 'ALKOR', 'RUBIK', 'AMORS', 'ADDON', 'WEBER', 'CHORS', 'KAFKA', 'BUETT', 'GENUA', 'WUNDE', 'GOLFS', 'TEIGS', 'MERAN', 'SIRUP', 'NIELE', 'KRAUT', 'ZILOG', 'FABEL', 'RICKE', 'ABTES', 'STALL', 'TYPEN', 'KOLIK', 'HANSA', 'IHREM', 'SEIKO', 'ANKER', 'JOKER', 'LAUGE', 'DUSEL', 'BREST', 'HALLO', 'KEHLE', 'ANGST', 'SITTE', 'CARLO', 'EICHE', 'HOEHE', 'BASEN', 'ANRUF', 'STIRN', 'TRAUM', 'OBERS', 'UNION', 'HANKE', 'HOHER', 'HONDA', 'ALLEN', 'DONGL', 'FINTE', 'NEHRU', 'HAUCH', 'ACKER', 'ZEILE', 'NUTEN', 'DONAU', 'GATTE', 'TURMS', 'KURZE', 'KEILS', 'SETZE', 'KIOSK', 'ASPIK', 'LOIRE', 'WERBE', 'MAZDA', 'JULIA', 'KREBS', 'LABEL', 'BIERE', 'PAKTE', 'SWING', 'FELDS', 'ABRUF', 'ATHEN', 'NIKKI', 'RS422', 'RS232', 'WIRTE', 'FETTE', 'DICKE', 'ZITZE', 'VOLKS', 'FRACK', 'KNABE', 'WILLI', 'GAUDI', 'JEDES', 'ZARIN', 'WERKS', 'WERTE', 'GLEIS', 'TYPUS', 'HUPEN', 'IMAGE', 'KBYTE', 'GRAUE', 'TEXAS', 'WEISS', 'BILLY', 'HOHLE', 'ANLLO', 'BOECK', 'KERBE', 'TEMPO', 'PILLE', 'PRADO', 'QUALM', 'ESSEN', 'AFTER', 'PLATZ', 'TEINT', 'EBENE', 'TIMES', 'RAUCH', 'CAMUS', 'HEFTS', 'THURN', 'FRIST', 'HAARS', 'BRISE', 'ROBIN', 'BONGO', 'HESSE', 'LASSO', 'VALVO', 'FLUOR', 'WURMS', 'BOXEN', 'LEIBE', 'SEIFE', 'CREME', 'SPREU', 'ELEND', 'IHRER', 'VIOLA', 'MEINT', 'STOCK', 'OBHUT', 'HUBER', 'PORNO', 'WOVON', 'SEATO', 'MASKE', 'ANNIE', 'STUTE', 'PAPST', 'FADEN', 'KUPEE', 'MOEGE', 'KURIE', 'KUFEN', 'MUMIE', 'FALKE', 'LAGEN', 'KOPIE', 'SEGEN', 'RATES', 'TALGS', 'TOWER', 'ZELLE', 'ASIEN', 'RINGS', 'JEDER', 'NAZIS', 'AUGES', 'TAXIS', 'PRAGS', 'ANZUG', 'KRUME', 'AMTES', 'STOPP', 'NOTEN', 'MINNE', 'GEBER', 'POLIT', 'GEBET', 'BERGE', 'BIWAK', 'LUDER', 'KNOPF', 'HARNS', 'MANNE', 'WARZE', 'ALBUM', 'LADEN', 'MESSE', 'EGELS', 'SAITE', 'ZWECK', 'MEHLS', 'KUNDE', 'KLOTZ', 'JUWEL', 'STATT', 'JACKE', 'BLUME', 'LOESS', 'PACHT', 'NASEN', 'NERZE', 'KISTE', 'ARMUT', 'PINIE', 'NOTIZ', 'OMAHA', 'THRON', 'TUTOR', 'IRREN', 'SOLDS', 'VATER', 'GEBEN', 'DARIN', 'HEERS', 'HEXER', 'UBUNG', 'PETRO', 'CANON', 'HERRS', 'ROTOR', 'KNIEN', 'BIBER', 'EBBEN', 'KNIES', 'SORTE', 'SAALS', 'LOGIS', 'BLASE', 'PAUKE', 'MIPRO', 'STOLA', 'JOGIS', 'OSTEN', 'INNEN', 'TUFFS', 'PETRA', 'MAKRO', 'ACHSE', 'EPOXI', 'DAVON', 'FINAL', 'STAUB', 'FLECK', 'LUEKE', 'NAEHE', 'DURCH', 'IONEN', 'REINE', 'REGEN', 'MAUER', 'FELGE', 'MIETE', 'ADERN', 'ROHRE', 'CODEX', 'HOLDE', 'SEKTE', 'WAAGE', 'SALUT', 'HEINO', 'DROHT', 'GUTEN', 'JEDEN', 'SPULE', 'SEHER', 'HUENE', 'GILDE', 'MACKE', 'RANDE', 'FUCHS', 'LABOR', 'PHONO', 'COBOL', 'MOTOR', 'FUDER', 'STAHL', 'BASIK', 'KORSO', 'JAPAN', 'VEGAS', 'BEIDE', 'ERBIN', 'ENZYM', 'HELME', 'KOCHS', 'TICKS', 'MILCH', 'SCALA', 'FAHRT', 'FOYER', 'RIEDL', 'WAFFE', 'ANDRE', 'RECHT', 'WESER', 'LIFTS', 'ABBAU', 'LEONE', 'MAXIM', 'MIEKE', 'TASTE', 'ZWICK', 'PLUTO', 'BOOTE', 'JONES', 'WAHNS', 'STUHL', 'THEMA', 'MOLLY', 'TOTOS', 'BABEL', 'BITTE', 'ADELS', 'JAHWE', 'OTTER', 'PRINT', 'ZWERG', 'OFFEN', 'MULTI', 'FLORA', 'KURVE', 'TRABI', 'KAKAO', 'GUNST', 'PUMPE', 'RADON', 'KERNE', 'AUGEN', 'ODIUM', 'PUNKT', 'ZETER', 'BEINE', 'JUBEL', 'HACKE', 'BOTIN', 'TRAKT', 'GRETE', 'GRATE', 'RADAU', 'VOTUM', 'JAHRS', 'WIRTH', 'KLEES', 'PARTS', 'ZORNS', 'EGELN', 'MOEWE', 'HERDE', 'LINIE', 'STIEL', 'BASIC', 'WATTS', 'BOOTS', 'MIKRO', 'HOTEL', 'TRUCK', 'ENGEL', 'PAKET', 'FIAKO', 'WOMIT', 'HEINE', 'BEZUG', 'HEISS', 'MAFIA', 'PRUNK', 'BODEN', 'YACHT', 'HILFS', 'STUFE', 'ECHTE', 'CRASH', 'ERBSE', 'KERZE', 'LARVE', 'ROYCE', 'FEHDE', 'ATZEN', 'INDUS', 'GOTTS', 'DOVER', 'ORTES', 'ZECHE', 'GORKI', 'PAPAS', 'PFADE', 'STIFT', 'TEXTE', 'UNTAT', 'MAGIE', 'PILOT', 'KAUFS', 'XEROX', 'MASEL', 'SUCHE', 'VIRUS', 'PORTO', 'ALPEN', 'SPASS', 'TRUST', 'HEROS', 'EINST', 'JEMEN', 'PREIS', 'NEBEN', 'MEMEL', 'DOMES', 'FAUNA', 'MUELL', \"LCA'S\", 'DATUM', 'RHODE', 'HEBEL', 'BOTHA', 'WALES', 'BORTE', 'PFEIL', 'KOPFE', 'IHNEN', 'APOLL', 'STAAT', 'HAUBE', 'SATAN', 'REIHE', 'SOFAS', 'LANGE', 'KIPPE', 'SARGS', 'HUMAN', 'RINNE', 'LITZE', 'DAHER', 'BRAUS', 'MARIE', 'OTMAR', 'BONNS', 'CHOKE', 'LEDER', 'HOSEN', 'ARMEE', 'PIRAT', 'ZINKE']\n",
            "2534\n"
          ]
        }
      ],
      "source": [
        "with open(\"deutsch.txt\", \"r\") as file:\n",
        "    words = file.read().split(\"\\n\")\n",
        "#print(len(words))\n",
        "#print(type(words))\n",
        "\n",
        "def enthaelt_zahl(wort):\n",
        "    for i in range(10):\n",
        "        if str(i) in wort:\n",
        "            return True\n",
        "    return False\n",
        "\n",
        "fünf = [word.upper() for word in words if len(word) == 5 and word[0].upper()==word[0]]\n",
        "fünf = list(set(fünf))\n",
        "print(fünf)\n",
        "\n",
        "fünf = []\n",
        "for word in words:\n",
        "    if len(word) == 5 and word[0].upper()==word[0] and word not in fünf and not enthaelt_zahl(word):\n",
        "        fünf.append(word.upper())\n",
        "\n",
        "#fünf = list(set(fünf))\n",
        "print(len(fünf))"
      ]
    },
    {
      "cell_type": "code",
      "source": [
        "def enthaelt_zahl(wort):\n",
        "    zahlen = [\"0\",\"1\",\"2\",\"3\",\"4\",\"5\",\"6\",\"7\",\"8\",\"9\"]\n",
        "    for buchstabe in wort:\n",
        "        if buchstabe in zahlen:\n",
        "            return True\n",
        "    return False"
      ],
      "metadata": {
        "id": "Z_AM1eJSfQDd"
      },
      "execution_count": null,
      "outputs": []
    },
    {
      "cell_type": "code",
      "source": [
        "from random import randint\n",
        "\n",
        "z = randint(0, len(fünf)-1)\n",
        "loesung = fünf[z]\n",
        "\n",
        "print(loesung)\n",
        "eingabe = input(\"Gib ein Wort mit fünf Buchstaben ein: \").upper()\n",
        "enthalten = \"\"\n",
        "for i in range(5):\n",
        "    buchstabe = eingabe[i]\n",
        "    if buchstabe==loesung[i]:\n",
        "        enthalten += \"\\x1b[32m\"+buchstabe\n",
        "    elif buchstabe in loesung:\n",
        "        enthalten += \"\\x1b[90m\"+buchstabe\n",
        "    else:\n",
        "        enthalten += \"\\x1b[31m\"+buchstabe\n",
        "    enthalten += \"\\x1b[30m\"\n",
        "print(enthalten)\n",
        "print(\"Hi\")"
      ],
      "metadata": {
        "colab": {
          "base_uri": "https://localhost:8080/"
        },
        "id": "bkj2V5hQgEkz",
        "outputId": "9be7b860-a781-4f5a-b049-500f8ac052ce"
      },
      "execution_count": null,
      "outputs": [
        {
          "output_type": "stream",
          "name": "stdout",
          "text": [
            "MATER\n",
            "Gib ein Wort mit fünf Buchstaben ein: Katze\n",
            "\u001b[31mK\u001b[30m\u001b[32mA\u001b[30m\u001b[32mT\u001b[30m\u001b[31mZ\u001b[30m\u001b[90mE\u001b[30m\n",
            "Hi\n"
          ]
        }
      ]
    },
    {
      "cell_type": "code",
      "source": [
        "print(\"\\x1b[34mHallo\")"
      ],
      "metadata": {
        "colab": {
          "base_uri": "https://localhost:8080/"
        },
        "id": "-tMZhusAkTfp",
        "outputId": "3e325bf0-ebcc-4082-b3be-83215f3705a1"
      },
      "execution_count": null,
      "outputs": [
        {
          "output_type": "stream",
          "name": "stdout",
          "text": [
            "\u001b[34mHallo\n"
          ]
        }
      ]
    }
  ]
}