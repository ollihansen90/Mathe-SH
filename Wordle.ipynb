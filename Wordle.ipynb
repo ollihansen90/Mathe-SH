{
  "nbformat": 4,
  "nbformat_minor": 0,
  "metadata": {
    "colab": {
      "provenance": [],
      "authorship_tag": "ABX9TyPaqbEJ4NCqpq7rNG6nrAQd",
      "include_colab_link": true
    },
    "kernelspec": {
      "name": "python3",
      "display_name": "Python 3"
    },
    "language_info": {
      "name": "python"
    }
  },
  "cells": [
    {
      "cell_type": "markdown",
      "metadata": {
        "id": "view-in-github",
        "colab_type": "text"
      },
      "source": [
        "<a href=\"https://colab.research.google.com/github/ollihansen90/Mathe-SH/blob/main/Wordle.ipynb\" target=\"_parent\"><img src=\"https://colab.research.google.com/assets/colab-badge.svg\" alt=\"Open In Colab\"/></a>"
      ]
    },
    {
      "cell_type": "code",
      "source": [
        "!wget -nc -q https://github.com/ollihansen90/Mathe-SH/raw/main/data/deutsch.txt\n",
        "import requests\n",
        "\n",
        "#words = requests.get(\"https://github.com/ollihansen90/Mathe-SH/raw/main/data/deutsch.txt\").split(\"\\n\")"
      ],
      "metadata": {
        "id": "lLtl7vzzeMpq"
      },
      "execution_count": 3,
      "outputs": []
    },
    {
      "cell_type": "code",
      "execution_count": 4,
      "metadata": {
        "id": "xF0yKrUTeJp_",
        "colab": {
          "base_uri": "https://localhost:8080/"
        },
        "outputId": "2288f3d1-a0f8-4b5d-97b9-201c166c2397"
      },
      "outputs": [
        {
          "output_type": "stream",
          "name": "stdout",
          "text": [
            "2534\n"
          ]
        }
      ],
      "source": [
        "with open(\"deutsch.txt\", \"r\") as file:\n",
        "    words = file.read().split(\"\\n\")\n",
        "#print(len(words))\n",
        "#print(type(words))\n",
        "\n",
        "def enthaelt_zahl(wort):\n",
        "    for i in range(10):\n",
        "        if str(i) in wort:\n",
        "            return True\n",
        "    return False\n",
        "\n",
        "fünf = [word.upper() for word in words if len(word) == 5 and word[0].upper()==word[0]]\n",
        "fünf = list(set(fünf))\n",
        "#print(fünf)\n",
        "\n",
        "fünf = []\n",
        "for word in words:\n",
        "    if len(word) == 5 and word[0].upper()==word[0] and word not in fünf and not enthaelt_zahl(word):\n",
        "        fünf.append(word.upper())\n",
        "\n",
        "#fünf = list(set(fünf))\n",
        "print(len(fünf))"
      ]
    },
    {
      "cell_type": "code",
      "source": [
        "def enthaelt_zahl(wort):\n",
        "    zahlen = [\"0\",\"1\",\"2\",\"3\",\"4\",\"5\",\"6\",\"7\",\"8\",\"9\"]\n",
        "    for buchstabe in wort:\n",
        "        if buchstabe in zahlen:\n",
        "            return True\n",
        "    return False"
      ],
      "metadata": {
        "id": "Z_AM1eJSfQDd"
      },
      "execution_count": null,
      "outputs": []
    },
    {
      "cell_type": "code",
      "source": [
        "from random import randint\n",
        "\n",
        "z = randint(0, len(fünf)-1)\n",
        "loesung = fünf[z]\n",
        "\n",
        "print(loesung)\n",
        "eingabe = input(\"Gib ein Wort mit fünf Buchstaben ein: \").upper()\n",
        "enthalten = \"\"\n",
        "for i in range(5):\n",
        "    buchstabe = eingabe[i]\n",
        "    if buchstabe==loesung[i]:\n",
        "        enthalten += \"\\x1b[32m\"+buchstabe\n",
        "    elif buchstabe in loesung:\n",
        "        enthalten += \"\\x1b[90m\"+buchstabe\n",
        "    else:\n",
        "        enthalten += \"\\x1b[31m\"+buchstabe\n",
        "    enthalten += \"\\x1b[30m\"\n",
        "print(enthalten)\n",
        "print(\"Hi\")"
      ],
      "metadata": {
        "colab": {
          "base_uri": "https://localhost:8080/"
        },
        "id": "bkj2V5hQgEkz",
        "outputId": "9be7b860-a781-4f5a-b049-500f8ac052ce"
      },
      "execution_count": null,
      "outputs": [
        {
          "output_type": "stream",
          "name": "stdout",
          "text": [
            "MATER\n",
            "Gib ein Wort mit fünf Buchstaben ein: Katze\n",
            "\u001b[31mK\u001b[30m\u001b[32mA\u001b[30m\u001b[32mT\u001b[30m\u001b[31mZ\u001b[30m\u001b[90mE\u001b[30m\n",
            "Hi\n"
          ]
        }
      ]
    },
    {
      "cell_type": "code",
      "source": [
        "print(\"\\x1b[34mHallo\")"
      ],
      "metadata": {
        "colab": {
          "base_uri": "https://localhost:8080/"
        },
        "id": "-tMZhusAkTfp",
        "outputId": "3e325bf0-ebcc-4082-b3be-83215f3705a1"
      },
      "execution_count": null,
      "outputs": [
        {
          "output_type": "stream",
          "name": "stdout",
          "text": [
            "\u001b[34mHallo\n"
          ]
        }
      ]
    }
  ]
}