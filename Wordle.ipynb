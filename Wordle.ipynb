{
  "nbformat": 4,
  "nbformat_minor": 0,
  "metadata": {
    "colab": {
      "provenance": [],
      "authorship_tag": "ABX9TyOLO2L/D/uUviWPyXF6BOdQ",
      "include_colab_link": true
    },
    "kernelspec": {
      "name": "python3",
      "display_name": "Python 3"
    },
    "language_info": {
      "name": "python"
    }
  },
  "cells": [
    {
      "cell_type": "markdown",
      "metadata": {
        "id": "view-in-github",
        "colab_type": "text"
      },
      "source": [
        "<a href=\"https://colab.research.google.com/github/ollihansen90/Mathe-SH/blob/main/Wordle.ipynb\" target=\"_parent\"><img src=\"https://colab.research.google.com/assets/colab-badge.svg\" alt=\"Open In Colab\"/></a>"
      ]
    },
    {
      "cell_type": "code",
      "source": [
        "!wget -nc -q https://github.com/ollihansen90/Mathe-SH/raw/main/data/deutsch.txt\n",
        "import requests\n",
        "\n",
        "r = requests.get(\"https://gist.githubusercontent.com/MarvinJWendt/2f4f4154b8ae218600eb091a5706b5f4/raw/36b70dd6be330aa61cd4d4cdfda6234dcb0b8784/wordlist-german.txt\")\n",
        "data = r.text.split(\"\\n\")\n",
        "print(len(data))\n",
        "\n",
        "#words = requests.get(\"https://github.com/ollihansen90/Mathe-SH/raw/main/data/deutsch.txt\").split(\"\\n\")"
      ],
      "metadata": {
        "id": "lLtl7vzzeMpq"
      },
      "execution_count": null,
      "outputs": []
    },
    {
      "cell_type": "code",
      "execution_count": null,
      "metadata": {
        "id": "xF0yKrUTeJp_"
      },
      "outputs": [],
      "source": [
        "with open(\"deutsch.txt\", \"r\") as file:\n",
        "    words = file.read().split(\"\\n\")\n",
        "words = data\n",
        "#print(len(words))\n",
        "#print(type(words))\n",
        "\n",
        "def enthaelt_zahl(wort):\n",
        "    for i in range(10):\n",
        "        if str(i) in wort:\n",
        "            return True\n",
        "    return False\n",
        "\n",
        "fünf = [word.upper() for word in words if len(word) == 5 and word[0].upper()==word[0]]\n",
        "fünf = list(set(fünf))\n",
        "#print(fünf)\n",
        "\n",
        "fünf = []\n",
        "for word in words:\n",
        "    word = word.replace(\"ö\", \"oe\").replace(\"ä\", \"ae\").replace(\"ü\", \"ue\").replace(\"ß\", \"ss\")\n",
        "    if len(word) == 5 and word[0].upper()==word[0] and word not in fünf and not enthaelt_zahl(word):\n",
        "        fünf.append(word.upper())\n",
        "\n",
        "#fünf = list(set(fünf))\n",
        "print(len(fünf))"
      ]
    },
    {
      "cell_type": "code",
      "source": [
        "def enthaelt_zahl(wort):\n",
        "    zahlen = [\"0\",\"1\",\"2\",\"3\",\"4\",\"5\",\"6\",\"7\",\"8\",\"9\"]\n",
        "    for buchstabe in wort:\n",
        "        if buchstabe in zahlen:\n",
        "            return True\n",
        "    return False"
      ],
      "metadata": {
        "id": "Z_AM1eJSfQDd"
      },
      "execution_count": null,
      "outputs": []
    },
    {
      "cell_type": "code",
      "source": [
        "from random import randint\n",
        "\n",
        "def run(schwer=False):\n",
        "    z = randint(0, len(fünf)-1)\n",
        "    loesung = fünf[z]\n",
        "    eingabe = \"\"\n",
        "    noch_offen = \"abcdefghijklmnopqrstuvwxyz\".upper()\n",
        "\n",
        "    #print(loesung)\n",
        "    while eingabe!=loesung:\n",
        "        eingabe = input(\"Gib ein Wort mit fünf Buchstaben ein: \").upper()\n",
        "\n",
        "        if (eingabe not in fünf) and schwer:\n",
        "            print(eingabe + \" ist nicht in der Wortliste enthalten.\")\n",
        "            continue\n",
        "\n",
        "        enthalten = \"\"\n",
        "        for i in range(5):\n",
        "            buchstabe = eingabe[i]\n",
        "            noch_offen = noch_offen.replace(buchstabe, \"\")\n",
        "            if buchstabe==loesung[i]:\n",
        "                enthalten += \"\\x1b[32m\"+buchstabe\n",
        "            elif buchstabe in loesung:\n",
        "                enthalten += \"\\x1b[90m\"+buchstabe\n",
        "            else:\n",
        "                enthalten += \"\\x1b[31m\"+buchstabe\n",
        "            enthalten += \"\\x1b[30m\"\n",
        "            #enthalten += \"\\x1b[37m\" # für dark mode\n",
        "\n",
        "        print(enthalten)\n",
        "        print(noch_offen)\n",
        "\n",
        "    print(\"Sehr gut, das korrekte Wort war \"+ loesung +\"!\")"
      ],
      "metadata": {
        "id": "bkj2V5hQgEkz"
      },
      "execution_count": null,
      "outputs": []
    },
    {
      "cell_type": "code",
      "source": [
        "run(schwer=True)"
      ],
      "metadata": {
        "id": "u3ou5E12n5Ik"
      },
      "execution_count": null,
      "outputs": []
    }
  ]
}