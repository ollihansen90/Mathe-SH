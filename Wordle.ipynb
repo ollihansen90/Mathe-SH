{
  "nbformat": 4,
  "nbformat_minor": 0,
  "metadata": {
    "colab": {
      "provenance": [],
      "authorship_tag": "ABX9TyPsfWkR79WAjiDe+adIytCE",
      "include_colab_link": true
    },
    "kernelspec": {
      "name": "python3",
      "display_name": "Python 3"
    },
    "language_info": {
      "name": "python"
    }
  },
  "cells": [
    {
      "cell_type": "markdown",
      "metadata": {
        "id": "view-in-github",
        "colab_type": "text"
      },
      "source": [
        "<a href=\"https://colab.research.google.com/github/ollihansen90/Mathe-SH/blob/main/Wordle.ipynb\" target=\"_parent\"><img src=\"https://colab.research.google.com/assets/colab-badge.svg\" alt=\"Open In Colab\"/></a>"
      ]
    },
    {
      "cell_type": "code",
      "source": [
        "!wget -nc -q https://github.com/ollihansen90/Mathe-SH/raw/main/data/deutsch.txt\n",
        "import requests\n",
        "\n",
        "r = requests.get(\"https://gist.githubusercontent.com/MarvinJWendt/2f4f4154b8ae218600eb091a5706b5f4/raw/36b70dd6be330aa61cd4d4cdfda6234dcb0b8784/wordlist-german.txt\")\n",
        "data = r.text.split(\"\\n\")\n",
        "print(len(data))\n",
        "\n",
        "#words = requests.get(\"https://github.com/ollihansen90/Mathe-SH/raw/main/data/deutsch.txt\").split(\"\\n\")"
      ],
      "metadata": {
        "id": "lLtl7vzzeMpq"
      },
      "execution_count": null,
      "outputs": []
    },
    {
      "cell_type": "code",
      "execution_count": null,
      "metadata": {
        "id": "xF0yKrUTeJp_"
      },
      "outputs": [],
      "source": [
        "with open(\"deutsch.txt\", \"r\") as file:\n",
        "    words = file.read().split(\"\\n\")\n",
        "words = data\n",
        "hinzufuegen = [\"regen\", \"runde\", \"ranke\", \"mauer\", \"linse\", \"linde\", \"lokal\",\n",
        "               \"essen\", \"liebe\", \"leben\", \"kante\", \"Wunde\", \"proll\", \"raute\",\n",
        "               \"fahrt\", \"licht\", \"stand\"]\n",
        "words.extend(hinzufuegen)\n",
        "beseitigen = [\"infos\", \"cadiz\", \"hedis\", \"nebra\", \"aaron\", \"aases\", \"aales\",\n",
        "              \"adorf\", \"gerti\", \"hirne\", \"doras\", \"leids\", \"halon\", \"tores\",\n",
        "              \"haars\", \"zinse\", \"selim\", \"mccoy\", \"ankes\", \"stvzo\", \"togos\",\n",
        "              \"blaek\", \"manch\", \"saeue\", \"wusch\", \"ennui\", \"peter\", \"neger\",\n",
        "              \"helot\", \"hamas\", \"malen\", \"varta\", \"janas\", \"summt\", \"klamm\",\n",
        "              \"elspe\", \"samts\", \"trump\", \"ORTEN\", \"ORTES\", \"ORTET\", \"RECTO\",\n",
        "              \"RODET\", \"ROSTE\", \"ROTEM\", \"ROTES\", \"STORE\", \"TOREN\", \"TROER\",\n",
        "              \"AALEN\", \"AHLEN\", \"ALAUN\", \"ALBAN\", \"ALBEN\", \"ALKAN\", \"ALLEN\",\n",
        "              \"ALMEN\", \"ALSEN\", \"ANALE\", \"ASLAN\", \"BANAL\", \"BLANK\", \"CELAN\",\n",
        "              \"CLANS\", \"CLEAN\", \"ELANS\", \"ELENA\", \"KLANS\", \"LABEN\", \"LANKA\",\n",
        "              \"LASEN\", \"LAUEN\", \"LAXEN\", \"LENAS\", \"LENAU\", \"LEUNA\", \"NASAL\",\n",
        "              \"AKTES\", \"AMTES\", \"AESTE\", \"AESTE\", \"ASTES\", \"ATEMS\", \"DATES\",\n",
        "              \"ECKST\", \"ETATS\", \"FASTE\", \"FESTE\", \"FESTS\", \"MESST\", \"SAFTE\",\n",
        "              \"SAEST\", \"SAETE\", \"SATTE\", \"SATZE\", \"SEKTS\", \"SETZE\", \"SETZT\",\n",
        "              \"SEXTA\", \"SEXTE\", \"SKATE\", \"SPAET\", \"STADE\", \"STECK\", \"STETE\",\n",
        "              \"STETS\", \"STEVE\", \"SVETA\", \"TAPES\", \"TAPSE\", \"TEAMS\", \"TESSA\",\n",
        "              \"TESTE\", \"TESTS\", \"TEXTS\", \"ISSUM\", \"JUNIS\", \"JURIS\", \"MUSIG\",\n",
        "              \"RUDIS\", \"RUINS\", \"SIRUP\", \"SUFIS\", \"SUSIS\", \"URINS\", \"VISUS\",\n",
        "              \"BGHST\", \"BMVBW\", \"DGZRS\", \"DSCHG\", \"DSLRS\", \"GGMBH\", \"GMBHS\",\n",
        "              \"KKSTB\", \"LYNCH\", \"LYNNS\", \"MYSQL\", \"SKYPT\", \"SPVGG\", \"STYLT\",\n",
        "              \"SYLTS\", \"TZBFG\", \"VWVFG\", \"XHTML\", \"LEROY\", \"LODRE\", \"LOIRE\",\n",
        "              \"LOREN\", \"LORES\", \"OLLER\", \"OLPER\", \"ORALE\", \"REALO\", \"RODEL\",\n",
        "              \"RODLE\", \"ARKUS\", \"BAKUS\", \"BUCKS\", \"BUKST\", \"FUNKS\", \"HULKS\",\n",
        "              \"JOKUS\", \"KANUS\", \"KAUFS\", \"KAUST\", \"KLAUS\", \"KLUBS\", \"KNUTS\",\n",
        "              \"KONUS\", \"KPDSU\", \"KRAUS\", \"KRUGS\", \"KRUSE\", \"KUBAS\", \"KUHNS\",\n",
        "              \"KULIS\", \"KULTS\", \"KUMYS\", \"KUNOS\", \"KURSK\", \"KURST\", \"KURTS\",\n",
        "              \"KUSCH\", \"KUSEL\", \"KUESS\", \"LUKAS\", \"LUKES\", \"ORKUS\", \"PUCKS\",\n",
        "              \"PULKS\", \"RUCKS\", \"SKUNK\", \"SOUKS\", \"SPUCK\", \"SPUKE\", \"SPUKS\",\n",
        "              \"SPUKT\", \"STUKA\", \"SULKY\", \"ULKST\", \"UNKST\", \"DIMMT\", \"IMPFT\",\n",
        "              \"MIEFT\", \"MIMTE\", \"MIXTE\", \"MUFTI\", \"MUTIG\", \"PIMPT\", \"REIMT\",\n",
        "              \"TEMPI\", \"TIMEX\", \"TIMMY\", \"TIMOR\", \"TIMUR\", \"TOMMI\", \"WOMIT\",\n",
        "              \"AMATI\", \"BIMST\", \"DAMIT\", \"FILMT\", \"INTIM\", \"ITEMS\", \"KEIMT\",\n",
        "              \"KLIMT\", \"LEIMT\", \"LIMIT\", \"MAILT\", \"MEINT\", \"MEIST\", \"MIAUT\",\n",
        "              \"MILET\", \"MISST\", \"MISTE\", \"MITAU\", \"MITRA\", \"MULTI\", \"NIMMT\",\n",
        "              \"SEMIT\", \"SMITH\", \"SOMIT\", \"TAMIL\", \"TIMEN\", \"TIMES\", \"TIMMS\",\n",
        "              \"ZIEMT\", \"ZIMTS\", \"DPOLG\", \"KLOPF\", \"LOIPE\", \"LOPEZ\", \"LUPOS\",\n",
        "              \"OLPES\", \"OPALE\", \"OPELS\", \"PABLO\", \"PAOLA\", \"PAOLO\", \"PAULO\",\n",
        "              \"PHLOX\", \"PIROL\", \"PLOTS\", \"POLDI\", \"POLIG\", \"POLIS\", \"POLLE\",\n",
        "              \"POLLY\", \"POLOS\", \"POLST\", \"POLTE\", \"POOLE\", \"POOLS\", \"POOLT\",\n",
        "              \"PROLO\"\n",
        "]\n",
        "beseitigen = [w.upper() for w in beseitigen]\n",
        "#print(len(words))\n",
        "#print(type(words))\n",
        "\n",
        "def enthaelt_zahl(wort):\n",
        "    for i in range(10):\n",
        "        if str(i) in wort:\n",
        "            return True\n",
        "    return False\n",
        "\n",
        "fünf = [word.upper() for word in words if len(word) == 5 and word[0].upper()==word[0]]\n",
        "fünf = list(set(fünf))\n",
        "#print(fünf)\n",
        "\n",
        "fünf = []\n",
        "for word in words:\n",
        "    word = word.replace(\"ß\", \"ss\").upper()\n",
        "    word = word.replace(\"Ö\", \"Oe\").replace(\"Ä\", \"Ae\").replace(\"Ü\", \"Ue\").replace(\"Å\", \"A\")\n",
        "    if len(word) == 5 \\\n",
        "            and word[0].upper()==word[0] \\\n",
        "            and word not in fünf \\\n",
        "            and not enthaelt_zahl(word) \\\n",
        "            and word not in beseitigen:\n",
        "        fünf.append(word.upper())\n",
        "\n",
        "#fünf = list(set(fünf))\n",
        "print(len(fünf))\n",
        "\n",
        "def enthaelt_zahl(wort):\n",
        "    zahlen = [\"0\",\"1\",\"2\",\"3\",\"4\",\"5\",\"6\",\"7\",\"8\",\"9\"]\n",
        "    for buchstabe in wort:\n",
        "        if buchstabe in zahlen:\n",
        "            return True\n",
        "    return False\n",
        "\n",
        "def check_buchstabe(enthalten, nicht=\"\"):\n",
        "    enthalten = list(enthalten.upper())\n",
        "    nicht = list(nicht.upper())\n",
        "    for wort in fünf:\n",
        "        hilfsvariable = True\n",
        "        for buchstabe in enthalten:\n",
        "            if buchstabe not in wort:\n",
        "                hilfsvariable = False\n",
        "\n",
        "        for buchstabe in nicht:\n",
        "            if buchstabe in wort:\n",
        "                hilfsvariable = False\n",
        "\n",
        "        if hilfsvariable:\n",
        "            print(wort)"
      ]
    },
    {
      "cell_type": "code",
      "source": [
        "from random import randint\n",
        "\n",
        "def run(schwer=False):\n",
        "    z = randint(0, len(fünf)-1)\n",
        "    loesung = fünf[z]\n",
        "    eingabe = \"\"\n",
        "    noch_offen = \"abcdefghijklmnopqrstuvwxyz\".upper()\n",
        "\n",
        "    #print(loesung)\n",
        "    while eingabe!=loesung:\n",
        "        eingabe = input(\"Gib ein Wort mit fünf Buchstaben ein: \").upper()\n",
        "\n",
        "        if (eingabe not in fünf) and schwer:\n",
        "            print(eingabe + \" ist nicht in der Wortliste enthalten.\")\n",
        "            continue\n",
        "\n",
        "        enthalten = \"\"\n",
        "        for i in range(5):\n",
        "            buchstabe = eingabe[i]\n",
        "            noch_offen = noch_offen.replace(buchstabe, \"\")\n",
        "            if buchstabe==loesung[i]:\n",
        "                enthalten += \"\\x1b[32m\"+buchstabe\n",
        "            elif buchstabe in loesung:\n",
        "                enthalten += \"\\x1b[90m\"+buchstabe\n",
        "            else:\n",
        "                enthalten += \"\\x1b[31m\"+buchstabe\n",
        "            enthalten += \"\\x1b[30m\"\n",
        "            #enthalten += \"\\x1b[37m\" # für dark mode\n",
        "\n",
        "        print(enthalten)\n",
        "        print(noch_offen)\n",
        "\n",
        "    print(\"Sehr gut, das korrekte Wort war \"+ loesung +\"!\")"
      ],
      "metadata": {
        "id": "AKHxibDk14nX"
      },
      "execution_count": null,
      "outputs": []
    },
    {
      "cell_type": "code",
      "source": [
        "check_buchstabe(\"kaw\", nicht=\"\")"
      ],
      "metadata": {
        "id": "zw8wYnDikglI"
      },
      "execution_count": null,
      "outputs": []
    },
    {
      "cell_type": "code",
      "source": [
        "run(schwer=True)"
      ],
      "metadata": {
        "id": "u3ou5E12n5Ik"
      },
      "execution_count": null,
      "outputs": []
    }
  ]
}