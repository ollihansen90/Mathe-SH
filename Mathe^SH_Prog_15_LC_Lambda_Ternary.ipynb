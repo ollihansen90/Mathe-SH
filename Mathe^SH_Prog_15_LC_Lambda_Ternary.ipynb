{
  "nbformat": 4,
  "nbformat_minor": 0,
  "metadata": {
    "colab": {
      "provenance": [],
      "collapsed_sections": [
        "E3J0ACyB5Zk5",
        "-8fWrwxo5dj_",
        "R4b5USK92Ge-",
        "yrPmxhQs3jP4",
        "7GGf2a2Q5AHp",
        "b7shWANGyhWL"
      ],
      "include_colab_link": true
    },
    "kernelspec": {
      "name": "python3",
      "display_name": "Python 3"
    },
    "language_info": {
      "name": "python"
    }
  },
  "cells": [
    {
      "cell_type": "markdown",
      "metadata": {
        "id": "view-in-github",
        "colab_type": "text"
      },
      "source": [
        "<a href=\"https://colab.research.google.com/github/ollihansen90/Mathe-SH/blob/main/Mathe%5ESH_Prog_15_LC_Lambda_Ternary.ipynb\" target=\"_parent\"><img src=\"https://colab.research.google.com/assets/colab-badge.svg\" alt=\"Open In Colab\"/></a>"
      ]
    },
    {
      "cell_type": "markdown",
      "source": [
        "# Mathe^SH Python-Kurs, Woche 15, Ternary-Operatoren, List-Comprehension und Lambda-Funktionen\n",
        "\n",
        "## Fragen?\n",
        "Solltet ihr Fragen zum Code oder Probleme mit Colab haben, schickt uns gerne eine Mail:\n",
        "\n",
        "*   hohansen@inb.uni-luebeck.de\n",
        "*   maren.wieder@student.uni-luebeck.de\n",
        "*   friederike.meissner@student.uni-luebeck.de\n",
        "*   dustin.haschke@student.uni-luebeck.de"
      ],
      "metadata": {
        "id": "xqn4jUtiMJYp"
      }
    },
    {
      "cell_type": "markdown",
      "source": [
        "## Kürzerer Code\n",
        "\n",
        "### Ternary Operator (kurzes if-else)\n",
        "\n",
        "Ihr alle kennt die typische Syntax von einem if-else-Statment, aber hier noch einmal kurz zur Erinnerung:\n",
        "\n",
        "\n",
        "\n",
        "> ```if condition:```\n",
        ">> ```value_if_true```\n",
        "\n",
        "> ```else:```\n",
        ">> ```value_if_false```\n",
        "\n",
        "Wir können das ganze auch kürzer ausdrücken mit Hilfe eines **Ternary-Operators**. Hierfür verwenden wir die folgende Syntax:\n",
        "\n",
        "\n",
        "> ```value_if_true if condition else value_if_false```\n"
      ],
      "metadata": {
        "id": "_-LJ2B7dU2Dq"
      }
    },
    {
      "cell_type": "code",
      "source": [
        "if 1==1:\n",
        "    test = \"Dieser Text wird in test gespeichert\"\n",
        "else:\n",
        "    test = \"Dieser Text wird nicht erreicht\"\n",
        "\n",
        "print(test)"
      ],
      "metadata": {
        "colab": {
          "base_uri": "https://localhost:8080/"
        },
        "id": "v7WE_xDuS0w3",
        "outputId": "1970fcaa-2ae4-4d28-a779-e0761f478146"
      },
      "execution_count": 1,
      "outputs": [
        {
          "output_type": "stream",
          "name": "stdout",
          "text": [
            "Dieser Text wird in test gespeichert\n"
          ]
        }
      ]
    },
    {
      "cell_type": "code",
      "source": [
        "test = \"Dieser Text wird in test gespeichert\" if 1==1 else \"Dieser Text wird nicht erreicht\"\n",
        "print(test)"
      ],
      "metadata": {
        "id": "ur_hlQ_WVP_s",
        "colab": {
          "base_uri": "https://localhost:8080/"
        },
        "outputId": "0daf9773-684e-4711-c676-6e005a18043d"
      },
      "execution_count": 5,
      "outputs": [
        {
          "output_type": "stream",
          "name": "stdout",
          "text": [
            "Dieser Text wird in test gespeichert\n"
          ]
        }
      ]
    },
    {
      "cell_type": "markdown",
      "source": [
        "Es gibt auch noch sogenanntes **Shorthand Ternary**, die Anwendung ist allerdings eingeschränkter.\n",
        "\n",
        "```True or \"Etwas\"``` würde ```True``` zurückgeben, wohingegen ```False or \"etwas\"``` ```\"etwas\"``` zurückgeben würde.\n",
        "\n",
        "Eine Beispielanwendung wäre zum Beispiel eine Überprüfung, ob eine Eingabe gegeben wurde."
      ],
      "metadata": {
        "id": "ZtLu41P03jTE"
      }
    },
    {
      "cell_type": "code",
      "source": [
        "output = None\n",
        "msg = output or \"No data returned\"\n",
        "print(msg)"
      ],
      "metadata": {
        "id": "4tpPw8xa3oIB",
        "colab": {
          "base_uri": "https://localhost:8080/"
        },
        "outputId": "1ae39418-6b1f-46d2-ec65-322dd5d0f7bd"
      },
      "execution_count": 6,
      "outputs": [
        {
          "output_type": "stream",
          "name": "stdout",
          "text": [
            "No data returned\n"
          ]
        }
      ]
    },
    {
      "cell_type": "markdown",
      "source": [
        "### for-Schleife in einer Zeile\n",
        "\n",
        "Auch for-Schleifen können kürzer ausgedrückt werden. \n",
        "\n",
        "Normale Syntax:\n",
        "\n",
        "> ```for element  in iterierbar:```\n",
        ">> ```for-Schleife Ausdruck```\n",
        "\n",
        "Kurze Syntax:\n",
        "\n",
        "> ```for element in iterierbar: for-Schleife Ausdruck```"
      ],
      "metadata": {
        "id": "waU2AGTJ3pBT"
      }
    },
    {
      "cell_type": "code",
      "source": [
        "for i in range(5):\n",
        "    print(i)\n",
        "    print(i+1)"
      ],
      "metadata": {
        "colab": {
          "base_uri": "https://localhost:8080/"
        },
        "id": "PUCzg8a3UZoG",
        "outputId": "8687d4fa-0ecb-4cb7-975b-76bb4e215354"
      },
      "execution_count": 8,
      "outputs": [
        {
          "output_type": "stream",
          "name": "stdout",
          "text": [
            "0\n",
            "1\n",
            "1\n",
            "2\n",
            "2\n",
            "3\n",
            "3\n",
            "4\n",
            "4\n",
            "5\n"
          ]
        }
      ]
    },
    {
      "cell_type": "code",
      "source": [
        "for i in range(5): print(i); print(i+1)"
      ],
      "metadata": {
        "colab": {
          "base_uri": "https://localhost:8080/"
        },
        "id": "vcMyjzyz31Nw",
        "outputId": "a54aba03-1991-48b9-f386-334cd762d9f9"
      },
      "execution_count": 9,
      "outputs": [
        {
          "output_type": "stream",
          "name": "stdout",
          "text": [
            "0\n",
            "1\n",
            "1\n",
            "2\n",
            "2\n",
            "3\n",
            "3\n",
            "4\n",
            "4\n",
            "5\n"
          ]
        }
      ]
    },
    {
      "cell_type": "markdown",
      "source": [
        "## List-Comprehension\n",
        "\n",
        "List-Comprehension hatten wir bereits in Woche 3 kurz angesprochen. Die Idee dabei ist, dass wir Listen durch kurze for-Schleifen in nur einer Zeile befüllen.\n",
        "\n",
        "#### Syntax\n",
        "```newlist = [expression for item in iterable]```\n",
        "\n",
        "Die Syntax für List-Comprehension ist auf den ersten Blick sehr ungewohnt und irritierend. Im einfachsten Fall haben wir ein iterierbares Objekt (hier: `iterable`, also eine Liste, ein Generator, ein Tupel,...), aus dem wir einzelne Elemente entnehmen (hier: `item`). Mit diesem Element passiert jetzt irgendetwas: `expression` ist irgendein \"Ausdruck\", das kann eine Rechenoperation, eine String-Operation, das Initialisieren von Klassen oder sonstwas sein!\n",
        "\n",
        "Im Beispiel unten wollen wir eine Liste `liste1` über den \"normalen\" Weg mit einer for-Schleife mit den ersten zehn Quadratzahlen füllen. Die Liste `liste2` soll die gleichen Elemente enthalten, nur nutzen wir jetzt List-Compehension.\n"
      ],
      "metadata": {
        "id": "BRcpcAOMVQlR"
      }
    },
    {
      "cell_type": "code",
      "source": [
        "liste1 = []\n",
        "for i in range(10):\n",
        "    liste1.append(i**2)\n",
        "print(liste1)\n",
        "\n",
        "liste2 = [i**2 for i in range(10)]\n",
        "print(liste2)"
      ],
      "metadata": {
        "id": "2US1_xAZVVhF",
        "colab": {
          "base_uri": "https://localhost:8080/"
        },
        "outputId": "77c55a1e-15b1-4940-c4bf-65f2197067bf"
      },
      "execution_count": 10,
      "outputs": [
        {
          "output_type": "stream",
          "name": "stdout",
          "text": [
            "[0, 1, 4, 9, 16, 25, 36, 49, 64, 81]\n",
            "[0, 1, 4, 9, 16, 25, 36, 49, 64, 81]\n"
          ]
        }
      ]
    },
    {
      "cell_type": "markdown",
      "source": [
        "### List-Comprehension mit einfacher Bedingung\n",
        "Manchmal möchte man eine Liste nur mit Objekten befüllen, die bestimmte Eigenschaften enthalten. Für diesen Fall nutzt man einfach eine if-Abfrage und lässt die Elemente aus, die die Bedingung nicht erfüllen.\n",
        "\n",
        "#### Syntax\n",
        "```newlist = [expression for item in iterable if condition==True]```\n",
        "\n",
        "Der Aufbau der List-Comprehension mit Bedingung ist ein wenig komplizierter, der Kern ist jedoch derselbe wie ohne Bedingung. Im nachfolgenden Beispiel möchten wir eine Liste `liste1` über den \"normalen\" Weg mit einer for-Schleife mit den ersten zehn Quadratzahlen füllen, die nicht durch 3 teilbar sind. Die Liste `liste2` soll die gleichen Elemente enthalten, nur nutzen wir jetzt List-Compehension."
      ],
      "metadata": {
        "id": "fc7USOhvq0vt"
      }
    },
    {
      "cell_type": "code",
      "source": [
        "liste1 = []\n",
        "for i in range(10):\n",
        "    if i%3!=0:\n",
        "        liste1.append(i**2)\n",
        "print(liste1)\n",
        "\n",
        "liste2 = [i**2 for i in range(10) if i%3!=0]\n",
        "print(liste2)"
      ],
      "metadata": {
        "colab": {
          "base_uri": "https://localhost:8080/"
        },
        "id": "0BXvRByeqwtX",
        "outputId": "37f79afe-2724-4313-e28f-8f6d44baf7b4"
      },
      "execution_count": 11,
      "outputs": [
        {
          "output_type": "stream",
          "name": "stdout",
          "text": [
            "[1, 4, 16, 25, 49, 64]\n",
            "[1, 4, 16, 25, 49, 64]\n"
          ]
        }
      ]
    },
    {
      "cell_type": "markdown",
      "source": [
        "### List-Comprehension mit einfacher Bedingung und `else`\n",
        "Abschließend möchten wir auch die Elemente verarbeiten, die *nicht* die Bedingung erfüllen.\n",
        "\n",
        "#### Syntax\n",
        "```newlist = [expression if condition==True else expression2 for item in iterable]```\n",
        "\n",
        "Hier müssen wir aufpassen! Wir würden erwarten, dass wir das `else expression2` einfach ans Ende setzen. Leider ist das bei Python nicht so intuitiv, da wir einen Fehler erhalten. \n",
        "\n",
        "Im nachfolgenden Beispiel möchten wir eine Liste `liste1` über den \"normalen\" Weg mit einer for-Schleife mit den ersten zehn Quadratzahlen füllen, die nicht durch 3 teilbar sind. Wenn die Quadratzahl *doch* durch 3 teilbar ist, soll die Zahl negativ auftreten. Die Liste `liste2` soll die gleichen Elemente enthalten, nur nutzen wir jetzt List-Compehension."
      ],
      "metadata": {
        "id": "3c8swfoPsNHw"
      }
    },
    {
      "cell_type": "code",
      "source": [
        "liste1 = []\n",
        "for i in range(10):\n",
        "    if i%3!=0:\n",
        "        liste1.append(i**2)\n",
        "    else:\n",
        "        liste1.append(-i**2)\n",
        "print(liste1)\n",
        "\n",
        "liste2 = [i**2 if (i%3!=0) else -i**2 for i in range(10)]\n",
        "print(liste2)"
      ],
      "metadata": {
        "colab": {
          "base_uri": "https://localhost:8080/"
        },
        "id": "YheYb1FTsVv2",
        "outputId": "c4de3762-7c3a-461e-c124-32d05bda9df3"
      },
      "execution_count": 14,
      "outputs": [
        {
          "output_type": "stream",
          "name": "stdout",
          "text": [
            "[0, 1, 4, -9, 16, 25, -36, 49, 64, -81]\n",
            "[0, 1, 4, -9, 16, 25, -36, 49, 64, -81]\n"
          ]
        }
      ]
    },
    {
      "cell_type": "markdown",
      "source": [
        "### Verschachtelte List-Comprehension\n",
        "Natürlich können wir auch eine Liste mit Listen befüllen, die wiederum über List-Comprehension befüllt wurden! Auch die Liste mit Listen können wir wieder in Listen auflisten, und diese Listen wiederum in Listen,... Kurz gesagt: Wir können beliebig \"tiefe\" Listen-Verschachtelungen erstellen, nur werden die irgendwann sehr kompliziert.\n",
        "\n",
        "Im Beispiel unten beschreiben wir eine Liste mit immer größer werdenden Listen."
      ],
      "metadata": {
        "id": "GuW9BWdPtbOM"
      }
    },
    {
      "cell_type": "code",
      "source": [
        "listenliste1 = []\n",
        "for j in range(10):\n",
        "    liste = []\n",
        "    for i in range(j):\n",
        "        liste.append(i)\n",
        "    listenliste1.append(liste)\n",
        "print(*listenliste1, sep=\"\\n\")  # Zur Übersichtlichkeit wurde die Liste mit * \n",
        "                                # \"entpackt\" und die Listen untereinander \n",
        "                                # geschrieben\n",
        "\n",
        "listenliste2 = [[i for i in range(j)] for j in range(10)]\n",
        "\n",
        "print(*listenliste2, sep=\"\\n\")  # Zur Übersichtlichkeit wurde die Liste mit * \n",
        "                                # \"entpackt\" und die Listen untereinander \n",
        "                                # geschrieben"
      ],
      "metadata": {
        "colab": {
          "base_uri": "https://localhost:8080/"
        },
        "id": "_8rx1cbnt5_i",
        "outputId": "4fa2258d-dd07-4c75-a815-e178d46de024"
      },
      "execution_count": 16,
      "outputs": [
        {
          "output_type": "stream",
          "name": "stdout",
          "text": [
            "[]\n",
            "[0]\n",
            "[0, 1]\n",
            "[0, 1, 2]\n",
            "[0, 1, 2, 3]\n",
            "[0, 1, 2, 3, 4]\n",
            "[0, 1, 2, 3, 4, 5]\n",
            "[0, 1, 2, 3, 4, 5, 6]\n",
            "[0, 1, 2, 3, 4, 5, 6, 7]\n",
            "[0, 1, 2, 3, 4, 5, 6, 7, 8]\n",
            "[]\n",
            "[0]\n",
            "[0, 1]\n",
            "[0, 1, 2]\n",
            "[0, 1, 2, 3]\n",
            "[0, 1, 2, 3, 4]\n",
            "[0, 1, 2, 3, 4, 5]\n",
            "[0, 1, 2, 3, 4, 5, 6]\n",
            "[0, 1, 2, 3, 4, 5, 6, 7]\n",
            "[0, 1, 2, 3, 4, 5, 6, 7, 8]\n"
          ]
        }
      ]
    },
    {
      "cell_type": "markdown",
      "source": [
        "## Lambda-Funktionen\n",
        "\n",
        "**Lambda-Funktionen** bzw. **anonyme Funktionen** ermöglichen die Definition von Funktionen ohne Namen, die zudem auf die Länge einer Codezeile beschränkt sind.\n",
        "\n",
        "Die allgemeine Syntax lautet\n",
        "\n",
        "> ```name = lambda argument: ausdruck```\n",
        "\n",
        "d.h. einer Variable wird der Rückgabewert der Lambda-Funktion zugewiesen. Dabei darf nur ein Ausdruck angegeben werden, die Anzahl der Argumente ist jedoch beliebig. Verwendet man mehrere, werden die Argumente einfach durch Kommata voneinander getrennt.\n",
        "\n",
        "Im Vergleich zu einer klassischen Python-Funktion mit der Syntax\n",
        "\n",
        "> ```def name(argument):```\n",
        ">> ``` return ausdruck```\n",
        "\n",
        "reduziert sich der Codeumfang also um immerhin eine Zeile.\n",
        "\n",
        "Möchten wir beispielsweise die Argumente ```x``` und ```y``` der Funktion ```f``` voneinander subtrahieren, sieht das wie folgt aus:"
      ],
      "metadata": {
        "id": "fLDUR5cIVV6c"
      }
    },
    {
      "cell_type": "code",
      "source": [
        "f = lambda x, y: x - y\n",
        "print(f(5,3))\n",
        "\n",
        "# \"alte\" Schreibweise:\n",
        "def f2(x, y):\n",
        "    return x-y\n",
        "print(f2(5,3))"
      ],
      "metadata": {
        "id": "I5d20jC2WCzI",
        "colab": {
          "base_uri": "https://localhost:8080/"
        },
        "outputId": "03b2e322-2d5d-42f2-bbab-d787a0d474d1"
      },
      "execution_count": 28,
      "outputs": [
        {
          "output_type": "stream",
          "name": "stdout",
          "text": [
            "2\n",
            "2\n",
            "<function f2 at 0x7efd430749e0>\n"
          ]
        }
      ]
    },
    {
      "cell_type": "markdown",
      "source": [
        "Der Aufruf erfolgt über den Namen der Variable, der die Lambda-Funktion zugewiesen wurde, gefolgt von runden Klammern, die die Argumente enthalten. Im Beispiel gilt $x=5$ und $y=3$, also wird $x-y = 5-3 = 2$ zurückgegeben."
      ],
      "metadata": {
        "id": "WFpPQYsD9cC2"
      }
    },
    {
      "cell_type": "markdown",
      "source": [
        "### Anwendung in den Funktionen map, filter, reduce\n",
        "Die Anonymität und Kompaktheit der Lambda-Funktionen macht man sich u.a. in den folgenden drei Funktionen zunutze:\n",
        "\n",
        "Die **map-Funktion** mit der Syntax \n",
        "\n",
        "> ```map(funktion, sequenz)``` \n",
        "\n",
        "wendet die übergebene Funktion auf alle Elemente der übergebenen Sequenz bzw. Liste an. Um das Ergebnis wieder als Liste zu erhalten, muss zusätzlich die ```list()```-Funktion genutzt werden.\n",
        "\n",
        "Im Beispiel wird die erste Lambda-Funktion wiederverwendet, um Elemente zweier Listen indexweise voneinander zu subtrahieren, d.h. das 1. Element der Liste ```subtrahend``` wird vom 1. Element der Liste ```minuend``` abgezogen usw."
      ],
      "metadata": {
        "id": "wm44IbotFVXx"
      }
    },
    {
      "cell_type": "code",
      "source": [
        "minuend = [9,8,7,6]\n",
        "subtrahend = [1,2,3,4]\n",
        "subtraktion = list(map(lambda x, y: x - y, minuend, subtrahend))\n",
        "print(subtraktion)"
      ],
      "metadata": {
        "colab": {
          "base_uri": "https://localhost:8080/"
        },
        "id": "s-oZJlYSGvI_",
        "outputId": "f20fc6a2-2de5-478b-e68f-bf3e6d1508c3"
      },
      "execution_count": null,
      "outputs": [
        {
          "output_type": "stream",
          "name": "stdout",
          "text": [
            "[8, 6, 4, 2]\n"
          ]
        }
      ]
    },
    {
      "cell_type": "markdown",
      "source": [
        "Wie der Name schon verrät, filtert die **filter-Funktion** mit der Syntax\n",
        "\n",
        "> ```filter(funktion, liste)```\n",
        "\n",
        "diejenigen Elemente der Liste heraus, für die die übergebene Funktion den Boolean ```True``` zurückgibt.\n",
        "\n",
        "Im Folgenden sehen wir uns die ersten 11 Fibonacci-Zahlen an. (Falls ihr diese noch nicht kennt oder ihre rekursive Bildungsvorschrift vergessen habt: Jede Zahl ergibt sich durch die zwei vorherigen, also $f_n = f_{n-1} + f_{n-2}$ für $n \\geq 3$ und $f_1 = f_2 = 1$.)\n",
        "\n",
        "Um alle geraden Zahlen herauszusuchen, erhält ```filter()``` die Lambda-Funktion ```lambda x: x % 2 == 0``` und die Fibonacci-Zahlen als Argumente. Für jedes Listenelement wird nun mithilfe des Modulo-Operators (%) geprüft, ob es bei der Division mit 2 den Rest 0 gibt; wenn ja, wird es in ```fibonacci_gerade``` gespeichert."
      ],
      "metadata": {
        "id": "PKIb1vksLFK6"
      }
    },
    {
      "cell_type": "code",
      "source": [
        "fibonacci = [0,1,1,2,3,5,8,13,21,34,55]\n",
        "fibonacci_gerade = list(filter(lambda x: x % 2 == 0, fibonacci))\n",
        "print(fibonacci_gerade)"
      ],
      "metadata": {
        "colab": {
          "base_uri": "https://localhost:8080/"
        },
        "id": "3Le0kPJCLFbT",
        "outputId": "ff352d2d-e726-45ff-cef2-b436a6f36dc2"
      },
      "execution_count": 30,
      "outputs": [
        {
          "output_type": "stream",
          "name": "stdout",
          "text": [
            "[0, 2, 8, 34]\n"
          ]
        }
      ]
    },
    {
      "cell_type": "markdown",
      "source": [
        "Ähnlich zur map-Funktion wendet die **reduce-Funktion** mit der Syntax\n",
        "\n",
        "> ```reduce(funktion, sequenz)```\n",
        "\n",
        "die übergebene Funktion kontinuierlich auf eine einzige Sequenz an, bis nur noch ein Rückgabewert übrig bleibt.\n",
        "\n",
        "In diesem Beispiel summiert man also zuerst die ersten beiden Elemente der Liste ```a```, d.h. $1+2=3$. Das Ergebnis entspricht dem neuen ersten Summanden, zu dem das dritte Element addiert wird, also $3+3=6$. Zuletzt bleibt noch $6+4=10$, die Rückgabe des ```reduce()```-Aufrufs. Durch Klammerung kann man den Ablauf als $(((1+2)+3)+4)=10$ beschreiben."
      ],
      "metadata": {
        "id": "4_TKbDF6Q_Wq"
      }
    },
    {
      "cell_type": "code",
      "source": [
        "from functools import reduce\n",
        "\n",
        "a = [1,2,3,4]\n",
        "reduktion = reduce(lambda x, y: x + y, a)\n",
        "print(reduktion)"
      ],
      "metadata": {
        "colab": {
          "base_uri": "https://localhost:8080/"
        },
        "id": "lhlQEEY-Q_5F",
        "outputId": "2bf8fd7c-133a-431d-94fe-794a85c17e49"
      },
      "execution_count": 31,
      "outputs": [
        {
          "output_type": "stream",
          "name": "stdout",
          "text": [
            "10\n"
          ]
        }
      ]
    },
    {
      "cell_type": "markdown",
      "source": [
        "## Aufgaben "
      ],
      "metadata": {
        "id": "8Oe3JjUgWDJZ"
      }
    },
    {
      "cell_type": "markdown",
      "source": [
        "### Kürzerer Code\n",
        "\n",
        "Es folgt der Code von dem \"Geschriebenen Zahlen\"-Projekt, welcher letzte Woche entwickelt wurde. Wie kurz könnt ihr diesen Code bekommen?\n",
        "\n",
        "Original-Code:"
      ],
      "metadata": {
        "id": "Zshp1hS7Uhbv"
      }
    },
    {
      "cell_type": "code",
      "source": [
        "einerliste = ['null', 'eins', 'zwei', 'drei', 'vier', 'fünf', 'sechs', 'sieben', 'acht', 'neun']\n",
        "zehnerliste = ['zehn', 'zwanzig', 'dreißig', 'vierzig', 'fünfzig', 'sechzig', 'siebzig', 'achtzig', 'neunzig', \"\"]\n",
        "grossezahlen = [\"\", \"tausend\", \"millionen\", \"milliarden\"]\n",
        "\n",
        "\n",
        "\n",
        "def hunderter(zahl):\n",
        "    if zahl==0:\n",
        "        return \"\"\n",
        "    zahlstring = str(zahl)\n",
        "    ausgabe = \"\"\n",
        "    if len(zahlstring)==3:\n",
        "        ausgabe += einerliste[int(zahlstring[0])] + \"hundert\"\n",
        "        ausgabe = ausgabe.replace(\"eins\", \"ein\")\n",
        "    ausgabe = ausgabe + einerliste[int(zahlstring[-1])]\n",
        "\n",
        "    if len(zahlstring)<2:\n",
        "        return ausgabe\n",
        "\n",
        "    if zahlstring[-1]==\"1\" and zahlstring[-2]!=\"0\": # \"einundzwanzig statt einSundzwanzig\"\n",
        "        ausgabe = ausgabe[:-1]\n",
        "    if zahl<20 and zahlstring[-1]==\"6\": # \"sechzehn statt sechSzehn\"\n",
        "        ausgabe = ausgabe[:-1]\n",
        "    if zahl<20 and zahlstring[-1]==\"7\": # \"siebzehn statt siebENzehn\"\n",
        "        ausgabe = ausgabe[:-2]\n",
        "    if zahl%100>20 and not zahlstring[-2]==\"0\": # \"vierUNDzwanzig statt vierzwanzig\"\n",
        "        ausgabe += \"und\"\n",
        "    if zahlstring[-1]==\"0\" and len(zahlstring)==2: # TODO: Fehlerquelle\n",
        "        ausgabe = \"\"\n",
        "    ausgabe = ausgabe + zehnerliste[int(zahlstring[-2])-1]\n",
        "    \n",
        "    if zahlstring[-2:]==\"00\":\n",
        "        ausgabe = ausgabe.replace(\"null\", \"\")\n",
        "    ausgabe = ausgabe.replace(\"nullund\", \"\")\n",
        "    ausgabe = ausgabe.replace(\"einzehn\", \"elf\")\n",
        "    ausgabe = ausgabe.replace(\"einundzehn\", \"elf\")\n",
        "    ausgabe = ausgabe.replace(\"zweizehn\", \"zwölf\")\n",
        "    ausgabe = ausgabe.replace(\"zweiundzehn\", \"zwölf\")\n",
        "    return ausgabe\n",
        "\n",
        "def ausschreiben(zahl):\n",
        "    zahlstring = str(zahl)\n",
        "    ausgabe = \"\"\n",
        "    pointer = 0\n",
        "    while len(zahlstring)>0:\n",
        "        uebergabe = zahlstring[-3:]\n",
        "        if int(uebergabe)>0:\n",
        "            h = hunderter(int(uebergabe))\n",
        "            if int(uebergabe)==1 and pointer>1:\n",
        "                h = h[:-1]+\"e\"\n",
        "                g = grossezahlen[pointer][:-2+(pointer%2)]\n",
        "            else:\n",
        "                g = grossezahlen[pointer]\n",
        "            ausgabe = h+g+ausgabe\n",
        "        zahlstring = zahlstring[:-3]\n",
        "        pointer += 1\n",
        "    return ausgabe.capitalize()\n",
        "\n",
        "print(ausschreiben(123456789))"
      ],
      "metadata": {
        "id": "yqmiY86OWFQQ",
        "colab": {
          "base_uri": "https://localhost:8080/"
        },
        "outputId": "1e78ce34-0579-4dc9-d907-035db1e5b644"
      },
      "execution_count": 50,
      "outputs": [
        {
          "output_type": "stream",
          "name": "stdout",
          "text": [
            "Einhundertdreiundzwanzigmillionenvierhundertsechsundfünfzigtausendsiebenhundertneunundachtzig\n"
          ]
        }
      ]
    },
    {
      "cell_type": "markdown",
      "source": [
        "Euer (kürzerer) Code:"
      ],
      "metadata": {
        "id": "LXwxJUO7WI9c"
      }
    },
    {
      "cell_type": "code",
      "source": [],
      "metadata": {
        "id": "1ZsX07HdWL1B"
      },
      "execution_count": null,
      "outputs": []
    },
    {
      "cell_type": "markdown",
      "source": [
        "### Lambda-Funktionen\n"
      ],
      "metadata": {
        "id": "EEBUjxDQYBqI"
      }
    },
    {
      "cell_type": "markdown",
      "source": [
        "#### Syntax\n",
        "\n",
        "Definiere eine Lambda-Funktion, die für die gegebenen Argumente $x$, $y$ und $n$ den Wert $(\\frac{x}{y}-1)^n$ zurückgibt."
      ],
      "metadata": {
        "id": "rmkfYjy8gWsm"
      }
    },
    {
      "cell_type": "code",
      "source": [],
      "metadata": {
        "id": "bGMJp9-jWwfv"
      },
      "execution_count": null,
      "outputs": []
    },
    {
      "cell_type": "markdown",
      "source": [
        "#### Lösung"
      ],
      "metadata": {
        "id": "E3J0ACyB5Zk5"
      }
    },
    {
      "cell_type": "code",
      "source": [
        "# Lösung\n",
        "f = lambda x, y, n: (x/y - 1)**n"
      ],
      "metadata": {
        "colab": {
          "base_uri": "https://localhost:8080/"
        },
        "id": "MaJjdnLBahWX",
        "outputId": "476819ab-d85d-4df7-999b-4e04c7b71bfe"
      },
      "execution_count": null,
      "outputs": [
        {
          "output_type": "execute_result",
          "data": {
            "text/plain": [
              "1.0"
            ]
          },
          "metadata": {},
          "execution_count": 40
        }
      ]
    },
    {
      "cell_type": "markdown",
      "source": [
        "#### Anwendung der Lambda-funktion\n",
        "Finde eine Möglichkeit, alle Fibonacci-Zahlen der folgenden Liste herauszusuchen."
      ],
      "metadata": {
        "id": "cSR-0hgUaTY3"
      }
    },
    {
      "cell_type": "code",
      "source": [
        "num = [-4, 13, 3, 55, 31, 5, 17, 1]\n",
        "\n"
      ],
      "metadata": {
        "id": "0aWauHXvb8rG"
      },
      "execution_count": null,
      "outputs": []
    },
    {
      "cell_type": "markdown",
      "source": [
        "#### Lösung"
      ],
      "metadata": {
        "id": "-8fWrwxo5dj_"
      }
    },
    {
      "cell_type": "code",
      "source": [
        "# Lösung\n",
        "num = [-4, 13, 3, 55, 31, 5, 17, 1]\n",
        "\n",
        "fib = [0,1,1,2,3,5,8,13,21,34,55]\n",
        "print(list(filter(lambda x: x in fib, num)))"
      ],
      "metadata": {
        "colab": {
          "base_uri": "https://localhost:8080/"
        },
        "id": "_rbR7usfeCCn",
        "outputId": "c14bf067-d6ed-4864-8c4c-0d1f4ae42763"
      },
      "execution_count": null,
      "outputs": [
        {
          "output_type": "stream",
          "name": "stdout",
          "text": [
            "[13, 3, 55, 5, 1]\n"
          ]
        }
      ]
    },
    {
      "cell_type": "markdown",
      "source": [
        "### List-Comprehension\n",
        "#### Teilaufgabe 1:\n",
        "Schreibe eine Lambda-Funktion `linspace`, die mit Hilfe von List-Comprehension Zahlen von -1 bis 1 im gleichen Abstand ausgibt.\n",
        "\n",
        "`linspace(5)` wäre beispielsweise `[-1, -0.6, -0.2, 0.2, 0.6, 1]`, enthält also 6 Zahlen."
      ],
      "metadata": {
        "id": "21ohpggT0Z5X"
      }
    },
    {
      "cell_type": "code",
      "source": [
        "# Hier kommt dein Code rein\n",
        "linspace = lambda n:\n",
        "base = linspace(5)\n",
        "print(base)"
      ],
      "metadata": {
        "id": "uBQtHt_p2MCq"
      },
      "execution_count": null,
      "outputs": []
    },
    {
      "cell_type": "markdown",
      "source": [
        "#### Lösung"
      ],
      "metadata": {
        "id": "R4b5USK92Ge-"
      }
    },
    {
      "cell_type": "code",
      "source": [
        "linspace = lambda n: [2*i/n-1 for i in range(n+1)]\n",
        "base = linspace(5)\n",
        "print(base)"
      ],
      "metadata": {
        "colab": {
          "base_uri": "https://localhost:8080/"
        },
        "id": "gqnRF94W00QW",
        "outputId": "de99b7fa-3b5f-48e4-d1f5-6410411d3d98"
      },
      "execution_count": 42,
      "outputs": [
        {
          "output_type": "stream",
          "name": "stdout",
          "text": [
            "[-1.0, -0.6, -0.19999999999999996, 0.19999999999999996, 0.6000000000000001, 1.0]\n"
          ]
        }
      ]
    },
    {
      "cell_type": "markdown",
      "source": [
        "#### Teilaufgabe 2\n",
        "Erstelle eine Liste mit Tupeln `(x,y)`, bei denen der `y`-Wert berechnet wird durch \n",
        "\n",
        "```y = 0.5*x+1```.\n",
        "\n",
        "Hinweis: Benutze als Iterator einfach eine Liste, die du eben mit `linspace` erstellt hast.\n"
      ],
      "metadata": {
        "id": "GqMBrb6g2UvW"
      }
    },
    {
      "cell_type": "code",
      "source": [
        "# Hier kommt dein Code rein\n",
        "base = linspace(100)\n",
        "\n",
        "linie = []\n",
        "\n",
        "# Hilfsgedöhns zum Anzeigen (hier brauchst du nichts zu ändern)\n",
        "import numpy as np\n",
        "import matplotlib.pyplot as plt\n",
        "l = np.array(linie)\n",
        "plt.figure()\n",
        "plt.scatter(l[:,0], l[:,1], c=\"b\", marker=\".\")\n",
        "plt.axis(\"equal\")\n",
        "plt.show()"
      ],
      "metadata": {
        "colab": {
          "base_uri": "https://localhost:8080/",
          "height": 265
        },
        "id": "b6fhr9yX2z7A",
        "outputId": "0e206fa2-e671-4bec-8210-d9830366fdd5"
      },
      "execution_count": 47,
      "outputs": [
        {
          "output_type": "display_data",
          "data": {
            "text/plain": [
              "<Figure size 432x288 with 1 Axes>"
            ],
            "image/png": "[encoded data removed]"
          },
          "metadata": {
            "needs_background": "light"
          }
        }
      ]
    },
    {
      "cell_type": "markdown",
      "source": [
        "#### Lösung"
      ],
      "metadata": {
        "id": "yrPmxhQs3jP4"
      }
    },
    {
      "cell_type": "code",
      "source": [
        "# Musterlösung\n",
        "base = linspace(100)\n",
        "\n",
        "linie = [(i, 0.5*i+1) for i in base]\n",
        "\n",
        "# Hilfsgedöhns zum Anzeigen (hier brauchst du nichts zu ändern)\n",
        "import numpy as np\n",
        "import matplotlib.pyplot as plt\n",
        "l = np.array(linie)\n",
        "plt.figure()\n",
        "plt.scatter(l[:,0], l[:,1], c=\"b\", marker=\".\")\n",
        "plt.axis(\"equal\")\n",
        "plt.show()"
      ],
      "metadata": {
        "id": "xnBWnrxh3aL1"
      },
      "execution_count": null,
      "outputs": []
    },
    {
      "cell_type": "markdown",
      "source": [
        "#### Teilaufgabe 3\n",
        "Die Liste `linie` aus Teilaufgabe 2 (führe zur Not die Musterlösung aus) enthält nun 101 Punkte. Teile die Liste in Punkte auf, die näher als 1 Längeneinheit und weiter als 1 Längeneinheit vom Ursprung entfernt sind. Die Punkte mit Abstand kleiner als 1 werden hinterher in Rot, die Punkte mit Abstand größer als 1 werden hinterher in Grün dargestellt.\n",
        "\n",
        "Hinweis: Der Abstand eines Punktes `(x,y)` zum Ursprung berechnet sich durch `sqrt(x**2+y**2)`, für den Abstand 1 kannst du die Wurzel `sqrt` aber weglassen."
      ],
      "metadata": {
        "id": "MH_gz9Eh3tZg"
      }
    },
    {
      "cell_type": "code",
      "source": [
        "# Hier kommt dein Code rein\n",
        "inner = []\n",
        "outer = []\n",
        "\n",
        "# Hilfsgedöhns zum Anzeigen (hier brauchst du nichts zu ändern)\n",
        "import numpy as np\n",
        "import matplotlib.pyplot as plt\n",
        "l1 = np.array(inner)\n",
        "l2 = np.array(outer)\n",
        "kreis = np.column_stack((np.cos(2*np.pi*np.array(base)), np.sin(2*np.pi*np.array(base))))\n",
        "plt.figure()\n",
        "plt.plot(kreis[:,0], kreis[:,1])\n",
        "plt.scatter(l1[:,0], l1[:,1], marker=\".\", c=\"r\")\n",
        "plt.scatter(l2[:,0], l2[:,1], marker=\".\", c=\"g\")\n",
        "plt.axis(\"equal\")\n",
        "plt.show()"
      ],
      "metadata": {
        "id": "t99aR2eS4wR5"
      },
      "execution_count": null,
      "outputs": []
    },
    {
      "cell_type": "markdown",
      "source": [
        "#### Lösung"
      ],
      "metadata": {
        "id": "7GGf2a2Q5AHp"
      }
    },
    {
      "cell_type": "code",
      "source": [
        "inner = [punkt for punkt in linie if punkt[0]**2+punkt[1]**2<1]\n",
        "outer = [punkt for punkt in linie if punkt[0]**2+punkt[1]**2>1]\n",
        "\n",
        "# Hilfsgedöhns zum Anzeigen (hier brauchst du nichts zu ändern)\n",
        "import numpy as np\n",
        "import matplotlib.pyplot as plt\n",
        "l1 = np.array(inner)\n",
        "l2 = np.array(outer)\n",
        "kreis = np.column_stack((np.cos(2*np.pi*np.array(base)), np.sin(2*np.pi*np.array(base))))\n",
        "plt.figure()\n",
        "plt.plot(kreis[:,0], kreis[:,1])\n",
        "plt.scatter(l1[:,0], l1[:,1], marker=\".\", c=\"r\")\n",
        "plt.scatter(l2[:,0], l2[:,1], marker=\".\", c=\"g\")\n",
        "plt.axis(\"equal\")\n",
        "plt.show()"
      ],
      "metadata": {
        "colab": {
          "base_uri": "https://localhost:8080/",
          "height": 265
        },
        "id": "q7QRh-4g3syb",
        "outputId": "5ab0ed6b-0a3b-4ecf-e044-a17826930238"
      },
      "execution_count": 48,
      "outputs": [
        {
          "output_type": "display_data",
          "data": {
            "text/plain": [
              "<Figure size 432x288 with 1 Axes>"
            ],
            "image/png": "[encoded data removed]"
          },
          "metadata": {
            "needs_background": "light"
          }
        }
      ]
    },
    {
      "cell_type": "markdown",
      "source": [
        "## Bonus: **Closures**\n",
        "\n",
        "Closures sind innere Funktion, die Zugriff auf die Variablen einer äußeren Funktion haben - selbst nachdem die äußere Funktion ausgeführt wurde.\n",
        "\n",
        "Der Vorteil von Closures ist, dass sie Methoden von Klassen ablösen können, die innere Funktion vor Zugriff verstecken können und übermäßige Verwendung von globalen Variablen vermeiden können.\n",
        "\n",
        "Closures sind i.d.R. wie folgt aufgebaut:\n",
        "\n",
        "`def outer_function:`\n",
        "\n",
        "> `#`\n",
        "\n",
        "> `def inner_function:`\n",
        "\n",
        "> >`#`\n",
        "\n",
        ">`return inner_function`\n",
        "\n",
        "\n",
        "\n",
        "Hier zwei Beispiele für Closures:"
      ],
      "metadata": {
        "id": "0lohb2T0Wwxb"
      }
    },
    {
      "cell_type": "code",
      "source": [
        "def outer_function(wert):\n",
        "    wert += 5\n",
        "    def inner_function(potenz):\n",
        "        mehrwert = wert**potenz\n",
        "        print(wert, \"ist viel wert, aber\", mehrwert, \"ist mehr wert!\")\n",
        "    return inner_function\n",
        "\n",
        "closure = outer_function(1)\n",
        "closure(2)\n",
        "closure(3)\n",
        "\n",
        "print(type(closure))      # Hier sieht man nochmal, dass wir eine Funktion als Variable verwenden,..\n",
        "print(closure.__name__)   # ... und dass diese Funktion die innere Funktion ist, die aber Zugriff auf die äußeren Variablen hat."
      ],
      "metadata": {
        "id": "fu1-uJj_W0CT",
        "colab": {
          "base_uri": "https://localhost:8080/"
        },
        "outputId": "32726981-cf46-494f-887c-a4d27c46fdca"
      },
      "execution_count": 51,
      "outputs": [
        {
          "output_type": "stream",
          "name": "stdout",
          "text": [
            "6 ist viel wert, aber 36 ist mehr wert!\n",
            "6 ist viel wert, aber 216 ist mehr wert!\n",
            "<class 'function'>\n",
            "inner_function\n"
          ]
        }
      ]
    },
    {
      "cell_type": "code",
      "source": [
        "def konto(name,wert): \n",
        "    def zinsen(zinsen):\n",
        "        if name != \"Olli\":\n",
        "            neuer_wert = wert*(zinsen+1)\n",
        "            print(name, \"- ihr neuer Kontostand beträgt:\", neuer_wert)\n",
        "        else:\n",
        "            print(name, \"- ihr Konto wurde leider gepfändet!\")\n",
        "    return zinsen\n",
        "\n",
        "konto1 = konto(\"Peter\", 90)\n",
        "konto2 = konto(\"Hannah\", 140)\n",
        "konto3 = konto(\"Olli\", 105)\n",
        "\n",
        "konto1(0.05)\n",
        "konto2(0.10)\n",
        "konto3(0.07)\n",
        "\n",
        "del konto\n",
        "#konto4 = konto(\"a\",1) würde nicht mehr funktioniert, aber konto3 funktioniert immer noch!\n",
        "konto3(0.07)"
      ],
      "metadata": {
        "colab": {
          "base_uri": "https://localhost:8080/"
        },
        "id": "KN-A3__6rxj9",
        "outputId": "1fea14b6-299a-4609-a37e-33b6231b3332"
      },
      "execution_count": null,
      "outputs": [
        {
          "output_type": "stream",
          "name": "stdout",
          "text": [
            "Peter - ihr neuer Kontostand beträgt: 94.5\n",
            "Hannah - ihr neuer Kontostand beträgt: 154.0\n",
            "Olli - ihr Konto wurde leider gepfändet!\n",
            "Olli - ihr Konto wurde leider gepfändet!\n"
          ]
        }
      ]
    },
    {
      "cell_type": "markdown",
      "source": [
        "### **Bonusaufgabe Closures:**\n",
        "\n",
        "Schreibe eine Closure-Funktion namens ***gang***, die **gangname** und **kasse** in die äußere Funktion übergeben bekommt. Die innere Funktion **mitglied** bekommt **name** und einen **mitgliedsbeitrag** übergeben.\n",
        "\n",
        "\n",
        "Die **kasse** in der inneren Funktion soll nicht nur lokal gelten. Füge also eine Zeile nur mit `nonlocal kasse` in die innere Funktion ein, damit der Geltungsbereich der inneren Funktion erweitert wird.\n",
        "\n",
        "Wird nun die innere Funktion ***mitglied*** aufgerufen, so soll sich die Kasse um den Mitgliedsbeitrag erhöhen und eine Meldung über den Einzahler, seinen Mitgliedsbeitrag und den neuen Kassenstand ausgegeben werden.Falls die Person allerdings sogar \"Wunschname\" heißt, so soll die Ausgabe sie mit \"Unsere Anführerin\" o.Ä. ansprechen.\n",
        "Denke abschließend daran, dass eine Closure-Funktion die innere Funktion zurückliefert.\n",
        "\n",
        "Erstelle nun eine Gang mit deinem Wunschnamen und einem Kassenbetrag.Füge 3 Mitglieder hinzu - darunter ein Anführer.\n",
        "\n"
      ],
      "metadata": {
        "id": "doQxeQ69sGed"
      }
    },
    {
      "cell_type": "code",
      "source": [
        "#Hier könnte dein Code stehen (-:"
      ],
      "metadata": {
        "id": "FbBg8DEIyw5k"
      },
      "execution_count": null,
      "outputs": []
    },
    {
      "cell_type": "markdown",
      "source": [
        "####Musterlösung"
      ],
      "metadata": {
        "id": "b7shWANGyhWL"
      }
    },
    {
      "cell_type": "code",
      "source": [
        "def gang(gangname,kasse):\n",
        "    def mitglied(name,mitgliedsbeitrag):\n",
        "        nonlocal kasse\n",
        "        kasse += mitgliedsbeitrag\n",
        "        if name != \"Katharina\":\n",
        "            print(name, \"hat\", mitgliedsbeitrag, \"in\", gangname, \"Kasse eingezahlt.\")\n",
        "        else:\n",
        "            print(\"Unsere Anführerin \", name, \"hat\", mitgliedsbeitrag, \"eingezahlt.\")\n",
        "            print(\"Der neue Kassenstand lautet:\",kasse)\n",
        "    return mitglied\n",
        "\n",
        "new_member = gang(\"Cindi-Cats\",100)\n",
        "new_member(\"Tom\",5)\n",
        "new_member(\"Jessi\",5)\n",
        "new_member(\"Katharina\",2)"
      ],
      "metadata": {
        "colab": {
          "base_uri": "https://localhost:8080/"
        },
        "id": "ysDqFQi_t4PI",
        "outputId": "795062e1-e9f3-490d-f476-866295d9b268"
      },
      "execution_count": null,
      "outputs": [
        {
          "output_type": "stream",
          "name": "stdout",
          "text": [
            "Tom hat 5 in Cindi-Cats Kasse eingezahlt.\n",
            "Der neue Kassenstand lautet: 105\n",
            "Jessi hat 5 in Cindi-Cats Kasse eingezahlt.\n",
            "Der neue Kassenstand lautet: 110\n",
            "Unsere Anführerin  Katharina hat 2 eingezahlt.\n",
            "Der neue Kassenstand lautet: 112\n"
          ]
        }
      ]
    }
  ]
}