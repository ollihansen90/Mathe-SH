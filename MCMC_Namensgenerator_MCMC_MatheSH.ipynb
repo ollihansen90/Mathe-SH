{
  "nbformat": 4,
  "nbformat_minor": 0,
  "metadata": {
    "colab": {
      "provenance": [],
      "include_colab_link": true
    },
    "kernelspec": {
      "name": "python3",
      "display_name": "Python 3"
    },
    "language_info": {
      "name": "python"
    }
  },
  "cells": [
    {
      "cell_type": "markdown",
      "metadata": {
        "id": "view-in-github",
        "colab_type": "text"
      },
      "source": [
        "<a href=\"https://colab.research.google.com/github/ollihansen90/Mathe-SH/blob/main/MCMC_Namensgenerator_MCMC_MatheSH.ipynb\" target=\"_parent\"><img src=\"https://colab.research.google.com/assets/colab-badge.svg\" alt=\"Open In Colab\"/></a>"
      ]
    },
    {
      "cell_type": "markdown",
      "source": [
        "# Markov-Ketten-Namensgenerator 🎲\n",
        "In diesem kurzen Projekt möchten wir gerne einen Generator für Namen programmieren. Der Generator soll hinterher Namen ausgeben, die syntaktisch korrekt sind. Mögliche Ergebnisse könnten so aussehen:\n",
        "- Emma Boot\n",
        "- Mr. Malfred Eye Maria Stra\n",
        "- Sirius Pokeby\n",
        "- Albus Worth-Grangellux Bloxam\n",
        "- Lord Woody Bryce\n",
        "- Sir Marjorkissan Youdley\n",
        "\n",
        "## 🤔 Fragen? 🤔\n",
        "Solltet ihr Fragen zum Code oder Probleme mit Colab haben, schickt uns gerne eine Mail:\n",
        "- h.hansen@uni-luebeck.de\n",
        "- friederike.meissner@student.uni-luebeck.de\n",
        "- dustin.haschke@student.uni-luebeck.de\n",
        "- mika.kohlhammer@student.uni-luebeck.de"
      ],
      "metadata": {
        "id": "sb_ZSc-yTqRK"
      }
    },
    {
      "cell_type": "markdown",
      "source": [
        "## Syntaktisch sinnvolle Namen ☕\n",
        "Was sind zunächst syntaktisch sinnvolle Namen? \"Syntax\" bezeichnet die Kombination von Zeichen in zusammengesetzten Systemen. Für Namen sind die Zeichen offensichtlich Buchstaben. Ein sehr einfaches Beispiel für die Syntax in der Deutschen Sprache ist der Buchstabe \"c\". In den meisten Fällen steht er nur vor einen \"h\"  oder \"k\", jedoch beispielsweise niemals vor einem zweiten \"c\" (von Eigennamen wie \"Capuccino\" mal abgesehen).\n",
        "\n",
        "Anders sieht es im Italienischen aus: Auf ein \"c\" kann ein \"c\" (Capu**cc**ino), ein \"i\" (Cu**ci**na, \"Küche\"), ein \"h\" (Zuc**ch**ini), ein \"q\" (Acqua, \"Wasser\"), und weitere Buchstaben folgen! Deutsch und Italienisch sind syntaktisch also offensichtlich verschieden.\n",
        "\n",
        "Mit diesem Umstand könnte man jetzt relativ einen einfachen Klassifikator programmieren, der Deutsche und Italienische Texte unterscheiden kann, indem man auf das \"c\" achtet. Das soll hier heute aber nicht gemacht werden (vielleicht ein späteres Projekt).\n",
        "\n",
        "## Namenssyntax über Statistik bestimmen 📊\n",
        "Wie können wir jetzt die Syntax von Namen bestimmen? Ganz einfach: Wir nehmen uns einen Haufen Namen und sehen uns einfach an, welche Buchstaben auf welche anderen Buchstaben folgen können! Hierfür haben wir zwei Datensätze gefunden, in denen die Namen (fast) aller Figuren aus Harry Potter enthalten sind. Im folgenden Codeblock werden sie heruntergeladen und in die Variable `data` gespeichert.\n",
        "\n",
        "### Aufgabe:\n",
        "Erweitere den Codeblock so, dass in einer neuen Variable `DATA` die Namen in Großbuchstaben stehen.\n",
        "\n",
        "*Hinweis:* Einen String kann man umwandeln, indem man einfach die `upper`-Methode aufruft: `name.upper()` wandelt alle Buchstaben in Großbuchstaben um.\n",
        "\n"
      ],
      "metadata": {
        "id": "xwyxsQKQUq_A"
      }
    },
    {
      "cell_type": "code",
      "execution_count": null,
      "metadata": {
        "id": "HM2xfu1OTUjy"
      },
      "outputs": [],
      "source": [
        "!wget -qnc https://raw.githubusercontent.com/ollihansen90/Mathe-SH/refs/heads/main/data/harrypotternames.txt\n",
        "\n",
        "with open(\"harrypotternames.txt\", \"r\") as file:\n",
        "    data = [line.strip().replace(\"Mr \", \"Mr. \").replace(\"Mrs \", \"Mrs. \").replace('\"', '') for line in file.readlines()]\n",
        "\n",
        "print(len(data))\n",
        "\n"
      ]
    },
    {
      "cell_type": "markdown",
      "source": [
        "## Liste aller möglichen Buchstaben im Datensatz 🗂️\n",
        "Im ersten Schritt möchten wir gerne herausfinden, welche Buchstaben in unserem Datensatz enthalten sind.\n",
        "\n",
        "### Aufgabe:\n",
        "Schreibe eine Funktion `initialisiere`, die die Daten `DATA` erhält und ein Dictionary zurückgibt, dessen Keys die einzelnen Buchstaben enthalten. Zusätzlich soll es einen Start-Token `<` und einen End-Token `>` geben, sodass jeder Name folgendermaßen aussehen würde: `<HARRY POTTER>`.\n",
        "\n",
        "Die zugehörigen Values des Dictionarys sollen jeweils die Liste der möglichen Nachfolger sein.\n",
        "\n",
        "Beispiel: `model[\"J\"]` ist die Liste `['S', 'Y', '.', 'I', 'U', 'O', 'A', 'E']\n",
        "`, das heißt, auf ein \"J\" können nur \"I\", \"A\", \"O\", und so weiter folgen."
      ],
      "metadata": {
        "id": "U4FsvMwyY9vE"
      }
    },
    {
      "cell_type": "code",
      "source": [
        "def initialisiere(data):\n",
        "    out = dict()\n",
        "\n",
        "    return out\n",
        "\n",
        "model = initialisiere(DATA)\n",
        "print(model[\"<\"])"
      ],
      "metadata": {
        "id": "SFPU07gYcdZx"
      },
      "execution_count": null,
      "outputs": []
    },
    {
      "cell_type": "markdown",
      "source": [
        "## Namen generieren mit Monte-Carlo-Verfahren 🎲\n",
        "Jetzt sind wir tatsächlich schon fast fertig! Wir wissen bereits, dass auf ein \"J\" nur Wörter aus der Liste `['S', 'Y', '.', 'I', 'U', 'O', 'A', 'E']` folgen können. Der Name \"JUERGEN\" wäre hier also möglich, ein unsinniger Name wie \"JGNCRSN\" allerdings nicht.\n",
        "\n",
        "Im Folgenden möchten wir eine Funktion `generiere_namen` schreiben, die unser Modell `model` erhält und einen syntaktisch sinnvollen Namen ausgibt. Hierfür soll einfach mit dem Start-Token `<` begonnen und zufällig einer der möglichen Nachfolger gezogen werden. Der End-Token `>` soll die Funktion enden lassen.\n",
        "\n",
        "Diesen Algorithmus nennt man \"Markov-Chain-Monte-Carlo-Verfahren\". Was wir hier haben, ist eine sogenannte Markov-Kette (engl. Markov-Chain). Bei einer Markov-Kette handelt es sich einfach um eine Aneinanderhängung zufälliger Zustände mit bedingten Wahrscheinlichkeiten (also quasi: Wie groß ist die Wahrscheinlichkeit, ein \"C\" zu ziehen, wenn der vorherige Buchstabe ein \"S\" war?). Mit Hilfe des Monte-Carlo-Verfahrens durchlaufen wir den sogenannten \"Phasenraum\" des Modells. Das bedeutet einfach, dass wir einen zufälligen Schritt von einem Zustand (also von einem Buchstaben) zum nächsten (Buchstaben) machen. So generieren wir zufällige Namen.\n",
        "\n",
        "### Aufgabe:\n",
        "Implementiere die oben genannte Funktion. Generiere anschließend 10 zufällige Namen."
      ],
      "metadata": {
        "id": "MKrqrWOmejw6"
      }
    },
    {
      "cell_type": "code",
      "source": [
        "import random\n",
        "random.seed(1)\n",
        "\n",
        "def generiere_namen(model):\n",
        "    name = \"<\"\n",
        "\n",
        "    return name.replace(\"<\", \"\").replace(\">\", \"\")\n",
        "\n",
        "for _ in range(10):\n",
        "    print(generiere_namen(model))"
      ],
      "metadata": {
        "id": "A3D_6lLOfZwG"
      },
      "execution_count": null,
      "outputs": []
    },
    {
      "cell_type": "markdown",
      "source": [
        "## Algorithmus verbessern 💪\n",
        "Offensichtlich kommt immernoch völliger Blödsinn raus. Die Syntax ist jetzt zwar die gleiche wir bei den \"echten\" Namen, allerdings klingen die Namen noch sehr befremdlich.\n",
        "\n",
        "Eine mögliche Lösung wäre, dass wir uns nochmal genauer die bedingten Wahrscheinlichkeiten ansehen. Aktuell wählen wir einen zufälligen Nachfolgebuchstaben für einen beliebigen Vorgänger, allerdings sind die Nachfolger nicht gleichverteilt! Auf ein \"J\" folgen offenbar zwar sowohl ein \"O\" und ein \"Y\", das \"O\" ist allerdings sehr viel häufiger. Das möchten wir jetzt anpassen.\n",
        "\n",
        "### Aufgabe:\n",
        "Erweitere die Funktion `initialisiere` so, dass die Ausgabe zwar noch weiterhin ein Dictionary ist, jetzt die Values aber *ebenfalls* Dictionarys sind. In den Dictionarys stehen jetzt die absoluten Häufigkeiten der Nachfolgebuchstaben für einen beliebigen Buchstaben.\n",
        "\n",
        "Beispiel: `model[\"J\"]` ist `{'I': 4, 'A': 5, 'O': 15, '.': 2, 'Y': 2, 'U': 3, 'E': 3, 'S': 1}`, das heißt beispielsweise, dass in unserem Datensatz 15 mal ein \"O\" auf ein \"J\" folgte."
      ],
      "metadata": {
        "id": "Ddd-rXqZh07E"
      }
    },
    {
      "cell_type": "code",
      "source": [
        "def initialisiere(data):\n",
        "    out = dict()\n",
        "\n",
        "    return out\n",
        "\n",
        "model = initialisiere(DATA)\n",
        "print(model[\"J\"])"
      ],
      "metadata": {
        "id": "LgDu4KziiH5l"
      },
      "execution_count": null,
      "outputs": []
    },
    {
      "cell_type": "markdown",
      "source": [
        "## Neuer angepasster Generator 🤖\n",
        "Der alte Generator würde jetzt weiterhin Unsinn produzieren, weil er die bedingten Wahrscheinlichkeiten (die für Markov-Ketten so entscheidend sind) nicht beachtet. Genau das wollen wir jetzt ändern.\n",
        "\n",
        "### Aufgabe:\n",
        "Schreibe eine Funktion `ziehe`, die ein Dictionary erhält und der bedingten Wahrscheinlichkeit folgend einen zufälligen Buchstaben zieht. Erweitere anschließend `generiere_namen` um die `ziehe`-Funktion. Generiere anschließend wieder 10 zufällige Namen.\n",
        "\n",
        "*Hinweis:* Das mit den bedingten Wahrscheinlichkeiten ist zunächst keine leichte Aufgabe. Am einfachsten ist es, zunächst die (bedingte) Summe aller Buchstaben zu berechnen und anschließend eine Zufallszahl `z` zwischen 0 und der Summe zu ziehen. Anschließend durchläuft man schrittweise die Einträge des Dictionarys und zieht jeweils die absolute Häufigkeit von der Zufallszahl `z` ab, bis wir einen Wert kleiner als 0 erhalten. Der Buchstabe, für den wir die 0 unterschritten haben, wird dann ausgegeben."
      ],
      "metadata": {
        "id": "dNLgLTy0kg3L"
      }
    },
    {
      "cell_type": "code",
      "source": [
        "def ziehe(dictionary):\n",
        "    pass\n",
        "\n",
        "def generiere_namen(model):\n",
        "    name = \"<\"\n",
        "\n",
        "    return name.replace(\"<\", \"\").replace(\">\", \"\")\n",
        "\n",
        "random.seed(10)\n",
        "for _ in range(10):\n",
        "    print(generiere_namen(model))"
      ],
      "metadata": {
        "id": "tNo3tiCHkZFG"
      },
      "execution_count": null,
      "outputs": []
    },
    {
      "cell_type": "markdown",
      "source": [
        "## Besseres Modell durch n-Grams 🔤 🔗\n",
        "Die Ergebnisse sehen ein klitzekleines bisschen besser aus, sind aber leider immernoch völliger Unfug. Offensichtlich ist es nicht ausreichend, einen Buchstaben nur durch seinen Vorgänger zu generieren. Hier sollen n-Grams helfen.\n",
        "\n",
        "Ein n-Gram ist ein Modell, bei dem der `n+1`-ste von den vorherigen `n` Buchstaben vorhergesagt wird. Ein 3-Gram (häufig auch Tri-Gram) generiert also einen Buchstaben basierend auf seinen drei Vorgängern.\n",
        "\n",
        "### Aufgabe:\n",
        "Erweitere die Funktion `initialisiere` um einen weiteren Übergabeparameter `tokenlaenge`, mit dem wir festlegen können, wie viele Buchstaben benötigt werden, um den Nachfolgebuchstaben zu generieren.\n",
        "\n",
        "*Hinweis:* Der Start-Token ist jetzt nicht mehr einfach nur `<`, sondern muss auf die Tokenlänge erweitert werden. Ein Name wird für ein Tri-Gram also folgendermaßen kodiert: `<<<HARRY POTTER>`.\n"
      ],
      "metadata": {
        "id": "6QHjBhvPmXrn"
      }
    },
    {
      "cell_type": "code",
      "source": [
        "def initialisiere(data, tokenlaenge=1):\n",
        "    out = dict()\n",
        "\n",
        "    return out\n",
        "\n",
        "model = initialisiere(DATA, tokenlaenge=3)"
      ],
      "metadata": {
        "id": "oyNIM-fLn4vo"
      },
      "execution_count": null,
      "outputs": []
    },
    {
      "cell_type": "markdown",
      "source": [
        "## Namen generieren ✍️\n",
        "Das soll es schon gewesen sein! Jetzt möchten wir unser Modell testen.\n",
        "\n",
        "### Aufgabe:\n",
        "Erweitere die Funktion `generiere_namen` so, dass sie mit variabler Tokenlänge umgehen kann. Generiere 10 Namen mit Tokenlänge 2, 3, 4, 5,... Was fällt auf?"
      ],
      "metadata": {
        "id": "N8tU1rYsog0O"
      }
    },
    {
      "cell_type": "code",
      "source": [
        "def generiere_namen(model, start=\"\"):\n",
        "    name = \"<\"\n",
        "\n",
        "    return name.replace(\"<\", \"\").replace(\">\", \"\")\n",
        "\n",
        "model = initialisiere(DATA, tokenlaenge=3)\n",
        "random.seed(0)\n",
        "for _ in range(10):\n",
        "    print(generiere_namen(model, start=\"\"))"
      ],
      "metadata": {
        "id": "G6JXC-GWrCb1"
      },
      "execution_count": null,
      "outputs": []
    }
  ]
}