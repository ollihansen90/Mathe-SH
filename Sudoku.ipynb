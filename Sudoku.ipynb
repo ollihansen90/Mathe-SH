{
  "nbformat": 4,
  "nbformat_minor": 0,
  "metadata": {
    "colab": {
      "provenance": [],
      "authorship_tag": "ABX9TyODHEMkOmp7IYJuEllnViSU",
      "include_colab_link": true
    },
    "kernelspec": {
      "name": "python3",
      "display_name": "Python 3"
    },
    "language_info": {
      "name": "python"
    }
  },
  "cells": [
    {
      "cell_type": "markdown",
      "metadata": {
        "id": "view-in-github",
        "colab_type": "text"
      },
      "source": [
        "<a href=\"https://colab.research.google.com/github/ollihansen90/Mathe-SH/blob/main/Sudoku.ipynb\" target=\"_parent\"><img src=\"https://colab.research.google.com/assets/colab-badge.svg\" alt=\"Open In Colab\"/></a>"
      ]
    },
    {
      "cell_type": "markdown",
      "source": [
        "## Fragen?\n",
        "Solltet ihr Fragen zum Code oder Probleme mit Colab haben, schickt uns gerne eine Mail:\n",
        "\n",
        "*   h.hansen@uni-luebeck.de\n",
        "*   friederike.meissner@student.uni-luebeck.de\n",
        "*   dustin.haschke@student.uni-luebeck.de\n",
        "\n",
        "# Sudoku\n",
        "\n",
        "**Von ChatGPT:** \"Sudoku ist ein Zahlenrätsel, bei dem ein 9x9-Gitter in neun 3x3-Untergrids unterteilt ist. Das Ziel ist es, alle Felder so zu füllen, dass in jeder Zeile, jeder Spalte und jedem Untergrid jede Zahl von 1 bis 9 genau einmal vorkommt. Das Rätsel beginnt mit einigen vorgegebenen Zahlen, und Sie müssen die leeren Felder ausfüllen, indem Sie logische Schlussfolgerungen und Eliminierungen verwenden. Es erfordert keine mathematischen Berechnungen, sondern hauptsächlich logisches Denken und Geduld.\"\n",
        "\n",
        "Diese Zusammenfassung von ChatGPT ist schon ziemlich gut! ChatGPT liefert uns hier keinen Python-Code zum Erstellen und Lösen von Sudokus, aber genau das wollen wir in diesem Notebook machen.\n",
        "\n",
        "Dieses Notebook ist in Unteraufgaben aufgeteilt, mit denen wir schrittweise zunächst ein gelöstes Sudoku einlesen und darstellen, um darauf aufbauend ein ungelöstes Sudoku zu erstellen. Der Algorithmus sollte in der Lage sein, Tausende unterschiedliche Sudokus zu erstellen! Im Anschluss soll ein weiterer Algorithmus entwickelt werden, der das soeben erstellte Sudoku (sowie \"wilde\" Sudokus, wie wir sie in Zeitungen finden) lösen kann.\n",
        "\n",
        "**Achtung:** Es gibt viele verschiedene Varianten von Sudoku! Wir wollen hier nur die klassische Variante behandeln, wie ChatGPT sie oben beschrieben hat.\n",
        "\n",
        "*Hinweis:* Dieses Notebook wird im Laufe der nächsten Woche schrittweise aufgebaut und wird entsprechend aktualisiert. Mit anderen Worten: Wenn das Notebook unvollständig wirkt, ist das genau so gewollt."
      ],
      "metadata": {
        "id": "KGv4a-ikkIPK"
      }
    },
    {
      "cell_type": "markdown",
      "source": [
        "## Aufgabe 1: \"Gelöstes\" Sudoku einlesen (leicht)\n",
        "Im folgenden Codeblock wird ein gelöstes Sudoku vorgegeben. Es handelt sich dabei um einen String mit neun Spalten, in denen jeweils neun Zahlen stehen.\n",
        "\n",
        "Schreibe eine Funktion `sudoku2list()`, die aus dem String mit neun Spalten eine Liste mit neun Strings erstellt! In jedem Listeneintrag soll hinterher also eine Zeile des vorherigen Strings stehen. Die Funktion erhält also ein beliebiges Sudoku als String (hier wäre das `sudoku_string`) und wandelt es in eine Liste von Zeilen um.\n",
        "\n",
        "*Hinweis:* Mit der `split()`-Funktion kannst du Strings auftrennen! Der Zeilenumbruch ist der Character `\\n`."
      ],
      "metadata": {
        "id": "99UZTVqxkWs9"
      }
    },
    {
      "cell_type": "code",
      "source": [
        "sudoku_string = \"\"\"534678912\n",
        "672195348\n",
        "198342567\n",
        "859761423\n",
        "426853791\n",
        "713924856\n",
        "961537284\n",
        "287419635\n",
        "345286179\"\"\"\n",
        "\n",
        "def sudoku2list(text):\n",
        "    return text\n",
        "sudoku = sudoku2list(sudoku_string)\n"
      ],
      "metadata": {
        "id": "x4l50f67kof9"
      },
      "execution_count": null,
      "outputs": []
    },
    {
      "cell_type": "markdown",
      "source": [
        "### Aufgabe 2: Sudoku plotten (mittelschwer bis schwer)\n",
        "Nun soll das Sudoku ausgegeben werden können! Überlege dir ein sinnvolles Design, wie das Sudoku auf der Konsole aussehen könnte. Im Optimalfall kann man sogar die 3x3-Blöcke erkennen:\n",
        "\n",
        "```\n",
        "+---+---+---+---+---+---+---+---+---+\n",
        "| 5   3   4 | 6   7   8 | 9   1   2 |\n",
        "+   +   +   +   +   +   +   +   +   +\n",
        "| 6   7   2 | 1   9   5 | 3   4   8 |\n",
        "+   +   +   +   +   +   +   +   +   +\n",
        "| 1   9   8 | 3   4   2 | 5   6   7 |\n",
        "+---+---+---+---+---+---+---+---+---+\n",
        "| 8   5   9 | 7   6   1 | 4   2   3 |\n",
        "+   +   +   +   +   +   +   +   +   +\n",
        "| 4   2   6 | 8   5   3 | 7   9   1 |\n",
        "+   +   +   +   +   +   +   +   +   +\n",
        "| 7   1   3 | 9   2   4 | 8   5   6 |\n",
        "+---+---+---+---+---+---+---+---+---+\n",
        "| 9   6   1 | 5   3   7 | 2   8   4 |\n",
        "+   +   +   +   +   +   +   +   +   +\n",
        "| 2   8   7 | 4   1   9 | 6   3   5 |\n",
        "+   +   +   +   +   +   +   +   +   +\n",
        "| 3   4   5 | 2   8   6 | 1   7   9 |\n",
        "+---+---+---+---+---+---+---+---+---+\n",
        "```\n",
        "\n",
        "Schreibe eine Funktion `plotte()`, die die Liste von Zeilen erhält und das Sudoku auf der Konsole ausgibt."
      ],
      "metadata": {
        "id": "2UYpfXIXlbJB"
      }
    },
    {
      "cell_type": "code",
      "source": [
        "def plotte(sudoku):\n",
        "    # Das hier ist nur ein Beispiel\n",
        "    for zeile in sudoku:\n",
        "        z = \"\"\n",
        "        for zeichen in zeile:\n",
        "            z = z+zeichen+\"|\"\n",
        "        print(z)\n",
        "        print(9*\"-+\")\n",
        "\n",
        "plotte(sudoku)"
      ],
      "metadata": {
        "colab": {
          "base_uri": "https://localhost:8080/"
        },
        "id": "UhP1sOL6mpL-",
        "outputId": "d78d6eef-b19a-4b22-b71b-110240ea27a1"
      },
      "execution_count": null,
      "outputs": [
        {
          "output_type": "stream",
          "name": "stdout",
          "text": [
            "5|3|4|6|7|8|9|1|2|\n",
            "-+-+-+-+-+-+-+-+-+\n",
            "6|7|2|1|9|5|3|4|8|\n",
            "-+-+-+-+-+-+-+-+-+\n",
            "1|9|8|3|4|2|5|6|7|\n",
            "-+-+-+-+-+-+-+-+-+\n",
            "8|5|9|7|6|1|4|2|3|\n",
            "-+-+-+-+-+-+-+-+-+\n",
            "4|2|6|8|5|3|7|9|1|\n",
            "-+-+-+-+-+-+-+-+-+\n",
            "7|1|3|9|2|4|8|5|6|\n",
            "-+-+-+-+-+-+-+-+-+\n",
            "9|6|1|5|3|7|2|8|4|\n",
            "-+-+-+-+-+-+-+-+-+\n",
            "2|8|7|4|1|9|6|3|5|\n",
            "-+-+-+-+-+-+-+-+-+\n",
            "3|4|5|2|8|6|1|7|9|\n",
            "-+-+-+-+-+-+-+-+-+\n"
          ]
        }
      ]
    },
    {
      "cell_type": "markdown",
      "source": [
        "### Aufgabe 3: Zufällige Einträge löschen (mittelschwer)\n",
        "Nachdem wir nun ein gelöstes Sudoku eingelesen und geplottet haben, soll nun ein Algorithmus entwickelt werden, der zufällige Einträge des Sudokus löscht, damit wir sie selbst errätseln können!\n",
        "\n",
        "Schreibe eine Funktion `loesche_werte`, die das Sudoku in Form einer Liste von Zeilen, sowie die Anzahl der zu löschenden Werte erhält. Überlege dir genau, wie wir sicherstellen können, dass wir keine Werte \"doppelt löschen\".\n",
        "\n",
        "*Hinweis:* Mit dem Package `random` kannst du Zufallszahlen generieren!"
      ],
      "metadata": {
        "id": "HNDQymI1qNTY"
      }
    },
    {
      "cell_type": "code",
      "source": [
        "import random\n",
        "\n",
        "def loesche_werte(sudoku, n=40):\n",
        "    return sudoku\n",
        "\n",
        "plotte(loesche_werte(sudoku))"
      ],
      "metadata": {
        "colab": {
          "base_uri": "https://localhost:8080/"
        },
        "id": "tqWpjM2vrT0h",
        "outputId": "61b8a28f-46c6-4dd8-ee93-ccd13f940404"
      },
      "execution_count": null,
      "outputs": [
        {
          "output_type": "stream",
          "name": "stdout",
          "text": [
            "5|3|4|6|7|8|9|1|2|\n",
            "-+-+-+-+-+-+-+-+-+\n",
            "6|7|2|1|9|5|3|4|8|\n",
            "-+-+-+-+-+-+-+-+-+\n",
            "1|9|8|3|4|2|5|6|7|\n",
            "-+-+-+-+-+-+-+-+-+\n",
            "8|5|9|7|6|1|4|2|3|\n",
            "-+-+-+-+-+-+-+-+-+\n",
            "4|2|6|8|5|3|7|9|1|\n",
            "-+-+-+-+-+-+-+-+-+\n",
            "7|1|3|9|2|4|8|5|6|\n",
            "-+-+-+-+-+-+-+-+-+\n",
            "9|6|1|5|3|7|2|8|4|\n",
            "-+-+-+-+-+-+-+-+-+\n",
            "2|8|7|4|1|9|6|3|5|\n",
            "-+-+-+-+-+-+-+-+-+\n",
            "3|4|5|2|8|6|1|7|9|\n",
            "-+-+-+-+-+-+-+-+-+\n"
          ]
        }
      ]
    },
    {
      "cell_type": "markdown",
      "source": [
        "### Aufgabe 4: Zahlen tauschen (mittelschwer bis schwer)\n",
        "Wenn du Aufgabe 3 lösen konntest, haben wir jetzt einen Generator für Sudokus entwickelt! Jedes der Sudokus ist lösbar (das heißt, es gibt eine Lösung, sie muss allerdings nicht eindeutig sein), sodass wir jetzt ein Buch mit Sudokus erstellen könnten.\n",
        "\n",
        "Leider sind die Sudokus immer alle gleich... Wir stellen schnell fest, dass oben links immer eine 5 steht, unten rechts ist immer eine 9 und so weiter. Sobald wir das Sudoku ein mal gelöst haben, haben wir also direkt eine Lösung für unser ganzes Rätselbuch.\n",
        "\n",
        "Dieses Problem können wir umgehen, indem wir einfach zufällige Einträge tauschen! Wir tauschen beispielsweise alle Einsen mit Fünfen und alle Siebenen mit Zweien. Schon haben wir einen Sudoku-Generator, der (auf den ersten Blick) tausende Sudokus produzieren kann!\n",
        "\n",
        "Schreibe eine Funktion `tausche_werte`, der ein Sudoku als Liste von Zeilen erhält und dieses dann zufällig durchtauscht. Achte dabei dringend darauf, dass immer **alle** Einsen mit Neuen getauscht werden (zum Beispiel).\n",
        "\n",
        "*Hinweis:* Die Funktion `replace()` kann in einem String zwei Zeichen tauschen. Auch hier solltest du wieder mit dem `random`-Package arbeiten."
      ],
      "metadata": {
        "id": "NGrS4mJtr_NI"
      }
    },
    {
      "cell_type": "code",
      "source": [
        "def tausche_werte(sudoku):\n",
        "    return sudoku\n",
        "\n",
        "plotte(tausche_werte(sudoku))"
      ],
      "metadata": {
        "colab": {
          "base_uri": "https://localhost:8080/"
        },
        "id": "gw-laSCgtpEx",
        "outputId": "3e97f6eb-6575-4621-b170-6d94c8f30b4e"
      },
      "execution_count": null,
      "outputs": [
        {
          "output_type": "stream",
          "name": "stdout",
          "text": [
            "5|3|4|6|7|8|9|1|2|\n",
            "-+-+-+-+-+-+-+-+-+\n",
            "6|7|2|1|9|5|3|4|8|\n",
            "-+-+-+-+-+-+-+-+-+\n",
            "1|9|8|3|4|2|5|6|7|\n",
            "-+-+-+-+-+-+-+-+-+\n",
            "8|5|9|7|6|1|4|2|3|\n",
            "-+-+-+-+-+-+-+-+-+\n",
            "4|2|6|8|5|3|7|9|1|\n",
            "-+-+-+-+-+-+-+-+-+\n",
            "7|1|3|9|2|4|8|5|6|\n",
            "-+-+-+-+-+-+-+-+-+\n",
            "9|6|1|5|3|7|2|8|4|\n",
            "-+-+-+-+-+-+-+-+-+\n",
            "2|8|7|4|1|9|6|3|5|\n",
            "-+-+-+-+-+-+-+-+-+\n",
            "3|4|5|2|8|6|1|7|9|\n",
            "-+-+-+-+-+-+-+-+-+\n"
          ]
        }
      ]
    }
  ]
}