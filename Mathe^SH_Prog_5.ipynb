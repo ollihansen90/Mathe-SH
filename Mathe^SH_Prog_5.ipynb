{
  "nbformat": 4,
  "nbformat_minor": 0,
  "metadata": {
    "colab": {
      "name": "Mathe^SH_Prog_5.ipynb",
      "provenance": [],
      "collapsed_sections": [],
      "include_colab_link": true
    },
    "kernelspec": {
      "display_name": "Python 3",
      "name": "python3"
    },
    "language_info": {
      "name": "python"
    }
  },
  "cells": [
    {
      "cell_type": "markdown",
      "metadata": {
        "id": "view-in-github",
        "colab_type": "text"
      },
      "source": [
        "<a href=\"https://colab.research.google.com/github/ollihansen90/Mathe-SH/blob/main/Mathe%5ESH_Prog_5.ipynb\" target=\"_parent\"><img src=\"https://colab.research.google.com/assets/colab-badge.svg\" alt=\"Open In Colab\"/></a>"
      ]
    },
    {
      "cell_type": "markdown",
      "metadata": {
        "id": "cgq0ON5768UB"
      },
      "source": [
        "# Mathe^SH Python-Kurs, Woche 5"
      ]
    },
    {
      "cell_type": "markdown",
      "metadata": {
        "id": "NMjKvuYev9lY"
      },
      "source": [
        "# Fragen?\n",
        "Solltet ihr Fragen zum Code oder Probleme mit Colab haben, schickt uns gerne eine Mail:\n",
        "\n",
        "*   hohansen@inb.uni-luebeck.de\n",
        "*   maren.wieder@student.uni-luebeck.de\n",
        "*   friederike.meissner@student.uni-luebeck.de\n",
        "*   dustin.haschke@student.uni-luebeck.de"
      ]
    },
    {
      "cell_type": "markdown",
      "metadata": {
        "id": "QF-g7vWHkThY"
      },
      "source": [
        "# Recap - Strings"
      ]
    },
    {
      "cell_type": "code",
      "metadata": {
        "colab": {
          "base_uri": "https://localhost:8080/"
        },
        "id": "ZHQnbvcNBQKF",
        "outputId": "2d1a045e-5201-4be5-995e-d58243647eb6"
      },
      "source": [
        "# Wir erzeugen einen String, also eine Zeichenkette bzw. Liste aus Buchstaben, mit einer kurzen Papageien-Info.\n",
        "text = \"Der Hyazinth-Ara (Anodorhynchus hyacinthinus) ist ein Papagei aus der Gattung der Blauaras.\"\n",
        "\n",
        "# Zuerst interessiert uns die Länge und das vorletzte Zeichen dieses Strings.\n",
        "print(len(text))\n",
        "print(text[-1])\n",
        "\n",
        "# Jetzt wollen wir nur den lateinischen Namen als neue Zeichenkette speichern, ohne ihn abschreiben zu müssen.\n",
        "# Dafür suchen wir mithilfe von string.index(element) die Positionen der runden Klammmern.\n",
        "beginn = text.index('(')\n",
        "ende = text.index(')')\n",
        "\n",
        "# Durch Slicen ordnen wir die gesuchten Zeichen dem neuen String zu.\n",
        "# Dabei muss beachtet werden, dass der Character des Stop-Werts nicht erreicht wird!\n",
        "name_latein = text[beginn+1:ende]\n",
        "print(name_latein)\n",
        "\n",
        "# Sortieren wir den lateinische Begriff alphabetisch, erhalten wir eine Liste.\n",
        "print(sorted(name_latein))\n",
        "\n",
        "# Zuletzt möchten wir zwei (bzw. inkl. des Punkts drei) Strings kombinieren.\n",
        "einleitung = \"Der lateinische Name des Hyazinth-Aras lautet \"\n",
        "print(einleitung + name_latein + \".\")"
      ],
      "execution_count": null,
      "outputs": [
        {
          "output_type": "stream",
          "name": "stdout",
          "text": [
            "91\n",
            ".\n",
            "Anodorhynchus hyacinthinus\n",
            "[' ', 'A', 'a', 'c', 'c', 'd', 'h', 'h', 'h', 'h', 'i', 'i', 'n', 'n', 'n', 'n', 'o', 'o', 'r', 's', 's', 't', 'u', 'u', 'y', 'y']\n",
            "Der lateinische Name des Hyazinth-Aras lautet Anodorhynchus hyacinthinus.\n"
          ]
        }
      ]
    },
    {
      "cell_type": "markdown",
      "metadata": {
        "id": "0nI04wboBg3E"
      },
      "source": [
        "# Replace & Find Operatoren"
      ]
    },
    {
      "cell_type": "markdown",
      "metadata": {
        "id": "VCI-5ISzYOsf"
      },
      "source": [
        "Der ```replace```-Befehl sucht eine Zeichenkette und ersetzt sie durch eine neue.\n",
        "\n",
        "Haben wir als einen String ```string``` angelegt und wollen einen Teil davon, nämlich ```alt``` durch einen neuen Teil namens ```neu``` ersetzen, so können wir das wie folgt machen:\n",
        "\n",
        "```string```.replace(```\"alt\"```, ```\"neu\"```)\n",
        "\n",
        "Beispiel:"
      ]
    },
    {
      "cell_type": "code",
      "metadata": {
        "colab": {
          "base_uri": "https://localhost:8080/"
        },
        "id": "2kQZ0rhuY9ms",
        "outputId": "9e8057eb-664c-421a-9727-e58865f84923"
      },
      "source": [
        "string = \"Der Text ist alt.\"\n",
        "string = string.replace(\"alt\",\"neu\")\n",
        "print(string)"
      ],
      "execution_count": null,
      "outputs": [
        {
          "output_type": "stream",
          "name": "stdout",
          "text": [
            "Der Text ist neuneuneuneu.\n"
          ]
        }
      ]
    },
    {
      "cell_type": "markdown",
      "metadata": {
        "id": "bCed5fhKC2ds"
      },
      "source": [
        "Nachfolgend haben wir einen Satz als String angelegt.\n",
        "\n",
        "Dieser soll nun durch den ```replace```-Befehl modifiziert & ausgegeben werden.\n",
        "\n",
        "```replace``` beachtet Groß- & Kleinschreibung und kann auch etwas durch leere Strings ersetzen, also Abschnitte quasi löschen."
      ]
    },
    {
      "cell_type": "code",
      "metadata": {
        "colab": {
          "base_uri": "https://localhost:8080/"
        },
        "id": "yNSPNNJyBfnN",
        "outputId": "e5521446-66a5-4dac-91bf-a3cec9a92703"
      },
      "source": [
        "text = \"Der Fall des Balles erzeugt Pfoten.\"  #Der angelegte String\n",
        "print(text)\n",
        "text = text.replace(\"B\", \"H\") #'B' wird durch 'H' ersetzt\n",
        "print(text)\n",
        "text = text.replace (\"F\", \"Kn\")    # 'F' wird durch 'Kn' ersetzt\n",
        "print(text)                        #'f' in 'Pfoten' wird aber nicht ersetzt, da nur große 'F' ersetzt werden\n",
        "\n",
        "text = text.replace(\"des Halles \", \"\")  #auch leere Strings können eingesetzt werden.   \n",
        "print(text)                     # dadurch werden Wörter quasi aus dem String gelöscht"
      ],
      "execution_count": null,
      "outputs": [
        {
          "output_type": "stream",
          "name": "stdout",
          "text": [
            "Der Fall des Balles erzeugt Pfoten.\n",
            "Der Fall des Halles erzeugt Pfoten.\n",
            "Der Knall des Halles erzeugt Pfoten.\n",
            "Der Knall erzeugt Pfoten.\n"
          ]
        }
      ]
    },
    {
      "cell_type": "markdown",
      "metadata": {
        "id": "XPVnaxmlD15L"
      },
      "source": [
        "Durch die zusätzliche Eingabe einer Zahl im ```replace```-Befehl nach dem Muster:\n",
        "\n",
        "string = string.replace(\"alt\",\"neu\",```zahl```)\n",
        "\n",
        "Werden nur die ersten ```zahl``` Stellen im String entsprechend ersetzt"
      ]
    },
    {
      "cell_type": "code",
      "metadata": {
        "colab": {
          "base_uri": "https://localhost:8080/"
        },
        "id": "-8wJyyxvDw-2",
        "outputId": "e23c369c-6ab9-40e9-f045-e33c57064390"
      },
      "source": [
        "text = \"Der Knall des Halles erzeugt Pfoten.\"\n",
        "neuer_text = text.replace(\"e\", \"X\",2)   #nur die ersten beiden 'e' werden im Text durch X ersetzt.\n",
        "print(neuer_text)"
      ],
      "execution_count": null,
      "outputs": [
        {
          "output_type": "stream",
          "name": "stdout",
          "text": [
            "DXr Knall dXs Halles erzeugt Pfoten.\n"
          ]
        }
      ]
    },
    {
      "cell_type": "markdown",
      "metadata": {
        "id": "V1bNkv-mFg62"
      },
      "source": [
        "Mit dem Find-Befehl könnt ihr einzelne Wörter suchen.\n",
        "Als Rückgabe erhaltet ihr die erste Position des Wortes im String."
      ]
    },
    {
      "cell_type": "code",
      "metadata": {
        "colab": {
          "base_uri": "https://localhost:8080/"
        },
        "id": "ZWWwTWmiFtCO",
        "outputId": "04952391-8311-48b9-fd7b-d67b1dbf70bc"
      },
      "source": [
        "position_pfoten = text.find(\"Pfoten\")\n",
        "\n",
        "print(position_pfoten)"
      ],
      "execution_count": null,
      "outputs": [
        {
          "output_type": "stream",
          "name": "stdout",
          "text": [
            "29\n"
          ]
        }
      ]
    },
    {
      "cell_type": "markdown",
      "metadata": {
        "id": "U9cao2j_TNCp"
      },
      "source": [
        "Nachfolgend wird erst über die ```find```-Funktion nach 'Lärm' im String gesucht.\n",
        "Über die Länge der Wortes ist die Position im String bekannt.\n",
        "\n",
        "Danach wird aus dem String das Wort und die 14 Zeichen vor dem Wort ausgegeben."
      ]
    },
    {
      "cell_type": "code",
      "metadata": {
        "colab": {
          "base_uri": "https://localhost:8080/"
        },
        "id": "jE5dOgDKS0RA",
        "outputId": "faa0d029-05af-459e-c48b-2e210b51af99"
      },
      "source": [
        "text = \"Der Knall erzeugt Lärm.\" #Text bleibt identisch (nur zur Veranschaulichung)\n",
        "\n",
        "wort_start = text.find(\"Lärm\")\n",
        "ausgabe_start = wort_start - 14\n",
        "ausgabe_ende = text.find(\"Lärm\") + len(\"Lärm\")\n",
        "print(text[ausgabe_start:ausgabe_ende])\n",
        "\n",
        "# gleicher, kombinierter Befehl der vier Zeilen:\n",
        "print(text[text.find(\"Lärm\")-14:text.find(\"Lärm\") + len(\"Lärm\")])"
      ],
      "execution_count": null,
      "outputs": [
        {
          "output_type": "stream",
          "name": "stdout",
          "text": [
            "Knall erzeugt Lärm\n",
            "Knall erzeugt Lärm\n"
          ]
        }
      ]
    },
    {
      "cell_type": "markdown",
      "metadata": {
        "id": "CnbfRSijUX4h"
      },
      "source": [
        "## Übung zu ```replace``` & ```find```\n",
        "\n",
        "Ersetzte im folgenden Satz das erste ```B``` durch ein ```T``` sowie das Wort das Wort ```Schreibers``` durch ```Schneiders``` via ```replace```-Befehl und gebe den Satz aus.\n",
        "\n",
        "Versuche danach die Positionsnummer des ersten und des letzten Buchstabens von ```Schneiders``` im String auszugeben.\n",
        "\n",
        "Lasse nun auf der Konsole die ersten 17 Zeichen vor ```Schneiders``` aus dem Satz ausgeben."
      ]
    },
    {
      "cell_type": "code",
      "metadata": {
        "colab": {
          "base_uri": "https://localhost:8080/"
        },
        "id": "5aTKqO3sVigz",
        "outputId": "dd55c3db-125f-49e4-f7d2-87a8800ddaff"
      },
      "source": [
        "satz = \"Ein tolles Buch ist Werk eines guten Schreibers.\"\n",
        "#Setze hier deinen Code ein:\n",
        "\n",
        "\n",
        "print (satz)"
      ],
      "execution_count": null,
      "outputs": [
        {
          "output_type": "stream",
          "name": "stdout",
          "text": [
            "Ein tolles Buch ist Werk eines guten Schreibers.\n"
          ]
        }
      ]
    },
    {
      "cell_type": "markdown",
      "metadata": {
        "id": "ju4SNRxOkGQ4"
      },
      "source": [
        "#Der ```re.findall()```-Befehl\n",
        "\n",
        "Stelle Vermutungen dazu an, was der ```re.findall```-Befehl mit dem String ```string``` und der Eingabe \"asen\" macht.\n",
        "\n",
        "Verändere dazu auch gerne den string, indem du Wörter entfernst oder z.B. die Wörter Tassen, Phasen, Gasen oder Haus hinzufügst.\n",
        "\n"
      ]
    },
    {
      "cell_type": "code",
      "metadata": {
        "colab": {
          "base_uri": "https://localhost:8080/"
        },
        "id": "MB_-FC1UkESJ",
        "outputId": "9e00798e-4d57-469a-f11d-a3124933126b"
      },
      "source": [
        "import re\n",
        "\n",
        "string = \"Hasen in 100 Extasen lasen aus 99 Seifenblasen auf dem Rasen 2021\"\n",
        "gefundene = re.findall(\"asen\", string)\n",
        "print(gefundene)"
      ],
      "execution_count": null,
      "outputs": [
        {
          "output_type": "stream",
          "name": "stdout",
          "text": [
            "['asen', 'asen', 'asen', 'asen', 'asen']\n"
          ]
        }
      ]
    },
    {
      "cell_type": "markdown",
      "metadata": {
        "id": "OuB-cWFwuO0J"
      },
      "source": [
        "## Übung zu ```re.findall()```\n",
        "\n",
        "Finde über den ```re.findall```-Befehl im folgenden string alle ```ei``` und zähle sie anschließend.\n",
        "\n",
        "Gib die Anzahl über die Konsole aus und prüfe die Aussage durch Nachzählen."
      ]
    },
    {
      "cell_type": "code",
      "metadata": {
        "id": "khd48yDtvlUZ"
      },
      "source": [
        "#Der Eingangsbefehl ist für die Verwendung von re.findall() erforderlich:\n",
        "import re\n",
        "text = \"Der reine Keim des Sein ist wie ein feiner Reim, ohne Leim, mit Wein.\"\n",
        "\n",
        "#Gib hier deinen Code ein\n",
        "\n"
      ],
      "execution_count": null,
      "outputs": []
    },
    {
      "cell_type": "markdown",
      "metadata": {
        "id": "1X7wXGs2v5t-"
      },
      "source": [
        "Mit etwas komplexerem Code kann man Python sogar die ganzen Wörter ausgeben lassen.\n",
        "\n",
        "Hier ein Beispiel für solch eine komplexere Anwendung von re.findall:"
      ]
    },
    {
      "cell_type": "code",
      "metadata": {
        "colab": {
          "base_uri": "https://localhost:8080/"
        },
        "id": "6CUCfFH_wGHK",
        "outputId": "d0046854-6031-4522-eddc-8b1dcd5630f2"
      },
      "source": [
        "satz =  \"Viele Fische fliegen fortan vielen fernen Vögel fort.\"\n",
        "\n",
        "neu = re.findall('\\\\bf\\w+\\\\b', satz)       #findet alle Wörter im 'satz', die mit f beginnen\n",
        "neu_zwei = re.findall('\\\\bv\\w+\\\\b', satz)  #findet alle Wörter im 'satz', die mit v beginnen\n",
        "\n",
        "print (neu)\n",
        "print(neu_zwei)"
      ],
      "execution_count": null,
      "outputs": [
        {
          "output_type": "stream",
          "name": "stdout",
          "text": [
            "['fliegen', 'fortan', 'fernen', 'fort']\n",
            "['vielen']\n"
          ]
        }
      ]
    },
    {
      "cell_type": "markdown",
      "metadata": {
        "id": "qnfSGTXwp88n"
      },
      "source": [
        "#```in```-Operator\n",
        "\n",
        "Ändere die Variable ```Tier``` in ```Vogel```, ```Igel```, ```Fisch```, ```versteckt``` und eine Zahl deiner Wahl.\n",
        "\n",
        "Führe den Code aus & vollziehe nach, wie der Operator ```in``` mit den strings ```baum```, ```laub```, ```teich``` interagiert.\n",
        "\n",
        "Was für einen Ausgabewert erzeugt z.B. ```tier in baum```, wenn 'tier' und 'baum' Strings sind?\n",
        "(z.B. int, float, bool, string)"
      ]
    },
    {
      "cell_type": "code",
      "metadata": {
        "colab": {
          "base_uri": "https://localhost:8080/"
        },
        "id": "1hRocvHiqJ-o",
        "outputId": "793622e1-8a34-4b5c-bd76-81b627229fd7"
      },
      "source": [
        "baum = \"Hier versteckt sich der Vogel\"\n",
        "laub = \"Der Igel versteckt sich hier\"\n",
        "teich =\"Zuflucht vom Fisch\"\n",
        "dezimalzahlen = \"1234567890 Euro\"\n",
        "\n",
        "tier = \"Vogel\"        #Ändere diesen Eintrag\n",
        "\n",
        "if tier in baum:\n",
        "  print(tier + \" ist im Baum\")\n",
        "if tier in laub:\n",
        "  print (tier + \" ist im Laub\")\n",
        "if tier in teich:\n",
        "  print (tier + \"ist im Teich\")\n",
        "if tier in dezimalzahlen:\n",
        "  print (tier + \" ist kein Tier, sondern eine Zahl.\")"
      ],
      "execution_count": null,
      "outputs": [
        {
          "output_type": "stream",
          "name": "stdout",
          "text": [
            "Vogel ist im Baum\n"
          ]
        }
      ]
    },
    {
      "cell_type": "markdown",
      "metadata": {
        "id": "8dNNcVKaywhf"
      },
      "source": [
        "## Übung ```in```-Operator\n",
        "\n",
        "Auf den folgenden fünf Insel-Strings halten sich Wölfe, Schafe & Salatköpfe auf. Am schnellsten isst der Wolf das Schaf, wurde das Schaf nicht gefressen, so isst es den Salat.\n",
        "\n",
        "Im zugehörigen String der Insel werden ```Wolf```, ```Schaf``` bzw ```Salat``` erwählt, sofern sie sich dort aufhalten.\n",
        "\n",
        "Schreibe einen Code, in welchem du den ```in```-Operator sowie ```if```, ```elif``` und ```else``` verwendest, um bei den 5 Inseln zu prüfen, wer nach dem Fressen noch übrig bleibt.\n",
        "\n",
        "Füge über an den entsprechenden String wie ```tiere_eins``` für die ```insel_eins``` die Tiere der Insel entsprechend an."
      ]
    },
    {
      "cell_type": "code",
      "metadata": {
        "id": "-y_0SUan0YVy"
      },
      "source": [
        "insel_eins = \"Hier halten sich ein Wolf und ein Schaf auf.\"\n",
        "insel_zwei = \"Auf dieser prächtigen Insel leben Wolf und Schaf. Außerdem gibt es Salat.\"\n",
        "insel_drei = \"Keine Tiere in Sicht. Nur ein Salat.\"\n",
        "insel_vier = \"Zwischen riesigen Salatblättern lebt auf dieser Insel ein kleiner Wolf.\"\n",
        "insel_fuenf = \"Auf dieser Insel gibt es ein Schaf, das auf einem großen Berg voll Salat sitzt.\"\n",
        "\n",
        "#Gib hier deinen Code ein:\n",
        "\n",
        "\n",
        "\n",
        "#Hier endet dein Code\n",
        "print (\"Auf der ersten Insel leben: \" + tiere_eins)\n",
        "print (\"Auf der zweiten Insel leben: \" + tiere_zwei)\n",
        "print (\"Auf der dritten Insel leben: \" + tiere_drei)\n",
        "print (\"Auf der vierten Insel leben: \" + tiere_vier)\n",
        "print (\"Auf der fünften Insel leben: \" + tiere_fünf)"
      ],
      "execution_count": null,
      "outputs": []
    },
    {
      "cell_type": "markdown",
      "metadata": {
        "id": "0XjIA_MbrL9k"
      },
      "source": [
        "# ```split```-Methode\n",
        "\n",
        "Eine Methode, die wir sehr oft benötigen, ist ```split```. ```split``` ermöglicht uns das Aufteilen von Strings und ermöglicht uns somit das Einlesen von Daten. Ihr werdet finden, dass Datensätze oft in einer einzelnen Textdatei abgespeichert werden, mit der ihr erst einmal wenig anfangen könnt, es sei denn, ihr teilt sie korrekt auf. Dafür gibt es aber später auch die csv Library, wobei CSV für \"Comma Separated Values\" steht. In anderen Sprachen gibt es Befehle wie zum Beispiel separate() in R, die ähnlich agieren.\n",
        "\n",
        "Heute wollen wir uns allgemeiner aber erstmal mit dem Aufteilen von Strings in einzelne Listenelemente beschäftigen. Dies kann beispielsweise hilfreich sein, wenn ihr euren Text in einzelne Worte aufteilen wollt, um beispielsweise das längste Wort zu finden oder alle Worte, die mit Y starten.\n",
        "\n",
        "Formal speichert ihr hierbei euren String oder Text in einer Variablen, beispielsweise ```text``` und wendet dann ```split``` auf diesen an.\n",
        "\n",
        "Das sieht in der Regel wie folgt aus:\n",
        "\n",
        "```text.split(sub)```\n",
        "\n",
        "Diese zerlegt ```text``` bei jedem Vorkommen von ```sub```.\n",
        "\n",
        "Wenn ihr einfach nur ```text.split()``` schreibt, wird als Default ein Leerzeichen verwendet, ihr könntet aber auch ausführlich ```text.split(\" \")``` schreiben.\n",
        "\n",
        "Bemerkt hierbei, dass ```sub``` in der entstehenden Liste nicht mehr vorkommt. \n",
        "\n",
        "Es gibt auch noch ```splitlines```, welches, wie der Name schon andeutet, bei allen Zeilenumbrüchen den String aufteilt. Auch dies liefert eine Liste. Beispiel: ```text.splitlines()```"
      ]
    },
    {
      "cell_type": "code",
      "metadata": {
        "id": "y-O3gFMSrSZK",
        "colab": {
          "base_uri": "https://localhost:8080/"
        },
        "outputId": "307d100e-37cf-4ffd-8fc7-97083af759db"
      },
      "source": [
        "txt = \"welcome to the jungle\"\n",
        "\n",
        "x = txt.split('e')\n",
        "\n",
        "print(x)"
      ],
      "execution_count": null,
      "outputs": [
        {
          "output_type": "stream",
          "name": "stdout",
          "text": [
            "['w', 'lcom', ' to th', ' jungl', '']\n"
          ]
        }
      ]
    },
    {
      "cell_type": "markdown",
      "metadata": {
        "id": "I1-60PbOCXFN"
      },
      "source": [
        "## Die Methoden ```startswith``` und ```endswith```\n",
        "\n",
        "Wo ihr euren Text nun schon aufteilen könnt mittels ```split```, sollt ihr noch zwei Methoden kennenlernen, mit denen ihr Anfang und Ende von euren Strings untersuchen könnt. Dies könnt ihr beispielsweise benutzen, wenn ihr alle Wörter mit einer bestimmten Endung in einem Text sucht, oder Wörter die mit \"Sch\" oder ähnlichem beginnen.\n",
        "\n",
        "Die Anwendung ist hierbei ```text.startswith(sub)``` beziehungsweise ```text.endswith(sub)```."
      ]
    },
    {
      "cell_type": "code",
      "metadata": {
        "colab": {
          "base_uri": "https://localhost:8080/"
        },
        "id": "zP99aOoQCm6P",
        "outputId": "faabecff-06a2-44b4-bad3-d972477ac190"
      },
      "source": [
        "txt = \"welcome to the jungle\"\n",
        "\n",
        "x = txt.split('e')\n",
        "\n",
        "for y in x:\n",
        "  if y.startswith(\"l\"):\n",
        "    print(y)"
      ],
      "execution_count": null,
      "outputs": [
        {
          "output_type": "stream",
          "name": "stdout",
          "text": [
            "lcom\n"
          ]
        }
      ]
    },
    {
      "cell_type": "markdown",
      "metadata": {
        "id": "aHoRmhbVCmA9"
      },
      "source": [
        "### Übung zu ```split```\n",
        "\n",
        "Im folgenden Codeblock findet ihr ein Gedicht. Bearbeitet bitte folgende Aufgaben:\n",
        "\n",
        "*   Gebt die neunte Zeile aus.\n",
        "*   Gebt alle Wörter aus, die mit \"Leben\" starten.\n",
        "*   Sortiert die ersten vier Zeilen einmal alpabetisch und gebt das Ergebnis aus (Tipp: erinnert euch an ```sorted(liste)```). Ist das Ergebnis wie erwartet?\n",
        "\n"
      ]
    },
    {
      "cell_type": "code",
      "metadata": {
        "id": "mkA2TJraCqIj"
      },
      "source": [
        "stufen = \"\"\"Wie jede Blüte welkt und jede Jugend\n",
        "Dem Alter weicht, blüht jede Lebensstufe,\n",
        "Blüht jede Weisheit auch und jede Tugend\n",
        "Zu ihrer Zeit und darf nicht ewig dauern.\n",
        "Es muß das Herz bei jedem Lebensrufe\n",
        "Bereit zum Abschied sein und Neubeginne,\n",
        "Um sich in Tapferkeit und ohne Trauern\n",
        "In andre, neue Bindungen zu geben.\n",
        "Und jedem Anfang wohnt ein Zauber inne,\n",
        "Der uns beschützt und der uns hilft, zu leben.\n",
        "\n",
        "Wir sollen heiter Raum um Raum durchschreiten,\n",
        "An keinem wie an einer Heimat hängen,\n",
        "Der Weltgeist will nicht fesseln uns und engen,\n",
        "Er will uns Stuf‘ um Stufe heben, weiten.\n",
        "Kaum sind wir heimisch einem Lebenskreise\n",
        "Und traulich eingewohnt, so droht Erschlaffen,\n",
        "Nur wer bereit zu Aufbruch ist und Reise,\n",
        "Mag lähmender Gewöhnung sich entraffen.\n",
        "\n",
        "Es wird vielleicht auch noch die Todesstunde\n",
        "Uns neuen Räumen jung entgegen senden,\n",
        "Des Lebens Ruf an uns wird niemals enden…\n",
        "Wohlan denn, Herz, nimm Abschied und gesunde!\"\"\"\n",
        "\n"
      ],
      "execution_count": null,
      "outputs": []
    },
    {
      "cell_type": "markdown",
      "metadata": {
        "id": "5vxkwAJuVXaj"
      },
      "source": [
        "# Groß- und Kleinschreibung in Strings\n",
        "\n",
        "Grundsätzlich können wir die einzelnen Zeichen eines Strings beliebig groß oder klein schreiben, manchmal ist es jedoch für die Formulierung von z.B. ```if```-Bedingungen einfacher, wenn die Zeichenkette einheitlich vorliegt. Dafür gibt es die Methoden ```string.lower()``` und ```string.upper()```, die alle Buchstaben des aufrufenden Strings in Klein- bzw. in Großbuchstaben umwandeln."
      ]
    },
    {
      "cell_type": "code",
      "metadata": {
        "colab": {
          "base_uri": "https://localhost:8080/"
        },
        "id": "RzktjcLUX5bF",
        "outputId": "2521e0ef-c5e7-46d3-d7d5-2a6d8ba92694"
      },
      "source": [
        "aussage = \"Ich mag keine Wespen!\"\n",
        "print(aussage)\n",
        "\n",
        "# Zur Verdeutlichung der Aussage können wir jeden Buchstaben groß schreiben.\n",
        "schrei = aussage.upper()\n",
        "print(schrei)\n",
        "\n",
        "# Zählen wir die Anzahl der 'I's und 'i's in der Aussage.\n",
        "# 1. Variante ohne Beachtung von Groß- und Kleinschreibung\n",
        "zaehler1 = 0\n",
        "for char in aussage:\n",
        "    if char == 'i':\n",
        "        zaehler1 += 1\n",
        "print(zaehler1)\n",
        "\n",
        "# 2. Variante mit zwei zu prüfenden Bedingungen\n",
        "zaehler2 = 0\n",
        "for char in aussage:\n",
        "    if char == 'i' or char == 'I':\n",
        "        zaehler2 += 1\n",
        "print(zaehler2)\n",
        "\n",
        "# 3. Variante mit Verwendung von .lower()\n",
        "zaehler3 = 0\n",
        "for char in aussage.lower():\n",
        "    if char == 'i':\n",
        "        zaehler3 += 1\n",
        "print(zaehler3)\n",
        "\n",
        "# Wenn wir s.lower() nicht verwenden, müssen wir also auch char == 'I' prüfen,\n",
        "# da sonst das 'I' am Anfang nicht gefunden wird."
      ],
      "execution_count": null,
      "outputs": [
        {
          "output_type": "stream",
          "name": "stdout",
          "text": [
            "Ich mag keine Wespen!\n",
            "ICH MAG KEINE WESPEN!\n",
            "1\n",
            "2\n",
            "2\n"
          ]
        }
      ]
    },
    {
      "cell_type": "markdown",
      "metadata": {
        "id": "AZOP1KEse2-n"
      },
      "source": [
        "## Übung zu ```.upper()``` und ```.lower()```\n",
        "\n",
        "Überprüfe mithilfe von ```.upper()``` bzw. ```.lower()``` und ```if```-Bedingungen, ob die gegebenen Zungenbrecher bis auf die Groß- und Kleinschreibung identisch sind. \n",
        "\n",
        "Wenn sie es sind, gib \"Die Zungenbrecher sind identisch.\" auf der Konsole aus; wenn nicht, gib den String \"Die Zungenbrecher unterscheiden sich.\" aus."
      ]
    },
    {
      "cell_type": "code",
      "metadata": {
        "id": "5QyZL5pMfO8U"
      },
      "source": [
        "s1 = \"Fischers Fritze fischt frische Fische, frische Fische fischt Fischers Fritze.\"\n",
        "s2 = \"fiSCHers fritze FISCHT FrIsChE fISche, FrIsChE fiscHE fischt FIschERS FRITZE.\"\n",
        "s3 = \"FiSCHERS FRiTZE FiSCHT FRiSCHE FiSCHE, FRiSCHE FiSCHE FiSCHT FiSCHERS FPiTZE.\"\n"
      ],
      "execution_count": null,
      "outputs": []
    },
    {
      "cell_type": "markdown",
      "metadata": {
        "id": "AV8CKYjsxoxX"
      },
      "source": [
        "## Projekt: Texte auf Internetseiten\n",
        "Jetzt, wo wir Strings (hoffentlich) einigermaßen verstanden haben, wollen wir Texte analysieren. Am einfachsten bekommen wir Texte, indem wir uns eine beliebige Internetseite nehmen und ALLE Texte kopieren!\n",
        "\n",
        "Das folgende Skript zieht sich alle Texte von der Wikipedia-Seite zu \"Mathematik\" und entfernt alle Sonderzeichen (also alles außer Buchstaben, Zahlen, Leerzeichen und Zeilenumbrüche). Gerne könnt ihr auch andere Seiten aufrufen! (Unter Umständen müsstet ihr noch ein paar Sonderzeichen entfernen.)"
      ]
    },
    {
      "cell_type": "code",
      "metadata": {
        "id": "AHKE-TPvyQLJ"
      },
      "source": [
        "import requests                 # Package, das Internetseiten laden kann\n",
        "from bs4 import BeautifulSoup   # Package, das heruntergeladene Internetzseiten \"hübsch\" macht\n",
        "\n",
        "# -------------------- LINK ---------------------\n",
        "link = \"https://de.wikipedia.org/wiki/Mathematik\" # Den Link hier könnt ihr gerne ändern\n",
        "# -----------------------------------------------\n",
        "\n",
        "r = requests.get(link) # lade Seiteninhalt runter\n",
        "soup = BeautifulSoup(r.text) # mache Inhalt \"hübsch\"\n",
        "text = \"\".join([data.get_text() for data in soup.find_all(\"p\")]) # ziehe NUR Texte aus r\n",
        "\n",
        "# entferne Sonderzeichen\n",
        "sonderzeichen = ['Ζ', 'Χ', 'Ε', 'Β', 'ό', 'Ω', 'Θ', '΄', 'φ', '•', 'π', 'Γ', 'ζ', 'Ρ', 'ά', 'Μ', 'Η', 'σ', 'Λ', 'ώ', 'δ', 'Φ', 'ψ', 'Ο', 'Έ', 'Α', 'Ά', 'Ι', 'Ξ', 'Δ', 'Ϝ', 'Ϟ', 'ξ', 'ί', '^', 'γ', 'Ν', 'ε', 'Τ', 'Σ', 'Υ', 'Ψ', 'ϊ', 'Κ', '\\\\', 'ə', '»', '«', 'ω', 'ύ', 'Π', 'æ', '≥', '³', 'µ', '>', 'ā', '½', 'î', '=', 'β', 'υ', 'ī', 'č', 'ο', 'ἰ', 'ς', '!', 'ἴ', 'ū', 'ρ', 'λ', 'ð', 'ú', '€', \"'\", 'Á', 'ō', 'ó', '̑', '±', '\"', 'í', '%', '°', 'á', 'ɔ', '+', '|', 'ø', 'ɪ', '͡', '−', '→', '§', 'ʃ', '*', '&', '̯', ':', 'χ', '1', '–', 'α', ')', ';', '…', '[', 'É', 'ν', '0', '\\xad', 'ː', '5', '‘', '4', '„', 'é', '9', '8', '.', 'ˈ', '7', 'τ', '(', 'μ', '“', 'ç', '\\xa0', '/', '-', '”', 'η', 'θ', 'è', '3', 'ß', '{', '?', '‚', 'ή', '6', '2', 'ι', '’', ',', 'κ', ']', 'έ', 'ē', '}']\n",
        "for zeichen in sonderzeichen:\n",
        "    text = text.replace(zeichen, \"\")\n",
        "\n",
        "#print(text)"
      ],
      "execution_count": null,
      "outputs": []
    },
    {
      "cell_type": "markdown",
      "metadata": {
        "id": "0re4JopYy92q"
      },
      "source": [
        "### Aufgabe:\n",
        "Beantworte die folgenden Fragen:\n",
        "- Wie viele Wörter hat der Wikipedia-Artikel? \n",
        "- Ermittle das längste Wort und das kürzeste auf der Wikipediaseite! \n",
        "- Welches der (echten) Wörter würde in einem Wörterbuch ganz am Ende stehen? Welches ganz am Anfang?\n",
        "\n",
        "*Hinweis*: Es bietet sich an, zunächst den String in eine Liste der Wörter zu übertragen.\n",
        "\n",
        "*Bonus*: \n",
        "- Wie viele *verschiedene* Wörter hat der Wikipedia-Artikel?\n",
        "- Welcher Buchstabe kommt am dritthäufigsten vor?"
      ]
    },
    {
      "cell_type": "code",
      "metadata": {
        "id": "ebVzlHruy7oj"
      },
      "source": [
        ""
      ],
      "execution_count": null,
      "outputs": []
    }
  ]
}