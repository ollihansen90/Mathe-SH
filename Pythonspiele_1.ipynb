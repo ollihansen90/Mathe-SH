{
  "nbformat": 4,
  "nbformat_minor": 0,
  "metadata": {
    "colab": {
      "name": "Pythonspiele_1.ipynb",
      "provenance": [],
      "collapsed_sections": [
        "cgq0ON5768UB"
      ],
      "include_colab_link": true
    },
    "kernelspec": {
      "name": "python3",
      "display_name": "Python 3"
    },
    "language_info": {
      "name": "python"
    }
  },
  "cells": [
    {
      "cell_type": "markdown",
      "metadata": {
        "id": "view-in-github",
        "colab_type": "text"
      },
      "source": [
        "<a href=\"https://colab.research.google.com/github/ollihansen90/Mathe-SH/blob/main/Pythonspiele_1.ipynb\" target=\"_parent\"><img src=\"https://colab.research.google.com/assets/colab-badge.svg\" alt=\"Open In Colab\"/></a>"
      ]
    },
    {
      "cell_type": "markdown",
      "metadata": {
        "id": "cgq0ON5768UB"
      },
      "source": [
        "# Pythonspiele, Zettel 1"
      ]
    },
    {
      "cell_type": "markdown",
      "metadata": {
        "id": "A7ig8qUyW8bS"
      },
      "source": [
        "# Fragen?\n",
        "Solltet ihr Fragen zum Code oder Probleme mit Colab haben, schickt uns gerne eine Mail:\n",
        "\n",
        "*   hohansen@inb.uni-luebeck.de\n",
        "*   maren.wieder@student.uni-luebeck.de\n",
        "*   friederike.meissner@student.uni-luebeck.de\n",
        "*   dustin.haschke@student.uni-luebeck.de"
      ]
    },
    {
      "cell_type": "markdown",
      "source": [
        "## \"Zahlen raten\"\n",
        "\n",
        "Wir wollen zunächst ein \"Zahlen raten\"-Spiel programmieren. Ihr seid insgesamt relativ frei in der Gestaltung, aber folgende Regeln sollen gelten:\n",
        "\n",
        "1.   Der Computer soll sich eine Zahl \"überlegen\" und der Spieler (ihr) soll diese erraten. Legt dafür eine Spanne fest (beispielsweise 1 bis 100) und überlegt euch, wie eine zufällige Zahl gezogen werden kann.\n",
        "2.   Nach jedem Rateversuch des Spielers, soll der Computer einen Hinweis geben, ob die gesuchte Zahl größer oder kleiner ist.\n",
        "3.   Es wird solange gespielt, bis die gesuchte Zahl gefunden wurde.\n",
        "\n",
        "Es gibt verschiedene Methoden, wie ihr eine zufällige Zahl festlegen könnt. Wenn ihr wollt, könnt ihr ```randint()``` verwenden.\n",
        "\n"
      ],
      "metadata": {
        "id": "4-Odv31eAYT1"
      }
    },
    {
      "cell_type": "code",
      "source": [
        "from random import randint\n",
        "\n"
      ],
      "metadata": {
        "id": "Ol_6cJOHAY2D"
      },
      "execution_count": null,
      "outputs": []
    },
    {
      "cell_type": "markdown",
      "source": [
        "### Lösungsvorschlag"
      ],
      "metadata": {
        "id": "_gAGCBgHAZdF"
      }
    },
    {
      "cell_type": "code",
      "source": [
        "from random import randint\n",
        "\n",
        "# Computer legt gesuchte Zahl fest\n",
        "gesucht = randint(1, 100)\n",
        "\n",
        "# Das Spiel beginnt\n",
        "print(\"Errate die gesuchte Zahl. Viel Erfolg!\")\n",
        "nichterraten = True\n",
        "versuche = 0\n",
        "while nichterraten:\n",
        "    geraten = input()\n",
        "    geraten = int(geraten)\n",
        "    versuche += 1\n",
        "    if geraten < gesucht:\n",
        "        print(\"Die geratene Zahl ist zu klein.\")\n",
        "    if geraten > gesucht:\n",
        "        print(\"Die geratene Zahl ist zu groß.\")\n",
        "    if geraten == gesucht:\n",
        "        print(\"Glückwunsch! \" + str(gesucht) + \" war die gesuchte Zahl. Du hast \" + str(versuche) + \" Versuch(e) gebraucht.\")\n",
        "        nichterraten = False"
      ],
      "metadata": {
        "id": "6kfZD2OUAb0-"
      },
      "execution_count": null,
      "outputs": []
    },
    {
      "cell_type": "markdown",
      "source": [
        "## Hangman\n",
        "\n",
        "Wir wollen das Spiel **Hangman** programmieren.\n",
        "\n",
        "Dazu sollen zunächst einige Funktionen erstellt werden.\n"
      ],
      "metadata": {
        "id": "vfeBSoMflxr7"
      }
    },
    {
      "cell_type": "markdown",
      "source": [
        "1.) Programmiere eine Funktion ```woerter_liste(laenge)```, die entsprechend des Parameters Wörter aus dem Datensatz ```data``` mit der entsprechenden Länge zurückliefert.\n",
        "\n",
        "Sollte die eigegebene Länge größer als 45 Buchstaben sein, so soll ein Wort mit 45 Buchstaben zurückgegeben werden."
      ],
      "metadata": {
        "id": "auPTfB_7rhPa"
      }
    },
    {
      "cell_type": "markdown",
      "source": [
        "2.) Programmiere eine Funktion ```wort_generator(datensatz)```, die ein zufälliges Wort deiner Liste zurückgibt.\n",
        "Benutze dafür ```np.random.randint()```"
      ],
      "metadata": {
        "id": "R__G7lAIsS_P"
      }
    },
    {
      "cell_type": "markdown",
      "source": [
        "3.) Programmiere die ```leben_anzeige()```, die die Parameter maximale Leben und vorhandene Leben enthält.\n",
        "Nutze als Ausgabe die Strings ***'\\u2665 '*** und ***'\\u2661 '***"
      ],
      "metadata": {
        "id": "7nohSH7qs1MD"
      }
    },
    {
      "cell_type": "markdown",
      "source": [
        "4.) Erstelle eine ```ratetafel(wort,gewaehlte)```, die für ungewaehlte Buchstaben des Wortes ```wort``` \"_ \" anzeigt und für ```gewaehlte``` Buchstaben die jeweiligen Buchstaben des Wortes"
      ],
      "metadata": {
        "id": "DAmIckBitfMP"
      }
    },
    {
      "cell_type": "markdown",
      "source": [
        "5.) Erstelle eine Funktion ```abc_uebersicht(alphabet,gewaehlte)```, die alle Buchstabe eines zuvor angelegten ```Alphabets``` enthält und ```gewaehlte``` z.B. durch \"_ \" ersetzt."
      ],
      "metadata": {
        "id": "WQuH7hZzuF8i"
      }
    },
    {
      "cell_type": "markdown",
      "source": [
        "6.) Erstelle schlussendlich mithilfe einer ```while```-Schleife sowie ```print()```-Ausgaben, ```if```-Abfragen, dem ```clear_output()```-Befehl, der alle bisher ausgegebenen Print-Befehle löscht, und dem geschickten Einsatz deiner Funktionen ein funktionstüchtiges Hangmanspiel.\n",
        "\n",
        "Viel Erfolg. :-)\n",
        "Und viel Spaß beim Spielen!"
      ],
      "metadata": {
        "id": "XVJAdJhPusfO"
      }
    },
    {
      "cell_type": "code",
      "source": [
        "import requests\n",
        "from os import truncate\n",
        "from numpy.lib.function_base import append\n",
        "from numpy.core.numeric import False_\n",
        "import numpy as np\n",
        "from IPython.display import clear_output\n",
        "import time\n",
        "\n",
        "alphabet = [\"A\",\"B\",\"C\",\"D\",\"E\",\"F\",\"G\",\"H\",\"I\",\"J\",\"K\",\"L\",\"M\",\"N\",\"O\",\"P\",\"Q\",\"R\",\"S\",\"T\",\"U\",\"V\",\"W\",\"X\",\"Y\",\"Z\",\"Ä\",\"Ö\",\"Ü\",\"ẞ\"]\n",
        "\n",
        "# Importieren des Wörterbuchs\n",
        "r = requests.get(\"https://gist.githubusercontent.com/MarvinJWendt/2f4f4154b8ae218600eb091a5706b5f4/raw/36b70dd6be330aa61cd4d4cdfda6234dcb0b8784/wordlist-german.txt\")\n",
        "data = r.text.split(\"\\n\")    # Data enthält jetzt wirklich viele Wörter :-)\n",
        "\n",
        "\n",
        "# Hier könnnte dein Code stehen:\n"
      ],
      "metadata": {
        "id": "FenKhZBkvpSe"
      },
      "execution_count": null,
      "outputs": []
    },
    {
      "cell_type": "markdown",
      "source": [
        "###Komplettlösung **Hangman**"
      ],
      "metadata": {
        "id": "f8Mne-_1wIi-"
      }
    },
    {
      "cell_type": "code",
      "source": [
        ""
      ],
      "metadata": {
        "id": "TkoDmYMzZLRH"
      },
      "execution_count": null,
      "outputs": []
    },
    {
      "cell_type": "code",
      "source": [
        "import requests\n",
        "from os import truncate\n",
        "from numpy.lib.function_base import append\n",
        "from numpy.core.numeric import False_\n",
        "import numpy as np\n",
        "from IPython.display import clear_output\n",
        "import time\n",
        "\n",
        "\n",
        "# Importieren des Wörterbuchs\n",
        "r = requests.get(\"https://gist.githubusercontent.com/MarvinJWendt/2f4f4154b8ae218600eb091a5706b5f4/raw/36b70dd6be330aa61cd4d4cdfda6234dcb0b8784/wordlist-german.txt\")\n",
        "data = r.text.split(\"\\n\")\n",
        "\n",
        "# upper-Funktion inklusive des 'ß'\n",
        "def all_upper(zeichen):\n",
        "    if zeichen == \"ẞ\" or zeichen == \"ß\":\n",
        "        return \"ẞ\"\n",
        "    else:\n",
        "        return zeichen.upper()\n",
        "\n",
        "# Rückgabe aller Substantive der übergebenen Länge aus Wörterbuch\n",
        "def woerter_liste(laenge):\n",
        "    liste = []\n",
        "    if laenge > 45:\n",
        "        laenge = 45\n",
        "    while liste == []:\n",
        "        for i in range(len(data)):\n",
        "            if len(data[i]) == laenge and data[i][0].isupper():\n",
        "                liste.append(data[i])\n",
        "        laenge -= 1\n",
        "    return liste\n",
        "\n",
        "# \"zufällige\" Generierung eines zu erratenden Wortes\n",
        "def wort_generator(liste):\n",
        "    return liste[np.random.randint(0, len(liste)-1)]\n",
        "\n",
        "# Lebensanzeige: a_0 - Urprungsanzahl, a_neu - noch verbleibende Leben\n",
        "def leben_anzeige(a_0,a_neu):\n",
        "    print(a_neu * '\\u2665 ' + (a_0 - a_neu) * '\\u2661 ')\n",
        "\n",
        "# Ratetafel des Wortes \n",
        "def ratetafel(wort,gewaehlte):\n",
        "    ausgabe = \"\"\n",
        "    for zeichen in wort:\n",
        "        if all_upper(zeichen) in gewaehlte:\n",
        "            ausgabe += zeichen + \" \" \n",
        "        else:\n",
        "            ausgabe += \"_ \"\n",
        "    return ausgabe\n",
        "\n",
        "# Noch ungewählte Buchstaben\n",
        "def abc_uebersicht(alphabet,gewaehlte):\n",
        "    ausgabe =\"\"\n",
        "    for buchstabe in alphabet:\n",
        "        if buchstabe in gewaehlte:\n",
        "            ausgabe += \"_ \"\n",
        "        else:\n",
        "            ausgabe += buchstabe + \" \"\n",
        "    return ausgabe\n",
        "\n",
        "# Anlegen der Parameter\n",
        "gewaehlte_buchstaben= []\n",
        "alphabet = [\"A\",\"B\",\"C\",\"D\",\"E\",\"F\",\"G\",\"H\",\"I\",\"J\",\"K\",\"L\",\"M\",\"N\",\"O\",\"P\",\"Q\",\"R\",\"S\",\"T\",\"U\",\"V\",\"W\",\"X\",\"Y\",\"Z\",\"Ä\",\"Ö\",\"Ü\",\"ẞ\"]\n",
        "geloest = False\n",
        "falscher_buchstabe = False\n",
        "resultat_letztes_raten = \"Viel Spaß bei Hangman :-)\"\n",
        "runden = 1\n",
        "\n",
        "\n",
        "# Interaktion Wortmodus\n",
        "print(\"Willst du... \\n1) ein Wort vorgeben oder soll \\n2) ein Wort generiert werden? \\n Gib 1 oder 2 ein:\")\n",
        "wort_modus = input()\n",
        "clear_output()\n",
        "\n",
        "# Schleife, falls kein Wortmodus gewählt\n",
        "while (wort_modus != \"1\" and wort_modus != \"2\"):\n",
        "    print(\"Ich habe deine Eingabe leider nicht verstanden. \\n\\nWillst du... \\n1 | ein Wort vorgeben oder soll \\n2 | ein Wort generiert werden? \\n Gib 1 oder 2 ein:\")\n",
        "    wort_modus = input()\n",
        "    clear_output()\n",
        "\n",
        "# Wort manuell wählen\n",
        "if wort_modus == \"1\":\n",
        "    print(\"Gib dein Wort ein (keine Zahlen & Sonderzeichen!):\")\n",
        "    wort = input()\n",
        "    laenge = int(len(wort))\n",
        "    clear_output()\n",
        "\n",
        "# Wort aus Wörterbuch\n",
        "else:\n",
        "    print(\"Wie viele Buchstaben soll dein Wort enthalten?\")\n",
        "    laenge = int(input())\n",
        "    while laenge < 1:\n",
        "        print(\"Ein Wort dieser Länge existiert leider nicht. Wähle bitte noch einmal:\")\n",
        "        laenge = input()\n",
        "    wort = wort_generator(woerter_liste(int(laenge)))\n",
        "    clear_output()\n",
        "    laenge = len(wort)\n",
        "\n",
        "# Lebenanzahl wird durch Wörterlänge definiert und Zeit startet\n",
        "leben_max = max(5,8-laenge//10)\n",
        "leben = leben_max\n",
        "startzeitpunkt = time.time()\n",
        "\n",
        "# Spielbeginn\n",
        "while (geloest == False and leben != 0):\n",
        "\n",
        "#  print(wort)                        # Cheat-Ausgabe zu Testzwecken\n",
        "    print (\"Runde\", runden,\"  |   Wortlänge\",laenge ,\"\\n\")\n",
        "    print(resultat_letztes_raten, \"\\n\")\n",
        "    tafel = ratetafel(wort,gewaehlte_buchstaben)\n",
        "    print(tafel)\n",
        "    leben_anzeige(leben_max,leben)\n",
        "    print(abc_uebersicht(alphabet,gewaehlte_buchstaben))\n",
        "  \n",
        "  # Eingabe des neuen Buchstaben + Text\n",
        "    print(\"Gib einen neuen Buchstaben ein:\")\n",
        "    neuer_buchstabe = input()\n",
        "    neuer_buchstabe = all_upper(neuer_buchstabe)\n",
        "\n",
        "  # Prüfung, ob neuer Buchstabe in Alphabet ist\n",
        "    falscher_buchstabe = True\n",
        "    resultat_letztes_raten = \"Den Buchstaben   \" + neuer_buchstabe + \"   kenne ich leider nicht.\"\n",
        "    for eintrag in alphabet:\n",
        "        if eintrag == str(neuer_buchstabe):\n",
        "            falscher_buchstabe = False\n",
        "      \n",
        "\n",
        "  # Prüfung, ob neuer Buchstabe bereits gewählt wurde\n",
        "    for eintrag in gewaehlte_buchstaben:  \n",
        "        if eintrag == neuer_buchstabe:\n",
        "            falscher_buchstabe = True\n",
        "            resultat_letztes_raten = \"Den Buchstaben   \" + neuer_buchstabe + \"   hast du bereits gewählt!\"\n",
        "\n",
        "  # Buchstabe ist ordnungsgemäß gewählt\n",
        "    if not(falscher_buchstabe):\n",
        "        gewaehlte_buchstaben.append(neuer_buchstabe)\n",
        "        neue_tafel = ratetafel(wort,gewaehlte_buchstaben)\n",
        "\n",
        "    # falls ein falscher Buchstabe gewählt wurde\n",
        "    if tafel == neue_tafel and not(falscher_buchstabe):\n",
        "        leben -= 1\n",
        "        resultat_letztes_raten = \"Der Buchstabe   \" + neuer_buchstabe + \"   war leider falsch.\"\n",
        "\n",
        "    # falls ein richtiger Buchstabe gewählt wurde  \n",
        "    else: \n",
        "        resultat_letztes_raten = \"Der Buchstabe   \" + neuer_buchstabe + \"   war richtig. Toll gemacht!\"\n",
        "        if neue_tafel.count('_') == 0:\n",
        "            geloest = True\n",
        "\n",
        "    runden += 1\n",
        "    clear_output()\n",
        "\n",
        "# Sieges- oder Niederlagen-Ausgabe    \n",
        "if geloest:\n",
        "    benoetigte_zeit = round(time.time() - startzeitpunkt)\n",
        "\n",
        "    print (\"Runde\", runden,\"  |   Wortlänge\",laenge ,\"\\n\")\n",
        "    print(ratetafel(wort,gewaehlte_buchstaben))\n",
        "    leben_anzeige(leben_max,leben)\n",
        "    print(abc_uebersicht(alphabet,gewaehlte_buchstaben))\n",
        "    print (\"\\nGlückwunsch, du hast in nur\", runden, \"Runden und\",benoetigte_zeit, \"Sekunden gewonnen!!! :-D\")\n",
        "else:\n",
        "    print(\"Oh nein, leider hast du alle Leben verloren.\\n\\nDas gesuchte Wort wäre   \", wort, \"   gewesen.\\nVersuche es doch noch einmal. :-)\")"
      ],
      "metadata": {
        "id": "ln8JjZapn9uX",
        "colab": {
          "base_uri": "https://localhost:8080/"
        },
        "outputId": "bc26b46c-06a0-4555-b787-60880da657da"
      },
      "execution_count": null,
      "outputs": [
        {
          "name": "stdout",
          "output_type": "stream",
          "text": [
            "Runde 3   |   Wortlänge 5 \n",
            "\n",
            "Der Buchstabe   E   war richtig. Toll gemacht! \n",
            "\n",
            "_ e _ _ _ \n",
            "♥ ♥ ♥ ♥ ♥ ♥ ♥ ♡ \n",
            "_ B C D _ F G H I J K L M N O P Q R S T U V W X Y Z Ä Ö Ü ẞ \n",
            "Gib einen neuen Buchstaben ein:\n",
            "i\n"
          ]
        }
      ]
    }
  ]
}