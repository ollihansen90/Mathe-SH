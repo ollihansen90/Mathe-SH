{
  "cells": [
    {
      "cell_type": "markdown",
      "metadata": {
        "id": "view-in-github",
        "colab_type": "text"
      },
      "source": [
        "<a href=\"https://colab.research.google.com/github/ollihansen90/Mathe-SH/blob/main/Pythonspiele_1.ipynb\" target=\"_parent\"><img src=\"https://colab.research.google.com/assets/colab-badge.svg\" alt=\"Open In Colab\"/></a>"
      ]
    },
    {
      "cell_type": "markdown",
      "metadata": {
        "id": "cgq0ON5768UB"
      },
      "source": [
        "# Pythonspiele, Zettel 1"
      ]
    },
    {
      "cell_type": "markdown",
      "metadata": {
        "id": "A7ig8qUyW8bS"
      },
      "source": [
        "# Fragen?\n",
        "Solltet ihr Fragen zum Code oder Probleme mit Colab haben, schickt uns gerne eine Mail:\n",
        "\n",
        "*   hohansen@inb.uni-luebeck.de\n",
        "*   maren.wieder@student.uni-luebeck.de\n",
        "*   friederike.meissner@student.uni-luebeck.de\n",
        "*   dustin.haschke@student.uni-luebeck.de"
      ]
    },
    {
      "cell_type": "markdown",
      "metadata": {
        "id": "4-Odv31eAYT1"
      },
      "source": [
        "## \"Zahlen raten\"\n",
        "\n",
        "Wir wollen zunächst ein \"Zahlen raten\"-Spiel programmieren. Ihr seid insgesamt relativ frei in der Gestaltung, aber folgende Regeln sollen gelten:\n",
        "\n",
        "1.   Der Computer soll sich eine Zahl \"überlegen\" und der Spieler (ihr) soll diese erraten. Legt dafür eine Spanne fest (beispielsweise 1 bis 100) und überlegt euch, wie eine zufällige Zahl gezogen werden kann.\n",
        "2.   Nach jedem Rateversuch des Spielers, soll der Computer einen Hinweis geben, ob die gesuchte Zahl größer oder kleiner ist.\n",
        "3.   Es wird solange gespielt, bis die gesuchte Zahl gefunden wurde.\n",
        "\n",
        "Es gibt verschiedene Methoden, wie ihr eine zufällige Zahl festlegen könnt. Wenn ihr wollt, könnt ihr ```randint()``` verwenden.\n",
        "\n"
      ]
    },
    {
      "cell_type": "code",
      "execution_count": null,
      "metadata": {
        "id": "Ol_6cJOHAY2D"
      },
      "outputs": [],
      "source": [
        "from random import randint\n",
        "\n"
      ]
    },
    {
      "cell_type": "markdown",
      "metadata": {
        "id": "_gAGCBgHAZdF"
      },
      "source": [
        "### Lösungsvorschlag"
      ]
    },
    {
      "cell_type": "code",
      "execution_count": null,
      "metadata": {
        "id": "6kfZD2OUAb0-",
        "colab": {
          "base_uri": "https://localhost:8080/"
        },
        "outputId": "8506d0af-42f0-4fba-9755-1838212b34ff"
      },
      "outputs": [
        {
          "output_type": "stream",
          "name": "stdout",
          "text": [
            "Errate die gesuchte Zahl. Viel Erfolg!\n",
            "50\n",
            "Die geratene Zahl ist zu klein.\n",
            "75\n",
            "Die geratene Zahl ist zu klein.\n",
            "88\n",
            "Die geratene Zahl ist zu groß.\n",
            "80\n",
            "Die geratene Zahl ist zu groß.\n",
            "77\n",
            "Die geratene Zahl ist zu klein.\n",
            "79\n",
            "Glückwunsch! 79 war die gesuchte Zahl. Du hast 6 Versuch(e) gebraucht.\n"
          ]
        }
      ],
      "source": [
        "from random import randint\n",
        "\n",
        "# Computer legt gesuchte Zahl fest\n",
        "gesucht = randint(1, 100)\n",
        "\n",
        "# Das Spiel beginnt\n",
        "print(\"Errate die gesuchte Zahl. Viel Erfolg!\")\n",
        "nichterraten = True\n",
        "versuche = 0\n",
        "while nichterraten:\n",
        "    geraten = input()\n",
        "    geraten = int(geraten)\n",
        "    versuche += 1\n",
        "    if geraten < gesucht:\n",
        "        print(\"Die geratene Zahl ist zu klein.\")\n",
        "    if geraten > gesucht:\n",
        "        print(\"Die geratene Zahl ist zu groß.\")\n",
        "    if geraten == gesucht:\n",
        "        print(\"Glückwunsch! \" + str(gesucht) + \" war die gesuchte Zahl. Du hast \" + str(versuche) + \" Versuch(e) gebraucht.\")\n",
        "        nichterraten = False"
      ]
    },
    {
      "cell_type": "markdown",
      "metadata": {
        "id": "vfeBSoMflxr7"
      },
      "source": [
        "## Hangman\n",
        "\n",
        "Wir wollen das Spiel **Hangman** programmieren.\n",
        "\n",
        "Dazu wollen wir neben dem Hauptspiel einige Funktionen erstellen."
      ]
    },
    {
      "cell_type": "markdown",
      "source": [
        "###1. Aufgabe\n",
        "\n",
        "Erstelle eine ```while```-Schleife, die abbricht, sobald jemand den Buchstaben 'e' eingibt.\n",
        "Verwende für die Eingabe einer Variable die bereits vorhandene ```input()```-Funktion\n",
        "\n",
        "Sobald abgebrochen wird, soll eine Nachricht darüber über ```print``` ausgegeben werden."
      ],
      "metadata": {
        "id": "3H48id2OEohz"
      }
    },
    {
      "cell_type": "markdown",
      "source": [
        "**Zusatz:**\n",
        "Füge, sobald deine Schleife funktioniert, den Befehl ```clear_output()``` am Ende der Schleife ein.\n",
        "\n",
        "Hierfür musst du über das Package am Anfang über ```from IPython.display import clear_output``` einfügen."
      ],
      "metadata": {
        "id": "wgxXF0UzGkxY"
      }
    },
    {
      "cell_type": "code",
      "source": [
        "# Hier darf dein Code stehen:\n",
        "\n"
      ],
      "metadata": {
        "id": "6JwxjisEMxOs"
      },
      "execution_count": null,
      "outputs": []
    },
    {
      "cell_type": "markdown",
      "source": [
        "#### Musterlösung zu 1.)"
      ],
      "metadata": {
        "id": "oQQ-eNHWHMcy"
      }
    },
    {
      "cell_type": "code",
      "source": [
        "#Lösung\n",
        "from IPython.display import clear_outputb\n",
        "buchstabe = \"\"\n",
        "while(buchstabe != \"e\"):\n",
        "  buchstabe = input()\n",
        "  clear_output()\n",
        "print(\"Du hast den Abbruchs-Buchstaben eingegeben.\")  "
      ],
      "metadata": {
        "colab": {
          "base_uri": "https://localhost:8080/"
        },
        "id": "3twRmXqnFnDe",
        "outputId": "ab8a6f52-c115-410f-c224-76af654a51c9"
      },
      "execution_count": null,
      "outputs": [
        {
          "output_type": "stream",
          "name": "stdout",
          "text": [
            "Du hast den Abbruchs-Buchstaben eingegeben.\n"
          ]
        }
      ]
    },
    {
      "cell_type": "markdown",
      "metadata": {
        "id": "auPTfB_7rhPa"
      },
      "source": [
        "###2. Aufgabe\n",
        "\n",
        "Programmiere eine Funktion ```woerter_liste(laenge)```, der die Zahl laenge übergeben wird und die aus dem Wörterbuch-Datensatz ```data``` alle Wörter der entsprechenden Länge zurückgibt."
      ]
    },
    {
      "cell_type": "markdown",
      "source": [
        "**Zusatz**:\n",
        "\n",
        "Schaffst du es auch, dass der erste Buchstabe stets ein Großbuchstabe ist?\n",
        "\n",
        "Sollte die eigegebene Länge größer als 45 Buchstaben sein, so soll ein Wort mit 45 Buchstaben zurückgegeben werden.\n",
        "\n",
        "Teste deine Funktion durch einen Aufruf."
      ],
      "metadata": {
        "id": "FEJ9ia3ZNZ4F"
      }
    },
    {
      "cell_type": "code",
      "source": [
        "import requests\n",
        "from os import truncate\n",
        "from numpy.lib.function_base import append\n",
        "from numpy.core.numeric import False_\n",
        "import numpy as np\n",
        "\n",
        "# Importieren des Wörterbuchs\n",
        "r = requests.get(\"https://gist.githubusercontent.com/MarvinJWendt/2f4f4154b8ae218600eb091a5706b5f4/raw/36b70dd6be330aa61cd4d4cdfda6234dcb0b8784/wordlist-german.txt\")\n",
        "data = r.text.split(\"\\n\")    # data enthält jetzt wirklich viele Wörter :-)\n",
        "\n",
        "\n",
        "# Hier könnnte dein Code stehen:\n",
        "\n"
      ],
      "metadata": {
        "id": "pAB1nX_HI4iv"
      },
      "execution_count": null,
      "outputs": []
    },
    {
      "cell_type": "markdown",
      "source": [
        "####Musterlösung zu 2.)"
      ],
      "metadata": {
        "id": "ElLJXGc5NF7y"
      }
    },
    {
      "cell_type": "code",
      "execution_count": null,
      "metadata": {
        "id": "FenKhZBkvpSe",
        "colab": {
          "base_uri": "https://localhost:8080/"
        },
        "outputId": "9283bbf1-279d-49c3-ab38-922908500342"
      },
      "outputs": [
        {
          "output_type": "execute_result",
          "data": {
            "text/plain": [
              "['Breitbildfernsehsignalübertragungsstandards',\n",
              " 'Hochspannungsgleichstromübertragungsanlagen',\n",
              " 'Maschinenbetriebsunterbrechungsversicherung',\n",
              " 'Unternehmensberatungsdienstleistungsangebot',\n",
              " 'Unternehmensbeteiligungsgesellschaftsgesetz',\n",
              " 'Versorgungsausgleichshärteregelungsgesetzen',\n",
              " 'Versorgungsausgleichshärteregelungsgesetzes']"
            ]
          },
          "metadata": {},
          "execution_count": 10
        }
      ],
      "source": [
        "import requests\n",
        "from os import truncate\n",
        "from numpy.lib.function_base import append\n",
        "from numpy.core.numeric import False_\n",
        "import numpy as np\n",
        "\n",
        "# Importieren des Wörterbuchs\n",
        "r = requests.get(\"https://gist.githubusercontent.com/MarvinJWendt/2f4f4154b8ae218600eb091a5706b5f4/raw/36b70dd6be330aa61cd4d4cdfda6234dcb0b8784/wordlist-german.txt\")\n",
        "data = r.text.split(\"\\n\")    # data enthält jetzt wirklich viele Wörter :-)\n",
        "\n",
        "# Rückgabe aller Substantive der übergebenen Länge aus Wörterbuch\n",
        "def woerter_liste(laenge):\n",
        "  liste = []\n",
        "  if laenge > 45:\n",
        "    laenge = 45\n",
        "  while liste == []:\n",
        "    for i in range(len(data)):\n",
        "        if len(data[i]) == laenge and data[i][0].isupper():\n",
        "            liste.append(data[i])\n",
        "    laenge -= 1\n",
        "  return liste\n",
        "\n",
        "# Ausgabe der Wörter der Länge 43\n",
        "woerter_liste (43)"
      ]
    },
    {
      "cell_type": "markdown",
      "source": [
        "###3. Aufgabe\n",
        "\n",
        "Programmiere ein Funktion, die ein Wortgenerator sein soll.\n",
        "Die Funktion soll die Liste, die du in 2. programmiert hast, erhalten und ein zufälliges Wort daraus auswählen.\n",
        "\n",
        "Hierfür kannst du z.B. ```np.random.randint(1,10)``` verwenden, die dir eine Zufallszahl zwischen 1 und 10 in diesem Falle zurückgibt.\n",
        "\n",
        "Rufe deine Funktion mit der übergebenene Liste aus 2.) auf."
      ],
      "metadata": {
        "id": "2s5PRTMjOpDL"
      }
    },
    {
      "cell_type": "code",
      "source": [
        "import numpy as np\n",
        "\n"
      ],
      "metadata": {
        "id": "Wi4SgSgdPK6E"
      },
      "execution_count": null,
      "outputs": []
    },
    {
      "cell_type": "markdown",
      "source": [
        "####Musterlösung zu 3.)"
      ],
      "metadata": {
        "id": "m1WdvJBPPd_q"
      }
    },
    {
      "cell_type": "code",
      "source": [
        "# Rückgabe aller Substantive der übergebenen Länge aus Wörterbuch\n",
        "def woerter_liste(laenge):\n",
        "  liste = []\n",
        "  if laenge > 45:\n",
        "    laenge = 45\n",
        "  while liste == []:\n",
        "    for i in range(len(data)):\n",
        "        if len(data[i]) == laenge and data[i][0].isupper():\n",
        "            liste.append(data[i])\n",
        "    laenge -= 1\n",
        "  return liste\n",
        "\n",
        "# \"zufällige\" Generierung eines zu erratenden Wortes\n",
        "def wort_generator(liste):\n",
        "    return liste[np.random.randint(0, len(liste)-1)]\n",
        "\n",
        "wort_generator(woerter_liste(5))"
      ],
      "metadata": {
        "colab": {
          "base_uri": "https://localhost:8080/",
          "height": 35
        },
        "id": "Jrs9wgyzPidq",
        "outputId": "ac93eb21-7ecb-43a5-a323-ffc9947705ae"
      },
      "execution_count": null,
      "outputs": [
        {
          "output_type": "execute_result",
          "data": {
            "application/vnd.google.colaboratory.intrinsic+json": {
              "type": "string"
            },
            "text/plain": [
              "'Ebern'"
            ]
          },
          "metadata": {},
          "execution_count": 11
        }
      ]
    },
    {
      "cell_type": "markdown",
      "metadata": {
        "id": "7nohSH7qs1MD"
      },
      "source": [
        "###4. Aufgabe\n",
        "\n",
        "Es soll eine ```leben_anzeige()``` erstellt werden.\n",
        "\n",
        "Dieser Funktion wird eine *maximale Lebensanzahl* und eine *vorhandene Lebensanzahl* übergeben, woraus sie einen entsprechenden String ausgibt.\n",
        "\n",
        "Nutze für die Herzgrafik die Strings ***'\\u2665 '*** und ***'\\u2661 '***."
      ]
    },
    {
      "cell_type": "markdown",
      "source": [
        "####Musterlösung zu 4."
      ],
      "metadata": {
        "id": "6Vwl0_mzQhya"
      }
    },
    {
      "cell_type": "code",
      "source": [
        "# Lebensanzeige: a_0 - Urprungsanzahl, a_neu - noch verbleibende Leben\n",
        "def leben_anzeige(max_leben,vorhandene_leben):\n",
        "  print('\\033[91m' + vorhandene_leben * '\\u2665 ' + (max_leben - vorhandene_leben) * '\\u2661 ' + '\\033[0m')\n",
        "\n",
        "print(leben_anzeige(6,4))"
      ],
      "metadata": {
        "colab": {
          "base_uri": "https://localhost:8080/"
        },
        "id": "cFEClWl4QlgD",
        "outputId": "58aaf82f-bff3-492c-9eca-890faddc567d"
      },
      "execution_count": null,
      "outputs": [
        {
          "output_type": "stream",
          "name": "stdout",
          "text": [
            "\u001b[91m♥ ♥ ♥ ♥ ♡ ♡ \u001b[0m\n",
            "None\n"
          ]
        }
      ]
    },
    {
      "cell_type": "markdown",
      "metadata": {
        "id": "DAmIckBitfMP"
      },
      "source": [
        "###5. Aufgabe\n",
        "\n",
        "Erstelle eine ```ratetafel(wort,gewaehlte)```, die für alle ungewaehlten Buchstaben des Wortes ```wort``` \"_ \" anzeigt und für ```gewaehlte``` Buchstaben die jeweiligen Buchstaben des Wortes."
      ]
    },
    {
      "cell_type": "code",
      "source": [
        "# Hier kommt der Code (-:\n",
        "\n"
      ],
      "metadata": {
        "id": "fNhkUTjWRTJC"
      },
      "execution_count": null,
      "outputs": []
    },
    {
      "cell_type": "markdown",
      "source": [
        "####Musterlösung zu 5."
      ],
      "metadata": {
        "id": "W5RktKc6RPqe"
      }
    },
    {
      "cell_type": "code",
      "source": [
        "def ratetafel(wort,gewaehlte):\n",
        "    ausgabe = \"\"\n",
        "    for zeichen in wort:\n",
        "        if zeichen.upper() in gewaehlte:\n",
        "            ausgabe += zeichen + \" \" \n",
        "        else:\n",
        "            ausgabe += \"_ \"\n",
        "    return ausgabe\n",
        "\n",
        "buchstaben_gewaehlt = [\"L\", \"E\",\"N\",\"Z\"]\n",
        "ratetafel (\"Lebenslust\",buchstaben_gewaehlt)"
      ],
      "metadata": {
        "colab": {
          "base_uri": "https://localhost:8080/",
          "height": 35
        },
        "id": "cTVDyoYrRPDm",
        "outputId": "9495cc54-fba4-47cc-8acb-352d85c3f22a"
      },
      "execution_count": null,
      "outputs": [
        {
          "output_type": "execute_result",
          "data": {
            "application/vnd.google.colaboratory.intrinsic+json": {
              "type": "string"
            },
            "text/plain": [
              "'L e _ e n _ l _ _ _ '"
            ]
          },
          "metadata": {},
          "execution_count": 31
        }
      ]
    },
    {
      "cell_type": "markdown",
      "metadata": {
        "id": "WQuH7hZzuF8i"
      },
      "source": [
        "###6. Aufgabe\n",
        "\n",
        "Erstelle eine Funktion ```abc_uebersicht(alphabet,gewaehlte)```, die alle Buchstabe eines zuvor angelegten ```Alphabets``` enthält und ```gewaehlte``` z.B. durch \"_ \" ersetzt."
      ]
    },
    {
      "cell_type": "code",
      "source": [
        ""
      ],
      "metadata": {
        "id": "ByrRH7gSS0RE"
      },
      "execution_count": null,
      "outputs": []
    },
    {
      "cell_type": "markdown",
      "source": [
        "####Musterlösung zu 6.)"
      ],
      "metadata": {
        "id": "kEd_SeI1S1nF"
      }
    },
    {
      "cell_type": "code",
      "source": [
        "gewaehlte_buchstaben= []\n",
        "alphabet = [\"A\",\"B\",\"C\",\"D\",\"E\",\"F\",\"G\",\"H\",\"I\",\"J\",\"K\",\"L\",\"M\",\"N\",\"O\",\"P\",\"Q\",\"R\",\"S\",\"T\",\"U\",\"V\",\"W\",\"X\",\"Y\",\"Z\",\"Ä\",\"Ö\",\"Ü\",\"ẞ\"]\n",
        "\n",
        "def abc_uebersicht(alphabet,gewaehlte):\n",
        "    ausgabe =\"\"\n",
        "    for buchstabe in alphabet:\n",
        "        if buchstabe in gewaehlte:\n",
        "            ausgabe += \"_ \"\n",
        "        else:\n",
        "            ausgabe += buchstabe + \" \"\n",
        "    return ausgabe\n",
        "\n",
        "gewaehlte_buchstaben = [\"A\",\"C\",\"E\",\"M\",\"N\"]\n",
        "print(abc_uebersicht(alphabet,gewaehlte_buchstaben))"
      ],
      "metadata": {
        "colab": {
          "base_uri": "https://localhost:8080/"
        },
        "id": "5KtqzpOCS3fT",
        "outputId": "641a3887-2b98-4999-9da1-150f444968f9"
      },
      "execution_count": null,
      "outputs": [
        {
          "output_type": "stream",
          "name": "stdout",
          "text": [
            "_ B _ D _ F G H I J K L _ _ O P Q R S T U V W X Y Z Ä Ö Ü ẞ \n"
          ]
        }
      ]
    },
    {
      "cell_type": "markdown",
      "metadata": {
        "id": "XVJAdJhPusfO"
      },
      "source": [
        "###7. Aufgabe\n",
        "\n",
        "Erstelle schlussendlich mithilfe deiner ```while```-Schleife aus 1.) und dem geschickten Einsatz deiner Funktionen ein funktionstüchtiges Hangmanspiel.\n",
        "\n",
        "Viel Erfolg. :-)\n",
        "Und viel Spaß beim Spielen!"
      ]
    },
    {
      "cell_type": "code",
      "source": [
        "# Jetzt geht's los (-:\n",
        "\n"
      ],
      "metadata": {
        "id": "tChuu0-CUEBw"
      },
      "execution_count": null,
      "outputs": []
    },
    {
      "cell_type": "markdown",
      "metadata": {
        "id": "f8Mne-_1wIi-"
      },
      "source": [
        "###Komplettlösung **Hangman**"
      ]
    },
    {
      "cell_type": "code",
      "execution_count": null,
      "metadata": {
        "colab": {
          "base_uri": "https://localhost:8080/"
        },
        "id": "ln8JjZapn9uX",
        "outputId": "a36f37ea-b565-42f2-8e00-d9e0287b636b"
      },
      "outputs": [
        {
          "output_type": "stream",
          "name": "stdout",
          "text": [
            "Runde 13   |   Wortlänge 11 \n",
            "\n",
            "\u001b[94mD a t e n i m p o r t \u001b[0m\n",
            "\u001b[91m♥ ♥ ♥ ♥ ♥ ♡ ♡ \u001b[0m\n",
            "_ B C _ _ F G H _ J _ L _ _ _ _ Q _ _ _ U V W X Y Z Ä Ö Ü ẞ \n",
            "\u001b[92m\n",
            "Glückwunsch, du hast in nur 13 Runden und 38 Sekunden gewonnen!!! :-D\u001b[0m\n"
          ]
        }
      ],
      "source": [
        "import requests\n",
        "from os import truncate\n",
        "from numpy.lib.function_base import append\n",
        "from numpy.core.numeric import False_\n",
        "import numpy as np\n",
        "from IPython.display import clear_output\n",
        "import time\n",
        "\n",
        "\n",
        "# Importieren des Wörterbuchs\n",
        "r = requests.get(\"https://gist.githubusercontent.com/MarvinJWendt/2f4f4154b8ae218600eb091a5706b5f4/raw/36b70dd6be330aa61cd4d4cdfda6234dcb0b8784/wordlist-german.txt\")\n",
        "data = r.text.split(\"\\n\")\n",
        "\n",
        "# upper-Funktion inklusive des 'ß'\n",
        "def all_upper(zeichen):\n",
        "    if zeichen == \"ẞ\" or zeichen == \"ß\":\n",
        "        return \"ẞ\"\n",
        "    else:\n",
        "        return zeichen.upper()\n",
        "\n",
        "# Rückgabe aller Substantive der übergebenen Länge aus Wörterbuch\n",
        "def woerter_liste(laenge):\n",
        "  liste = []\n",
        "  if laenge > 45:\n",
        "    laenge = 45\n",
        "  while liste == []:\n",
        "    for i in range(len(data)):\n",
        "        if len(data[i]) == laenge and data[i][0].isupper():\n",
        "            liste.append(data[i])\n",
        "    laenge -= 1\n",
        "  return liste\n",
        "\n",
        "# \"zufällige\" Generierung eines zu erratenden Wortes\n",
        "def wort_generator(liste):\n",
        "    return liste[np.random.randint(0, len(liste)-1)]\n",
        "\n",
        "# Lebensanzeige: a_0 - Urprungsanzahl, a_neu - noch verbleibende Leben\n",
        "def leben_anzeige(a_0,a_neu):\n",
        "    print('\\033[91m' + a_neu * '\\u2665 ' + (a_0 - a_neu) * '\\u2661 ' + '\\033[0m')\n",
        "\n",
        "# Ratetafel des Wortes \n",
        "def ratetafel(wort,gewaehlte):\n",
        "    ausgabe = \"\"\n",
        "    for zeichen in wort:\n",
        "        if all_upper(zeichen) in gewaehlte:\n",
        "            ausgabe += zeichen + \" \" \n",
        "        else:\n",
        "            ausgabe += \"_ \"\n",
        "    return ausgabe\n",
        "\n",
        "# Noch ungewählte Buchstaben\n",
        "def abc_uebersicht(alphabet,gewaehlte):\n",
        "    ausgabe =\"\"\n",
        "    for buchstabe in alphabet:\n",
        "        if buchstabe in gewaehlte:\n",
        "            ausgabe += \"_ \"\n",
        "        else:\n",
        "            ausgabe += buchstabe + \" \"\n",
        "    return ausgabe\n",
        "\n",
        "# Anlegen der Parameter\n",
        "gewaehlte_buchstaben= []\n",
        "alphabet = [\"A\",\"B\",\"C\",\"D\",\"E\",\"F\",\"G\",\"H\",\"I\",\"J\",\"K\",\"L\",\"M\",\"N\",\"O\",\"P\",\"Q\",\"R\",\"S\",\"T\",\"U\",\"V\",\"W\",\"X\",\"Y\",\"Z\",\"Ä\",\"Ö\",\"Ü\",\"ẞ\"]\n",
        "geloest = False\n",
        "error_buchstabe = False\n",
        "resultat_letztes_raten = \"Viel Spaß bei Hangman :-)\"\n",
        "runden = 1\n",
        "\n",
        "\n",
        "# Interaktion Wortmodus\n",
        "print(\"Willst du... \\n1) ein Wort vorgeben oder soll \\n2) ein Wort generiert werden? \\n Gib 1 oder 2 ein:\")\n",
        "wort_modus = input()\n",
        "clear_output()\n",
        "\n",
        "# Schleife, falls kein Wortmodus gewählt\n",
        "while (wort_modus != \"1\" and wort_modus != \"2\"):\n",
        "    print(\"Ich habe deine Eingabe leider nicht verstanden. \\n\\nWillst du... \\n1 | ein Wort vorgeben oder soll \\n2 | ein Wort generiert werden? \\n Gib 1 oder 2 ein:\")\n",
        "    wort_modus = input()\n",
        "    clear_output()\n",
        "\n",
        "# Wort manuell wählen\n",
        "if wort_modus == \"1\":\n",
        "    print(\"Gib dein Wort ein (keine Zahlen & Sonderzeichen!):\")\n",
        "    wort = input()\n",
        "    laenge = int(len(wort))\n",
        "    clear_output()\n",
        "\n",
        "# Wort aus Wörterbuch\n",
        "else:\n",
        "    print(\"Wie viele Buchstaben soll dein Wort enthalten?\")\n",
        "    laenge = int(input())\n",
        "    while laenge < 1:\n",
        "        print(\"Ein Wort dieser Länge existiert leider nicht. Wähle bitte noch einmal:\")\n",
        "        laenge = input()\n",
        "    wort = wort_generator(woerter_liste(int(laenge)))\n",
        "    clear_output()\n",
        "    laenge = len(wort)\n",
        "\n",
        "# Lebenanzahl wird durch Wörterlänge definiert und Zeit startet\n",
        "leben_max = max(5,8-laenge//10)\n",
        "leben = leben_max\n",
        "startzeitpunkt = time.time()\n",
        "\n",
        "# Spielbeginn\n",
        "while (geloest == False and leben != 0):\n",
        "\n",
        "  # print(wort)                        # Cheat-Ausgabe zu Testzwecken\n",
        "  print (\"Runde\", runden,\"  |   Wortlänge\",laenge ,\"\\n\")\n",
        "  print(resultat_letztes_raten, \"\\n\")\n",
        "  tafel = str(ratetafel(wort,gewaehlte_buchstaben))\n",
        "  print('\\033[92m' + tafel + '\\033[0m')\n",
        "  leben_anzeige(leben_max,leben)\n",
        "  print(\"\")\n",
        "  print(abc_uebersicht(alphabet,gewaehlte_buchstaben))\n",
        "  \n",
        "  # Eingabe des neuen Buchstaben + Text\n",
        "  neuer_buchstabe = input(\"Gib einen neuen Buchstaben ein:\")\n",
        "  neuer_buchstabe = all_upper(str(neuer_buchstabe))\n",
        "\n",
        "  # Prüfung, ob neuer Buchstabe in Alphabet ist\n",
        "  error_buchstabe = True\n",
        "  resultat_letztes_raten = \"Den Buchstaben   \" + neuer_buchstabe + \"   kenne ich leider nicht.\"\n",
        "  for eintrag in alphabet:\n",
        "    if eintrag == neuer_buchstabe:\n",
        "      error_buchstabe = False\n",
        "      \n",
        "  # Prüfung, ob neuer Buchstabe bereits gewählt wurde\n",
        "  for eintrag in gewaehlte_buchstaben:  \n",
        "    if eintrag == neuer_buchstabe:\n",
        "      error_buchstabe = True\n",
        "      resultat_letztes_raten = \"Den Buchstaben   \" + neuer_buchstabe + \"   hast du bereits gewählt!\"\n",
        "\n",
        "  # Buchstabe ordnungsgemäß gewählt\n",
        "  if not(error_buchstabe):\n",
        "    gewaehlte_buchstaben.append(neuer_buchstabe)\n",
        "    neue_tafel = ratetafel(wort,gewaehlte_buchstaben)\n",
        "  \n",
        "      # falls Buchstabe nicht im Wort\n",
        "    if tafel == neue_tafel:\n",
        "      leben -= 1\n",
        "      resultat_letztes_raten = \"Der Buchstabe   \" + neuer_buchstabe + \"   war leider falsch.\"\n",
        "\n",
        "    # falls Buchstabe im Wort\n",
        "    else:\n",
        "      resultat_letztes_raten = \"Der Buchstabe   \" + neuer_buchstabe + \"   war richtig. Toll gemacht!\"\n",
        "      if neue_tafel.count('_') == 0:\n",
        "        geloest = True\n",
        "\n",
        "  # Rundenzähler, Print-Aktualisierer und Anti-Bug\n",
        "  time.sleep(0.1)\n",
        "  runden += 1\n",
        "  clear_output()\n",
        "  time.sleep(0.1)\n",
        "\n",
        "# Sieges- oder Niederlagen-Ausgabe    \n",
        "if geloest:\n",
        "  benoetigte_zeit = round(time.time() - startzeitpunkt)\n",
        "  print (\"Runde\", runden,\"  |   Wortlänge\",laenge ,\"\\n\")\n",
        "  print(str('\\033[94m' + ratetafel(wort,gewaehlte_buchstaben) + '\\033[0m'))\n",
        "  leben_anzeige(leben_max,leben)\n",
        "  print(abc_uebersicht(alphabet,gewaehlte_buchstaben))\n",
        "  print ('\\033[92m' + \"\\nGlückwunsch, du hast in nur\", runden, \"Runden und\",benoetigte_zeit, \"Sekunden gewonnen!!! :-D\" + '\\033[0m')\n",
        "else:\n",
        "  print('\\033[95m' + \"Oh nein, leider hast du alle Leben verloren.\\n\\nDas gesuchte Wort wäre   \" + '\\033[0m', '\\033[94m' + wort + '\\033[0m' , '\\033[95m' + \"   gewesen.\\nVersuche es doch noch einmal. :-)\" + '\\033[0m')"
      ]
    }
  ],
  "metadata": {
    "colab": {
      "collapsed_sections": [
        "cgq0ON5768UB",
        "4-Odv31eAYT1",
        "_gAGCBgHAZdF",
        "3H48id2OEohz",
        "oQQ-eNHWHMcy",
        "auPTfB_7rhPa",
        "ElLJXGc5NF7y",
        "2s5PRTMjOpDL",
        "m1WdvJBPPd_q",
        "7nohSH7qs1MD",
        "6Vwl0_mzQhya",
        "DAmIckBitfMP",
        "W5RktKc6RPqe",
        "WQuH7hZzuF8i",
        "kEd_SeI1S1nF",
        "XVJAdJhPusfO",
        "f8Mne-_1wIi-"
      ],
      "name": "Pythonspiele_1.ipynb",
      "provenance": [],
      "include_colab_link": true
    },
    "kernelspec": {
      "display_name": "Python 3",
      "name": "python3"
    },
    "language_info": {
      "name": "python"
    }
  },
  "nbformat": 4,
  "nbformat_minor": 0
}