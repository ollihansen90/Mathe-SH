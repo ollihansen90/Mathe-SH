{
  "nbformat": 4,
  "nbformat_minor": 0,
  "metadata": {
    "colab": {
      "name": "BubbleSort.ipynb",
      "provenance": [],
      "collapsed_sections": [],
      "authorship_tag": "ABX9TyMY0UfTmmR4rL4mqg2IkEF7",
      "include_colab_link": true
    },
    "kernelspec": {
      "name": "python3",
      "display_name": "Python 3"
    },
    "language_info": {
      "name": "python"
    }
  },
  "cells": [
    {
      "cell_type": "markdown",
      "metadata": {
        "id": "view-in-github",
        "colab_type": "text"
      },
      "source": [
        "<a href=\"https://colab.research.google.com/github/ollihansen90/Mathe-SH/blob/main/BubbleSort.ipynb\" target=\"_parent\"><img src=\"https://colab.research.google.com/assets/colab-badge.svg\" alt=\"Open In Colab\"/></a>"
      ]
    },
    {
      "cell_type": "markdown",
      "metadata": {
        "id": "WoCvJsVdGOyF"
      },
      "source": [
        "# BubbleSort\n",
        "Hier kommt der Text rein."
      ]
    },
    {
      "cell_type": "code",
      "metadata": {
        "colab": {
          "base_uri": "https://localhost:8080/"
        },
        "id": "77YNaMEMGN85",
        "outputId": "e4e1438d-cb3f-4d82-d5a9-ee96c5b608d3"
      },
      "source": [
        "#liste = [4,9,1,13,8,9,9,-3,0,-7,12]\n",
        "liste = list(\"Guck mal, das geht sogar mit Strings!\")\n",
        "\n",
        "def sortiert(liste):\n",
        "    eintrag = liste[0]\n",
        "    for naechster in liste[1:]:\n",
        "        if naechster<eintrag:\n",
        "            return False\n",
        "        eintrag = naechster\n",
        "    return True\n",
        "\n",
        "while not sortiert(liste):\n",
        "    for i in range(1, len(liste)):\n",
        "        if liste[i]<liste[i-1]:\n",
        "            temp = liste[i]\n",
        "            liste[i] = liste[i-1]\n",
        "            liste[i-1] = temp\n",
        "\n",
        "print(liste)\n"
      ],
      "execution_count": 14,
      "outputs": [
        {
          "output_type": "stream",
          "name": "stdout",
          "text": [
            "[' ', ' ', ' ', ' ', ' ', ' ', '!', ',', 'G', 'S', 'a', 'a', 'a', 'c', 'd', 'e', 'g', 'g', 'g', 'h', 'i', 'i', 'k', 'l', 'm', 'm', 'n', 'o', 'r', 'r', 's', 's', 's', 't', 't', 't', 'u']\n"
          ]
        }
      ]
    }
  ]
}