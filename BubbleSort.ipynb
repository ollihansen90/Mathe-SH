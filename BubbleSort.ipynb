{
  "nbformat": 4,
  "nbformat_minor": 0,
  "metadata": {
    "colab": {
      "name": "BubbleSort.ipynb",
      "provenance": [],
      "collapsed_sections": [],
      "authorship_tag": "ABX9TyOUwFeehSlcUi6/Cs7M3V1e",
      "include_colab_link": true
    },
    "kernelspec": {
      "name": "python3",
      "display_name": "Python 3"
    },
    "language_info": {
      "name": "python"
    }
  },
  "cells": [
    {
      "cell_type": "markdown",
      "metadata": {
        "id": "view-in-github",
        "colab_type": "text"
      },
      "source": [
        "<a href=\"https://colab.research.google.com/github/ollihansen90/Mathe-SH/blob/main/BubbleSort.ipynb\" target=\"_parent\"><img src=\"https://colab.research.google.com/assets/colab-badge.svg\" alt=\"Open In Colab\"/></a>"
      ]
    },
    {
      "cell_type": "markdown",
      "metadata": {
        "id": "WoCvJsVdGOyF"
      },
      "source": [
        "# BubbleSort\n",
        "Hier kommt der Text rein."
      ]
    },
    {
      "cell_type": "code",
      "metadata": {
        "colab": {
          "base_uri": "https://localhost:8080/"
        },
        "id": "77YNaMEMGN85",
        "outputId": "0270c043-2c07-46e4-a4a3-f3407fa60eb7"
      },
      "source": [
        "liste = [4,9,1,13,8,9,9,-3,0,-7,12]\n",
        "\n",
        "def sortiert(liste):\n",
        "    eintrag = liste[0]\n",
        "    for naechster in liste[1:]:\n",
        "        if naechster-eintrag<0:\n",
        "            return False\n",
        "        eintrag = naechster\n",
        "    return True\n",
        "\n",
        "while not sortiert(liste):\n",
        "    for i in range(1, len(liste)):\n",
        "        if liste[i]<liste[i-1]:\n",
        "            temp = liste[i]\n",
        "            liste[i] = liste[i-1]\n",
        "            liste[i-1] = temp\n",
        "\n",
        "print(liste)\n"
      ],
      "execution_count": 9,
      "outputs": [
        {
          "output_type": "stream",
          "name": "stdout",
          "text": [
            "[-7, -3, 0, 1, 4, 8, 9, 9, 9, 12, 13]\n"
          ]
        }
      ]
    }
  ]
}