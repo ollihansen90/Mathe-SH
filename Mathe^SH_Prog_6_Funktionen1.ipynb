{
  "nbformat": 4,
  "nbformat_minor": 0,
  "metadata": {
    "colab": {
      "name": "Mathe^SH_Prog_6.ipynb",
      "provenance": [],
      "collapsed_sections": [],
      "include_colab_link": true
    },
    "kernelspec": {
      "display_name": "Python 3",
      "name": "python3"
    },
    "language_info": {
      "name": "python"
    }
  },
  "cells": [
    {
      "cell_type": "markdown",
      "metadata": {
        "id": "view-in-github",
        "colab_type": "text"
      },
      "source": [
        "<a href=\"https://colab.research.google.com/github/ollihansen90/Mathe-SH/blob/main/Mathe%5ESH_Prog_6_Funktionen1.ipynb\" target=\"_parent\"><img src=\"https://colab.research.google.com/assets/colab-badge.svg\" alt=\"Open In Colab\"/></a>"
      ]
    },
    {
      "cell_type": "markdown",
      "metadata": {
        "id": "cgq0ON5768UB"
      },
      "source": [
        "# Mathe^SH Python-Kurs, Woche 6"
      ]
    },
    {
      "cell_type": "markdown",
      "metadata": {
        "id": "NMjKvuYev9lY"
      },
      "source": [
        "# Fragen?\n",
        "Solltet ihr Fragen zum Code oder Probleme mit Colab haben, schickt uns gerne eine Mail:\n",
        "\n",
        "*   hohansen@inb.uni-luebeck.de\n",
        "*   maren.wieder@student.uni-luebeck.de\n",
        "*   friederike.meissner@student.uni-luebeck.de\n",
        "*   dustin.haschke@student.uni-luebeck.de"
      ]
    },
    {
      "cell_type": "markdown",
      "metadata": {
        "id": "MXA6dL5dkWAu"
      },
      "source": [
        "# Funktionen\n",
        "\n",
        "Funktionen kennt ihr eigentlich schon aus den vorherigen Übungen.\n",
        "\n",
        "Jedes Mal, wenn ihr z.B. ```print(\"Ausgabe\")``` verwendet, ```sorted(liste)``` oder auch ```round(zahl)``` angewandt habt.\n",
        "\n",
        "Jetzt sollt ihr lernen, wie man solche Funktionen selbst erstellt und wie man sie aufruft.\n",
        "\n",
        "Testet mal den folgenden Code aus:\n"
      ]
    },
    {
      "cell_type": "code",
      "metadata": {
        "id": "3hdl2qe5ncwg"
      },
      "source": [
        "def katze():          # hier wurde die Funktion Katze,..\n",
        "    print(\"miau\")       # .., die \"miau\" ausgibt, angelegt."
      ],
      "execution_count": null,
      "outputs": []
    },
    {
      "cell_type": "markdown",
      "metadata": {
        "id": "RA5qkzL8pqoC"
      },
      "source": [
        "Der Code zum Erstellen einer Funktion folgt dem Schema:\n",
        "\n",
        "------------------\n",
        "\n",
        "```def``` ***funktions_name()***:\n",
        "> <Code, der durch die Funktion ausgeführt wird>\n",
        "\n",
        "---\n",
        "\n",
        "```def``` leitet eine **neue Funktion** ein. Nach einem *Leerzeichen* folgt der **Funktionsname** mit ```()```.\n",
        "\n",
        "Eine Zeile darunter wird **eingerückt**, wie z.B. bei If-Funktionen auch.\n",
        "\n",
        "\n",
        "\n",
        "Dann wird **auszuführender Code** in Form von anderen Funktionen, Befehlen oder Operationen in diese Funktion eingefügt.\n",
        "\n",
        "\n",
        "Der erste Teil, der die neue Funktion einleitet, benennt und die Klammern beinhaltet, wird auch *Funktionenkopf* genannt.\n",
        "Der zweite, eingerückte Teil heißt *Funktionenrumpf*.\n"
      ]
    },
    {
      "cell_type": "markdown",
      "metadata": {
        "id": "NYiDcveOr93i"
      },
      "source": [
        "## Ausführung einer Funktion\n",
        "\n",
        "Nachdem wir oben nun die Funktion ```katze()``` angelegt haben, wollen wir sie auch ausführen.\n",
        "\n",
        "Alle Funktionen, die ihr angelegt habt, könnt ihr über ihren Namen wie gewohnt durch z.B. die Print-Funktion ausführen.\n",
        "\n",
        "Bei unserer ```katze()``` sieht das dann so aus:\n"
      ]
    },
    {
      "cell_type": "code",
      "metadata": {
        "colab": {
          "base_uri": "https://localhost:8080/"
        },
        "id": "r-sYMldpsfK8",
        "outputId": "809499c2-b7a7-4718-de7d-e0849813b2ff"
      },
      "source": [
        "def katze():          \n",
        "    print(\"miau\")       \n",
        "\n",
        "katze()               # Hier wird die Funktion Katze ausgeführt."
      ],
      "execution_count": null,
      "outputs": [
        {
          "output_type": "stream",
          "name": "stdout",
          "text": [
            "miau\n"
          ]
        }
      ]
    },
    {
      "cell_type": "markdown",
      "metadata": {
        "id": "T604af2GtqIk"
      },
      "source": [
        "## Parameter von Funktionen\n",
        "\n",
        "Ihr kennt bereits von anderen Funktionen, wie z.B. der ```sorted```-Funktion, dass ihr eine ganz bestimmte Liste übergeben wollt.\n",
        "\n",
        "Das Gleiche könnte ihr auch bei euren selbsterstellten Funktionen machen.\n",
        "Hierfür wieder ein Beispiel:"
      ]
    },
    {
      "cell_type": "code",
      "metadata": {
        "colab": {
          "base_uri": "https://localhost:8080/"
        },
        "id": "l7qWyldRvhsB",
        "outputId": "051d01d9-aedb-44ea-ee03-9b79b94d7ec0"
      },
      "source": [
        "def katze_hungrig(hunger):     # Funktion anlegen mit Parameter 'hunger'\n",
        "    if (hunger):                # Befehle der Funktion: Wenn Hunger (wahr)\n",
        "        print(\"Miau-miau, Miau!\")                #        dann gebe aus: \"Miau-miau, Miau!\"\n",
        "    else:                                      # ansonsten (Hunger falsch)\n",
        "        print (\"*schnarch*\")                     #        gebe aus: \"schnarch\"\n",
        "\n",
        "katze_hungrig(False)     # Funktion wird mit 'Falsch' aufgerufen (\"*schnarch*\")\n",
        "futtergeruch = True             # futtergeruch wird auf 'Wahr' gesetzt\n",
        "katze_hungrig(futtergeruch)     # Funktion wird mit 'Wahr' aufgerufen (\"Miau-miau, Miau!\")"
      ],
      "execution_count": null,
      "outputs": [
        {
          "output_type": "stream",
          "name": "stdout",
          "text": [
            "*schnarch*\n",
            "Miau-miau, Miau!\n"
          ]
        }
      ]
    },
    {
      "cell_type": "markdown",
      "metadata": {
        "id": "E1sSo26bxFnM"
      },
      "source": [
        "Die Funktion ```katze_hungrig``` nimmt einen Parameter ```hunger``` entgegen. Eine if-Abfrage prüft dann, ob dieser Wert wahr oder falsch ist.\n",
        "\n",
        "Nun wird die Funktion einmal mit dem Wert *falsch* aufgerufen und gibt entsprechend  **schnarch* * aus.\n",
        "\n",
        "Darauf wird die Funktion nochmals mit dem *Wert von ```futtergeruch```* aufgerufen, der *wahr* ist, und es erfolgt die entsprechende Ausgabe für einen wahren Parameter.\n",
        "\n",
        "\n",
        "\n",
        "> Falls euch das noch etwas verwirren sollte:\n",
        ">\n",
        "> Bei *globale & lokale Variablen* wird es nochmals genauer erklärt :-)\n",
        "\n",
        "Natürlich könnt ihr auch andere Werte, wie z.B. Zahlen, übergeben.\n",
        "\n",
        "Hier ein Beispiel für eine Funktion, die solange die Zahl ausgibt und sie abrundend durch 2 teilt, bis die Zahl nicht mehr größer als Null ist."
      ]
    },
    {
      "cell_type": "code",
      "metadata": {
        "colab": {
          "base_uri": "https://localhost:8080/"
        },
        "id": "mtlyfKTq08Vw",
        "outputId": "afd3814b-f8ef-4cc1-ffe2-1afc89d51b38"
      },
      "source": [
        "def binary_division(zahl):      # Funktion binary_division mit Parameter zahl wird angelegt\n",
        "    while(zahl>0):                     # solange Zahl größer Null\n",
        "        print(zahl)                           # gebe Zahl aus\n",
        "        zahl=zahl//2                          # definiere neue Zahl als Ursprungszahl geteilt durch 2 (abgerundet)\n",
        "\n",
        "binary_division(1023)           # Aufrufen der Funktion mit Parameter 1023"
      ],
      "execution_count": null,
      "outputs": [
        {
          "output_type": "stream",
          "name": "stdout",
          "text": [
            "1023\n",
            "511\n",
            "255\n",
            "127\n",
            "63\n",
            "31\n",
            "15\n",
            "7\n",
            "3\n",
            "1\n"
          ]
        }
      ]
    },
    {
      "cell_type": "markdown",
      "metadata": {
        "id": "d5dd6wTctdb1"
      },
      "source": [
        "## Rückgabe\n",
        "\n",
        "Die bisher definierten Funktionen besaßen keine Rückgabewerte, so dass wir lediglich per ```print```-Aufruf gesehen haben, was im Inneren der Funktion mit unseren Variablen passiert. Es gibt jedoch auch die Möglichkeit, mit dem Schlüsselwort ```return``` die Werte von einer oder mehreren Variablen direkt zurückzugeben. Für letzeres reiht man die Rückgaben durch Kommata getrennt hinter ```return``` aneinander; wenn man möchte, kann man sie zusätzlich in runde Klammern setzen.\n",
        "\n",
        "Mit der ```return```-Anweisung endet zudem die Ausführung des Funktionsaufrufs, d.h. weitere Veränderungen an der zurückgegebenen Variable werden nicht beachtet! Fehlt das ```return```-Statement hingegen, wird der komplette Funktionsrumpf durchlaufen und ```None``` \"zurückgegeben\". Das spielt vor allem dann eine Rolle, wenn wir den Aufruf einer neuen Variable zuweisen, die so den Rückgabewert bzw. das Tupel, Tripel usw. der Rückgabewerte erhält."
      ]
    },
    {
      "cell_type": "code",
      "metadata": {
        "id": "ry7BMlGxtd4Z",
        "colab": {
          "base_uri": "https://localhost:8080/"
        },
        "outputId": "88ab14d9-3217-4572-9740-47a6712cff7c"
      },
      "source": [
        "def hello_world_print():\n",
        "    print(\"Hello World!\")\n",
        "\n",
        "def hello_world_return():\n",
        "    return \"Hello World!\"\n",
        "\n",
        "def tupel(a,b):\n",
        "    return a,b          # identisch: return (a,b)\n",
        "\n",
        "def summe(x,y):\n",
        "    return x + y\n",
        "    x = 1000\n",
        "    return x + y\n",
        "\n",
        "# Funktionsaufrufe\n",
        "print(\"Aufrufe\")\n",
        "hello_world_print()     # Aufruf der Funktion ohne Rückgabewert\n",
        "hello_world_return()    # Aufruf der Funktion mit Rückgabewert\n",
        "\n",
        "# Zuweisungen der Aufrufe\n",
        "print(\"Zuweisung\")\n",
        "x = hello_world_print()\n",
        "print(x)                # x wird der Wert None zugewiesen\n",
        "y = hello_world_return()\n",
        "print(y)                # y erhält als Wert den String \"Hello World!\"\n",
        "\n",
        "# Mehrere Rückgabewerte\n",
        "print(tupel(5,7))       # Rückgabe des Tupels (5,7)\n",
        "\n",
        "# Ende des Aufrufs durch return\n",
        "print(summe(2,3))       # Rückgabe des Werts 5, d.h. die Zuweisung für x und das 2. return wurden nicht erreicht!"
      ],
      "execution_count": null,
      "outputs": [
        {
          "output_type": "stream",
          "name": "stdout",
          "text": [
            "Aufrufe\n",
            "Hello World!\n",
            "Zuweisung\n",
            "Hello World!\n",
            "None\n",
            "Hello World!\n",
            "(5, 7)\n",
            "5\n"
          ]
        }
      ]
    },
    {
      "cell_type": "markdown",
      "metadata": {
        "id": "qcf7gGgMh81k"
      },
      "source": [
        "## Beispiele von Funktionen mit bzw. ohne Parameter und Rückgabe\n",
        "\n"
      ]
    },
    {
      "cell_type": "code",
      "metadata": {
        "id": "b1I7BosKiXk6"
      },
      "source": [
        "# ohne Parameter, ohne Rückgabe\n",
        "def hallo():\n",
        "    print(\"Hallo!\")\n",
        "\n",
        "# mit Parameter, ohne Rückgabe\n",
        "def tier_laute(tier):\n",
        "    if tier == \"Katze\":\n",
        "        print(\"miau\")\n",
        "    elif tier == \"Hund\":\n",
        "        print(\"wuff\")\n",
        "    elif tier == \"Elefant\":\n",
        "        print(\"töröö\")\n",
        "    elif tier == \"Frosch\":\n",
        "        print(\"quak\")\n",
        "    else:\n",
        "        print(\"Dieser Laut ist leider nicht bekannt.\")\n",
        "\n",
        "# ohne Parameter, mit Rückgabe\n",
        "def pi_gerundet():\n",
        "    return 3.14159265359\n",
        "\n",
        "# mit Parameter, mit Rückgabe\n",
        "def gauss_summe(n):\n",
        "    return n*(n+1)/2"
      ],
      "execution_count": null,
      "outputs": []
    },
    {
      "cell_type": "markdown",
      "metadata": {
        "id": "Nfe8bHpvthKo"
      },
      "source": [
        "## Lokale vs. Globale Variablen\n",
        "\n",
        "Ihr habt nun die wichtigsten Grundlagen von Funktionen kennengelernt, aber bisher noch nicht so viel anders im Vergleich zu bevor gemacht. Wir wollen uns jetzt aber einmal genauer angucken, wie Variablen funktionieren und speziell wie sie in Funktionen zu handhaben sind.\n",
        "\n",
        "Die erste Frage ist hierbei: **Können wir Variablen verwenden, die wir außerhalb der Funktion definiert haben?**\n",
        "\n",
        "Antwort: **Ja, aber sie muss definiert werden, bevor die Funktion aufgerufen wird.**\n",
        "\n",
        "Beispiel:"
      ]
    },
    {
      "cell_type": "code",
      "metadata": {
        "id": "A7ZN-TZFtl_c",
        "colab": {
          "base_uri": "https://localhost:8080/"
        },
        "outputId": "a94b0a1c-7007-40b0-f1b3-b9477be70584"
      },
      "source": [
        "def f1():\n",
        "  print(v)\n",
        "\n",
        "v = 3\n",
        "f1()"
      ],
      "execution_count": null,
      "outputs": [
        {
          "output_type": "stream",
          "name": "stdout",
          "text": [
            "3\n"
          ]
        }
      ]
    },
    {
      "cell_type": "markdown",
      "metadata": {
        "id": "kod2lm0gq_4i"
      },
      "source": [
        "Die logische nächste Frage ist nun natürlich: **Können wir Variablen außerhalb verwenden, die wir innerhalb der Funktion definiert haben?**\n",
        "\n",
        "Antwort: **Nein.**\n",
        "\n",
        "Beispiel:"
      ]
    },
    {
      "cell_type": "code",
      "metadata": {
        "colab": {
          "base_uri": "https://localhost:8080/",
          "height": 225
        },
        "id": "nc5VTL2UrU0U",
        "outputId": "8c6e45e7-5251-454b-e083-427cdc604a5c"
      },
      "source": [
        "def f2():\n",
        "    w = 5\n",
        "    print(w)\n",
        "\n",
        "f2()\n",
        "print(w)"
      ],
      "execution_count": 6,
      "outputs": [
        {
          "output_type": "stream",
          "name": "stdout",
          "text": [
            "5\n"
          ]
        },
        {
          "output_type": "error",
          "ename": "NameError",
          "evalue": "ignored",
          "traceback": [
            "\u001b[0;31m---------------------------------------------------------------------------\u001b[0m",
            "\u001b[0;31mNameError\u001b[0m                                 Traceback (most recent call last)",
            "\u001b[0;32m<ipython-input-6-4116784f2495>\u001b[0m in \u001b[0;36m<module>\u001b[0;34m()\u001b[0m\n\u001b[1;32m      4\u001b[0m \u001b[0;34m\u001b[0m\u001b[0m\n\u001b[1;32m      5\u001b[0m \u001b[0mf2\u001b[0m\u001b[0;34m(\u001b[0m\u001b[0;34m)\u001b[0m\u001b[0;34m\u001b[0m\u001b[0;34m\u001b[0m\u001b[0m\n\u001b[0;32m----> 6\u001b[0;31m \u001b[0mprint\u001b[0m\u001b[0;34m(\u001b[0m\u001b[0mw\u001b[0m\u001b[0;34m)\u001b[0m\u001b[0;34m\u001b[0m\u001b[0;34m\u001b[0m\u001b[0m\n\u001b[0m",
            "\u001b[0;31mNameError\u001b[0m: name 'w' is not defined"
          ]
        }
      ]
    },
    {
      "cell_type": "markdown",
      "metadata": {
        "id": "-_Xwop8qrmo9"
      },
      "source": [
        "Dies ist der essentielle Unterschied zwischen lokalen und globalen Variablen. In den verwendeten Beispielen ist ```v``` eine **globale** Variable und ```w``` eine **lokale** Variable. \n",
        "\n",
        "Mit einer lokalen Variable können wir innerhalb einer Funktion tun, was wir wollen, es wird nie außerhalb der Funktion geschehen. Wir können unsere lokale Variable sogar wie eine globale benennen, sie beieinflussen sich nicht gegenseitig in dieser Situation."
      ]
    },
    {
      "cell_type": "code",
      "metadata": {
        "colab": {
          "base_uri": "https://localhost:8080/"
        },
        "id": "FHMUeBQVsTIi",
        "outputId": "cef1b902-7a89-4d3a-a44a-9779d94bec3f"
      },
      "source": [
        "def f3():\n",
        "    v = 5\n",
        "    print(v)\n",
        "\n",
        "v = 3\n",
        "f3()\n",
        "print(v)"
      ],
      "execution_count": null,
      "outputs": [
        {
          "output_type": "stream",
          "name": "stdout",
          "text": [
            "5\n",
            "3\n"
          ]
        }
      ]
    },
    {
      "cell_type": "markdown",
      "metadata": {
        "id": "Icxf33M3swAd"
      },
      "source": [
        "Diese lokalen Variablen innerhalb von Funktionen sind essentiell für das Managment von Speicherplatz und auch dafür, dass wir nicht ausversehen eine unserer globalen Variablen überschreiben, weil wir vielleicht die Funktion von jemand anderem aufgerufen haben. Lokale Variablen werden direkt wieder gelöscht, sobald die Funktion fertig mit ihrem Durchlauf ist. \n",
        "\n",
        "Heutzutage haben wir zwar weniger Probleme mit Speicherplatz als in den Anfängen der Programmierung, wo jedes Byte entscheidend war, aber auch heute noch, wollen wir sämtliche globale Variablen aus Funktionen raushalten. Sollte man aus irgendeinem Grund doch eine globale Variable in seiner Funktion wollen, funktioniert dies über ```global```."
      ]
    },
    {
      "cell_type": "code",
      "metadata": {
        "colab": {
          "base_uri": "https://localhost:8080/"
        },
        "id": "XM3QfPUptn6q",
        "outputId": "f4d63714-a898-48c7-af93-c5dec034246c"
      },
      "source": [
        "def f3():\n",
        "    global v\n",
        "    v = 5\n",
        "    print(v)\n",
        "\n",
        "v = 3\n",
        "f3()\n",
        "print(v)"
      ],
      "execution_count": null,
      "outputs": [
        {
          "output_type": "stream",
          "name": "stdout",
          "text": [
            "5\n",
            "5\n"
          ]
        }
      ]
    },
    {
      "cell_type": "markdown",
      "metadata": {
        "id": "0qEuw4SYtw9T"
      },
      "source": [
        "Falls ihr eure Ergebnisse aus Funktionen behalten wollt, verwendet bitte stets ```return``` und niemals ```global```.\n",
        "\n",
        "Eine letzte wichtige Information ist noch, dass eine lokale Variable immer lokal für ihren speziellen Funktionsaufruf ist. Dies macht das Aufrufen von Funktionen innerhalb von Funktionen sehr gut machbar, aber hiermit werdet ihr euch erst nächste Woche ausführlicher beschäftigen."
      ]
    },
    {
      "cell_type": "markdown",
      "metadata": {
        "id": "VxGDgDN3tmVG"
      },
      "source": [
        "## Optionale Parameter\n",
        "Python-Funktionen können Default-Parameter enthalten, die man beim Aufrufen nicht unbedingt mit angeben muss, wenn sie oftmals gleich sind. Wenn man sich beispielsweise die Dokumentation der ```sorted()```-Funktion ansieht, wird man Folgendes finden:\n",
        "\n",
        "```sorted(iterable, key=None, reverse=False)```\n",
        "\n",
        "```iterable``` ist hierbei ein Objekt, das iterierbar ist, wie beispielsweise eine Liste. ```key``` ist eine Funktion, die als Relation dient. Hier haben wir direkt einen Spezialfall ```None``` (also eine \"leere\" Variable). Ist der Übergabeparameter ```None```, so wird die Liste einfach der Größe nach sortiert. ```reverse``` gibt an, ob wir absteigend sortieren möchten. Wie wir in der Dokumentation sehen, ist der Default-Wert ```False```. Standardmäßig wird also aufsteigend sortiert."
      ]
    },
    {
      "cell_type": "code",
      "metadata": {
        "id": "9z8xOvTJtq7-",
        "colab": {
          "base_uri": "https://localhost:8080/"
        },
        "outputId": "4d2b7cb9-714f-497a-a890-c0ccb7edcf02"
      },
      "source": [
        "def plus(a=1, b=2):\n",
        "    ergebnis = a+b\n",
        "    print(str(a) + \" + \" + str(b) +\" = \" + str(ergebnis))\n",
        "    return ergebnis\n",
        "\n",
        "print(plus())\n",
        "print(plus(a=10))\n",
        "print(plus(b=5))\n",
        "print(plus(a=10, b=5))"
      ],
      "execution_count": null,
      "outputs": [
        {
          "output_type": "stream",
          "name": "stdout",
          "text": [
            "1 + 2 = 3\n",
            "3\n",
            "10 + 2 = 12\n",
            "12\n",
            "1 + 5 = 6\n",
            "6\n",
            "10 + 5 = 15\n",
            "15\n"
          ]
        }
      ]
    },
    {
      "cell_type": "markdown",
      "metadata": {
        "id": "b5s9YVLV3yoj"
      },
      "source": [
        "#Übungen"
      ]
    },
    {
      "cell_type": "markdown",
      "metadata": {
        "id": "3hfDoc_M6LR6"
      },
      "source": [
        "##Übung 1\n",
        "\n",
        "Rufe die Funktion ```python``` mit dem Parameter ```\"Hallo\"``` auf."
      ]
    },
    {
      "cell_type": "code",
      "metadata": {
        "id": "iJZOyXJT6d1S"
      },
      "source": [
        "def python(gruß):\n",
        "    if gruß == \"Hallo\":\n",
        "        print (\"Hallo\")\n",
        "        print (\"Selber Hallo!\")\n",
        "\n",
        "#Dein Code folgt ab hier:\n",
        "\n"
      ],
      "execution_count": null,
      "outputs": []
    },
    {
      "cell_type": "markdown",
      "metadata": {
        "id": "Yn8oyBpaeqT-"
      },
      "source": [
        "## Übung 2\n",
        "\n",
        "Definiere eine Funktion ```hallo```, die einen Namen als Parameter erwartet. Sie soll die Begrüßung \"Hallo *Name*!\"  auf der Konsole ausgeben.\n",
        "\n",
        "Teste sie anschließend einmal mit deinem Namen."
      ]
    },
    {
      "cell_type": "code",
      "metadata": {
        "id": "L-p_EyoZmaHv"
      },
      "source": [
        ""
      ],
      "execution_count": null,
      "outputs": []
    },
    {
      "cell_type": "markdown",
      "metadata": {
        "id": "XnKVR2rA32Ce"
      },
      "source": [
        "##Übung 3\n",
        "\n",
        "Erstelle eine Funktion ```mersenne``` mit einer Zahl als *Parameter*.\n",
        "\n",
        "Die Funktion soll erst 2 hoch dem Parameter rechnen, danach 1 abziehen und den enstehenden Wert ausgeben.\n",
        "\n",
        "Rufe deine Funktion mit 11 und 13 auf und prüfe, ob 2047 bzw. 8191 rauskommt.\n",
        "\n",
        "*Tipp*:\n",
        "10**3 = 1000"
      ]
    },
    {
      "cell_type": "code",
      "metadata": {
        "id": "VzVgtVDJ5Vat"
      },
      "source": [
        "#Nachfolgend soll dein Code platziert werden:\n",
        "\n",
        "\n"
      ],
      "execution_count": null,
      "outputs": []
    },
    {
      "cell_type": "markdown",
      "metadata": {
        "id": "ZtkjEPL9mtmq"
      },
      "source": [
        "## Übung 4\n",
        "\n",
        "Definiere eine Funktion ```potenz```, die für die übergebenen Zahlen $x$ und $y$ das Tripel $(x, y, x^y)$ zurückgibt.\n",
        "\n",
        "Rufe sie anschließend mit $x = 5$ und $y = 3$ auf."
      ]
    },
    {
      "cell_type": "code",
      "metadata": {
        "id": "r5Uze9KknhZg"
      },
      "source": [
        ""
      ],
      "execution_count": null,
      "outputs": []
    },
    {
      "cell_type": "markdown",
      "metadata": {
        "id": "-IYX-g13_VbD"
      },
      "source": [
        "## Übung 5\n",
        "Suche nach der <a href=\"https://www.programiz.com/python-programming/methods/built-in/print\">Dokumentation</a> des ```print```-Befehls. Welche optionalen Parameter wurden festgelegt und was machen die?\n",
        "\n",
        "Versuche die Ausgabe der Liste der Zahlen von 0 bis 9\n",
        "\n",
        "1. mit Leerzeichen getrennt und mit Punkt am Ende\n",
        "2. mit Komma getrennt und mit Komma am Ende\n",
        "3. untereinander mit Ausrufezeichen am Ende\n",
        "\n",
        "auszugeben."
      ]
    },
    {
      "cell_type": "code",
      "metadata": {
        "colab": {
          "base_uri": "https://localhost:8080/"
        },
        "id": "HnWIJPQB_UNf",
        "outputId": "d3dc11f1-477f-40bd-9980-d67fc4b7bdfe"
      },
      "source": [
        "# mit Leerzeichen getrennt und mit Punkt am Ende\n",
        "print(*list(range(10)), sep=\"\", end=\"\")\n",
        "print()\n",
        "\n",
        "# mit Komma getrennt und mit Komma am Ende\n",
        "print(*list(range(10)))\n",
        "print()\n",
        "\n",
        "# untereinander mit Ausrufezeichen am Ende\n",
        "print(*list(range(10)))\n",
        "print()"
      ],
      "execution_count": null,
      "outputs": [
        {
          "output_type": "stream",
          "name": "stdout",
          "text": [
            "0 1 2 3 4 5 6 7 8 9.\n",
            "0,1,2,3,4,5,6,7,8,9,\n",
            "0\n",
            "1\n",
            "2\n",
            "3\n",
            "4\n",
            "5\n",
            "6\n",
            "7\n",
            "8\n",
            "9!\n"
          ]
        }
      ]
    }
  ]
}
