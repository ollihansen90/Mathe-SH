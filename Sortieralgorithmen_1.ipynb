{
  "nbformat": 4,
  "nbformat_minor": 0,
  "metadata": {
    "colab": {
      "name": "Sortieralgorithmen_1.ipynb",
      "provenance": [],
      "collapsed_sections": [],
      "authorship_tag": "ABX9TyMFjEXbFnroXIoB8jUiZ31j",
      "include_colab_link": true
    },
    "kernelspec": {
      "name": "python3",
      "display_name": "Python 3"
    },
    "language_info": {
      "name": "python"
    }
  },
  "cells": [
    {
      "cell_type": "markdown",
      "metadata": {
        "id": "view-in-github",
        "colab_type": "text"
      },
      "source": [
        "<a href=\"https://colab.research.google.com/github/ollihansen90/Mathe-SH/blob/main/Sortieralgorithmen_1.ipynb\" target=\"_parent\"><img src=\"https://colab.research.google.com/assets/colab-badge.svg\" alt=\"Open In Colab\"/></a>"
      ]
    },
    {
      "cell_type": "markdown",
      "source": [
        "# Bubblesort"
      ],
      "metadata": {
        "id": "-a6Iik_9d0Yl"
      }
    },
    {
      "cell_type": "code",
      "execution_count": 12,
      "metadata": {
        "colab": {
          "base_uri": "https://localhost:8080/"
        },
        "id": "RT54K_1rcti0",
        "outputId": "1d169a2f-7512-4412-9334-9cae88183c17"
      },
      "outputs": [
        {
          "output_type": "stream",
          "name": "stdout",
          "text": [
            "4\n",
            "2\n",
            "7\n",
            "unsortiert [2, 4, 7, 1]\n",
            "4\n",
            "2\n",
            "7\n"
          ]
        }
      ],
      "source": [
        "unsortiert = [4, 2, 7, 1]\n",
        "print(unsortiert[0])\n",
        "print(unsortiert[1])\n",
        "print(unsortiert[2])\n",
        "\n",
        "temp = unsortiert[0]\n",
        "unsortiert[0] = unsortiert[1]\n",
        "unsortiert[1] = temp\n",
        "print(\"unsortiert\", unsortiert)\n",
        "sortiert = [unsortiert[1], unsortiert[0], unsortiert[2]]\n",
        "\n",
        "print(sortiert[0])\n",
        "print(sortiert[1])\n",
        "print(sortiert[2])\n"
      ]
    },
    {
      "cell_type": "code",
      "source": [
        "def ist_sortiert(liste):\n",
        "    for i in range(len(liste)-1):\n",
        "        if liste[i]>liste[i+1]:\n",
        "            return False\n",
        "    return True"
      ],
      "metadata": {
        "id": "oihSvF0biNB6"
      },
      "execution_count": 30,
      "outputs": []
    },
    {
      "cell_type": "code",
      "source": [
        "unsortiert = [9, 2, 7, 8, 6, 4, 5, 3]\n",
        "unsortiert = list(range(2,10))[::-1]\n",
        "print(ist_sortiert(unsortiert))\n",
        "counter = 0\n",
        "while not ist_sortiert(unsortiert):\n",
        "    print(counter, end=\" \")\n",
        "    counter = counter+1\n",
        "    for i in range(len(unsortiert)-1):\n",
        "        a = unsortiert[i]\n",
        "        b = unsortiert[i+1]\n",
        "        if a>b:\n",
        "            temp = unsortiert[i]\n",
        "            unsortiert[i] = unsortiert[i+1]\n",
        "            unsortiert[i+1] = temp\n",
        "    print(unsortiert)\n"
      ],
      "metadata": {
        "colab": {
          "base_uri": "https://localhost:8080/"
        },
        "id": "zPmYfcjfgahz",
        "outputId": "5b46c763-cb16-4ec0-c12b-799fe4dfdddb"
      },
      "execution_count": 53,
      "outputs": [
        {
          "output_type": "stream",
          "name": "stdout",
          "text": [
            "False\n",
            "0 [8, 7, 6, 5, 4, 3, 2, 9]\n",
            "1 [7, 6, 5, 4, 3, 2, 8, 9]\n",
            "2 [6, 5, 4, 3, 2, 7, 8, 9]\n",
            "3 [5, 4, 3, 2, 6, 7, 8, 9]\n",
            "4 [4, 3, 2, 5, 6, 7, 8, 9]\n",
            "5 [3, 2, 4, 5, 6, 7, 8, 9]\n",
            "6 [2, 3, 4, 5, 6, 7, 8, 9]\n"
          ]
        }
      ]
    },
    {
      "cell_type": "markdown",
      "source": [
        "# Selectionsort"
      ],
      "metadata": {
        "id": "-v5BaVf3j5T8"
      }
    },
    {
      "cell_type": "code",
      "source": [
        "unsortiert = [9, 2, 7, 8, 6, 4, 5, 3]\n",
        "#unsortiert = list(range(2,10))[::-1]\n",
        "\n",
        "def finde_kleinsten(liste):\n",
        "    for j in range(len(liste)):\n",
        "        index = j\n",
        "        wert = liste[index]\n",
        "        kleinster = True\n",
        "        for i in range(len(liste)):\n",
        "            if wert>liste[i]:\n",
        "                kleinster = False\n",
        "        if kleinster:\n",
        "            return index\n",
        "\n",
        "def finde_kleinsten_olli(liste):\n",
        "    index = 0\n",
        "    wert = liste[index]\n",
        "    for i in range(len(liste)):\n",
        "        if wert>liste[i]:\n",
        "            index = i\n",
        "            wert = liste[index]\n",
        "    return index\n",
        "\n",
        "\n",
        "def finde_kleinste(liste):\n",
        "    index = [0]\n",
        "    wert = liste[index[0]]\n",
        "    for i in range(len(liste)):\n",
        "        if wert==liste[i]:\n",
        "            index.append(i)\n",
        "            wert = liste[index[0]]\n",
        "        if wert>liste[i]:\n",
        "            index = [i]\n",
        "            wert = liste[index[0]]\n",
        "    return index\n",
        "\n",
        "#print(finde_kleinsten(unsortiert)) # 1\n",
        "\n",
        "for i in range(len(unsortiert)):\n",
        "    #print(unsortiert[i:])\n",
        "    kleinster = finde_kleinsten(unsortiert[i:])+i\n",
        "    temp = unsortiert[i]\n",
        "    unsortiert[i] = unsortiert[kleinster]\n",
        "    unsortiert[kleinster] = temp\n",
        "    print(i, kleinster, unsortiert)\n",
        "    if ist_sortiert(unsortiert):\n",
        "        break\n"
      ],
      "metadata": {
        "colab": {
          "base_uri": "https://localhost:8080/"
        },
        "id": "wgmQtRdWgZEU",
        "outputId": "d0c9c851-e277-470a-d3cd-286ef19ca86e"
      },
      "execution_count": 54,
      "outputs": [
        {
          "output_type": "stream",
          "name": "stdout",
          "text": [
            "0 1 [2, 9, 7, 8, 6, 4, 5, 3]\n",
            "1 7 [2, 3, 7, 8, 6, 4, 5, 9]\n",
            "2 5 [2, 3, 4, 8, 6, 7, 5, 9]\n",
            "3 6 [2, 3, 4, 5, 6, 7, 8, 9]\n"
          ]
        }
      ]
    }
  ]
}