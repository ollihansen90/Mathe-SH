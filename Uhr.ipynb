{
  "nbformat": 4,
  "nbformat_minor": 0,
  "metadata": {
    "colab": {
      "provenance": [],
      "authorship_tag": "ABX9TyPHwqFWtTpK9hxdq4gzVpIt",
      "include_colab_link": true
    },
    "kernelspec": {
      "name": "python3",
      "display_name": "Python 3"
    },
    "language_info": {
      "name": "python"
    }
  },
  "cells": [
    {
      "cell_type": "markdown",
      "metadata": {
        "id": "view-in-github",
        "colab_type": "text"
      },
      "source": [
        "<a href=\"https://colab.research.google.com/github/ollihansen90/Mathe-SH/blob/main/Uhr.ipynb\" target=\"_parent\"><img src=\"https://colab.research.google.com/assets/colab-badge.svg\" alt=\"Open In Colab\"/></a>"
      ]
    },
    {
      "cell_type": "markdown",
      "source": [
        "# Uhrzeit zeichnen 🕢\n",
        "In diesem Notebook möchten wir gerne die Uhrzeit zeichnen lassen, wie sie auf einer analogen Uhr aussehen würde."
      ],
      "metadata": {
        "id": "ReBlY7vH2-Y4"
      }
    },
    {
      "cell_type": "code",
      "source": [
        "import numpy as np\n",
        "import matplotlib.pyplot as plt\n",
        "import datetime as dt\n",
        "\n",
        "zeit = dt.datetime.now()\n",
        "h = zeit.hour\n",
        "m = zeit.minute\n",
        "\n",
        "print(f\"Es ist {h}:{m} Uhr.\")"
      ],
      "metadata": {
        "colab": {
          "base_uri": "https://localhost:8080/",
          "height": 264
        },
        "id": "duZC6LSv4ROW",
        "outputId": "28c2b496-0da8-49c5-b716-8096bdd2a6cc"
      },
      "execution_count": 18,
      "outputs": [
        {
          "output_type": "display_data",
          "data": {
            "text/plain": [
              "<Figure size 432x288 with 1 Axes>"
            ],
            "image/png": "[encoded data removed]"
          },
          "metadata": {
            "needs_background": "light"
          }
        }
      ]
    },
    {
      "cell_type": "markdown",
      "source": [
        "## Schritt 1: Kreis zeichnen\n",
        "Im ersten Schritt möchten wir einen Kreis zeichnen. Der Trick hier ist, dass wir uns am Einheitskreis orientieren, der den Mittelpunkt in $(0,0)$ und einen Radius von $1$ hat. Jeder Punkt auf der Kreislinie ist also genau eine Längeneinheit vom Ursprung entfernt. Die Punkte selbst lassen sich über einen Winkel definieren.\n",
        "\n",
        "*Hinweis:* Erstelle zunächst eine Liste von Werten zwischen $-\\pi$ und $\\pi$. Nutze ```np.linspace()```, ```np.pi``` (das ist eine Konstante, also keine Klammern), ```np.sin()``` und ```np.cos()```."
      ],
      "metadata": {
        "id": "hfeQRGo93Pvy"
      }
    },
    {
      "cell_type": "code",
      "execution_count": null,
      "metadata": {
        "id": "1Oa_HZwZDSKn"
      },
      "outputs": [],
      "source": [
        "basis = np.linspace(-1,1)\n",
        "kreis = np.array([basis, basis])# np.array([np.sin(...), np.cos(...)])\n",
        "\n",
        "# Hier muss nichts mehr verändert werden\n",
        "# Zeichne \"kreis\" in Schwarz\n",
        "plt.figure()\n",
        "plt.plot(kreis[0], kreis[1], \"k\")\n",
        "plt.axis(\"equal\") # Kreis sieht sonst oval aus\n",
        "plt.axis(\"off\") # Achsen müssen nicht eingezeichnet werden\n",
        "plt.show()"
      ]
    },
    {
      "cell_type": "markdown",
      "source": [
        "## Schritt 2: Linien zeichnen\n",
        "Im zweiten Schritt zeichnen wir zunächst eine Linie vom Ursprung $(0,0)$ zu $(0,1)$. Das entspricht einem Zeiger, der auf die 12 zeigt. Dieser Zeiger soll jetzt um 90° im Uhrzeigersinn gedreht werden! Die ergebene Uhrzeit sollte 3:00 Uhr bzw. 15:00 Uhr entsprechen.\n",
        "\n",
        "Versuche auch andere Uhrzeiten \"per Hand\" einzustellen!\n",
        "\n",
        "*Hinweis:* Auch hier benötigen wir Sinus und Cosinus. 90° entspricht dem Wert $\\frac{\\pi}{2}=1.5708$."
      ],
      "metadata": {
        "id": "Q_wiOZoA4xFp"
      }
    },
    {
      "cell_type": "code",
      "source": [
        "zeiger1 = np.array([0,1])\n",
        "zeiger2 = np.array([-1,0])\n",
        "\n",
        "# Hier muss nichts mehr verändert werden\n",
        "plt.figure()\n",
        "plt.plot(kreis[0], kreis[1], \"k\") # Kreis von eben\n",
        "plt.plot([0, zeiger1[0]], [0, zeiger1[1]])\n",
        "plt.plot([0, zeiger2[0]], [0, zeiger2[1]])\n",
        "plt.axis(\"equal\") # Kreis sieht sonst oval aus\n",
        "plt.axis(\"off\") # Achsen müssen nicht eingezeichnet werden\n",
        "plt.show()"
      ],
      "metadata": {
        "id": "YN2bDCpL4wbq"
      },
      "execution_count": null,
      "outputs": []
    },
    {
      "cell_type": "markdown",
      "source": [
        "## Schritt 3: Ausrichtung für die Uhrzeit berechnen\n",
        "Im dritten Schritt berechnen wir die relative Ausrichtung, den wir für die entsprechende Uhrzeit benötigen. Hierfür wird eine Uhrzeit vorgegeben, für die wir die Ausrichtung der Arme der analogen Uhr bestimmen. \"Relative Ausrichtung\" bedeutet hier\n",
        "\n",
        "*Hinweis:* Auch wenn der Tag 24 Stunden hat, zeigt die Analog-Uhr nur Werte von 1 bis 12 an. Jede Stunde hat 60 Minuten. Jeder Kreis hat einen Umfang von $2\\pi$ Längeneinheiten (Sinus und Kosinus arbeiten hier immer mit dem Umfang).\n",
        "\n",
        "Minute 30 entspricht einer Ausrichtung von $\\pi=3.14159$, Stunde 13 hat die Ausrichtung $\\frac{\\pi}{6}=0.5236$.\n",
        "\n",
        "**Achtung:** Normalerweise ist die Ausrichtung des Stundenzeigers auch abhängig von der Minute, das wollen wir hier aber erstmal ignorieren."
      ],
      "metadata": {
        "id": "VGr7iJiC6Bi7"
      }
    },
    {
      "cell_type": "code",
      "source": [
        "stunde = 13\n",
        "minute = 30\n",
        "\n",
        "stundenzeiger = np.array([0,1])\n",
        "minutenzeiger = np.array([-1,0])\n",
        "\n",
        "# Hier muss nichts mehr verändert werden\n",
        "plt.figure()\n",
        "plt.plot(kreis[0], kreis[1], \"k\")\n",
        "plt.plot([0,minutenzeiger[0]], [0,minutenzeiger[1]])\n",
        "plt.plot([0,stundenzeiger[0]], [0,stundenzeiger[1]])\n",
        "plt.axis(\"equal\")\n",
        "plt.axis(\"off\")\n",
        "plt.show()"
      ],
      "metadata": {
        "id": "tKJI3M5n6UBF"
      },
      "execution_count": null,
      "outputs": []
    },
    {
      "cell_type": "markdown",
      "source": [
        "## Schritt 4: Tatsächliche Uhrzeit\n",
        "Im Folgenden wird die aktuelle Uhrzeit in ```h``` (Stunde) und ```m``` (Minute) gespeichert. Nutze deinen Code von oben, um die Uhrzeit korrekt darzustellen!\n",
        "\n",
        "*Hinweis:* Der Stundenzeiger muss ein kleeeiiines bisschen weitergedreht werden, wenn die Minutenzahl nicht 0 ist. Wie weit muss weitergedreht werden?\n",
        "\n",
        "*Bonus:* Verkürze den Stundenzeiger auf eine Länge von 0.6 und den Minutenzeiger auf eine Länge von 0.9"
      ],
      "metadata": {
        "id": "RNg-Vodu-Ktk"
      }
    },
    {
      "cell_type": "code",
      "source": [
        "import numpy as np\n",
        "import matplotlib.pyplot as plt\n",
        "import datetime as dt\n",
        "\n",
        "zeit = dt.datetime.now()\n",
        "h = zeit.hour\n",
        "m = zeit.minute\n",
        "\n",
        "stundenzeiger = np.array([0,1])\n",
        "minutenzeiger = np.array([-1,0])\n",
        "\n",
        "# Hier muss nichts mehr verändert werden\n",
        "plt.figure()\n",
        "plt.plot(kreis[0], kreis[1], \"k\")\n",
        "plt.plot([0,minutenzeiger[0]], [0,minutenzeiger[1]])\n",
        "plt.plot([0,stundenzeiger[0]], [0,stundenzeiger[1]])\n",
        "plt.axis(\"equal\")\n",
        "plt.axis(\"off\")\n",
        "plt.title(f\"{h}:{m}\")\n",
        "plt.show()"
      ],
      "metadata": {
        "id": "MLEAQRxG-rga"
      },
      "execution_count": null,
      "outputs": []
    },
    {
      "cell_type": "markdown",
      "source": [
        "## Bonus: Zahlen auf die Uhr schreiben\n",
        "Schreibe die Zahlen an ihre entsprechende Stelle. Die 12 soll hierbei oben stehen, im Uhrzeigersinn folgen 1, 2, usw. bis 11.\n",
        "\n",
        "*Hinweis:* Nutze ```plt.text()``` zum Schreiben von Text auf dem Bild. Für zentrierte Texte müssen ```horizontalalignment``` und ```verticalalignment``` jeweils auf \"center\" gesetzt werden (\"Alignment\" bedeutet \"Textausrichtung\", wie es vielleicht von Word bekannt ist)."
      ],
      "metadata": {
        "id": "rKOxqhc8-5Xj"
      }
    },
    {
      "cell_type": "code",
      "source": [],
      "metadata": {
        "id": "4mLb8DmnAst6"
      },
      "execution_count": null,
      "outputs": []
    }
  ]
}