{
  "nbformat": 4,
  "nbformat_minor": 0,
  "metadata": {
    "colab": {
      "provenance": [],
      "authorship_tag": "ABX9TyMaEGAu6vWOcpaVw1xGPQMP",
      "include_colab_link": true
    },
    "kernelspec": {
      "name": "python3",
      "display_name": "Python 3"
    },
    "language_info": {
      "name": "python"
    }
  },
  "cells": [
    {
      "cell_type": "markdown",
      "metadata": {
        "id": "view-in-github",
        "colab_type": "text"
      },
      "source": [
        "<a href=\"https://colab.research.google.com/github/ollihansen90/Mathe-SH/blob/main/Sudoku_231108.ipynb\" target=\"_parent\"><img src=\"https://colab.research.google.com/assets/colab-badge.svg\" alt=\"Open In Colab\"/></a>"
      ]
    },
    {
      "cell_type": "markdown",
      "source": [
        "## Fragen?\n",
        "Solltet ihr Fragen zum Code oder Probleme mit Colab haben, schickt uns gerne eine Mail:\n",
        "\n",
        "*   h.hansen@uni-luebeck.de\n",
        "*   friederike.meissner@student.uni-luebeck.de\n",
        "*   dustin.haschke@student.uni-luebeck.de\n",
        "\n",
        "# Sudoku\n",
        "\n",
        "**Von ChatGPT:** \"Sudoku ist ein Zahlenrätsel, bei dem ein 9x9-Gitter in neun 3x3-Untergrids unterteilt ist. Das Ziel ist es, alle Felder so zu füllen, dass in jeder Zeile, jeder Spalte und jedem Untergrid jede Zahl von 1 bis 9 genau einmal vorkommt. Das Rätsel beginnt mit einigen vorgegebenen Zahlen, und Sie müssen die leeren Felder ausfüllen, indem Sie logische Schlussfolgerungen und Eliminierungen verwenden. Es erfordert keine mathematischen Berechnungen, sondern hauptsächlich logisches Denken und Geduld.\"\n",
        "\n",
        "Diese Zusammenfassung von ChatGPT ist schon ziemlich gut! ChatGPT liefert uns hier keinen Python-Code zum Erstellen und Lösen von Sudokus, aber genau das wollen wir in diesem Notebook machen.\n",
        "\n",
        "Dieses Notebook ist in Unteraufgaben aufgeteilt, mit denen wir schrittweise zunächst ein gelöstes Sudoku einlesen und darstellen, um darauf aufbauend ein ungelöstes Sudoku zu erstellen. Der Algorithmus sollte in der Lage sein, Tausende unterschiedliche Sudokus zu erstellen! Im Anschluss soll ein weiterer Algorithmus entwickelt werden, der das soeben erstellte Sudoku (sowie \"wilde\" Sudokus, wie wir sie in Zeitungen finden) lösen kann.\n",
        "\n",
        "**Achtung:** Es gibt viele verschiedene Varianten von Sudoku! Wir wollen hier nur die klassische Variante behandeln, wie ChatGPT sie oben beschrieben hat.\n",
        "\n",
        "*Hinweis:* Dieses Notebook wird im Laufe der nächsten Woche schrittweise aufgebaut und wird entsprechend aktualisiert. Mit anderen Worten: Wenn das Notebook unvollständig wirkt, ist das genau so gewollt."
      ],
      "metadata": {
        "id": "KGv4a-ikkIPK"
      }
    },
    {
      "cell_type": "markdown",
      "source": [
        "## Aufgabe 1: \"Gelöstes\" Sudoku einlesen (leicht)\n",
        "Im folgenden Codeblock wird ein gelöstes Sudoku vorgegeben. Es handelt sich dabei um einen String mit neun Spalten, in denen jeweils neun Zahlen stehen.\n",
        "\n",
        "Schreibe eine Funktion `sudoku2list()`, die aus dem String mit neun Spalten eine Liste mit neun Strings erstellt! In jedem Listeneintrag soll hinterher also eine Zeile des vorherigen Strings stehen. Die Funktion erhält also ein beliebiges Sudoku als String (hier wäre das `sudoku_string`) und wandelt es in eine Liste von Zeilen um.\n",
        "\n",
        "*Hinweis:* Mit der `split()`-Funktion kannst du Strings auftrennen! Der Zeilenumbruch ist der Character `\\n`."
      ],
      "metadata": {
        "id": "99UZTVqxkWs9"
      }
    },
    {
      "cell_type": "code",
      "source": [
        "sudoku_string = \"\"\"534678912\n",
        "672195348\n",
        "198342567\n",
        "859761423\n",
        "426853791\n",
        "713924856\n",
        "961537284\n",
        "287419635\n",
        "345286179\"\"\"\n",
        "\n",
        "def sudoku2list(text):\n",
        "    return text\n",
        "sudoku = sudoku2list(sudoku_string)"
      ],
      "metadata": {
        "id": "x4l50f67kof9"
      },
      "execution_count": null,
      "outputs": []
    },
    {
      "cell_type": "code",
      "source": [
        "def sudoku2list(text):\n",
        "    return text.split(\"\\n\")\n",
        "sudoku = sudoku2list(sudoku_string)"
      ],
      "metadata": {
        "id": "uylzcl5vtOQz"
      },
      "execution_count": null,
      "outputs": []
    },
    {
      "cell_type": "markdown",
      "source": [
        "## Aufgabe 2: Sudoku plotten (mittelschwer bis schwer)\n",
        "Nun soll das Sudoku ausgegeben werden können! Überlege dir ein sinnvolles Design, wie das Sudoku auf der Konsole aussehen könnte. Im Optimalfall kann man sogar die 3x3-Blöcke erkennen:\n",
        "\n",
        "```\n",
        "+---+---+---+---+---+---+---+---+---+\n",
        "| 5   3   4 | 6   7   8 | 9   1   2 |\n",
        "+   +   +   +   +   +   +   +   +   +\n",
        "| 6   7   2 | 1   9   5 | 3   4   8 |\n",
        "+   +   +   +   +   +   +   +   +   +\n",
        "| 1   9   8 | 3   4   2 | 5   6   7 |\n",
        "+---+---+---+---+---+---+---+---+---+\n",
        "| 8   5   9 | 7   6   1 | 4   2   3 |\n",
        "+   +   +   +   +   +   +   +   +   +\n",
        "| 4   2   6 | 8   5   3 | 7   9   1 |\n",
        "+   +   +   +   +   +   +   +   +   +\n",
        "| 7   1   3 | 9   2   4 | 8   5   6 |\n",
        "+---+---+---+---+---+---+---+---+---+\n",
        "| 9   6   1 | 5   3   7 | 2   8   4 |\n",
        "+   +   +   +   +   +   +   +   +   +\n",
        "| 2   8   7 | 4   1   9 | 6   3   5 |\n",
        "+   +   +   +   +   +   +   +   +   +\n",
        "| 3   4   5 | 2   8   6 | 1   7   9 |\n",
        "+---+---+---+---+---+---+---+---+---+\n",
        "```\n",
        "\n",
        "Schreibe eine Funktion `plotte()`, die die Liste von Zeilen erhält und das Sudoku auf der Konsole ausgibt."
      ],
      "metadata": {
        "id": "2UYpfXIXlbJB"
      }
    },
    {
      "cell_type": "code",
      "source": [
        "def plotte(sudoku):\n",
        "    # Das hier ist nur ein Beispiel\n",
        "    for zeile in sudoku:\n",
        "        z = \"\"\n",
        "        for zeichen in zeile:\n",
        "            z = z+zeichen+\"|\"\n",
        "        print(z)\n",
        "        print(9*\"-+\")\n",
        "\n",
        "plotte(sudoku)"
      ],
      "metadata": {
        "id": "UhP1sOL6mpL-",
        "colab": {
          "base_uri": "https://localhost:8080/"
        },
        "outputId": "143a36d4-cbb9-4268-f644-c74e95f32cf7"
      },
      "execution_count": null,
      "outputs": [
        {
          "output_type": "stream",
          "name": "stdout",
          "text": [
            "5|3|4|6|7|8|9|1|2|\n",
            "-+-+-+-+-+-+-+-+-+\n",
            "6|7|2|1|9|5|3|4|8|\n",
            "-+-+-+-+-+-+-+-+-+\n",
            "1|9|8|3|4|2|5|6|7|\n",
            "-+-+-+-+-+-+-+-+-+\n",
            "8|5|9|7|6|1|4|2|3|\n",
            "-+-+-+-+-+-+-+-+-+\n",
            "4|2|6|8|5|3|7|9|1|\n",
            "-+-+-+-+-+-+-+-+-+\n",
            "7|1|3|9|2|4|8|5|6|\n",
            "-+-+-+-+-+-+-+-+-+\n",
            "9|6|1|5|3|7|2|8|4|\n",
            "-+-+-+-+-+-+-+-+-+\n",
            "2|8|7|4|1|9|6|3|5|\n",
            "-+-+-+-+-+-+-+-+-+\n",
            "3|4|5|2|8|6|1|7|9|\n",
            "-+-+-+-+-+-+-+-+-+\n"
          ]
        }
      ]
    },
    {
      "cell_type": "markdown",
      "source": [
        "Lösung:"
      ],
      "metadata": {
        "id": "-Ug6Mla-LJKH"
      }
    },
    {
      "cell_type": "code",
      "source": [
        "def plotte(sudoku):\n",
        "    # Das hier ist nur ein Beispiel\n",
        "    print(\"+\"+9*\"---+\")\n",
        "    i = 0\n",
        "    for zeile in sudoku:\n",
        "        z = \"| \"\n",
        "        j = 0\n",
        "        for zeichen in zeile:\n",
        "            if j%3==2:\n",
        "                z += zeichen+\" | \"\n",
        "            else:\n",
        "                z = z+zeichen+\"   \"\n",
        "            j += 1\n",
        "        print(z)\n",
        "        #print(\"+\"+18*\"-+\")\n",
        "        #print(\"+\"+9*\"---+\")\n",
        "        if i%3==2:\n",
        "            print(9*\"+---\"+\"+\")\n",
        "        else:\n",
        "            print(9*\"+   \"+\"+\")\n",
        "        i += 1\n",
        "\n",
        "plotte(sudoku)\n"
      ],
      "metadata": {
        "id": "89-qKd6PLB-z",
        "colab": {
          "base_uri": "https://localhost:8080/"
        },
        "outputId": "e286fbec-96a6-4e8c-901b-93c1fcfb2da8"
      },
      "execution_count": null,
      "outputs": [
        {
          "output_type": "stream",
          "name": "stdout",
          "text": [
            "+---+---+---+---+---+---+---+---+---+\n",
            "| 5   3   4 | 6   7   8 | 9   1   2 | \n",
            "+   +   +   +   +   +   +   +   +   +\n",
            "| 6   7   2 | 1   9   5 | 3   4   8 | \n",
            "+   +   +   +   +   +   +   +   +   +\n",
            "| 1   9   8 | 3   4   2 | 5   6   7 | \n",
            "+---+---+---+---+---+---+---+---+---+\n",
            "| 8   5   9 | 7   6   1 | 4   2   3 | \n",
            "+   +   +   +   +   +   +   +   +   +\n",
            "| 4   2   6 | 8   5   3 | 7   9   1 | \n",
            "+   +   +   +   +   +   +   +   +   +\n",
            "| 7   1   3 | 9   2   4 | 8   5   6 | \n",
            "+---+---+---+---+---+---+---+---+---+\n",
            "| 9   6   1 | 5   3   7 | 2   8   4 | \n",
            "+   +   +   +   +   +   +   +   +   +\n",
            "| 2   8   7 | 4   1   9 | 6   3   5 | \n",
            "+   +   +   +   +   +   +   +   +   +\n",
            "| 3   4   5 | 2   8   6 | 1   7   9 | \n",
            "+---+---+---+---+---+---+---+---+---+\n"
          ]
        }
      ]
    },
    {
      "cell_type": "markdown",
      "source": [
        "## Aufgabe 3: Zufällige Einträge löschen (mittelschwer)\n",
        "Nachdem wir nun ein gelöstes Sudoku eingelesen und geplottet haben, soll nun ein Algorithmus entwickelt werden, der zufällige Einträge des Sudokus löscht, damit wir sie selbst errätseln können!\n",
        "\n",
        "### Aufgabe 3.1: Einen bestimmtes Feld löschen (mittelschwer)\n",
        "Schreibe eine Funktion `loesche_wert`, die das Sudoku in Form einer Liste von Zeilen, sowie einen Index erhält. Die Funktion soll ein Sudoku zurückgeben, in dem das Feld genau dieses Indexes leer ist.\n",
        "\n",
        "Wir indizierendas Sudoku, indem wir einfach alle Werte von oben links nach unten rechts durchnummerieren. In der nullten Zeile (ganz oben) stehen also die Indizes 0, 1, 2, 3, 4, 5, 6, 7 und 8, in (beispielsweise) der sechsten Zeile stehen die Indizes 54, 55, 56, 57, 58, 59, 60, 61, und 62. Der Aufruf `loesche_wert(sudoku, 24)` würde also ein Sudoku zurückgeben, in dem in der zweiten Zeile und sechsten Spalte ein leeres Feld ist (wenn man bei 0 anfängt zu zählen).\n"
      ],
      "metadata": {
        "id": "HNDQymI1qNTY"
      }
    },
    {
      "cell_type": "code",
      "source": [
        "def loesche_wert(sudoku, idx):\n",
        "    return sudoku\n",
        "\n",
        "plotte(loesche_wert(sudoku, 0))"
      ],
      "metadata": {
        "id": "tqWpjM2vrT0h",
        "colab": {
          "base_uri": "https://localhost:8080/"
        },
        "outputId": "89b9e627-b51a-4355-bb5c-b46b15d7e736"
      },
      "execution_count": null,
      "outputs": [
        {
          "output_type": "stream",
          "name": "stdout",
          "text": [
            "+---+---+---+---+---+---+---+---+---+\n",
            "| 5   3   4 | 6   7   8 | 9   1   2 | \n",
            "+   +   +   +   +   +   +   +   +   +\n",
            "| 6   7   2 | 1   9   5 | 3   4   8 | \n",
            "+   +   +   +   +   +   +   +   +   +\n",
            "| 1   9   8 | 3   4   2 | 5   6   7 | \n",
            "+---+---+---+---+---+---+---+---+---+\n",
            "| 8   5   9 | 7   6   1 | 4   2   3 | \n",
            "+   +   +   +   +   +   +   +   +   +\n",
            "| 4   2   6 | 8   5   3 | 7   9   1 | \n",
            "+   +   +   +   +   +   +   +   +   +\n",
            "| 7   1   3 | 9   2   4 | 8   5   6 | \n",
            "+---+---+---+---+---+---+---+---+---+\n",
            "| 9   6   1 | 5   3   7 | 2   8   4 | \n",
            "+   +   +   +   +   +   +   +   +   +\n",
            "| 2   8   7 | 4   1   9 | 6   3   5 | \n",
            "+   +   +   +   +   +   +   +   +   +\n",
            "| 3   4   5 | 2   8   6 | 1   7   9 | \n",
            "+---+---+---+---+---+---+---+---+---+\n"
          ]
        }
      ]
    },
    {
      "cell_type": "code",
      "source": [
        "def loesche_wert(sudoku, idx):\n",
        "    s = sudoku.copy()\n",
        "    zeile = idx//9\n",
        "    spalte = idx%9\n",
        "    #print(zahl, zeile, spalte, sudoku[zeile][spalte])\n",
        "    s[zeile] = s[zeile].replace(s[zeile][spalte], \" \")\n",
        "    return s\n",
        "\n",
        "plotte(loesche_wert(sudoku, 24))"
      ],
      "metadata": {
        "id": "sOvitvQbK042",
        "colab": {
          "base_uri": "https://localhost:8080/"
        },
        "outputId": "76a68967-73c9-4bb2-db62-b56fc46a79a9"
      },
      "execution_count": null,
      "outputs": [
        {
          "output_type": "stream",
          "name": "stdout",
          "text": [
            "+---+---+---+---+---+---+---+---+---+\n",
            "| 5   3   4 | 6   7   8 | 9   1   2 | \n",
            "+   +   +   +   +   +   +   +   +   +\n",
            "| 6   7   2 | 1   9   5 | 3   4   8 | \n",
            "+   +   +   +   +   +   +   +   +   +\n",
            "| 1   9   8 | 3   4   2 |     6   7 | \n",
            "+---+---+---+---+---+---+---+---+---+\n",
            "| 8   5   9 | 7   6   1 | 4   2   3 | \n",
            "+   +   +   +   +   +   +   +   +   +\n",
            "| 4   2   6 | 8   5   3 | 7   9   1 | \n",
            "+   +   +   +   +   +   +   +   +   +\n",
            "| 7   1   3 | 9   2   4 | 8   5   6 | \n",
            "+---+---+---+---+---+---+---+---+---+\n",
            "| 9   6   1 | 5   3   7 | 2   8   4 | \n",
            "+   +   +   +   +   +   +   +   +   +\n",
            "| 2   8   7 | 4   1   9 | 6   3   5 | \n",
            "+   +   +   +   +   +   +   +   +   +\n",
            "| 3   4   5 | 2   8   6 | 1   7   9 | \n",
            "+---+---+---+---+---+---+---+---+---+\n"
          ]
        }
      ]
    },
    {
      "cell_type": "markdown",
      "source": [
        "### Aufgabe 3.2: Liste mit Indizes erstellen\n",
        "Im Folgenden möchten wir zufällige Felder leeren. Ziel ist es, dass wir eine Funktion haben, der wir ein gelöstes Sudoku und eine Anzahl zu löschender Felder übergeben und zufällig Felder fehlen. Damit wir keine Felder \"doppelt\" leeren, brauchen wir zunächst eine Funktion, die eine Liste von Indizes erstellt, in der kein Index doppelt vorkommt.\n",
        "\n",
        "Schreibe eine Funktion `generiere_indizes()`, die eine Anzahl `n` erhält und eine Liste von `n` unterschiedlichen Zahlen zwischen 0 und 80 zurückgibt.\n",
        "\n",
        "*Hinweis:* Mit dem Package `random` kannst du Zufallszahlen generieren!"
      ],
      "metadata": {
        "id": "jOyYJjnQJ761"
      }
    },
    {
      "cell_type": "code",
      "source": [
        "from random import randint, shuffle\n",
        "\n",
        "def generiere_indizes(n=10, minwert=0, maxwert=80):\n",
        "    assert minwert<maxwert, \"minwert muss kleiner als maxwert sein\"\n",
        "    out = []\n",
        "    # Schritt 1: Erstelle eine Liste mit den Werten von minwert bis maxwert\n",
        "    liste = list(range(minwert, maxwert+1))\n",
        "    #shuffle(liste)\n",
        "    #out = liste[:n]\n",
        "\n",
        "    for i in range(n):\n",
        "        # Schritt 2: Ziehe eine Zufallszahl z von 0 bis len(liste)\n",
        "        z = randint(0, len(liste)-1-i)\n",
        "        # Schritt 3: Speichere liste[z] in out\n",
        "        out.append(liste[z])\n",
        "        # Schritt 4: Überschreibe liste[z] mit liste[-1]\n",
        "        liste[z] = liste[-1-i]\n",
        "        #print(liste)\n",
        "        # Schritt 5: Wiederhole 2 und 3 und 4 (dieses Mal mit z von 0 bis len(liste)-i) n mal\n",
        "    return out\n",
        "\n",
        "print(generiere_indizes(9,0,80))"
      ],
      "metadata": {
        "id": "kc3juxDcMQa4",
        "colab": {
          "base_uri": "https://localhost:8080/"
        },
        "outputId": "ec22496a-bb6d-4618-cd42-73474d739822"
      },
      "execution_count": null,
      "outputs": [
        {
          "output_type": "stream",
          "name": "stdout",
          "text": [
            "[45, 67, 42, 12, 16, 3, 18, 69, 76]\n"
          ]
        }
      ]
    },
    {
      "cell_type": "markdown",
      "source": [
        "### Aufgabe 3.3: Generiere geleertes Sudoku\n",
        "Zum Abschluss benötigen wir nur noch eine Funktion `loesche_werte()`, die eine bestimmte Anzahl zufälliger Felder löscht.\n",
        "\n",
        "Schreibe eine Funktion `loesche_werte`, die ein Sudoku und eine Anzahl `n` erhält. Die Funktion soll zunächst eine Liste von `n` Indizes erstellen (hierfür kannst du die Funktion aus 3.2 nutzen) und die entsprechenden Felder leeren (hierfür brauchst du die Funktion aus 3.1)."
      ],
      "metadata": {
        "id": "sOSOcJQtNn4P"
      }
    },
    {
      "cell_type": "code",
      "source": [
        "def loesche_werte(sudoku, n=40):\n",
        "    s = sudoku.copy()\n",
        "    # Schritt 1: Generiere n Indizes von 0 bis 80\n",
        "    indizes = generiere_indizes(n, 0, 80)\n",
        "    #print(indizes)\n",
        "    # Schritt 2: Für jeden Index in der Liste rufe loesche_wert auf\n",
        "    for idx in indizes:\n",
        "        s = loesche_wert(s, idx)\n",
        "    return s\n",
        "\n",
        "plotte(loesche_werte(sudoku))"
      ],
      "metadata": {
        "id": "jFqJqc1hQIxi",
        "colab": {
          "base_uri": "https://localhost:8080/"
        },
        "outputId": "e1ad8855-4b04-4bf5-d7db-15072492dfed"
      },
      "execution_count": null,
      "outputs": [
        {
          "output_type": "stream",
          "name": "stdout",
          "text": [
            "+---+---+---+---+---+---+---+---+---+\n",
            "| 5   3     |         8 | 9   1     | \n",
            "+   +   +   +   +   +   +   +   +   +\n",
            "|     7   2 |     9   5 | 3       8 | \n",
            "+   +   +   +   +   +   +   +   +   +\n",
            "|         8 |         2 | 5         | \n",
            "+---+---+---+---+---+---+---+---+---+\n",
            "|           | 7       1 | 4       3 | \n",
            "+   +   +   +   +   +   +   +   +   +\n",
            "|     2   6 | 8   5   3 |     9     | \n",
            "+   +   +   +   +   +   +   +   +   +\n",
            "|         3 | 9         |           | \n",
            "+---+---+---+---+---+---+---+---+---+\n",
            "| 9       1 | 5   3     | 2   8     | \n",
            "+   +   +   +   +   +   +   +   +   +\n",
            "|         7 |     1     | 6   3     | \n",
            "+   +   +   +   +   +   +   +   +   +\n",
            "|     4   5 | 2       6 | 1         | \n",
            "+---+---+---+---+---+---+---+---+---+\n"
          ]
        }
      ]
    },
    {
      "cell_type": "markdown",
      "source": [
        "## Aufgabe 4: Zahlen tauschen (mittelschwer bis schwer)\n",
        "Wenn du Aufgabe 3 lösen konntest, haben wir jetzt einen Generator für Sudokus entwickelt! Jedes der Sudokus ist lösbar (das heißt, es gibt eine Lösung, sie muss allerdings nicht eindeutig sein), sodass wir jetzt ein Buch mit Sudokus erstellen könnten.\n",
        "\n",
        "Leider sind die Sudokus immer alle gleich... Wir stellen schnell fest, dass oben links immer eine 5 steht, unten rechts ist immer eine 9 und so weiter. Sobald wir das Sudoku ein mal gelöst haben, haben wir also direkt eine Lösung für unser ganzes Rätselbuch.\n",
        "\n",
        "Dieses Problem können wir umgehen, indem wir einfach zufällige Einträge tauschen! Wir tauschen beispielsweise alle Einsen mit Fünfen und alle Siebenen mit Zweien. Schon haben wir einen Sudoku-Generator, der (auf den ersten Blick) tausende Sudokus produzieren kann!\n",
        "\n",
        "Schreibe eine Funktion `tausche_werte`, der ein Sudoku als Liste von Zeilen erhält und dieses dann zufällig durchtauscht. Achte dabei dringend darauf, dass immer **alle** Einsen mit Neuen getauscht werden (zum Beispiel).\n",
        "\n",
        "*Hinweis:* Die Funktion `replace()` kann in einem String zwei Zeichen tauschen. Auch hier solltest du wieder mit dem `random`-Package arbeiten."
      ],
      "metadata": {
        "id": "NGrS4mJtr_NI"
      }
    },
    {
      "cell_type": "code",
      "source": [
        "def tausche_werte(sudoku):\n",
        "    s = sudoku.copy()\n",
        "    indizes = generiere_indizes(9,1,9)\n",
        "    #print(indizes)\n",
        "    temp = indizes[0]\n",
        "    for i in range(len(s)):\n",
        "        s[i] = s[i].replace(str(temp), \"x\")\n",
        "\n",
        "    for j in range(1, 9):\n",
        "        erster = indizes[j]\n",
        "        nullter = indizes[j-1]\n",
        "        for i in range(len(s)):\n",
        "            s[i] = s[i].replace(str(erster), str(nullter))\n",
        "\n",
        "    for i in range(len(s)):\n",
        "        s[i] = s[i].replace(\"x\", str(indizes[-1]))\n",
        "    return s\n",
        "\n",
        "plotte(sudoku)\n",
        "plotte(tausche_werte(sudoku))"
      ],
      "metadata": {
        "id": "gw-laSCgtpEx",
        "colab": {
          "base_uri": "https://localhost:8080/"
        },
        "outputId": "51fcf4d6-f35a-4198-e8df-292a32f903ea"
      },
      "execution_count": null,
      "outputs": [
        {
          "output_type": "stream",
          "name": "stdout",
          "text": [
            "+---+---+---+---+---+---+---+---+---+\n",
            "| 5   3   4 | 6   7   8 | 9   1   2 | \n",
            "+   +   +   +   +   +   +   +   +   +\n",
            "| 6   7   2 | 1   9   5 | 3   4   8 | \n",
            "+   +   +   +   +   +   +   +   +   +\n",
            "| 1   9   8 | 3   4   2 | 5   6   7 | \n",
            "+---+---+---+---+---+---+---+---+---+\n",
            "| 8   5   9 | 7   6   1 | 4   2   3 | \n",
            "+   +   +   +   +   +   +   +   +   +\n",
            "| 4   2   6 | 8   5   3 | 7   9   1 | \n",
            "+   +   +   +   +   +   +   +   +   +\n",
            "| 7   1   3 | 9   2   4 | 8   5   6 | \n",
            "+---+---+---+---+---+---+---+---+---+\n",
            "| 9   6   1 | 5   3   7 | 2   8   4 | \n",
            "+   +   +   +   +   +   +   +   +   +\n",
            "| 2   8   7 | 4   1   9 | 6   3   5 | \n",
            "+   +   +   +   +   +   +   +   +   +\n",
            "| 3   4   5 | 2   8   6 | 1   7   9 | \n",
            "+---+---+---+---+---+---+---+---+---+\n",
            "+---+---+---+---+---+---+---+---+---+\n",
            "| 2   5   6 | 7   9   1 | 8   3   4 | \n",
            "+   +   +   +   +   +   +   +   +   +\n",
            "| 7   9   4 | 3   8   2 | 5   6   1 | \n",
            "+   +   +   +   +   +   +   +   +   +\n",
            "| 3   8   1 | 5   6   4 | 2   7   9 | \n",
            "+---+---+---+---+---+---+---+---+---+\n",
            "| 1   2   8 | 9   7   3 | 6   4   5 | \n",
            "+   +   +   +   +   +   +   +   +   +\n",
            "| 6   4   7 | 1   2   5 | 9   8   3 | \n",
            "+   +   +   +   +   +   +   +   +   +\n",
            "| 9   3   5 | 8   4   6 | 1   2   7 | \n",
            "+---+---+---+---+---+---+---+---+---+\n",
            "| 8   7   3 | 2   5   9 | 4   1   6 | \n",
            "+   +   +   +   +   +   +   +   +   +\n",
            "| 4   1   9 | 6   3   8 | 7   5   2 | \n",
            "+   +   +   +   +   +   +   +   +   +\n",
            "| 5   6   2 | 4   1   7 | 3   9   8 | \n",
            "+---+---+---+---+---+---+---+---+---+\n"
          ]
        }
      ]
    },
    {
      "cell_type": "markdown",
      "source": [
        "## Aufgabe 5: Zeilen und Spalten tauschen (mittelschwer bis schwer)\n",
        "Es ist soweit! Wir haben FAST einen guten Generator für Sudokus gebaut, der wahnsinnig viele Sudokus erstellen kann!\n",
        "\n",
        "Es gibt nur noch ein ganz fatales Problem: Aktuell haben alle Sudokus dasselbe \"Muster\". Stellen wir uns vor, wir haben ein Sudoku generier, in dem alle Fünfen durch Vieren ausgetauscht wurden. Oben links steht nun also eine 4 im Sudoku. Jetzt wissen wir aber genau, wo die anderen Vieren stehen müssen! Nämlich beispielsweise in Zeile 1 und Spalte 5 (wenn wir bei 0 anfangen zu zählen) oder in Zeile 3 und Spalte 1. Das wird leider sehr schnell sehr langsam, da die größte Herausforderung wäre, ein Mal alle Muster auswendig zu lernen.\n",
        "\n",
        "Der Trick ist nun also, dass wir jeweils Zeilen und Spalten tauschen, ohne dass das Sudoku weiterhin lösbar ist.\n",
        "\n",
        "### Aufgabe 5.1: Das Sudoku transponieren\n",
        "In dieser Teilaufgabe möchten wir das Sudoku *transponieren*. \"Transponieren\" heißt, dass wir das Sudoku an der Hauptachse (von oben links nach unten rechts) spiegeln. Hinterher sind einfach alle Zeilen und Spalten vertauscht!\n",
        "\n",
        "Beispiel: Stellen wir uns vor, wir haben eine 3x3-Matrix\n",
        "```\n",
        "|a b c|\n",
        "|d e f|\n",
        "|g h i|\n",
        "```\n",
        "Transponiert sieht diese Matrix jetzt so aus:\n",
        "```\n",
        "|a d g|\n",
        "|b e h|\n",
        "|c f i|\n",
        "```\n",
        "Wir lesen die die Matrix jetzt also quasi nicht mehr von zeilenweise von links nach rechts, sondern spaltenweise von oben nach unten!\n",
        "\n",
        "Schreibe eine Funktion `transponiere`, die ein Sudoku erhält und das transponierte Sudoku zurückgibt.\n",
        "\n",
        "*Hinweis*: Möglicherweise kannst du hier clever mit der `zip`-Funktion umgehen!"
      ],
      "metadata": {
        "id": "I3WcDPcmWvvr"
      }
    },
    {
      "cell_type": "code",
      "source": [
        "def transponiere(sudoku):\n",
        "    s = sudoku.copy()\n",
        "    out = []\n",
        "    for j in range(9):\n",
        "        zeilentext = \"\"\n",
        "        for i in range(9):\n",
        "            zeilentext+= s[i][j]\n",
        "        out.append(zeilentext)\n",
        "    return out\n",
        "\n",
        "def transponiere_zip(sudoku):\n",
        "    s = sudoku.copy()\n",
        "    out = []\n",
        "    for spalte in zip(*s):\n",
        "        out.append(\"\".join(spalte))\n",
        "    return out\n",
        "\n",
        "def transponiere_zip2(sudoku):\n",
        "    out = zip(*sudoku)\n",
        "    return list(out)\n",
        "\n",
        "plotte(sudoku)\n",
        "#plotte(transponiere(sudoku))\n",
        "print(transponiere_zip2(sudoku))\n"
      ],
      "metadata": {
        "id": "xSb9ZV86Zljx",
        "colab": {
          "base_uri": "https://localhost:8080/"
        },
        "outputId": "4644989f-6b07-4910-8b79-3b5954d763c2"
      },
      "execution_count": null,
      "outputs": [
        {
          "output_type": "stream",
          "name": "stdout",
          "text": [
            "+---+---+---+---+---+---+---+---+---+\n",
            "| 5   3   4 | 6   7   8 | 9   1   2 | \n",
            "+   +   +   +   +   +   +   +   +   +\n",
            "| 6   7   2 | 1   9   5 | 3   4   8 | \n",
            "+   +   +   +   +   +   +   +   +   +\n",
            "| 1   9   8 | 3   4   2 | 5   6   7 | \n",
            "+---+---+---+---+---+---+---+---+---+\n",
            "| 8   5   9 | 7   6   1 | 4   2   3 | \n",
            "+   +   +   +   +   +   +   +   +   +\n",
            "| 4   2   6 | 8   5   3 | 7   9   1 | \n",
            "+   +   +   +   +   +   +   +   +   +\n",
            "| 7   1   3 | 9   2   4 | 8   5   6 | \n",
            "+---+---+---+---+---+---+---+---+---+\n",
            "| 9   6   1 | 5   3   7 | 2   8   4 | \n",
            "+   +   +   +   +   +   +   +   +   +\n",
            "| 2   8   7 | 4   1   9 | 6   3   5 | \n",
            "+   +   +   +   +   +   +   +   +   +\n",
            "| 3   4   5 | 2   8   6 | 1   7   9 | \n",
            "+---+---+---+---+---+---+---+---+---+\n",
            "[('5', '6', '1', '8', '4', '7', '9', '2', '3'), ('3', '7', '9', '5', '2', '1', '6', '8', '4'), ('4', '2', '8', '9', '6', '3', '1', '7', '5'), ('6', '1', '3', '7', '8', '9', '5', '4', '2'), ('7', '9', '4', '6', '5', '2', '3', '1', '8'), ('8', '5', '2', '1', '3', '4', '7', '9', '6'), ('9', '3', '5', '4', '7', '8', '2', '6', '1'), ('1', '4', '6', '2', '9', '5', '8', '3', '7'), ('2', '8', '7', '3', '1', '6', '4', '5', '9')]\n"
          ]
        }
      ]
    },
    {
      "cell_type": "markdown",
      "source": [
        "### Aufgabe 5.2: Zeilen tauschen\n",
        "Schreibe eine Funktion `tausche_zeilen`, die eine Sudoku `sudoku`, sowie zwei Indizes `idx1` und `idx2` erhält und diese beiden Zeilen entsprechend tauscht."
      ],
      "metadata": {
        "id": "pSa4ptNSvl_0"
      }
    },
    {
      "cell_type": "code",
      "source": [
        "def tausche_zeilen(sudoku, idx1, idx2):\n",
        "    s = sudoku.copy()\n",
        "    temp = s[idx1]\n",
        "    s[idx1] = s[idx2]\n",
        "    s[idx2] = temp\n",
        "    return s\n",
        "\n",
        "plotte(sudoku)\n",
        "plotte(tausche_zeilen(sudoku, 0,3))"
      ],
      "metadata": {
        "id": "d4LZwJ64vo92",
        "colab": {
          "base_uri": "https://localhost:8080/"
        },
        "outputId": "88647b95-1616-4c52-8a4d-59ed3dbd2b12"
      },
      "execution_count": null,
      "outputs": [
        {
          "output_type": "stream",
          "name": "stdout",
          "text": [
            "+---+---+---+---+---+---+---+---+---+\n",
            "| 5   3   4 | 6   7   8 | 9   1   2 | \n",
            "+   +   +   +   +   +   +   +   +   +\n",
            "| 6   7   2 | 1   9   5 | 3   4   8 | \n",
            "+   +   +   +   +   +   +   +   +   +\n",
            "| 1   9   8 | 3   4   2 | 5   6   7 | \n",
            "+---+---+---+---+---+---+---+---+---+\n",
            "| 8   5   9 | 7   6   1 | 4   2   3 | \n",
            "+   +   +   +   +   +   +   +   +   +\n",
            "| 4   2   6 | 8   5   3 | 7   9   1 | \n",
            "+   +   +   +   +   +   +   +   +   +\n",
            "| 7   1   3 | 9   2   4 | 8   5   6 | \n",
            "+---+---+---+---+---+---+---+---+---+\n",
            "| 9   6   1 | 5   3   7 | 2   8   4 | \n",
            "+   +   +   +   +   +   +   +   +   +\n",
            "| 2   8   7 | 4   1   9 | 6   3   5 | \n",
            "+   +   +   +   +   +   +   +   +   +\n",
            "| 3   4   5 | 2   8   6 | 1   7   9 | \n",
            "+---+---+---+---+---+---+---+---+---+\n",
            "+---+---+---+---+---+---+---+---+---+\n",
            "| 8   5   9 | 7   6   1 | 4   2   3 | \n",
            "+   +   +   +   +   +   +   +   +   +\n",
            "| 6   7   2 | 1   9   5 | 3   4   8 | \n",
            "+   +   +   +   +   +   +   +   +   +\n",
            "| 1   9   8 | 3   4   2 | 5   6   7 | \n",
            "+---+---+---+---+---+---+---+---+---+\n",
            "| 5   3   4 | 6   7   8 | 9   1   2 | \n",
            "+   +   +   +   +   +   +   +   +   +\n",
            "| 4   2   6 | 8   5   3 | 7   9   1 | \n",
            "+   +   +   +   +   +   +   +   +   +\n",
            "| 7   1   3 | 9   2   4 | 8   5   6 | \n",
            "+---+---+---+---+---+---+---+---+---+\n",
            "| 9   6   1 | 5   3   7 | 2   8   4 | \n",
            "+   +   +   +   +   +   +   +   +   +\n",
            "| 2   8   7 | 4   1   9 | 6   3   5 | \n",
            "+   +   +   +   +   +   +   +   +   +\n",
            "| 3   4   5 | 2   8   6 | 1   7   9 | \n",
            "+---+---+---+---+---+---+---+---+---+\n"
          ]
        }
      ]
    },
    {
      "cell_type": "markdown",
      "source": [
        "### Aufgabe 5.3: Spalten tauschen\n",
        "Schreibe eine Funktion `tausche_spalten`, die ein Sudoku `sudoku`, sowie zwei Indizes `idx1` und `idx2` erhält und entsprechend die Spalten tauscht.\n",
        "\n",
        "*Hinweis*: Zum Tauschen von Spalten können die Funktionen `transponiere` und `tausche_zeilen` genutzt werden!"
      ],
      "metadata": {
        "id": "f-7fKH2XvswV"
      }
    },
    {
      "cell_type": "code",
      "source": [
        "def tausche_spalten(sudoku, idx1, idx2):\n",
        "    out = sudoku.copy()\n",
        "    out = transponiere(out)\n",
        "    out = tausche_zeilen(out, idx1, idx2)\n",
        "    out = transponiere(out)\n",
        "    return out\n",
        "\n",
        "plotte(sudoku)\n",
        "plotte(tausche_spalten(sudoku, 0, 1))"
      ],
      "metadata": {
        "id": "T9Op79uyvuwp",
        "colab": {
          "base_uri": "https://localhost:8080/"
        },
        "outputId": "b5d438b6-1c57-4332-d6d6-0e274a3d20d8"
      },
      "execution_count": null,
      "outputs": [
        {
          "output_type": "stream",
          "name": "stdout",
          "text": [
            "+---+---+---+---+---+---+---+---+---+\n",
            "| 5   3   4 | 6   7   8 | 9   1   2 | \n",
            "+   +   +   +   +   +   +   +   +   +\n",
            "| 6   7   2 | 1   9   5 | 3   4   8 | \n",
            "+   +   +   +   +   +   +   +   +   +\n",
            "| 1   9   8 | 3   4   2 | 5   6   7 | \n",
            "+---+---+---+---+---+---+---+---+---+\n",
            "| 8   5   9 | 7   6   1 | 4   2   3 | \n",
            "+   +   +   +   +   +   +   +   +   +\n",
            "| 4   2   6 | 8   5   3 | 7   9   1 | \n",
            "+   +   +   +   +   +   +   +   +   +\n",
            "| 7   1   3 | 9   2   4 | 8   5   6 | \n",
            "+---+---+---+---+---+---+---+---+---+\n",
            "| 9   6   1 | 5   3   7 | 2   8   4 | \n",
            "+   +   +   +   +   +   +   +   +   +\n",
            "| 2   8   7 | 4   1   9 | 6   3   5 | \n",
            "+   +   +   +   +   +   +   +   +   +\n",
            "| 3   4   5 | 2   8   6 | 1   7   9 | \n",
            "+---+---+---+---+---+---+---+---+---+\n",
            "+---+---+---+---+---+---+---+---+---+\n",
            "| 3   5   4 | 6   7   8 | 9   1   2 | \n",
            "+   +   +   +   +   +   +   +   +   +\n",
            "| 7   6   2 | 1   9   5 | 3   4   8 | \n",
            "+   +   +   +   +   +   +   +   +   +\n",
            "| 9   1   8 | 3   4   2 | 5   6   7 | \n",
            "+---+---+---+---+---+---+---+---+---+\n",
            "| 5   8   9 | 7   6   1 | 4   2   3 | \n",
            "+   +   +   +   +   +   +   +   +   +\n",
            "| 2   4   6 | 8   5   3 | 7   9   1 | \n",
            "+   +   +   +   +   +   +   +   +   +\n",
            "| 1   7   3 | 9   2   4 | 8   5   6 | \n",
            "+---+---+---+---+---+---+---+---+---+\n",
            "| 6   9   1 | 5   3   7 | 2   8   4 | \n",
            "+   +   +   +   +   +   +   +   +   +\n",
            "| 8   2   7 | 4   1   9 | 6   3   5 | \n",
            "+   +   +   +   +   +   +   +   +   +\n",
            "| 4   3   5 | 2   8   6 | 1   7   9 | \n",
            "+---+---+---+---+---+---+---+---+---+\n"
          ]
        }
      ]
    },
    {
      "cell_type": "markdown",
      "source": [
        "### Aufgabe 5.4: Erlaubte Zeilen/Spalten tauschen (schwer)\n",
        "Offensichtlich können wir nicht einfach wild Zeilen und Spalten tauschen, wie wir wollen, da andernfalls das Sudoku nicht mehr lösbar ist! Tausche beispielsweise die erste und die letzte Spalte: Im Block oben links befinden sich nun zwei Zweien, zwei Siebenen und zwei Achten. Das Sudoku ist jetzt also nicht mehr korrekt gelöst!\n",
        "\n",
        "Glücklicherweise gibt es eine ganz einfache Regel, mit der wir Zeilen und Spalten tauschen können, ohne dass das Sudoku \"kaputt geht\": Wir dürfen immer nur innerhalb eines Dreierblockes tauschen. Mit anderen Worten: Zeilen/Spalten 0, 1 und 2, sowie 3, 4 und 5, sowie 6, 7 und 8 dürfen wir untereinander tauschen.\n",
        "\n",
        "Schreibe eine Funktion `tausche_erlaubte_zeilen`, die das Sudoku `sudoku`, sowie einen Index `idx` erhält. `idx` soll angeben, in welchem Block wir tauschen möchten. Alle drei Zeilen sollen wild durcheinandergetauscht (permutiert) werden.\n",
        "\n",
        "Schreibe außerdem eine Funktion `tausche_erlaubte_spalten`, die genau das gleiche für Spalten macht!\n",
        "\n",
        "*Hinweis*: Nutze die Funktion `generiere_indizes` aus Aufgabe 3.2, um eine Liste mit Indizes zu erhalten!"
      ],
      "metadata": {
        "id": "EqTJaqRmlHth"
      }
    },
    {
      "cell_type": "code",
      "source": [
        "def tausche_erlaubte_zeilen(sudoku, idx):\n",
        "    s = sudoku.copy()\n",
        "    out = []\n",
        "    idc = generiere_indizes(3, idx*3+0, idx*3+2) #*3\n",
        "    #print(idc)\n",
        "    for i in range(len(s)):\n",
        "        if i in idc:\n",
        "            out.append(s[idc[i%3]])\n",
        "        else:\n",
        "            out.append(s[i])\n",
        "    return out\n",
        "\n",
        "def tausche_erlaubte_spalten(sudoku, idx):\n",
        "    out = sudoku.copy()\n",
        "    out = transponiere(out)\n",
        "    out = tausche_erlaubte_zeilen(out, idx)\n",
        "    out = transponiere(out)\n",
        "    return out\n",
        "\n",
        "plotte(sudoku)\n",
        "plotte(tausche_erlaubte_zeilen(sudoku, 2))\n",
        "plotte(tausche_erlaubte_spalten(sudoku, 2))"
      ],
      "metadata": {
        "id": "PzV4cHIPm14N",
        "colab": {
          "base_uri": "https://localhost:8080/"
        },
        "outputId": "c9c13a46-20b8-429c-dfbf-b870bfc56e77"
      },
      "execution_count": null,
      "outputs": [
        {
          "output_type": "stream",
          "name": "stdout",
          "text": [
            "+---+---+---+---+---+---+---+---+---+\n",
            "| 5   3   4 | 6   7   8 | 9   1   2 | \n",
            "+   +   +   +   +   +   +   +   +   +\n",
            "| 6   7   2 | 1   9   5 | 3   4   8 | \n",
            "+   +   +   +   +   +   +   +   +   +\n",
            "| 1   9   8 | 3   4   2 | 5   6   7 | \n",
            "+---+---+---+---+---+---+---+---+---+\n",
            "| 8   5   9 | 7   6   1 | 4   2   3 | \n",
            "+   +   +   +   +   +   +   +   +   +\n",
            "| 4   2   6 | 8   5   3 | 7   9   1 | \n",
            "+   +   +   +   +   +   +   +   +   +\n",
            "| 7   1   3 | 9   2   4 | 8   5   6 | \n",
            "+---+---+---+---+---+---+---+---+---+\n",
            "| 9   6   1 | 5   3   7 | 2   8   4 | \n",
            "+   +   +   +   +   +   +   +   +   +\n",
            "| 2   8   7 | 4   1   9 | 6   3   5 | \n",
            "+   +   +   +   +   +   +   +   +   +\n",
            "| 3   4   5 | 2   8   6 | 1   7   9 | \n",
            "+---+---+---+---+---+---+---+---+---+\n",
            "+---+---+---+---+---+---+---+---+---+\n",
            "| 5   3   4 | 6   7   8 | 9   1   2 | \n",
            "+   +   +   +   +   +   +   +   +   +\n",
            "| 6   7   2 | 1   9   5 | 3   4   8 | \n",
            "+   +   +   +   +   +   +   +   +   +\n",
            "| 1   9   8 | 3   4   2 | 5   6   7 | \n",
            "+---+---+---+---+---+---+---+---+---+\n",
            "| 8   5   9 | 7   6   1 | 4   2   3 | \n",
            "+   +   +   +   +   +   +   +   +   +\n",
            "| 4   2   6 | 8   5   3 | 7   9   1 | \n",
            "+   +   +   +   +   +   +   +   +   +\n",
            "| 7   1   3 | 9   2   4 | 8   5   6 | \n",
            "+---+---+---+---+---+---+---+---+---+\n",
            "| 9   6   1 | 5   3   7 | 2   8   4 | \n",
            "+   +   +   +   +   +   +   +   +   +\n",
            "| 2   8   7 | 4   1   9 | 6   3   5 | \n",
            "+   +   +   +   +   +   +   +   +   +\n",
            "| 3   4   5 | 2   8   6 | 1   7   9 | \n",
            "+---+---+---+---+---+---+---+---+---+\n",
            "+---+---+---+---+---+---+---+---+---+\n",
            "| 5   3   4 | 6   7   8 | 9   2   1 | \n",
            "+   +   +   +   +   +   +   +   +   +\n",
            "| 6   7   2 | 1   9   5 | 3   8   4 | \n",
            "+   +   +   +   +   +   +   +   +   +\n",
            "| 1   9   8 | 3   4   2 | 5   7   6 | \n",
            "+---+---+---+---+---+---+---+---+---+\n",
            "| 8   5   9 | 7   6   1 | 4   3   2 | \n",
            "+   +   +   +   +   +   +   +   +   +\n",
            "| 4   2   6 | 8   5   3 | 7   1   9 | \n",
            "+   +   +   +   +   +   +   +   +   +\n",
            "| 7   1   3 | 9   2   4 | 8   6   5 | \n",
            "+---+---+---+---+---+---+---+---+---+\n",
            "| 9   6   1 | 5   3   7 | 2   4   8 | \n",
            "+   +   +   +   +   +   +   +   +   +\n",
            "| 2   8   7 | 4   1   9 | 6   5   3 | \n",
            "+   +   +   +   +   +   +   +   +   +\n",
            "| 3   4   5 | 2   8   6 | 1   9   7 | \n",
            "+---+---+---+---+---+---+---+---+---+\n"
          ]
        }
      ]
    },
    {
      "cell_type": "markdown",
      "source": [
        "### Aufgabe 5.5: Zeilen-/Spaltenblöcke tauschen (sehr schwer)\n",
        "Neben einzelnen Zeilen und Spalten können wir genau so gut ganze Blöcke von Zeilen und Spalten tauschen. Das bedeutet, dass der Block \"012\" komplett mit dem Block \"678\" getauscht werden kann, ohne dass das Sudoku nicht mehr lösbar ist. Das sich ergebene Sudoku hat danach die Form \"678345012\".\n",
        "\n",
        "Schreibe eine Funktion `tausche_zeilenbloecke`, die das Sudoku `sudoku` erhält und zufällig Zeilenblöcke vertauschen soll.\n",
        "\n",
        "Schreibe danach eine Funktion `tausche_spaltenbloecke`, die das selbe mit Spalten macht.\n",
        "\n",
        "*Hinweis*: Hier ist es möglicherweise sinnvoll, zunächst eine Hilfsfunktion zum Gruppieren von Zeilen in Blöcke zu schreiben. Die könnte so aussehen, dass wir jeweils die drei aufeinanderfolgenden Zeilen in einer Liste zusammenfassen."
      ],
      "metadata": {
        "id": "_kJC7J_4qI-t"
      }
    },
    {
      "cell_type": "code",
      "source": [
        "def tausche_zeilenbloecke(sudoku):\n",
        "    s = sudoku.copy()\n",
        "    out = s\n",
        "    return out\n",
        "\n",
        "def tausche_spaltenbloecke(sudoku):\n",
        "    s = sudoku.copy()\n",
        "    out = s\n",
        "    return out\n",
        "\n",
        "def gruppiere(sudoku):\n",
        "    s = sudoku.copy()\n",
        "    out = s\n",
        "    return out\n",
        "\n",
        "def degruppiere(sudoku): # .extend()\n",
        "    out = []\n",
        "    return out\n",
        "\n",
        "plotte(sudoku)\n",
        "plotte(tausche_zeilenbloecke(sudoku))\n",
        "plotte(tausche_spaltenbloecke(sudoku))"
      ],
      "metadata": {
        "id": "EE86JrBSylTT",
        "colab": {
          "base_uri": "https://localhost:8080/"
        },
        "outputId": "bcebd24b-427f-4098-8dbe-d0459867311e"
      },
      "execution_count": null,
      "outputs": [
        {
          "output_type": "stream",
          "name": "stdout",
          "text": [
            "+---+---+---+---+---+---+---+---+---+\n",
            "| 5   3   4 | 6   7   8 | 9   1   2 | \n",
            "+   +   +   +   +   +   +   +   +   +\n",
            "| 6   7   2 | 1   9   5 | 3   4   8 | \n",
            "+   +   +   +   +   +   +   +   +   +\n",
            "| 1   9   8 | 3   4   2 | 5   6   7 | \n",
            "+---+---+---+---+---+---+---+---+---+\n",
            "| 8   5   9 | 7   6   1 | 4   2   3 | \n",
            "+   +   +   +   +   +   +   +   +   +\n",
            "| 4   2   6 | 8   5   3 | 7   9   1 | \n",
            "+   +   +   +   +   +   +   +   +   +\n",
            "| 7   1   3 | 9   2   4 | 8   5   6 | \n",
            "+---+---+---+---+---+---+---+---+---+\n",
            "| 9   6   1 | 5   3   7 | 2   8   4 | \n",
            "+   +   +   +   +   +   +   +   +   +\n",
            "| 2   8   7 | 4   1   9 | 6   3   5 | \n",
            "+   +   +   +   +   +   +   +   +   +\n",
            "| 3   4   5 | 2   8   6 | 1   7   9 | \n",
            "+---+---+---+---+---+---+---+---+---+\n",
            "+---+---+---+---+---+---+---+---+---+\n",
            "| 5   3   4 | 6   7   8 | 9   1   2 | \n",
            "+   +   +   +   +   +   +   +   +   +\n",
            "| 6   7   2 | 1   9   5 | 3   4   8 | \n",
            "+   +   +   +   +   +   +   +   +   +\n",
            "| 1   9   8 | 3   4   2 | 5   6   7 | \n",
            "+---+---+---+---+---+---+---+---+---+\n",
            "| 8   5   9 | 7   6   1 | 4   2   3 | \n",
            "+   +   +   +   +   +   +   +   +   +\n",
            "| 4   2   6 | 8   5   3 | 7   9   1 | \n",
            "+   +   +   +   +   +   +   +   +   +\n",
            "| 7   1   3 | 9   2   4 | 8   5   6 | \n",
            "+---+---+---+---+---+---+---+---+---+\n",
            "| 9   6   1 | 5   3   7 | 2   8   4 | \n",
            "+   +   +   +   +   +   +   +   +   +\n",
            "| 2   8   7 | 4   1   9 | 6   3   5 | \n",
            "+   +   +   +   +   +   +   +   +   +\n",
            "| 3   4   5 | 2   8   6 | 1   7   9 | \n",
            "+---+---+---+---+---+---+---+---+---+\n",
            "+---+---+---+---+---+---+---+---+---+\n",
            "| 5   3   4 | 6   7   8 | 9   1   2 | \n",
            "+   +   +   +   +   +   +   +   +   +\n",
            "| 6   7   2 | 1   9   5 | 3   4   8 | \n",
            "+   +   +   +   +   +   +   +   +   +\n",
            "| 1   9   8 | 3   4   2 | 5   6   7 | \n",
            "+---+---+---+---+---+---+---+---+---+\n",
            "| 8   5   9 | 7   6   1 | 4   2   3 | \n",
            "+   +   +   +   +   +   +   +   +   +\n",
            "| 4   2   6 | 8   5   3 | 7   9   1 | \n",
            "+   +   +   +   +   +   +   +   +   +\n",
            "| 7   1   3 | 9   2   4 | 8   5   6 | \n",
            "+---+---+---+---+---+---+---+---+---+\n",
            "| 9   6   1 | 5   3   7 | 2   8   4 | \n",
            "+   +   +   +   +   +   +   +   +   +\n",
            "| 2   8   7 | 4   1   9 | 6   3   5 | \n",
            "+   +   +   +   +   +   +   +   +   +\n",
            "| 3   4   5 | 2   8   6 | 1   7   9 | \n",
            "+---+---+---+---+---+---+---+---+---+\n"
          ]
        }
      ]
    },
    {
      "cell_type": "markdown",
      "source": [
        "### Aufgabe 5.6: Zeilen/Spaltentausch durch Indizes (schwer)\n",
        "Eine sehr viel einfachere und elegantere Alternative ist es, zunächst eine Liste erlaubter Tausch-Indizes zu erstellen und das Sudoku anschließend danach zu sortieren. Vorteil hierbei ist, dass wir uns die einzelnen Schritte von Blöcken und einzelnen Zeilen, bzw. Spalten sparen können und alles in einem Schritt lösen.\n",
        "\n",
        "Schreibe eine Funktion `generiere_tauschindizes`, die keine Übergabeparameter hat und eine Liste erlaubter Tausch-Indizes zurückgibt.\n",
        "\n",
        "Schreibe außerdem eine Funktion `sudoku_anordnen`, die ein Sudoku `sudoku` und eine Liste von Indizes `idc` erhält und das Sudoku entsprechend der Indizes anordnet.\n",
        "\n",
        "*Hinweis*: Erlaubte Tausch-Indizes zu erstellen erscheint zunächst sehr kompliziert, ist aber relativ einfach, wenn wir uns die Blockform vergegenwärtigen. Ein Ansatz wäre es, dass wir zunächst die Block-Reihenfolge als Indexmenge erstellen und diese dann auf die Reihenfolge der Zeilen aufaddieren.\n",
        "\n",
        "*Beispiel*: Ist die Block-Reihenfolge `[2,0,1]`, und die einzelnen Reihenfolgen der Zeilen `[0,1,2]`, `[1,2,0]` und `[2,1,0]`, dann ergibt sich die Liste der Tausch-Indizes als `[6,7,8,1,2,0,5,4,3]`."
      ],
      "metadata": {
        "id": "c4n628sz3VUo"
      }
    },
    {
      "cell_type": "code",
      "source": [
        "def generiere_tauschindizes():\n",
        "    out = []\n",
        "    blockidc = generiere_indizes(3,0,2)\n",
        "    for idx in blockidc:\n",
        "        out.extend(generiere_indizes(3, idx*3+0, idx*3+2))\n",
        "        #out += (generiere_indizes(3, idx*3+0, idx*3+2))\n",
        "    return out\n",
        "\n",
        "def sudoku_anordnen(sudoku, idc):\n",
        "    s = sudoku.copy()\n",
        "    out = []\n",
        "    for idx in idc:\n",
        "        out.append(s[idx])\n",
        "    return out\n",
        "\n",
        "plotte(sudoku)\n",
        "plotte(sudoku_anordnen(sudoku, generiere_tauschindizes()))"
      ],
      "metadata": {
        "id": "W_vsK2z_5f-R",
        "colab": {
          "base_uri": "https://localhost:8080/"
        },
        "outputId": "e8bc6a85-0f15-484f-f5f9-3a529f563d34"
      },
      "execution_count": null,
      "outputs": [
        {
          "output_type": "stream",
          "name": "stdout",
          "text": [
            "+---+---+---+---+---+---+---+---+---+\n",
            "| 5   3   4 | 6   7   8 | 9   1   2 | \n",
            "+   +   +   +   +   +   +   +   +   +\n",
            "| 6   7   2 | 1   9   5 | 3   4   8 | \n",
            "+   +   +   +   +   +   +   +   +   +\n",
            "| 1   9   8 | 3   4   2 | 5   6   7 | \n",
            "+---+---+---+---+---+---+---+---+---+\n",
            "| 8   5   9 | 7   6   1 | 4   2   3 | \n",
            "+   +   +   +   +   +   +   +   +   +\n",
            "| 4   2   6 | 8   5   3 | 7   9   1 | \n",
            "+   +   +   +   +   +   +   +   +   +\n",
            "| 7   1   3 | 9   2   4 | 8   5   6 | \n",
            "+---+---+---+---+---+---+---+---+---+\n",
            "| 9   6   1 | 5   3   7 | 2   8   4 | \n",
            "+   +   +   +   +   +   +   +   +   +\n",
            "| 2   8   7 | 4   1   9 | 6   3   5 | \n",
            "+   +   +   +   +   +   +   +   +   +\n",
            "| 3   4   5 | 2   8   6 | 1   7   9 | \n",
            "+---+---+---+---+---+---+---+---+---+\n",
            "+---+---+---+---+---+---+---+---+---+\n",
            "| 9   6   1 | 5   3   7 | 2   8   4 | \n",
            "+   +   +   +   +   +   +   +   +   +\n",
            "| 3   4   5 | 2   8   6 | 1   7   9 | \n",
            "+   +   +   +   +   +   +   +   +   +\n",
            "| 2   8   7 | 4   1   9 | 6   3   5 | \n",
            "+---+---+---+---+---+---+---+---+---+\n",
            "| 5   3   4 | 6   7   8 | 9   1   2 | \n",
            "+   +   +   +   +   +   +   +   +   +\n",
            "| 6   7   2 | 1   9   5 | 3   4   8 | \n",
            "+   +   +   +   +   +   +   +   +   +\n",
            "| 1   9   8 | 3   4   2 | 5   6   7 | \n",
            "+---+---+---+---+---+---+---+---+---+\n",
            "| 8   5   9 | 7   6   1 | 4   2   3 | \n",
            "+   +   +   +   +   +   +   +   +   +\n",
            "| 7   1   3 | 9   2   4 | 8   5   6 | \n",
            "+   +   +   +   +   +   +   +   +   +\n",
            "| 4   2   6 | 8   5   3 | 7   9   1 | \n",
            "+---+---+---+---+---+---+---+---+---+\n"
          ]
        }
      ]
    },
    {
      "cell_type": "markdown",
      "source": [
        "## Aufgabe 6: Sudokus generieren\n",
        "In dieser Aufgabe möchten wir nun alles zusammenfügen, was wir bis hierher programmiert haben, um eigene Sudokus zu erstellen!\n",
        "\n",
        "### Aufgabe 6.1: Fertiges Sudoku erstellen (mittelschwer)\n",
        "Schreibe nun eine Funktion `erstelle_sudoku`, das ein gelöstes Sudoku `sudoku` und einen Wert `p` erhält und ein zu lösendes Sudoku ausgibt. Das `p` soll angeben, wie viele leere Felder das Sudoku haben soll!\n",
        "\n",
        "*Hinweis*: Hier kannst du beliebige Funktionen aus vorherigen Aufgaben nutzen!"
      ],
      "metadata": {
        "id": "1wTCXc1e6Usa"
      }
    },
    {
      "cell_type": "code",
      "source": [
        "import random\n",
        "\n",
        "def erstelle_sudoku(sudoku, p=50):\n",
        "    s = sudoku.copy()\n",
        "    # 1. tausche Zeilen (sudoku_anordnen)\n",
        "    s = sudoku_anordnen(s, generiere_tauschindizes())\n",
        "    # 2. tausche Spalten (transponiere, sudoku_anordnen, transponiere)\n",
        "    s = transponiere(s)\n",
        "    s = sudoku_anordnen(s, generiere_tauschindizes())\n",
        "    #s = transponiere(s)\n",
        "    # 3. transponiere manchmal (transponiere)\n",
        "    if random.random()>0.5:\n",
        "        s = transponiere(s)\n",
        "    # 4. lösche Einträge (loesche_werte)\n",
        "    s = loesche_werte(s, p)\n",
        "    return s\n",
        "\n",
        "print(generiere_tauschindizes())\n",
        "plotte(sudoku)\n",
        "plotte(erstelle_sudoku(sudoku, p=50))"
      ],
      "metadata": {
        "id": "S068-JjT7Dlo",
        "colab": {
          "base_uri": "https://localhost:8080/"
        },
        "outputId": "4e49ef63-d7df-4421-96e5-65f39f0d8766"
      },
      "execution_count": null,
      "outputs": [
        {
          "output_type": "stream",
          "name": "stdout",
          "text": [
            "[7, 6, 8, 1, 2, 0, 4, 3, 5]\n",
            "+---+---+---+---+---+---+---+---+---+\n",
            "| 5   3   4 | 6   7   8 | 9   1   2 | \n",
            "+   +   +   +   +   +   +   +   +   +\n",
            "| 6   7   2 | 1   9   5 | 3   4   8 | \n",
            "+   +   +   +   +   +   +   +   +   +\n",
            "| 1   9   8 | 3   4   2 | 5   6   7 | \n",
            "+---+---+---+---+---+---+---+---+---+\n",
            "| 8   5   9 | 7   6   1 | 4   2   3 | \n",
            "+   +   +   +   +   +   +   +   +   +\n",
            "| 4   2   6 | 8   5   3 | 7   9   1 | \n",
            "+   +   +   +   +   +   +   +   +   +\n",
            "| 7   1   3 | 9   2   4 | 8   5   6 | \n",
            "+---+---+---+---+---+---+---+---+---+\n",
            "| 9   6   1 | 5   3   7 | 2   8   4 | \n",
            "+   +   +   +   +   +   +   +   +   +\n",
            "| 2   8   7 | 4   1   9 | 6   3   5 | \n",
            "+   +   +   +   +   +   +   +   +   +\n",
            "| 3   4   5 | 2   8   6 | 1   7   9 | \n",
            "+---+---+---+---+---+---+---+---+---+\n",
            "+---+---+---+---+---+---+---+---+---+\n",
            "|     7     | 5   2     |     8     | \n",
            "+   +   +   +   +   +   +   +   +   +\n",
            "|         5 | 3   4   1 | 9       7 | \n",
            "+   +   +   +   +   +   +   +   +   +\n",
            "|           | 8         |           | \n",
            "+---+---+---+---+---+---+---+---+---+\n",
            "|         2 | 6   3     |         1 | \n",
            "+   +   +   +   +   +   +   +   +   +\n",
            "|           | 2   1     |         6 | \n",
            "+   +   +   +   +   +   +   +   +   +\n",
            "| 1       6 | 4   7   8 |           | \n",
            "+---+---+---+---+---+---+---+---+---+\n",
            "|           |     6   3 |           | \n",
            "+   +   +   +   +   +   +   +   +   +\n",
            "|         3 |         4 | 6         | \n",
            "+   +   +   +   +   +   +   +   +   +\n",
            "| 6       4 |     5     |           | \n",
            "+---+---+---+---+---+---+---+---+---+\n"
          ]
        }
      ]
    },
    {
      "cell_type": "markdown",
      "source": [
        "### Aufgabe 6.2 (Bonus): Anzahl Sudokus (schwer)\n",
        "Wie viele verschiedene Sudokus können wir mit diesem Algorithmus erstellen? Zwei Sudokus sind \"verschieden\", wenn auch nur ein einziges Feld sich unterscheidet. In diesem Gedankenexperiment ignorieren wir erst mal die Anzahl freier Felder.\n",
        "\n",
        "*Hinweis*: Eine untere Grenze für die Anzahl der Sudokus ist 1, da wir auf jeden Fall mehr als nur ein Sudoku erstellen können, indem wir beispielsweise das Sudoku einfach transponieren. Eine obere Grenze wäre $\\frac{81!}{9!^{9}}=5{,}31\\cdot10^{70}$. Die Zahl ist seeehr groß, sie ist größer als eine 5 mit 70 Nullen! Das entspricht aller möglichen Kombinationen von jeweils neun mal die Zahlen von 1 bis 9. Hier sind allerdings auch unerlaubte Kombinationen dabei, wie beispielsweise nur Einsen in der ersten Spalte, nur Zweien in der zweiten und so weiter."
      ],
      "metadata": {
        "id": "NCGxiMCf8iih"
      }
    },
    {
      "cell_type": "markdown",
      "source": [
        "# Sudoku-Solver\n",
        "Ein Sudoku-Solver (oder \"Löser\") ist ein Programm, das in der Lage ist, Sudokus zu lösen. Wir wollen im Folgenden ein solches Programm entwickeln, das unsere Sudokus löst!\n",
        "\n",
        "## Aufgabe 1: Liste von Listen von Strings\n",
        "Bisher war ein Sudoku eine Liste von Strings. Für den Solver ist das eher unpraktisch, da auf jedem der 81 Sudoku-Felder neun verschiedene Zahlen stehen können. In dieser Aufgabe erstellen wir dementsprechend also eine Liste von Listen von Strings.\n",
        "\n",
        "Erstelle eine Funktion `initialisiere`, die eine Liste von Zeilen erstellt. Jede Zeile ist wiederum eine Liste von Feldern. Jedes Feld ist ein String mit den Zahlen von 1 bis 9."
      ],
      "metadata": {
        "id": "QRafAl8Lpaqa"
      }
    },
    {
      "cell_type": "code",
      "source": [
        "def initialisiere():\n",
        "    eintraege = \"123456789\"\n",
        "    #liste = 9*[9*[eintraege]]\n",
        "    liste = []\n",
        "    for i in range(9):\n",
        "        zeile = []\n",
        "        for j in range(9):\n",
        "            zeile.append(eintraege)\n",
        "        liste.append(zeile)\n",
        "    return liste\n",
        "\n",
        "solver = initialisiere()\n",
        "#print(*solver, sep=\"\\n\")\n",
        "print(solver, sep=\"\\n\")"
      ],
      "metadata": {
        "id": "piaHEh2Jrr_v",
        "colab": {
          "base_uri": "https://localhost:8080/"
        },
        "outputId": "db0700e8-edbb-42fa-d9bc-d9accd0dae4a"
      },
      "execution_count": null,
      "outputs": [
        {
          "output_type": "stream",
          "name": "stdout",
          "text": [
            "[['123456789', '123456789', '123456789', '123456789', '123456789', '123456789', '123456789', '123456789', '123456789'], ['123456789', '123456789', '123456789', '123456789', '123456789', '123456789', '123456789', '123456789', '123456789'], ['123456789', '123456789', '123456789', '123456789', '123456789', '123456789', '123456789', '123456789', '123456789'], ['123456789', '123456789', '123456789', '123456789', '123456789', '123456789', '123456789', '123456789', '123456789'], ['123456789', '123456789', '123456789', '123456789', '123456789', '123456789', '123456789', '123456789', '123456789'], ['123456789', '123456789', '123456789', '123456789', '123456789', '123456789', '123456789', '123456789', '123456789'], ['123456789', '123456789', '123456789', '123456789', '123456789', '123456789', '123456789', '123456789', '123456789'], ['123456789', '123456789', '123456789', '123456789', '123456789', '123456789', '123456789', '123456789', '123456789'], ['123456789', '123456789', '123456789', '123456789', '123456789', '123456789', '123456789', '123456789', '123456789']]\n"
          ]
        }
      ]
    },
    {
      "cell_type": "markdown",
      "source": [
        "## Aufgabe 2: Sudoku einlesen\n",
        "Das Ziel des Solvers ist es, dass am Ende unseres Programmes in jedem der Felder mit `\"123456789\"` jeweils nur noch eine Zahl steht. Erster Schritt ist also, direkt die bekannten Einträge des vorgegebenen Sudokus einzufügen.\n",
        "\n",
        "Schreibe eine Funktion `einlesen`, die das Sudoku mit Lücken erhält und die entsprechenden bekannten Felder überschreibt. Hinterher sollte in `solver` eine Liste von Listen mit Strings stehen, in denen teilweise nur einzelne Zahlen stehen."
      ],
      "metadata": {
        "id": "2CGzNErbscSU"
      }
    },
    {
      "cell_type": "code",
      "source": [
        "from copy import deepcopy\n",
        "\n",
        "def einlesen(solver, sudoku_leer):\n",
        "    s = deepcopy(solver)\n",
        "    for i in range(9):\n",
        "        for j in range(9):\n",
        "            if sudoku_leer[i][j]!=\" \":\n",
        "                s[i][j] = sudoku_leer[i][j]\n",
        "    return s\n",
        "\n",
        "#solver = initialisiere()\n",
        "sudoku_leer = erstelle_sudoku(sudoku, p=20)\n",
        "plotte(sudoku_leer)\n",
        "print(solver)\n",
        "solver_eingelesen = einlesen(solver, sudoku_leer)\n",
        "print(solver_eingelesen)"
      ],
      "metadata": {
        "id": "UbhT1siDvTZu",
        "colab": {
          "base_uri": "https://localhost:8080/"
        },
        "outputId": "6c807a9c-bcce-4f34-da7f-974d06b1ce95"
      },
      "execution_count": null,
      "outputs": [
        {
          "output_type": "stream",
          "name": "stdout",
          "text": [
            "+---+---+---+---+---+---+---+---+---+\n",
            "| 4   5   9 | 7   8     |     3   1 | \n",
            "+   +   +   +   +   +   +   +   +   +\n",
            "| 8       7 | 6   4   1 | 5   2   9 | \n",
            "+   +   +   +   +   +   +   +   +   +\n",
            "|           |     3   9 |     4     | \n",
            "+---+---+---+---+---+---+---+---+---+\n",
            "| 7   9   6 | 2   5   8 | 4         | \n",
            "+   +   +   +   +   +   +   +   +   +\n",
            "| 5   4   2 | 3         | 9   7   8 | \n",
            "+   +   +   +   +   +   +   +   +   +\n",
            "|     1   8 | 4       7 | 2   6   5 | \n",
            "+---+---+---+---+---+---+---+---+---+\n",
            "|     8   4 | 9   7   3 | 1         | \n",
            "+   +   +   +   +   +   +   +   +   +\n",
            "| 9       3 | 1   6   5 | 7   8   4 | \n",
            "+   +   +   +   +   +   +   +   +   +\n",
            "| 1   7     | 8   2   4 | 3   9   6 | \n",
            "+---+---+---+---+---+---+---+---+---+\n",
            "[['123456789', '123456789', '123456789', '123456789', '123456789', '123456789', '123456789', '123456789', '123456789'], ['123456789', '123456789', '123456789', '123456789', '123456789', '123456789', '123456789', '123456789', '123456789'], ['123456789', '123456789', '123456789', '123456789', '123456789', '123456789', '123456789', '123456789', '123456789'], ['123456789', '123456789', '123456789', '123456789', '123456789', '123456789', '123456789', '123456789', '123456789'], ['123456789', '123456789', '123456789', '123456789', '123456789', '123456789', '123456789', '123456789', '123456789'], ['123456789', '123456789', '123456789', '123456789', '123456789', '123456789', '123456789', '123456789', '123456789'], ['123456789', '123456789', '123456789', '123456789', '123456789', '123456789', '123456789', '123456789', '123456789'], ['123456789', '123456789', '123456789', '123456789', '123456789', '123456789', '123456789', '123456789', '123456789'], ['123456789', '123456789', '123456789', '123456789', '123456789', '123456789', '123456789', '123456789', '123456789']]\n",
            "[['4', '5', '9', '7', '8', '123456789', '123456789', '3', '1'], ['8', '123456789', '7', '6', '4', '1', '5', '2', '9'], ['123456789', '123456789', '123456789', '123456789', '3', '9', '123456789', '4', '123456789'], ['7', '9', '6', '2', '5', '8', '4', '123456789', '123456789'], ['5', '4', '2', '3', '123456789', '123456789', '9', '7', '8'], ['123456789', '1', '8', '4', '123456789', '7', '2', '6', '5'], ['123456789', '8', '4', '9', '7', '3', '1', '123456789', '123456789'], ['9', '123456789', '3', '1', '6', '5', '7', '8', '4'], ['1', '7', '123456789', '8', '2', '4', '3', '9', '6']]\n"
          ]
        }
      ]
    },
    {
      "cell_type": "markdown",
      "source": [
        "## Aufgabe 3: Solver plotten\n",
        "Um Zwischenergebnisse sehen zu können, möchten wir gerne den Solver als Sudoku ausgeben. Hierfür brauchen wir eine Funktion zum Plotten, ähnlich wie `plotte` aus Aufgabe 2 im Kapitel \"Sudoku\".\n",
        "\n",
        "Schreibe eine Funktion `plotte_solver`, die einen Solver `solver` erhält und in das `sudoku`-Format bringt. Alle Felder mit mehr als einem Eintrag sollen durch Leerzeichen ausgetauscht werden. Plotte anschließend das Sudoku.\n",
        "\n",
        "**Achtung:** Überschreibe nicht die Funktion `plotte`, andernfalls muss der Codeblock ganz oben nochmals ausgeführt werden. Die Funktion `plotte` kann allerdings in `plotte_solver` aufgerufen werden."
      ],
      "metadata": {
        "id": "vshOveqFwIOk"
      }
    },
    {
      "cell_type": "code",
      "source": [
        "def plotte_solver(solver):\n",
        "    s = deepcopy(solver)\n",
        "    output = []\n",
        "    for i in range(9):\n",
        "        zeile = \"\"\n",
        "        for j in range(9):\n",
        "            eintrag = s[i][j]\n",
        "            if len(eintrag)!=1:\n",
        "                zeile = zeile+\" \"\n",
        "            else:\n",
        "                zeile = zeile+eintrag\n",
        "        output.append(zeile)\n",
        "    plotte(output)\n",
        "\n",
        "#plotte(sudoku_leer) # Zum Vergleich\n",
        "plotte_solver(solver_eingelesen)\n",
        "print(solver_eingelesen[1])"
      ],
      "metadata": {
        "id": "hKt0zWvVxb5j",
        "colab": {
          "base_uri": "https://localhost:8080/"
        },
        "outputId": "7439df71-19a1-4c01-ad59-f85cbda71f6b"
      },
      "execution_count": null,
      "outputs": [
        {
          "output_type": "stream",
          "name": "stdout",
          "text": [
            "+---+---+---+---+---+---+---+---+---+\n",
            "| 9   2   5 | 6   4   1 | 3   7     | \n",
            "+   +   +   +   +   +   +   +   +   +\n",
            "| 1   3   6 | 7   8   2 |     9     | \n",
            "+   +   +   +   +   +   +   +   +   +\n",
            "| 7       8 | 5   3   9 | 6   1   2 | \n",
            "+---+---+---+---+---+---+---+---+---+\n",
            "| 2   5   1 | 9   7   3 | 8   4     | \n",
            "+   +   +   +   +   +   +   +   +   +\n",
            "| 6   9     | 8   2   4 | 7   5   1 | \n",
            "+   +   +   +   +   +   +   +   +   +\n",
            "| 4   8   7 | 1   6   5 | 2   3   9 | \n",
            "+---+---+---+---+---+---+---+---+---+\n",
            "| 3   1     | 2   5   8 | 9   6     | \n",
            "+   +   +   +   +   +   +   +   +   +\n",
            "| 5   6   2 |     9   7 | 1   8   3 | \n",
            "+   +   +   +   +   +   +   +   +   +\n",
            "| 8   7   9 | 3   1   6 | 4   2     | \n",
            "+---+---+---+---+---+---+---+---+---+\n",
            "['1', '3', '6', '7', '8', '2', '123456789', '9', '123456789']\n"
          ]
        }
      ]
    },
    {
      "cell_type": "markdown",
      "source": [
        "## Aufgabe 4: Doppelte Einträge löschen\n",
        "Beginnen wir langsam, das Sudoku zu lösen, indem wir zeilen- und spaltenweise doppelte Einträge löschen! Leichte Sudokus können wir (mit etwas Glück) damit schon lösen.\n",
        "\n",
        "Die Idee ist Folgende: In jeder Zeile und Spalte kann jede Zahl nur ein einziges Mal vorkommen. Enthält also die Zelle ganz links bereits eine `4`, so können die bisher unbekannten Zellen derselben Zeile keine `4` enthalten. In unserer Funktion würden wir nun also sämtliche unbekannte Zellen einer Zeile durchlaufen und alle `4` aus `123456789` löschen. Die unbekannten Zellen würden hinterher nur noch `12356789` enthalten (also keine `4`).\n",
        "\n",
        "### Aufgabe 4.1: Zeilenweise doppelte Einträge löschen\n",
        "Schreibe eine Funktion `loesche_doppelte`, die das ungelöste Sudoku `solver` erhält und anschließend zeilenweise die doppelten Einträge aus den unbekannten Zellen löschen.\n",
        "\n",
        "*Hinweis:* Sammle zunächst alle \"bekannten\" Einträge in einem String. Im Anschluss können die unbekannten Zellen einfach um genau diese Einträge verringert werden."
      ],
      "metadata": {
        "id": "4vRZv1eoz7-S"
      }
    },
    {
      "cell_type": "code",
      "source": [
        "def loesche_doppelte(solver):\n",
        "    s = deepcopy(solver)\n",
        "    for i in range(9):\n",
        "        zeile = s[i]\n",
        "        bekannte = \"\"\n",
        "        for j in range(9):\n",
        "            eintrag = zeile[j]\n",
        "            if len(eintrag)==1:\n",
        "                bekannte = bekannte+eintrag\n",
        "\n",
        "        # Schritt 1: Finde Eintrag mit len(eintrag)>1\n",
        "        for k in range(9):\n",
        "            eintrag = zeile[k]\n",
        "            if len(eintrag) != 1:\n",
        "\n",
        "                # Schritt 2: Eliminiere alle \"bekannte\" aus \"eintrag\"\n",
        "                for l in bekannte:\n",
        "                    eintrag = eintrag.replace(str(l), \"\")\n",
        "\n",
        "            # Schritt 3: Überschreibe Zeile s[i]\n",
        "            s[i][k] = eintrag\n",
        "    return s\n",
        "\n",
        "plotte_solver(solver_eingelesen)\n",
        "plotte_solver(loesche_doppelte(solver_eingelesen))"
      ],
      "metadata": {
        "id": "wDbcLWP6zub_",
        "colab": {
          "base_uri": "https://localhost:8080/"
        },
        "outputId": "edbb557a-1d81-4bb8-ff42-dc4761956297"
      },
      "execution_count": null,
      "outputs": [
        {
          "output_type": "stream",
          "name": "stdout",
          "text": [
            "+---+---+---+---+---+---+---+---+---+\n",
            "| 4   5   9 | 7   8     |     3   1 | \n",
            "+   +   +   +   +   +   +   +   +   +\n",
            "| 8       7 | 6   4   1 | 5   2   9 | \n",
            "+   +   +   +   +   +   +   +   +   +\n",
            "|           |     3   9 |     4     | \n",
            "+---+---+---+---+---+---+---+---+---+\n",
            "| 7   9   6 | 2   5   8 | 4         | \n",
            "+   +   +   +   +   +   +   +   +   +\n",
            "| 5   4   2 | 3         | 9   7   8 | \n",
            "+   +   +   +   +   +   +   +   +   +\n",
            "|     1   8 | 4       7 | 2   6   5 | \n",
            "+---+---+---+---+---+---+---+---+---+\n",
            "|     8   4 | 9   7   3 | 1         | \n",
            "+   +   +   +   +   +   +   +   +   +\n",
            "| 9       3 | 1   6   5 | 7   8   4 | \n",
            "+   +   +   +   +   +   +   +   +   +\n",
            "| 1   7     | 8   2   4 | 3   9   6 | \n",
            "+---+---+---+---+---+---+---+---+---+\n",
            "+---+---+---+---+---+---+---+---+---+\n",
            "| 4   5   9 | 7   8     |     3   1 | \n",
            "+   +   +   +   +   +   +   +   +   +\n",
            "| 8   3   7 | 6   4   1 | 5   2   9 | \n",
            "+   +   +   +   +   +   +   +   +   +\n",
            "|           |     3   9 |     4     | \n",
            "+---+---+---+---+---+---+---+---+---+\n",
            "| 7   9   6 | 2   5   8 | 4         | \n",
            "+   +   +   +   +   +   +   +   +   +\n",
            "| 5   4   2 | 3         | 9   7   8 | \n",
            "+   +   +   +   +   +   +   +   +   +\n",
            "|     1   8 | 4       7 | 2   6   5 | \n",
            "+---+---+---+---+---+---+---+---+---+\n",
            "|     8   4 | 9   7   3 | 1         | \n",
            "+   +   +   +   +   +   +   +   +   +\n",
            "| 9   2   3 | 1   6   5 | 7   8   4 | \n",
            "+   +   +   +   +   +   +   +   +   +\n",
            "| 1   7   5 | 8   2   4 | 3   9   6 | \n",
            "+---+---+---+---+---+---+---+---+---+\n"
          ]
        }
      ]
    },
    {
      "cell_type": "markdown",
      "source": [
        "### Aufgabe 4.2: Spaltenweise doppelte Einträge löschen\n",
        "Schreibe eine Funktion `loesche_spaltenweise`, die das ungelöste Sudoku `solver` erhält und anschließend spaltenweise die doppelten Einträge aus den unbekannten Zellen löschen.\n",
        "\n",
        "*Hinweis:* Der Vorgang ist hier fast genau derselbe wie in Aufgabe 4.1. Du kannst also die Funktion `loesche_doppelte` nutzen."
      ],
      "metadata": {
        "id": "auDLk8XY2S5F"
      }
    },
    {
      "cell_type": "code",
      "source": [
        "def transponiere_solver(solver):\n",
        "    s = deepcopy(solver)\n",
        "    out = []\n",
        "    for i in range(9):\n",
        "        inner = []\n",
        "        for j in range(9):\n",
        "            inner.append(s[j][i])\n",
        "        out.append(inner)\n",
        "    return out\n",
        "\n",
        "def loesche_spaltenweise(solver):\n",
        "    s = deepcopy(solver)\n",
        "    s = transponiere_solver(s)\n",
        "    s = loesche_doppelte(s)\n",
        "    s = transponiere_solver(s)\n",
        "    return s\n",
        "\n",
        "plotte_solver(solver_eingelesen)\n",
        "#plotte_solver(transponiere_solver(solver_eingelesen))\n",
        "plotte_solver(loesche_spaltenweise(loesche_doppelte(solver_eingelesen)))\n",
        "print(loesche_spaltenweise(loesche_doppelte(solver_eingelesen))[6])"
      ],
      "metadata": {
        "id": "WqZcgkHB3CLV",
        "colab": {
          "base_uri": "https://localhost:8080/"
        },
        "outputId": "411f961e-06ec-45e0-f073-3cd54e1d221a"
      },
      "execution_count": null,
      "outputs": [
        {
          "output_type": "stream",
          "name": "stdout",
          "text": [
            "+---+---+---+---+---+---+---+---+---+\n",
            "| 4   5   9 | 7   8     |     3   1 | \n",
            "+   +   +   +   +   +   +   +   +   +\n",
            "| 8       7 | 6   4   1 | 5   2   9 | \n",
            "+   +   +   +   +   +   +   +   +   +\n",
            "|           |     3   9 |     4     | \n",
            "+---+---+---+---+---+---+---+---+---+\n",
            "| 7   9   6 | 2   5   8 | 4         | \n",
            "+   +   +   +   +   +   +   +   +   +\n",
            "| 5   4   2 | 3         | 9   7   8 | \n",
            "+   +   +   +   +   +   +   +   +   +\n",
            "|     1   8 | 4       7 | 2   6   5 | \n",
            "+---+---+---+---+---+---+---+---+---+\n",
            "|     8   4 | 9   7   3 | 1         | \n",
            "+   +   +   +   +   +   +   +   +   +\n",
            "| 9       3 | 1   6   5 | 7   8   4 | \n",
            "+   +   +   +   +   +   +   +   +   +\n",
            "| 1   7     | 8   2   4 | 3   9   6 | \n",
            "+---+---+---+---+---+---+---+---+---+\n",
            "+---+---+---+---+---+---+---+---+---+\n",
            "| 4   5   9 | 7   8     | 6   3   1 | \n",
            "+   +   +   +   +   +   +   +   +   +\n",
            "| 8   3   7 | 6   4   1 | 5   2   9 | \n",
            "+   +   +   +   +   +   +   +   +   +\n",
            "|     6   1 | 5   3   9 |     4     | \n",
            "+---+---+---+---+---+---+---+---+---+\n",
            "| 7   9   6 | 2   5   8 | 4   1   3 | \n",
            "+   +   +   +   +   +   +   +   +   +\n",
            "| 5   4   2 | 3   1   6 | 9   7   8 | \n",
            "+   +   +   +   +   +   +   +   +   +\n",
            "| 3   1   8 | 4   9   7 | 2   6   5 | \n",
            "+---+---+---+---+---+---+---+---+---+\n",
            "|     8   4 | 9   7   3 | 1   5   2 | \n",
            "+   +   +   +   +   +   +   +   +   +\n",
            "| 9   2   3 | 1   6   5 | 7   8   4 | \n",
            "+   +   +   +   +   +   +   +   +   +\n",
            "| 1   7   5 | 8   2   4 | 3   9   6 | \n",
            "+---+---+---+---+---+---+---+---+---+\n",
            "['26', '8', '4', '9', '7', '3', '1', '5', '2']\n"
          ]
        }
      ]
    },
    {
      "cell_type": "markdown",
      "source": [
        "### Aufgabe 4.3: Doppelte in 3x3-Blöcken\n",
        "Zum Schluss fehlen nur noch die doppelten Einträge in 3x3-Blöcken! Schreibe eine Funktion `loesche_3x3`, die ein ungelöstes Sudoku `solver` erhält und für jeden 3x3-Block die doppelten Einträge in den unbekannten Zellen löscht."
      ],
      "metadata": {
        "id": "PTa7qtxR58dr"
      }
    },
    {
      "cell_type": "code",
      "source": [
        "def loesche_3x3(solver):\n",
        "    s = solver.copy()\n",
        "    return s\n",
        "\n",
        "plotte_solver(solver_eingelesen)\n",
        "plotte_solver(loesche_3x3(solver_eingelesen))"
      ],
      "metadata": {
        "id": "KfL0Q_DL6XxI"
      },
      "execution_count": null,
      "outputs": []
    },
    {
      "cell_type": "markdown",
      "source": [
        "## Aufgabe 5: Solver zusammensetzen\n",
        "Aktuell haben wir drei Funktionen `loesche_doppelte`, `loesche_spaltenweise` und `loesche_3x3`, die die doppelten Einträge jeweils in Zeilen, in Spalten und in 3x3-Blöcken entfernt, bis nur noch einzelne Einträge existieren.\n",
        "\n",
        "Schreibe eine Funktion `loese`, die ein ungelöstes Sudoku `solver` erhält und dieses dann so weit wie möglich löst! Nutze hierfür die Funktionen aus Aufgabe 4."
      ],
      "metadata": {
        "id": "8c9NtLos6YL6"
      }
    },
    {
      "cell_type": "code",
      "source": [
        "def loese(solver):\n",
        "    s = solver.copy()\n",
        "    return s\n",
        "\n",
        "plotte_solver(solver_eingelesen)\n",
        "plotte_solver(loese(solver_eingelesen))"
      ],
      "metadata": {
        "id": "rmIqgB4u7Md1"
      },
      "execution_count": null,
      "outputs": []
    }
  ]
}