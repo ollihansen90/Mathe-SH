{
  "nbformat": 4,
  "nbformat_minor": 0,
  "metadata": {
    "colab": {
      "name": "Wahlen.ipynb",
      "provenance": [],
      "collapsed_sections": [],
      "authorship_tag": "ABX9TyMitsga//OBHIkqQkaecDbC",
      "include_colab_link": true
    },
    "kernelspec": {
      "name": "python3",
      "display_name": "Python 3"
    },
    "language_info": {
      "name": "python"
    }
  },
  "cells": [
    {
      "cell_type": "markdown",
      "metadata": {
        "id": "view-in-github",
        "colab_type": "text"
      },
      "source": [
        "<a href=\"https://colab.research.google.com/github/ollihansen90/Mathe-SH/blob/main/Wahlen.ipynb\" target=\"_parent\"><img src=\"https://colab.research.google.com/assets/colab-badge.svg\" alt=\"Open In Colab\"/></a>"
      ]
    },
    {
      "cell_type": "code",
      "execution_count": 31,
      "metadata": {
        "colab": {
          "base_uri": "https://localhost:8080/",
          "height": 283
        },
        "id": "7fryl244EbmC",
        "outputId": "4d7607c2-15a0-4a4d-eb88-925c89929ba1"
      },
      "outputs": [
        {
          "output_type": "stream",
          "name": "stdout",
          "text": [
            "[1000   50    0]\n"
          ]
        },
        {
          "output_type": "display_data",
          "data": {
            "text/plain": [
              "<Figure size 432x288 with 1 Axes>"
            ],
            "image/png": "[encoded data removed]"
          },
          "metadata": {
            "needs_background": "light"
          }
        }
      ],
      "source": [
        "import numpy as np\n",
        "import matplotlib.pyplot as plt\n",
        "\n",
        "n_wahlen = 100\n",
        "n_waehler = 500_000\n",
        "n_parteien = 3\n",
        "stammwaehler = [1000, 50]\n",
        "stammwaehler = np.array(stammwaehler + [0]*(n_parteien-len(stammwaehler)))\n",
        "print(stammwaehler)\n",
        "n_waehler_gesamt = n_waehler+ np.sum(stammwaehler)\n",
        "sieger = np.zeros(n_parteien)\n",
        "\n",
        "for _ in range(n_wahlen):\n",
        "    wahl = np.floor(n_parteien*np.random.rand(n_waehler))\n",
        "    wahl_ergebnisse = np.zeros(n_parteien)\n",
        "    for i in range(n_parteien):\n",
        "        wahl_ergebnisse[i] = np.sum(wahl==i)+stammwaehler[i]\n",
        "    wahl_ergebnisse *= 1/n_waehler_gesamt\n",
        "    sieger[np.argmax(wahl_ergebnisse)] += 1\n",
        "    #print(wahl_ergebnisse)\n",
        "\n",
        "plt.figure()\n",
        "plt.bar(list(range(n_parteien)), sieger/n_wahlen)\n",
        "plt.show()"
      ]
    }
  ]
}