{
  "nbformat": 4,
  "nbformat_minor": 0,
  "metadata": {
    "colab": {
      "name": "Rundenspiel.ipynb",
      "provenance": [],
      "collapsed_sections": [
        "lizOAT0VuzgA",
        "HhTD54cU3cxx",
        "Il29lhzd3gZR",
        "u8FribBUvAZu"
      ],
      "include_colab_link": true
    },
    "kernelspec": {
      "name": "python3",
      "display_name": "Python 3"
    },
    "language_info": {
      "name": "python"
    }
  },
  "cells": [
    {
      "cell_type": "markdown",
      "metadata": {
        "id": "view-in-github",
        "colab_type": "text"
      },
      "source": [
        "<a href=\"https://colab.research.google.com/github/ollihansen90/Mathe-SH/blob/main/Rundenspiel.ipynb\" target=\"_parent\"><img src=\"https://colab.research.google.com/assets/colab-badge.svg\" alt=\"Open In Colab\"/></a>"
      ]
    },
    {
      "cell_type": "markdown",
      "source": [
        "# Unser Rundenspiel\n",
        "\n",
        "Heute erstellen wir ein Spiel bei dem es das Ziel ist möglichst dicht an eine Zufallszahl zwishen 0 und 100 \"heranzuraten\". Trickreich dabei ist, dass wir immer unterhalb der gesuchten Zahl bleiben sollen und nur 5 Rate-Versuche haben. Also wird unsere erratene Zahl immer größer sein als die letzte Zahl, weshalb wir immer nur einen Zusatzwert auf die letzte erratene Zahl addieren.\n",
        "\n",
        "Das Ganze soll möglichst innerhalb einer einzigen Klasse programmiert werden.\n",
        "\n",
        "# Fragen?\n",
        "Solltet ihr Fragen zum Code oder Probleme mit Colab haben, schickt uns gerne eine Mail:\n",
        "\n",
        "*   hohansen@inb.uni-luebeck.de\n",
        "*   maren.wieder@student.uni-luebeck.de\n",
        "*   friederike.meissner@student.uni-luebeck.de\n",
        "*   dustin.haschke@student.uni-luebeck.de"
      ],
      "metadata": {
        "id": "bpS0NMa6ppv0"
      }
    },
    {
      "cell_type": "markdown",
      "source": [
        "###Aufgabe 1"
      ],
      "metadata": {
        "id": "BtvVKKcIr4Yp"
      }
    },
    {
      "cell_type": "markdown",
      "source": [
        "Lege die Klasse `Spiel` an, die standardmäßig mit einem `startwert` von 100 und `max_runden` von 5 über den Konstruktor initialisiert wird.\n",
        "\n",
        "Weitere Attribute der Klassen sollen `rundenzahl` sein, die immer mit Null initialisiert werden sowie ein `winwert` sein, der eine Zahl, der eine Zufallszahl zwischen 100 und 200 zurückgibt."
      ],
      "metadata": {
        "id": "aIN3f2I45tEY"
      }
    },
    {
      "cell_type": "markdown",
      "source": [
        "###Aufgabe 2\n",
        "\n"
      ],
      "metadata": {
        "id": "XB7rgCt2vG0r"
      }
    },
    {
      "cell_type": "markdown",
      "source": [
        "Jetzt wird die `play`Funktion unserer Klasse Spiel erstellt.\n",
        "Diese wird der Parameter `wert` übergeben.\n",
        "\n",
        "Die `rundenzahl` der Klasse sollen mit jedem Aufruf um einen erhöht werden, der ursprüngliche `startwert` der Klasse um den `wert` der der Funktion übergeben wurde. Eine Übergabe eines Wertes kleiner oder gleich Null gibt eine Fehlermeldung aus.\n",
        "\n",
        "Zum Schluss wird die Funktion `ende_wert` aus Aufgabe 3 aufgerufen, falls der neue Wert der Klasse über dem gesuchten (Start-)Wert der Klasse `Spiel` liegt.\n",
        "Bzw. es wird, falls die `rundenzahl` größer oder gleich der `max_rundenzahl` ist eine entsprechende Meldung über den Abstand zur gesuchten Zahl ausgegeben (je kleiner desto besser :-)."
      ],
      "metadata": {
        "id": "1Uhlxjpu51Rl"
      }
    },
    {
      "cell_type": "markdown",
      "source": [
        "###Aufgabe 3\n"
      ],
      "metadata": {
        "id": "IfRtkNL_0rOk"
      }
    },
    {
      "cell_type": "markdown",
      "source": [
        "Falls der ursprüngliche, aber modifizierte `startwert` des Spiels genau dem `winwert` entspricht, soll eine Siegesmeldung ausgegeben werden, andernfalls eine Verliermitteilung.\n",
        "\n",
        "Lege dein Spiel an, indem du eine Instanz von `Spiel` namens `spiel` erstellst.\n",
        "\n",
        "Führe deinen Codeblock aus und spiele das Spiel, indem du in \"zweiter Codeblock\" den `next_wert` veränderst und das Spiel über eine erneute Ausführung des zweiten Codeblocks neustartest."
      ],
      "metadata": {
        "id": "Fq-lEL1Y56ag"
      }
    },
    {
      "cell_type": "markdown",
      "source": [
        "### Zusatzaufgabe\n"
      ],
      "metadata": {
        "id": "zcJeuJjd-XpT"
      }
    },
    {
      "cell_type": "markdown",
      "source": [
        "Erweitere deine Funktion `play()` so, dass beim letzten und vorletzten Raten eine Zufallszahl zwischen `winwert` und dem aktuellen Wert als Tipp ausgegeben wird."
      ],
      "metadata": {
        "id": "XYyTyZc7-7_b"
      }
    },
    {
      "cell_type": "markdown",
      "source": [
        "#deinCode + Musterlösungen"
      ],
      "metadata": {
        "id": "VsPVhKYt598g"
      }
    },
    {
      "cell_type": "code",
      "source": [
        "import random\n",
        "# hier steht Code, dein Code :)\n",
        "\n"
      ],
      "metadata": {
        "id": "noQGEjBLup1o"
      },
      "execution_count": null,
      "outputs": []
    },
    {
      "cell_type": "code",
      "source": [
        "#zweiter Codeblock\n",
        "next_wert = 1\n",
        "spiel.play(next_wert)"
      ],
      "metadata": {
        "id": "QgRxFMWc4PHn",
        "colab": {
          "base_uri": "https://localhost:8080/",
          "height": 200
        },
        "outputId": "78987deb-a0f7-4b1d-c5d7-8c41ca40b848"
      },
      "execution_count": null,
      "outputs": [
        {
          "output_type": "error",
          "ename": "NameError",
          "evalue": "ignored",
          "traceback": [
            "\u001b[0;31m---------------------------------------------------------------------------\u001b[0m",
            "\u001b[0;31mNameError\u001b[0m                                 Traceback (most recent call last)",
            "\u001b[0;32m<ipython-input-2-3e4fa399269f>\u001b[0m in \u001b[0;36m<module>\u001b[0;34m()\u001b[0m\n\u001b[1;32m      1\u001b[0m \u001b[0;31m#zweiter Codeblock\u001b[0m\u001b[0;34m\u001b[0m\u001b[0;34m\u001b[0m\u001b[0;34m\u001b[0m\u001b[0m\n\u001b[1;32m      2\u001b[0m \u001b[0mnext_wert\u001b[0m \u001b[0;34m=\u001b[0m \u001b[0;36m1\u001b[0m\u001b[0;34m\u001b[0m\u001b[0;34m\u001b[0m\u001b[0m\n\u001b[0;32m----> 3\u001b[0;31m \u001b[0mspiel\u001b[0m\u001b[0;34m.\u001b[0m\u001b[0mplay\u001b[0m\u001b[0;34m(\u001b[0m\u001b[0mnext_wert\u001b[0m\u001b[0;34m)\u001b[0m\u001b[0;34m\u001b[0m\u001b[0;34m\u001b[0m\u001b[0m\n\u001b[0m",
            "\u001b[0;31mNameError\u001b[0m: name 'spiel' is not defined"
          ]
        }
      ]
    },
    {
      "cell_type": "markdown",
      "source": [
        "####Musterlösung Abschnitt Aufgabe 1"
      ],
      "metadata": {
        "id": "lizOAT0VuzgA"
      }
    },
    {
      "cell_type": "code",
      "source": [
        "import random\n",
        "\n",
        "class Spiel():\n",
        "    def __init__(self, startwert=100, max_runden=5):\n",
        "        print(\"Willkommen!\")\n",
        "        self.wert = startwert\n",
        "        self.rundenzahl = 0\n",
        "        self.max_runden = max_runden\n",
        "        self.winwert = int(100*random.random()+100)"
      ],
      "metadata": {
        "id": "N0YpCOrnu9v8"
      },
      "execution_count": null,
      "outputs": []
    },
    {
      "cell_type": "markdown",
      "source": [
        "####Musterlösung Abschnitt Aufgabe 2"
      ],
      "metadata": {
        "id": "HhTD54cU3cxx"
      }
    },
    {
      "cell_type": "code",
      "source": [
        "class Spiel():\n",
        "# (...)\n",
        "    def play(self, wert):\n",
        "        if wert <= 0 :\n",
        "            print(\"Das ist leider nicht erlaubt!\")\n",
        "        else:\n",
        "            self.wert += wert\n",
        "            self.rundenzahl += 1\n",
        "            print(f\"Der Wert in Runde {self.rundenzahl} ist {self.wert}.\")\n",
        "            if self.wert>=self.winwert:\n",
        "                self.ende_wert()\n",
        "            if self.rundenzahl>=self.max_runden:\n",
        "                print(f\"Das Spiel ist zu Ende. Du bist {self.winwert-self.wert} von der gesuchten Zahl entfernt.\")\n"
      ],
      "metadata": {
        "id": "lYAv1-Nn3x5h"
      },
      "execution_count": null,
      "outputs": []
    },
    {
      "cell_type": "markdown",
      "source": [
        "####Musterlösung Abschnitt Aufgabe 3"
      ],
      "metadata": {
        "id": "Il29lhzd3gZR"
      }
    },
    {
      "cell_type": "code",
      "source": [
        "class Spiel():\n",
        "# (...)\n",
        "    def ende_wert(self):\n",
        "        if self.wert==self.winwert:\n",
        "            print(f\"Du hast gewonnen! {self.wert} war tatsächlich die gesuchte Zahl\")\n",
        "        else:\n",
        "            print(f\"Du hast verloren! Die gesuchte Zahl war {self.winwert}.\")\n",
        "\n",
        "spiel = Spiel()"
      ],
      "metadata": {
        "id": "EwtbRTCb369y"
      },
      "execution_count": null,
      "outputs": []
    },
    {
      "cell_type": "markdown",
      "source": [
        ""
      ],
      "metadata": {
        "id": "9fgiucoD3_Pl"
      }
    },
    {
      "cell_type": "markdown",
      "source": [
        "#### vollständige Musterlösung (mit Zusatzaufgabe)"
      ],
      "metadata": {
        "id": "u8FribBUvAZu"
      }
    },
    {
      "cell_type": "code",
      "execution_count": null,
      "metadata": {
        "colab": {
          "base_uri": "https://localhost:8080/"
        },
        "id": "dv9gzepi6nLF",
        "outputId": "f99786d5-4703-4cbe-e6f3-7a8a931e94e2"
      },
      "outputs": [
        {
          "output_type": "stream",
          "name": "stdout",
          "text": [
            "Willkommen!\n"
          ]
        }
      ],
      "source": [
        "import matplotlib.pyplot as plt\n",
        "import random\n",
        "\n",
        "class Spiel():\n",
        "    def __init__(self, startwert=100, max_runden=5):\n",
        "        print(\"Willkommen!\")\n",
        "        self.wert = startwert\n",
        "        self.rundenzahl = 0\n",
        "        self.max_runden = max_runden\n",
        "        self.winwert = int(100*random.random()+100)\n",
        "\n",
        "    def play(self, wert):\n",
        "        if wert <= 0 :\n",
        "            print(\"Das ist leider nicht erlaubt!\")\n",
        "        else:\n",
        "            self.wert += wert\n",
        "            self.rundenzahl += 1\n",
        "            print(f\"Der Wert in Runde {self.rundenzahl} von 5 ist {self.wert}.\")\n",
        "            if self.wert>=self.winwert:\n",
        "                self.ende_wert()\n",
        "            if self.rundenzahl>=self.max_runden:\n",
        "                print(f\"Das Spiel ist zu Ende. Du bist {self.winwert-self.wert} von der gesuchten Zahl entfernt.\")\n",
        "            if self.rundenzahl == self.max_runden-1 or self.rundenzahl == self.max_runden-2:\n",
        "              print(\"Hinweis: Die gesucht Zahl hat mindestens einen Wert von:\", int(random.random()*(self.winwert-self.wert) + self.wert))\n",
        "            \n",
        "    def ende_wert(self):\n",
        "        if self.wert==self.winwert:\n",
        "            print(f\"Du hast gewonnen! {self.wert} war tatsächlich die gesuchte Zahl\")\n",
        "        else:\n",
        "            print(f\"Du hast verloren! Die gesuchte Zahl war {self.winwert}.\")\n",
        "\n",
        "\n",
        "#Verworfen\n",
        "  #init\n",
        "    #self.wert_verlauf = [startwert]\n",
        "    #self.win = \"gewonnen\"\n",
        "    #self.endeendeende = False\n",
        "\n",
        "  #play\n",
        "    #def endeende(self):\n",
        "    #    print(\"Das Spiel ist leider schon beendet :-(\")\n",
        "    #    self.endeendeende = True\n",
        "\n",
        "\n",
        "    #if self.endeendeende:\n",
        "    #    self.endeende()\n",
        "    #    return\n",
        "\n",
        "  #ende\n",
        "    #self.ende = self.endeende \n",
        "\n",
        "spiel = Spiel()"
      ]
    },
    {
      "cell_type": "code",
      "source": [
        "next_wert = 1\n",
        "\n",
        "# ----------------------------\n",
        "spiel.play(next_wert)"
      ],
      "metadata": {
        "colab": {
          "base_uri": "https://localhost:8080/"
        },
        "id": "TgBgpob96-R5",
        "outputId": "51e99065-b205-45e8-a728-4e71470c7144"
      },
      "execution_count": null,
      "outputs": [
        {
          "output_type": "stream",
          "name": "stdout",
          "text": [
            "Der Wert in Runde 4 von 5 ist 131.\n",
            "Du hast gewonnen! 131 war tatsächlich die gesuchte Zahl\n",
            "Hinweis: Die gesucht Zahl hat mindestens einen Wert von: 131\n"
          ]
        }
      ]
    }
  ]
}