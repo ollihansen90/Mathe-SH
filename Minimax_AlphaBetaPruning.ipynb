{
  "nbformat": 4,
  "nbformat_minor": 0,
  "metadata": {
    "colab": {
      "provenance": [],
      "authorship_tag": "ABX9TyNB2o2rhDLjlbruM0U8hzeM",
      "include_colab_link": true
    },
    "kernelspec": {
      "name": "python3",
      "display_name": "Python 3"
    },
    "language_info": {
      "name": "python"
    }
  },
  "cells": [
    {
      "cell_type": "markdown",
      "metadata": {
        "id": "view-in-github",
        "colab_type": "text"
      },
      "source": [
        "<a href=\"https://colab.research.google.com/github/ollihansen90/Mathe-SH/blob/main/Minimax_AlphaBetaPruning.ipynb\" target=\"_parent\"><img src=\"https://colab.research.google.com/assets/colab-badge.svg\" alt=\"Open In Colab\"/></a>"
      ]
    },
    {
      "cell_type": "code",
      "execution_count": 28,
      "metadata": {
        "colab": {
          "base_uri": "https://localhost:8080/"
        },
        "id": "hWZt1dzc30Pd",
        "outputId": "e8c5f3ab-4e8b-414f-e054-39b518ac017b"
      },
      "outputs": [
        {
          "output_type": "stream",
          "name": "stdout",
          "text": [
            "[[[46, 47], [9, -48]], [[-92, -97], [23, 18]]]\n",
            "9\n"
          ]
        }
      ],
      "source": [
        "import random\n",
        "random.seed(10)\n",
        "\n",
        "def spielbaumgenerator(baum):\n",
        "    if len(baum)<=2:\n",
        "        return baum\n",
        "    n = 2 # random.randint(2,min(len(baum), 4))\n",
        "    baum = [spielbaumgenerator(baum[i::n]) for i in range(n)]\n",
        "    return baum\n",
        "\n",
        "values = [random.randint(-100,100) for _ in range(2**3)]\n",
        "spielbaum = spielbaumgenerator(values)\n",
        "print(spielbaum)\n",
        "\n",
        "def minimax(baum, maxi=True):\n",
        "    if isinstance(baum, int):\n",
        "        return baum\n",
        "    elif len(baum)==1:\n",
        "        return baum[0]\n",
        "    linkerarm = baum[0]\n",
        "    rechterarm = baum[1]\n",
        "    if maxi:\n",
        "        if isinstance(linkerarm, int) and isinstance(rechterarm, int):\n",
        "            return max([linkerarm, rechterarm])\n",
        "        if isinstance(linkerarm, int):\n",
        "            return max([linkerarm, minimax(rechterarm, maxi=False)])\n",
        "        elif isinstance(rechterarm, int):\n",
        "            return max([minimax(linkerarm, maxi=False), rechterarm])\n",
        "        return max([minimax(linkerarm, maxi=False), minimax(rechterarm, maxi=False)])\n",
        "    else:\n",
        "        if isinstance(linkerarm, int) and isinstance(rechterarm, int):\n",
        "            return min([linkerarm, rechterarm])\n",
        "        if isinstance(linkerarm, int):\n",
        "            return min([linkerarm, minimax(rechterarm)])\n",
        "        elif isinstance(rechterarm, int):\n",
        "            return min([minimax(linkerarm), rechterarm])\n",
        "        return min([minimax(linkerarm), minimax(rechterarm)])\n",
        "\n",
        "def minimax_alphabeta(baum, alpha=-float(\"inf\"), beta=float(\"inf\"), maxi=True):\n",
        "    if isinstance(baum, int):\n",
        "        return baum\n",
        "    elif len(baum)==1:\n",
        "        return baum[0]\n",
        "\n",
        "    if maxi==True:\n",
        "        # Checke linken Arm\n",
        "        for arm in baum:\n",
        "            wert = minimax_alphabeta(arm, alpha, beta, maxi=False)\n",
        "            if wert >= alpha:\n",
        "                alpha = wert\n",
        "            if beta <= alpha:\n",
        "                return alpha\n",
        "        return alpha\n",
        "    else:\n",
        "        for arm in baum:\n",
        "            wert = minimax_alphabeta(arm, alpha, beta, maxi=True)\n",
        "            if wert <= beta:\n",
        "                beta = wert\n",
        "            if beta <= alpha:\n",
        "                return beta\n",
        "        return beta\n",
        "\n",
        "def finde_groessten(baum):\n",
        "    linkerarm = baum[0]\n",
        "    rechterarm = baum[1]\n",
        "    if isinstance(linkerarm, int) and isinstance(rechterarm, int):\n",
        "        return max([linkerarm, rechterarm])\n",
        "    if isinstance(linkerarm, int):\n",
        "        return max([linkerarm, finde_groessten(rechterarm)])\n",
        "    elif isinstance(rechterarm, int):\n",
        "        return max([finde_groessten(linkerarm), rechterarm])\n",
        "\n",
        "    return max([finde_groessten(linkerarm), finde_groessten(rechterarm)])\n",
        "\n",
        "print(minimax_alphabeta(spielbaum))\n",
        "#print(minimax_alphabeta([[1,2],[3,4]]))"
      ]
    },
    {
      "cell_type": "code",
      "source": [
        "import time\n",
        "print(2**4)\n",
        "start = time.time()\n",
        "for _ in range(50000):\n",
        "    _ = minimax(spielbaum)\n",
        "print(\"Minimax:\", time.time()-start, \"s\")\n",
        "start = time.time()\n",
        "for _ in range(50000):\n",
        "    _ = minimax_alphabeta(spielbaum)\n",
        "print(\"Alpha-Beta-Pruning:\", time.time()-start, \"s\")"
      ],
      "metadata": {
        "colab": {
          "base_uri": "https://localhost:8080/"
        },
        "id": "UNyjX6q8DIVT",
        "outputId": "54ea92f0-3533-43f8-baf9-1210d84d1ed2"
      },
      "execution_count": 29,
      "outputs": [
        {
          "output_type": "stream",
          "name": "stdout",
          "text": [
            "16\n",
            "Minimax: 0.17876529693603516 s\n",
            "Alpha-Beta-Pruning: 0.15114521980285645 s\n"
          ]
        }
      ]
    }
  ]
}