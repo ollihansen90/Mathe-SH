{
  "nbformat": 4,
  "nbformat_minor": 0,
  "metadata": {
    "colab": {
      "name": "Klausur_04_2022.ipynb",
      "provenance": [],
      "collapsed_sections": [],
      "include_colab_link": true
    },
    "kernelspec": {
      "name": "python3",
      "display_name": "Python 3"
    },
    "language_info": {
      "name": "python"
    }
  },
  "cells": [
    {
      "cell_type": "markdown",
      "metadata": {
        "id": "view-in-github",
        "colab_type": "text"
      },
      "source": [
        "<a href=\"https://colab.research.google.com/github/ollihansen90/Mathe-SH/blob/main/Klausur_04_2022.ipynb\" target=\"_parent\"><img src=\"https://colab.research.google.com/assets/colab-badge.svg\" alt=\"Open In Colab\"/></a>"
      ]
    },
    {
      "cell_type": "markdown",
      "source": [
        "# Python-Klausur, April 2022 🥳\n",
        "Bei Mathe^SH sollt ihr die Möglichkeit haben, eine Teilnehmerurkunde für unseren Python-Kurs zu erwerben! Diese könnt ihr nach Bestehen unserer Klausur erhalten. \"Bestehen\" bedeutet, dass ihr mindestens 60% der Punkte der Klausur erreicht habt. Die Punktzahlen könnt ihr aus den Aufgaben entnehmen. Wenn ihr wollt, stellen wir euch ebenfalls ein kleines Schreiben aus, das ihr Bewerbungen hinzulegen könnt!\n",
        "\n",
        "Die Klausur ist in drei Teile aufgeteilt: In Teil 1 geht es um Wahr/Falsch-Aussagen, denen ihr jeweils den Wahrheitswert \"wahr\" oder \"falsch\" zuordnen sollt. In Teil 2 sollt ihr selbst ein paar kleinere Algorithmen umsetzen. Teil 3 enthält ein kleines Projekt, mit dem ihr Zusatzpunkte erlangen könnt, um Fehler in den ersten beiden Teilen auszugleichen.\n",
        "\n",
        "Die Klausur ist eine sogenannte \"Kofferklausur\", ihr dürft also ALLE Hilfen benutzen, die ihr da habt. Ihr solltet jedoch nicht eure Eltern um Hilfe bitten 😉\n",
        "\n",
        "Teil 1 müsst ihr schon am **20.04.2022** in unserem Präsenzkurs abgeben. Für die Teile 2 und 3 habt ihr eine Woche Zeit! Das bedeutet, die späteste Abgabe wäre der **27.04.2022 um 19:30 Uhr**. Verlasst den Kurs also am besten erst, sobald wir eure Antworten erhalten haben."
      ],
      "metadata": {
        "id": "bbymYn8Sv-HI"
      }
    },
    {
      "cell_type": "markdown",
      "source": [
        "# Fragen? 🤔\n",
        "Solltet ihr Fragen zu den Aufgaben oder Probleme mit Colab haben, schickt uns gerne eine Mail:\n",
        "\n",
        "*   hohansen@inb.uni-luebeck.de\n",
        "*   maren.wieder@student.uni-luebeck.de\n",
        "*   friederike.meissner@student.uni-luebeck.de\n",
        "*   dustin.haschke@student.uni-luebeck.de\n",
        "\n",
        "**Weitere Hilfen:**\n",
        "\n",
        " Dokumentation: https://docs.python.org\n",
        " \n",
        "alte Notebooks: https://github.com/ollihansen90/Mathe-SH/"
      ],
      "metadata": {
        "id": "yF1sEMR1v5S5"
      }
    },
    {
      "cell_type": "markdown",
      "source": [
        "# Teil 0\n",
        "Gib deinen Namen auf der Konsole aus. Dieser Name wird hinterher auch auf deiner Urkunde stehen!"
      ],
      "metadata": {
        "id": "lvE3hiCXuzqE"
      }
    },
    {
      "cell_type": "code",
      "source": [
        ""
      ],
      "metadata": {
        "id": "sUbS2SLxu4JU"
      },
      "execution_count": null,
      "outputs": []
    },
    {
      "cell_type": "markdown",
      "source": [
        "# Teil 1 (Abgabe am 20.04.2022), 10 Punkte"
      ],
      "metadata": {
        "id": "aW0thCROwHzT"
      }
    },
    {
      "cell_type": "markdown",
      "source": [
        "## Aufgabe 1 (Quizfragen)\n",
        "\n",
        "Gib zu jeder Aussage an, ob sie **wahr** oder **falsch** ist. Wenn die Aussage **falsch** ist, gib außerdem eine kurze Begründung an (nicht länger als 3 Sätze) oder korrigiere den Code.\n",
        "\n"
      ],
      "metadata": {
        "id": "Cj6AoUwJwfBN"
      }
    },
    {
      "cell_type": "markdown",
      "source": [
        "**Aussage 1:** Mithilfe der append()-Funktion können einzelne chars an das Ende eines string angefügt werden."
      ],
      "metadata": {
        "id": "Y8MlOLvWxwPp"
      }
    },
    {
      "cell_type": "code",
      "source": [
        "# Antwort:\n",
        "#"
      ],
      "metadata": {
        "id": "BC4tugT9yCwb"
      },
      "execution_count": null,
      "outputs": []
    },
    {
      "cell_type": "markdown",
      "source": [
        "**Aussage 2:** Bei der Sortierung von Buchstaben entsprechend ihrer „Größe“ wird nur die Reihenfolge im Alphabet beachtet. "
      ],
      "metadata": {
        "id": "BaMVpH2wyHwj"
      }
    },
    {
      "cell_type": "code",
      "source": [
        "# Antwort:\n",
        "#"
      ],
      "metadata": {
        "id": "MzL2QnQzyPUL"
      },
      "execution_count": null,
      "outputs": []
    },
    {
      "cell_type": "markdown",
      "source": [
        "**Aussage 3:** Beim Überschreiben einer lokalen Variable in einer Funktion verändert sich ihr Wert außerhalb der Funktion nicht."
      ],
      "metadata": {
        "id": "lHI7cAfoyOO_"
      }
    },
    {
      "cell_type": "code",
      "source": [
        "# Antwort:\n",
        "#"
      ],
      "metadata": {
        "id": "SOIFyb4gykID"
      },
      "execution_count": null,
      "outputs": []
    },
    {
      "cell_type": "markdown",
      "source": [
        "**Aussage 4:** Eine `while`-Schleife läuft solange, bis ihre Wahrheitsbedingung nicht (mehr) zutrifft."
      ],
      "metadata": {
        "id": "39rcngwzy0xP"
      }
    },
    {
      "cell_type": "code",
      "source": [
        "# Antwort:\n",
        "#"
      ],
      "metadata": {
        "id": "eQiE77X1y1Rm"
      },
      "execution_count": null,
      "outputs": []
    },
    {
      "cell_type": "markdown",
      "source": [
        "**Aussage 5:** `create berechnung():`  legt die Funktion `berechnung` an."
      ],
      "metadata": {
        "id": "jY6BRCy9zNw0"
      }
    },
    {
      "cell_type": "code",
      "source": [
        "# Antwort:\n",
        "#"
      ],
      "metadata": {
        "id": "B4YWq_-UzYxq"
      },
      "execution_count": null,
      "outputs": []
    },
    {
      "cell_type": "markdown",
      "source": [
        "# Teil 2 (Abgabe bis zum 27.04.2022), 30 Punkte"
      ],
      "metadata": {
        "id": "mk7PtvkywSau"
      }
    },
    {
      "cell_type": "markdown",
      "source": [
        "## Aufgabe 2 (leichtere Programmieraufgabe), 5 der 30 Punkte\n",
        "\n",
        "Berechne die Summe der Quadratzahlen *von 1 bis einschließlich 150* und gib das Ergebnis auf der Konsole aus."
      ],
      "metadata": {
        "id": "E5hLEkzCwi4W"
      }
    },
    {
      "cell_type": "code",
      "source": [
        ""
      ],
      "metadata": {
        "id": "pODQHVuivEK5"
      },
      "execution_count": null,
      "outputs": []
    },
    {
      "cell_type": "markdown",
      "source": [
        "## Aufgabe 3 (leichte Programmieraufgabe), 5 der 30 Punkte\n",
        "\n",
        "Schreibe einen Algorithmus, der die ersten 100 FizzBuzz-Zahlen ausgibt.\n",
        "\n",
        "FizzBuzz-Zahlen entsprechen eine Zahlenreihe, bei der jede durch 3 teilbare Zahl durch den Begriff \"fizz\", jede durch 5 teilbare Zahl durch \"buzz\" ersetzt wird. Ist eine Zahl durch 3 **und** 5 teilbar, wird sie durch \"fizzbuzz\" ausgetauscht.\n",
        "\n",
        "Die ersten fünfzehn FizzBuzz-Zahlen sehen so aus: ```1,2,fizz,4,buzz,fizz,7,8,fizz,buzz,11,fizz,13,14,fizzbuzz``` usw."
      ],
      "metadata": {
        "id": "FvD2pjQNwqWe"
      }
    },
    {
      "cell_type": "code",
      "source": [
        ""
      ],
      "metadata": {
        "id": "2AnqgRmawzCe"
      },
      "execution_count": null,
      "outputs": []
    },
    {
      "cell_type": "markdown",
      "source": [
        "## Aufgabe 4 (schwierigere Programmieraufgabe), 10 der 30 Punkte\n",
        "Im folgenden Gedicht ist jedes zweite Wort rückwärts geschrieben. Schreibe einen Algorithmus, der das Gedicht wieder richtig darstellen kann."
      ],
      "metadata": {
        "id": "HNMhhog8xA9W"
      }
    },
    {
      "cell_type": "code",
      "source": [
        "gedicht = \"\"\"Ein nohtypregiT kann thcin sitzen\n",
        "und tnnök er‘s,  wär se unbequem.\n",
        "Ich dnif die trA von ,solromuh\n",
        "neztiwsgnufpöhcS  tfahsob außerdem.\n",
        "\n",
        "Ein nohtyP beugt sua diesem ni\n",
        "ednurG einer ehcriK nie sad Knie.\n",
        "Stehn ,ella Gloria mi Munde,\n",
        "dann tgeil er – stur nohcs irgendwie. \"\"\"\n",
        "\n",
        "print(gedicht)"
      ],
      "metadata": {
        "id": "Y87LsaJLxAkq",
        "colab": {
          "base_uri": "https://localhost:8080/"
        },
        "outputId": "2f4106bc-e686-4a77-8258-d54f12a34809"
      },
      "execution_count": 9,
      "outputs": [
        {
          "output_type": "stream",
          "name": "stdout",
          "text": [
            "Ein nohtypregiT kann thcin sitzen\n",
            "und tnnök er‘s,  wär se unbequem.\n",
            "Ich dnif die trA von ,solromuh\n",
            "neztiwsgnufpöhcS  tfahsob außerdem.\n",
            "\n",
            "Ein nohtyP beugt sua diesem ni\n",
            "ednurG einer ehcriK nie sad Knie.\n",
            "Stehn ,ella Gloria mi Munde,\n",
            "dann tgeil er – stur nohcs irgendwie. \n"
          ]
        }
      ]
    },
    {
      "cell_type": "markdown",
      "source": [
        "## Aufgabe 5 (schwierigere Programmieraufgabe), 10 der 30 Punkte\n",
        "Definiere ein Dictionary, das den Steckbrief eines von dir gewählten Haustieres enthält. Es sollte die folgenden Eigenschaften (Keys) besitzen:\n",
        "- Name (String)\n",
        "- Alter (Zahl)\n",
        "- Liste der Lieblingsspielzeuge (Liste von Strings)\n",
        "- hungrig (Boolean)\n",
        "- lieb (Boolean)\n",
        "\n",
        "Füge nun die Farbe des Tieres zum Dictionary hinzu und gib anschließend alle enthaltenen Eigenschaften (ohne zugehörige Werte) auf der Konsole aus.\n",
        "\n",
        "Definiere eine Funktion ```futter_anbieten```, die \"Mhh\" ausgibt, falls das Haustier *hungrig* ist. Setze hiernach den Wert des Schlüssels *hungrig* auf *False*.\n",
        "\n",
        "Sollte das Haustier nicht *hungrig* und nicht *lieb* sein, so soll es \"Grr!\" ausgeben. Ist das Haustier nicht *hungrig*, aber *lieb*, so soll \"Frr\" ausgegeben werden.\n",
        "\n",
        "Füge durch einen Zugriff auf das Dictionary das weitere Lieblingsspielzeug *Wollball* hinzu.\n"
      ],
      "metadata": {
        "id": "IvBuRRy-w4UP"
      }
    },
    {
      "cell_type": "code",
      "source": [
        ""
      ],
      "metadata": {
        "id": "YHbuBHThxFt1"
      },
      "execution_count": null,
      "outputs": []
    },
    {
      "cell_type": "markdown",
      "source": [
        "# Teil 3 - Bonusprojekt (Abgabe bis 27.04.2022), 10 Punkte"
      ],
      "metadata": {
        "id": "svk-1eQ2xGVJ"
      }
    },
    {
      "cell_type": "markdown",
      "source": [
        "#Bäckerei . . .  *der elementweisen Vektoroperationen* 🎂\n",
        "\n",
        "Es sollen vier Kuchen, sieben Torten und vier Bleche Kekse aus Zutaten gebacken werden.\n",
        "\n",
        "Jeder Kuchen benötigt *6 Eier, 4 Häufchen Mehl und 3 Stück Butter*, jede Torte benötigt *12 Eier, 7 Stück Butter* und die Kekse benötigen *9 Eier, 10 Häufchen Mehl und 6 Stück Butter*.\n",
        "\n",
        "Lege für die drei Backwaren drei Listen an, die diesen die entsprechende Menge an Zutaten in einer bestimmten Reihenfolge zuordnet, aber möglichst keine Null enthält.\n",
        "\n",
        "###1.) effektive Arbeitsschritte\n",
        "\n",
        "Da du zwei Bleche hast und dir bei der Verarbeitung der Zutaten Zeit sparen willst, überlegst du, ob du vielleicht einen Backgang mit zwei unterschiedlichen Waren ausfüllen kannst.\n",
        "\n",
        "Schreibe  eine Funktion, die erst testet, ob für genau zwei kombinierten Backwaren die genau gleichen Zutaten (in unterschiedlicher Menge zwar) benötigt werden und du dir so vielleicht Arbeitsschritte sparen kannst.\n",
        "\n",
        "Versuche hierfür in diesem Bespiel speziell auch die Länge der Liste zu überprüfen.\n",
        "\n",
        "###2.) Zutaten-Einkaufsliste\n",
        "Definiere nun die Liste(n) deiner Zutaten um und ergänze die Null, die du in anfangs ausgelassen hattest.\n",
        "\n",
        "Nun sollst du eine Funktion anlegen, der die Anzahl an Kuchen, Torten und Keksen übergeben wird, und dir die Menge an benötigten Zutaten zurückliefert.\n",
        "\n",
        "Teste die Funktion dafür mit den gemäß den ganz oben anzufertigenden Backwaren.\n",
        "\n",
        "*Beispiel:* 1 Kuchen, 2 Torten und 4 Bleche Kekse ergeben die Einkaufsliste 66 Eier, 44 Häufchen Mehl und 41 Stück Butter.\n",
        "\n",
        "\n",
        "###3.) Kalorien zählen\n",
        "Ein Ei hat 80 kcal, ein Häufchen Mehl 100 kcal und ein Stück Butter 180 kcal. Ergänze deine Funktion aus *2.)* so, dass die Gesamtanzahl der Kalorien (kcal) der Einkaufsliste ausgegeben wird.\n",
        "\n",
        "*Beispiel:* 1 Kuchen, 2 Torten und 4 Bleche Kekse ergeben die Einkaufsliste 66 Eier, 44 Häufchen Mehl und 41 Stück Butter. Der Einkauf hat also einen Brennwert von 17.060 kcal.\n",
        "\n",
        "Viel Spaß!\n",
        "Du backst das. 😀"
      ],
      "metadata": {
        "id": "w0y3n9lc_y1_"
      }
    },
    {
      "cell_type": "code",
      "source": [
        ""
      ],
      "metadata": {
        "id": "_hMtv8OQ6ZZy"
      },
      "execution_count": null,
      "outputs": []
    }
  ]
}