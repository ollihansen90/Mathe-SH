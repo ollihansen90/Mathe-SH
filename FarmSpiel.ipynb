{
  "nbformat": 4,
  "nbformat_minor": 0,
  "metadata": {
    "colab": {
      "name": "FarmSpiel.ipynb",
      "provenance": [],
      "collapsed_sections": [],
      "authorship_tag": "ABX9TyO5A4rKS7LLgmLdGhqsNk50",
      "include_colab_link": true
    },
    "kernelspec": {
      "name": "python3",
      "display_name": "Python 3"
    },
    "language_info": {
      "name": "python"
    }
  },
  "cells": [
    {
      "cell_type": "markdown",
      "metadata": {
        "id": "view-in-github",
        "colab_type": "text"
      },
      "source": [
        "<a href=\"https://colab.research.google.com/github/ollihansen90/Mathe-SH/blob/main/FarmSpiel.ipynb\" target=\"_parent\"><img src=\"https://colab.research.google.com/assets/colab-badge.svg\" alt=\"Open In Colab\"/></a>"
      ]
    },
    {
      "cell_type": "markdown",
      "source": [
        "# Das Farm-Spiel\n",
        "In diesem Notebook ist eine (erste, einfache) Implementierung unseres Farm-Spiels umgesetzt. Es handelt sich dabei um ein rundenbasiertes Strategie-Spiel, bei dem man entscheiden muss, ob und wann man welche Pflanzen anbaut und verkauft.\n",
        "\n",
        "# Fragen?\n",
        "Solltet ihr Fragen zum Code oder Probleme mit Colab haben, schickt uns gerne eine Mail:\n",
        "\n",
        "*   hohansen@inb.uni-luebeck.de\n",
        "*   maren.wieder@student.uni-luebeck.de\n",
        "*   friederike.meissner@student.uni-luebeck.de\n",
        "*   dustin.haschke@student.uni-luebeck.de"
      ],
      "metadata": {
        "id": "4qKpbFyzXOSD"
      }
    },
    {
      "cell_type": "markdown",
      "source": [
        "## Spielinitialisierung\n",
        "In diesem Abschnitt muss nichts verändert werden. Es reicht, wenn der Codeblock ausgeführt wird."
      ],
      "metadata": {
        "id": "_kvkH1q6XkDh"
      }
    },
    {
      "cell_type": "code",
      "execution_count": 46,
      "metadata": {
        "colab": {
          "base_uri": "https://localhost:8080/"
        },
        "id": "vCck9jKLXhsu",
        "outputId": "1aa5c8fd-fdca-47f3-a0fe-875cb16f2451"
      },
      "outputs": [
        {
          "output_type": "stream",
          "name": "stdout",
          "text": [
            "Willkommen auf deiner Farm! :-)\n",
            "Wir spielen 10 Tage, in denen du deine Farm bewirtschaften kannst.\n",
            "Dein Startkapital beträgt 5 Spielgeld.\n",
            "Viel Spaß! :-)\n"
          ]
        }
      ],
      "source": [
        "import random\n",
        "import matplotlib.pyplot as plt\n",
        "\n",
        "def faktor():\n",
        "    z = random.random()-0.5\n",
        "    if z<0:\n",
        "        return 1/(1+z)\n",
        "    else:\n",
        "        return 1-z\n",
        "\n",
        "\n",
        "class Spiel():\n",
        "    def __init__(self, n_tage=10, startwert=10):\n",
        "        self.markt = Markt(n_tage=n_tage, n_pflanzen=3)\n",
        "        self.farm = Farm(startwert=startwert)\n",
        "        self.__n_tage = 10\n",
        "        self.__tag = 0\n",
        "        self.ende = False\n",
        "        self.__budgetverlauf = [startwert]\n",
        "\n",
        "        print(\"Willkommen auf deiner Farm! :-)\")\n",
        "        print(f\"Wir spielen {self.__n_tage} Tage, in denen du deine Farm bewirtschaften kannst.\")\n",
        "        print(f\"Dein Startkapital beträgt {startwert} Spielgeld.\")\n",
        "        print(\"Viel Spaß! :-)\")\n",
        "    \n",
        "    def play(self, felder):\n",
        "\n",
        "        if self.__tag>self.__n_tage or self.ende:\n",
        "            self.endefunc()\n",
        "            self.ende = True\n",
        "            return\n",
        "        \n",
        "        felder_alt = self.farm.get_felder()\n",
        "        kaufen = \"\"\n",
        "        verkaufen = \"\"\n",
        "        for i in range(len(felder)):\n",
        "            for j in range(len(felder[i])):\n",
        "                felder[i][j] = (felder[i][j]).upper()\n",
        "                if felder[i][j]!=felder_alt[i][j]:\n",
        "                    if felder[i][j] in [\"V\", \"L\"]:\n",
        "                        verkaufen += felder_alt[i][j]\n",
        "                        felder[i][j] = \"L\"\n",
        "                    else:\n",
        "                        kaufen += felder[i][j]\n",
        "        self.farm.set_felder(felder)\n",
        "        self.farm.kaufen(kaufen, self.markt.saatpreise(self.__tag))\n",
        "        self.farm.verkaufen(verkaufen, self.markt.pflanzenpreise(self.__tag))\n",
        "        self.__tag += 1\n",
        "        print(f\"Tag: {self.__tag}\")\n",
        "        print(f\"Farmbudget: {self.farm.get_budget()}\")\n",
        "        if self.farm.get_felder()[0][0] != \"F\":\n",
        "            self.endefunc()\n",
        "            self.ende = True\n",
        "            return\n",
        "        self.farm.draw()\n",
        "        print(20*\"-\")\n",
        "        print(\"Nächste Preise:\")\n",
        "        p = Erdbeere()\n",
        "        print(\"Erdbeeren:\")\n",
        "        print(f\"\\tSaatkaufpreis: {self.markt.saatpreise(self.__tag)[int(p)]*p.einkaufspreis}\")\n",
        "        print(f\"\\tVerkaufspreis: {self.markt.pflanzenpreise(self.__tag)[int(p)]*p.verkaufspreis}\")\n",
        "        print(\"Mais:\")\n",
        "        p = Mais()\n",
        "        print(f\"\\tSaatkaufpreis: {self.markt.saatpreise(self.__tag)[int(p)]*p.einkaufspreis}\")\n",
        "        print(f\"\\tVerkaufspreis: {self.markt.pflanzenpreise(self.__tag)[int(p)]*p.verkaufspreis}\")\n",
        "        print(\"Kartoffeln:\")\n",
        "        p = Kartoffel()\n",
        "        print(f\"\\tSaatkaufpreis: {self.markt.saatpreise(self.__tag)[int(p)]*p.einkaufspreis}\")\n",
        "        print(f\"\\tVerkaufspreis: {self.markt.pflanzenpreise(self.__tag)[int(p)]*p.verkaufspreis}\")\n",
        "        self.__budgetverlauf.append(self.farm.get_budget())\n",
        "    \n",
        "    def endefunc(self):\n",
        "        self.farm.draw()\n",
        "        print(f\"Das Spiel ist vorbei! Du hast das Spiel an Tag {self.__tag} mit {self.farm.get_budget()} Spielgeld beendet. \\nHerzlichen Glückwunsch :-)\")\n",
        "        plt.figure()\n",
        "        plt.plot(self.__budgetverlauf)\n",
        "        plt.title(\"Budgetverlauf\")\n",
        "        plt.grid()\n",
        "        plt.show()\n",
        "\n",
        "\n",
        "class Farm():\n",
        "    def __init__(self, startwert):\n",
        "        self.__budget = startwert\n",
        "        self.__felder = 8\n",
        "        self.__felder = [[\"F\", \"L\", \"L\"], 3*[\"L\"], 3*[\"L\"]]\n",
        "\n",
        "    def draw(self):\n",
        "        print(5*\"#\")\n",
        "        for feldline in self.__felder:\n",
        "            print(\"#\"+\"\".join(feldline)+\"#\")\n",
        "        print(5*\"#\")\n",
        "    \n",
        "    def get_budget(self):\n",
        "        return self.__budget\n",
        "\n",
        "    def get_budget_verlauf(self):\n",
        "        return self.__budget\n",
        "\n",
        "    def set_felder(self, felder):\n",
        "        self.__felder = felder\n",
        "\n",
        "    def get_felder(self):\n",
        "        return self.__felder\n",
        "\n",
        "    def kaufen(self, k, preise):\n",
        "        lookup = {\n",
        "                    \"E\": Erdbeere(), \n",
        "                    \"K\": Kartoffel(),\n",
        "                    \"M\": Mais()\n",
        "                 }\n",
        "        for val in k:\n",
        "            if val in lookup:\n",
        "                obj = lookup[val]\n",
        "                self.__budget -= preise[int(obj)]*obj.einkaufspreis\n",
        "\n",
        "    \n",
        "    def verkaufen(self, v, preise):\n",
        "        lookup = {\n",
        "                    \"E\": Erdbeere(), \n",
        "                    \"K\": Kartoffel(),\n",
        "                    \"M\": Mais()\n",
        "                 }\n",
        "        for val in v:\n",
        "            if val in lookup:\n",
        "                obj = lookup[val]\n",
        "                self.__budget += preise[int(obj)]*obj.verkaufspreis\n",
        "            if val==\"F\":\n",
        "                self.__budget += 1000\n",
        "\n",
        "\n",
        "class Markt():\n",
        "    def __init__(self, n_tage=10, n_pflanzen=3):\n",
        "        self.__verlauf_pflanze = self.__set_verlauf(n_tage, n_pflanzen)\n",
        "        self.__verlauf_saat = self.__set_verlauf(n_tage, n_pflanzen)\n",
        "\n",
        "    def saatpreise(self, tag=0):\n",
        "        if tag>=len(self.__verlauf_saat):\n",
        "            return len(self.__verlauf_saat[0])*[0]\n",
        "        return self.__verlauf_saat[tag]\n",
        "\n",
        "    def pflanzenpreise(self, tag=0):\n",
        "        if tag>=len(self.__verlauf_pflanze):\n",
        "            return len(self.__verlauf_pflanze[0])*[0]\n",
        "        return self.__verlauf_pflanze[tag]\n",
        "\n",
        "    def __set_verlauf(self, n_tage, n_pflanzen):\n",
        "        return [[faktor() for i in range(n_pflanzen)] for _ in range(n_tage)]\n",
        "\n",
        "\n",
        "class Feldfrucht():\n",
        "    def __init__(self, name, einkaufspreis, verarbeitungskosten, verkaufspreis):\n",
        "        self.name = name\n",
        "        self.einkaufspreis = einkaufspreis\n",
        "        self.verarbeitungskosten = verarbeitungskosten\n",
        "        self.verkaufspreis = verkaufspreis\n",
        "        self.idx = 0\n",
        "\n",
        "    def __int__(self):\n",
        "        return self.idx\n",
        "\n",
        "\n",
        "class Erdbeere(Feldfrucht):\n",
        "    def __init__(self, einkaufspreis=1., verarbeitungskosten=0, verkaufspreis=2.5):\n",
        "        super().__init__(\"Erdbeere\", einkaufspreis, verarbeitungskosten, verkaufspreis)\n",
        "        self.idx = 0\n",
        "\n",
        "\n",
        "class Mais(Feldfrucht):\n",
        "    def __init__(self, einkaufspreis=.5, verarbeitungskosten=0, verkaufspreis=1.1):\n",
        "        super().__init__(\"Mais\", einkaufspreis, verarbeitungskosten, verkaufspreis)\n",
        "        self.idx = 1\n",
        "\n",
        "\n",
        "class Kartoffel(Feldfrucht):\n",
        "    def __init__(self, einkaufspreis=.4, verarbeitungskosten=0, verkaufspreis=1.2):\n",
        "        super().__init__(\"Kartoffel\", einkaufspreis, verarbeitungskosten, verkaufspreis)\n",
        "        self.idx = 2\n",
        "\n",
        "def set_all_to(s):\n",
        "    return [[\"F\", s, s], 3*[s], 3*[s]]\n",
        "\n",
        "def sell_EVERYTHING():\n",
        "    return 3*[3*[\"v\"]]\n",
        "\n",
        "spiel = Spiel(startwert=5, n_tage=10)"
      ]
    },
    {
      "cell_type": "markdown",
      "source": [
        "## Das eigentliche Spiel\n",
        "Da das Spiel rundenbasiert sein soll, brauchen wir im \"Hintergrund\" einen Rahmen des Spiels (das ist die Klasse `Spiel` in dem Codeblock darüber), der nicht mehr verändert wird. Mit anderen Worten: Ein neues Spiel beginnt, wenn man den ersten Codeblock ausführt, eine neue Runde beginnt, wenn der zweite Codeblock ausgeführt wird.\n",
        "\n",
        "### Kurze Erklärung\n",
        "Ziel des Spiels ist es, in gegebener Zeit möglichst viel Geld zu verdienen! Kauft man beispielsweise Erdbeer-Saat für 0.5 und verkauft die fertigen Erdbeeren für 2, so hat man 1.5 Gewinn gemacht! \n",
        "\n",
        "### Steuerung\n",
        "Das einzige, was in dem untenstehenden Codeblock verändert werden muss, sind die Einträge der Liste `felder`. `felder` beschreibt den Aufbau der Farm. Oben links steht immer das Farmgebäude, ohne das die Farm nicht existieren kann. Folgende Befehle können durchgeführt werden:\n",
        "- `V`: Verkaufe, was auf dem Feld gewachsen ist! Ist auf dem Feld nichts, so wird auch kein Gewinn erzielt.\n",
        "- `E`, `K` oder `M`: Baue Erdbeeren, Kartoffeln bzw. Mais an. Hierbei wird automatisch die Saat gekauft.\n",
        "- `L`: Leeres Feld. Ist vorher auf dem jeweiligen Feld eine Feldfrucht, so wird sie automatisch verkauft.\n",
        "\n",
        "**Achtung:** Die Liste `felder` muss *immer* genau 3 Listen mit jeweils 3 Einträgen enthalten!\n",
        "\n",
        "### Ausgaben unter dem Codeblock\n",
        "Unter dem Codeblock werden Informationen ausgegeben, die für das Spielen wichtig sind. So wird die aktuelle Tagesnummer angezeigt, das aktuelle Budget (\"wie viel Geld haben wir über?\") und ein \"Bild\" der Farm ausgegeben. Die Hashtags # sollen dabei den Zaun um unsere Farm symbolisieren.\n",
        "\n",
        "Unter dem Trennstrich werden die nächsten Preise für die jeweilige Saat und der Verkaufspreis der gewachsenen Pflanze angegeben. Hier muss nun entschieden werden, was der nächste Zug sein wird.\n",
        "\n",
        "Das Spiel endet nach der jeweiligen angegebenen Tageszahl `n_tage` (Standardwert ist hierbei 10)."
      ],
      "metadata": {
        "id": "JDxgLGSPXt17"
      }
    },
    {
      "cell_type": "code",
      "source": [
        "# Hier könnt ihr entscheiden, was ihr machen wollt\n",
        "#   E: Baue Erdbeeren an\n",
        "#   K: Baue Kartoffeln an\n",
        "#   M: Baue Mais an\n",
        "#   V: Verkaufe, was auf dem Feld ist\n",
        "#   L: Leeres Feld\n",
        "felder = [\n",
        "          [\"F\", \"v\", \"v\"],\n",
        "          [\"v\", \"v\", \"v\"],\n",
        "          [\"v\", \"v\", \"v\"]\n",
        "        ]\n",
        "felder = set_all_to(\"v\")\n",
        "felder = sell_EVERYTHING()\n",
        "# Starte Spiel\n",
        "spiel.play(felder)"
      ],
      "metadata": {
        "colab": {
          "base_uri": "https://localhost:8080/",
          "height": 446
        },
        "id": "P3_fxP2iaPAI",
        "outputId": "1113594c-727d-4e24-c7a2-bc511f63bcbd"
      },
      "execution_count": 57,
      "outputs": [
        {
          "output_type": "stream",
          "name": "stdout",
          "text": [
            "Tag: 11\n",
            "Farmbudget: 1034.6474063705189\n",
            "#####\n",
            "#LLL#\n",
            "#LLL#\n",
            "#LLL#\n",
            "#####\n",
            "Das Spiel ist vorbei! Du hast das Spiel an Tag 11 mit 1034.6474063705189 Spielgeld beendet. \n",
            "Herzlichen Glückwunsch :-)\n"
          ]
        },
        {
          "output_type": "display_data",
          "data": {
            "text/plain": [
              "<Figure size 432x288 with 1 Axes>"
            ],
            "image/png": "[encoded data removed]"
          },
          "metadata": {
            "needs_background": "light"
          }
        }
      ]
    }
  ]
}