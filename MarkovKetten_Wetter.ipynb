{
  "nbformat": 4,
  "nbformat_minor": 0,
  "metadata": {
    "colab": {
      "provenance": [],
      "authorship_tag": "ABX9TyNUUTKjPOL0chHZTy81CFdW",
      "include_colab_link": true
    },
    "kernelspec": {
      "name": "python3",
      "display_name": "Python 3"
    },
    "language_info": {
      "name": "python"
    }
  },
  "cells": [
    {
      "cell_type": "markdown",
      "metadata": {
        "id": "view-in-github",
        "colab_type": "text"
      },
      "source": [
        "<a href=\"https://colab.research.google.com/github/ollihansen90/Mathe-SH/blob/main/MarkovKetten_Wetter.ipynb\" target=\"_parent\"><img src=\"https://colab.research.google.com/assets/colab-badge.svg\" alt=\"Open In Colab\"/></a>"
      ]
    },
    {
      "cell_type": "code",
      "execution_count": null,
      "metadata": {
        "colab": {
          "base_uri": "https://localhost:8080/",
          "height": 725
        },
        "id": "nfVS7dyCpbLN",
        "outputId": "6aeb3b72-afa7-401d-e672-dcd3a82d2710"
      },
      "outputs": [
        {
          "output_type": "stream",
          "name": "stdout",
          "text": [
            "--2023-06-21 16:33:18--  https://github.com/ollihansen90/Mathe-SH/raw/main/data/data.npy\n",
            "Resolving github.com (github.com)... 140.82.112.4\n",
            "Connecting to github.com (github.com)|140.82.112.4|:443... connected.\n",
            "HTTP request sent, awaiting response... 302 Found\n",
            "Location: https://raw.githubusercontent.com/ollihansen90/Mathe-SH/main/data/data.npy [following]\n",
            "--2023-06-21 16:33:18--  https://raw.githubusercontent.com/ollihansen90/Mathe-SH/main/data/data.npy\n",
            "Resolving raw.githubusercontent.com (raw.githubusercontent.com)... 185.199.108.133, 185.199.109.133, 185.199.110.133, ...\n",
            "Connecting to raw.githubusercontent.com (raw.githubusercontent.com)|185.199.108.133|:443... connected.\n",
            "HTTP request sent, awaiting response... 200 OK\n",
            "Length: 51264 (50K) [application/octet-stream]\n",
            "Saving to: ‘data.npy’\n",
            "\n",
            "\rdata.npy              0%[                    ]       0  --.-KB/s               \rdata.npy            100%[===================>]  50.06K  --.-KB/s    in 0.002s  \n",
            "\n",
            "2023-06-21 16:33:19 (25.7 MB/s) - ‘data.npy’ saved [51264/51264]\n",
            "\n",
            "(12784,)\n"
          ]
        },
        {
          "output_type": "display_data",
          "data": {
            "text/plain": [
              "<Figure size 640x480 with 1 Axes>"
            ],
            "image/png": "[encoded data removed]"
          },
          "metadata": {}
        }
      ],
      "source": [
        "!wget -nc https://github.com/ollihansen90/Mathe-SH/raw/main/data/data.npy\n",
        "import numpy as np\n",
        "import matplotlib.pyplot as plt\n",
        "\n",
        "data = np.load(\"data.npy\")\n",
        "# 0: Sonne\n",
        "# 6: Regen\n",
        "# 7: Schnee\n",
        "# 8: Schneeregen\n",
        "# 00: Sonne -> Sonne\n",
        "\n",
        "print(data.shape)\n",
        "plt.figure()\n",
        "plt.plot(data, \".\")\n",
        "plt.show()"
      ]
    },
    {
      "cell_type": "code",
      "source": [
        "wetterdict = dict()\n",
        "zuordnung = {\n",
        "    \"0\": \"Sonne\",\n",
        "    \"6\": \"Regen\",\n",
        "    \"7\": \"Schnee\",\n",
        "    \"8\": \"Schneeregen\"\n",
        "}\n",
        "\n",
        "folge = [0,0,0,8,7]\n",
        "folge = data\n",
        "\n",
        "def dictupdate(dictionary, key, value):\n",
        "    if key in dictionary.keys():\n",
        "        if value in dictionary[key].keys():\n",
        "            dictionary[key][value] += 1\n",
        "        else:\n",
        "            dictionary[key][value] = 1\n",
        "    else:\n",
        "        dictionary[key] = dict()\n",
        "        dictionary[key][value] = 1\n",
        "    return dictionary\n",
        "\n",
        "for i in range(len(folge)-1):\n",
        "    hier = folge[i]\n",
        "    nachbar = folge[i+1]\n",
        "    wetterdict = dictupdate(wetterdict, hier, nachbar)\n",
        "\n",
        "    #print(wetterdict)\n",
        "#wetterdict[0] = dict()\n",
        "#wetterdict[0][0] = 1\n",
        "#wetterdict[0][8] = 1\n",
        "print(wetterdict)"
      ],
      "metadata": {
        "colab": {
          "base_uri": "https://localhost:8080/"
        },
        "id": "AXA57JbHtgZz",
        "outputId": "76f89a2b-27cd-4a16-ef29-4d84f9ff8ce5"
      },
      "execution_count": null,
      "outputs": [
        {
          "output_type": "stream",
          "name": "stdout",
          "text": [
            "{0: {0: 3085, 6: 1536, 8: 127, 7: 149}, 6: {0: 1511, 6: 4546, 8: 276, 7: 63}, 8: {8: 265, 6: 260, 0: 119, 7: 129}, 7: {8: 105, 7: 376, 0: 182, 6: 54}}\n"
          ]
        }
      ]
    },
    {
      "cell_type": "code",
      "source": [
        "wetterprobs = dict()\n",
        "\n",
        "for heute in wetterdict.keys():\n",
        "\n",
        "    wetterprobs[heute] = wetterdict[heute]\n",
        "    summe = 0\n",
        "    for wetter in wetterprobs[heute].keys():\n",
        "        summe += wetterprobs[heute][wetter]\n",
        "\n",
        "    for wetter in wetterprobs[heute].keys():\n",
        "        wetterprobs[heute][wetter] /= summe\n",
        "\n",
        "print(wetterprobs)"
      ],
      "metadata": {
        "colab": {
          "base_uri": "https://localhost:8080/"
        },
        "id": "vLprpLSC0Yc9",
        "outputId": "c174b332-5e27-4605-d719-eb7a179741da"
      },
      "execution_count": null,
      "outputs": [
        {
          "output_type": "stream",
          "name": "stdout",
          "text": [
            "{0: {0: 0.6299775372677149, 6: 0.31366142536246683, 8: 0.02593424545640188, 7: 0.03042679191341638}, 6: {0: 0.2362414008755472, 6: 0.7107567229518449, 8: 0.043151969981238276, 7: 0.009849906191369606}, 8: {8: 0.3428201811125485, 6: 0.33635187580853815, 0: 0.1539456662354463, 7: 0.16688227684346701}, 7: {8: 0.14644351464435146, 7: 0.5244072524407253, 0: 0.25383542538354253, 6: 0.07531380753138076}}\n"
          ]
        }
      ]
    },
    {
      "cell_type": "code",
      "source": [
        "wettervert = dict()\n",
        "keylist = [0,6,7,8]\n",
        "\n",
        "for schluessel in keylist:\n",
        "    wettervert[schluessel] = wetterprobs[schluessel]\n",
        "    cumsum = 0\n",
        "    for key in keylist:\n",
        "        cumsum += wettervert[schluessel][key]\n",
        "        wettervert[schluessel][key] = cumsum\n",
        "\n",
        "print(wettervert)\n",
        "print(wetterprobs)"
      ],
      "metadata": {
        "colab": {
          "base_uri": "https://localhost:8080/"
        },
        "id": "mL_Os87n1nyf",
        "outputId": "0bf2d6f1-7a49-463e-e066-fb46c7ceb977"
      },
      "execution_count": null,
      "outputs": [
        {
          "output_type": "stream",
          "name": "stdout",
          "text": [
            "{0: {0: 0.6299775372677149, 6: 0.9436389626301818, 8: 1.0, 7: 0.9740657545435981}, 6: {0: 0.2362414008755472, 6: 0.9469981238273921, 8: 1.0, 7: 0.9568480300187617}, 7: {8: 1.0, 7: 0.8535564853556485, 0: 0.25383542538354253, 6: 0.32914923291492326}, 8: {8: 1.0, 6: 0.49029754204398446, 0: 0.1539456662354463, 7: 0.6571798188874515}}\n",
            "{0: {0: 0.6299775372677149, 6: 0.9436389626301818, 8: 1.0, 7: 0.9740657545435981}, 6: {0: 0.2362414008755472, 6: 0.9469981238273921, 8: 1.0, 7: 0.9568480300187617}, 8: {8: 1.0, 6: 0.49029754204398446, 0: 0.1539456662354463, 7: 0.6571798188874515}, 7: {8: 1.0, 7: 0.8535564853556485, 0: 0.25383542538354253, 6: 0.32914923291492326}}\n"
          ]
        }
      ]
    },
    {
      "cell_type": "code",
      "source": [
        "# Monte-Carlo-Simulation\n",
        "# \"Wahrscheinlichkeitsgewichteter Pfad durch einen Phasenraum\"\n",
        "# \"Phasenraum\": Menge der Zustände, hier (\"Sonne\", \"Regen\", \"Schnee\", \"Schneeregen\")\n",
        "import random\n",
        "\n",
        "z = random.random()\n",
        "\n",
        "liste = [0, 0.1, 0.7, 0.8, 0.81, 0.9, 1]\n",
        "print(z)\n",
        "def finde_index(liste, wert):\n",
        "    idx = 0\n",
        "    while wert>liste[idx]:\n",
        "        idx += 1\n",
        "    return idx\n",
        "\n",
        "def finde_index(liste, wert):\n",
        "    for i in range(len(liste)):\n",
        "        wert2 = liste[i]\n",
        "        if wert2 > wert:\n",
        "            idx = i\n",
        "            break\n",
        "    return idx\n",
        "idx = finde_index(liste, 0.85)\n",
        "print(idx) # 5"
      ],
      "metadata": {
        "colab": {
          "base_uri": "https://localhost:8080/"
        },
        "id": "MhBhzizq1Y4s",
        "outputId": "d15d3978-1354-4e56-a312-0520e625a7b2"
      },
      "execution_count": null,
      "outputs": [
        {
          "output_type": "stream",
          "name": "stdout",
          "text": [
            "0.9660376587408677\n",
            "5\n"
          ]
        }
      ]
    },
    {
      "cell_type": "code",
      "source": [
        "jetzt = 0\n",
        "vorhersagen = []\n",
        "\n",
        "emojiwetter = {\n",
        "    \"0\": \"\\u2600\",\n",
        "    \"6\": \"\\U00002614\",\n",
        "    \"7\": \"\\u2744\",\n",
        "    \"8\": \"\\u26C4\"\n",
        "}\n",
        "print(\"\\U00002614\")\n",
        "\n",
        "for tag in range(10):\n",
        "    morgenvert = wettervert[jetzt]\n",
        "    phasen = [0,6,7,8]\n",
        "    vert = []\n",
        "    for i in phasen:\n",
        "        vert.append(morgenvert[i])\n",
        "    z = random.random()\n",
        "    morgen = finde_index(vert, z)\n",
        "    vorhersagen.append(emojiwetter[str(phasen[morgen])])\n",
        "    jetzt = phasen[morgen]\n",
        "\n",
        "print(\" -> \".join(vorhersagen))\n"
      ],
      "metadata": {
        "colab": {
          "base_uri": "https://localhost:8080/"
        },
        "id": "mYJo2rhc6Fx9",
        "outputId": "667651ec-f315-4e10-f283-22e7a475d27e"
      },
      "execution_count": null,
      "outputs": [
        {
          "output_type": "stream",
          "name": "stdout",
          "text": [
            "☔\n",
            "☀ -> ☀ -> ☔ -> ☔ -> ☀ -> ☀ -> ☀ -> ☀ -> ☀ -> ☔\n"
          ]
        }
      ]
    }
  ]
}