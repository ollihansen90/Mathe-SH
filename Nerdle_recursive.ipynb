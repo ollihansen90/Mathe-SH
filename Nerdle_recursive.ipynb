{
  "nbformat": 4,
  "nbformat_minor": 0,
  "metadata": {
    "colab": {
      "provenance": [],
      "include_colab_link": true
    },
    "kernelspec": {
      "name": "python3",
      "display_name": "Python 3"
    },
    "language_info": {
      "name": "python"
    }
  },
  "cells": [
    {
      "cell_type": "markdown",
      "metadata": {
        "id": "view-in-github",
        "colab_type": "text"
      },
      "source": [
        "<a href=\"https://colab.research.google.com/github/ollihansen90/Mathe-SH/blob/main/Nerdle_recursive.ipynb\" target=\"_parent\"><img src=\"https://colab.research.google.com/assets/colab-badge.svg\" alt=\"Open In Colab\"/></a>"
      ]
    },
    {
      "cell_type": "markdown",
      "source": [
        "# Nerdle (rekursiv)\n",
        "\n",
        "## 🤔 Fragen? 🤔\n",
        "Solltet ihr Fragen zum Code oder Probleme mit Colab haben, schickt uns gerne eine Mail:\n",
        "- h.hansen@uni-luebeck.de\n",
        "- friederike.meissner@student.uni-luebeck.de\n",
        "- dustin.haschke@student.uni-luebeck.de\n",
        "- mika.kohlhammer@student.uni-luebeck.de"
      ],
      "metadata": {
        "id": "SqmgyAdxnyO_"
      }
    },
    {
      "cell_type": "markdown",
      "source": [
        "## Zusammenfassung Nerdle (random)"
      ],
      "metadata": {
        "id": "xf8YxWEBejWR"
      }
    },
    {
      "cell_type": "code",
      "source": [
        "import random\n",
        "\n",
        "n = int(input(\"Gib die Länge der Gleichung an!\\n\"))\n",
        "\n",
        "# zulässige Zeichen (Ziffern, Operatoren)\n",
        "zahlen = [\"1\",\"2\",\"3\",\"4\",\"5\",\"6\",\"7\",\"8\",\"9\"]\n",
        "zahlen_null = [\"0\",\"1\",\"2\",\"3\",\"4\",\"5\",\"6\",\"7\",\"8\",\"9\"]\n",
        "zeichen = [\"+\",\"-\",\"*\",\"/\"]\n",
        "zeichen_gleich = [\"+\",\"-\",\"*\",\"/\",\"=\"]\n",
        "zahlen_zeichen = [\"0\",\"1\",\"2\",\"3\",\"4\",\"5\",\"6\",\"7\",\"8\",\"9\",\"+\",\"-\",\"*\",\"/\"]\n",
        "alles = zahlen_zeichen + [\"=\"]\n",
        "\n",
        "# Eingabe auf Regeln prüfen\n",
        "def pruefe_eingabe(gleichung):\n",
        "    if len(gleichung)!=8:\n",
        "        return False\n",
        "\n",
        "    for zeichen in gleichung:\n",
        "        if zeichen not in list(\"0123456789+-*/=\"):\n",
        "            return False\n",
        "\n",
        "    for operator in \"+-*/=\":\n",
        "        for abschnitt in gleichung.split(operator):\n",
        "            if len(abschnitt) == 0 or abschnitt[0] in list(\"0+-*/=\"):\n",
        "                return False\n",
        "\n",
        "    if len(gleichung.split(\"=\")) != 2:\n",
        "        return False\n",
        "\n",
        "    links, rechts = gleichung.split(\"=\")\n",
        "\n",
        "    for zeichen in rechts:\n",
        "        if zeichen not in list(\"0123456789\"):\n",
        "            return False\n",
        "\n",
        "    if eval(links) != eval(rechts):\n",
        "        return False\n",
        "\n",
        "    return True\n",
        "\n",
        "# Eingabe bewerten\n",
        "def werte_eingabe(eingabe, loesung):\n",
        "    rot = \"\\x1b[48;2;256;179;179m\"\n",
        "    gruen = \"\\x1b[48;2;153;255;153m\"\n",
        "    gelb = \"\\x1b[48;2;255;255;128m\"\n",
        "    end = \"\\033[0m\"\n",
        "    ausgabe = \"\"\n",
        "\n",
        "    for i in range(len(eingabe)):\n",
        "        if eingabe[i]==loesung[i]:\n",
        "            ausgabe = ausgabe+gruen+eingabe[i]+end\n",
        "        elif eingabe[i] in loesung:\n",
        "            ausgabe = ausgabe+gelb+eingabe[i]+end\n",
        "        else:\n",
        "            ausgabe = ausgabe+rot+eingabe[i]+end\n",
        "    return ausgabe\n",
        "\n",
        "# zufällige Gleichung generieren\n",
        "def generiere_loesung(n=8):\n",
        "    loesung = \"140/20=7\"\n",
        "    loesung = \"\"\n",
        "    gleichposition = random.randint(4,6)\n",
        "    counter = 0\n",
        "    zahlen = [\"1\",\"2\",\"3\",\"4\",\"5\",\"6\",\"7\",\"8\",\"9\"]\n",
        "    zahlen_null = [\"0\",\"1\",\"2\",\"3\",\"4\",\"5\",\"6\",\"7\",\"8\",\"9\"]\n",
        "    zeichen = [\"+\",\"-\",\"*\",\"/\"]\n",
        "    zeichen_gleich = [\"+\",\"-\",\"*\",\"/\",\"=\"]\n",
        "    zahlen_zeichen = [\"0\",\"1\",\"2\",\"3\",\"4\",\"5\",\"6\",\"7\",\"8\",\"9\",\"+\",\"-\",\"*\",\"/\"]\n",
        "\n",
        "    while not pruefe_eingabe(loesung):\n",
        "        counter += 1\n",
        "        loesung = \"\"\n",
        "        linkeseite = \"\"\n",
        "        rechteseite = \"\"\n",
        "        for i in range(gleichposition):\n",
        "            if i==0 or linkeseite[i-1] in zeichen:\n",
        "                linkeseite = linkeseite + zahlen[random.randint(0, len(zahlen)-1)]\n",
        "            elif i==gleichposition-1:\n",
        "                linkeseite = linkeseite + zahlen_null[random.randint(0, len(zahlen_null)-1)]\n",
        "            else:\n",
        "                linkeseite = linkeseite + zahlen_zeichen[random.randint(0, len(zahlen_zeichen)-1)]\n",
        "\n",
        "        rechteseite = str(round(eval(linkeseite)))\n",
        "        loesung = linkeseite+\"=\"+rechteseite\n",
        "    return loesung\n",
        "\n",
        "# Spiel\n",
        "eingabe = \"\"\n",
        "loesung = generiere_loesung(n=8)\n",
        "nochuebrig = \"\".join(zahlen_zeichen+[\"=\"])\n",
        "versuche = 0\n",
        "\n",
        "while eingabe!=loesung:\n",
        "    eingabe = input(\"Gib eine Gleichung der Länge 8 ein: \")\n",
        "    while not pruefe_eingabe(eingabe):\n",
        "        print(\"Unzulässige Gleichung!\")\n",
        "        if eingabe == \"cheat\":\n",
        "            print(loesung)\n",
        "        eingabe = input(\"Gib eine Gleichung der Länge 8 ein: \")\n",
        "    print(werte_eingabe(eingabe, loesung))\n",
        "    for zeichen in eingabe:\n",
        "        nochuebrig = nochuebrig.replace(zeichen, \".\")\n",
        "    print(nochuebrig)\n",
        "    versuche = versuche+1\n",
        "print(\"Korrekt, sehr gut! Du hast \"+str(versuche)+\" Versuch/e gebraucht!\")"
      ],
      "metadata": {
        "id": "zrVR72P6emir",
        "colab": {
          "base_uri": "https://localhost:8080/",
          "height": 478
        },
        "outputId": "b84e1771-7401-4f79-d078-9749b58e0a0f"
      },
      "execution_count": null,
      "outputs": [
        {
          "output_type": "stream",
          "name": "stdout",
          "text": [
            "Gib die Länge der Gleichung an!\n",
            "6\n",
            "Gib eine Gleichung der Länge 8 ein: 12/2=6\n",
            "Unzulässige Gleichung!\n",
            "Gib eine Gleichung der Länge 8 ein: cheat\n",
            "Unzulässige Gleichung!\n",
            "40+28=68\n"
          ]
        },
        {
          "output_type": "error",
          "ename": "KeyboardInterrupt",
          "evalue": "Interrupted by user",
          "traceback": [
            "\u001b[0;31m---------------------------------------------------------------------------\u001b[0m",
            "\u001b[0;31mKeyboardInterrupt\u001b[0m                         Traceback (most recent call last)",
            "\u001b[0;32m<ipython-input-7-7b6866a8f640>\u001b[0m in \u001b[0;36m<cell line: 0>\u001b[0;34m()\u001b[0m\n\u001b[1;32m     97\u001b[0m         \u001b[0;32mif\u001b[0m \u001b[0meingabe\u001b[0m \u001b[0;34m==\u001b[0m \u001b[0;34m\"cheat\"\u001b[0m\u001b[0;34m:\u001b[0m\u001b[0;34m\u001b[0m\u001b[0;34m\u001b[0m\u001b[0m\n\u001b[1;32m     98\u001b[0m             \u001b[0mprint\u001b[0m\u001b[0;34m(\u001b[0m\u001b[0mloesung\u001b[0m\u001b[0;34m)\u001b[0m\u001b[0;34m\u001b[0m\u001b[0;34m\u001b[0m\u001b[0m\n\u001b[0;32m---> 99\u001b[0;31m         \u001b[0meingabe\u001b[0m \u001b[0;34m=\u001b[0m \u001b[0minput\u001b[0m\u001b[0;34m(\u001b[0m\u001b[0;34m\"Gib eine Gleichung der Länge 8 ein: \"\u001b[0m\u001b[0;34m)\u001b[0m\u001b[0;34m\u001b[0m\u001b[0;34m\u001b[0m\u001b[0m\n\u001b[0m\u001b[1;32m    100\u001b[0m     \u001b[0mprint\u001b[0m\u001b[0;34m(\u001b[0m\u001b[0mwerte_eingabe\u001b[0m\u001b[0;34m(\u001b[0m\u001b[0meingabe\u001b[0m\u001b[0;34m,\u001b[0m \u001b[0mloesung\u001b[0m\u001b[0;34m)\u001b[0m\u001b[0;34m)\u001b[0m\u001b[0;34m\u001b[0m\u001b[0;34m\u001b[0m\u001b[0m\n\u001b[1;32m    101\u001b[0m     \u001b[0;32mfor\u001b[0m \u001b[0mzeichen\u001b[0m \u001b[0;32min\u001b[0m \u001b[0meingabe\u001b[0m\u001b[0;34m:\u001b[0m\u001b[0;34m\u001b[0m\u001b[0;34m\u001b[0m\u001b[0m\n",
            "\u001b[0;32m/usr/local/lib/python3.11/dist-packages/ipykernel/kernelbase.py\u001b[0m in \u001b[0;36mraw_input\u001b[0;34m(self, prompt)\u001b[0m\n\u001b[1;32m   1175\u001b[0m                 \u001b[0;34m\"raw_input was called, but this frontend does not support input requests.\"\u001b[0m\u001b[0;34m\u001b[0m\u001b[0;34m\u001b[0m\u001b[0m\n\u001b[1;32m   1176\u001b[0m             )\n\u001b[0;32m-> 1177\u001b[0;31m         return self._input_request(\n\u001b[0m\u001b[1;32m   1178\u001b[0m             \u001b[0mstr\u001b[0m\u001b[0;34m(\u001b[0m\u001b[0mprompt\u001b[0m\u001b[0;34m)\u001b[0m\u001b[0;34m,\u001b[0m\u001b[0;34m\u001b[0m\u001b[0;34m\u001b[0m\u001b[0m\n\u001b[1;32m   1179\u001b[0m             \u001b[0mself\u001b[0m\u001b[0;34m.\u001b[0m\u001b[0m_parent_ident\u001b[0m\u001b[0;34m[\u001b[0m\u001b[0;34m\"shell\"\u001b[0m\u001b[0;34m]\u001b[0m\u001b[0;34m,\u001b[0m\u001b[0;34m\u001b[0m\u001b[0;34m\u001b[0m\u001b[0m\n",
            "\u001b[0;32m/usr/local/lib/python3.11/dist-packages/ipykernel/kernelbase.py\u001b[0m in \u001b[0;36m_input_request\u001b[0;34m(self, prompt, ident, parent, password)\u001b[0m\n\u001b[1;32m   1217\u001b[0m             \u001b[0;32mexcept\u001b[0m \u001b[0mKeyboardInterrupt\u001b[0m\u001b[0;34m:\u001b[0m\u001b[0;34m\u001b[0m\u001b[0;34m\u001b[0m\u001b[0m\n\u001b[1;32m   1218\u001b[0m                 \u001b[0;31m# re-raise KeyboardInterrupt, to truncate traceback\u001b[0m\u001b[0;34m\u001b[0m\u001b[0;34m\u001b[0m\u001b[0m\n\u001b[0;32m-> 1219\u001b[0;31m                 \u001b[0;32mraise\u001b[0m \u001b[0mKeyboardInterrupt\u001b[0m\u001b[0;34m(\u001b[0m\u001b[0;34m\"Interrupted by user\"\u001b[0m\u001b[0;34m)\u001b[0m \u001b[0;32mfrom\u001b[0m \u001b[0;32mNone\u001b[0m\u001b[0;34m\u001b[0m\u001b[0;34m\u001b[0m\u001b[0m\n\u001b[0m\u001b[1;32m   1220\u001b[0m             \u001b[0;32mexcept\u001b[0m \u001b[0mException\u001b[0m\u001b[0;34m:\u001b[0m\u001b[0;34m\u001b[0m\u001b[0;34m\u001b[0m\u001b[0m\n\u001b[1;32m   1221\u001b[0m                 \u001b[0mself\u001b[0m\u001b[0;34m.\u001b[0m\u001b[0mlog\u001b[0m\u001b[0;34m.\u001b[0m\u001b[0mwarning\u001b[0m\u001b[0;34m(\u001b[0m\u001b[0;34m\"Invalid Message:\"\u001b[0m\u001b[0;34m,\u001b[0m \u001b[0mexc_info\u001b[0m\u001b[0;34m=\u001b[0m\u001b[0;32mTrue\u001b[0m\u001b[0;34m)\u001b[0m\u001b[0;34m\u001b[0m\u001b[0;34m\u001b[0m\u001b[0m\n",
            "\u001b[0;31mKeyboardInterrupt\u001b[0m: Interrupted by user"
          ]
        }
      ]
    },
    {
      "cell_type": "markdown",
      "source": [
        "## Recap Rekursion 🔃"
      ],
      "metadata": {
        "id": "_H1jVf23ZeMP"
      }
    },
    {
      "cell_type": "markdown",
      "source": [
        "Zur Wiederholung der Rekursion wollen wir eine Zahl in seine Primfaktoren zerlegen. Dafür soll durch eine rekursive Funktion zunächst ein Primfaktor gefunden werden und dann die zu testende Zahl durch diesen geteilt werden, welche erneut in die rekursive Funktion eingegeben wird. Dabei wird auch eine Liste aller Primfaktoren übergeben, die bislang ermittelt wurden.\n",
        "\n",
        "Tipp 1:\n",
        "Wenn wir Teilbarkeiten einer Zahl $z=a \\cdot b$ betrachten, so muss entweder $a$ oder $b$ als Teiler von $z$ kleiner oder gleich $\\sqrt{z}$ sein.\n",
        "\n",
        "Tipp 2:\n",
        "Um nicht alle Zahlen zu testen, könnte man z.B. auch ausnutzen, dass Primzahlen größer 3 grundsätzlich einen Rest von -1 oder +1 bei Teilung durch 6 haben."
      ],
      "metadata": {
        "id": "GpsNPyyXxmME"
      }
    },
    {
      "cell_type": "code",
      "source": [
        "# Hier beginnt dein Code :-)\n",
        "zahl = 720\n"
      ],
      "metadata": {
        "id": "mRHVLjq-63Xx"
      },
      "execution_count": null,
      "outputs": []
    },
    {
      "cell_type": "markdown",
      "source": [
        "## Initialisieren wichtiger Variablen ➕➖✖️➗🔢\n",
        "\n",
        "Wie schon in der random Nerdle-Version müssen wir die Länge der Gleichung (`n`) und Listen der zulässigen Operatoren bzw. Ziffern definieren."
      ],
      "metadata": {
        "id": "tFsElILVHZTn"
      }
    },
    {
      "cell_type": "code",
      "source": [
        "# Klassisches Nerdle: n = 8\n",
        "n = 0\n",
        "while n < 6:\n",
        "    n = int(input(\"Gib die Länge der Gleichung an!\"))\n",
        "    if n < 6:\n",
        "        print(\"Das Spiel macht so doch gar keinen Spaß! Wähle ein größeres n.\")"
      ],
      "metadata": {
        "id": "iElN1ueLDl0F",
        "colab": {
          "base_uri": "https://localhost:8080/"
        },
        "outputId": "41f50c7f-9b51-4950-82c3-39856b97058f"
      },
      "execution_count": null,
      "outputs": [
        {
          "name": "stdout",
          "output_type": "stream",
          "text": [
            "Gib die Länge der Gleichung an!8\n"
          ]
        }
      ]
    },
    {
      "cell_type": "code",
      "source": [
        "zahlen = [\"1\",\"2\",\"3\",\"4\",\"5\",\"6\",\"7\",\"8\",\"9\"]\n",
        "zahlen_null = [\"0\",\"1\",\"2\",\"3\",\"4\",\"5\",\"6\",\"7\",\"8\",\"9\"]\n",
        "zeichen = [\"+\",\"-\",\"*\",\"/\"]\n",
        "zeichen_gleich = [\"+\",\"-\",\"*\",\"/\",\"=\"]\n",
        "zahlen_zeichen = [\"1\",\"2\",\"3\",\"4\",\"5\",\"6\",\"7\",\"8\",\"9\",\"0\",\"+\",\"-\",\"*\",\"/\"]"
      ],
      "metadata": {
        "id": "sbZyid8dPNCB"
      },
      "execution_count": null,
      "outputs": []
    },
    {
      "cell_type": "markdown",
      "source": [
        "## Generiere linke Seite ⬅️\n",
        "\n",
        "Jetzt erstellen wir mithilfe der **rekursiven** Funktion `generiere_gleichungen` für eine noch unvollständige Gleichung `unvollst_gleichung` alle möglichen Gleichungen der Länge `n`. Die ganze Zahl `k` gibt wieder an, wie lang die linke Seite der vervollständigten Gleichung sein soll."
      ],
      "metadata": {
        "id": "N6y5ElwcJO4W"
      }
    },
    {
      "cell_type": "code",
      "source": [],
      "metadata": {
        "id": "SnDvxG_io0dn"
      },
      "execution_count": null,
      "outputs": []
    },
    {
      "cell_type": "markdown",
      "source": [
        "## Bewerte Lösungsversuch 🔎📊⚖️🤔\n",
        "\n",
        "Analog zur random Version verwenden wir die Funktion `werte_eingabe`, um zu überprüfen, ob die `eingabe` der `loesung` entspricht. Farblich werden die Zeichen hervorgehoben, die bereits an der richtigen Stelle stehen bzw. überhaupt in der Lösung enthalten sind."
      ],
      "metadata": {
        "id": "px_wKWRtuID_"
      }
    },
    {
      "cell_type": "code",
      "source": [
        "def werte_eingabe(eingabe, loesung):\n",
        "    if eingabe == \"Aufgabe\":    # Gibt loesung aus, falls Spieler aufgibt\n",
        "        return [loesung]\n",
        "    rueckgabe = []\n",
        "    # Prüfe Formalien\n",
        "    if len(eingabe) != n:\n",
        "        print(\"Ungültige Eingabe\")\n",
        "        return rueckgabe\n",
        "    if eingabe.count(\"=\") != 1:\n",
        "        print(\"Ungültige Eingabe\")\n",
        "        return rueckgabe\n",
        "    # Prüfe, ob Gleichung stimmt\n",
        "    linke_seite, rechte_seite = eingabe.split(\"=\")\n",
        "    if not finde_loesung(linke_seite, len(linke_seite)) == rechte_seite:\n",
        "        print(\"Ungültige Eingabe\")\n",
        "        return rueckgabe\n",
        "    # Gib Hinweise\n",
        "    for i in range(n):\n",
        "        if eingabe[i] == loesung[i]:\n",
        "            rueckgabe.append('\\033[92m' + eingabe[i] + '\\033[0m')  # Correct position and character\n",
        "\n",
        "        elif eingabe[i] in loesung:\n",
        "            rueckgabe.append('\\033[33m' + eingabe[i] + '\\033[0m')  # Correct character, wrong position\n",
        "        else:\n",
        "            rueckgabe.append('\\033[90m' + eingabe[i] + '\\033[0m')  # Incorrect character\n",
        "    return rueckgabe\n",
        "\n",
        "# alternativ aus random Version\n",
        "def werte_eingabe(eingabe, loesung):\n",
        "    rot = \"\\x1b[48;2;256;179;179m\"\n",
        "    gruen = \"\\x1b[48;2;153;255;153m\"\n",
        "    gelb = \"\\x1b[48;2;255;255;128m\"\n",
        "    end = \"\\033[0m\"\n",
        "    ausgabe = \"\"\n",
        "\n",
        "    for i in range(len(eingabe)):\n",
        "        if eingabe[i]==loesung[i]:\n",
        "            ausgabe = ausgabe+gruen+eingabe[i]+end\n",
        "        elif eingabe[i] in loesung:\n",
        "            ausgabe = ausgabe+gelb+eingabe[i]+end\n",
        "        else:\n",
        "            ausgabe = ausgabe+rot+eingabe[i]+end\n",
        "    return ausgabe"
      ],
      "metadata": {
        "id": "DgHH_Ei6uDs1"
      },
      "execution_count": null,
      "outputs": []
    },
    {
      "cell_type": "markdown",
      "source": [
        "## Spiel 🎮🔃"
      ],
      "metadata": {
        "id": "droz-7TGZPwI"
      }
    },
    {
      "cell_type": "code",
      "source": [
        "# aus random Version\n",
        "eingabe = \"\"\n",
        "loesung = random.choice(gleichungen) # angepasst!!\n",
        "nochuebrig = \"\".join(zahlen_zeichen+[\"=\"])\n",
        "versuche = 0\n",
        "\n",
        "while eingabe!=loesung:\n",
        "    eingabe = input(\"Gib eine Gleichung der Länge 8 ein: \")\n",
        "    while not pruefe_eingabe(eingabe):\n",
        "        print(\"Unzulässige Gleichung!\")\n",
        "        if eingabe == \"cheat\":\n",
        "            print(loesung)\n",
        "        eingabe = input(\"Gib eine Gleichung der Länge 8 ein: \")\n",
        "    print(werte_eingabe(eingabe, loesung))\n",
        "    for zeichen in eingabe:\n",
        "        nochuebrig = nochuebrig.replace(zeichen, \".\")\n",
        "    print(nochuebrig)\n",
        "    versuche = versuche+1\n",
        "print(\"Korrekt, sehr gut! Du hast \"+str(versuche)+\" Versuche gebraucht!\")"
      ],
      "metadata": {
        "id": "Gvx_3-amLp1J"
      },
      "execution_count": null,
      "outputs": []
    }
  ]
}