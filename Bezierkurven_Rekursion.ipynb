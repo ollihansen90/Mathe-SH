{
  "nbformat": 4,
  "nbformat_minor": 0,
  "metadata": {
    "colab": {
      "provenance": [],
      "authorship_tag": "ABX9TyPVvv7mjFWHD35zFVSliOXT",
      "include_colab_link": true
    },
    "kernelspec": {
      "name": "python3",
      "display_name": "Python 3"
    },
    "language_info": {
      "name": "python"
    }
  },
  "cells": [
    {
      "cell_type": "markdown",
      "metadata": {
        "id": "view-in-github",
        "colab_type": "text"
      },
      "source": [
        "<a href=\"https://colab.research.google.com/github/ollihansen90/Mathe-SH/blob/main/Bezierkurven_Rekursion.ipynb\" target=\"_parent\"><img src=\"https://colab.research.google.com/assets/colab-badge.svg\" alt=\"Open In Colab\"/></a>"
      ]
    },
    {
      "cell_type": "markdown",
      "source": [
        "# Bezier-Kurven - Rekursion\n"
      ],
      "metadata": {
        "id": "AcfnAkw2BUN5"
      }
    },
    {
      "cell_type": "markdown",
      "source": [
        "## Iterativ"
      ],
      "metadata": {
        "id": "_fF3Z-Y3EU9i"
      }
    },
    {
      "cell_type": "code",
      "source": [
        "import numpy as np\n",
        "import matplotlib.pyplot as plt\n",
        "\n",
        "punkte = np.array([\n",
        "                    [0,1],\n",
        "                    [0,0],\n",
        "                    [1,0],\n",
        "                    [1,1],\n",
        "                   ])\n",
        "\n",
        "def iteration(liste, t):\n",
        "    l = [t*liste[i]+(1-t)*liste[i+1] for i in range(len(liste)-1)]\n",
        "    liste = np.array(l)\n",
        "    return liste\n",
        "\n",
        "t = 0.1\n",
        "neue_punkte = iteration(punkte, t)\n",
        "neueneue_punkte = iteration(neue_punkte, t)\n",
        "neuerpunkt = iteration(neueneue_punkte, t)\n",
        "\n",
        "plt.figure()\n",
        "plt.plot(punkte[:,0], punkte[:,1], \"b-x\")\n",
        "plt.plot(neue_punkte[:,0], neue_punkte[:,1], \"g-x\")\n",
        "plt.plot(neueneue_punkte[:,0], neueneue_punkte[:,1], \"k-x\")\n",
        "for i in range(20):\n",
        "    t = i/20  \n",
        "    neue_punkte = iteration(punkte, t)\n",
        "    neueneue_punkte = iteration(neue_punkte, t)\n",
        "    neuerpunkt = iteration(neueneue_punkte, t).squeeze()\n",
        "    #print(neuerpunkt)\n",
        "    plt.plot(neuerpunkt[0], neuerpunkt[1], \"ro\")\n",
        "plt.grid()\n",
        "plt.axis(\"equal\")\n",
        "plt.show()"
      ],
      "metadata": {
        "colab": {
          "base_uri": "https://localhost:8080/",
          "height": 265
        },
        "id": "Xnz6_PKeBPa0",
        "outputId": "4dd8507b-e990-4fae-9617-d29ce8b4c1e3"
      },
      "execution_count": 10,
      "outputs": [
        {
          "output_type": "display_data",
          "data": {
            "text/plain": [
              "<Figure size 432x288 with 1 Axes>"
            ],
            "image/png": "[encoded data removed]"
          },
          "metadata": {
            "needs_background": "light"
          }
        }
      ]
    },
    {
      "cell_type": "markdown",
      "source": [
        "## Rekursiv"
      ],
      "metadata": {
        "id": "XO8kFonvCeTs"
      }
    },
    {
      "cell_type": "code",
      "source": [
        "# Erinnerung Rekursion\n",
        "# Implementiere Fakultät mit Rekursion: n!=n*(n-1)*(n-2)*...*1\n",
        "def fakultaet(n):\n",
        "    pass\n",
        "\n",
        "print(fakultaet(10))"
      ],
      "metadata": {
        "id": "kKA0ZS5DEaT3"
      },
      "execution_count": null,
      "outputs": []
    },
    {
      "cell_type": "code",
      "source": [
        "punkte = np.array([\n",
        "                    [0,1],\n",
        "                    [0,0],\n",
        "                    [1,0],\n",
        "                    [1,1],\n",
        "                   ])\n",
        "\n",
        "def rekursion(pts, t):\n",
        "    pass\n",
        "\n",
        "plt.figure()\n",
        "for i in range(20):\n",
        "    t = i/20\n",
        "    neuerpunkt = rekursion(punkte, t).squeeze()\n",
        "    #print(neuerpunkt)\n",
        "    plt.plot(neuerpunkt[0], neuerpunkt[1], \"ro\")\n",
        "plt.grid()\n",
        "plt.axis(\"equal\")\n",
        "plt.show()"
      ],
      "metadata": {
        "id": "TTRJGhE4CdQ_"
      },
      "execution_count": null,
      "outputs": []
    },
    {
      "cell_type": "markdown",
      "source": [
        "## Farb-Gradient"
      ],
      "metadata": {
        "id": "mosD4LgBCgwk"
      }
    },
    {
      "cell_type": "code",
      "execution_count": 32,
      "metadata": {
        "colab": {
          "base_uri": "https://localhost:8080/",
          "height": 218
        },
        "id": "4XTq9exEAlmc",
        "outputId": "2b5ed6f7-50ba-4f7f-e449-534f41404f1a"
      },
      "outputs": [
        {
          "output_type": "display_data",
          "data": {
            "text/plain": [
              "<Figure size 432x288 with 1 Axes>"
            ],
            "image/png": "[encoded data removed]"
          },
          "metadata": {
            "needs_background": "light"
          }
        }
      ],
      "source": [
        "n_punkte = 5\n",
        "eckpunkte = np.random.rand(n_punkte,3)\n",
        "t = np.linspace(0,1,num=100)\n",
        "colors = np.zeros([len(t), 3])\n",
        "\n",
        "for i, tt in enumerate(t):\n",
        "    c = iteration(eckpunkte, tt)\n",
        "    c = iteration(c, tt)\n",
        "    c = iteration(c, tt)\n",
        "    colors[i] = iteration(c, tt)\n",
        "    #colors[i] = rekursion(eckpunkte, tt)\n",
        "\n",
        "\n",
        "# Hier nicht verändern\n",
        "img = np.ones(50)[:,None, None]*colors[None]\n",
        "\n",
        "plt.figure()\n",
        "plt.imshow(img)\n",
        "plt.show()"
      ]
    }
  ]
}