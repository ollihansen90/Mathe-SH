{
  "cells": [
    {
      "cell_type": "markdown",
      "metadata": {
        "colab_type": "text",
        "id": "view-in-github"
      },
      "source": [
        "<a href=\"https://colab.research.google.com/github/ollihansen90/Mathe-SH/blob/main/Bezierkurven_Rekursion.ipynb\" target=\"_parent\"><img src=\"https://colab.research.google.com/assets/colab-badge.svg\" alt=\"Open In Colab\"/></a>"
      ]
    },
    {
      "cell_type": "markdown",
      "metadata": {
        "id": "AcfnAkw2BUN5"
      },
      "source": [
        "# Bezier-Kurven - Rekursion\n"
      ]
    },
    {
      "cell_type": "markdown",
      "metadata": {
        "id": "_fF3Z-Y3EU9i"
      },
      "source": [
        "## Iterativ"
      ]
    },
    {
      "cell_type": "code",
      "execution_count": 1,
      "metadata": {
        "colab": {
          "base_uri": "https://localhost:8080/",
          "height": 265
        },
        "id": "Xnz6_PKeBPa0",
        "outputId": "4dd8507b-e990-4fae-9617-d29ce8b4c1e3"
      },
      "outputs": [
        {
          "data": {
            "image/png": "[encoded data removed]",
            "text/plain": [
              "<Figure size 432x288 with 1 Axes>"
            ]
          },
          "metadata": {
            "needs_background": "light"
          },
          "output_type": "display_data"
        }
      ],
      "source": [
        "import numpy as np\n",
        "import matplotlib.pyplot as plt\n",
        "\n",
        "punkte = np.array([\n",
        "                    [0,1],\n",
        "                    [0,0],\n",
        "                    [1,0],\n",
        "                    [1,1],\n",
        "                   ])\n",
        "\n",
        "def iteration(liste, t):\n",
        "    l = [t*liste[i]+(1-t)*liste[i+1] for i in range(len(liste)-1)]\n",
        "    liste = np.array(l)\n",
        "    return liste\n",
        "\n",
        "t = 0.1\n",
        "neue_punkte = iteration(punkte, t)\n",
        "neueneue_punkte = iteration(neue_punkte, t)\n",
        "neuerpunkt = iteration(neueneue_punkte, t)\n",
        "\n",
        "plt.figure()\n",
        "plt.plot(punkte[:,0], punkte[:,1], \"b-x\")\n",
        "plt.plot(neue_punkte[:,0], neue_punkte[:,1], \"g-x\")\n",
        "plt.plot(neueneue_punkte[:,0], neueneue_punkte[:,1], \"k-x\")\n",
        "for i in range(20):\n",
        "    t = i/20  \n",
        "    neue_punkte = iteration(punkte, t)\n",
        "    neueneue_punkte = iteration(neue_punkte, t)\n",
        "    neuerpunkt = iteration(neueneue_punkte, t).squeeze()\n",
        "    #print(neuerpunkt)\n",
        "    plt.plot(neuerpunkt[0], neuerpunkt[1], \"ro\")\n",
        "plt.grid()\n",
        "plt.axis(\"equal\")\n",
        "plt.show()"
      ]
    },
    {
      "cell_type": "markdown",
      "metadata": {
        "id": "XO8kFonvCeTs"
      },
      "source": [
        "## Rekursiv"
      ]
    },
    {
      "cell_type": "code",
      "execution_count": null,
      "metadata": {
        "id": "kKA0ZS5DEaT3"
      },
      "outputs": [],
      "source": [
        "# Erinnerung Rekursion\n",
        "# Implementiere Fakultät mit Rekursion: n!=n*(n-1)*(n-2)*...*1\n",
        "def fakultaet(n):\n",
        "    pass\n",
        "\n",
        "print(fakultaet(10))"
      ]
    },
    {
      "cell_type": "code",
      "execution_count": null,
      "metadata": {
        "id": "TTRJGhE4CdQ_"
      },
      "outputs": [],
      "source": [
        "punkte = np.array([\n",
        "                    [0,1],\n",
        "                    [0,0],\n",
        "                    [1,0],\n",
        "                    [1,1],\n",
        "                   ])\n",
        "\n",
        "def rekursion(pts, t):\n",
        "    pass\n",
        "\n",
        "plt.figure()\n",
        "for i in range(20):\n",
        "    t = i/20\n",
        "    neuerpunkt = rekursion(punkte, t).squeeze()\n",
        "    #print(neuerpunkt)\n",
        "    plt.plot(neuerpunkt[0], neuerpunkt[1], \"ro\")\n",
        "plt.grid()\n",
        "plt.axis(\"equal\")\n",
        "plt.show()"
      ]
    },
    {
      "cell_type": "markdown",
      "metadata": {
        "id": "mosD4LgBCgwk"
      },
      "source": [
        "## Farb-Gradient"
      ]
    },
    {
      "cell_type": "code",
      "execution_count": 32,
      "metadata": {
        "colab": {
          "base_uri": "https://localhost:8080/",
          "height": 218
        },
        "id": "4XTq9exEAlmc",
        "outputId": "2b5ed6f7-50ba-4f7f-e449-534f41404f1a"
      },
      "outputs": [
        {
          "data": {
            "image/png": "[encoded data removed]",
            "text/plain": [
              "<Figure size 432x288 with 1 Axes>"
            ]
          },
          "metadata": {
            "needs_background": "light"
          },
          "output_type": "display_data"
        }
      ],
      "source": [
        "n_punkte = 5\n",
        "eckpunkte = np.random.rand(n_punkte,3)\n",
        "t = np.linspace(0,1,num=100)\n",
        "colors = np.zeros([len(t), 3])\n",
        "\n",
        "for i, tt in enumerate(t):\n",
        "    c = iteration(eckpunkte, tt)\n",
        "    c = iteration(c, tt)\n",
        "    c = iteration(c, tt)\n",
        "    colors[i] = iteration(c, tt)\n",
        "    #colors[i] = rekursion(eckpunkte, tt)\n",
        "\n",
        "\n",
        "# Hier nicht verändern\n",
        "img = np.ones(50)[:,None, None]*colors[None]\n",
        "\n",
        "plt.figure()\n",
        "plt.imshow(img)\n",
        "plt.show()"
      ]
    }
  ],
  "metadata": {
    "colab": {
      "authorship_tag": "ABX9TyPVvv7mjFWHD35zFVSliOXT",
      "include_colab_link": true,
      "provenance": []
    },
    "kernelspec": {
      "display_name": "Python 3",
      "name": "python3"
    },
    "language_info": {
      "codemirror_mode": {
        "name": "ipython",
        "version": 3
      },
      "file_extension": ".py",
      "mimetype": "text/x-python",
      "name": "python",
      "nbconvert_exporter": "python",
      "pygments_lexer": "ipython3",
      "version": "3.8.7"
    }
  },
  "nbformat": 4,
  "nbformat_minor": 0
}
