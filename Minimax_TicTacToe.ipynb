{
  "nbformat": 4,
  "nbformat_minor": 0,
  "metadata": {
    "colab": {
      "provenance": [],
      "authorship_tag": "ABX9TyNkW/TfeicCceug9p0TQGiT",
      "include_colab_link": true
    },
    "kernelspec": {
      "name": "python3",
      "display_name": "Python 3"
    },
    "language_info": {
      "name": "python"
    }
  },
  "cells": [
    {
      "cell_type": "markdown",
      "metadata": {
        "id": "view-in-github",
        "colab_type": "text"
      },
      "source": [
        "<a href=\"https://colab.research.google.com/github/ollihansen90/Mathe-SH/blob/main/Minimax_TicTacToe.ipynb\" target=\"_parent\"><img src=\"https://colab.research.google.com/assets/colab-badge.svg\" alt=\"Open In Colab\"/></a>"
      ]
    },
    {
      "cell_type": "code",
      "source": [
        "!wget https://raw.githubusercontent.com/ollihansen90/Mathe-SH/main/utils/utils_minimax.py"
      ],
      "metadata": {
        "id": "xZ53WlvzyjRv"
      },
      "execution_count": null,
      "outputs": []
    },
    {
      "cell_type": "code",
      "execution_count": null,
      "metadata": {
        "id": "ZFTKH-cwtNWe"
      },
      "outputs": [],
      "source": [
        "from utils_minimax import *\n",
        "from IPython.core.display import display, HTML\n",
        "import sys, random\n",
        "\n",
        "def hauptfunc(element):\n",
        "    zuordnung = {\n",
        "        \"z0s0\": 0,\n",
        "        \"z0s1\": 1,\n",
        "        \"z0s2\": 2,\n",
        "        \"z1s0\": 3,\n",
        "        \"z1s1\": 4,\n",
        "        \"z1s2\": 5,\n",
        "        \"z2s0\": 6,\n",
        "        \"z2s1\": 7,\n",
        "        \"z2s2\": 8,\n",
        "    }\n",
        "    if t[zuordnung[element]]==\" \":\n",
        "        t[zuordnung[element]] = \"O\"\n",
        "        fertig, _ = bewerte(t)\n",
        "        if not fertig:\n",
        "            n = next_move(t)\n",
        "            t[n] = \"X\"\n",
        "        fertig, score = bewerte(t)\n",
        "        if fertig:\n",
        "            if score==0: print(\"Unentschieden!\")\n",
        "            if score>0: print(\"Computer hat gewonnen!\")\n",
        "            if score<0: print(\"Spieler hat gewonnen!\")\n",
        "    return \"\".join(t)\n",
        "\n",
        "if 'google.colab' in sys.modules:\n",
        "    from google.colab import output\n",
        "    output.register_callback('hauptfunc', hauptfunc)\n",
        "\n",
        "def get_field(tiles, base_size=50):\n",
        "    style = \"<style>td, th{text-align: center;width: \"+str(2*base_size)+\"px;height: \"+str(2*base_size)+\"px}\\ntd:hover{background-color: #aaaaaa}\\n.hor{border-bottom:2px solid #000000;}\\n.vert{border-left:2px solid #000000;</style>\"\n",
        "    html = style+f\"\"\"\n",
        "    \n",
        "    <div style=\"font-size: {base_size}px\">\n",
        "    <table style=\"border-collapse: collapse;border: none;\">\n",
        "        <tr class=\"hor\"><td id=\"z0s0\" onclick=\"draw(this)\">{tiles[0][0]}</td><td class=\"vert\" id=\"z0s1\" onclick=\"draw(this)\">{tiles[0][1]}</td><td class=\"vert\" id=\"z0s2\" onclick=\"draw(this)\">{tiles[0][2]}</td></tr>\n",
        "        <tr class=\"hor\"><td id=\"z1s0\" onclick=\"draw(this)\">{tiles[1][0]}</td><td class=\"vert\" id=\"z1s1\" onclick=\"draw(this)\">{tiles[1][1]}</td><td class=\"vert\" id=\"z1s2\" onclick=\"draw(this)\">{tiles[1][2]}</td></tr>\n",
        "        <tr><td id=\"z2s0\" onclick=\"draw(this)\">{tiles[2][0]}</td><td class=\"vert\" id=\"z2s1\" onclick=\"draw(this)\">{tiles[2][1]}</td><td class=\"vert\" id=\"z2s2\" onclick=\"draw(this)\">{tiles[2][2]}</td></tr>\n",
        "    </table>\n",
        "    </div>\n",
        "    \"\"\"\n",
        "    jscript = \"\"\"<script type=\"text/Javascript\">\n",
        "    function draw(element){\n",
        "        google.colab.kernel.invokeFunction('hauptfunc', [element.id], {}).then(function(result){\n",
        "            string = JSON.parse(JSON.stringify(result)).data[\"text/plain\"].slice(1,-1);\n",
        "            document.getElementById(\"z0s0\").innerHTML = string[0];\n",
        "            document.getElementById(\"z0s1\").innerHTML = string[1];\n",
        "            document.getElementById(\"z0s2\").innerHTML = string[2];\n",
        "            document.getElementById(\"z1s0\").innerHTML = string[3];\n",
        "            document.getElementById(\"z1s1\").innerHTML = string[4];\n",
        "            document.getElementById(\"z1s2\").innerHTML = string[5];\n",
        "            document.getElementById(\"z2s0\").innerHTML = string[6];\n",
        "            document.getElementById(\"z2s1\").innerHTML = string[7];\n",
        "            document.getElementById(\"z2s2\").innerHTML = string[8];\n",
        "            });\n",
        "    };\n",
        "    </script>\"\"\"\n",
        "    html += jscript\n",
        "    return html\n",
        "\n",
        "global t\n",
        "t = [[\"O\", \"O\", \"X\"],[\"O\", \"O\", \"X\"],[\"O\", \"O\", \"X\"]]\n",
        "t1 = 3*[3*[\" \"]]\n",
        "t = 9*[\" \"]\n",
        "display(HTML(get_field(t1, base_size=50)))"
      ]
    }
  ]
}