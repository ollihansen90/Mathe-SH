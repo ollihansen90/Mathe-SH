{
  "nbformat": 4,
  "nbformat_minor": 0,
  "metadata": {
    "colab": {
      "provenance": [],
      "authorship_tag": "ABX9TyMy8Zsws1v5vMCTQXkd4dj0",
      "include_colab_link": true
    },
    "kernelspec": {
      "name": "python3",
      "display_name": "Python 3"
    },
    "language_info": {
      "name": "python"
    }
  },
  "cells": [
    {
      "cell_type": "markdown",
      "metadata": {
        "id": "view-in-github",
        "colab_type": "text"
      },
      "source": [
        "<a href=\"https://colab.research.google.com/github/ollihansen90/Mathe-SH/blob/main/Mastermind.ipynb\" target=\"_parent\"><img src=\"https://colab.research.google.com/assets/colab-badge.svg\" alt=\"Open In Colab\"/></a>"
      ]
    },
    {
      "cell_type": "markdown",
      "source": [
        "# Mastermind"
      ],
      "metadata": {
        "id": "rntDdnpf1YBI"
      }
    },
    {
      "cell_type": "code",
      "execution_count": null,
      "metadata": {
        "id": "xcIOal10ovi5"
      },
      "outputs": [],
      "source": [
        "import random\n",
        "\n",
        "farbliste = [0,1,2,3,4,5,6,7]\n",
        "\n",
        "def generiere_loesung(laenge, farbliste=farbliste):\n",
        "    random.shuffle(farbliste)\n",
        "    loesungsliste = [str(f) for f in farbliste[:laenge]]\n",
        "    loesung = \"\"\n",
        "    return loesung.join(loesungsliste)\n",
        "\n",
        "def check(loesung, eingabe):\n",
        "    if eingabe==loesung:\n",
        "        return False\n",
        "    enthalten = 0\n",
        "    richtig = 0\n",
        "    for i in range(len(eingabe)):\n",
        "        farbe = eingabe[i]\n",
        "        if farbe in loesung:\n",
        "            if farbe==loesung[i]:\n",
        "                richtig += 1\n",
        "            else:\n",
        "                enthalten = enthalten+1\n",
        "    \n",
        "    print(f\"Enthalten: {enthalten}\")\n",
        "    print(\"Richtig: \"+str(richtig))\n",
        "    return True\n",
        "\n",
        "loesung = generiere_loesung(4, farbliste)\n",
        "#print(loesung)\n",
        "nochnichtgewonnen = True\n",
        "versuche = 0\n",
        "while nochnichtgewonnen:\n",
        "    userinput = input(\"Gib eine Folge ein: \")\n",
        "    if len(loesung)!=len(userinput):\n",
        "        print(\"Verbotene Eingabegröße!\")\n",
        "    else:\n",
        "        nochnichtgewonnen = check(loesung, userinput)\n",
        "        versuche += 1\n",
        "print(f\"Du hast gewonnen! Du hast {versuche} Versuche gebraucht!\")"
      ]
    }
  ]
}