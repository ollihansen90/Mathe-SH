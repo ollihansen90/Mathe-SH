{
  "nbformat": 4,
  "nbformat_minor": 0,
  "metadata": {
    "colab": {
      "provenance": [],
      "include_colab_link": true
    },
    "kernelspec": {
      "name": "python3",
      "display_name": "Python 3"
    },
    "language_info": {
      "name": "python"
    }
  },
  "cells": [
    {
      "cell_type": "markdown",
      "metadata": {
        "id": "view-in-github",
        "colab_type": "text"
      },
      "source": [
        "<a href=\"https://colab.research.google.com/github/ollihansen90/Mathe-SH/blob/main/Algorithmen_7_8.ipynb\" target=\"_parent\"><img src=\"https://colab.research.google.com/assets/colab-badge.svg\" alt=\"Open In Colab\"/></a>"
      ]
    },
    {
      "cell_type": "markdown",
      "source": [
        "# Mathe^SH: Algorithmen - Tag 1\n",
        "## Heronverfahren"
      ],
      "metadata": {
        "id": "1CtiZ9eT2N8T"
      }
    },
    {
      "cell_type": "code",
      "execution_count": null,
      "metadata": {
        "id": "nxpDIN5fE5_z"
      },
      "outputs": [],
      "source": [
        "A = 114\n",
        "\n",
        "a = 3\n",
        "b = \n",
        "\n",
        "for i in range(10):\n",
        "    a = \n",
        "    b = \n",
        "    print(\"-------\")\n",
        "    print(a)\n",
        "    print(b)\n",
        "    print(a-b)"
      ]
    },
    {
      "cell_type": "markdown",
      "source": [
        "## Sieb des Eratosthenes"
      ],
      "metadata": {
        "id": "-69rK6As2Vuc"
      }
    },
    {
      "cell_type": "code",
      "source": [
        "def primlist(k):\n",
        "    list = [2]\n",
        "    for i in range(3, k+1):\n",
        "        unteilbar = True\n",
        "        for element in list:\n",
        "            if i % element == 0:\n",
        "                unteilbar = False\n",
        "        if unteilbar:\n",
        "            list.append(i)\n",
        "    return list\n",
        "\n",
        "#Farbübersicht\n",
        "#     lila = '\\033[95m'     blau = '\\033[94m'     cyan = '\\033[96m'    dunkelcyan = '\\033[36m'\n",
        "#     grun = '\\033[92m'     gelb = '\\033[93m'     rot = '\\033[91m'    grau    = \\033[90m\n",
        "#     normal = '\\033[0m'    fett = '\\033[1m'        unterstrichen = '\\033[4m'\n",
        "\n",
        "def eratosthenes(len_list, stopper):    \n",
        "    farben = ['\\033[95m','\\033[93m','\\033[94m','\\033[96m','\\033[92m','\\033[90m','\\033[36m']\n",
        "    primes = primlist(len_list)\n",
        "    print(\" \", end=\"\")                                #Korrektur erste Zeile\n",
        "\n",
        "    for i in range(1,len_list+1):\n",
        "        if i < 10:\n",
        "            print(\" \", end=\"\")                        # Zahlen in einer Reihe\n",
        "        if i < 100:\n",
        "            print(\" \", end=\"\")\n",
        "        \n",
        "        if i in primes[0:stopper]:            #bisherige Primzahlen rot und unterstrichen\n",
        "            print('\\033[91m' + '\\033[4m', end=\"\")\n",
        "        else:                                                     \n",
        "            if i in primes and primes[stopper] > len_list**0.5:     #alle Primzahlen ab Wurzel(Listenlänge) färben\n",
        "                print('\\033[91m' + '\\033[4m', end=\"\")\n",
        "            farbe_unbekannt = True                # Nichtprimzahlen nach dem ersten Teiler aus Primzahlliste mit Farbliste färben\n",
        "            farbnummer = 0\n",
        "            while farbe_unbekannt and farbnummer < stopper:\n",
        "                if i%primes[farbnummer]==0:\n",
        "                    print(farben[farbnummer],end=\"\")\n",
        "                    farbe_unbekannt = False\n",
        "                farbnummer += 1\n",
        "\n",
        "        print(str(i), end=\"\")                     # Ausgabe\n",
        "        if i % 10 == 0 and i != 1:            # neue Zeile bei 10er-Sprung\n",
        "            print(\"\")\n",
        "        print('\\033[0m', end=\" \")             # neue Zeile schwarz und normal\n",
        "\n",
        "    print(\"\\n\" + '\\033[91m' + '\\033[4m' + \"Primzahlen\" + '\\033[0m')     #Ausgabe der benutzen Teiler mit Farbigkeiten\n",
        "    for k in range(0,stopper):\n",
        "        print(farben[k] + \"teilbar durch \" + str(primes[k]))\n",
        "    print( '\\033[0m' + \"-------------------------------------------------------------------------------------------\")\n",
        "\n",
        "eratosthenes(100,1)\n",
        "eratosthenes(100,2)\n",
        "eratosthenes(100,3)\n",
        "eratosthenes(100,5)\n",
        "eratosthenes(300,7)\n",
        "\n",
        "print(primlist(10000))"
      ],
      "metadata": {
        "id": "Gd3DvDr01Uva"
      },
      "execution_count": null,
      "outputs": []
    }
  ]
}