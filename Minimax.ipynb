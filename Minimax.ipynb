{
  "nbformat": 4,
  "nbformat_minor": 0,
  "metadata": {
    "colab": {
      "provenance": [],
      "include_colab_link": true
    },
    "kernelspec": {
      "name": "python3",
      "display_name": "Python 3"
    },
    "language_info": {
      "name": "python"
    }
  },
  "cells": [
    {
      "cell_type": "markdown",
      "metadata": {
        "id": "view-in-github",
        "colab_type": "text"
      },
      "source": [
        "<a href=\"https://colab.research.google.com/github/ollihansen90/Mathe-SH/blob/main/Minimax.ipynb\" target=\"_parent\"><img src=\"https://colab.research.google.com/assets/colab-badge.svg\" alt=\"Open In Colab\"/></a>"
      ]
    },
    {
      "cell_type": "markdown",
      "metadata": {
        "id": "cgq0ON5768UB"
      },
      "source": [
        "# Minimax-Algorithmus ♟️🏆🌳"
      ]
    },
    {
      "cell_type": "markdown",
      "metadata": {
        "id": "A7ig8qUyW8bS"
      },
      "source": [
        "# Fragen?\n",
        "Solltet ihr Fragen zum Code oder Probleme mit Colab haben, schickt uns gerne eine Mail:\n",
        "\n",
        "*   h.hansen@uni-luebeck.de\n",
        "*   friederike.meissner@student.uni-luebeck.de\n",
        "*   dustin.haschke@student.uni-luebeck.de"
      ]
    },
    {
      "cell_type": "markdown",
      "metadata": {
        "id": "4-Odv31eAYT1"
      },
      "source": [
        "## Wiederholung: Rekursion 🔄💡\n",
        "\n",
        "Rekursive Funktionen sind ein Spezialfall **verschachtelter Funktionen**, d.h. sie rufen sich selbst im Funktionsrumpf wieder auf.\n",
        "\n",
        "Dabei reduziert sich mit jedem Aufruf das zu lösende Problem, bis die **Abbruchbedingung** erreicht wird, die die rekursive Funktion schließlich terminieren lässt. Anderenfalls hätten wir nämlich eine Endlosschleife!\n",
        "\n",
        "Die Funktion ```fakultaet_rek(n)``` berechnet z.B. die Fakultät der übergebenen Zahl $n$, also $n! = n \\cdot (n-1)!$ mit der Abbruchbedingung $0! = 1$, die per ```if```-Bedingung bei jedem Aufruf geprüft wird.\n",
        "\n",
        "Hinweis: Um den genauen Ablauf besser nachvollziehen zu können, verwendet ihr am besten die beiden (bisher auskommentierten) ```print```-Ausgaben."
      ]
    },
    {
      "cell_type": "code",
      "metadata": {
        "colab": {
          "base_uri": "https://localhost:8080/"
        },
        "id": "DfHmN9fOz5PB",
        "outputId": "0690eb08-3ddf-41b2-ca6c-bec6e1b19f29"
      },
      "source": [
        "def fakultaet(n):\n",
        "    return n\n",
        "\n",
        "fakultaet(4)"
      ],
      "execution_count": null,
      "outputs": [
        {
          "output_type": "execute_result",
          "data": {
            "text/plain": [
              "24"
            ]
          },
          "metadata": {},
          "execution_count": 31
        }
      ]
    },
    {
      "cell_type": "markdown",
      "source": [
        "## Aufgabe 1 - Kleinste Zahl ↘️\n",
        "\n",
        "Definiere eine **Funktion**, die rekursiv die **kleinste Zahl** einer gegebenen **Liste** bestimmt. Halbiere dafür in jedem Schritt die aktuell betrachtete Liste und suche in den jeweiligen Teillisten nach dem Minimum.\n",
        "\n",
        "Hinweis: Vergiss das **Abbruchkriterium** nicht!"
      ],
      "metadata": {
        "id": "mb2PS3pM7cVg"
      }
    },
    {
      "cell_type": "code",
      "source": [],
      "metadata": {
        "id": "0he7af69FLI6"
      },
      "execution_count": null,
      "outputs": []
    },
    {
      "cell_type": "markdown",
      "source": [
        "## Bonus 🎁🤩✨\n",
        "1. Wandle folgende while-Schleife zur Primfaktorzerlegung einer gegebenen Zahl in eine rekursive Definition um. Dabei darf die Liste der Primzahlen (zunächst) einfach verwendet werden."
      ],
      "metadata": {
        "id": "hSQXETZb7W7g"
      }
    },
    {
      "cell_type": "code",
      "source": [
        "primzahlen = [2, 3, 5, 7, 11, 13, 17, 19, 23, 29, 31, 37, 41, 43, 47, 53, 59, 61, 67, 71, 73, 79, 83, 89, 97]\n",
        "\n",
        "def zerlegung(zahl):\n",
        "    faktoren = []\n",
        "    while zahl > 1:\n",
        "        for z in primzahlen:\n",
        "            if zahl % z == 0:\n",
        "                faktoren.append(z)\n",
        "                zahl /= z\n",
        "                break\n",
        "    return faktoren\n",
        "\n",
        "zerlegung(11011)"
      ],
      "metadata": {
        "id": "z29vdqZgAOU2"
      },
      "execution_count": null,
      "outputs": []
    },
    {
      "cell_type": "markdown",
      "source": [
        "2. Erzeuge jetzt (iterativ) die Liste aller Primzahlen, die von 1 bis einschließlich der übergebenen Zahl enthalten sind.\n",
        "3. Nutze zuletzt die implementierte Primfaktorzerlegung zum Kürzen eines Bruches, für den die beiden Parameter ```zaehler``` und ```nenner``` übergeben werden."
      ],
      "metadata": {
        "id": "-mk1f6tkFIyZ"
      }
    },
    {
      "cell_type": "code",
      "source": [
        "primzahlen = [2, 3, 5, 7, 11, 13, 17, 19, 23, 29, 31, 37, 41, 43, 47, 53, 59, 61, 67, 71, 73, 79, 83, 89, 97]\n",
        "\n",
        "def zerlegung(zahl):\n",
        "    # Hier folgt deine Implementierung\n",
        "    faktoren = []\n",
        "\n",
        "    return faktoren\n"
      ],
      "metadata": {
        "id": "V9MGqynuFKSK"
      },
      "execution_count": null,
      "outputs": []
    }
  ]
}