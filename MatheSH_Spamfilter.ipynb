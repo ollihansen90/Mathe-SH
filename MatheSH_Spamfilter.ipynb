{
  "nbformat": 4,
  "nbformat_minor": 0,
  "metadata": {
    "colab": {
      "name": "MatheSH_Spamfilter.ipynb",
      "provenance": [],
      "collapsed_sections": [],
      "authorship_tag": "ABX9TyPM/pnYBqg07DEkzQMbrfcH",
      "include_colab_link": true
    },
    "kernelspec": {
      "name": "python3",
      "display_name": "Python 3"
    },
    "language_info": {
      "name": "python"
    }
  },
  "cells": [
    {
      "cell_type": "markdown",
      "metadata": {
        "id": "view-in-github",
        "colab_type": "text"
      },
      "source": [
        "<a href=\"https://colab.research.google.com/github/ollihansen90/Mathe-SH/blob/main/MatheSH_Spamfilter.ipynb\" target=\"_parent\"><img src=\"https://colab.research.google.com/assets/colab-badge.svg\" alt=\"Open In Colab\"/></a>"
      ]
    },
    {
      "cell_type": "code",
      "metadata": {
        "id": "bhlUK5Y_2p_z"
      },
      "source": [
        "from math import log, exp\n",
        "\n",
        "text1 = \"\"\"Lieber Enkel,\n",
        "wie geht es dir? Mir geht es gut! Ich hoffe, du hattest eine schöne Woche im Urlaub.\n",
        "Bitte überweise mir hundert Euro, damit ich dir ein Paket mit Geld schicken kann.\n",
        "Liebe Grüße\n",
        "Oma\"\"\"\n",
        "\n",
        "text2 = \"\"\"Lieber Enkel,\n",
        "wie geht es dir? Mir geht es gut! Ich hoffe, du hattest eine schöne Woche im Urlaub.\n",
        "Ich habe hundert Euro für dich gespart, erwarte also ein Paket von mir!\n",
        "Liebe Grüße\n",
        "Oma\"\"\""
      ],
      "execution_count": 49,
      "outputs": []
    },
    {
      "cell_type": "code",
      "metadata": {
        "id": "9p1D1exz3WZM",
        "colab": {
          "base_uri": "https://localhost:8080/"
        },
        "outputId": "e20f5a8c-7e5d-481b-9644-9322a220f1b6"
      },
      "source": [
        "def get_wordlist(text):\n",
        "    text = text.replace(\",\", \"\").replace(\".\", \"\").replace(\"?\", \"\").replace(\"!\", \"\").replace(\"\\n\", \" \").lower()\n",
        "    words = set(text.split(\" \"))\n",
        "    return words\n",
        "\n",
        "words = get_wordlist(text1)\n",
        "\n",
        "P = {   \"enkel\":       (0.1, 0.2),\n",
        "        \"gut\":         (0.2, 0.4),\n",
        "        \"überweise\":   (0.8, 0.1),\n",
        "        \"euro\":        (0.8, 0.2),\n",
        "        \"geld\":        (0.8, 0.2),\n",
        "        \"urlaub\":      (0.6, 0.3),\n",
        "        \"paket\":       (0.7, 0.3),\n",
        "        \"gespart\":     (0.01, 0.2)\n",
        "     }\n",
        "print(*(P.keys()), sep=\", \")\n",
        "print(*(P.values()), sep=\", \")"
      ],
      "execution_count": 50,
      "outputs": [
        {
          "output_type": "stream",
          "name": "stdout",
          "text": [
            "enkel, gut, überweise, euro, geld, urlaub, paket, gespart\n",
            "(0.1, 0.2), (0.2, 0.4), (0.8, 0.1), (0.8, 0.2), (0.8, 0.2), (0.6, 0.3), (0.7, 0.3), (0.01, 0.2)\n"
          ]
        }
      ]
    },
    {
      "cell_type": "code",
      "metadata": {
        "colab": {
          "base_uri": "https://localhost:8080/"
        },
        "id": "CqfZ94il529h",
        "outputId": "eb0e64ad-0b2e-4aa8-f7c4-8c80fc65aeb3"
      },
      "source": [
        "oma = log(0.6)\n",
        "spam = log(0.4)\n",
        "print(P.keys())\n",
        "for eintrag in words:\n",
        "    if eintrag in P.keys():\n",
        "        values = P[eintrag]\n",
        "        #print(values)\n",
        "        spam += log(values[0])\n",
        "        oma += log(values[1])\n",
        "\n",
        "print(oma)\n",
        "print(spam)\n",
        "print(exp(oma-spam))\n",
        "if exp(oma-spam)>1:\n",
        "    print(\"Die Nachricht ist von Oma.\")\n",
        "else:\n",
        "    print(\"Die Nachricht ist Spam.\")"
      ],
      "execution_count": 7,
      "outputs": [
        {
          "output_type": "stream",
          "name": "stdout",
          "text": [
            "dict_keys(['enkel', 'gut', 'überweise', 'euro', 'geld', 'urlaub', 'paket', 'gespart'])\n",
            "-10.965960794588364\n",
            "-6.365244958949654\n",
            "0.010044642857142865\n",
            "Die Nachricht ist Spam.\n"
          ]
        }
      ]
    },
    {
      "cell_type": "code",
      "metadata": {
        "id": "rdxRO3Nt-dga"
      },
      "source": [
        "def get_wordlist(text):\n",
        "    text = text.replace(\",\", \"\").replace(\".\", \"\").replace(\"?\", \"\").replace(\"!\", \"\").replace(\"\\n\", \" \").lower()\n",
        "    words = set(text.split(\" \"))\n",
        "    return words\n",
        "\n",
        "words = get_wordlist(text1)\n",
        "\n",
        "def spamfinder(P, oma=0.6, spam=0.4):\n",
        "    def inner(text):\n",
        "        #print(text)\n",
        "        words = get_wordlist(text)\n",
        "        omalog = log(0.6)\n",
        "        spamlog = log(0.4)\n",
        "        #print(P.keys())\n",
        "        for eintrag in words:\n",
        "            if eintrag in P.keys():\n",
        "                values = P[eintrag]\n",
        "                #print(values)\n",
        "                spamlog += log(values[0])\n",
        "                omalog += log(values[1])\n",
        "        if exp(omalog-spamlog)>1:\n",
        "            print(\"Die Nachricht ist von Oma. Q =\", 1/exp(omalog-spamlog))\n",
        "        else:\n",
        "            print(\"Die Nachricht ist Spam. Q =\", 1/exp(omalog-spamlog))\n",
        "    \n",
        "    return inner\n",
        "\n",
        "P = {\"enkel\": (0.1, 0.2),\n",
        "     \"gut\": (0.2, 0.4),\n",
        "     \"überweise\": (0.8, 0.1),\n",
        "     \"euro\": (0.8, 0.2),\n",
        "     \"geld\": (0.8, 0.2),\n",
        "     \"urlaub\": (0.6, 0.3),\n",
        "     \"paket\": (0.7, 0.3),\n",
        "     \"gespart\": (0.01, 0.2)\n",
        "     }"
      ],
      "execution_count": 55,
      "outputs": []
    },
    {
      "cell_type": "code",
      "metadata": {
        "colab": {
          "base_uri": "https://localhost:8080/"
        },
        "id": "00eQDqUVq8GR",
        "outputId": "36f659e3-2018-4e43-a317-6a3b9f4cdca5"
      },
      "source": [
        "omaspam = spamfinder(P)\n",
        "omaspam(text1)\n",
        "omaspam(text2)"
      ],
      "execution_count": 56,
      "outputs": [
        {
          "output_type": "stream",
          "name": "stdout",
          "text": [
            "Die Nachricht ist Spam. Q = 99.55555555555549\n",
            "Die Nachricht ist von Oma. Q = 0.15555555555555559\n"
          ]
        }
      ]
    },
    {
      "cell_type": "code",
      "metadata": {
        "id": "-x9SrzZRrDfJ"
      },
      "source": [
        ""
      ],
      "execution_count": null,
      "outputs": []
    }
  ]
}