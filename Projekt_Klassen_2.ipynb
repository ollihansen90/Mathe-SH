{
  "nbformat": 4,
  "nbformat_minor": 0,
  "metadata": {
    "colab": {
      "name": "Projekt_Klassen_2.ipynb",
      "provenance": [],
      "collapsed_sections": [
        "6yIL_5WqCz1z",
        "DEK2uIRA4Nki",
        "j_in5wg-CjI2",
        "xqrk66ylCQHM"
      ],
      "authorship_tag": "ABX9TyOBJZJQWrI/bXF+4/OpSCQh",
      "include_colab_link": true
    },
    "kernelspec": {
      "name": "python3",
      "display_name": "Python 3"
    },
    "language_info": {
      "name": "python"
    }
  },
  "cells": [
    {
      "cell_type": "markdown",
      "metadata": {
        "id": "view-in-github",
        "colab_type": "text"
      },
      "source": [
        "<a href=\"https://colab.research.google.com/github/ollihansen90/Mathe-SH/blob/main/Projekt_Klassen_2.ipynb\" target=\"_parent\"><img src=\"https://colab.research.google.com/assets/colab-badge.svg\" alt=\"Open In Colab\"/></a>"
      ]
    },
    {
      "cell_type": "markdown",
      "metadata": {
        "id": "YzFRYmlbJ21_"
      },
      "source": [
        "# Projekt Klassen - Teil 2\n",
        "\n",
        "## Fragen?\n",
        "Solltet ihr Fragen zum Code oder Probleme mit Colab haben, schickt uns gerne eine Mail:\n",
        "\n",
        "*   hohansen@inb.uni-luebeck.de\n",
        "*   maren.wieder@student.uni-luebeck.de\n",
        "*   friederike.meissner@student.uni-luebeck.de\n",
        "*   dustin.haschke@student.uni-luebeck.de"
      ]
    },
    {
      "cell_type": "markdown",
      "metadata": {
        "id": "rZsE-ELHsvZP"
      },
      "source": [
        "#**Einladung zu unserer Farm**\n",
        "\n",
        "Wir wollen heute eine virtuelle Farm erstellen. Dafür verwenden wir Klassen.\n",
        "\n",
        "So soll das Konzept der Klassen weiter verinnerlicht werden, indem wir uns mehr mit den Möglichkeiten dieser Programmiertechnik vertraut machen.\n",
        "\n",
        "Unser Vorwissen aus den letzten Kurseinheiten ist dabei zentral und sollte ggf. nochmals wiederholt werden:\n",
        "- https://github.com/ollihansen90/Mathe-SH/blob/main/Mathe%5ESH_Prog_13_Klassen_Grundlagen.ipynb\n",
        "- https://github.com/ollihansen90/Mathe-SH/blob/main/Mathe%5ESH_Prog_14_Klassen_Vererbung.ipynb\n",
        "\n",
        "Dieser Teil des Projektes basiert auf dem letzten Teil:\n",
        "- https://github.com/ollihansen90/Mathe-SH/blob/main/Projekt_Klassen_1.ipynb\n",
        "\n",
        "Selbstverständlich können einfach die alten (Muster-)Lösungen kopiert werden!"
      ]
    },
    {
      "cell_type": "markdown",
      "source": [
        "## Aufgabe 1 - Vererbung\n",
        "\n",
        "### Feldfrüchte\n",
        "In dieser Teilaufgabe sollen die Klassen `Erdbeere`, `Mais` und `Kartoffel` (und natürlich auch alle anderen, die selbst ausgedacht wurden) von einer Oberklasse `Feldfrucht` erben! `Feldfrucht` soll die Parameter `name`, `einkaufspreis`, `verarbeitungskosten` und `verkaufspreis` haben. Die Unterklassen müssen entsprechend initialisiert werden (Hinweis: `super()`)."
      ],
      "metadata": {
        "id": "a8pqizHprgCo"
      }
    },
    {
      "cell_type": "code",
      "source": [
        "# Hier kommt dein Code hin :-)\n",
        "\n"
      ],
      "metadata": {
        "id": "-ovqosjbFddI"
      },
      "execution_count": null,
      "outputs": []
    },
    {
      "cell_type": "markdown",
      "source": [
        "### Musterlösung zu 1"
      ],
      "metadata": {
        "id": "6yIL_5WqCz1z"
      }
    },
    {
      "cell_type": "code",
      "source": [
        "class Feldfrucht():\n",
        "    def __init__(self, name, einkaufspreis, verarbeitungskosten, verkaufspreis):\n",
        "        self.name = name\n",
        "        self.einkaufspreis = einkaufspreis\n",
        "        self.verarbeitungskosten = verarbeitungskosten\n",
        "        self.verkaufspreis = verkaufspreis\n",
        "\n",
        "class Erdbeere(Feldfrucht):\n",
        "    def __init__(self, einkaufspreis, verarbeitungskosten, verkaufspreis):\n",
        "        super().__init__(\"Erdbeere\", einkaufspreis, verarbeitungskosten, verkaufspreis)\n",
        "\n",
        "class Mais(Feldfrucht):\n",
        "    def __init__(self, einkaufspreis, verarbeitungskosten, verkaufspreis):\n",
        "        super().__init__(\"Mais\", einkaufspreis, verarbeitungskosten, verkaufspreis)\n",
        "\n",
        "class Kartoffel(Feldfrucht):\n",
        "    def __init__(self, einkaufspreis, verarbeitungskosten, verkaufspreis):\n",
        "        super().__init__(\"Kartoffel\", einkaufspreis, verarbeitungskosten, verkaufspreis)\n"
      ],
      "metadata": {
        "id": "RdqvE-8rri0i"
      },
      "execution_count": null,
      "outputs": []
    },
    {
      "cell_type": "markdown",
      "source": [
        "## Aufgabe 2 - Der Markt\n",
        "\n",
        "In dieser Teilaufgabe soll ein Markt erstellt werden, auf dem man Saatgut kaufen und die Erträge verkaufen kann. Hierbei soll der Preis abhängig von der Nachfrage sein (so ähnlich wie im echten Leben). Das können wir simulieren, indem wir einfach eine Zufallszahl generieren lassen (Hinweis: `random.random()`)."
      ],
      "metadata": {
        "id": "9d6ozU0V0cSm"
      }
    },
    {
      "cell_type": "markdown",
      "source": [
        "### Aufgabe 2.1 - Die Zufallszahl\n",
        "Schreibe eine Funktion `faktor`, die keine Übergabeparameter erhält. Innerhalb der Funktion wird eine Zufallszahl zwischen -0.5 und 0.5 generiert. Wenn die generierte Zahl `z` größer als 0 ist, soll `1-z` zurückgegeben werden, wenn die Zahl `z` kleiner als 0 ist, soll `1/(1+z)` zurückgegeben werden. Aus `z=0.1` wird also 0.9, mit `z=-0.25` erhalten wir `1/0.75=4/3=1.333`.\n",
        "\n",
        "Überlege kurz, in welchem Bereich (Intervall) die Zahlen liegen, die zurückgegeben werden."
      ],
      "metadata": {
        "id": "kwHMWyRu3Qpy"
      }
    },
    {
      "cell_type": "code",
      "source": [
        "import random\n",
        "print(random.random())\n",
        "\n",
        "# Hier folgt dein Code\n",
        "\n"
      ],
      "metadata": {
        "colab": {
          "base_uri": "https://localhost:8080/"
        },
        "id": "uuCwUPq_3j7n",
        "outputId": "3d0ab413-4253-44a3-faf1-c36793a503fa"
      },
      "execution_count": 19,
      "outputs": [
        {
          "output_type": "stream",
          "name": "stdout",
          "text": [
            "0.20241632081684435\n"
          ]
        }
      ]
    },
    {
      "cell_type": "markdown",
      "source": [
        "### Musterlösung zu 2.1"
      ],
      "metadata": {
        "id": "DEK2uIRA4Nki"
      }
    },
    {
      "cell_type": "code",
      "source": [
        "import random\n",
        "\n",
        "def faktor():\n",
        "    z = random.random()-0.5\n",
        "    if z<0:\n",
        "        return 1/(1+z)\n",
        "    else:\n",
        "        return 1-z\n"
      ],
      "metadata": {
        "id": "EYkBH_LR0tTx"
      },
      "execution_count": 18,
      "outputs": []
    },
    {
      "cell_type": "markdown",
      "source": [
        "### Aufgabe 2.2 - Der Markt\n",
        "Schreibe eine Klasse `Markt`, die den Ein- und Verkaufspreis berechnet. \n",
        "\n",
        "Bei der Initialisierung soll bereits der gesamte Preisverlauf für alle Pflanzen und die jeweilige Saat feststehen. Die Variablen `verlauf_pflanze` und `verlauf_saat` sind also Listen von Listen. Gleichzeitig soll der Verlauf aber nicht von außen aufrufbar sein. Es handelt sich also um *private Variablen*.\n",
        "\n",
        "Um diese Listen von Listen erstellen zu können, wird eine (private) Methode `set_verlauf` benötigt. Diese Methode soll die Anzahl Tage und Anzahl verschiedener Pflanzen erhalten und entsprechend für jeden Tag eine Liste mit Preisfaktoren zurückgeben. Die Faktoren werden mit Hilfe der Funktion `faktor` aus Teilaufgabe 2.1 erstellt. Wenn wir also 10 Tage mit 3 Pflanzen simulieren möchten, erhalten wir eine Liste von 10 Listen mit jeweils 3 Einträgen.\n",
        "\n",
        "Da `verlauf_pflanze` und `verlauf_saat` private Variablen sind, können wir nicht außerhalb der Klasse `Markt` darauf zugreifen. Um das zu umgehen, wird eine Methode `pflanzenpreise` bzw. `saatpreise` benötigt, die eine Nummer `tag` übergeben bekommt und die Preise zum zugehörigen Tag zurückgibt.\n",
        "\n",
        "Teste deinen Markt, indem du dir die Saat- und Pflanzenpreise am Tag 5 ausgeben lässt (ist schon vorprogrammiert).\n",
        "\n",
        "In einem späteren Teil des Projektes wird der Markt noch erweitert!"
      ],
      "metadata": {
        "id": "2weamyKI4Tyh"
      }
    },
    {
      "cell_type": "code",
      "source": [
        "# Hier kommt dein Code hin :-)\n",
        "\n",
        "# Hier ist der Test:\n",
        "markt = Markt()\n",
        "print(markt.saatpreise(tag=5))\n",
        "print(markt.pflanzenpreise(tag=5))"
      ],
      "metadata": {
        "id": "B6nAg_HlGMeK"
      },
      "execution_count": null,
      "outputs": []
    },
    {
      "cell_type": "markdown",
      "source": [
        "### Musterlösung zu 2.2"
      ],
      "metadata": {
        "id": "j_in5wg-CjI2"
      }
    },
    {
      "cell_type": "code",
      "source": [
        "class Markt():\n",
        "    def __init__(self, n_tage=10, n_pflanzen=3):\n",
        "        self.__verlauf_pflanze = self.__set_verlauf(n_tage, n_pflanzen)\n",
        "        self.__verlauf_saat = self.__set_verlauf(n_tage, n_pflanzen)\n",
        "        print(\"Der Markt wurde initialisiert!\")\n",
        "\n",
        "    def saatpreise(self, tag=0):\n",
        "        return self.__verlauf_saat[tag]\n",
        "\n",
        "    def pflanzenpreise(self, tag=0):\n",
        "        return self.__verlauf_pflanze[tag]\n",
        "\n",
        "    def __set_verlauf(self, n_tage, n_pflanzen):\n",
        "        return [[faktor() for i in range(n_pflanzen)] for _ in range(n_tage)]\n",
        "\n",
        "markt = Markt()\n",
        "print(markt.saatpreise(tag=5))\n",
        "print(markt.pflanzenpreise(tag=5))\n"
      ],
      "metadata": {
        "colab": {
          "base_uri": "https://localhost:8080/"
        },
        "id": "l_hZKUbn4mEp",
        "outputId": "b8e4acfe-ce1d-4710-fe6e-e273ef8cb669"
      },
      "execution_count": 34,
      "outputs": [
        {
          "output_type": "stream",
          "name": "stdout",
          "text": [
            "Der Markt wurde initialisiert!\n",
            "[0.6267745070904316, 1.922414587955476, 0.6133500001052582]\n",
            "[0.5243390837066735, 1.478228673630701, 0.8256339644960181]\n"
          ]
        }
      ]
    },
    {
      "cell_type": "markdown",
      "source": [
        "## Bonusaufgabe 1 - Tiere\n",
        "\n",
        "Um die Vererbung noch weiter zu üben und eine Grundlage für eine Erweiterung unserers Spiels zu erschaffen, wollen wir eine Oberklasse Tiere anlegen und mehrere Klassen, die von dieser erben.\n",
        "\n",
        "Überlegt euch zuerst, was alle Tiere gemeinsam haben sollten und welche Methoden für eine zukünftige Implementierung in das Spiel sinnvoll wären.\n",
        "\n",
        "Überlegt euch außerdem mindestens drei verschiedene Arten von Tieren, die von eurer Klasse Tiere erben.\n",
        "\n",
        "Nicht alle benötigten Klassen zur Implementierung in das vollständige Spiel müssen bereits existieren. Behandelt es einfach so, als wären sie bereits vorhanden. (Das gilt für Dinge wie Stall oder Wiesen auf der Farm.)\n",
        "\n",
        "Für Vorschläge von Tieren, sowie Methoden und Attributen der Klasse Tiere öffnet ,,Vorschläge\"."
      ],
      "metadata": {
        "id": "xqrk66ylCQHM"
      }
    },
    {
      "cell_type": "code",
      "source": [
        "## Hier kommt euer Code hin\n",
        "\n",
        "\n"
      ],
      "metadata": {
        "id": "qhiEq2HqDZ25"
      },
      "execution_count": null,
      "outputs": []
    },
    {
      "cell_type": "markdown",
      "source": [
        "### Vorschläge"
      ],
      "metadata": {
        "id": "BBm0Xr6rDcqc"
      }
    },
    {
      "cell_type": "markdown",
      "source": [
        "Klasse ,,Tiere'': \n",
        "\n",
        "* Mögliche Attribute: Name, Produkt (Eier, Milch, Wolle, ...), Futter (hier sich potentiell auf implmentierte Feldfrüchte beschränken), Einkaufs- und Verkaufspreis, Preis vom Produkt\n",
        "* Mögliche Methoden: Füttern, Sammeln des Produkts, ...\n",
        "\n",
        "Ideen für Tiere: Hühner, Schafe, Kühe, Schafe, Gänse, Enten, ..."
      ],
      "metadata": {
        "id": "4p5O4MhEDjy6"
      }
    },
    {
      "cell_type": "markdown",
      "source": [
        "### Lösungsvorschlag"
      ],
      "metadata": {
        "id": "GYLb9e6eDq-C"
      }
    },
    {
      "cell_type": "code",
      "source": [
        "class Tiere():\n",
        "    def __init__(self, name, produkt, futter, einkaufspreis, produktpreis, verkaufspreis):\n",
        "        self.name = name\n",
        "        self.produkt = produkt\n",
        "        self.futter = futter\n",
        "        self.einkaufspreis = einkaufspreis\n",
        "        self.produktpreis = produktpreis\n",
        "        self.verkaufspreis = verkaufspreis\n",
        "\n",
        "    def fuettern(self):\n",
        "        print(self.name, \"wird gefüttert ... fertig!\")\n",
        "\n",
        "    def produktsammeln(self):\n",
        "        print(self.produkt, \"wird/werden gesammelt.\")\n",
        "        print(\"Der aktuelle Marktwert beträgt\", self.produktpreis) \n",
        "\n",
        "class Huhn(Tiere):\n",
        "    def __init__(self, produkt, futter, einkaufspreis, produktpreis, verkaufspreis):\n",
        "        super().__init__(\"Huhn\", \"Eier\", \"Mais\", einkaufspreis, produktpreis, verkaufspreis)\n",
        "\n",
        "class Kuh(Tiere):\n",
        "    def __init__(self, produkt, futter, einkaufspreis, produktpreis, verkaufspreis):\n",
        "        super().__init__(\"Kuh\", \"Milch\", \"Mais\", einkaufspreis, produktpreis, verkaufspreis)\n",
        "\n",
        "class Schwein(Tiere):\n",
        "    def __init__(self, produkt, futter, einkaufspreis, produktpreis, verkaufspreis):\n",
        "        super().__init__(\"Schwein\", \"Trüffel\", \"Kartoffel\", einkaufspreis, produktpreis, verkaufspreis)\n",
        "\n",
        "class Schaf(Tiere):\n",
        "    def __init__(self, produkt, futter, einkaufspreis, produktpreis, verkaufspreis):\n",
        "        super().__init__(\"Schaf\", \"Wolle\", \"Mais\", einkaufspreis, produktpreis, verkaufspreis)"
      ],
      "metadata": {
        "id": "g5YmDFSDDrZf"
      },
      "execution_count": null,
      "outputs": []
    }
  ]
}