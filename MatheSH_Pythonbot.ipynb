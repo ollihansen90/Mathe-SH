{
  "nbformat": 4,
  "nbformat_minor": 0,
  "metadata": {
    "colab": {
      "provenance": [],
      "authorship_tag": "ABX9TyOwyfIhRg4EsoU/sjoMUgUe",
      "include_colab_link": true
    },
    "kernelspec": {
      "name": "python3",
      "display_name": "Python 3"
    },
    "language_info": {
      "name": "python"
    }
  },
  "cells": [
    {
      "cell_type": "markdown",
      "metadata": {
        "id": "view-in-github",
        "colab_type": "text"
      },
      "source": [
        "<a href=\"https://colab.research.google.com/github/ollihansen90/Mathe-SH/blob/main/MatheSH_Pythonbot.ipynb\" target=\"_parent\"><img src=\"https://colab.research.google.com/assets/colab-badge.svg\" alt=\"Open In Colab\"/></a>"
      ]
    },
    {
      "cell_type": "code",
      "execution_count": null,
      "metadata": {
        "id": "R-lGipauSqVD"
      },
      "outputs": [],
      "source": [
        "import discord\n",
        "\n",
        "TOKEN = \"\"\n",
        "GUILD = \"MatheSH_PythonKurs_Testserver\"\n",
        "\n",
        "intents = discord.Intents.default()\n",
        "intents.message_content = True\n",
        "\n",
        "client = discord.Client(intents=intents)\n",
        "\n",
        "@client.event\n",
        "async def on_ready():\n",
        "    print(f'We have logged in as {client.user}')\n",
        "\n",
        "@client.event\n",
        "async def on_message(message):\n",
        "    print(message.author)\n",
        "    print(message.content)\n",
        "    print(type(message.content))\n",
        "    print(len(message.content))\n",
        "    if message.author == client.user:\n",
        "        return\n",
        "    if message.content.startswith('!hallo'):\n",
        "        await message.reply('Hi!', mention_author=True)\n",
        "\n",
        "client.run(TOKEN)\n"
      ]
    }
  ]
}